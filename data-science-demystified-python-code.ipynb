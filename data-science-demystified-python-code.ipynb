{
 "cells": [
  {
   "cell_type": "markdown",
   "id": "6875e403",
   "metadata": {
    "papermill": {
     "duration": 0.024774,
     "end_time": "2023-01-03T03:50:33.632423",
     "exception": false,
     "start_time": "2023-01-03T03:50:33.607649",
     "status": "completed"
    },
    "tags": []
   },
   "source": [
    "# EXPLORATORY DATA ANALYSIS"
   ]
  },
  {
   "cell_type": "markdown",
   "id": "60c4d7ef",
   "metadata": {
    "papermill": {
     "duration": 0.019916,
     "end_time": "2023-01-03T03:50:33.672997",
     "exception": false,
     "start_time": "2023-01-03T03:50:33.653081",
     "status": "completed"
    },
    "tags": []
   },
   "source": [
    "\n",
    "- Used to understand a company's shortcomings(done after every financial quarter)\n",
    "\n",
    "### Why is it done?\n",
    "* better understanding \n",
    "* identifying data patterns \n",
    "* getting better understand if problem statement\n",
    "* improvement in sales, customer targeting , reduces costs\n",
    "* allows creation of better problem-solving strategies"
   ]
  },
  {
   "cell_type": "markdown",
   "id": "b0b89555",
   "metadata": {
    "papermill": {
     "duration": 0.019396,
     "end_time": "2023-01-03T03:50:33.713150",
     "exception": false,
     "start_time": "2023-01-03T03:50:33.693754",
     "status": "completed"
    },
    "tags": []
   },
   "source": [
    "# How is EDA done?"
   ]
  },
  {
   "cell_type": "markdown",
   "id": "34c21300",
   "metadata": {
    "papermill": {
     "duration": 0.019216,
     "end_time": "2023-01-03T03:50:33.752068",
     "exception": false,
     "start_time": "2023-01-03T03:50:33.732852",
     "status": "completed"
    },
    "tags": []
   },
   "source": [
    "### Iris Dataset\n",
    "* \"Hello world\" of Data Science\n",
    "* 5 Columns\n",
    "    1. Species Type\n",
    "    2. Sepal length\n",
    "    3. Sepal Width\n",
    "    4. Petal Length\n",
    "    5. Petal width\n"
   ]
  },
  {
   "cell_type": "code",
   "execution_count": 1,
   "id": "7245c181",
   "metadata": {
    "execution": {
     "iopub.execute_input": "2023-01-03T03:50:33.794833Z",
     "iopub.status.busy": "2023-01-03T03:50:33.793611Z",
     "iopub.status.idle": "2023-01-03T03:50:33.808110Z",
     "shell.execute_reply": "2023-01-03T03:50:33.806924Z"
    },
    "papermill": {
     "duration": 0.039418,
     "end_time": "2023-01-03T03:50:33.811097",
     "exception": false,
     "start_time": "2023-01-03T03:50:33.771679",
     "status": "completed"
    },
    "tags": []
   },
   "outputs": [],
   "source": [
    "import pandas as pd"
   ]
  },
  {
   "cell_type": "markdown",
   "id": "7fb38421",
   "metadata": {
    "papermill": {
     "duration": 0.019331,
     "end_time": "2023-01-03T03:50:33.850268",
     "exception": false,
     "start_time": "2023-01-03T03:50:33.830937",
     "status": "completed"
    },
    "tags": []
   },
   "source": [
    "**Conversion of csv files into Dataframes**"
   ]
  },
  {
   "cell_type": "code",
   "execution_count": 2,
   "id": "de1e55a0",
   "metadata": {
    "execution": {
     "iopub.execute_input": "2023-01-03T03:50:33.892235Z",
     "iopub.status.busy": "2023-01-03T03:50:33.891418Z",
     "iopub.status.idle": "2023-01-03T03:50:33.912862Z",
     "shell.execute_reply": "2023-01-03T03:50:33.911292Z"
    },
    "papermill": {
     "duration": 0.045996,
     "end_time": "2023-01-03T03:50:33.916029",
     "exception": false,
     "start_time": "2023-01-03T03:50:33.870033",
     "status": "completed"
    },
    "tags": []
   },
   "outputs": [],
   "source": [
    "irisdf=pd.read_csv('/kaggle/input/irisflowerdatasets/IRIS.csv')"
   ]
  },
  {
   "cell_type": "code",
   "execution_count": 3,
   "id": "cf554653",
   "metadata": {
    "execution": {
     "iopub.execute_input": "2023-01-03T03:50:33.958332Z",
     "iopub.status.busy": "2023-01-03T03:50:33.957841Z",
     "iopub.status.idle": "2023-01-03T03:50:33.970142Z",
     "shell.execute_reply": "2023-01-03T03:50:33.968731Z"
    },
    "papermill": {
     "duration": 0.036931,
     "end_time": "2023-01-03T03:50:33.973147",
     "exception": false,
     "start_time": "2023-01-03T03:50:33.936216",
     "status": "completed"
    },
    "tags": []
   },
   "outputs": [],
   "source": [
    "iris1df=pd.read_csv('/kaggle/input/irisflowerdatasets/IRIS1.csv')"
   ]
  },
  {
   "cell_type": "markdown",
   "id": "f63ce4ce",
   "metadata": {
    "papermill": {
     "duration": 0.020383,
     "end_time": "2023-01-03T03:50:34.013766",
     "exception": false,
     "start_time": "2023-01-03T03:50:33.993383",
     "status": "completed"
    },
    "tags": []
   },
   "source": [
    "**Basic Operations**"
   ]
  },
  {
   "cell_type": "markdown",
   "id": "79caf56b",
   "metadata": {
    "papermill": {
     "duration": 0.021392,
     "end_time": "2023-01-03T03:50:34.056235",
     "exception": false,
     "start_time": "2023-01-03T03:50:34.034843",
     "status": "completed"
    },
    "tags": []
   },
   "source": [
    "**1.Head() and Tail()**"
   ]
  },
  {
   "cell_type": "code",
   "execution_count": 4,
   "id": "74658a8b",
   "metadata": {
    "execution": {
     "iopub.execute_input": "2023-01-03T03:50:34.101111Z",
     "iopub.status.busy": "2023-01-03T03:50:34.100648Z",
     "iopub.status.idle": "2023-01-03T03:50:34.139045Z",
     "shell.execute_reply": "2023-01-03T03:50:34.137416Z"
    },
    "papermill": {
     "duration": 0.064496,
     "end_time": "2023-01-03T03:50:34.141859",
     "exception": false,
     "start_time": "2023-01-03T03:50:34.077363",
     "status": "completed"
    },
    "tags": []
   },
   "outputs": [
    {
     "data": {
      "text/html": [
       "<div>\n",
       "<style scoped>\n",
       "    .dataframe tbody tr th:only-of-type {\n",
       "        vertical-align: middle;\n",
       "    }\n",
       "\n",
       "    .dataframe tbody tr th {\n",
       "        vertical-align: top;\n",
       "    }\n",
       "\n",
       "    .dataframe thead th {\n",
       "        text-align: right;\n",
       "    }\n",
       "</style>\n",
       "<table border=\"1\" class=\"dataframe\">\n",
       "  <thead>\n",
       "    <tr style=\"text-align: right;\">\n",
       "      <th></th>\n",
       "      <th>sepal_length</th>\n",
       "      <th>sepal_width</th>\n",
       "      <th>petal_length</th>\n",
       "      <th>petal_width</th>\n",
       "      <th>species</th>\n",
       "    </tr>\n",
       "  </thead>\n",
       "  <tbody>\n",
       "    <tr>\n",
       "      <th>0</th>\n",
       "      <td>5.1</td>\n",
       "      <td>3.5</td>\n",
       "      <td>1.4</td>\n",
       "      <td>0.2</td>\n",
       "      <td>Iris-setosa</td>\n",
       "    </tr>\n",
       "    <tr>\n",
       "      <th>1</th>\n",
       "      <td>4.9</td>\n",
       "      <td>3.0</td>\n",
       "      <td>1.4</td>\n",
       "      <td>0.2</td>\n",
       "      <td>Iris-setosa</td>\n",
       "    </tr>\n",
       "    <tr>\n",
       "      <th>2</th>\n",
       "      <td>4.7</td>\n",
       "      <td>3.2</td>\n",
       "      <td>1.3</td>\n",
       "      <td>0.2</td>\n",
       "      <td>Iris-setosa</td>\n",
       "    </tr>\n",
       "    <tr>\n",
       "      <th>3</th>\n",
       "      <td>4.6</td>\n",
       "      <td>3.1</td>\n",
       "      <td>1.5</td>\n",
       "      <td>0.2</td>\n",
       "      <td>Iris-setosa</td>\n",
       "    </tr>\n",
       "    <tr>\n",
       "      <th>4</th>\n",
       "      <td>5.0</td>\n",
       "      <td>3.6</td>\n",
       "      <td>1.4</td>\n",
       "      <td>0.2</td>\n",
       "      <td>Iris-setosa</td>\n",
       "    </tr>\n",
       "    <tr>\n",
       "      <th>5</th>\n",
       "      <td>5.4</td>\n",
       "      <td>3.9</td>\n",
       "      <td>1.7</td>\n",
       "      <td>0.4</td>\n",
       "      <td>Iris-setosa</td>\n",
       "    </tr>\n",
       "    <tr>\n",
       "      <th>6</th>\n",
       "      <td>4.6</td>\n",
       "      <td>3.4</td>\n",
       "      <td>1.4</td>\n",
       "      <td>0.3</td>\n",
       "      <td>Iris-setosa</td>\n",
       "    </tr>\n",
       "    <tr>\n",
       "      <th>7</th>\n",
       "      <td>5.0</td>\n",
       "      <td>3.4</td>\n",
       "      <td>1.5</td>\n",
       "      <td>0.2</td>\n",
       "      <td>Iris-setosa</td>\n",
       "    </tr>\n",
       "    <tr>\n",
       "      <th>8</th>\n",
       "      <td>4.4</td>\n",
       "      <td>2.9</td>\n",
       "      <td>1.4</td>\n",
       "      <td>0.2</td>\n",
       "      <td>Iris-setosa</td>\n",
       "    </tr>\n",
       "    <tr>\n",
       "      <th>9</th>\n",
       "      <td>4.9</td>\n",
       "      <td>3.1</td>\n",
       "      <td>1.5</td>\n",
       "      <td>0.1</td>\n",
       "      <td>Iris-setosa</td>\n",
       "    </tr>\n",
       "  </tbody>\n",
       "</table>\n",
       "</div>"
      ],
      "text/plain": [
       "   sepal_length  sepal_width  petal_length  petal_width      species\n",
       "0           5.1          3.5           1.4          0.2  Iris-setosa\n",
       "1           4.9          3.0           1.4          0.2  Iris-setosa\n",
       "2           4.7          3.2           1.3          0.2  Iris-setosa\n",
       "3           4.6          3.1           1.5          0.2  Iris-setosa\n",
       "4           5.0          3.6           1.4          0.2  Iris-setosa\n",
       "5           5.4          3.9           1.7          0.4  Iris-setosa\n",
       "6           4.6          3.4           1.4          0.3  Iris-setosa\n",
       "7           5.0          3.4           1.5          0.2  Iris-setosa\n",
       "8           4.4          2.9           1.4          0.2  Iris-setosa\n",
       "9           4.9          3.1           1.5          0.1  Iris-setosa"
      ]
     },
     "execution_count": 4,
     "metadata": {},
     "output_type": "execute_result"
    }
   ],
   "source": [
    "irisdf.head(10)"
   ]
  },
  {
   "cell_type": "code",
   "execution_count": 5,
   "id": "c27e25a6",
   "metadata": {
    "execution": {
     "iopub.execute_input": "2023-01-03T03:50:34.184299Z",
     "iopub.status.busy": "2023-01-03T03:50:34.183737Z",
     "iopub.status.idle": "2023-01-03T03:50:34.200987Z",
     "shell.execute_reply": "2023-01-03T03:50:34.199440Z"
    },
    "papermill": {
     "duration": 0.041455,
     "end_time": "2023-01-03T03:50:34.203449",
     "exception": false,
     "start_time": "2023-01-03T03:50:34.161994",
     "status": "completed"
    },
    "tags": []
   },
   "outputs": [
    {
     "data": {
      "text/html": [
       "<div>\n",
       "<style scoped>\n",
       "    .dataframe tbody tr th:only-of-type {\n",
       "        vertical-align: middle;\n",
       "    }\n",
       "\n",
       "    .dataframe tbody tr th {\n",
       "        vertical-align: top;\n",
       "    }\n",
       "\n",
       "    .dataframe thead th {\n",
       "        text-align: right;\n",
       "    }\n",
       "</style>\n",
       "<table border=\"1\" class=\"dataframe\">\n",
       "  <thead>\n",
       "    <tr style=\"text-align: right;\">\n",
       "      <th></th>\n",
       "      <th>sepal_length</th>\n",
       "      <th>sepal_width</th>\n",
       "      <th>petal_length</th>\n",
       "      <th>petal_width</th>\n",
       "      <th>species</th>\n",
       "    </tr>\n",
       "  </thead>\n",
       "  <tbody>\n",
       "    <tr>\n",
       "      <th>145</th>\n",
       "      <td>6.7</td>\n",
       "      <td>3.0</td>\n",
       "      <td>5.2</td>\n",
       "      <td>2.3</td>\n",
       "      <td>Iris-virginica</td>\n",
       "    </tr>\n",
       "    <tr>\n",
       "      <th>146</th>\n",
       "      <td>6.3</td>\n",
       "      <td>2.5</td>\n",
       "      <td>5.0</td>\n",
       "      <td>1.9</td>\n",
       "      <td>Iris-virginica</td>\n",
       "    </tr>\n",
       "    <tr>\n",
       "      <th>147</th>\n",
       "      <td>6.5</td>\n",
       "      <td>3.0</td>\n",
       "      <td>5.2</td>\n",
       "      <td>2.0</td>\n",
       "      <td>Iris-virginica</td>\n",
       "    </tr>\n",
       "    <tr>\n",
       "      <th>148</th>\n",
       "      <td>6.2</td>\n",
       "      <td>3.4</td>\n",
       "      <td>5.4</td>\n",
       "      <td>2.3</td>\n",
       "      <td>Iris-virginica</td>\n",
       "    </tr>\n",
       "    <tr>\n",
       "      <th>149</th>\n",
       "      <td>5.9</td>\n",
       "      <td>3.0</td>\n",
       "      <td>5.1</td>\n",
       "      <td>1.8</td>\n",
       "      <td>Iris-virginica</td>\n",
       "    </tr>\n",
       "  </tbody>\n",
       "</table>\n",
       "</div>"
      ],
      "text/plain": [
       "     sepal_length  sepal_width  petal_length  petal_width         species\n",
       "145           6.7          3.0           5.2          2.3  Iris-virginica\n",
       "146           6.3          2.5           5.0          1.9  Iris-virginica\n",
       "147           6.5          3.0           5.2          2.0  Iris-virginica\n",
       "148           6.2          3.4           5.4          2.3  Iris-virginica\n",
       "149           5.9          3.0           5.1          1.8  Iris-virginica"
      ]
     },
     "execution_count": 5,
     "metadata": {},
     "output_type": "execute_result"
    }
   ],
   "source": [
    "irisdf.tail()"
   ]
  },
  {
   "cell_type": "code",
   "execution_count": 6,
   "id": "17016849",
   "metadata": {
    "execution": {
     "iopub.execute_input": "2023-01-03T03:50:34.246695Z",
     "iopub.status.busy": "2023-01-03T03:50:34.245555Z",
     "iopub.status.idle": "2023-01-03T03:50:34.263754Z",
     "shell.execute_reply": "2023-01-03T03:50:34.262529Z"
    },
    "papermill": {
     "duration": 0.04253,
     "end_time": "2023-01-03T03:50:34.266359",
     "exception": false,
     "start_time": "2023-01-03T03:50:34.223829",
     "status": "completed"
    },
    "tags": []
   },
   "outputs": [
    {
     "data": {
      "text/html": [
       "<div>\n",
       "<style scoped>\n",
       "    .dataframe tbody tr th:only-of-type {\n",
       "        vertical-align: middle;\n",
       "    }\n",
       "\n",
       "    .dataframe tbody tr th {\n",
       "        vertical-align: top;\n",
       "    }\n",
       "\n",
       "    .dataframe thead th {\n",
       "        text-align: right;\n",
       "    }\n",
       "</style>\n",
       "<table border=\"1\" class=\"dataframe\">\n",
       "  <thead>\n",
       "    <tr style=\"text-align: right;\">\n",
       "      <th></th>\n",
       "      <th>sepal_length</th>\n",
       "      <th>sepal_width</th>\n",
       "      <th>petal_length</th>\n",
       "      <th>petal_width</th>\n",
       "      <th>species</th>\n",
       "    </tr>\n",
       "  </thead>\n",
       "  <tbody>\n",
       "    <tr>\n",
       "      <th>0</th>\n",
       "      <td>5.1</td>\n",
       "      <td>3.5</td>\n",
       "      <td>1.4</td>\n",
       "      <td>0.2</td>\n",
       "      <td>Iris-setosa</td>\n",
       "    </tr>\n",
       "    <tr>\n",
       "      <th>1</th>\n",
       "      <td>4.9</td>\n",
       "      <td>3.0</td>\n",
       "      <td>NaN</td>\n",
       "      <td>0.2</td>\n",
       "      <td>Iris-setosa</td>\n",
       "    </tr>\n",
       "    <tr>\n",
       "      <th>2</th>\n",
       "      <td>4.7</td>\n",
       "      <td>3.2</td>\n",
       "      <td>1.3</td>\n",
       "      <td>0.2</td>\n",
       "      <td>Iris-setosa</td>\n",
       "    </tr>\n",
       "    <tr>\n",
       "      <th>3</th>\n",
       "      <td>4.6</td>\n",
       "      <td>3.1</td>\n",
       "      <td>1.5</td>\n",
       "      <td>0.2</td>\n",
       "      <td>NaN</td>\n",
       "    </tr>\n",
       "    <tr>\n",
       "      <th>4</th>\n",
       "      <td>5.0</td>\n",
       "      <td>3.6</td>\n",
       "      <td>1.4</td>\n",
       "      <td>0.2</td>\n",
       "      <td>Iris-setosa</td>\n",
       "    </tr>\n",
       "    <tr>\n",
       "      <th>5</th>\n",
       "      <td>5.4</td>\n",
       "      <td>3.9</td>\n",
       "      <td>1.7</td>\n",
       "      <td>0.4</td>\n",
       "      <td>Iris-setosa</td>\n",
       "    </tr>\n",
       "    <tr>\n",
       "      <th>6</th>\n",
       "      <td>4.6</td>\n",
       "      <td>3.4</td>\n",
       "      <td>1.4</td>\n",
       "      <td>0.3</td>\n",
       "      <td>Iris-setosa</td>\n",
       "    </tr>\n",
       "    <tr>\n",
       "      <th>7</th>\n",
       "      <td>5.0</td>\n",
       "      <td>3.4</td>\n",
       "      <td>1.5</td>\n",
       "      <td>NaN</td>\n",
       "      <td>Iris-setosa</td>\n",
       "    </tr>\n",
       "    <tr>\n",
       "      <th>8</th>\n",
       "      <td>4.4</td>\n",
       "      <td>2.9</td>\n",
       "      <td>1.4</td>\n",
       "      <td>0.2</td>\n",
       "      <td>Iris-setosa</td>\n",
       "    </tr>\n",
       "    <tr>\n",
       "      <th>9</th>\n",
       "      <td>4.9</td>\n",
       "      <td>3.1</td>\n",
       "      <td>NaN</td>\n",
       "      <td>0.1</td>\n",
       "      <td>Iris-setosa</td>\n",
       "    </tr>\n",
       "  </tbody>\n",
       "</table>\n",
       "</div>"
      ],
      "text/plain": [
       "   sepal_length  sepal_width  petal_length  petal_width      species\n",
       "0           5.1          3.5           1.4          0.2  Iris-setosa\n",
       "1           4.9          3.0           NaN          0.2  Iris-setosa\n",
       "2           4.7          3.2           1.3          0.2  Iris-setosa\n",
       "3           4.6          3.1           1.5          0.2          NaN\n",
       "4           5.0          3.6           1.4          0.2  Iris-setosa\n",
       "5           5.4          3.9           1.7          0.4  Iris-setosa\n",
       "6           4.6          3.4           1.4          0.3  Iris-setosa\n",
       "7           5.0          3.4           1.5          NaN  Iris-setosa\n",
       "8           4.4          2.9           1.4          0.2  Iris-setosa\n",
       "9           4.9          3.1           NaN          0.1  Iris-setosa"
      ]
     },
     "execution_count": 6,
     "metadata": {},
     "output_type": "execute_result"
    }
   ],
   "source": [
    "iris1df.head(10)"
   ]
  },
  {
   "cell_type": "code",
   "execution_count": 7,
   "id": "41e3b01c",
   "metadata": {
    "execution": {
     "iopub.execute_input": "2023-01-03T03:50:34.309468Z",
     "iopub.status.busy": "2023-01-03T03:50:34.308974Z",
     "iopub.status.idle": "2023-01-03T03:50:34.329725Z",
     "shell.execute_reply": "2023-01-03T03:50:34.328220Z"
    },
    "papermill": {
     "duration": 0.045223,
     "end_time": "2023-01-03T03:50:34.332199",
     "exception": false,
     "start_time": "2023-01-03T03:50:34.286976",
     "status": "completed"
    },
    "tags": []
   },
   "outputs": [
    {
     "data": {
      "text/html": [
       "<div>\n",
       "<style scoped>\n",
       "    .dataframe tbody tr th:only-of-type {\n",
       "        vertical-align: middle;\n",
       "    }\n",
       "\n",
       "    .dataframe tbody tr th {\n",
       "        vertical-align: top;\n",
       "    }\n",
       "\n",
       "    .dataframe thead th {\n",
       "        text-align: right;\n",
       "    }\n",
       "</style>\n",
       "<table border=\"1\" class=\"dataframe\">\n",
       "  <thead>\n",
       "    <tr style=\"text-align: right;\">\n",
       "      <th></th>\n",
       "      <th>sepal_length</th>\n",
       "      <th>sepal_width</th>\n",
       "      <th>petal_length</th>\n",
       "      <th>petal_width</th>\n",
       "      <th>species</th>\n",
       "    </tr>\n",
       "  </thead>\n",
       "  <tbody>\n",
       "    <tr>\n",
       "      <th>130</th>\n",
       "      <td>7.4</td>\n",
       "      <td>2.8</td>\n",
       "      <td>6.1</td>\n",
       "      <td>1.9</td>\n",
       "      <td>Iris-virginica</td>\n",
       "    </tr>\n",
       "    <tr>\n",
       "      <th>131</th>\n",
       "      <td>7.9</td>\n",
       "      <td>3.8</td>\n",
       "      <td>6.4</td>\n",
       "      <td>2.0</td>\n",
       "      <td>Iris-virginica</td>\n",
       "    </tr>\n",
       "    <tr>\n",
       "      <th>132</th>\n",
       "      <td>6.4</td>\n",
       "      <td>2.8</td>\n",
       "      <td>NaN</td>\n",
       "      <td>2.2</td>\n",
       "      <td>Iris-virginica</td>\n",
       "    </tr>\n",
       "    <tr>\n",
       "      <th>133</th>\n",
       "      <td>6.3</td>\n",
       "      <td>2.8</td>\n",
       "      <td>5.1</td>\n",
       "      <td>1.5</td>\n",
       "      <td>Iris-virginica</td>\n",
       "    </tr>\n",
       "    <tr>\n",
       "      <th>134</th>\n",
       "      <td>6.1</td>\n",
       "      <td>2.6</td>\n",
       "      <td>5.6</td>\n",
       "      <td>1.4</td>\n",
       "      <td>Iris-virginica</td>\n",
       "    </tr>\n",
       "    <tr>\n",
       "      <th>135</th>\n",
       "      <td>7.7</td>\n",
       "      <td>3.0</td>\n",
       "      <td>6.1</td>\n",
       "      <td>2.3</td>\n",
       "      <td>Iris-virginica</td>\n",
       "    </tr>\n",
       "    <tr>\n",
       "      <th>136</th>\n",
       "      <td>6.3</td>\n",
       "      <td>3.4</td>\n",
       "      <td>5.6</td>\n",
       "      <td>2.4</td>\n",
       "      <td>Iris-virginica</td>\n",
       "    </tr>\n",
       "    <tr>\n",
       "      <th>137</th>\n",
       "      <td>6.4</td>\n",
       "      <td>3.1</td>\n",
       "      <td>5.5</td>\n",
       "      <td>1.8</td>\n",
       "      <td>Iris-virginica</td>\n",
       "    </tr>\n",
       "    <tr>\n",
       "      <th>138</th>\n",
       "      <td>NaN</td>\n",
       "      <td>4.8</td>\n",
       "      <td>1.8</td>\n",
       "      <td>NaN</td>\n",
       "      <td>NaN</td>\n",
       "    </tr>\n",
       "    <tr>\n",
       "      <th>139</th>\n",
       "      <td>6.9</td>\n",
       "      <td>3.1</td>\n",
       "      <td>5.4</td>\n",
       "      <td>2.1</td>\n",
       "      <td>Iris-virginica</td>\n",
       "    </tr>\n",
       "    <tr>\n",
       "      <th>140</th>\n",
       "      <td>6.7</td>\n",
       "      <td>3.1</td>\n",
       "      <td>5.6</td>\n",
       "      <td>2.4</td>\n",
       "      <td>Iris-virginica</td>\n",
       "    </tr>\n",
       "    <tr>\n",
       "      <th>141</th>\n",
       "      <td>NaN</td>\n",
       "      <td>3.1</td>\n",
       "      <td>5.1</td>\n",
       "      <td>2.3</td>\n",
       "      <td>Iris-virginica</td>\n",
       "    </tr>\n",
       "    <tr>\n",
       "      <th>142</th>\n",
       "      <td>5.8</td>\n",
       "      <td>2.7</td>\n",
       "      <td>5.1</td>\n",
       "      <td>1.9</td>\n",
       "      <td>Iris-virginica</td>\n",
       "    </tr>\n",
       "    <tr>\n",
       "      <th>143</th>\n",
       "      <td>6.8</td>\n",
       "      <td>3.2</td>\n",
       "      <td>5.9</td>\n",
       "      <td>2.3</td>\n",
       "      <td>Iris-virginica</td>\n",
       "    </tr>\n",
       "    <tr>\n",
       "      <th>144</th>\n",
       "      <td>6.7</td>\n",
       "      <td>NaN</td>\n",
       "      <td>5.7</td>\n",
       "      <td>2.5</td>\n",
       "      <td>Iris-virginica</td>\n",
       "    </tr>\n",
       "    <tr>\n",
       "      <th>145</th>\n",
       "      <td>6.7</td>\n",
       "      <td>3.0</td>\n",
       "      <td>5.2</td>\n",
       "      <td>2.3</td>\n",
       "      <td>Iris-virginica</td>\n",
       "    </tr>\n",
       "    <tr>\n",
       "      <th>146</th>\n",
       "      <td>6.3</td>\n",
       "      <td>2.5</td>\n",
       "      <td>NaN</td>\n",
       "      <td>1.9</td>\n",
       "      <td>Iris-virginica</td>\n",
       "    </tr>\n",
       "    <tr>\n",
       "      <th>147</th>\n",
       "      <td>6.5</td>\n",
       "      <td>3.0</td>\n",
       "      <td>5.2</td>\n",
       "      <td>2.0</td>\n",
       "      <td>NaN</td>\n",
       "    </tr>\n",
       "    <tr>\n",
       "      <th>148</th>\n",
       "      <td>6.2</td>\n",
       "      <td>3.4</td>\n",
       "      <td>5.4</td>\n",
       "      <td>2.3</td>\n",
       "      <td>Iris-virginica</td>\n",
       "    </tr>\n",
       "    <tr>\n",
       "      <th>149</th>\n",
       "      <td>5.9</td>\n",
       "      <td>3.0</td>\n",
       "      <td>NaN</td>\n",
       "      <td>1.8</td>\n",
       "      <td>Iris-virginica</td>\n",
       "    </tr>\n",
       "  </tbody>\n",
       "</table>\n",
       "</div>"
      ],
      "text/plain": [
       "     sepal_length  sepal_width  petal_length  petal_width         species\n",
       "130           7.4          2.8           6.1          1.9  Iris-virginica\n",
       "131           7.9          3.8           6.4          2.0  Iris-virginica\n",
       "132           6.4          2.8           NaN          2.2  Iris-virginica\n",
       "133           6.3          2.8           5.1          1.5  Iris-virginica\n",
       "134           6.1          2.6           5.6          1.4  Iris-virginica\n",
       "135           7.7          3.0           6.1          2.3  Iris-virginica\n",
       "136           6.3          3.4           5.6          2.4  Iris-virginica\n",
       "137           6.4          3.1           5.5          1.8  Iris-virginica\n",
       "138           NaN          4.8           1.8          NaN             NaN\n",
       "139           6.9          3.1           5.4          2.1  Iris-virginica\n",
       "140           6.7          3.1           5.6          2.4  Iris-virginica\n",
       "141           NaN          3.1           5.1          2.3  Iris-virginica\n",
       "142           5.8          2.7           5.1          1.9  Iris-virginica\n",
       "143           6.8          3.2           5.9          2.3  Iris-virginica\n",
       "144           6.7          NaN           5.7          2.5  Iris-virginica\n",
       "145           6.7          3.0           5.2          2.3  Iris-virginica\n",
       "146           6.3          2.5           NaN          1.9  Iris-virginica\n",
       "147           6.5          3.0           5.2          2.0             NaN\n",
       "148           6.2          3.4           5.4          2.3  Iris-virginica\n",
       "149           5.9          3.0           NaN          1.8  Iris-virginica"
      ]
     },
     "execution_count": 7,
     "metadata": {},
     "output_type": "execute_result"
    }
   ],
   "source": [
    "iris1df.tail(20)"
   ]
  },
  {
   "cell_type": "markdown",
   "id": "1b7cd9c4",
   "metadata": {
    "papermill": {
     "duration": 0.020509,
     "end_time": "2023-01-03T03:50:34.373113",
     "exception": false,
     "start_time": "2023-01-03T03:50:34.352604",
     "status": "completed"
    },
    "tags": []
   },
   "source": [
    "# shape of data\n",
    "**2. shape**"
   ]
  },
  {
   "cell_type": "code",
   "execution_count": 8,
   "id": "2eae8cb9",
   "metadata": {
    "execution": {
     "iopub.execute_input": "2023-01-03T03:50:34.416964Z",
     "iopub.status.busy": "2023-01-03T03:50:34.415708Z",
     "iopub.status.idle": "2023-01-03T03:50:34.424146Z",
     "shell.execute_reply": "2023-01-03T03:50:34.422717Z"
    },
    "papermill": {
     "duration": 0.033,
     "end_time": "2023-01-03T03:50:34.426856",
     "exception": false,
     "start_time": "2023-01-03T03:50:34.393856",
     "status": "completed"
    },
    "tags": []
   },
   "outputs": [
    {
     "data": {
      "text/plain": [
       "(150, 5)"
      ]
     },
     "execution_count": 8,
     "metadata": {},
     "output_type": "execute_result"
    }
   ],
   "source": [
    "#shape\n",
    "irisdf.shape"
   ]
  },
  {
   "cell_type": "code",
   "execution_count": 9,
   "id": "72dade7f",
   "metadata": {
    "execution": {
     "iopub.execute_input": "2023-01-03T03:50:34.472386Z",
     "iopub.status.busy": "2023-01-03T03:50:34.471910Z",
     "iopub.status.idle": "2023-01-03T03:50:34.479852Z",
     "shell.execute_reply": "2023-01-03T03:50:34.478326Z"
    },
    "papermill": {
     "duration": 0.033956,
     "end_time": "2023-01-03T03:50:34.482354",
     "exception": false,
     "start_time": "2023-01-03T03:50:34.448398",
     "status": "completed"
    },
    "tags": []
   },
   "outputs": [
    {
     "data": {
      "text/plain": [
       "(150, 5)"
      ]
     },
     "execution_count": 9,
     "metadata": {},
     "output_type": "execute_result"
    }
   ],
   "source": [
    "#shape\n",
    "iris1df.shape"
   ]
  },
  {
   "cell_type": "markdown",
   "id": "e52d4f9a",
   "metadata": {
    "papermill": {
     "duration": 0.021247,
     "end_time": "2023-01-03T03:50:34.524963",
     "exception": false,
     "start_time": "2023-01-03T03:50:34.503716",
     "status": "completed"
    },
    "tags": []
   },
   "source": [
    "**3. Describe() and Info()**"
   ]
  },
  {
   "cell_type": "code",
   "execution_count": 10,
   "id": "3026e89f",
   "metadata": {
    "execution": {
     "iopub.execute_input": "2023-01-03T03:50:34.569442Z",
     "iopub.status.busy": "2023-01-03T03:50:34.568983Z",
     "iopub.status.idle": "2023-01-03T03:50:34.610216Z",
     "shell.execute_reply": "2023-01-03T03:50:34.608503Z"
    },
    "papermill": {
     "duration": 0.06801,
     "end_time": "2023-01-03T03:50:34.614305",
     "exception": false,
     "start_time": "2023-01-03T03:50:34.546295",
     "status": "completed"
    },
    "tags": []
   },
   "outputs": [
    {
     "data": {
      "text/html": [
       "<div>\n",
       "<style scoped>\n",
       "    .dataframe tbody tr th:only-of-type {\n",
       "        vertical-align: middle;\n",
       "    }\n",
       "\n",
       "    .dataframe tbody tr th {\n",
       "        vertical-align: top;\n",
       "    }\n",
       "\n",
       "    .dataframe thead th {\n",
       "        text-align: right;\n",
       "    }\n",
       "</style>\n",
       "<table border=\"1\" class=\"dataframe\">\n",
       "  <thead>\n",
       "    <tr style=\"text-align: right;\">\n",
       "      <th></th>\n",
       "      <th>sepal_length</th>\n",
       "      <th>sepal_width</th>\n",
       "      <th>petal_length</th>\n",
       "      <th>petal_width</th>\n",
       "    </tr>\n",
       "  </thead>\n",
       "  <tbody>\n",
       "    <tr>\n",
       "      <th>count</th>\n",
       "      <td>150.000000</td>\n",
       "      <td>150.000000</td>\n",
       "      <td>150.000000</td>\n",
       "      <td>150.000000</td>\n",
       "    </tr>\n",
       "    <tr>\n",
       "      <th>mean</th>\n",
       "      <td>5.843333</td>\n",
       "      <td>3.054000</td>\n",
       "      <td>3.758667</td>\n",
       "      <td>1.198667</td>\n",
       "    </tr>\n",
       "    <tr>\n",
       "      <th>std</th>\n",
       "      <td>0.828066</td>\n",
       "      <td>0.433594</td>\n",
       "      <td>1.764420</td>\n",
       "      <td>0.763161</td>\n",
       "    </tr>\n",
       "    <tr>\n",
       "      <th>min</th>\n",
       "      <td>4.300000</td>\n",
       "      <td>2.000000</td>\n",
       "      <td>1.000000</td>\n",
       "      <td>0.100000</td>\n",
       "    </tr>\n",
       "    <tr>\n",
       "      <th>25%</th>\n",
       "      <td>5.100000</td>\n",
       "      <td>2.800000</td>\n",
       "      <td>1.600000</td>\n",
       "      <td>0.300000</td>\n",
       "    </tr>\n",
       "    <tr>\n",
       "      <th>50%</th>\n",
       "      <td>5.800000</td>\n",
       "      <td>3.000000</td>\n",
       "      <td>4.350000</td>\n",
       "      <td>1.300000</td>\n",
       "    </tr>\n",
       "    <tr>\n",
       "      <th>75%</th>\n",
       "      <td>6.400000</td>\n",
       "      <td>3.300000</td>\n",
       "      <td>5.100000</td>\n",
       "      <td>1.800000</td>\n",
       "    </tr>\n",
       "    <tr>\n",
       "      <th>max</th>\n",
       "      <td>7.900000</td>\n",
       "      <td>4.400000</td>\n",
       "      <td>6.900000</td>\n",
       "      <td>2.500000</td>\n",
       "    </tr>\n",
       "  </tbody>\n",
       "</table>\n",
       "</div>"
      ],
      "text/plain": [
       "       sepal_length  sepal_width  petal_length  petal_width\n",
       "count    150.000000   150.000000    150.000000   150.000000\n",
       "mean       5.843333     3.054000      3.758667     1.198667\n",
       "std        0.828066     0.433594      1.764420     0.763161\n",
       "min        4.300000     2.000000      1.000000     0.100000\n",
       "25%        5.100000     2.800000      1.600000     0.300000\n",
       "50%        5.800000     3.000000      4.350000     1.300000\n",
       "75%        6.400000     3.300000      5.100000     1.800000\n",
       "max        7.900000     4.400000      6.900000     2.500000"
      ]
     },
     "execution_count": 10,
     "metadata": {},
     "output_type": "execute_result"
    }
   ],
   "source": [
    "#describe\n",
    "irisdf.describe()"
   ]
  },
  {
   "cell_type": "markdown",
   "id": "99f6451c",
   "metadata": {
    "papermill": {
     "duration": 0.034149,
     "end_time": "2023-01-03T03:50:34.676999",
     "exception": false,
     "start_time": "2023-01-03T03:50:34.642850",
     "status": "completed"
    },
    "tags": []
   },
   "source": [
    "**Note: 25 50 and 75 are percentiles. They represent modes** \n",
    "\n",
    "**eg :25 percent of sepal_length values are less than or equal to 5.1**"
   ]
  },
  {
   "cell_type": "code",
   "execution_count": 11,
   "id": "c340a41b",
   "metadata": {
    "execution": {
     "iopub.execute_input": "2023-01-03T03:50:34.735494Z",
     "iopub.status.busy": "2023-01-03T03:50:34.735091Z",
     "iopub.status.idle": "2023-01-03T03:50:34.755554Z",
     "shell.execute_reply": "2023-01-03T03:50:34.754595Z"
    },
    "papermill": {
     "duration": 0.059263,
     "end_time": "2023-01-03T03:50:34.758674",
     "exception": false,
     "start_time": "2023-01-03T03:50:34.699411",
     "status": "completed"
    },
    "tags": []
   },
   "outputs": [
    {
     "name": "stdout",
     "output_type": "stream",
     "text": [
      "<class 'pandas.core.frame.DataFrame'>\n",
      "RangeIndex: 150 entries, 0 to 149\n",
      "Data columns (total 5 columns):\n",
      " #   Column        Non-Null Count  Dtype  \n",
      "---  ------        --------------  -----  \n",
      " 0   sepal_length  150 non-null    float64\n",
      " 1   sepal_width   150 non-null    float64\n",
      " 2   petal_length  150 non-null    float64\n",
      " 3   petal_width   150 non-null    float64\n",
      " 4   species       150 non-null    object \n",
      "dtypes: float64(4), object(1)\n",
      "memory usage: 6.0+ KB\n"
     ]
    }
   ],
   "source": [
    "#info\n",
    "irisdf.info()"
   ]
  },
  {
   "cell_type": "code",
   "execution_count": 12,
   "id": "0ce03779",
   "metadata": {
    "execution": {
     "iopub.execute_input": "2023-01-03T03:50:34.807545Z",
     "iopub.status.busy": "2023-01-03T03:50:34.807100Z",
     "iopub.status.idle": "2023-01-03T03:50:34.835582Z",
     "shell.execute_reply": "2023-01-03T03:50:34.833824Z"
    },
    "papermill": {
     "duration": 0.056348,
     "end_time": "2023-01-03T03:50:34.838513",
     "exception": false,
     "start_time": "2023-01-03T03:50:34.782165",
     "status": "completed"
    },
    "tags": []
   },
   "outputs": [
    {
     "data": {
      "text/html": [
       "<div>\n",
       "<style scoped>\n",
       "    .dataframe tbody tr th:only-of-type {\n",
       "        vertical-align: middle;\n",
       "    }\n",
       "\n",
       "    .dataframe tbody tr th {\n",
       "        vertical-align: top;\n",
       "    }\n",
       "\n",
       "    .dataframe thead th {\n",
       "        text-align: right;\n",
       "    }\n",
       "</style>\n",
       "<table border=\"1\" class=\"dataframe\">\n",
       "  <thead>\n",
       "    <tr style=\"text-align: right;\">\n",
       "      <th></th>\n",
       "      <th>sepal_length</th>\n",
       "      <th>sepal_width</th>\n",
       "      <th>petal_length</th>\n",
       "      <th>petal_width</th>\n",
       "    </tr>\n",
       "  </thead>\n",
       "  <tbody>\n",
       "    <tr>\n",
       "      <th>count</th>\n",
       "      <td>140.000000</td>\n",
       "      <td>142.000000</td>\n",
       "      <td>137.000000</td>\n",
       "      <td>143.000000</td>\n",
       "    </tr>\n",
       "    <tr>\n",
       "      <th>mean</th>\n",
       "      <td>5.833571</td>\n",
       "      <td>3.061268</td>\n",
       "      <td>3.713139</td>\n",
       "      <td>1.184615</td>\n",
       "    </tr>\n",
       "    <tr>\n",
       "      <th>std</th>\n",
       "      <td>0.841086</td>\n",
       "      <td>0.450035</td>\n",
       "      <td>1.791845</td>\n",
       "      <td>0.766031</td>\n",
       "    </tr>\n",
       "    <tr>\n",
       "      <th>min</th>\n",
       "      <td>4.300000</td>\n",
       "      <td>2.000000</td>\n",
       "      <td>1.000000</td>\n",
       "      <td>0.100000</td>\n",
       "    </tr>\n",
       "    <tr>\n",
       "      <th>25%</th>\n",
       "      <td>5.100000</td>\n",
       "      <td>2.800000</td>\n",
       "      <td>1.500000</td>\n",
       "      <td>0.300000</td>\n",
       "    </tr>\n",
       "    <tr>\n",
       "      <th>50%</th>\n",
       "      <td>5.800000</td>\n",
       "      <td>3.000000</td>\n",
       "      <td>4.200000</td>\n",
       "      <td>1.300000</td>\n",
       "    </tr>\n",
       "    <tr>\n",
       "      <th>75%</th>\n",
       "      <td>6.400000</td>\n",
       "      <td>3.300000</td>\n",
       "      <td>5.100000</td>\n",
       "      <td>1.800000</td>\n",
       "    </tr>\n",
       "    <tr>\n",
       "      <th>max</th>\n",
       "      <td>7.900000</td>\n",
       "      <td>4.800000</td>\n",
       "      <td>6.900000</td>\n",
       "      <td>2.500000</td>\n",
       "    </tr>\n",
       "  </tbody>\n",
       "</table>\n",
       "</div>"
      ],
      "text/plain": [
       "       sepal_length  sepal_width  petal_length  petal_width\n",
       "count    140.000000   142.000000    137.000000   143.000000\n",
       "mean       5.833571     3.061268      3.713139     1.184615\n",
       "std        0.841086     0.450035      1.791845     0.766031\n",
       "min        4.300000     2.000000      1.000000     0.100000\n",
       "25%        5.100000     2.800000      1.500000     0.300000\n",
       "50%        5.800000     3.000000      4.200000     1.300000\n",
       "75%        6.400000     3.300000      5.100000     1.800000\n",
       "max        7.900000     4.800000      6.900000     2.500000"
      ]
     },
     "execution_count": 12,
     "metadata": {},
     "output_type": "execute_result"
    }
   ],
   "source": [
    "iris1df.describe()"
   ]
  },
  {
   "cell_type": "code",
   "execution_count": 13,
   "id": "fcfffe77",
   "metadata": {
    "execution": {
     "iopub.execute_input": "2023-01-03T03:50:34.885856Z",
     "iopub.status.busy": "2023-01-03T03:50:34.885344Z",
     "iopub.status.idle": "2023-01-03T03:50:34.901302Z",
     "shell.execute_reply": "2023-01-03T03:50:34.899707Z"
    },
    "papermill": {
     "duration": 0.043089,
     "end_time": "2023-01-03T03:50:34.903908",
     "exception": false,
     "start_time": "2023-01-03T03:50:34.860819",
     "status": "completed"
    },
    "tags": []
   },
   "outputs": [
    {
     "name": "stdout",
     "output_type": "stream",
     "text": [
      "<class 'pandas.core.frame.DataFrame'>\n",
      "RangeIndex: 150 entries, 0 to 149\n",
      "Data columns (total 5 columns):\n",
      " #   Column        Non-Null Count  Dtype  \n",
      "---  ------        --------------  -----  \n",
      " 0   sepal_length  140 non-null    float64\n",
      " 1   sepal_width   142 non-null    float64\n",
      " 2   petal_length  137 non-null    float64\n",
      " 3   petal_width   143 non-null    float64\n",
      " 4   species       137 non-null    object \n",
      "dtypes: float64(4), object(1)\n",
      "memory usage: 6.0+ KB\n"
     ]
    }
   ],
   "source": [
    "iris1df.info()"
   ]
  },
  {
   "cell_type": "markdown",
   "id": "6acfddc4",
   "metadata": {
    "papermill": {
     "duration": 0.021769,
     "end_time": "2023-01-03T03:50:34.948051",
     "exception": false,
     "start_time": "2023-01-03T03:50:34.926282",
     "status": "completed"
    },
    "tags": []
   },
   "source": [
    "**4. Duplicated() and Keep attribute**"
   ]
  },
  {
   "cell_type": "code",
   "execution_count": 14,
   "id": "b3530318",
   "metadata": {
    "execution": {
     "iopub.execute_input": "2023-01-03T03:50:34.993344Z",
     "iopub.status.busy": "2023-01-03T03:50:34.992909Z",
     "iopub.status.idle": "2023-01-03T03:50:35.009259Z",
     "shell.execute_reply": "2023-01-03T03:50:35.007644Z"
    },
    "papermill": {
     "duration": 0.042321,
     "end_time": "2023-01-03T03:50:35.011858",
     "exception": false,
     "start_time": "2023-01-03T03:50:34.969537",
     "status": "completed"
    },
    "tags": []
   },
   "outputs": [
    {
     "data": {
      "text/plain": [
       "0      False\n",
       "1      False\n",
       "2      False\n",
       "3      False\n",
       "4      False\n",
       "       ...  \n",
       "145    False\n",
       "146    False\n",
       "147    False\n",
       "148    False\n",
       "149    False\n",
       "Length: 150, dtype: bool"
      ]
     },
     "execution_count": 14,
     "metadata": {},
     "output_type": "execute_result"
    }
   ],
   "source": [
    "irisdf.duplicated()"
   ]
  },
  {
   "cell_type": "code",
   "execution_count": 15,
   "id": "91941701",
   "metadata": {
    "execution": {
     "iopub.execute_input": "2023-01-03T03:50:35.057311Z",
     "iopub.status.busy": "2023-01-03T03:50:35.056818Z",
     "iopub.status.idle": "2023-01-03T03:50:35.067709Z",
     "shell.execute_reply": "2023-01-03T03:50:35.066226Z"
    },
    "papermill": {
     "duration": 0.036708,
     "end_time": "2023-01-03T03:50:35.070097",
     "exception": false,
     "start_time": "2023-01-03T03:50:35.033389",
     "status": "completed"
    },
    "tags": []
   },
   "outputs": [
    {
     "data": {
      "text/plain": [
       "3"
      ]
     },
     "execution_count": 15,
     "metadata": {},
     "output_type": "execute_result"
    }
   ],
   "source": [
    "irisdf.duplicated().sum()"
   ]
  },
  {
   "cell_type": "code",
   "execution_count": 16,
   "id": "b9448ea0",
   "metadata": {
    "execution": {
     "iopub.execute_input": "2023-01-03T03:50:35.117805Z",
     "iopub.status.busy": "2023-01-03T03:50:35.117316Z",
     "iopub.status.idle": "2023-01-03T03:50:35.133353Z",
     "shell.execute_reply": "2023-01-03T03:50:35.132126Z"
    },
    "papermill": {
     "duration": 0.042564,
     "end_time": "2023-01-03T03:50:35.136132",
     "exception": false,
     "start_time": "2023-01-03T03:50:35.093568",
     "status": "completed"
    },
    "tags": []
   },
   "outputs": [
    {
     "data": {
      "text/html": [
       "<div>\n",
       "<style scoped>\n",
       "    .dataframe tbody tr th:only-of-type {\n",
       "        vertical-align: middle;\n",
       "    }\n",
       "\n",
       "    .dataframe tbody tr th {\n",
       "        vertical-align: top;\n",
       "    }\n",
       "\n",
       "    .dataframe thead th {\n",
       "        text-align: right;\n",
       "    }\n",
       "</style>\n",
       "<table border=\"1\" class=\"dataframe\">\n",
       "  <thead>\n",
       "    <tr style=\"text-align: right;\">\n",
       "      <th></th>\n",
       "      <th>sepal_length</th>\n",
       "      <th>sepal_width</th>\n",
       "      <th>petal_length</th>\n",
       "      <th>petal_width</th>\n",
       "      <th>species</th>\n",
       "    </tr>\n",
       "  </thead>\n",
       "  <tbody>\n",
       "    <tr>\n",
       "      <th>34</th>\n",
       "      <td>4.9</td>\n",
       "      <td>3.1</td>\n",
       "      <td>1.5</td>\n",
       "      <td>0.1</td>\n",
       "      <td>Iris-setosa</td>\n",
       "    </tr>\n",
       "    <tr>\n",
       "      <th>37</th>\n",
       "      <td>4.9</td>\n",
       "      <td>3.1</td>\n",
       "      <td>1.5</td>\n",
       "      <td>0.1</td>\n",
       "      <td>Iris-setosa</td>\n",
       "    </tr>\n",
       "    <tr>\n",
       "      <th>142</th>\n",
       "      <td>5.8</td>\n",
       "      <td>2.7</td>\n",
       "      <td>5.1</td>\n",
       "      <td>1.9</td>\n",
       "      <td>Iris-virginica</td>\n",
       "    </tr>\n",
       "  </tbody>\n",
       "</table>\n",
       "</div>"
      ],
      "text/plain": [
       "     sepal_length  sepal_width  petal_length  petal_width         species\n",
       "34            4.9          3.1           1.5          0.1     Iris-setosa\n",
       "37            4.9          3.1           1.5          0.1     Iris-setosa\n",
       "142           5.8          2.7           5.1          1.9  Iris-virginica"
      ]
     },
     "execution_count": 16,
     "metadata": {},
     "output_type": "execute_result"
    }
   ],
   "source": [
    "duplicate=irisdf[irisdf.duplicated(keep='first')]\n",
    "duplicate"
   ]
  },
  {
   "cell_type": "code",
   "execution_count": 17,
   "id": "f82ed214",
   "metadata": {
    "execution": {
     "iopub.execute_input": "2023-01-03T03:50:35.182523Z",
     "iopub.status.busy": "2023-01-03T03:50:35.181868Z",
     "iopub.status.idle": "2023-01-03T03:50:35.197109Z",
     "shell.execute_reply": "2023-01-03T03:50:35.195936Z"
    },
    "papermill": {
     "duration": 0.041098,
     "end_time": "2023-01-03T03:50:35.199578",
     "exception": false,
     "start_time": "2023-01-03T03:50:35.158480",
     "status": "completed"
    },
    "tags": []
   },
   "outputs": [
    {
     "data": {
      "text/html": [
       "<div>\n",
       "<style scoped>\n",
       "    .dataframe tbody tr th:only-of-type {\n",
       "        vertical-align: middle;\n",
       "    }\n",
       "\n",
       "    .dataframe tbody tr th {\n",
       "        vertical-align: top;\n",
       "    }\n",
       "\n",
       "    .dataframe thead th {\n",
       "        text-align: right;\n",
       "    }\n",
       "</style>\n",
       "<table border=\"1\" class=\"dataframe\">\n",
       "  <thead>\n",
       "    <tr style=\"text-align: right;\">\n",
       "      <th></th>\n",
       "      <th>sepal_length</th>\n",
       "      <th>sepal_width</th>\n",
       "      <th>petal_length</th>\n",
       "      <th>petal_width</th>\n",
       "      <th>species</th>\n",
       "    </tr>\n",
       "  </thead>\n",
       "  <tbody>\n",
       "    <tr>\n",
       "      <th>9</th>\n",
       "      <td>4.9</td>\n",
       "      <td>3.1</td>\n",
       "      <td>1.5</td>\n",
       "      <td>0.1</td>\n",
       "      <td>Iris-setosa</td>\n",
       "    </tr>\n",
       "    <tr>\n",
       "      <th>34</th>\n",
       "      <td>4.9</td>\n",
       "      <td>3.1</td>\n",
       "      <td>1.5</td>\n",
       "      <td>0.1</td>\n",
       "      <td>Iris-setosa</td>\n",
       "    </tr>\n",
       "    <tr>\n",
       "      <th>101</th>\n",
       "      <td>5.8</td>\n",
       "      <td>2.7</td>\n",
       "      <td>5.1</td>\n",
       "      <td>1.9</td>\n",
       "      <td>Iris-virginica</td>\n",
       "    </tr>\n",
       "  </tbody>\n",
       "</table>\n",
       "</div>"
      ],
      "text/plain": [
       "     sepal_length  sepal_width  petal_length  petal_width         species\n",
       "9             4.9          3.1           1.5          0.1     Iris-setosa\n",
       "34            4.9          3.1           1.5          0.1     Iris-setosa\n",
       "101           5.8          2.7           5.1          1.9  Iris-virginica"
      ]
     },
     "execution_count": 17,
     "metadata": {},
     "output_type": "execute_result"
    }
   ],
   "source": [
    "duplicate=irisdf[irisdf.duplicated(keep='last')]\n",
    "duplicate"
   ]
  },
  {
   "cell_type": "code",
   "execution_count": 18,
   "id": "3ad507c6",
   "metadata": {
    "execution": {
     "iopub.execute_input": "2023-01-03T03:50:35.246603Z",
     "iopub.status.busy": "2023-01-03T03:50:35.246099Z",
     "iopub.status.idle": "2023-01-03T03:50:35.257429Z",
     "shell.execute_reply": "2023-01-03T03:50:35.256546Z"
    },
    "papermill": {
     "duration": 0.037365,
     "end_time": "2023-01-03T03:50:35.259734",
     "exception": false,
     "start_time": "2023-01-03T03:50:35.222369",
     "status": "completed"
    },
    "tags": []
   },
   "outputs": [
    {
     "data": {
      "text/plain": [
       "0      False\n",
       "1      False\n",
       "2      False\n",
       "3      False\n",
       "4      False\n",
       "       ...  \n",
       "145    False\n",
       "146    False\n",
       "147    False\n",
       "148    False\n",
       "149    False\n",
       "Length: 150, dtype: bool"
      ]
     },
     "execution_count": 18,
     "metadata": {},
     "output_type": "execute_result"
    }
   ],
   "source": [
    "iris1df.duplicated()"
   ]
  },
  {
   "cell_type": "code",
   "execution_count": 19,
   "id": "951751ce",
   "metadata": {
    "execution": {
     "iopub.execute_input": "2023-01-03T03:50:35.305894Z",
     "iopub.status.busy": "2023-01-03T03:50:35.305365Z",
     "iopub.status.idle": "2023-01-03T03:50:35.315286Z",
     "shell.execute_reply": "2023-01-03T03:50:35.314103Z"
    },
    "papermill": {
     "duration": 0.035756,
     "end_time": "2023-01-03T03:50:35.317628",
     "exception": false,
     "start_time": "2023-01-03T03:50:35.281872",
     "status": "completed"
    },
    "tags": []
   },
   "outputs": [
    {
     "data": {
      "text/plain": [
       "2"
      ]
     },
     "execution_count": 19,
     "metadata": {},
     "output_type": "execute_result"
    }
   ],
   "source": [
    "iris1df.duplicated().sum()"
   ]
  },
  {
   "cell_type": "code",
   "execution_count": 20,
   "id": "7a004302",
   "metadata": {
    "execution": {
     "iopub.execute_input": "2023-01-03T03:50:35.364713Z",
     "iopub.status.busy": "2023-01-03T03:50:35.364065Z",
     "iopub.status.idle": "2023-01-03T03:50:35.379364Z",
     "shell.execute_reply": "2023-01-03T03:50:35.378157Z"
    },
    "papermill": {
     "duration": 0.041644,
     "end_time": "2023-01-03T03:50:35.381808",
     "exception": false,
     "start_time": "2023-01-03T03:50:35.340164",
     "status": "completed"
    },
    "tags": []
   },
   "outputs": [
    {
     "data": {
      "text/html": [
       "<div>\n",
       "<style scoped>\n",
       "    .dataframe tbody tr th:only-of-type {\n",
       "        vertical-align: middle;\n",
       "    }\n",
       "\n",
       "    .dataframe tbody tr th {\n",
       "        vertical-align: top;\n",
       "    }\n",
       "\n",
       "    .dataframe thead th {\n",
       "        text-align: right;\n",
       "    }\n",
       "</style>\n",
       "<table border=\"1\" class=\"dataframe\">\n",
       "  <thead>\n",
       "    <tr style=\"text-align: right;\">\n",
       "      <th></th>\n",
       "      <th>sepal_length</th>\n",
       "      <th>sepal_width</th>\n",
       "      <th>petal_length</th>\n",
       "      <th>petal_width</th>\n",
       "      <th>species</th>\n",
       "    </tr>\n",
       "  </thead>\n",
       "  <tbody>\n",
       "    <tr>\n",
       "      <th>37</th>\n",
       "      <td>4.9</td>\n",
       "      <td>3.1</td>\n",
       "      <td>1.5</td>\n",
       "      <td>0.1</td>\n",
       "      <td>Iris-setosa</td>\n",
       "    </tr>\n",
       "    <tr>\n",
       "      <th>142</th>\n",
       "      <td>5.8</td>\n",
       "      <td>2.7</td>\n",
       "      <td>5.1</td>\n",
       "      <td>1.9</td>\n",
       "      <td>Iris-virginica</td>\n",
       "    </tr>\n",
       "  </tbody>\n",
       "</table>\n",
       "</div>"
      ],
      "text/plain": [
       "     sepal_length  sepal_width  petal_length  petal_width         species\n",
       "37            4.9          3.1           1.5          0.1     Iris-setosa\n",
       "142           5.8          2.7           5.1          1.9  Iris-virginica"
      ]
     },
     "execution_count": 20,
     "metadata": {},
     "output_type": "execute_result"
    }
   ],
   "source": [
    "duplicate=iris1df[iris1df.duplicated(keep='first')]\n",
    "duplicate"
   ]
  },
  {
   "cell_type": "code",
   "execution_count": 21,
   "id": "ec179071",
   "metadata": {
    "execution": {
     "iopub.execute_input": "2023-01-03T03:50:35.429381Z",
     "iopub.status.busy": "2023-01-03T03:50:35.428758Z",
     "iopub.status.idle": "2023-01-03T03:50:35.443675Z",
     "shell.execute_reply": "2023-01-03T03:50:35.442352Z"
    },
    "papermill": {
     "duration": 0.041459,
     "end_time": "2023-01-03T03:50:35.446208",
     "exception": false,
     "start_time": "2023-01-03T03:50:35.404749",
     "status": "completed"
    },
    "tags": []
   },
   "outputs": [
    {
     "data": {
      "text/html": [
       "<div>\n",
       "<style scoped>\n",
       "    .dataframe tbody tr th:only-of-type {\n",
       "        vertical-align: middle;\n",
       "    }\n",
       "\n",
       "    .dataframe tbody tr th {\n",
       "        vertical-align: top;\n",
       "    }\n",
       "\n",
       "    .dataframe thead th {\n",
       "        text-align: right;\n",
       "    }\n",
       "</style>\n",
       "<table border=\"1\" class=\"dataframe\">\n",
       "  <thead>\n",
       "    <tr style=\"text-align: right;\">\n",
       "      <th></th>\n",
       "      <th>sepal_length</th>\n",
       "      <th>sepal_width</th>\n",
       "      <th>petal_length</th>\n",
       "      <th>petal_width</th>\n",
       "      <th>species</th>\n",
       "    </tr>\n",
       "  </thead>\n",
       "  <tbody>\n",
       "    <tr>\n",
       "      <th>34</th>\n",
       "      <td>4.9</td>\n",
       "      <td>3.1</td>\n",
       "      <td>1.5</td>\n",
       "      <td>0.1</td>\n",
       "      <td>Iris-setosa</td>\n",
       "    </tr>\n",
       "    <tr>\n",
       "      <th>101</th>\n",
       "      <td>5.8</td>\n",
       "      <td>2.7</td>\n",
       "      <td>5.1</td>\n",
       "      <td>1.9</td>\n",
       "      <td>Iris-virginica</td>\n",
       "    </tr>\n",
       "  </tbody>\n",
       "</table>\n",
       "</div>"
      ],
      "text/plain": [
       "     sepal_length  sepal_width  petal_length  petal_width         species\n",
       "34            4.9          3.1           1.5          0.1     Iris-setosa\n",
       "101           5.8          2.7           5.1          1.9  Iris-virginica"
      ]
     },
     "execution_count": 21,
     "metadata": {},
     "output_type": "execute_result"
    }
   ],
   "source": [
    "duplicate=iris1df[iris1df.duplicated(keep='last')]\n",
    "duplicate"
   ]
  },
  {
   "cell_type": "markdown",
   "id": "5babb23f",
   "metadata": {
    "papermill": {
     "duration": 0.023198,
     "end_time": "2023-01-03T03:50:35.492231",
     "exception": false,
     "start_time": "2023-01-03T03:50:35.469033",
     "status": "completed"
    },
    "tags": []
   },
   "source": [
    "**5. drop_duplicates**"
   ]
  },
  {
   "cell_type": "code",
   "execution_count": 22,
   "id": "65a548de",
   "metadata": {
    "execution": {
     "iopub.execute_input": "2023-01-03T03:50:35.539460Z",
     "iopub.status.busy": "2023-01-03T03:50:35.539062Z",
     "iopub.status.idle": "2023-01-03T03:50:35.546312Z",
     "shell.execute_reply": "2023-01-03T03:50:35.544778Z"
    },
    "papermill": {
     "duration": 0.034034,
     "end_time": "2023-01-03T03:50:35.548955",
     "exception": false,
     "start_time": "2023-01-03T03:50:35.514921",
     "status": "completed"
    },
    "tags": []
   },
   "outputs": [],
   "source": [
    "irisdf.drop_duplicates(inplace=True)"
   ]
  },
  {
   "cell_type": "code",
   "execution_count": 23,
   "id": "fdaa003e",
   "metadata": {
    "execution": {
     "iopub.execute_input": "2023-01-03T03:50:35.597262Z",
     "iopub.status.busy": "2023-01-03T03:50:35.596861Z",
     "iopub.status.idle": "2023-01-03T03:50:35.604278Z",
     "shell.execute_reply": "2023-01-03T03:50:35.602970Z"
    },
    "papermill": {
     "duration": 0.034289,
     "end_time": "2023-01-03T03:50:35.606899",
     "exception": false,
     "start_time": "2023-01-03T03:50:35.572610",
     "status": "completed"
    },
    "tags": []
   },
   "outputs": [
    {
     "data": {
      "text/plain": [
       "(147, 5)"
      ]
     },
     "execution_count": 23,
     "metadata": {},
     "output_type": "execute_result"
    }
   ],
   "source": [
    "irisdf.shape"
   ]
  },
  {
   "cell_type": "code",
   "execution_count": 24,
   "id": "c3df4331",
   "metadata": {
    "execution": {
     "iopub.execute_input": "2023-01-03T03:50:35.656916Z",
     "iopub.status.busy": "2023-01-03T03:50:35.655529Z",
     "iopub.status.idle": "2023-01-03T03:50:35.664471Z",
     "shell.execute_reply": "2023-01-03T03:50:35.663150Z"
    },
    "papermill": {
     "duration": 0.037227,
     "end_time": "2023-01-03T03:50:35.667322",
     "exception": false,
     "start_time": "2023-01-03T03:50:35.630095",
     "status": "completed"
    },
    "tags": []
   },
   "outputs": [],
   "source": [
    "iris1df.drop_duplicates(inplace=True)"
   ]
  },
  {
   "cell_type": "code",
   "execution_count": 25,
   "id": "bb9e298e",
   "metadata": {
    "execution": {
     "iopub.execute_input": "2023-01-03T03:50:35.717080Z",
     "iopub.status.busy": "2023-01-03T03:50:35.716564Z",
     "iopub.status.idle": "2023-01-03T03:50:35.725193Z",
     "shell.execute_reply": "2023-01-03T03:50:35.723681Z"
    },
    "papermill": {
     "duration": 0.036275,
     "end_time": "2023-01-03T03:50:35.727701",
     "exception": false,
     "start_time": "2023-01-03T03:50:35.691426",
     "status": "completed"
    },
    "tags": []
   },
   "outputs": [
    {
     "data": {
      "text/plain": [
       "(148, 5)"
      ]
     },
     "execution_count": 25,
     "metadata": {},
     "output_type": "execute_result"
    }
   ],
   "source": [
    "iris1df.shape"
   ]
  },
  {
   "cell_type": "markdown",
   "id": "266f690f",
   "metadata": {
    "papermill": {
     "duration": 0.022536,
     "end_time": "2023-01-03T03:50:35.773874",
     "exception": false,
     "start_time": "2023-01-03T03:50:35.751338",
     "status": "completed"
    },
    "tags": []
   },
   "source": [
    "**6. isnull()**"
   ]
  },
  {
   "cell_type": "code",
   "execution_count": 26,
   "id": "2837ba54",
   "metadata": {
    "execution": {
     "iopub.execute_input": "2023-01-03T03:50:35.821548Z",
     "iopub.status.busy": "2023-01-03T03:50:35.821129Z",
     "iopub.status.idle": "2023-01-03T03:50:35.837720Z",
     "shell.execute_reply": "2023-01-03T03:50:35.836207Z"
    },
    "papermill": {
     "duration": 0.043416,
     "end_time": "2023-01-03T03:50:35.840223",
     "exception": false,
     "start_time": "2023-01-03T03:50:35.796807",
     "status": "completed"
    },
    "tags": []
   },
   "outputs": [
    {
     "data": {
      "text/html": [
       "<div>\n",
       "<style scoped>\n",
       "    .dataframe tbody tr th:only-of-type {\n",
       "        vertical-align: middle;\n",
       "    }\n",
       "\n",
       "    .dataframe tbody tr th {\n",
       "        vertical-align: top;\n",
       "    }\n",
       "\n",
       "    .dataframe thead th {\n",
       "        text-align: right;\n",
       "    }\n",
       "</style>\n",
       "<table border=\"1\" class=\"dataframe\">\n",
       "  <thead>\n",
       "    <tr style=\"text-align: right;\">\n",
       "      <th></th>\n",
       "      <th>sepal_length</th>\n",
       "      <th>sepal_width</th>\n",
       "      <th>petal_length</th>\n",
       "      <th>petal_width</th>\n",
       "      <th>species</th>\n",
       "    </tr>\n",
       "  </thead>\n",
       "  <tbody>\n",
       "    <tr>\n",
       "      <th>0</th>\n",
       "      <td>False</td>\n",
       "      <td>False</td>\n",
       "      <td>False</td>\n",
       "      <td>False</td>\n",
       "      <td>False</td>\n",
       "    </tr>\n",
       "    <tr>\n",
       "      <th>1</th>\n",
       "      <td>False</td>\n",
       "      <td>False</td>\n",
       "      <td>False</td>\n",
       "      <td>False</td>\n",
       "      <td>False</td>\n",
       "    </tr>\n",
       "    <tr>\n",
       "      <th>2</th>\n",
       "      <td>False</td>\n",
       "      <td>False</td>\n",
       "      <td>False</td>\n",
       "      <td>False</td>\n",
       "      <td>False</td>\n",
       "    </tr>\n",
       "    <tr>\n",
       "      <th>3</th>\n",
       "      <td>False</td>\n",
       "      <td>False</td>\n",
       "      <td>False</td>\n",
       "      <td>False</td>\n",
       "      <td>False</td>\n",
       "    </tr>\n",
       "    <tr>\n",
       "      <th>4</th>\n",
       "      <td>False</td>\n",
       "      <td>False</td>\n",
       "      <td>False</td>\n",
       "      <td>False</td>\n",
       "      <td>False</td>\n",
       "    </tr>\n",
       "    <tr>\n",
       "      <th>...</th>\n",
       "      <td>...</td>\n",
       "      <td>...</td>\n",
       "      <td>...</td>\n",
       "      <td>...</td>\n",
       "      <td>...</td>\n",
       "    </tr>\n",
       "    <tr>\n",
       "      <th>145</th>\n",
       "      <td>False</td>\n",
       "      <td>False</td>\n",
       "      <td>False</td>\n",
       "      <td>False</td>\n",
       "      <td>False</td>\n",
       "    </tr>\n",
       "    <tr>\n",
       "      <th>146</th>\n",
       "      <td>False</td>\n",
       "      <td>False</td>\n",
       "      <td>False</td>\n",
       "      <td>False</td>\n",
       "      <td>False</td>\n",
       "    </tr>\n",
       "    <tr>\n",
       "      <th>147</th>\n",
       "      <td>False</td>\n",
       "      <td>False</td>\n",
       "      <td>False</td>\n",
       "      <td>False</td>\n",
       "      <td>False</td>\n",
       "    </tr>\n",
       "    <tr>\n",
       "      <th>148</th>\n",
       "      <td>False</td>\n",
       "      <td>False</td>\n",
       "      <td>False</td>\n",
       "      <td>False</td>\n",
       "      <td>False</td>\n",
       "    </tr>\n",
       "    <tr>\n",
       "      <th>149</th>\n",
       "      <td>False</td>\n",
       "      <td>False</td>\n",
       "      <td>False</td>\n",
       "      <td>False</td>\n",
       "      <td>False</td>\n",
       "    </tr>\n",
       "  </tbody>\n",
       "</table>\n",
       "<p>147 rows × 5 columns</p>\n",
       "</div>"
      ],
      "text/plain": [
       "     sepal_length  sepal_width  petal_length  petal_width  species\n",
       "0           False        False         False        False    False\n",
       "1           False        False         False        False    False\n",
       "2           False        False         False        False    False\n",
       "3           False        False         False        False    False\n",
       "4           False        False         False        False    False\n",
       "..            ...          ...           ...          ...      ...\n",
       "145         False        False         False        False    False\n",
       "146         False        False         False        False    False\n",
       "147         False        False         False        False    False\n",
       "148         False        False         False        False    False\n",
       "149         False        False         False        False    False\n",
       "\n",
       "[147 rows x 5 columns]"
      ]
     },
     "execution_count": 26,
     "metadata": {},
     "output_type": "execute_result"
    }
   ],
   "source": [
    "irisdf.isnull()"
   ]
  },
  {
   "cell_type": "code",
   "execution_count": 27,
   "id": "4e372492",
   "metadata": {
    "execution": {
     "iopub.execute_input": "2023-01-03T03:50:35.890181Z",
     "iopub.status.busy": "2023-01-03T03:50:35.889776Z",
     "iopub.status.idle": "2023-01-03T03:50:35.899391Z",
     "shell.execute_reply": "2023-01-03T03:50:35.898345Z"
    },
    "papermill": {
     "duration": 0.037132,
     "end_time": "2023-01-03T03:50:35.902184",
     "exception": false,
     "start_time": "2023-01-03T03:50:35.865052",
     "status": "completed"
    },
    "tags": []
   },
   "outputs": [
    {
     "data": {
      "text/plain": [
       "sepal_length    0\n",
       "sepal_width     0\n",
       "petal_length    0\n",
       "petal_width     0\n",
       "species         0\n",
       "dtype: int64"
      ]
     },
     "execution_count": 27,
     "metadata": {},
     "output_type": "execute_result"
    }
   ],
   "source": [
    "irisdf.isnull().sum()"
   ]
  },
  {
   "cell_type": "code",
   "execution_count": 28,
   "id": "89fc86d3",
   "metadata": {
    "execution": {
     "iopub.execute_input": "2023-01-03T03:50:35.952177Z",
     "iopub.status.busy": "2023-01-03T03:50:35.951682Z",
     "iopub.status.idle": "2023-01-03T03:50:35.963673Z",
     "shell.execute_reply": "2023-01-03T03:50:35.962134Z"
    },
    "papermill": {
     "duration": 0.040007,
     "end_time": "2023-01-03T03:50:35.966348",
     "exception": false,
     "start_time": "2023-01-03T03:50:35.926341",
     "status": "completed"
    },
    "tags": []
   },
   "outputs": [
    {
     "data": {
      "text/plain": [
       "sepal_length    10\n",
       "sepal_width      8\n",
       "petal_length    13\n",
       "petal_width      7\n",
       "species         13\n",
       "dtype: int64"
      ]
     },
     "execution_count": 28,
     "metadata": {},
     "output_type": "execute_result"
    }
   ],
   "source": [
    "iris1df.isnull().sum()"
   ]
  },
  {
   "cell_type": "markdown",
   "id": "cd2c0371",
   "metadata": {
    "papermill": {
     "duration": 0.024425,
     "end_time": "2023-01-03T03:50:36.015757",
     "exception": false,
     "start_time": "2023-01-03T03:50:35.991332",
     "status": "completed"
    },
    "tags": []
   },
   "source": [
    "# fill or drop missing values\n",
    "\n",
    "These values can be anything from mean, median, mode or any specific value\n",
    "\n",
    "**7. fillna (value and inplace attribute)**"
   ]
  },
  {
   "cell_type": "markdown",
   "id": "7f465c4b",
   "metadata": {
    "papermill": {
     "duration": 0.024314,
     "end_time": "2023-01-03T03:50:36.064086",
     "exception": false,
     "start_time": "2023-01-03T03:50:36.039772",
     "status": "completed"
    },
    "tags": []
   },
   "source": [
    "## Sepal length --- Mean "
   ]
  },
  {
   "cell_type": "code",
   "execution_count": 29,
   "id": "75292a24",
   "metadata": {
    "execution": {
     "iopub.execute_input": "2023-01-03T03:50:36.115275Z",
     "iopub.status.busy": "2023-01-03T03:50:36.114190Z",
     "iopub.status.idle": "2023-01-03T03:50:36.123050Z",
     "shell.execute_reply": "2023-01-03T03:50:36.121844Z"
    },
    "papermill": {
     "duration": 0.037423,
     "end_time": "2023-01-03T03:50:36.125529",
     "exception": false,
     "start_time": "2023-01-03T03:50:36.088106",
     "status": "completed"
    },
    "tags": []
   },
   "outputs": [
    {
     "data": {
      "text/plain": [
       "5.840579710144928"
      ]
     },
     "execution_count": 29,
     "metadata": {},
     "output_type": "execute_result"
    }
   ],
   "source": [
    "m=iris1df['sepal_length'].mean()\n",
    "m"
   ]
  },
  {
   "cell_type": "code",
   "execution_count": 30,
   "id": "60fb63fa",
   "metadata": {
    "execution": {
     "iopub.execute_input": "2023-01-03T03:50:36.175194Z",
     "iopub.status.busy": "2023-01-03T03:50:36.174693Z",
     "iopub.status.idle": "2023-01-03T03:50:36.182284Z",
     "shell.execute_reply": "2023-01-03T03:50:36.180997Z"
    },
    "papermill": {
     "duration": 0.035146,
     "end_time": "2023-01-03T03:50:36.184675",
     "exception": false,
     "start_time": "2023-01-03T03:50:36.149529",
     "status": "completed"
    },
    "tags": []
   },
   "outputs": [],
   "source": [
    "iris1df['sepal_length'].fillna(value=iris1df['sepal_length'].mean(),inplace=True)"
   ]
  },
  {
   "cell_type": "code",
   "execution_count": 31,
   "id": "f77995be",
   "metadata": {
    "execution": {
     "iopub.execute_input": "2023-01-03T03:50:36.236538Z",
     "iopub.status.busy": "2023-01-03T03:50:36.235786Z",
     "iopub.status.idle": "2023-01-03T03:50:36.258312Z",
     "shell.execute_reply": "2023-01-03T03:50:36.256893Z"
    },
    "papermill": {
     "duration": 0.051841,
     "end_time": "2023-01-03T03:50:36.261590",
     "exception": false,
     "start_time": "2023-01-03T03:50:36.209749",
     "status": "completed"
    },
    "tags": []
   },
   "outputs": [
    {
     "data": {
      "text/html": [
       "<div>\n",
       "<style scoped>\n",
       "    .dataframe tbody tr th:only-of-type {\n",
       "        vertical-align: middle;\n",
       "    }\n",
       "\n",
       "    .dataframe tbody tr th {\n",
       "        vertical-align: top;\n",
       "    }\n",
       "\n",
       "    .dataframe thead th {\n",
       "        text-align: right;\n",
       "    }\n",
       "</style>\n",
       "<table border=\"1\" class=\"dataframe\">\n",
       "  <thead>\n",
       "    <tr style=\"text-align: right;\">\n",
       "      <th></th>\n",
       "      <th>sepal_length</th>\n",
       "      <th>sepal_width</th>\n",
       "      <th>petal_length</th>\n",
       "      <th>petal_width</th>\n",
       "      <th>species</th>\n",
       "    </tr>\n",
       "  </thead>\n",
       "  <tbody>\n",
       "    <tr>\n",
       "      <th>0</th>\n",
       "      <td>5.10000</td>\n",
       "      <td>3.5</td>\n",
       "      <td>1.4</td>\n",
       "      <td>0.2</td>\n",
       "      <td>Iris-setosa</td>\n",
       "    </tr>\n",
       "    <tr>\n",
       "      <th>1</th>\n",
       "      <td>4.90000</td>\n",
       "      <td>3.0</td>\n",
       "      <td>NaN</td>\n",
       "      <td>0.2</td>\n",
       "      <td>Iris-setosa</td>\n",
       "    </tr>\n",
       "    <tr>\n",
       "      <th>2</th>\n",
       "      <td>4.70000</td>\n",
       "      <td>3.2</td>\n",
       "      <td>1.3</td>\n",
       "      <td>0.2</td>\n",
       "      <td>Iris-setosa</td>\n",
       "    </tr>\n",
       "    <tr>\n",
       "      <th>3</th>\n",
       "      <td>4.60000</td>\n",
       "      <td>3.1</td>\n",
       "      <td>1.5</td>\n",
       "      <td>0.2</td>\n",
       "      <td>NaN</td>\n",
       "    </tr>\n",
       "    <tr>\n",
       "      <th>4</th>\n",
       "      <td>5.00000</td>\n",
       "      <td>3.6</td>\n",
       "      <td>1.4</td>\n",
       "      <td>0.2</td>\n",
       "      <td>Iris-setosa</td>\n",
       "    </tr>\n",
       "    <tr>\n",
       "      <th>5</th>\n",
       "      <td>5.40000</td>\n",
       "      <td>3.9</td>\n",
       "      <td>1.7</td>\n",
       "      <td>0.4</td>\n",
       "      <td>Iris-setosa</td>\n",
       "    </tr>\n",
       "    <tr>\n",
       "      <th>6</th>\n",
       "      <td>4.60000</td>\n",
       "      <td>3.4</td>\n",
       "      <td>1.4</td>\n",
       "      <td>0.3</td>\n",
       "      <td>Iris-setosa</td>\n",
       "    </tr>\n",
       "    <tr>\n",
       "      <th>7</th>\n",
       "      <td>5.00000</td>\n",
       "      <td>3.4</td>\n",
       "      <td>1.5</td>\n",
       "      <td>NaN</td>\n",
       "      <td>Iris-setosa</td>\n",
       "    </tr>\n",
       "    <tr>\n",
       "      <th>8</th>\n",
       "      <td>4.40000</td>\n",
       "      <td>2.9</td>\n",
       "      <td>1.4</td>\n",
       "      <td>0.2</td>\n",
       "      <td>Iris-setosa</td>\n",
       "    </tr>\n",
       "    <tr>\n",
       "      <th>9</th>\n",
       "      <td>4.90000</td>\n",
       "      <td>3.1</td>\n",
       "      <td>NaN</td>\n",
       "      <td>0.1</td>\n",
       "      <td>Iris-setosa</td>\n",
       "    </tr>\n",
       "    <tr>\n",
       "      <th>10</th>\n",
       "      <td>5.40000</td>\n",
       "      <td>3.7</td>\n",
       "      <td>1.5</td>\n",
       "      <td>0.2</td>\n",
       "      <td>Iris-setosa</td>\n",
       "    </tr>\n",
       "    <tr>\n",
       "      <th>11</th>\n",
       "      <td>4.80000</td>\n",
       "      <td>3.4</td>\n",
       "      <td>1.6</td>\n",
       "      <td>0.2</td>\n",
       "      <td>Iris-setosa</td>\n",
       "    </tr>\n",
       "    <tr>\n",
       "      <th>12</th>\n",
       "      <td>4.80000</td>\n",
       "      <td>NaN</td>\n",
       "      <td>1.4</td>\n",
       "      <td>0.1</td>\n",
       "      <td>Iris-setosa</td>\n",
       "    </tr>\n",
       "    <tr>\n",
       "      <th>13</th>\n",
       "      <td>4.30000</td>\n",
       "      <td>3.0</td>\n",
       "      <td>1.1</td>\n",
       "      <td>0.1</td>\n",
       "      <td>Iris-setosa</td>\n",
       "    </tr>\n",
       "    <tr>\n",
       "      <th>14</th>\n",
       "      <td>5.80000</td>\n",
       "      <td>4.0</td>\n",
       "      <td>1.2</td>\n",
       "      <td>0.2</td>\n",
       "      <td>Iris-setosa</td>\n",
       "    </tr>\n",
       "    <tr>\n",
       "      <th>15</th>\n",
       "      <td>5.70000</td>\n",
       "      <td>4.4</td>\n",
       "      <td>1.5</td>\n",
       "      <td>0.4</td>\n",
       "      <td>Iris-setosa</td>\n",
       "    </tr>\n",
       "    <tr>\n",
       "      <th>16</th>\n",
       "      <td>5.84058</td>\n",
       "      <td>3.9</td>\n",
       "      <td>1.3</td>\n",
       "      <td>0.4</td>\n",
       "      <td>Iris-setosa</td>\n",
       "    </tr>\n",
       "    <tr>\n",
       "      <th>17</th>\n",
       "      <td>5.10000</td>\n",
       "      <td>3.5</td>\n",
       "      <td>1.4</td>\n",
       "      <td>0.3</td>\n",
       "      <td>Iris-setosa</td>\n",
       "    </tr>\n",
       "    <tr>\n",
       "      <th>18</th>\n",
       "      <td>5.70000</td>\n",
       "      <td>3.8</td>\n",
       "      <td>1.7</td>\n",
       "      <td>0.3</td>\n",
       "      <td>Iris-setosa</td>\n",
       "    </tr>\n",
       "    <tr>\n",
       "      <th>19</th>\n",
       "      <td>5.10000</td>\n",
       "      <td>3.8</td>\n",
       "      <td>1.5</td>\n",
       "      <td>0.3</td>\n",
       "      <td>Iris-setosa</td>\n",
       "    </tr>\n",
       "    <tr>\n",
       "      <th>20</th>\n",
       "      <td>5.40000</td>\n",
       "      <td>3.4</td>\n",
       "      <td>1.7</td>\n",
       "      <td>0.2</td>\n",
       "      <td>Iris-setosa</td>\n",
       "    </tr>\n",
       "    <tr>\n",
       "      <th>21</th>\n",
       "      <td>5.10000</td>\n",
       "      <td>3.7</td>\n",
       "      <td>1.5</td>\n",
       "      <td>0.4</td>\n",
       "      <td>Iris-setosa</td>\n",
       "    </tr>\n",
       "    <tr>\n",
       "      <th>22</th>\n",
       "      <td>4.60000</td>\n",
       "      <td>3.6</td>\n",
       "      <td>1.0</td>\n",
       "      <td>0.2</td>\n",
       "      <td>NaN</td>\n",
       "    </tr>\n",
       "    <tr>\n",
       "      <th>23</th>\n",
       "      <td>5.10000</td>\n",
       "      <td>3.3</td>\n",
       "      <td>1.7</td>\n",
       "      <td>0.5</td>\n",
       "      <td>NaN</td>\n",
       "    </tr>\n",
       "    <tr>\n",
       "      <th>24</th>\n",
       "      <td>4.80000</td>\n",
       "      <td>3.4</td>\n",
       "      <td>1.9</td>\n",
       "      <td>0.2</td>\n",
       "      <td>Iris-setosa</td>\n",
       "    </tr>\n",
       "    <tr>\n",
       "      <th>25</th>\n",
       "      <td>5.00000</td>\n",
       "      <td>3.0</td>\n",
       "      <td>1.6</td>\n",
       "      <td>0.2</td>\n",
       "      <td>Iris-setosa</td>\n",
       "    </tr>\n",
       "    <tr>\n",
       "      <th>26</th>\n",
       "      <td>5.00000</td>\n",
       "      <td>3.4</td>\n",
       "      <td>NaN</td>\n",
       "      <td>0.4</td>\n",
       "      <td>Iris-setosa</td>\n",
       "    </tr>\n",
       "    <tr>\n",
       "      <th>27</th>\n",
       "      <td>5.20000</td>\n",
       "      <td>3.5</td>\n",
       "      <td>1.5</td>\n",
       "      <td>0.2</td>\n",
       "      <td>Iris-setosa</td>\n",
       "    </tr>\n",
       "    <tr>\n",
       "      <th>28</th>\n",
       "      <td>5.84058</td>\n",
       "      <td>3.4</td>\n",
       "      <td>1.4</td>\n",
       "      <td>0.2</td>\n",
       "      <td>Iris-setosa</td>\n",
       "    </tr>\n",
       "    <tr>\n",
       "      <th>29</th>\n",
       "      <td>4.70000</td>\n",
       "      <td>3.2</td>\n",
       "      <td>1.6</td>\n",
       "      <td>0.2</td>\n",
       "      <td>Iris-setosa</td>\n",
       "    </tr>\n",
       "  </tbody>\n",
       "</table>\n",
       "</div>"
      ],
      "text/plain": [
       "    sepal_length  sepal_width  petal_length  petal_width      species\n",
       "0        5.10000          3.5           1.4          0.2  Iris-setosa\n",
       "1        4.90000          3.0           NaN          0.2  Iris-setosa\n",
       "2        4.70000          3.2           1.3          0.2  Iris-setosa\n",
       "3        4.60000          3.1           1.5          0.2          NaN\n",
       "4        5.00000          3.6           1.4          0.2  Iris-setosa\n",
       "5        5.40000          3.9           1.7          0.4  Iris-setosa\n",
       "6        4.60000          3.4           1.4          0.3  Iris-setosa\n",
       "7        5.00000          3.4           1.5          NaN  Iris-setosa\n",
       "8        4.40000          2.9           1.4          0.2  Iris-setosa\n",
       "9        4.90000          3.1           NaN          0.1  Iris-setosa\n",
       "10       5.40000          3.7           1.5          0.2  Iris-setosa\n",
       "11       4.80000          3.4           1.6          0.2  Iris-setosa\n",
       "12       4.80000          NaN           1.4          0.1  Iris-setosa\n",
       "13       4.30000          3.0           1.1          0.1  Iris-setosa\n",
       "14       5.80000          4.0           1.2          0.2  Iris-setosa\n",
       "15       5.70000          4.4           1.5          0.4  Iris-setosa\n",
       "16       5.84058          3.9           1.3          0.4  Iris-setosa\n",
       "17       5.10000          3.5           1.4          0.3  Iris-setosa\n",
       "18       5.70000          3.8           1.7          0.3  Iris-setosa\n",
       "19       5.10000          3.8           1.5          0.3  Iris-setosa\n",
       "20       5.40000          3.4           1.7          0.2  Iris-setosa\n",
       "21       5.10000          3.7           1.5          0.4  Iris-setosa\n",
       "22       4.60000          3.6           1.0          0.2          NaN\n",
       "23       5.10000          3.3           1.7          0.5          NaN\n",
       "24       4.80000          3.4           1.9          0.2  Iris-setosa\n",
       "25       5.00000          3.0           1.6          0.2  Iris-setosa\n",
       "26       5.00000          3.4           NaN          0.4  Iris-setosa\n",
       "27       5.20000          3.5           1.5          0.2  Iris-setosa\n",
       "28       5.84058          3.4           1.4          0.2  Iris-setosa\n",
       "29       4.70000          3.2           1.6          0.2  Iris-setosa"
      ]
     },
     "execution_count": 31,
     "metadata": {},
     "output_type": "execute_result"
    }
   ],
   "source": [
    "iris1df.head(30)"
   ]
  },
  {
   "cell_type": "markdown",
   "id": "9c060fcb",
   "metadata": {
    "papermill": {
     "duration": 0.025885,
     "end_time": "2023-01-03T03:50:36.313200",
     "exception": false,
     "start_time": "2023-01-03T03:50:36.287315",
     "status": "completed"
    },
    "tags": []
   },
   "source": [
    "## Sepal width --- Mode"
   ]
  },
  {
   "cell_type": "code",
   "execution_count": 32,
   "id": "b36c9657",
   "metadata": {
    "execution": {
     "iopub.execute_input": "2023-01-03T03:50:36.364667Z",
     "iopub.status.busy": "2023-01-03T03:50:36.364209Z",
     "iopub.status.idle": "2023-01-03T03:50:36.373595Z",
     "shell.execute_reply": "2023-01-03T03:50:36.372712Z"
    },
    "papermill": {
     "duration": 0.038547,
     "end_time": "2023-01-03T03:50:36.376582",
     "exception": false,
     "start_time": "2023-01-03T03:50:36.338035",
     "status": "completed"
    },
    "tags": []
   },
   "outputs": [
    {
     "data": {
      "text/plain": [
       "0    3.0\n",
       "dtype: float64"
      ]
     },
     "execution_count": 32,
     "metadata": {},
     "output_type": "execute_result"
    }
   ],
   "source": [
    "mo=iris1df['sepal_width'].mode()\n",
    "mo"
   ]
  },
  {
   "cell_type": "code",
   "execution_count": 33,
   "id": "4d750ccd",
   "metadata": {
    "execution": {
     "iopub.execute_input": "2023-01-03T03:50:36.430541Z",
     "iopub.status.busy": "2023-01-03T03:50:36.429787Z",
     "iopub.status.idle": "2023-01-03T03:50:36.435572Z",
     "shell.execute_reply": "2023-01-03T03:50:36.434686Z"
    },
    "papermill": {
     "duration": 0.034913,
     "end_time": "2023-01-03T03:50:36.438043",
     "exception": false,
     "start_time": "2023-01-03T03:50:36.403130",
     "status": "completed"
    },
    "tags": []
   },
   "outputs": [],
   "source": [
    "iris1df['sepal_width'].fillna(value=iris1df['sepal_width'].mode().values[0],inplace=True)"
   ]
  },
  {
   "cell_type": "code",
   "execution_count": 34,
   "id": "d421ea0e",
   "metadata": {
    "execution": {
     "iopub.execute_input": "2023-01-03T03:50:36.490943Z",
     "iopub.status.busy": "2023-01-03T03:50:36.490252Z",
     "iopub.status.idle": "2023-01-03T03:50:36.512265Z",
     "shell.execute_reply": "2023-01-03T03:50:36.511011Z"
    },
    "papermill": {
     "duration": 0.052365,
     "end_time": "2023-01-03T03:50:36.515349",
     "exception": false,
     "start_time": "2023-01-03T03:50:36.462984",
     "status": "completed"
    },
    "tags": []
   },
   "outputs": [
    {
     "data": {
      "text/html": [
       "<div>\n",
       "<style scoped>\n",
       "    .dataframe tbody tr th:only-of-type {\n",
       "        vertical-align: middle;\n",
       "    }\n",
       "\n",
       "    .dataframe tbody tr th {\n",
       "        vertical-align: top;\n",
       "    }\n",
       "\n",
       "    .dataframe thead th {\n",
       "        text-align: right;\n",
       "    }\n",
       "</style>\n",
       "<table border=\"1\" class=\"dataframe\">\n",
       "  <thead>\n",
       "    <tr style=\"text-align: right;\">\n",
       "      <th></th>\n",
       "      <th>sepal_length</th>\n",
       "      <th>sepal_width</th>\n",
       "      <th>petal_length</th>\n",
       "      <th>petal_width</th>\n",
       "      <th>species</th>\n",
       "    </tr>\n",
       "  </thead>\n",
       "  <tbody>\n",
       "    <tr>\n",
       "      <th>0</th>\n",
       "      <td>5.10000</td>\n",
       "      <td>3.5</td>\n",
       "      <td>1.4</td>\n",
       "      <td>0.2</td>\n",
       "      <td>Iris-setosa</td>\n",
       "    </tr>\n",
       "    <tr>\n",
       "      <th>1</th>\n",
       "      <td>4.90000</td>\n",
       "      <td>3.0</td>\n",
       "      <td>NaN</td>\n",
       "      <td>0.2</td>\n",
       "      <td>Iris-setosa</td>\n",
       "    </tr>\n",
       "    <tr>\n",
       "      <th>2</th>\n",
       "      <td>4.70000</td>\n",
       "      <td>3.2</td>\n",
       "      <td>1.3</td>\n",
       "      <td>0.2</td>\n",
       "      <td>Iris-setosa</td>\n",
       "    </tr>\n",
       "    <tr>\n",
       "      <th>3</th>\n",
       "      <td>4.60000</td>\n",
       "      <td>3.1</td>\n",
       "      <td>1.5</td>\n",
       "      <td>0.2</td>\n",
       "      <td>NaN</td>\n",
       "    </tr>\n",
       "    <tr>\n",
       "      <th>4</th>\n",
       "      <td>5.00000</td>\n",
       "      <td>3.6</td>\n",
       "      <td>1.4</td>\n",
       "      <td>0.2</td>\n",
       "      <td>Iris-setosa</td>\n",
       "    </tr>\n",
       "    <tr>\n",
       "      <th>5</th>\n",
       "      <td>5.40000</td>\n",
       "      <td>3.9</td>\n",
       "      <td>1.7</td>\n",
       "      <td>0.4</td>\n",
       "      <td>Iris-setosa</td>\n",
       "    </tr>\n",
       "    <tr>\n",
       "      <th>6</th>\n",
       "      <td>4.60000</td>\n",
       "      <td>3.4</td>\n",
       "      <td>1.4</td>\n",
       "      <td>0.3</td>\n",
       "      <td>Iris-setosa</td>\n",
       "    </tr>\n",
       "    <tr>\n",
       "      <th>7</th>\n",
       "      <td>5.00000</td>\n",
       "      <td>3.4</td>\n",
       "      <td>1.5</td>\n",
       "      <td>NaN</td>\n",
       "      <td>Iris-setosa</td>\n",
       "    </tr>\n",
       "    <tr>\n",
       "      <th>8</th>\n",
       "      <td>4.40000</td>\n",
       "      <td>2.9</td>\n",
       "      <td>1.4</td>\n",
       "      <td>0.2</td>\n",
       "      <td>Iris-setosa</td>\n",
       "    </tr>\n",
       "    <tr>\n",
       "      <th>9</th>\n",
       "      <td>4.90000</td>\n",
       "      <td>3.1</td>\n",
       "      <td>NaN</td>\n",
       "      <td>0.1</td>\n",
       "      <td>Iris-setosa</td>\n",
       "    </tr>\n",
       "    <tr>\n",
       "      <th>10</th>\n",
       "      <td>5.40000</td>\n",
       "      <td>3.7</td>\n",
       "      <td>1.5</td>\n",
       "      <td>0.2</td>\n",
       "      <td>Iris-setosa</td>\n",
       "    </tr>\n",
       "    <tr>\n",
       "      <th>11</th>\n",
       "      <td>4.80000</td>\n",
       "      <td>3.4</td>\n",
       "      <td>1.6</td>\n",
       "      <td>0.2</td>\n",
       "      <td>Iris-setosa</td>\n",
       "    </tr>\n",
       "    <tr>\n",
       "      <th>12</th>\n",
       "      <td>4.80000</td>\n",
       "      <td>3.0</td>\n",
       "      <td>1.4</td>\n",
       "      <td>0.1</td>\n",
       "      <td>Iris-setosa</td>\n",
       "    </tr>\n",
       "    <tr>\n",
       "      <th>13</th>\n",
       "      <td>4.30000</td>\n",
       "      <td>3.0</td>\n",
       "      <td>1.1</td>\n",
       "      <td>0.1</td>\n",
       "      <td>Iris-setosa</td>\n",
       "    </tr>\n",
       "    <tr>\n",
       "      <th>14</th>\n",
       "      <td>5.80000</td>\n",
       "      <td>4.0</td>\n",
       "      <td>1.2</td>\n",
       "      <td>0.2</td>\n",
       "      <td>Iris-setosa</td>\n",
       "    </tr>\n",
       "    <tr>\n",
       "      <th>15</th>\n",
       "      <td>5.70000</td>\n",
       "      <td>4.4</td>\n",
       "      <td>1.5</td>\n",
       "      <td>0.4</td>\n",
       "      <td>Iris-setosa</td>\n",
       "    </tr>\n",
       "    <tr>\n",
       "      <th>16</th>\n",
       "      <td>5.84058</td>\n",
       "      <td>3.9</td>\n",
       "      <td>1.3</td>\n",
       "      <td>0.4</td>\n",
       "      <td>Iris-setosa</td>\n",
       "    </tr>\n",
       "    <tr>\n",
       "      <th>17</th>\n",
       "      <td>5.10000</td>\n",
       "      <td>3.5</td>\n",
       "      <td>1.4</td>\n",
       "      <td>0.3</td>\n",
       "      <td>Iris-setosa</td>\n",
       "    </tr>\n",
       "    <tr>\n",
       "      <th>18</th>\n",
       "      <td>5.70000</td>\n",
       "      <td>3.8</td>\n",
       "      <td>1.7</td>\n",
       "      <td>0.3</td>\n",
       "      <td>Iris-setosa</td>\n",
       "    </tr>\n",
       "    <tr>\n",
       "      <th>19</th>\n",
       "      <td>5.10000</td>\n",
       "      <td>3.8</td>\n",
       "      <td>1.5</td>\n",
       "      <td>0.3</td>\n",
       "      <td>Iris-setosa</td>\n",
       "    </tr>\n",
       "    <tr>\n",
       "      <th>20</th>\n",
       "      <td>5.40000</td>\n",
       "      <td>3.4</td>\n",
       "      <td>1.7</td>\n",
       "      <td>0.2</td>\n",
       "      <td>Iris-setosa</td>\n",
       "    </tr>\n",
       "    <tr>\n",
       "      <th>21</th>\n",
       "      <td>5.10000</td>\n",
       "      <td>3.7</td>\n",
       "      <td>1.5</td>\n",
       "      <td>0.4</td>\n",
       "      <td>Iris-setosa</td>\n",
       "    </tr>\n",
       "    <tr>\n",
       "      <th>22</th>\n",
       "      <td>4.60000</td>\n",
       "      <td>3.6</td>\n",
       "      <td>1.0</td>\n",
       "      <td>0.2</td>\n",
       "      <td>NaN</td>\n",
       "    </tr>\n",
       "    <tr>\n",
       "      <th>23</th>\n",
       "      <td>5.10000</td>\n",
       "      <td>3.3</td>\n",
       "      <td>1.7</td>\n",
       "      <td>0.5</td>\n",
       "      <td>NaN</td>\n",
       "    </tr>\n",
       "    <tr>\n",
       "      <th>24</th>\n",
       "      <td>4.80000</td>\n",
       "      <td>3.4</td>\n",
       "      <td>1.9</td>\n",
       "      <td>0.2</td>\n",
       "      <td>Iris-setosa</td>\n",
       "    </tr>\n",
       "    <tr>\n",
       "      <th>25</th>\n",
       "      <td>5.00000</td>\n",
       "      <td>3.0</td>\n",
       "      <td>1.6</td>\n",
       "      <td>0.2</td>\n",
       "      <td>Iris-setosa</td>\n",
       "    </tr>\n",
       "    <tr>\n",
       "      <th>26</th>\n",
       "      <td>5.00000</td>\n",
       "      <td>3.4</td>\n",
       "      <td>NaN</td>\n",
       "      <td>0.4</td>\n",
       "      <td>Iris-setosa</td>\n",
       "    </tr>\n",
       "    <tr>\n",
       "      <th>27</th>\n",
       "      <td>5.20000</td>\n",
       "      <td>3.5</td>\n",
       "      <td>1.5</td>\n",
       "      <td>0.2</td>\n",
       "      <td>Iris-setosa</td>\n",
       "    </tr>\n",
       "    <tr>\n",
       "      <th>28</th>\n",
       "      <td>5.84058</td>\n",
       "      <td>3.4</td>\n",
       "      <td>1.4</td>\n",
       "      <td>0.2</td>\n",
       "      <td>Iris-setosa</td>\n",
       "    </tr>\n",
       "    <tr>\n",
       "      <th>29</th>\n",
       "      <td>4.70000</td>\n",
       "      <td>3.2</td>\n",
       "      <td>1.6</td>\n",
       "      <td>0.2</td>\n",
       "      <td>Iris-setosa</td>\n",
       "    </tr>\n",
       "  </tbody>\n",
       "</table>\n",
       "</div>"
      ],
      "text/plain": [
       "    sepal_length  sepal_width  petal_length  petal_width      species\n",
       "0        5.10000          3.5           1.4          0.2  Iris-setosa\n",
       "1        4.90000          3.0           NaN          0.2  Iris-setosa\n",
       "2        4.70000          3.2           1.3          0.2  Iris-setosa\n",
       "3        4.60000          3.1           1.5          0.2          NaN\n",
       "4        5.00000          3.6           1.4          0.2  Iris-setosa\n",
       "5        5.40000          3.9           1.7          0.4  Iris-setosa\n",
       "6        4.60000          3.4           1.4          0.3  Iris-setosa\n",
       "7        5.00000          3.4           1.5          NaN  Iris-setosa\n",
       "8        4.40000          2.9           1.4          0.2  Iris-setosa\n",
       "9        4.90000          3.1           NaN          0.1  Iris-setosa\n",
       "10       5.40000          3.7           1.5          0.2  Iris-setosa\n",
       "11       4.80000          3.4           1.6          0.2  Iris-setosa\n",
       "12       4.80000          3.0           1.4          0.1  Iris-setosa\n",
       "13       4.30000          3.0           1.1          0.1  Iris-setosa\n",
       "14       5.80000          4.0           1.2          0.2  Iris-setosa\n",
       "15       5.70000          4.4           1.5          0.4  Iris-setosa\n",
       "16       5.84058          3.9           1.3          0.4  Iris-setosa\n",
       "17       5.10000          3.5           1.4          0.3  Iris-setosa\n",
       "18       5.70000          3.8           1.7          0.3  Iris-setosa\n",
       "19       5.10000          3.8           1.5          0.3  Iris-setosa\n",
       "20       5.40000          3.4           1.7          0.2  Iris-setosa\n",
       "21       5.10000          3.7           1.5          0.4  Iris-setosa\n",
       "22       4.60000          3.6           1.0          0.2          NaN\n",
       "23       5.10000          3.3           1.7          0.5          NaN\n",
       "24       4.80000          3.4           1.9          0.2  Iris-setosa\n",
       "25       5.00000          3.0           1.6          0.2  Iris-setosa\n",
       "26       5.00000          3.4           NaN          0.4  Iris-setosa\n",
       "27       5.20000          3.5           1.5          0.2  Iris-setosa\n",
       "28       5.84058          3.4           1.4          0.2  Iris-setosa\n",
       "29       4.70000          3.2           1.6          0.2  Iris-setosa"
      ]
     },
     "execution_count": 34,
     "metadata": {},
     "output_type": "execute_result"
    }
   ],
   "source": [
    "iris1df.head(30)"
   ]
  },
  {
   "cell_type": "markdown",
   "id": "431ea38b",
   "metadata": {
    "papermill": {
     "duration": 0.023998,
     "end_time": "2023-01-03T03:50:36.564154",
     "exception": false,
     "start_time": "2023-01-03T03:50:36.540156",
     "status": "completed"
    },
    "tags": []
   },
   "source": [
    "## Petal length -- Median"
   ]
  },
  {
   "cell_type": "code",
   "execution_count": 35,
   "id": "db89dc04",
   "metadata": {
    "execution": {
     "iopub.execute_input": "2023-01-03T03:50:36.615328Z",
     "iopub.status.busy": "2023-01-03T03:50:36.614899Z",
     "iopub.status.idle": "2023-01-03T03:50:36.623051Z",
     "shell.execute_reply": "2023-01-03T03:50:36.622031Z"
    },
    "papermill": {
     "duration": 0.036823,
     "end_time": "2023-01-03T03:50:36.625301",
     "exception": false,
     "start_time": "2023-01-03T03:50:36.588478",
     "status": "completed"
    },
    "tags": []
   },
   "outputs": [
    {
     "data": {
      "text/plain": [
       "4.2"
      ]
     },
     "execution_count": 35,
     "metadata": {},
     "output_type": "execute_result"
    }
   ],
   "source": [
    "med=iris1df['petal_length'].median()\n",
    "med"
   ]
  },
  {
   "cell_type": "code",
   "execution_count": 36,
   "id": "731cf51f",
   "metadata": {
    "execution": {
     "iopub.execute_input": "2023-01-03T03:50:36.677122Z",
     "iopub.status.busy": "2023-01-03T03:50:36.675768Z",
     "iopub.status.idle": "2023-01-03T03:50:36.683006Z",
     "shell.execute_reply": "2023-01-03T03:50:36.682063Z"
    },
    "papermill": {
     "duration": 0.035809,
     "end_time": "2023-01-03T03:50:36.685506",
     "exception": false,
     "start_time": "2023-01-03T03:50:36.649697",
     "status": "completed"
    },
    "tags": []
   },
   "outputs": [],
   "source": [
    "iris1df['petal_length'].fillna(value=iris1df['petal_length'].median(),inplace=True)"
   ]
  },
  {
   "cell_type": "code",
   "execution_count": 37,
   "id": "306799e2",
   "metadata": {
    "execution": {
     "iopub.execute_input": "2023-01-03T03:50:36.738791Z",
     "iopub.status.busy": "2023-01-03T03:50:36.737198Z",
     "iopub.status.idle": "2023-01-03T03:50:36.761478Z",
     "shell.execute_reply": "2023-01-03T03:50:36.760212Z"
    },
    "papermill": {
     "duration": 0.053768,
     "end_time": "2023-01-03T03:50:36.763829",
     "exception": false,
     "start_time": "2023-01-03T03:50:36.710061",
     "status": "completed"
    },
    "tags": []
   },
   "outputs": [
    {
     "data": {
      "text/html": [
       "<div>\n",
       "<style scoped>\n",
       "    .dataframe tbody tr th:only-of-type {\n",
       "        vertical-align: middle;\n",
       "    }\n",
       "\n",
       "    .dataframe tbody tr th {\n",
       "        vertical-align: top;\n",
       "    }\n",
       "\n",
       "    .dataframe thead th {\n",
       "        text-align: right;\n",
       "    }\n",
       "</style>\n",
       "<table border=\"1\" class=\"dataframe\">\n",
       "  <thead>\n",
       "    <tr style=\"text-align: right;\">\n",
       "      <th></th>\n",
       "      <th>sepal_length</th>\n",
       "      <th>sepal_width</th>\n",
       "      <th>petal_length</th>\n",
       "      <th>petal_width</th>\n",
       "      <th>species</th>\n",
       "    </tr>\n",
       "  </thead>\n",
       "  <tbody>\n",
       "    <tr>\n",
       "      <th>0</th>\n",
       "      <td>5.10000</td>\n",
       "      <td>3.5</td>\n",
       "      <td>1.4</td>\n",
       "      <td>0.2</td>\n",
       "      <td>Iris-setosa</td>\n",
       "    </tr>\n",
       "    <tr>\n",
       "      <th>1</th>\n",
       "      <td>4.90000</td>\n",
       "      <td>3.0</td>\n",
       "      <td>4.2</td>\n",
       "      <td>0.2</td>\n",
       "      <td>Iris-setosa</td>\n",
       "    </tr>\n",
       "    <tr>\n",
       "      <th>2</th>\n",
       "      <td>4.70000</td>\n",
       "      <td>3.2</td>\n",
       "      <td>1.3</td>\n",
       "      <td>0.2</td>\n",
       "      <td>Iris-setosa</td>\n",
       "    </tr>\n",
       "    <tr>\n",
       "      <th>3</th>\n",
       "      <td>4.60000</td>\n",
       "      <td>3.1</td>\n",
       "      <td>1.5</td>\n",
       "      <td>0.2</td>\n",
       "      <td>NaN</td>\n",
       "    </tr>\n",
       "    <tr>\n",
       "      <th>4</th>\n",
       "      <td>5.00000</td>\n",
       "      <td>3.6</td>\n",
       "      <td>1.4</td>\n",
       "      <td>0.2</td>\n",
       "      <td>Iris-setosa</td>\n",
       "    </tr>\n",
       "    <tr>\n",
       "      <th>5</th>\n",
       "      <td>5.40000</td>\n",
       "      <td>3.9</td>\n",
       "      <td>1.7</td>\n",
       "      <td>0.4</td>\n",
       "      <td>Iris-setosa</td>\n",
       "    </tr>\n",
       "    <tr>\n",
       "      <th>6</th>\n",
       "      <td>4.60000</td>\n",
       "      <td>3.4</td>\n",
       "      <td>1.4</td>\n",
       "      <td>0.3</td>\n",
       "      <td>Iris-setosa</td>\n",
       "    </tr>\n",
       "    <tr>\n",
       "      <th>7</th>\n",
       "      <td>5.00000</td>\n",
       "      <td>3.4</td>\n",
       "      <td>1.5</td>\n",
       "      <td>NaN</td>\n",
       "      <td>Iris-setosa</td>\n",
       "    </tr>\n",
       "    <tr>\n",
       "      <th>8</th>\n",
       "      <td>4.40000</td>\n",
       "      <td>2.9</td>\n",
       "      <td>1.4</td>\n",
       "      <td>0.2</td>\n",
       "      <td>Iris-setosa</td>\n",
       "    </tr>\n",
       "    <tr>\n",
       "      <th>9</th>\n",
       "      <td>4.90000</td>\n",
       "      <td>3.1</td>\n",
       "      <td>4.2</td>\n",
       "      <td>0.1</td>\n",
       "      <td>Iris-setosa</td>\n",
       "    </tr>\n",
       "    <tr>\n",
       "      <th>10</th>\n",
       "      <td>5.40000</td>\n",
       "      <td>3.7</td>\n",
       "      <td>1.5</td>\n",
       "      <td>0.2</td>\n",
       "      <td>Iris-setosa</td>\n",
       "    </tr>\n",
       "    <tr>\n",
       "      <th>11</th>\n",
       "      <td>4.80000</td>\n",
       "      <td>3.4</td>\n",
       "      <td>1.6</td>\n",
       "      <td>0.2</td>\n",
       "      <td>Iris-setosa</td>\n",
       "    </tr>\n",
       "    <tr>\n",
       "      <th>12</th>\n",
       "      <td>4.80000</td>\n",
       "      <td>3.0</td>\n",
       "      <td>1.4</td>\n",
       "      <td>0.1</td>\n",
       "      <td>Iris-setosa</td>\n",
       "    </tr>\n",
       "    <tr>\n",
       "      <th>13</th>\n",
       "      <td>4.30000</td>\n",
       "      <td>3.0</td>\n",
       "      <td>1.1</td>\n",
       "      <td>0.1</td>\n",
       "      <td>Iris-setosa</td>\n",
       "    </tr>\n",
       "    <tr>\n",
       "      <th>14</th>\n",
       "      <td>5.80000</td>\n",
       "      <td>4.0</td>\n",
       "      <td>1.2</td>\n",
       "      <td>0.2</td>\n",
       "      <td>Iris-setosa</td>\n",
       "    </tr>\n",
       "    <tr>\n",
       "      <th>15</th>\n",
       "      <td>5.70000</td>\n",
       "      <td>4.4</td>\n",
       "      <td>1.5</td>\n",
       "      <td>0.4</td>\n",
       "      <td>Iris-setosa</td>\n",
       "    </tr>\n",
       "    <tr>\n",
       "      <th>16</th>\n",
       "      <td>5.84058</td>\n",
       "      <td>3.9</td>\n",
       "      <td>1.3</td>\n",
       "      <td>0.4</td>\n",
       "      <td>Iris-setosa</td>\n",
       "    </tr>\n",
       "    <tr>\n",
       "      <th>17</th>\n",
       "      <td>5.10000</td>\n",
       "      <td>3.5</td>\n",
       "      <td>1.4</td>\n",
       "      <td>0.3</td>\n",
       "      <td>Iris-setosa</td>\n",
       "    </tr>\n",
       "    <tr>\n",
       "      <th>18</th>\n",
       "      <td>5.70000</td>\n",
       "      <td>3.8</td>\n",
       "      <td>1.7</td>\n",
       "      <td>0.3</td>\n",
       "      <td>Iris-setosa</td>\n",
       "    </tr>\n",
       "    <tr>\n",
       "      <th>19</th>\n",
       "      <td>5.10000</td>\n",
       "      <td>3.8</td>\n",
       "      <td>1.5</td>\n",
       "      <td>0.3</td>\n",
       "      <td>Iris-setosa</td>\n",
       "    </tr>\n",
       "    <tr>\n",
       "      <th>20</th>\n",
       "      <td>5.40000</td>\n",
       "      <td>3.4</td>\n",
       "      <td>1.7</td>\n",
       "      <td>0.2</td>\n",
       "      <td>Iris-setosa</td>\n",
       "    </tr>\n",
       "    <tr>\n",
       "      <th>21</th>\n",
       "      <td>5.10000</td>\n",
       "      <td>3.7</td>\n",
       "      <td>1.5</td>\n",
       "      <td>0.4</td>\n",
       "      <td>Iris-setosa</td>\n",
       "    </tr>\n",
       "    <tr>\n",
       "      <th>22</th>\n",
       "      <td>4.60000</td>\n",
       "      <td>3.6</td>\n",
       "      <td>1.0</td>\n",
       "      <td>0.2</td>\n",
       "      <td>NaN</td>\n",
       "    </tr>\n",
       "    <tr>\n",
       "      <th>23</th>\n",
       "      <td>5.10000</td>\n",
       "      <td>3.3</td>\n",
       "      <td>1.7</td>\n",
       "      <td>0.5</td>\n",
       "      <td>NaN</td>\n",
       "    </tr>\n",
       "    <tr>\n",
       "      <th>24</th>\n",
       "      <td>4.80000</td>\n",
       "      <td>3.4</td>\n",
       "      <td>1.9</td>\n",
       "      <td>0.2</td>\n",
       "      <td>Iris-setosa</td>\n",
       "    </tr>\n",
       "    <tr>\n",
       "      <th>25</th>\n",
       "      <td>5.00000</td>\n",
       "      <td>3.0</td>\n",
       "      <td>1.6</td>\n",
       "      <td>0.2</td>\n",
       "      <td>Iris-setosa</td>\n",
       "    </tr>\n",
       "    <tr>\n",
       "      <th>26</th>\n",
       "      <td>5.00000</td>\n",
       "      <td>3.4</td>\n",
       "      <td>4.2</td>\n",
       "      <td>0.4</td>\n",
       "      <td>Iris-setosa</td>\n",
       "    </tr>\n",
       "    <tr>\n",
       "      <th>27</th>\n",
       "      <td>5.20000</td>\n",
       "      <td>3.5</td>\n",
       "      <td>1.5</td>\n",
       "      <td>0.2</td>\n",
       "      <td>Iris-setosa</td>\n",
       "    </tr>\n",
       "    <tr>\n",
       "      <th>28</th>\n",
       "      <td>5.84058</td>\n",
       "      <td>3.4</td>\n",
       "      <td>1.4</td>\n",
       "      <td>0.2</td>\n",
       "      <td>Iris-setosa</td>\n",
       "    </tr>\n",
       "    <tr>\n",
       "      <th>29</th>\n",
       "      <td>4.70000</td>\n",
       "      <td>3.2</td>\n",
       "      <td>1.6</td>\n",
       "      <td>0.2</td>\n",
       "      <td>Iris-setosa</td>\n",
       "    </tr>\n",
       "  </tbody>\n",
       "</table>\n",
       "</div>"
      ],
      "text/plain": [
       "    sepal_length  sepal_width  petal_length  petal_width      species\n",
       "0        5.10000          3.5           1.4          0.2  Iris-setosa\n",
       "1        4.90000          3.0           4.2          0.2  Iris-setosa\n",
       "2        4.70000          3.2           1.3          0.2  Iris-setosa\n",
       "3        4.60000          3.1           1.5          0.2          NaN\n",
       "4        5.00000          3.6           1.4          0.2  Iris-setosa\n",
       "5        5.40000          3.9           1.7          0.4  Iris-setosa\n",
       "6        4.60000          3.4           1.4          0.3  Iris-setosa\n",
       "7        5.00000          3.4           1.5          NaN  Iris-setosa\n",
       "8        4.40000          2.9           1.4          0.2  Iris-setosa\n",
       "9        4.90000          3.1           4.2          0.1  Iris-setosa\n",
       "10       5.40000          3.7           1.5          0.2  Iris-setosa\n",
       "11       4.80000          3.4           1.6          0.2  Iris-setosa\n",
       "12       4.80000          3.0           1.4          0.1  Iris-setosa\n",
       "13       4.30000          3.0           1.1          0.1  Iris-setosa\n",
       "14       5.80000          4.0           1.2          0.2  Iris-setosa\n",
       "15       5.70000          4.4           1.5          0.4  Iris-setosa\n",
       "16       5.84058          3.9           1.3          0.4  Iris-setosa\n",
       "17       5.10000          3.5           1.4          0.3  Iris-setosa\n",
       "18       5.70000          3.8           1.7          0.3  Iris-setosa\n",
       "19       5.10000          3.8           1.5          0.3  Iris-setosa\n",
       "20       5.40000          3.4           1.7          0.2  Iris-setosa\n",
       "21       5.10000          3.7           1.5          0.4  Iris-setosa\n",
       "22       4.60000          3.6           1.0          0.2          NaN\n",
       "23       5.10000          3.3           1.7          0.5          NaN\n",
       "24       4.80000          3.4           1.9          0.2  Iris-setosa\n",
       "25       5.00000          3.0           1.6          0.2  Iris-setosa\n",
       "26       5.00000          3.4           4.2          0.4  Iris-setosa\n",
       "27       5.20000          3.5           1.5          0.2  Iris-setosa\n",
       "28       5.84058          3.4           1.4          0.2  Iris-setosa\n",
       "29       4.70000          3.2           1.6          0.2  Iris-setosa"
      ]
     },
     "execution_count": 37,
     "metadata": {},
     "output_type": "execute_result"
    }
   ],
   "source": [
    "iris1df.head(30)"
   ]
  },
  {
   "cell_type": "markdown",
   "id": "c87827b1",
   "metadata": {
    "papermill": {
     "duration": 0.02448,
     "end_time": "2023-01-03T03:50:36.813283",
     "exception": false,
     "start_time": "2023-01-03T03:50:36.788803",
     "status": "completed"
    },
    "tags": []
   },
   "source": [
    "## PETAL WIDTH -- Place a value"
   ]
  },
  {
   "cell_type": "code",
   "execution_count": 38,
   "id": "e0bfe7b7",
   "metadata": {
    "execution": {
     "iopub.execute_input": "2023-01-03T03:50:36.865250Z",
     "iopub.status.busy": "2023-01-03T03:50:36.864811Z",
     "iopub.status.idle": "2023-01-03T03:50:36.871697Z",
     "shell.execute_reply": "2023-01-03T03:50:36.870146Z"
    },
    "papermill": {
     "duration": 0.036322,
     "end_time": "2023-01-03T03:50:36.874515",
     "exception": false,
     "start_time": "2023-01-03T03:50:36.838193",
     "status": "completed"
    },
    "tags": []
   },
   "outputs": [],
   "source": [
    "iris1df['petal_width'].fillna(value=0.1,inplace=True)"
   ]
  },
  {
   "cell_type": "code",
   "execution_count": 39,
   "id": "f9552c65",
   "metadata": {
    "execution": {
     "iopub.execute_input": "2023-01-03T03:50:36.926237Z",
     "iopub.status.busy": "2023-01-03T03:50:36.925833Z",
     "iopub.status.idle": "2023-01-03T03:50:36.949228Z",
     "shell.execute_reply": "2023-01-03T03:50:36.947698Z"
    },
    "papermill": {
     "duration": 0.05283,
     "end_time": "2023-01-03T03:50:36.952261",
     "exception": false,
     "start_time": "2023-01-03T03:50:36.899431",
     "status": "completed"
    },
    "tags": []
   },
   "outputs": [
    {
     "data": {
      "text/html": [
       "<div>\n",
       "<style scoped>\n",
       "    .dataframe tbody tr th:only-of-type {\n",
       "        vertical-align: middle;\n",
       "    }\n",
       "\n",
       "    .dataframe tbody tr th {\n",
       "        vertical-align: top;\n",
       "    }\n",
       "\n",
       "    .dataframe thead th {\n",
       "        text-align: right;\n",
       "    }\n",
       "</style>\n",
       "<table border=\"1\" class=\"dataframe\">\n",
       "  <thead>\n",
       "    <tr style=\"text-align: right;\">\n",
       "      <th></th>\n",
       "      <th>sepal_length</th>\n",
       "      <th>sepal_width</th>\n",
       "      <th>petal_length</th>\n",
       "      <th>petal_width</th>\n",
       "      <th>species</th>\n",
       "    </tr>\n",
       "  </thead>\n",
       "  <tbody>\n",
       "    <tr>\n",
       "      <th>0</th>\n",
       "      <td>5.10000</td>\n",
       "      <td>3.5</td>\n",
       "      <td>1.4</td>\n",
       "      <td>0.2</td>\n",
       "      <td>Iris-setosa</td>\n",
       "    </tr>\n",
       "    <tr>\n",
       "      <th>1</th>\n",
       "      <td>4.90000</td>\n",
       "      <td>3.0</td>\n",
       "      <td>4.2</td>\n",
       "      <td>0.2</td>\n",
       "      <td>Iris-setosa</td>\n",
       "    </tr>\n",
       "    <tr>\n",
       "      <th>2</th>\n",
       "      <td>4.70000</td>\n",
       "      <td>3.2</td>\n",
       "      <td>1.3</td>\n",
       "      <td>0.2</td>\n",
       "      <td>Iris-setosa</td>\n",
       "    </tr>\n",
       "    <tr>\n",
       "      <th>3</th>\n",
       "      <td>4.60000</td>\n",
       "      <td>3.1</td>\n",
       "      <td>1.5</td>\n",
       "      <td>0.2</td>\n",
       "      <td>NaN</td>\n",
       "    </tr>\n",
       "    <tr>\n",
       "      <th>4</th>\n",
       "      <td>5.00000</td>\n",
       "      <td>3.6</td>\n",
       "      <td>1.4</td>\n",
       "      <td>0.2</td>\n",
       "      <td>Iris-setosa</td>\n",
       "    </tr>\n",
       "    <tr>\n",
       "      <th>5</th>\n",
       "      <td>5.40000</td>\n",
       "      <td>3.9</td>\n",
       "      <td>1.7</td>\n",
       "      <td>0.4</td>\n",
       "      <td>Iris-setosa</td>\n",
       "    </tr>\n",
       "    <tr>\n",
       "      <th>6</th>\n",
       "      <td>4.60000</td>\n",
       "      <td>3.4</td>\n",
       "      <td>1.4</td>\n",
       "      <td>0.3</td>\n",
       "      <td>Iris-setosa</td>\n",
       "    </tr>\n",
       "    <tr>\n",
       "      <th>7</th>\n",
       "      <td>5.00000</td>\n",
       "      <td>3.4</td>\n",
       "      <td>1.5</td>\n",
       "      <td>0.1</td>\n",
       "      <td>Iris-setosa</td>\n",
       "    </tr>\n",
       "    <tr>\n",
       "      <th>8</th>\n",
       "      <td>4.40000</td>\n",
       "      <td>2.9</td>\n",
       "      <td>1.4</td>\n",
       "      <td>0.2</td>\n",
       "      <td>Iris-setosa</td>\n",
       "    </tr>\n",
       "    <tr>\n",
       "      <th>9</th>\n",
       "      <td>4.90000</td>\n",
       "      <td>3.1</td>\n",
       "      <td>4.2</td>\n",
       "      <td>0.1</td>\n",
       "      <td>Iris-setosa</td>\n",
       "    </tr>\n",
       "    <tr>\n",
       "      <th>10</th>\n",
       "      <td>5.40000</td>\n",
       "      <td>3.7</td>\n",
       "      <td>1.5</td>\n",
       "      <td>0.2</td>\n",
       "      <td>Iris-setosa</td>\n",
       "    </tr>\n",
       "    <tr>\n",
       "      <th>11</th>\n",
       "      <td>4.80000</td>\n",
       "      <td>3.4</td>\n",
       "      <td>1.6</td>\n",
       "      <td>0.2</td>\n",
       "      <td>Iris-setosa</td>\n",
       "    </tr>\n",
       "    <tr>\n",
       "      <th>12</th>\n",
       "      <td>4.80000</td>\n",
       "      <td>3.0</td>\n",
       "      <td>1.4</td>\n",
       "      <td>0.1</td>\n",
       "      <td>Iris-setosa</td>\n",
       "    </tr>\n",
       "    <tr>\n",
       "      <th>13</th>\n",
       "      <td>4.30000</td>\n",
       "      <td>3.0</td>\n",
       "      <td>1.1</td>\n",
       "      <td>0.1</td>\n",
       "      <td>Iris-setosa</td>\n",
       "    </tr>\n",
       "    <tr>\n",
       "      <th>14</th>\n",
       "      <td>5.80000</td>\n",
       "      <td>4.0</td>\n",
       "      <td>1.2</td>\n",
       "      <td>0.2</td>\n",
       "      <td>Iris-setosa</td>\n",
       "    </tr>\n",
       "    <tr>\n",
       "      <th>15</th>\n",
       "      <td>5.70000</td>\n",
       "      <td>4.4</td>\n",
       "      <td>1.5</td>\n",
       "      <td>0.4</td>\n",
       "      <td>Iris-setosa</td>\n",
       "    </tr>\n",
       "    <tr>\n",
       "      <th>16</th>\n",
       "      <td>5.84058</td>\n",
       "      <td>3.9</td>\n",
       "      <td>1.3</td>\n",
       "      <td>0.4</td>\n",
       "      <td>Iris-setosa</td>\n",
       "    </tr>\n",
       "    <tr>\n",
       "      <th>17</th>\n",
       "      <td>5.10000</td>\n",
       "      <td>3.5</td>\n",
       "      <td>1.4</td>\n",
       "      <td>0.3</td>\n",
       "      <td>Iris-setosa</td>\n",
       "    </tr>\n",
       "    <tr>\n",
       "      <th>18</th>\n",
       "      <td>5.70000</td>\n",
       "      <td>3.8</td>\n",
       "      <td>1.7</td>\n",
       "      <td>0.3</td>\n",
       "      <td>Iris-setosa</td>\n",
       "    </tr>\n",
       "    <tr>\n",
       "      <th>19</th>\n",
       "      <td>5.10000</td>\n",
       "      <td>3.8</td>\n",
       "      <td>1.5</td>\n",
       "      <td>0.3</td>\n",
       "      <td>Iris-setosa</td>\n",
       "    </tr>\n",
       "    <tr>\n",
       "      <th>20</th>\n",
       "      <td>5.40000</td>\n",
       "      <td>3.4</td>\n",
       "      <td>1.7</td>\n",
       "      <td>0.2</td>\n",
       "      <td>Iris-setosa</td>\n",
       "    </tr>\n",
       "    <tr>\n",
       "      <th>21</th>\n",
       "      <td>5.10000</td>\n",
       "      <td>3.7</td>\n",
       "      <td>1.5</td>\n",
       "      <td>0.4</td>\n",
       "      <td>Iris-setosa</td>\n",
       "    </tr>\n",
       "    <tr>\n",
       "      <th>22</th>\n",
       "      <td>4.60000</td>\n",
       "      <td>3.6</td>\n",
       "      <td>1.0</td>\n",
       "      <td>0.2</td>\n",
       "      <td>NaN</td>\n",
       "    </tr>\n",
       "    <tr>\n",
       "      <th>23</th>\n",
       "      <td>5.10000</td>\n",
       "      <td>3.3</td>\n",
       "      <td>1.7</td>\n",
       "      <td>0.5</td>\n",
       "      <td>NaN</td>\n",
       "    </tr>\n",
       "    <tr>\n",
       "      <th>24</th>\n",
       "      <td>4.80000</td>\n",
       "      <td>3.4</td>\n",
       "      <td>1.9</td>\n",
       "      <td>0.2</td>\n",
       "      <td>Iris-setosa</td>\n",
       "    </tr>\n",
       "    <tr>\n",
       "      <th>25</th>\n",
       "      <td>5.00000</td>\n",
       "      <td>3.0</td>\n",
       "      <td>1.6</td>\n",
       "      <td>0.2</td>\n",
       "      <td>Iris-setosa</td>\n",
       "    </tr>\n",
       "    <tr>\n",
       "      <th>26</th>\n",
       "      <td>5.00000</td>\n",
       "      <td>3.4</td>\n",
       "      <td>4.2</td>\n",
       "      <td>0.4</td>\n",
       "      <td>Iris-setosa</td>\n",
       "    </tr>\n",
       "    <tr>\n",
       "      <th>27</th>\n",
       "      <td>5.20000</td>\n",
       "      <td>3.5</td>\n",
       "      <td>1.5</td>\n",
       "      <td>0.2</td>\n",
       "      <td>Iris-setosa</td>\n",
       "    </tr>\n",
       "    <tr>\n",
       "      <th>28</th>\n",
       "      <td>5.84058</td>\n",
       "      <td>3.4</td>\n",
       "      <td>1.4</td>\n",
       "      <td>0.2</td>\n",
       "      <td>Iris-setosa</td>\n",
       "    </tr>\n",
       "    <tr>\n",
       "      <th>29</th>\n",
       "      <td>4.70000</td>\n",
       "      <td>3.2</td>\n",
       "      <td>1.6</td>\n",
       "      <td>0.2</td>\n",
       "      <td>Iris-setosa</td>\n",
       "    </tr>\n",
       "  </tbody>\n",
       "</table>\n",
       "</div>"
      ],
      "text/plain": [
       "    sepal_length  sepal_width  petal_length  petal_width      species\n",
       "0        5.10000          3.5           1.4          0.2  Iris-setosa\n",
       "1        4.90000          3.0           4.2          0.2  Iris-setosa\n",
       "2        4.70000          3.2           1.3          0.2  Iris-setosa\n",
       "3        4.60000          3.1           1.5          0.2          NaN\n",
       "4        5.00000          3.6           1.4          0.2  Iris-setosa\n",
       "5        5.40000          3.9           1.7          0.4  Iris-setosa\n",
       "6        4.60000          3.4           1.4          0.3  Iris-setosa\n",
       "7        5.00000          3.4           1.5          0.1  Iris-setosa\n",
       "8        4.40000          2.9           1.4          0.2  Iris-setosa\n",
       "9        4.90000          3.1           4.2          0.1  Iris-setosa\n",
       "10       5.40000          3.7           1.5          0.2  Iris-setosa\n",
       "11       4.80000          3.4           1.6          0.2  Iris-setosa\n",
       "12       4.80000          3.0           1.4          0.1  Iris-setosa\n",
       "13       4.30000          3.0           1.1          0.1  Iris-setosa\n",
       "14       5.80000          4.0           1.2          0.2  Iris-setosa\n",
       "15       5.70000          4.4           1.5          0.4  Iris-setosa\n",
       "16       5.84058          3.9           1.3          0.4  Iris-setosa\n",
       "17       5.10000          3.5           1.4          0.3  Iris-setosa\n",
       "18       5.70000          3.8           1.7          0.3  Iris-setosa\n",
       "19       5.10000          3.8           1.5          0.3  Iris-setosa\n",
       "20       5.40000          3.4           1.7          0.2  Iris-setosa\n",
       "21       5.10000          3.7           1.5          0.4  Iris-setosa\n",
       "22       4.60000          3.6           1.0          0.2          NaN\n",
       "23       5.10000          3.3           1.7          0.5          NaN\n",
       "24       4.80000          3.4           1.9          0.2  Iris-setosa\n",
       "25       5.00000          3.0           1.6          0.2  Iris-setosa\n",
       "26       5.00000          3.4           4.2          0.4  Iris-setosa\n",
       "27       5.20000          3.5           1.5          0.2  Iris-setosa\n",
       "28       5.84058          3.4           1.4          0.2  Iris-setosa\n",
       "29       4.70000          3.2           1.6          0.2  Iris-setosa"
      ]
     },
     "execution_count": 39,
     "metadata": {},
     "output_type": "execute_result"
    }
   ],
   "source": [
    "iris1df.head(30)"
   ]
  },
  {
   "cell_type": "markdown",
   "id": "a63a3083",
   "metadata": {
    "papermill": {
     "duration": 0.025032,
     "end_time": "2023-01-03T03:50:37.003105",
     "exception": false,
     "start_time": "2023-01-03T03:50:36.978073",
     "status": "completed"
    },
    "tags": []
   },
   "source": [
    "SPECIES--- DROP\n",
    "\n",
    "**8.  dropna(axis,how)**"
   ]
  },
  {
   "cell_type": "code",
   "execution_count": 40,
   "id": "6a98d45c",
   "metadata": {
    "execution": {
     "iopub.execute_input": "2023-01-03T03:50:37.057478Z",
     "iopub.status.busy": "2023-01-03T03:50:37.057057Z",
     "iopub.status.idle": "2023-01-03T03:50:37.066454Z",
     "shell.execute_reply": "2023-01-03T03:50:37.065234Z"
    },
    "papermill": {
     "duration": 0.038928,
     "end_time": "2023-01-03T03:50:37.069182",
     "exception": false,
     "start_time": "2023-01-03T03:50:37.030254",
     "status": "completed"
    },
    "tags": []
   },
   "outputs": [],
   "source": [
    "iris1df=iris1df.dropna(axis=0,how='any')"
   ]
  },
  {
   "cell_type": "code",
   "execution_count": 41,
   "id": "dba345ab",
   "metadata": {
    "execution": {
     "iopub.execute_input": "2023-01-03T03:50:37.122935Z",
     "iopub.status.busy": "2023-01-03T03:50:37.122418Z",
     "iopub.status.idle": "2023-01-03T03:50:37.133218Z",
     "shell.execute_reply": "2023-01-03T03:50:37.131754Z"
    },
    "papermill": {
     "duration": 0.040469,
     "end_time": "2023-01-03T03:50:37.135702",
     "exception": false,
     "start_time": "2023-01-03T03:50:37.095233",
     "status": "completed"
    },
    "tags": []
   },
   "outputs": [
    {
     "data": {
      "text/plain": [
       "sepal_length    0\n",
       "sepal_width     0\n",
       "petal_length    0\n",
       "petal_width     0\n",
       "species         0\n",
       "dtype: int64"
      ]
     },
     "execution_count": 41,
     "metadata": {},
     "output_type": "execute_result"
    }
   ],
   "source": [
    "iris1df.isnull().sum()"
   ]
  },
  {
   "cell_type": "code",
   "execution_count": 42,
   "id": "2f796d55",
   "metadata": {
    "execution": {
     "iopub.execute_input": "2023-01-03T03:50:37.189648Z",
     "iopub.status.busy": "2023-01-03T03:50:37.189204Z",
     "iopub.status.idle": "2023-01-03T03:50:37.197056Z",
     "shell.execute_reply": "2023-01-03T03:50:37.195542Z"
    },
    "papermill": {
     "duration": 0.03724,
     "end_time": "2023-01-03T03:50:37.199437",
     "exception": false,
     "start_time": "2023-01-03T03:50:37.162197",
     "status": "completed"
    },
    "tags": []
   },
   "outputs": [
    {
     "data": {
      "text/plain": [
       "(135, 5)"
      ]
     },
     "execution_count": 42,
     "metadata": {},
     "output_type": "execute_result"
    }
   ],
   "source": [
    "#shape\n",
    "iris1df.shape"
   ]
  },
  {
   "cell_type": "code",
   "execution_count": 43,
   "id": "d316c124",
   "metadata": {
    "execution": {
     "iopub.execute_input": "2023-01-03T03:50:37.254375Z",
     "iopub.status.busy": "2023-01-03T03:50:37.253920Z",
     "iopub.status.idle": "2023-01-03T03:50:37.277642Z",
     "shell.execute_reply": "2023-01-03T03:50:37.276378Z"
    },
    "papermill": {
     "duration": 0.054331,
     "end_time": "2023-01-03T03:50:37.280430",
     "exception": false,
     "start_time": "2023-01-03T03:50:37.226099",
     "status": "completed"
    },
    "tags": []
   },
   "outputs": [
    {
     "data": {
      "text/html": [
       "<div>\n",
       "<style scoped>\n",
       "    .dataframe tbody tr th:only-of-type {\n",
       "        vertical-align: middle;\n",
       "    }\n",
       "\n",
       "    .dataframe tbody tr th {\n",
       "        vertical-align: top;\n",
       "    }\n",
       "\n",
       "    .dataframe thead th {\n",
       "        text-align: right;\n",
       "    }\n",
       "</style>\n",
       "<table border=\"1\" class=\"dataframe\">\n",
       "  <thead>\n",
       "    <tr style=\"text-align: right;\">\n",
       "      <th></th>\n",
       "      <th>sepal_length</th>\n",
       "      <th>sepal_width</th>\n",
       "      <th>petal_length</th>\n",
       "      <th>petal_width</th>\n",
       "      <th>species</th>\n",
       "    </tr>\n",
       "  </thead>\n",
       "  <tbody>\n",
       "    <tr>\n",
       "      <th>0</th>\n",
       "      <td>5.10000</td>\n",
       "      <td>3.5</td>\n",
       "      <td>1.4</td>\n",
       "      <td>0.2</td>\n",
       "      <td>Iris-setosa</td>\n",
       "    </tr>\n",
       "    <tr>\n",
       "      <th>1</th>\n",
       "      <td>4.90000</td>\n",
       "      <td>3.0</td>\n",
       "      <td>4.2</td>\n",
       "      <td>0.2</td>\n",
       "      <td>Iris-setosa</td>\n",
       "    </tr>\n",
       "    <tr>\n",
       "      <th>2</th>\n",
       "      <td>4.70000</td>\n",
       "      <td>3.2</td>\n",
       "      <td>1.3</td>\n",
       "      <td>0.2</td>\n",
       "      <td>Iris-setosa</td>\n",
       "    </tr>\n",
       "    <tr>\n",
       "      <th>4</th>\n",
       "      <td>5.00000</td>\n",
       "      <td>3.6</td>\n",
       "      <td>1.4</td>\n",
       "      <td>0.2</td>\n",
       "      <td>Iris-setosa</td>\n",
       "    </tr>\n",
       "    <tr>\n",
       "      <th>5</th>\n",
       "      <td>5.40000</td>\n",
       "      <td>3.9</td>\n",
       "      <td>1.7</td>\n",
       "      <td>0.4</td>\n",
       "      <td>Iris-setosa</td>\n",
       "    </tr>\n",
       "    <tr>\n",
       "      <th>6</th>\n",
       "      <td>4.60000</td>\n",
       "      <td>3.4</td>\n",
       "      <td>1.4</td>\n",
       "      <td>0.3</td>\n",
       "      <td>Iris-setosa</td>\n",
       "    </tr>\n",
       "    <tr>\n",
       "      <th>7</th>\n",
       "      <td>5.00000</td>\n",
       "      <td>3.4</td>\n",
       "      <td>1.5</td>\n",
       "      <td>0.1</td>\n",
       "      <td>Iris-setosa</td>\n",
       "    </tr>\n",
       "    <tr>\n",
       "      <th>8</th>\n",
       "      <td>4.40000</td>\n",
       "      <td>2.9</td>\n",
       "      <td>1.4</td>\n",
       "      <td>0.2</td>\n",
       "      <td>Iris-setosa</td>\n",
       "    </tr>\n",
       "    <tr>\n",
       "      <th>9</th>\n",
       "      <td>4.90000</td>\n",
       "      <td>3.1</td>\n",
       "      <td>4.2</td>\n",
       "      <td>0.1</td>\n",
       "      <td>Iris-setosa</td>\n",
       "    </tr>\n",
       "    <tr>\n",
       "      <th>10</th>\n",
       "      <td>5.40000</td>\n",
       "      <td>3.7</td>\n",
       "      <td>1.5</td>\n",
       "      <td>0.2</td>\n",
       "      <td>Iris-setosa</td>\n",
       "    </tr>\n",
       "    <tr>\n",
       "      <th>11</th>\n",
       "      <td>4.80000</td>\n",
       "      <td>3.4</td>\n",
       "      <td>1.6</td>\n",
       "      <td>0.2</td>\n",
       "      <td>Iris-setosa</td>\n",
       "    </tr>\n",
       "    <tr>\n",
       "      <th>12</th>\n",
       "      <td>4.80000</td>\n",
       "      <td>3.0</td>\n",
       "      <td>1.4</td>\n",
       "      <td>0.1</td>\n",
       "      <td>Iris-setosa</td>\n",
       "    </tr>\n",
       "    <tr>\n",
       "      <th>13</th>\n",
       "      <td>4.30000</td>\n",
       "      <td>3.0</td>\n",
       "      <td>1.1</td>\n",
       "      <td>0.1</td>\n",
       "      <td>Iris-setosa</td>\n",
       "    </tr>\n",
       "    <tr>\n",
       "      <th>14</th>\n",
       "      <td>5.80000</td>\n",
       "      <td>4.0</td>\n",
       "      <td>1.2</td>\n",
       "      <td>0.2</td>\n",
       "      <td>Iris-setosa</td>\n",
       "    </tr>\n",
       "    <tr>\n",
       "      <th>15</th>\n",
       "      <td>5.70000</td>\n",
       "      <td>4.4</td>\n",
       "      <td>1.5</td>\n",
       "      <td>0.4</td>\n",
       "      <td>Iris-setosa</td>\n",
       "    </tr>\n",
       "    <tr>\n",
       "      <th>16</th>\n",
       "      <td>5.84058</td>\n",
       "      <td>3.9</td>\n",
       "      <td>1.3</td>\n",
       "      <td>0.4</td>\n",
       "      <td>Iris-setosa</td>\n",
       "    </tr>\n",
       "    <tr>\n",
       "      <th>17</th>\n",
       "      <td>5.10000</td>\n",
       "      <td>3.5</td>\n",
       "      <td>1.4</td>\n",
       "      <td>0.3</td>\n",
       "      <td>Iris-setosa</td>\n",
       "    </tr>\n",
       "    <tr>\n",
       "      <th>18</th>\n",
       "      <td>5.70000</td>\n",
       "      <td>3.8</td>\n",
       "      <td>1.7</td>\n",
       "      <td>0.3</td>\n",
       "      <td>Iris-setosa</td>\n",
       "    </tr>\n",
       "    <tr>\n",
       "      <th>19</th>\n",
       "      <td>5.10000</td>\n",
       "      <td>3.8</td>\n",
       "      <td>1.5</td>\n",
       "      <td>0.3</td>\n",
       "      <td>Iris-setosa</td>\n",
       "    </tr>\n",
       "    <tr>\n",
       "      <th>20</th>\n",
       "      <td>5.40000</td>\n",
       "      <td>3.4</td>\n",
       "      <td>1.7</td>\n",
       "      <td>0.2</td>\n",
       "      <td>Iris-setosa</td>\n",
       "    </tr>\n",
       "    <tr>\n",
       "      <th>21</th>\n",
       "      <td>5.10000</td>\n",
       "      <td>3.7</td>\n",
       "      <td>1.5</td>\n",
       "      <td>0.4</td>\n",
       "      <td>Iris-setosa</td>\n",
       "    </tr>\n",
       "    <tr>\n",
       "      <th>24</th>\n",
       "      <td>4.80000</td>\n",
       "      <td>3.4</td>\n",
       "      <td>1.9</td>\n",
       "      <td>0.2</td>\n",
       "      <td>Iris-setosa</td>\n",
       "    </tr>\n",
       "    <tr>\n",
       "      <th>25</th>\n",
       "      <td>5.00000</td>\n",
       "      <td>3.0</td>\n",
       "      <td>1.6</td>\n",
       "      <td>0.2</td>\n",
       "      <td>Iris-setosa</td>\n",
       "    </tr>\n",
       "    <tr>\n",
       "      <th>26</th>\n",
       "      <td>5.00000</td>\n",
       "      <td>3.4</td>\n",
       "      <td>4.2</td>\n",
       "      <td>0.4</td>\n",
       "      <td>Iris-setosa</td>\n",
       "    </tr>\n",
       "    <tr>\n",
       "      <th>27</th>\n",
       "      <td>5.20000</td>\n",
       "      <td>3.5</td>\n",
       "      <td>1.5</td>\n",
       "      <td>0.2</td>\n",
       "      <td>Iris-setosa</td>\n",
       "    </tr>\n",
       "    <tr>\n",
       "      <th>28</th>\n",
       "      <td>5.84058</td>\n",
       "      <td>3.4</td>\n",
       "      <td>1.4</td>\n",
       "      <td>0.2</td>\n",
       "      <td>Iris-setosa</td>\n",
       "    </tr>\n",
       "    <tr>\n",
       "      <th>29</th>\n",
       "      <td>4.70000</td>\n",
       "      <td>3.2</td>\n",
       "      <td>1.6</td>\n",
       "      <td>0.2</td>\n",
       "      <td>Iris-setosa</td>\n",
       "    </tr>\n",
       "    <tr>\n",
       "      <th>30</th>\n",
       "      <td>4.80000</td>\n",
       "      <td>3.1</td>\n",
       "      <td>1.6</td>\n",
       "      <td>0.2</td>\n",
       "      <td>Iris-setosa</td>\n",
       "    </tr>\n",
       "    <tr>\n",
       "      <th>31</th>\n",
       "      <td>5.40000</td>\n",
       "      <td>3.4</td>\n",
       "      <td>1.5</td>\n",
       "      <td>0.4</td>\n",
       "      <td>Iris-setosa</td>\n",
       "    </tr>\n",
       "    <tr>\n",
       "      <th>32</th>\n",
       "      <td>5.20000</td>\n",
       "      <td>3.0</td>\n",
       "      <td>1.5</td>\n",
       "      <td>0.1</td>\n",
       "      <td>Iris-setosa</td>\n",
       "    </tr>\n",
       "  </tbody>\n",
       "</table>\n",
       "</div>"
      ],
      "text/plain": [
       "    sepal_length  sepal_width  petal_length  petal_width      species\n",
       "0        5.10000          3.5           1.4          0.2  Iris-setosa\n",
       "1        4.90000          3.0           4.2          0.2  Iris-setosa\n",
       "2        4.70000          3.2           1.3          0.2  Iris-setosa\n",
       "4        5.00000          3.6           1.4          0.2  Iris-setosa\n",
       "5        5.40000          3.9           1.7          0.4  Iris-setosa\n",
       "6        4.60000          3.4           1.4          0.3  Iris-setosa\n",
       "7        5.00000          3.4           1.5          0.1  Iris-setosa\n",
       "8        4.40000          2.9           1.4          0.2  Iris-setosa\n",
       "9        4.90000          3.1           4.2          0.1  Iris-setosa\n",
       "10       5.40000          3.7           1.5          0.2  Iris-setosa\n",
       "11       4.80000          3.4           1.6          0.2  Iris-setosa\n",
       "12       4.80000          3.0           1.4          0.1  Iris-setosa\n",
       "13       4.30000          3.0           1.1          0.1  Iris-setosa\n",
       "14       5.80000          4.0           1.2          0.2  Iris-setosa\n",
       "15       5.70000          4.4           1.5          0.4  Iris-setosa\n",
       "16       5.84058          3.9           1.3          0.4  Iris-setosa\n",
       "17       5.10000          3.5           1.4          0.3  Iris-setosa\n",
       "18       5.70000          3.8           1.7          0.3  Iris-setosa\n",
       "19       5.10000          3.8           1.5          0.3  Iris-setosa\n",
       "20       5.40000          3.4           1.7          0.2  Iris-setosa\n",
       "21       5.10000          3.7           1.5          0.4  Iris-setosa\n",
       "24       4.80000          3.4           1.9          0.2  Iris-setosa\n",
       "25       5.00000          3.0           1.6          0.2  Iris-setosa\n",
       "26       5.00000          3.4           4.2          0.4  Iris-setosa\n",
       "27       5.20000          3.5           1.5          0.2  Iris-setosa\n",
       "28       5.84058          3.4           1.4          0.2  Iris-setosa\n",
       "29       4.70000          3.2           1.6          0.2  Iris-setosa\n",
       "30       4.80000          3.1           1.6          0.2  Iris-setosa\n",
       "31       5.40000          3.4           1.5          0.4  Iris-setosa\n",
       "32       5.20000          3.0           1.5          0.1  Iris-setosa"
      ]
     },
     "execution_count": 43,
     "metadata": {},
     "output_type": "execute_result"
    }
   ],
   "source": [
    "iris1df.head(30)"
   ]
  },
  {
   "cell_type": "markdown",
   "id": "58e49d53",
   "metadata": {
    "papermill": {
     "duration": 0.027141,
     "end_time": "2023-01-03T03:50:37.334497",
     "exception": false,
     "start_time": "2023-01-03T03:50:37.307356",
     "status": "completed"
    },
    "tags": []
   },
   "source": [
    "# Data Visualization\n",
    "#### (Using Day 3 Dataset)"
   ]
  },
  {
   "cell_type": "code",
   "execution_count": 44,
   "id": "c8eb02f2",
   "metadata": {
    "execution": {
     "iopub.execute_input": "2023-01-03T03:50:37.392330Z",
     "iopub.status.busy": "2023-01-03T03:50:37.391888Z",
     "iopub.status.idle": "2023-01-03T03:50:37.397350Z",
     "shell.execute_reply": "2023-01-03T03:50:37.395935Z"
    },
    "papermill": {
     "duration": 0.03756,
     "end_time": "2023-01-03T03:50:37.399990",
     "exception": false,
     "start_time": "2023-01-03T03:50:37.362430",
     "status": "completed"
    },
    "tags": []
   },
   "outputs": [],
   "source": [
    "import matplotlib.pyplot as plt"
   ]
  },
  {
   "cell_type": "code",
   "execution_count": 45,
   "id": "90665989",
   "metadata": {
    "execution": {
     "iopub.execute_input": "2023-01-03T03:50:37.457412Z",
     "iopub.status.busy": "2023-01-03T03:50:37.456653Z",
     "iopub.status.idle": "2023-01-03T03:50:37.462565Z",
     "shell.execute_reply": "2023-01-03T03:50:37.461083Z"
    },
    "papermill": {
     "duration": 0.038418,
     "end_time": "2023-01-03T03:50:37.465461",
     "exception": false,
     "start_time": "2023-01-03T03:50:37.427043",
     "status": "completed"
    },
    "tags": []
   },
   "outputs": [],
   "source": [
    "petal_length=irisdf['petal_length']\n",
    "petal_width=irisdf['petal_width']\n",
    "sepal_length=irisdf['sepal_length']\n",
    "sepal_width=irisdf['sepal_width']"
   ]
  },
  {
   "cell_type": "markdown",
   "id": "56226b85",
   "metadata": {
    "papermill": {
     "duration": 0.027129,
     "end_time": "2023-01-03T03:50:37.519926",
     "exception": false,
     "start_time": "2023-01-03T03:50:37.492797",
     "status": "completed"
    },
    "tags": []
   },
   "source": [
    "## Scatter Plot between Petal Length and Petal Width"
   ]
  },
  {
   "cell_type": "code",
   "execution_count": 46,
   "id": "6ca7d676",
   "metadata": {
    "execution": {
     "iopub.execute_input": "2023-01-03T03:50:37.576467Z",
     "iopub.status.busy": "2023-01-03T03:50:37.576038Z",
     "iopub.status.idle": "2023-01-03T03:50:37.830533Z",
     "shell.execute_reply": "2023-01-03T03:50:37.828993Z"
    },
    "papermill": {
     "duration": 0.286725,
     "end_time": "2023-01-03T03:50:37.833657",
     "exception": false,
     "start_time": "2023-01-03T03:50:37.546932",
     "status": "completed"
    },
    "tags": []
   },
   "outputs": [
    {
     "data": {
      "image/png": "[encoded data removed]",
      "text/plain": [
       "<Figure size 432x288 with 1 Axes>"
      ]
     },
     "metadata": {
      "needs_background": "light"
     },
     "output_type": "display_data"
    }
   ],
   "source": [
    "plt.scatter(x=petal_length,y=petal_width)\n",
    "plt.xlabel(\"petal_length\")\n",
    "plt.ylabel(\"petal_width\")\n",
    "plt.show()"
   ]
  },
  {
   "cell_type": "markdown",
   "id": "2f10969c",
   "metadata": {
    "papermill": {
     "duration": 0.028516,
     "end_time": "2023-01-03T03:50:37.889535",
     "exception": false,
     "start_time": "2023-01-03T03:50:37.861019",
     "status": "completed"
    },
    "tags": []
   },
   "source": [
    "## Scatter Plot Categorization with Different Species of the Iris Plant"
   ]
  },
  {
   "cell_type": "code",
   "execution_count": 47,
   "id": "23ae8e14",
   "metadata": {
    "execution": {
     "iopub.execute_input": "2023-01-03T03:50:37.947032Z",
     "iopub.status.busy": "2023-01-03T03:50:37.945983Z",
     "iopub.status.idle": "2023-01-03T03:50:37.976817Z",
     "shell.execute_reply": "2023-01-03T03:50:37.975292Z"
    },
    "papermill": {
     "duration": 0.06243,
     "end_time": "2023-01-03T03:50:37.979723",
     "exception": false,
     "start_time": "2023-01-03T03:50:37.917293",
     "status": "completed"
    },
    "tags": []
   },
   "outputs": [
    {
     "data": {
      "text/html": [
       "<div>\n",
       "<style scoped>\n",
       "    .dataframe tbody tr th:only-of-type {\n",
       "        vertical-align: middle;\n",
       "    }\n",
       "\n",
       "    .dataframe tbody tr th {\n",
       "        vertical-align: top;\n",
       "    }\n",
       "\n",
       "    .dataframe thead th {\n",
       "        text-align: right;\n",
       "    }\n",
       "</style>\n",
       "<table border=\"1\" class=\"dataframe\">\n",
       "  <thead>\n",
       "    <tr style=\"text-align: right;\">\n",
       "      <th></th>\n",
       "      <th>sepal_length</th>\n",
       "      <th>sepal_width</th>\n",
       "      <th>petal_length</th>\n",
       "      <th>petal_width</th>\n",
       "      <th>species</th>\n",
       "    </tr>\n",
       "  </thead>\n",
       "  <tbody>\n",
       "    <tr>\n",
       "      <th>0</th>\n",
       "      <td>5.1</td>\n",
       "      <td>3.5</td>\n",
       "      <td>1.4</td>\n",
       "      <td>0.2</td>\n",
       "      <td>Iris-setosa</td>\n",
       "    </tr>\n",
       "    <tr>\n",
       "      <th>1</th>\n",
       "      <td>4.9</td>\n",
       "      <td>3.0</td>\n",
       "      <td>1.4</td>\n",
       "      <td>0.2</td>\n",
       "      <td>Iris-setosa</td>\n",
       "    </tr>\n",
       "    <tr>\n",
       "      <th>2</th>\n",
       "      <td>4.7</td>\n",
       "      <td>3.2</td>\n",
       "      <td>1.3</td>\n",
       "      <td>0.2</td>\n",
       "      <td>Iris-setosa</td>\n",
       "    </tr>\n",
       "    <tr>\n",
       "      <th>3</th>\n",
       "      <td>4.6</td>\n",
       "      <td>3.1</td>\n",
       "      <td>1.5</td>\n",
       "      <td>0.2</td>\n",
       "      <td>Iris-setosa</td>\n",
       "    </tr>\n",
       "    <tr>\n",
       "      <th>4</th>\n",
       "      <td>5.0</td>\n",
       "      <td>3.6</td>\n",
       "      <td>1.4</td>\n",
       "      <td>0.2</td>\n",
       "      <td>Iris-setosa</td>\n",
       "    </tr>\n",
       "    <tr>\n",
       "      <th>5</th>\n",
       "      <td>5.4</td>\n",
       "      <td>3.9</td>\n",
       "      <td>1.7</td>\n",
       "      <td>0.4</td>\n",
       "      <td>Iris-setosa</td>\n",
       "    </tr>\n",
       "    <tr>\n",
       "      <th>6</th>\n",
       "      <td>4.6</td>\n",
       "      <td>3.4</td>\n",
       "      <td>1.4</td>\n",
       "      <td>0.3</td>\n",
       "      <td>Iris-setosa</td>\n",
       "    </tr>\n",
       "    <tr>\n",
       "      <th>7</th>\n",
       "      <td>5.0</td>\n",
       "      <td>3.4</td>\n",
       "      <td>1.5</td>\n",
       "      <td>0.2</td>\n",
       "      <td>Iris-setosa</td>\n",
       "    </tr>\n",
       "    <tr>\n",
       "      <th>8</th>\n",
       "      <td>4.4</td>\n",
       "      <td>2.9</td>\n",
       "      <td>1.4</td>\n",
       "      <td>0.2</td>\n",
       "      <td>Iris-setosa</td>\n",
       "    </tr>\n",
       "    <tr>\n",
       "      <th>9</th>\n",
       "      <td>4.9</td>\n",
       "      <td>3.1</td>\n",
       "      <td>1.5</td>\n",
       "      <td>0.1</td>\n",
       "      <td>Iris-setosa</td>\n",
       "    </tr>\n",
       "    <tr>\n",
       "      <th>10</th>\n",
       "      <td>5.4</td>\n",
       "      <td>3.7</td>\n",
       "      <td>1.5</td>\n",
       "      <td>0.2</td>\n",
       "      <td>Iris-setosa</td>\n",
       "    </tr>\n",
       "    <tr>\n",
       "      <th>11</th>\n",
       "      <td>4.8</td>\n",
       "      <td>3.4</td>\n",
       "      <td>1.6</td>\n",
       "      <td>0.2</td>\n",
       "      <td>Iris-setosa</td>\n",
       "    </tr>\n",
       "    <tr>\n",
       "      <th>12</th>\n",
       "      <td>4.8</td>\n",
       "      <td>3.0</td>\n",
       "      <td>1.4</td>\n",
       "      <td>0.1</td>\n",
       "      <td>Iris-setosa</td>\n",
       "    </tr>\n",
       "    <tr>\n",
       "      <th>13</th>\n",
       "      <td>4.3</td>\n",
       "      <td>3.0</td>\n",
       "      <td>1.1</td>\n",
       "      <td>0.1</td>\n",
       "      <td>Iris-setosa</td>\n",
       "    </tr>\n",
       "    <tr>\n",
       "      <th>14</th>\n",
       "      <td>5.8</td>\n",
       "      <td>4.0</td>\n",
       "      <td>1.2</td>\n",
       "      <td>0.2</td>\n",
       "      <td>Iris-setosa</td>\n",
       "    </tr>\n",
       "    <tr>\n",
       "      <th>15</th>\n",
       "      <td>5.7</td>\n",
       "      <td>4.4</td>\n",
       "      <td>1.5</td>\n",
       "      <td>0.4</td>\n",
       "      <td>Iris-setosa</td>\n",
       "    </tr>\n",
       "    <tr>\n",
       "      <th>16</th>\n",
       "      <td>5.4</td>\n",
       "      <td>3.9</td>\n",
       "      <td>1.3</td>\n",
       "      <td>0.4</td>\n",
       "      <td>Iris-setosa</td>\n",
       "    </tr>\n",
       "    <tr>\n",
       "      <th>17</th>\n",
       "      <td>5.1</td>\n",
       "      <td>3.5</td>\n",
       "      <td>1.4</td>\n",
       "      <td>0.3</td>\n",
       "      <td>Iris-setosa</td>\n",
       "    </tr>\n",
       "    <tr>\n",
       "      <th>18</th>\n",
       "      <td>5.7</td>\n",
       "      <td>3.8</td>\n",
       "      <td>1.7</td>\n",
       "      <td>0.3</td>\n",
       "      <td>Iris-setosa</td>\n",
       "    </tr>\n",
       "    <tr>\n",
       "      <th>19</th>\n",
       "      <td>5.1</td>\n",
       "      <td>3.8</td>\n",
       "      <td>1.5</td>\n",
       "      <td>0.3</td>\n",
       "      <td>Iris-setosa</td>\n",
       "    </tr>\n",
       "    <tr>\n",
       "      <th>20</th>\n",
       "      <td>5.4</td>\n",
       "      <td>3.4</td>\n",
       "      <td>1.7</td>\n",
       "      <td>0.2</td>\n",
       "      <td>Iris-setosa</td>\n",
       "    </tr>\n",
       "    <tr>\n",
       "      <th>21</th>\n",
       "      <td>5.1</td>\n",
       "      <td>3.7</td>\n",
       "      <td>1.5</td>\n",
       "      <td>0.4</td>\n",
       "      <td>Iris-setosa</td>\n",
       "    </tr>\n",
       "    <tr>\n",
       "      <th>22</th>\n",
       "      <td>4.6</td>\n",
       "      <td>3.6</td>\n",
       "      <td>1.0</td>\n",
       "      <td>0.2</td>\n",
       "      <td>Iris-setosa</td>\n",
       "    </tr>\n",
       "    <tr>\n",
       "      <th>23</th>\n",
       "      <td>5.1</td>\n",
       "      <td>3.3</td>\n",
       "      <td>1.7</td>\n",
       "      <td>0.5</td>\n",
       "      <td>Iris-setosa</td>\n",
       "    </tr>\n",
       "    <tr>\n",
       "      <th>24</th>\n",
       "      <td>4.8</td>\n",
       "      <td>3.4</td>\n",
       "      <td>1.9</td>\n",
       "      <td>0.2</td>\n",
       "      <td>Iris-setosa</td>\n",
       "    </tr>\n",
       "    <tr>\n",
       "      <th>25</th>\n",
       "      <td>5.0</td>\n",
       "      <td>3.0</td>\n",
       "      <td>1.6</td>\n",
       "      <td>0.2</td>\n",
       "      <td>Iris-setosa</td>\n",
       "    </tr>\n",
       "    <tr>\n",
       "      <th>26</th>\n",
       "      <td>5.0</td>\n",
       "      <td>3.4</td>\n",
       "      <td>1.6</td>\n",
       "      <td>0.4</td>\n",
       "      <td>Iris-setosa</td>\n",
       "    </tr>\n",
       "    <tr>\n",
       "      <th>27</th>\n",
       "      <td>5.2</td>\n",
       "      <td>3.5</td>\n",
       "      <td>1.5</td>\n",
       "      <td>0.2</td>\n",
       "      <td>Iris-setosa</td>\n",
       "    </tr>\n",
       "    <tr>\n",
       "      <th>28</th>\n",
       "      <td>5.2</td>\n",
       "      <td>3.4</td>\n",
       "      <td>1.4</td>\n",
       "      <td>0.2</td>\n",
       "      <td>Iris-setosa</td>\n",
       "    </tr>\n",
       "    <tr>\n",
       "      <th>29</th>\n",
       "      <td>4.7</td>\n",
       "      <td>3.2</td>\n",
       "      <td>1.6</td>\n",
       "      <td>0.2</td>\n",
       "      <td>Iris-setosa</td>\n",
       "    </tr>\n",
       "    <tr>\n",
       "      <th>30</th>\n",
       "      <td>4.8</td>\n",
       "      <td>3.1</td>\n",
       "      <td>1.6</td>\n",
       "      <td>0.2</td>\n",
       "      <td>Iris-setosa</td>\n",
       "    </tr>\n",
       "    <tr>\n",
       "      <th>31</th>\n",
       "      <td>5.4</td>\n",
       "      <td>3.4</td>\n",
       "      <td>1.5</td>\n",
       "      <td>0.4</td>\n",
       "      <td>Iris-setosa</td>\n",
       "    </tr>\n",
       "    <tr>\n",
       "      <th>32</th>\n",
       "      <td>5.2</td>\n",
       "      <td>4.1</td>\n",
       "      <td>1.5</td>\n",
       "      <td>0.1</td>\n",
       "      <td>Iris-setosa</td>\n",
       "    </tr>\n",
       "    <tr>\n",
       "      <th>33</th>\n",
       "      <td>5.5</td>\n",
       "      <td>4.2</td>\n",
       "      <td>1.4</td>\n",
       "      <td>0.2</td>\n",
       "      <td>Iris-setosa</td>\n",
       "    </tr>\n",
       "    <tr>\n",
       "      <th>35</th>\n",
       "      <td>5.0</td>\n",
       "      <td>3.2</td>\n",
       "      <td>1.2</td>\n",
       "      <td>0.2</td>\n",
       "      <td>Iris-setosa</td>\n",
       "    </tr>\n",
       "    <tr>\n",
       "      <th>36</th>\n",
       "      <td>5.5</td>\n",
       "      <td>3.5</td>\n",
       "      <td>1.3</td>\n",
       "      <td>0.2</td>\n",
       "      <td>Iris-setosa</td>\n",
       "    </tr>\n",
       "    <tr>\n",
       "      <th>38</th>\n",
       "      <td>4.4</td>\n",
       "      <td>3.0</td>\n",
       "      <td>1.3</td>\n",
       "      <td>0.2</td>\n",
       "      <td>Iris-setosa</td>\n",
       "    </tr>\n",
       "    <tr>\n",
       "      <th>39</th>\n",
       "      <td>5.1</td>\n",
       "      <td>3.4</td>\n",
       "      <td>1.5</td>\n",
       "      <td>0.2</td>\n",
       "      <td>Iris-setosa</td>\n",
       "    </tr>\n",
       "    <tr>\n",
       "      <th>40</th>\n",
       "      <td>5.0</td>\n",
       "      <td>3.5</td>\n",
       "      <td>1.3</td>\n",
       "      <td>0.3</td>\n",
       "      <td>Iris-setosa</td>\n",
       "    </tr>\n",
       "    <tr>\n",
       "      <th>41</th>\n",
       "      <td>4.5</td>\n",
       "      <td>2.3</td>\n",
       "      <td>1.3</td>\n",
       "      <td>0.3</td>\n",
       "      <td>Iris-setosa</td>\n",
       "    </tr>\n",
       "    <tr>\n",
       "      <th>42</th>\n",
       "      <td>4.4</td>\n",
       "      <td>3.2</td>\n",
       "      <td>1.3</td>\n",
       "      <td>0.2</td>\n",
       "      <td>Iris-setosa</td>\n",
       "    </tr>\n",
       "    <tr>\n",
       "      <th>43</th>\n",
       "      <td>5.0</td>\n",
       "      <td>3.5</td>\n",
       "      <td>1.6</td>\n",
       "      <td>0.6</td>\n",
       "      <td>Iris-setosa</td>\n",
       "    </tr>\n",
       "    <tr>\n",
       "      <th>44</th>\n",
       "      <td>5.1</td>\n",
       "      <td>3.8</td>\n",
       "      <td>1.9</td>\n",
       "      <td>0.4</td>\n",
       "      <td>Iris-setosa</td>\n",
       "    </tr>\n",
       "    <tr>\n",
       "      <th>45</th>\n",
       "      <td>4.8</td>\n",
       "      <td>3.0</td>\n",
       "      <td>1.4</td>\n",
       "      <td>0.3</td>\n",
       "      <td>Iris-setosa</td>\n",
       "    </tr>\n",
       "    <tr>\n",
       "      <th>46</th>\n",
       "      <td>5.1</td>\n",
       "      <td>3.8</td>\n",
       "      <td>1.6</td>\n",
       "      <td>0.2</td>\n",
       "      <td>Iris-setosa</td>\n",
       "    </tr>\n",
       "    <tr>\n",
       "      <th>47</th>\n",
       "      <td>4.6</td>\n",
       "      <td>3.2</td>\n",
       "      <td>1.4</td>\n",
       "      <td>0.2</td>\n",
       "      <td>Iris-setosa</td>\n",
       "    </tr>\n",
       "    <tr>\n",
       "      <th>48</th>\n",
       "      <td>5.3</td>\n",
       "      <td>3.7</td>\n",
       "      <td>1.5</td>\n",
       "      <td>0.2</td>\n",
       "      <td>Iris-setosa</td>\n",
       "    </tr>\n",
       "    <tr>\n",
       "      <th>49</th>\n",
       "      <td>5.0</td>\n",
       "      <td>3.3</td>\n",
       "      <td>1.4</td>\n",
       "      <td>0.2</td>\n",
       "      <td>Iris-setosa</td>\n",
       "    </tr>\n",
       "  </tbody>\n",
       "</table>\n",
       "</div>"
      ],
      "text/plain": [
       "    sepal_length  sepal_width  petal_length  petal_width      species\n",
       "0            5.1          3.5           1.4          0.2  Iris-setosa\n",
       "1            4.9          3.0           1.4          0.2  Iris-setosa\n",
       "2            4.7          3.2           1.3          0.2  Iris-setosa\n",
       "3            4.6          3.1           1.5          0.2  Iris-setosa\n",
       "4            5.0          3.6           1.4          0.2  Iris-setosa\n",
       "5            5.4          3.9           1.7          0.4  Iris-setosa\n",
       "6            4.6          3.4           1.4          0.3  Iris-setosa\n",
       "7            5.0          3.4           1.5          0.2  Iris-setosa\n",
       "8            4.4          2.9           1.4          0.2  Iris-setosa\n",
       "9            4.9          3.1           1.5          0.1  Iris-setosa\n",
       "10           5.4          3.7           1.5          0.2  Iris-setosa\n",
       "11           4.8          3.4           1.6          0.2  Iris-setosa\n",
       "12           4.8          3.0           1.4          0.1  Iris-setosa\n",
       "13           4.3          3.0           1.1          0.1  Iris-setosa\n",
       "14           5.8          4.0           1.2          0.2  Iris-setosa\n",
       "15           5.7          4.4           1.5          0.4  Iris-setosa\n",
       "16           5.4          3.9           1.3          0.4  Iris-setosa\n",
       "17           5.1          3.5           1.4          0.3  Iris-setosa\n",
       "18           5.7          3.8           1.7          0.3  Iris-setosa\n",
       "19           5.1          3.8           1.5          0.3  Iris-setosa\n",
       "20           5.4          3.4           1.7          0.2  Iris-setosa\n",
       "21           5.1          3.7           1.5          0.4  Iris-setosa\n",
       "22           4.6          3.6           1.0          0.2  Iris-setosa\n",
       "23           5.1          3.3           1.7          0.5  Iris-setosa\n",
       "24           4.8          3.4           1.9          0.2  Iris-setosa\n",
       "25           5.0          3.0           1.6          0.2  Iris-setosa\n",
       "26           5.0          3.4           1.6          0.4  Iris-setosa\n",
       "27           5.2          3.5           1.5          0.2  Iris-setosa\n",
       "28           5.2          3.4           1.4          0.2  Iris-setosa\n",
       "29           4.7          3.2           1.6          0.2  Iris-setosa\n",
       "30           4.8          3.1           1.6          0.2  Iris-setosa\n",
       "31           5.4          3.4           1.5          0.4  Iris-setosa\n",
       "32           5.2          4.1           1.5          0.1  Iris-setosa\n",
       "33           5.5          4.2           1.4          0.2  Iris-setosa\n",
       "35           5.0          3.2           1.2          0.2  Iris-setosa\n",
       "36           5.5          3.5           1.3          0.2  Iris-setosa\n",
       "38           4.4          3.0           1.3          0.2  Iris-setosa\n",
       "39           5.1          3.4           1.5          0.2  Iris-setosa\n",
       "40           5.0          3.5           1.3          0.3  Iris-setosa\n",
       "41           4.5          2.3           1.3          0.3  Iris-setosa\n",
       "42           4.4          3.2           1.3          0.2  Iris-setosa\n",
       "43           5.0          3.5           1.6          0.6  Iris-setosa\n",
       "44           5.1          3.8           1.9          0.4  Iris-setosa\n",
       "45           4.8          3.0           1.4          0.3  Iris-setosa\n",
       "46           5.1          3.8           1.6          0.2  Iris-setosa\n",
       "47           4.6          3.2           1.4          0.2  Iris-setosa\n",
       "48           5.3          3.7           1.5          0.2  Iris-setosa\n",
       "49           5.0          3.3           1.4          0.2  Iris-setosa"
      ]
     },
     "execution_count": 47,
     "metadata": {},
     "output_type": "execute_result"
    }
   ],
   "source": [
    "setosa=irisdf[irisdf[\"species\"]==\"Iris-setosa\"]\n",
    "setosa"
   ]
  },
  {
   "cell_type": "code",
   "execution_count": 48,
   "id": "17e2de8a",
   "metadata": {
    "execution": {
     "iopub.execute_input": "2023-01-03T03:50:38.039012Z",
     "iopub.status.busy": "2023-01-03T03:50:38.037875Z",
     "iopub.status.idle": "2023-01-03T03:50:38.047101Z",
     "shell.execute_reply": "2023-01-03T03:50:38.046063Z"
    },
    "papermill": {
     "duration": 0.041944,
     "end_time": "2023-01-03T03:50:38.049809",
     "exception": false,
     "start_time": "2023-01-03T03:50:38.007865",
     "status": "completed"
    },
    "tags": []
   },
   "outputs": [],
   "source": [
    "versicolor=irisdf[irisdf[\"species\"]==\"Iris-versicolor\"]\n",
    "virginica=irisdf[irisdf[\"species\"]==\"Iris-virginica\"]"
   ]
  },
  {
   "cell_type": "code",
   "execution_count": 49,
   "id": "ccf79c50",
   "metadata": {
    "execution": {
     "iopub.execute_input": "2023-01-03T03:50:38.110717Z",
     "iopub.status.busy": "2023-01-03T03:50:38.109420Z",
     "iopub.status.idle": "2023-01-03T03:50:38.396940Z",
     "shell.execute_reply": "2023-01-03T03:50:38.395582Z"
    },
    "papermill": {
     "duration": 0.320369,
     "end_time": "2023-01-03T03:50:38.399739",
     "exception": false,
     "start_time": "2023-01-03T03:50:38.079370",
     "status": "completed"
    },
    "tags": []
   },
   "outputs": [
    {
     "data": {
      "image/png": "[encoded data removed]",
      "text/plain": [
       "<Figure size 432x288 with 1 Axes>"
      ]
     },
     "metadata": {
      "needs_background": "light"
     },
     "output_type": "display_data"
    }
   ],
   "source": [
    "plt.scatter(setosa['petal_length'],setosa['petal_width'],color='blue',label=\"setosa\")\n",
    "plt.scatter(versicolor['petal_length'],versicolor['petal_width'],color='green',label=\"versicolor\")\n",
    "plt.scatter(virginica['petal_length'],virginica['petal_width'],color='orange',label=\"virginica\")\n",
    "plt.xlabel(\"petal_length\")\n",
    "plt.ylabel(\"petal_width\")\n",
    "plt.legend()\n",
    "plt.show()"
   ]
  },
  {
   "cell_type": "markdown",
   "id": "843ddbc8",
   "metadata": {
    "papermill": {
     "duration": 0.027197,
     "end_time": "2023-01-03T03:50:38.454112",
     "exception": false,
     "start_time": "2023-01-03T03:50:38.426915",
     "status": "completed"
    },
    "tags": []
   },
   "source": [
    "## Bar Graph between Petal Length and Petal Width"
   ]
  },
  {
   "cell_type": "code",
   "execution_count": 50,
   "id": "554a051c",
   "metadata": {
    "execution": {
     "iopub.execute_input": "2023-01-03T03:50:38.510439Z",
     "iopub.status.busy": "2023-01-03T03:50:38.509913Z",
     "iopub.status.idle": "2023-01-03T03:50:38.742284Z",
     "shell.execute_reply": "2023-01-03T03:50:38.740439Z"
    },
    "papermill": {
     "duration": 0.264575,
     "end_time": "2023-01-03T03:50:38.745341",
     "exception": false,
     "start_time": "2023-01-03T03:50:38.480766",
     "status": "completed"
    },
    "tags": []
   },
   "outputs": [
    {
     "data": {
      "image/png": "[encoded data removed]",
      "text/plain": [
       "<Figure size 432x288 with 1 Axes>"
      ]
     },
     "metadata": {
      "needs_background": "light"
     },
     "output_type": "display_data"
    }
   ],
   "source": [
    "plt.hist(irisdf[\"petal_length\"])\n",
    "plt.xlabel(\"petal_length\")\n",
    "plt.ylabel(\"petal_width\")\n",
    "plt.show()"
   ]
  },
  {
   "cell_type": "code",
   "execution_count": 51,
   "id": "1a30212b",
   "metadata": {
    "execution": {
     "iopub.execute_input": "2023-01-03T03:50:38.811259Z",
     "iopub.status.busy": "2023-01-03T03:50:38.810792Z",
     "iopub.status.idle": "2023-01-03T03:50:38.819530Z",
     "shell.execute_reply": "2023-01-03T03:50:38.818686Z"
    },
    "papermill": {
     "duration": 0.047834,
     "end_time": "2023-01-03T03:50:38.821811",
     "exception": false,
     "start_time": "2023-01-03T03:50:38.773977",
     "status": "completed"
    },
    "tags": []
   },
   "outputs": [
    {
     "data": {
      "text/plain": [
       "Iris-versicolor    50\n",
       "Iris-virginica     49\n",
       "Iris-setosa        48\n",
       "Name: species, dtype: int64"
      ]
     },
     "execution_count": 51,
     "metadata": {},
     "output_type": "execute_result"
    }
   ],
   "source": [
    "irisdf[\"species\"].value_counts()"
   ]
  },
  {
   "cell_type": "markdown",
   "id": "9b0da9f3",
   "metadata": {
    "papermill": {
     "duration": 0.027663,
     "end_time": "2023-01-03T03:50:38.878235",
     "exception": false,
     "start_time": "2023-01-03T03:50:38.850572",
     "status": "completed"
    },
    "tags": []
   },
   "source": [
    "## Pie chart comparing the number of species in the dataset"
   ]
  },
  {
   "cell_type": "code",
   "execution_count": 52,
   "id": "f4a8c76e",
   "metadata": {
    "execution": {
     "iopub.execute_input": "2023-01-03T03:50:38.936927Z",
     "iopub.status.busy": "2023-01-03T03:50:38.936165Z",
     "iopub.status.idle": "2023-01-03T03:50:39.130740Z",
     "shell.execute_reply": "2023-01-03T03:50:39.129284Z"
    },
    "papermill": {
     "duration": 0.229796,
     "end_time": "2023-01-03T03:50:39.136247",
     "exception": false,
     "start_time": "2023-01-03T03:50:38.906451",
     "status": "completed"
    },
    "tags": []
   },
   "outputs": [
    {
     "data": {
      "image/png": "[encoded data removed]",
      "text/plain": [
       "<Figure size 432x288 with 1 Axes>"
      ]
     },
     "metadata": {},
     "output_type": "display_data"
    }
   ],
   "source": [
    "plt.pie(irisdf[\"species\"].value_counts(),labels=irisdf[\"species\"].value_counts(),autopct=\"%0.0f\")\n",
    "plt.legend()\n",
    "plt.show()"
   ]
  },
  {
   "cell_type": "markdown",
   "id": "60583ea9",
   "metadata": {
    "papermill": {
     "duration": 0.029477,
     "end_time": "2023-01-03T03:50:39.214696",
     "exception": false,
     "start_time": "2023-01-03T03:50:39.185219",
     "status": "completed"
    },
    "tags": []
   },
   "source": [
    "# Data Modelling\n",
    "#### (Using Day 3 Dataset)"
   ]
  },
  {
   "cell_type": "code",
   "execution_count": 53,
   "id": "94f4f062",
   "metadata": {
    "execution": {
     "iopub.execute_input": "2023-01-03T03:50:39.279383Z",
     "iopub.status.busy": "2023-01-03T03:50:39.278292Z",
     "iopub.status.idle": "2023-01-03T03:50:40.748577Z",
     "shell.execute_reply": "2023-01-03T03:50:40.746888Z"
    },
    "papermill": {
     "duration": 1.508528,
     "end_time": "2023-01-03T03:50:40.752000",
     "exception": false,
     "start_time": "2023-01-03T03:50:39.243472",
     "status": "completed"
    },
    "tags": []
   },
   "outputs": [],
   "source": [
    "import numpy as np\n",
    "from sklearn.preprocessing import StandardScaler\n",
    "from sklearn.model_selection import train_test_split\n",
    "from sklearn.neighbors import KNeighborsClassifier\n",
    "from sklearn.metrics import accuracy_score\n",
    "from sklearn.metrics import confusion_matrix"
   ]
  },
  {
   "cell_type": "markdown",
   "id": "62ff859f",
   "metadata": {
    "papermill": {
     "duration": 0.028305,
     "end_time": "2023-01-03T03:50:40.811369",
     "exception": false,
     "start_time": "2023-01-03T03:50:40.783064",
     "status": "completed"
    },
    "tags": []
   },
   "source": [
    "## Operations\n",
    "\n",
    "**1. iloc[row,column]**"
   ]
  },
  {
   "cell_type": "code",
   "execution_count": 54,
   "id": "b6d7281d",
   "metadata": {
    "execution": {
     "iopub.execute_input": "2023-01-03T03:50:40.870416Z",
     "iopub.status.busy": "2023-01-03T03:50:40.869918Z",
     "iopub.status.idle": "2023-01-03T03:50:40.886329Z",
     "shell.execute_reply": "2023-01-03T03:50:40.885425Z"
    },
    "papermill": {
     "duration": 0.048961,
     "end_time": "2023-01-03T03:50:40.888705",
     "exception": false,
     "start_time": "2023-01-03T03:50:40.839744",
     "status": "completed"
    },
    "tags": []
   },
   "outputs": [
    {
     "data": {
      "text/html": [
       "<div>\n",
       "<style scoped>\n",
       "    .dataframe tbody tr th:only-of-type {\n",
       "        vertical-align: middle;\n",
       "    }\n",
       "\n",
       "    .dataframe tbody tr th {\n",
       "        vertical-align: top;\n",
       "    }\n",
       "\n",
       "    .dataframe thead th {\n",
       "        text-align: right;\n",
       "    }\n",
       "</style>\n",
       "<table border=\"1\" class=\"dataframe\">\n",
       "  <thead>\n",
       "    <tr style=\"text-align: right;\">\n",
       "      <th></th>\n",
       "      <th>sepal_length</th>\n",
       "      <th>sepal_width</th>\n",
       "      <th>petal_length</th>\n",
       "      <th>petal_width</th>\n",
       "    </tr>\n",
       "  </thead>\n",
       "  <tbody>\n",
       "    <tr>\n",
       "      <th>0</th>\n",
       "      <td>5.1</td>\n",
       "      <td>3.5</td>\n",
       "      <td>1.4</td>\n",
       "      <td>0.2</td>\n",
       "    </tr>\n",
       "    <tr>\n",
       "      <th>1</th>\n",
       "      <td>4.9</td>\n",
       "      <td>3.0</td>\n",
       "      <td>1.4</td>\n",
       "      <td>0.2</td>\n",
       "    </tr>\n",
       "    <tr>\n",
       "      <th>2</th>\n",
       "      <td>4.7</td>\n",
       "      <td>3.2</td>\n",
       "      <td>1.3</td>\n",
       "      <td>0.2</td>\n",
       "    </tr>\n",
       "    <tr>\n",
       "      <th>3</th>\n",
       "      <td>4.6</td>\n",
       "      <td>3.1</td>\n",
       "      <td>1.5</td>\n",
       "      <td>0.2</td>\n",
       "    </tr>\n",
       "    <tr>\n",
       "      <th>4</th>\n",
       "      <td>5.0</td>\n",
       "      <td>3.6</td>\n",
       "      <td>1.4</td>\n",
       "      <td>0.2</td>\n",
       "    </tr>\n",
       "  </tbody>\n",
       "</table>\n",
       "</div>"
      ],
      "text/plain": [
       "   sepal_length  sepal_width  petal_length  petal_width\n",
       "0           5.1          3.5           1.4          0.2\n",
       "1           4.9          3.0           1.4          0.2\n",
       "2           4.7          3.2           1.3          0.2\n",
       "3           4.6          3.1           1.5          0.2\n",
       "4           5.0          3.6           1.4          0.2"
      ]
     },
     "execution_count": 54,
     "metadata": {},
     "output_type": "execute_result"
    }
   ],
   "source": [
    "# x=irisdf.iloc[:,1:5]\n",
    "x=irisdf.iloc[:,0:4]\n",
    "x.head()"
   ]
  },
  {
   "cell_type": "code",
   "execution_count": 55,
   "id": "13d1657a",
   "metadata": {
    "execution": {
     "iopub.execute_input": "2023-01-03T03:50:40.949663Z",
     "iopub.status.busy": "2023-01-03T03:50:40.948549Z",
     "iopub.status.idle": "2023-01-03T03:50:40.958577Z",
     "shell.execute_reply": "2023-01-03T03:50:40.957110Z"
    },
    "papermill": {
     "duration": 0.043192,
     "end_time": "2023-01-03T03:50:40.961461",
     "exception": false,
     "start_time": "2023-01-03T03:50:40.918269",
     "status": "completed"
    },
    "tags": []
   },
   "outputs": [
    {
     "data": {
      "text/plain": [
       "0    Iris-setosa\n",
       "1    Iris-setosa\n",
       "2    Iris-setosa\n",
       "3    Iris-setosa\n",
       "4    Iris-setosa\n",
       "Name: species, dtype: object"
      ]
     },
     "execution_count": 55,
     "metadata": {},
     "output_type": "execute_result"
    }
   ],
   "source": [
    "y=irisdf.iloc[:,-1]\n",
    "y.head()"
   ]
  },
  {
   "cell_type": "markdown",
   "id": "03ae1197",
   "metadata": {
    "papermill": {
     "duration": 0.030841,
     "end_time": "2023-01-03T03:50:41.021735",
     "exception": false,
     "start_time": "2023-01-03T03:50:40.990894",
     "status": "completed"
    },
    "tags": []
   },
   "source": [
    "**2. StandardScaler()**"
   ]
  },
  {
   "cell_type": "code",
   "execution_count": 56,
   "id": "00a19c07",
   "metadata": {
    "execution": {
     "iopub.execute_input": "2023-01-03T03:50:41.083296Z",
     "iopub.status.busy": "2023-01-03T03:50:41.082653Z",
     "iopub.status.idle": "2023-01-03T03:50:41.087083Z",
     "shell.execute_reply": "2023-01-03T03:50:41.086063Z"
    },
    "papermill": {
     "duration": 0.038717,
     "end_time": "2023-01-03T03:50:41.089476",
     "exception": false,
     "start_time": "2023-01-03T03:50:41.050759",
     "status": "completed"
    },
    "tags": []
   },
   "outputs": [],
   "source": [
    "scaler=StandardScaler()"
   ]
  },
  {
   "cell_type": "markdown",
   "id": "cce455be",
   "metadata": {
    "papermill": {
     "duration": 0.028511,
     "end_time": "2023-01-03T03:50:41.148834",
     "exception": false,
     "start_time": "2023-01-03T03:50:41.120323",
     "status": "completed"
    },
    "tags": []
   },
   "source": [
    "**3. fit_transform()**"
   ]
  },
  {
   "cell_type": "code",
   "execution_count": 57,
   "id": "01f3da26",
   "metadata": {
    "execution": {
     "iopub.execute_input": "2023-01-03T03:50:41.211381Z",
     "iopub.status.busy": "2023-01-03T03:50:41.210684Z",
     "iopub.status.idle": "2023-01-03T03:50:41.221704Z",
     "shell.execute_reply": "2023-01-03T03:50:41.220435Z"
    },
    "papermill": {
     "duration": 0.045371,
     "end_time": "2023-01-03T03:50:41.224556",
     "exception": false,
     "start_time": "2023-01-03T03:50:41.179185",
     "status": "completed"
    },
    "tags": []
   },
   "outputs": [
    {
     "data": {
      "text/plain": [
       "array([[-0.91550949,  1.0199714 , -1.35773692, -1.33570001],\n",
       "       [-1.15755966, -0.12808217, -1.35773692, -1.33570001],\n",
       "       [-1.39960983,  0.33113926, -1.41477817, -1.33570001],\n",
       "       [-1.52063491,  0.10152855, -1.30069567, -1.33570001],\n",
       "       [-1.03653457,  1.24958212, -1.35773692, -1.33570001]])"
      ]
     },
     "execution_count": 57,
     "metadata": {},
     "output_type": "execute_result"
    }
   ],
   "source": [
    "x=scaler.fit_transform(x)\n",
    "x[0:5]"
   ]
  },
  {
   "cell_type": "markdown",
   "id": "598bfe42",
   "metadata": {
    "papermill": {
     "duration": 0.029036,
     "end_time": "2023-01-03T03:50:41.283596",
     "exception": false,
     "start_time": "2023-01-03T03:50:41.254560",
     "status": "completed"
    },
    "tags": []
   },
   "source": [
    "**4. train_test_split()**"
   ]
  },
  {
   "cell_type": "code",
   "execution_count": 58,
   "id": "c6b04922",
   "metadata": {
    "execution": {
     "iopub.execute_input": "2023-01-03T03:50:41.344658Z",
     "iopub.status.busy": "2023-01-03T03:50:41.344206Z",
     "iopub.status.idle": "2023-01-03T03:50:41.350880Z",
     "shell.execute_reply": "2023-01-03T03:50:41.349691Z"
    },
    "papermill": {
     "duration": 0.04031,
     "end_time": "2023-01-03T03:50:41.353920",
     "exception": false,
     "start_time": "2023-01-03T03:50:41.313610",
     "status": "completed"
    },
    "tags": []
   },
   "outputs": [],
   "source": [
    "x_train, x_test, y_train, y_test=train_test_split(x,y,test_size=0.2)"
   ]
  },
  {
   "cell_type": "markdown",
   "id": "2f800bdf",
   "metadata": {
    "papermill": {
     "duration": 0.02737,
     "end_time": "2023-01-03T03:50:41.409250",
     "exception": false,
     "start_time": "2023-01-03T03:50:41.381880",
     "status": "completed"
    },
    "tags": []
   },
   "source": [
    "**Note: test_size=0.2**\n",
    "\n",
    "**Only 20% of dataset will be trained.**"
   ]
  },
  {
   "cell_type": "markdown",
   "id": "938cefe5",
   "metadata": {
    "papermill": {
     "duration": 0.027564,
     "end_time": "2023-01-03T03:50:41.464657",
     "exception": false,
     "start_time": "2023-01-03T03:50:41.437093",
     "status": "completed"
    },
    "tags": []
   },
   "source": [
    "**5. KNeighborsClassifier**"
   ]
  },
  {
   "cell_type": "code",
   "execution_count": 59,
   "id": "c463b557",
   "metadata": {
    "execution": {
     "iopub.execute_input": "2023-01-03T03:50:41.522223Z",
     "iopub.status.busy": "2023-01-03T03:50:41.521286Z",
     "iopub.status.idle": "2023-01-03T03:50:41.534240Z",
     "shell.execute_reply": "2023-01-03T03:50:41.532862Z"
    },
    "papermill": {
     "duration": 0.045192,
     "end_time": "2023-01-03T03:50:41.537431",
     "exception": false,
     "start_time": "2023-01-03T03:50:41.492239",
     "status": "completed"
    },
    "tags": []
   },
   "outputs": [
    {
     "data": {
      "text/plain": [
       "KNeighborsClassifier(n_neighbors=9)"
      ]
     },
     "execution_count": 59,
     "metadata": {},
     "output_type": "execute_result"
    }
   ],
   "source": [
    "node1=KNeighborsClassifier(n_neighbors=9)\n",
    "node1.fit(x_train,y_train)"
   ]
  },
  {
   "cell_type": "markdown",
   "id": "fb75a839",
   "metadata": {
    "papermill": {
     "duration": 0.029565,
     "end_time": "2023-01-03T03:50:41.596936",
     "exception": false,
     "start_time": "2023-01-03T03:50:41.567371",
     "status": "completed"
    },
    "tags": []
   },
   "source": [
    "**6. predict()**"
   ]
  },
  {
   "cell_type": "code",
   "execution_count": 60,
   "id": "1c87a253",
   "metadata": {
    "execution": {
     "iopub.execute_input": "2023-01-03T03:50:41.657411Z",
     "iopub.status.busy": "2023-01-03T03:50:41.656988Z",
     "iopub.status.idle": "2023-01-03T03:50:41.669385Z",
     "shell.execute_reply": "2023-01-03T03:50:41.668027Z"
    },
    "papermill": {
     "duration": 0.046203,
     "end_time": "2023-01-03T03:50:41.672310",
     "exception": false,
     "start_time": "2023-01-03T03:50:41.626107",
     "status": "completed"
    },
    "tags": []
   },
   "outputs": [
    {
     "data": {
      "text/plain": [
       "array(['Iris-versicolor', 'Iris-virginica', 'Iris-versicolor',\n",
       "       'Iris-versicolor', 'Iris-versicolor', 'Iris-versicolor',\n",
       "       'Iris-versicolor', 'Iris-setosa', 'Iris-virginica',\n",
       "       'Iris-versicolor', 'Iris-setosa', 'Iris-versicolor', 'Iris-setosa',\n",
       "       'Iris-virginica', 'Iris-virginica', 'Iris-setosa', 'Iris-setosa',\n",
       "       'Iris-virginica', 'Iris-virginica', 'Iris-versicolor',\n",
       "       'Iris-setosa', 'Iris-versicolor', 'Iris-versicolor',\n",
       "       'Iris-versicolor', 'Iris-virginica', 'Iris-virginica',\n",
       "       'Iris-virginica', 'Iris-virginica', 'Iris-virginica',\n",
       "       'Iris-virginica'], dtype=object)"
      ]
     },
     "execution_count": 60,
     "metadata": {},
     "output_type": "execute_result"
    }
   ],
   "source": [
    "pred=node1.predict(x_test)\n",
    "pred[0:]"
   ]
  },
  {
   "cell_type": "code",
   "execution_count": 61,
   "id": "d1e68161",
   "metadata": {
    "execution": {
     "iopub.execute_input": "2023-01-03T03:50:41.732853Z",
     "iopub.status.busy": "2023-01-03T03:50:41.732398Z",
     "iopub.status.idle": "2023-01-03T03:50:41.742898Z",
     "shell.execute_reply": "2023-01-03T03:50:41.741327Z"
    },
    "papermill": {
     "duration": 0.043802,
     "end_time": "2023-01-03T03:50:41.745718",
     "exception": false,
     "start_time": "2023-01-03T03:50:41.701916",
     "status": "completed"
    },
    "tags": []
   },
   "outputs": [
    {
     "data": {
      "text/plain": [
       "66     Iris-versicolor\n",
       "117     Iris-virginica\n",
       "67     Iris-versicolor\n",
       "73     Iris-versicolor\n",
       "80     Iris-versicolor\n",
       "Name: species, dtype: object"
      ]
     },
     "execution_count": 61,
     "metadata": {},
     "output_type": "execute_result"
    }
   ],
   "source": [
    "y_test[0:5]"
   ]
  },
  {
   "cell_type": "markdown",
   "id": "5c7b3e2a",
   "metadata": {
    "papermill": {
     "duration": 0.028373,
     "end_time": "2023-01-03T03:50:41.806567",
     "exception": false,
     "start_time": "2023-01-03T03:50:41.778194",
     "status": "completed"
    },
    "tags": []
   },
   "source": [
    "**7. accuracy_score()**"
   ]
  },
  {
   "cell_type": "code",
   "execution_count": 62,
   "id": "efb4eb63",
   "metadata": {
    "execution": {
     "iopub.execute_input": "2023-01-03T03:50:41.867035Z",
     "iopub.status.busy": "2023-01-03T03:50:41.866006Z",
     "iopub.status.idle": "2023-01-03T03:50:41.879454Z",
     "shell.execute_reply": "2023-01-03T03:50:41.877741Z"
    },
    "papermill": {
     "duration": 0.047734,
     "end_time": "2023-01-03T03:50:41.882401",
     "exception": false,
     "start_time": "2023-01-03T03:50:41.834667",
     "status": "completed"
    },
    "tags": []
   },
   "outputs": [
    {
     "data": {
      "text/plain": [
       "1.0"
      ]
     },
     "execution_count": 62,
     "metadata": {},
     "output_type": "execute_result"
    }
   ],
   "source": [
    "accuracy = accuracy_score(y_test,pred)\n",
    "accuracy"
   ]
  },
  {
   "cell_type": "markdown",
   "id": "30337112",
   "metadata": {
    "papermill": {
     "duration": 0.027939,
     "end_time": "2023-01-03T03:50:41.943443",
     "exception": false,
     "start_time": "2023-01-03T03:50:41.915504",
     "status": "completed"
    },
    "tags": []
   },
   "source": [
    "**8. confusion_matrix()**"
   ]
  },
  {
   "cell_type": "code",
   "execution_count": 63,
   "id": "8eb64d16",
   "metadata": {
    "execution": {
     "iopub.execute_input": "2023-01-03T03:50:42.002955Z",
     "iopub.status.busy": "2023-01-03T03:50:42.002321Z",
     "iopub.status.idle": "2023-01-03T03:50:42.014225Z",
     "shell.execute_reply": "2023-01-03T03:50:42.012902Z"
    },
    "papermill": {
     "duration": 0.044585,
     "end_time": "2023-01-03T03:50:42.016655",
     "exception": false,
     "start_time": "2023-01-03T03:50:41.972070",
     "status": "completed"
    },
    "tags": []
   },
   "outputs": [
    {
     "data": {
      "text/plain": [
       "array([[ 6,  0,  0],\n",
       "       [ 0, 12,  0],\n",
       "       [ 0,  0, 12]])"
      ]
     },
     "execution_count": 63,
     "metadata": {},
     "output_type": "execute_result"
    }
   ],
   "source": [
    "cm=confusion_matrix(y_test,pred)\n",
    "cm"
   ]
  },
  {
   "cell_type": "markdown",
   "id": "1f87173a",
   "metadata": {
    "papermill": {
     "duration": 0.028205,
     "end_time": "2023-01-03T03:50:42.073389",
     "exception": false,
     "start_time": "2023-01-03T03:50:42.045184",
     "status": "completed"
    },
    "tags": []
   },
   "source": [
    "**9. DataFrame(data,index) and transpose()**"
   ]
  },
  {
   "cell_type": "code",
   "execution_count": 64,
   "id": "6a68ade2",
   "metadata": {
    "execution": {
     "iopub.execute_input": "2023-01-03T03:50:42.133982Z",
     "iopub.status.busy": "2023-01-03T03:50:42.132269Z",
     "iopub.status.idle": "2023-01-03T03:50:42.150954Z",
     "shell.execute_reply": "2023-01-03T03:50:42.149279Z"
    },
    "papermill": {
     "duration": 0.051923,
     "end_time": "2023-01-03T03:50:42.153471",
     "exception": false,
     "start_time": "2023-01-03T03:50:42.101548",
     "status": "completed"
    },
    "tags": []
   },
   "outputs": [
    {
     "data": {
      "text/html": [
       "<div>\n",
       "<style scoped>\n",
       "    .dataframe tbody tr th:only-of-type {\n",
       "        vertical-align: middle;\n",
       "    }\n",
       "\n",
       "    .dataframe tbody tr th {\n",
       "        vertical-align: top;\n",
       "    }\n",
       "\n",
       "    .dataframe thead th {\n",
       "        text-align: right;\n",
       "    }\n",
       "</style>\n",
       "<table border=\"1\" class=\"dataframe\">\n",
       "  <thead>\n",
       "    <tr style=\"text-align: right;\">\n",
       "      <th></th>\n",
       "      <th>y_test</th>\n",
       "      <th>pred</th>\n",
       "    </tr>\n",
       "  </thead>\n",
       "  <tbody>\n",
       "    <tr>\n",
       "      <th>0</th>\n",
       "      <td>Iris-versicolor</td>\n",
       "      <td>Iris-versicolor</td>\n",
       "    </tr>\n",
       "    <tr>\n",
       "      <th>1</th>\n",
       "      <td>Iris-virginica</td>\n",
       "      <td>Iris-virginica</td>\n",
       "    </tr>\n",
       "    <tr>\n",
       "      <th>2</th>\n",
       "      <td>Iris-versicolor</td>\n",
       "      <td>Iris-versicolor</td>\n",
       "    </tr>\n",
       "    <tr>\n",
       "      <th>3</th>\n",
       "      <td>Iris-versicolor</td>\n",
       "      <td>Iris-versicolor</td>\n",
       "    </tr>\n",
       "    <tr>\n",
       "      <th>4</th>\n",
       "      <td>Iris-versicolor</td>\n",
       "      <td>Iris-versicolor</td>\n",
       "    </tr>\n",
       "    <tr>\n",
       "      <th>5</th>\n",
       "      <td>Iris-versicolor</td>\n",
       "      <td>Iris-versicolor</td>\n",
       "    </tr>\n",
       "    <tr>\n",
       "      <th>6</th>\n",
       "      <td>Iris-versicolor</td>\n",
       "      <td>Iris-versicolor</td>\n",
       "    </tr>\n",
       "    <tr>\n",
       "      <th>7</th>\n",
       "      <td>Iris-setosa</td>\n",
       "      <td>Iris-setosa</td>\n",
       "    </tr>\n",
       "    <tr>\n",
       "      <th>8</th>\n",
       "      <td>Iris-virginica</td>\n",
       "      <td>Iris-virginica</td>\n",
       "    </tr>\n",
       "    <tr>\n",
       "      <th>9</th>\n",
       "      <td>Iris-versicolor</td>\n",
       "      <td>Iris-versicolor</td>\n",
       "    </tr>\n",
       "    <tr>\n",
       "      <th>10</th>\n",
       "      <td>Iris-setosa</td>\n",
       "      <td>Iris-setosa</td>\n",
       "    </tr>\n",
       "    <tr>\n",
       "      <th>11</th>\n",
       "      <td>Iris-versicolor</td>\n",
       "      <td>Iris-versicolor</td>\n",
       "    </tr>\n",
       "    <tr>\n",
       "      <th>12</th>\n",
       "      <td>Iris-setosa</td>\n",
       "      <td>Iris-setosa</td>\n",
       "    </tr>\n",
       "    <tr>\n",
       "      <th>13</th>\n",
       "      <td>Iris-virginica</td>\n",
       "      <td>Iris-virginica</td>\n",
       "    </tr>\n",
       "    <tr>\n",
       "      <th>14</th>\n",
       "      <td>Iris-virginica</td>\n",
       "      <td>Iris-virginica</td>\n",
       "    </tr>\n",
       "    <tr>\n",
       "      <th>15</th>\n",
       "      <td>Iris-setosa</td>\n",
       "      <td>Iris-setosa</td>\n",
       "    </tr>\n",
       "    <tr>\n",
       "      <th>16</th>\n",
       "      <td>Iris-setosa</td>\n",
       "      <td>Iris-setosa</td>\n",
       "    </tr>\n",
       "    <tr>\n",
       "      <th>17</th>\n",
       "      <td>Iris-virginica</td>\n",
       "      <td>Iris-virginica</td>\n",
       "    </tr>\n",
       "    <tr>\n",
       "      <th>18</th>\n",
       "      <td>Iris-virginica</td>\n",
       "      <td>Iris-virginica</td>\n",
       "    </tr>\n",
       "    <tr>\n",
       "      <th>19</th>\n",
       "      <td>Iris-versicolor</td>\n",
       "      <td>Iris-versicolor</td>\n",
       "    </tr>\n",
       "    <tr>\n",
       "      <th>20</th>\n",
       "      <td>Iris-setosa</td>\n",
       "      <td>Iris-setosa</td>\n",
       "    </tr>\n",
       "    <tr>\n",
       "      <th>21</th>\n",
       "      <td>Iris-versicolor</td>\n",
       "      <td>Iris-versicolor</td>\n",
       "    </tr>\n",
       "    <tr>\n",
       "      <th>22</th>\n",
       "      <td>Iris-versicolor</td>\n",
       "      <td>Iris-versicolor</td>\n",
       "    </tr>\n",
       "    <tr>\n",
       "      <th>23</th>\n",
       "      <td>Iris-versicolor</td>\n",
       "      <td>Iris-versicolor</td>\n",
       "    </tr>\n",
       "    <tr>\n",
       "      <th>24</th>\n",
       "      <td>Iris-virginica</td>\n",
       "      <td>Iris-virginica</td>\n",
       "    </tr>\n",
       "    <tr>\n",
       "      <th>25</th>\n",
       "      <td>Iris-virginica</td>\n",
       "      <td>Iris-virginica</td>\n",
       "    </tr>\n",
       "    <tr>\n",
       "      <th>26</th>\n",
       "      <td>Iris-virginica</td>\n",
       "      <td>Iris-virginica</td>\n",
       "    </tr>\n",
       "    <tr>\n",
       "      <th>27</th>\n",
       "      <td>Iris-virginica</td>\n",
       "      <td>Iris-virginica</td>\n",
       "    </tr>\n",
       "    <tr>\n",
       "      <th>28</th>\n",
       "      <td>Iris-virginica</td>\n",
       "      <td>Iris-virginica</td>\n",
       "    </tr>\n",
       "    <tr>\n",
       "      <th>29</th>\n",
       "      <td>Iris-virginica</td>\n",
       "      <td>Iris-virginica</td>\n",
       "    </tr>\n",
       "  </tbody>\n",
       "</table>\n",
       "</div>"
      ],
      "text/plain": [
       "             y_test             pred\n",
       "0   Iris-versicolor  Iris-versicolor\n",
       "1    Iris-virginica   Iris-virginica\n",
       "2   Iris-versicolor  Iris-versicolor\n",
       "3   Iris-versicolor  Iris-versicolor\n",
       "4   Iris-versicolor  Iris-versicolor\n",
       "5   Iris-versicolor  Iris-versicolor\n",
       "6   Iris-versicolor  Iris-versicolor\n",
       "7       Iris-setosa      Iris-setosa\n",
       "8    Iris-virginica   Iris-virginica\n",
       "9   Iris-versicolor  Iris-versicolor\n",
       "10      Iris-setosa      Iris-setosa\n",
       "11  Iris-versicolor  Iris-versicolor\n",
       "12      Iris-setosa      Iris-setosa\n",
       "13   Iris-virginica   Iris-virginica\n",
       "14   Iris-virginica   Iris-virginica\n",
       "15      Iris-setosa      Iris-setosa\n",
       "16      Iris-setosa      Iris-setosa\n",
       "17   Iris-virginica   Iris-virginica\n",
       "18   Iris-virginica   Iris-virginica\n",
       "19  Iris-versicolor  Iris-versicolor\n",
       "20      Iris-setosa      Iris-setosa\n",
       "21  Iris-versicolor  Iris-versicolor\n",
       "22  Iris-versicolor  Iris-versicolor\n",
       "23  Iris-versicolor  Iris-versicolor\n",
       "24   Iris-virginica   Iris-virginica\n",
       "25   Iris-virginica   Iris-virginica\n",
       "26   Iris-virginica   Iris-virginica\n",
       "27   Iris-virginica   Iris-virginica\n",
       "28   Iris-virginica   Iris-virginica\n",
       "29   Iris-virginica   Iris-virginica"
      ]
     },
     "execution_count": 64,
     "metadata": {},
     "output_type": "execute_result"
    }
   ],
   "source": [
    "result=pd.DataFrame(data=[y_test.values,pred],index=[\"y_test\",\"pred\"])\n",
    "result.transpose()"
   ]
  },
  {
   "cell_type": "markdown",
   "id": "0b2dfb4b",
   "metadata": {
    "papermill": {
     "duration": 0.028379,
     "end_time": "2023-01-03T03:50:42.210419",
     "exception": false,
     "start_time": "2023-01-03T03:50:42.182040",
     "status": "completed"
    },
    "tags": []
   },
   "source": [
    "## Representing Predictions from the model \"node1\" using correct_sum"
   ]
  },
  {
   "cell_type": "code",
   "execution_count": 65,
   "id": "c4d5538b",
   "metadata": {
    "execution": {
     "iopub.execute_input": "2023-01-03T03:50:42.270795Z",
     "iopub.status.busy": "2023-01-03T03:50:42.269664Z",
     "iopub.status.idle": "2023-01-03T03:50:42.333964Z",
     "shell.execute_reply": "2023-01-03T03:50:42.332998Z"
    },
    "papermill": {
     "duration": 0.097169,
     "end_time": "2023-01-03T03:50:42.336197",
     "exception": false,
     "start_time": "2023-01-03T03:50:42.239028",
     "status": "completed"
    },
    "tags": []
   },
   "outputs": [
    {
     "data": {
      "text/plain": [
       "[29, 29, 29, 29, 29, 29, 29, 29, 29, 29, 29, 29, 29, 29, 29, 29, 29, 29, 29]"
      ]
     },
     "execution_count": 65,
     "metadata": {},
     "output_type": "execute_result"
    }
   ],
   "source": [
    "correct_sum=[]\n",
    "for i in range(1,20):\n",
    "    node1=KNeighborsClassifier(n_neighbors=1)\n",
    "    node1.fit(x_train,y_train)\n",
    "    pred=node1.predict(x_test)\n",
    "    correct=np.sum(pred == y_test)\n",
    "    correct_sum.append(correct)\n",
    "correct_sum"
   ]
  },
  {
   "cell_type": "code",
   "execution_count": 66,
   "id": "cb2c5afa",
   "metadata": {
    "execution": {
     "iopub.execute_input": "2023-01-03T03:50:42.396864Z",
     "iopub.status.busy": "2023-01-03T03:50:42.395635Z",
     "iopub.status.idle": "2023-01-03T03:50:42.413655Z",
     "shell.execute_reply": "2023-01-03T03:50:42.412664Z"
    },
    "papermill": {
     "duration": 0.051249,
     "end_time": "2023-01-03T03:50:42.416049",
     "exception": false,
     "start_time": "2023-01-03T03:50:42.364800",
     "status": "completed"
    },
    "tags": []
   },
   "outputs": [
    {
     "data": {
      "text/html": [
       "<div>\n",
       "<style scoped>\n",
       "    .dataframe tbody tr th:only-of-type {\n",
       "        vertical-align: middle;\n",
       "    }\n",
       "\n",
       "    .dataframe tbody tr th {\n",
       "        vertical-align: top;\n",
       "    }\n",
       "\n",
       "    .dataframe thead th {\n",
       "        text-align: right;\n",
       "    }\n",
       "</style>\n",
       "<table border=\"1\" class=\"dataframe\">\n",
       "  <thead>\n",
       "    <tr style=\"text-align: right;\">\n",
       "      <th></th>\n",
       "      <th>1</th>\n",
       "      <th>2</th>\n",
       "      <th>3</th>\n",
       "      <th>4</th>\n",
       "      <th>5</th>\n",
       "      <th>6</th>\n",
       "      <th>7</th>\n",
       "      <th>8</th>\n",
       "      <th>9</th>\n",
       "      <th>10</th>\n",
       "      <th>11</th>\n",
       "      <th>12</th>\n",
       "      <th>13</th>\n",
       "      <th>14</th>\n",
       "      <th>15</th>\n",
       "      <th>16</th>\n",
       "      <th>17</th>\n",
       "      <th>18</th>\n",
       "      <th>19</th>\n",
       "    </tr>\n",
       "  </thead>\n",
       "  <tbody>\n",
       "    <tr>\n",
       "      <th>0</th>\n",
       "      <td>29</td>\n",
       "      <td>29</td>\n",
       "      <td>29</td>\n",
       "      <td>29</td>\n",
       "      <td>29</td>\n",
       "      <td>29</td>\n",
       "      <td>29</td>\n",
       "      <td>29</td>\n",
       "      <td>29</td>\n",
       "      <td>29</td>\n",
       "      <td>29</td>\n",
       "      <td>29</td>\n",
       "      <td>29</td>\n",
       "      <td>29</td>\n",
       "      <td>29</td>\n",
       "      <td>29</td>\n",
       "      <td>29</td>\n",
       "      <td>29</td>\n",
       "      <td>29</td>\n",
       "    </tr>\n",
       "  </tbody>\n",
       "</table>\n",
       "</div>"
      ],
      "text/plain": [
       "   1   2   3   4   5   6   7   8   9   10  11  12  13  14  15  16  17  18  19\n",
       "0  29  29  29  29  29  29  29  29  29  29  29  29  29  29  29  29  29  29  29"
      ]
     },
     "execution_count": 66,
     "metadata": {},
     "output_type": "execute_result"
    }
   ],
   "source": [
    "result=pd.DataFrame(data=correct_sum)\n",
    "result.index=result.index+1\n",
    "result.T"
   ]
  }
 ],
 "metadata": {
  "kernelspec": {
   "display_name": "Python 3",
   "language": "python",
   "name": "python3"
  },
  "language_info": {
   "codemirror_mode": {
    "name": "ipython",
    "version": 3
   },
   "file_extension": ".py",
   "mimetype": "text/x-python",
   "name": "python",
   "nbconvert_exporter": "python",
   "pygments_lexer": "ipython3",
   "version": "3.7.12"
  },
  "papermill": {
   "default_parameters": {},
   "duration": 19.67895,
   "end_time": "2023-01-03T03:50:43.469658",
   "environment_variables": {},
   "exception": null,
   "input_path": "__notebook__.ipynb",
   "output_path": "__notebook__.ipynb",
   "parameters": {},
   "start_time": "2023-01-03T03:50:23.790708",
   "version": "2.3.4"
  }
 },
 "nbformat": 4,
 "nbformat_minor": 5
}
