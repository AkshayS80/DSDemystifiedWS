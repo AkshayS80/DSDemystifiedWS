{
 "cells": [
  {
   "cell_type": "markdown",
   "id": "c0fb6f2c",
   "metadata": {
    "papermill": {
     "duration": 0.024845,
     "end_time": "2023-01-03T03:46:22.391485",
     "exception": false,
     "start_time": "2023-01-03T03:46:22.366640",
     "status": "completed"
    },
    "tags": []
   },
   "source": [
    "# EXPLORATORY DATA ANALYSIS"
   ]
  },
  {
   "cell_type": "markdown",
   "id": "fb14870e",
   "metadata": {
    "papermill": {
     "duration": 0.019159,
     "end_time": "2023-01-03T03:46:22.431627",
     "exception": false,
     "start_time": "2023-01-03T03:46:22.412468",
     "status": "completed"
    },
    "tags": []
   },
   "source": [
    "\n",
    "- Used to understand a company's shortcomings(done after every financial quarter)\n",
    "\n",
    "### Why is it done?\n",
    "* better understanding \n",
    "* identifying data patterns \n",
    "* getting better understand if problem statement\n",
    "* improvement in sales, customer targeting , reduces costs\n",
    "* allows creation of better problem-solving strategies"
   ]
  },
  {
   "cell_type": "markdown",
   "id": "af890663",
   "metadata": {
    "papermill": {
     "duration": 0.019132,
     "end_time": "2023-01-03T03:46:22.471197",
     "exception": false,
     "start_time": "2023-01-03T03:46:22.452065",
     "status": "completed"
    },
    "tags": []
   },
   "source": [
    "# How is EDA done?"
   ]
  },
  {
   "cell_type": "markdown",
   "id": "205a5b4a",
   "metadata": {
    "papermill": {
     "duration": 0.019116,
     "end_time": "2023-01-03T03:46:22.509757",
     "exception": false,
     "start_time": "2023-01-03T03:46:22.490641",
     "status": "completed"
    },
    "tags": []
   },
   "source": [
    "### Iris Dataset\n",
    "* \"Hello world\" of Data Science\n",
    "* 5 Columns\n",
    "    1. Species Type\n",
    "    2. Sepal length\n",
    "    3. Sepal Width\n",
    "    4. Petal Length\n",
    "    5. Petal width\n"
   ]
  },
  {
   "cell_type": "code",
   "execution_count": 1,
   "id": "6ff01b3a",
   "metadata": {
    "execution": {
     "iopub.execute_input": "2023-01-03T03:46:22.550627Z",
     "iopub.status.busy": "2023-01-03T03:46:22.549866Z",
     "iopub.status.idle": "2023-01-03T03:46:22.559330Z",
     "shell.execute_reply": "2023-01-03T03:46:22.558524Z"
    },
    "papermill": {
     "duration": 0.032779,
     "end_time": "2023-01-03T03:46:22.561921",
     "exception": false,
     "start_time": "2023-01-03T03:46:22.529142",
     "status": "completed"
    },
    "tags": []
   },
   "outputs": [],
   "source": [
    "import pandas as pd"
   ]
  },
  {
   "cell_type": "markdown",
   "id": "5ba6d9a5",
   "metadata": {
    "papermill": {
     "duration": 0.019201,
     "end_time": "2023-01-03T03:46:22.600377",
     "exception": false,
     "start_time": "2023-01-03T03:46:22.581176",
     "status": "completed"
    },
    "tags": []
   },
   "source": [
    "**Conversion of csv files into Dataframes**"
   ]
  },
  {
   "cell_type": "code",
   "execution_count": 2,
   "id": "777180ab",
   "metadata": {
    "execution": {
     "iopub.execute_input": "2023-01-03T03:46:22.641405Z",
     "iopub.status.busy": "2023-01-03T03:46:22.640961Z",
     "iopub.status.idle": "2023-01-03T03:46:22.667954Z",
     "shell.execute_reply": "2023-01-03T03:46:22.666673Z"
    },
    "papermill": {
     "duration": 0.050753,
     "end_time": "2023-01-03T03:46:22.670578",
     "exception": false,
     "start_time": "2023-01-03T03:46:22.619825",
     "status": "completed"
    },
    "tags": []
   },
   "outputs": [],
   "source": [
    "irisdf=pd.read_csv('/kaggle/input/irisflowerdatasets/IRIS.csv')"
   ]
  },
  {
   "cell_type": "code",
   "execution_count": 3,
   "id": "e7a76d70",
   "metadata": {
    "execution": {
     "iopub.execute_input": "2023-01-03T03:46:22.712727Z",
     "iopub.status.busy": "2023-01-03T03:46:22.712306Z",
     "iopub.status.idle": "2023-01-03T03:46:22.734803Z",
     "shell.execute_reply": "2023-01-03T03:46:22.733690Z"
    },
    "papermill": {
     "duration": 0.046971,
     "end_time": "2023-01-03T03:46:22.737808",
     "exception": false,
     "start_time": "2023-01-03T03:46:22.690837",
     "status": "completed"
    },
    "tags": []
   },
   "outputs": [],
   "source": [
    "iris1df=pd.read_csv('/kaggle/input/irisflowerdatasets/IRIS1.csv')"
   ]
  },
  {
   "cell_type": "markdown",
   "id": "af9bf320",
   "metadata": {
    "papermill": {
     "duration": 0.021114,
     "end_time": "2023-01-03T03:46:22.778696",
     "exception": false,
     "start_time": "2023-01-03T03:46:22.757582",
     "status": "completed"
    },
    "tags": []
   },
   "source": [
    "**Basic Operations**"
   ]
  },
  {
   "cell_type": "markdown",
   "id": "3f27205b",
   "metadata": {
    "papermill": {
     "duration": 0.019606,
     "end_time": "2023-01-03T03:46:22.817806",
     "exception": false,
     "start_time": "2023-01-03T03:46:22.798200",
     "status": "completed"
    },
    "tags": []
   },
   "source": [
    "**1.Head() and Tail()**"
   ]
  },
  {
   "cell_type": "code",
   "execution_count": 4,
   "id": "55cdf4af",
   "metadata": {
    "execution": {
     "iopub.execute_input": "2023-01-03T03:46:22.859886Z",
     "iopub.status.busy": "2023-01-03T03:46:22.859154Z",
     "iopub.status.idle": "2023-01-03T03:46:22.891307Z",
     "shell.execute_reply": "2023-01-03T03:46:22.889993Z"
    },
    "papermill": {
     "duration": 0.056567,
     "end_time": "2023-01-03T03:46:22.894444",
     "exception": false,
     "start_time": "2023-01-03T03:46:22.837877",
     "status": "completed"
    },
    "tags": []
   },
   "outputs": [
    {
     "data": {
      "text/html": [
       "<div>\n",
       "<style scoped>\n",
       "    .dataframe tbody tr th:only-of-type {\n",
       "        vertical-align: middle;\n",
       "    }\n",
       "\n",
       "    .dataframe tbody tr th {\n",
       "        vertical-align: top;\n",
       "    }\n",
       "\n",
       "    .dataframe thead th {\n",
       "        text-align: right;\n",
       "    }\n",
       "</style>\n",
       "<table border=\"1\" class=\"dataframe\">\n",
       "  <thead>\n",
       "    <tr style=\"text-align: right;\">\n",
       "      <th></th>\n",
       "      <th>sepal_length</th>\n",
       "      <th>sepal_width</th>\n",
       "      <th>petal_length</th>\n",
       "      <th>petal_width</th>\n",
       "      <th>species</th>\n",
       "    </tr>\n",
       "  </thead>\n",
       "  <tbody>\n",
       "    <tr>\n",
       "      <th>0</th>\n",
       "      <td>5.1</td>\n",
       "      <td>3.5</td>\n",
       "      <td>1.4</td>\n",
       "      <td>0.2</td>\n",
       "      <td>Iris-setosa</td>\n",
       "    </tr>\n",
       "    <tr>\n",
       "      <th>1</th>\n",
       "      <td>4.9</td>\n",
       "      <td>3.0</td>\n",
       "      <td>1.4</td>\n",
       "      <td>0.2</td>\n",
       "      <td>Iris-setosa</td>\n",
       "    </tr>\n",
       "    <tr>\n",
       "      <th>2</th>\n",
       "      <td>4.7</td>\n",
       "      <td>3.2</td>\n",
       "      <td>1.3</td>\n",
       "      <td>0.2</td>\n",
       "      <td>Iris-setosa</td>\n",
       "    </tr>\n",
       "    <tr>\n",
       "      <th>3</th>\n",
       "      <td>4.6</td>\n",
       "      <td>3.1</td>\n",
       "      <td>1.5</td>\n",
       "      <td>0.2</td>\n",
       "      <td>Iris-setosa</td>\n",
       "    </tr>\n",
       "    <tr>\n",
       "      <th>4</th>\n",
       "      <td>5.0</td>\n",
       "      <td>3.6</td>\n",
       "      <td>1.4</td>\n",
       "      <td>0.2</td>\n",
       "      <td>Iris-setosa</td>\n",
       "    </tr>\n",
       "    <tr>\n",
       "      <th>5</th>\n",
       "      <td>5.4</td>\n",
       "      <td>3.9</td>\n",
       "      <td>1.7</td>\n",
       "      <td>0.4</td>\n",
       "      <td>Iris-setosa</td>\n",
       "    </tr>\n",
       "    <tr>\n",
       "      <th>6</th>\n",
       "      <td>4.6</td>\n",
       "      <td>3.4</td>\n",
       "      <td>1.4</td>\n",
       "      <td>0.3</td>\n",
       "      <td>Iris-setosa</td>\n",
       "    </tr>\n",
       "    <tr>\n",
       "      <th>7</th>\n",
       "      <td>5.0</td>\n",
       "      <td>3.4</td>\n",
       "      <td>1.5</td>\n",
       "      <td>0.2</td>\n",
       "      <td>Iris-setosa</td>\n",
       "    </tr>\n",
       "    <tr>\n",
       "      <th>8</th>\n",
       "      <td>4.4</td>\n",
       "      <td>2.9</td>\n",
       "      <td>1.4</td>\n",
       "      <td>0.2</td>\n",
       "      <td>Iris-setosa</td>\n",
       "    </tr>\n",
       "    <tr>\n",
       "      <th>9</th>\n",
       "      <td>4.9</td>\n",
       "      <td>3.1</td>\n",
       "      <td>1.5</td>\n",
       "      <td>0.1</td>\n",
       "      <td>Iris-setosa</td>\n",
       "    </tr>\n",
       "  </tbody>\n",
       "</table>\n",
       "</div>"
      ],
      "text/plain": [
       "   sepal_length  sepal_width  petal_length  petal_width      species\n",
       "0           5.1          3.5           1.4          0.2  Iris-setosa\n",
       "1           4.9          3.0           1.4          0.2  Iris-setosa\n",
       "2           4.7          3.2           1.3          0.2  Iris-setosa\n",
       "3           4.6          3.1           1.5          0.2  Iris-setosa\n",
       "4           5.0          3.6           1.4          0.2  Iris-setosa\n",
       "5           5.4          3.9           1.7          0.4  Iris-setosa\n",
       "6           4.6          3.4           1.4          0.3  Iris-setosa\n",
       "7           5.0          3.4           1.5          0.2  Iris-setosa\n",
       "8           4.4          2.9           1.4          0.2  Iris-setosa\n",
       "9           4.9          3.1           1.5          0.1  Iris-setosa"
      ]
     },
     "execution_count": 4,
     "metadata": {},
     "output_type": "execute_result"
    }
   ],
   "source": [
    "irisdf.head(10)"
   ]
  },
  {
   "cell_type": "code",
   "execution_count": 5,
   "id": "674a8bcf",
   "metadata": {
    "execution": {
     "iopub.execute_input": "2023-01-03T03:46:22.935966Z",
     "iopub.status.busy": "2023-01-03T03:46:22.935545Z",
     "iopub.status.idle": "2023-01-03T03:46:22.949611Z",
     "shell.execute_reply": "2023-01-03T03:46:22.948322Z"
    },
    "papermill": {
     "duration": 0.037913,
     "end_time": "2023-01-03T03:46:22.952255",
     "exception": false,
     "start_time": "2023-01-03T03:46:22.914342",
     "status": "completed"
    },
    "tags": []
   },
   "outputs": [
    {
     "data": {
      "text/html": [
       "<div>\n",
       "<style scoped>\n",
       "    .dataframe tbody tr th:only-of-type {\n",
       "        vertical-align: middle;\n",
       "    }\n",
       "\n",
       "    .dataframe tbody tr th {\n",
       "        vertical-align: top;\n",
       "    }\n",
       "\n",
       "    .dataframe thead th {\n",
       "        text-align: right;\n",
       "    }\n",
       "</style>\n",
       "<table border=\"1\" class=\"dataframe\">\n",
       "  <thead>\n",
       "    <tr style=\"text-align: right;\">\n",
       "      <th></th>\n",
       "      <th>sepal_length</th>\n",
       "      <th>sepal_width</th>\n",
       "      <th>petal_length</th>\n",
       "      <th>petal_width</th>\n",
       "      <th>species</th>\n",
       "    </tr>\n",
       "  </thead>\n",
       "  <tbody>\n",
       "    <tr>\n",
       "      <th>145</th>\n",
       "      <td>6.7</td>\n",
       "      <td>3.0</td>\n",
       "      <td>5.2</td>\n",
       "      <td>2.3</td>\n",
       "      <td>Iris-virginica</td>\n",
       "    </tr>\n",
       "    <tr>\n",
       "      <th>146</th>\n",
       "      <td>6.3</td>\n",
       "      <td>2.5</td>\n",
       "      <td>5.0</td>\n",
       "      <td>1.9</td>\n",
       "      <td>Iris-virginica</td>\n",
       "    </tr>\n",
       "    <tr>\n",
       "      <th>147</th>\n",
       "      <td>6.5</td>\n",
       "      <td>3.0</td>\n",
       "      <td>5.2</td>\n",
       "      <td>2.0</td>\n",
       "      <td>Iris-virginica</td>\n",
       "    </tr>\n",
       "    <tr>\n",
       "      <th>148</th>\n",
       "      <td>6.2</td>\n",
       "      <td>3.4</td>\n",
       "      <td>5.4</td>\n",
       "      <td>2.3</td>\n",
       "      <td>Iris-virginica</td>\n",
       "    </tr>\n",
       "    <tr>\n",
       "      <th>149</th>\n",
       "      <td>5.9</td>\n",
       "      <td>3.0</td>\n",
       "      <td>5.1</td>\n",
       "      <td>1.8</td>\n",
       "      <td>Iris-virginica</td>\n",
       "    </tr>\n",
       "  </tbody>\n",
       "</table>\n",
       "</div>"
      ],
      "text/plain": [
       "     sepal_length  sepal_width  petal_length  petal_width         species\n",
       "145           6.7          3.0           5.2          2.3  Iris-virginica\n",
       "146           6.3          2.5           5.0          1.9  Iris-virginica\n",
       "147           6.5          3.0           5.2          2.0  Iris-virginica\n",
       "148           6.2          3.4           5.4          2.3  Iris-virginica\n",
       "149           5.9          3.0           5.1          1.8  Iris-virginica"
      ]
     },
     "execution_count": 5,
     "metadata": {},
     "output_type": "execute_result"
    }
   ],
   "source": [
    "irisdf.tail()"
   ]
  },
  {
   "cell_type": "code",
   "execution_count": 6,
   "id": "94b8a13e",
   "metadata": {
    "execution": {
     "iopub.execute_input": "2023-01-03T03:46:22.993617Z",
     "iopub.status.busy": "2023-01-03T03:46:22.993247Z",
     "iopub.status.idle": "2023-01-03T03:46:23.009512Z",
     "shell.execute_reply": "2023-01-03T03:46:23.008357Z"
    },
    "papermill": {
     "duration": 0.039644,
     "end_time": "2023-01-03T03:46:23.011986",
     "exception": false,
     "start_time": "2023-01-03T03:46:22.972342",
     "status": "completed"
    },
    "tags": []
   },
   "outputs": [
    {
     "data": {
      "text/html": [
       "<div>\n",
       "<style scoped>\n",
       "    .dataframe tbody tr th:only-of-type {\n",
       "        vertical-align: middle;\n",
       "    }\n",
       "\n",
       "    .dataframe tbody tr th {\n",
       "        vertical-align: top;\n",
       "    }\n",
       "\n",
       "    .dataframe thead th {\n",
       "        text-align: right;\n",
       "    }\n",
       "</style>\n",
       "<table border=\"1\" class=\"dataframe\">\n",
       "  <thead>\n",
       "    <tr style=\"text-align: right;\">\n",
       "      <th></th>\n",
       "      <th>sepal_length</th>\n",
       "      <th>sepal_width</th>\n",
       "      <th>petal_length</th>\n",
       "      <th>petal_width</th>\n",
       "      <th>species</th>\n",
       "    </tr>\n",
       "  </thead>\n",
       "  <tbody>\n",
       "    <tr>\n",
       "      <th>0</th>\n",
       "      <td>5.1</td>\n",
       "      <td>3.5</td>\n",
       "      <td>1.4</td>\n",
       "      <td>0.2</td>\n",
       "      <td>Iris-setosa</td>\n",
       "    </tr>\n",
       "    <tr>\n",
       "      <th>1</th>\n",
       "      <td>4.9</td>\n",
       "      <td>3.0</td>\n",
       "      <td>NaN</td>\n",
       "      <td>0.2</td>\n",
       "      <td>Iris-setosa</td>\n",
       "    </tr>\n",
       "    <tr>\n",
       "      <th>2</th>\n",
       "      <td>4.7</td>\n",
       "      <td>3.2</td>\n",
       "      <td>1.3</td>\n",
       "      <td>0.2</td>\n",
       "      <td>Iris-setosa</td>\n",
       "    </tr>\n",
       "    <tr>\n",
       "      <th>3</th>\n",
       "      <td>4.6</td>\n",
       "      <td>3.1</td>\n",
       "      <td>1.5</td>\n",
       "      <td>0.2</td>\n",
       "      <td>NaN</td>\n",
       "    </tr>\n",
       "    <tr>\n",
       "      <th>4</th>\n",
       "      <td>5.0</td>\n",
       "      <td>3.6</td>\n",
       "      <td>1.4</td>\n",
       "      <td>0.2</td>\n",
       "      <td>Iris-setosa</td>\n",
       "    </tr>\n",
       "    <tr>\n",
       "      <th>5</th>\n",
       "      <td>5.4</td>\n",
       "      <td>3.9</td>\n",
       "      <td>1.7</td>\n",
       "      <td>0.4</td>\n",
       "      <td>Iris-setosa</td>\n",
       "    </tr>\n",
       "    <tr>\n",
       "      <th>6</th>\n",
       "      <td>4.6</td>\n",
       "      <td>3.4</td>\n",
       "      <td>1.4</td>\n",
       "      <td>0.3</td>\n",
       "      <td>Iris-setosa</td>\n",
       "    </tr>\n",
       "    <tr>\n",
       "      <th>7</th>\n",
       "      <td>5.0</td>\n",
       "      <td>3.4</td>\n",
       "      <td>1.5</td>\n",
       "      <td>NaN</td>\n",
       "      <td>Iris-setosa</td>\n",
       "    </tr>\n",
       "    <tr>\n",
       "      <th>8</th>\n",
       "      <td>4.4</td>\n",
       "      <td>2.9</td>\n",
       "      <td>1.4</td>\n",
       "      <td>0.2</td>\n",
       "      <td>Iris-setosa</td>\n",
       "    </tr>\n",
       "    <tr>\n",
       "      <th>9</th>\n",
       "      <td>4.9</td>\n",
       "      <td>3.1</td>\n",
       "      <td>NaN</td>\n",
       "      <td>0.1</td>\n",
       "      <td>Iris-setosa</td>\n",
       "    </tr>\n",
       "  </tbody>\n",
       "</table>\n",
       "</div>"
      ],
      "text/plain": [
       "   sepal_length  sepal_width  petal_length  petal_width      species\n",
       "0           5.1          3.5           1.4          0.2  Iris-setosa\n",
       "1           4.9          3.0           NaN          0.2  Iris-setosa\n",
       "2           4.7          3.2           1.3          0.2  Iris-setosa\n",
       "3           4.6          3.1           1.5          0.2          NaN\n",
       "4           5.0          3.6           1.4          0.2  Iris-setosa\n",
       "5           5.4          3.9           1.7          0.4  Iris-setosa\n",
       "6           4.6          3.4           1.4          0.3  Iris-setosa\n",
       "7           5.0          3.4           1.5          NaN  Iris-setosa\n",
       "8           4.4          2.9           1.4          0.2  Iris-setosa\n",
       "9           4.9          3.1           NaN          0.1  Iris-setosa"
      ]
     },
     "execution_count": 6,
     "metadata": {},
     "output_type": "execute_result"
    }
   ],
   "source": [
    "iris1df.head(10)"
   ]
  },
  {
   "cell_type": "code",
   "execution_count": 7,
   "id": "743e827b",
   "metadata": {
    "execution": {
     "iopub.execute_input": "2023-01-03T03:46:23.054449Z",
     "iopub.status.busy": "2023-01-03T03:46:23.054026Z",
     "iopub.status.idle": "2023-01-03T03:46:23.072335Z",
     "shell.execute_reply": "2023-01-03T03:46:23.071303Z"
    },
    "papermill": {
     "duration": 0.042498,
     "end_time": "2023-01-03T03:46:23.074990",
     "exception": false,
     "start_time": "2023-01-03T03:46:23.032492",
     "status": "completed"
    },
    "tags": []
   },
   "outputs": [
    {
     "data": {
      "text/html": [
       "<div>\n",
       "<style scoped>\n",
       "    .dataframe tbody tr th:only-of-type {\n",
       "        vertical-align: middle;\n",
       "    }\n",
       "\n",
       "    .dataframe tbody tr th {\n",
       "        vertical-align: top;\n",
       "    }\n",
       "\n",
       "    .dataframe thead th {\n",
       "        text-align: right;\n",
       "    }\n",
       "</style>\n",
       "<table border=\"1\" class=\"dataframe\">\n",
       "  <thead>\n",
       "    <tr style=\"text-align: right;\">\n",
       "      <th></th>\n",
       "      <th>sepal_length</th>\n",
       "      <th>sepal_width</th>\n",
       "      <th>petal_length</th>\n",
       "      <th>petal_width</th>\n",
       "      <th>species</th>\n",
       "    </tr>\n",
       "  </thead>\n",
       "  <tbody>\n",
       "    <tr>\n",
       "      <th>130</th>\n",
       "      <td>7.4</td>\n",
       "      <td>2.8</td>\n",
       "      <td>6.1</td>\n",
       "      <td>1.9</td>\n",
       "      <td>Iris-virginica</td>\n",
       "    </tr>\n",
       "    <tr>\n",
       "      <th>131</th>\n",
       "      <td>7.9</td>\n",
       "      <td>3.8</td>\n",
       "      <td>6.4</td>\n",
       "      <td>2.0</td>\n",
       "      <td>Iris-virginica</td>\n",
       "    </tr>\n",
       "    <tr>\n",
       "      <th>132</th>\n",
       "      <td>6.4</td>\n",
       "      <td>2.8</td>\n",
       "      <td>NaN</td>\n",
       "      <td>2.2</td>\n",
       "      <td>Iris-virginica</td>\n",
       "    </tr>\n",
       "    <tr>\n",
       "      <th>133</th>\n",
       "      <td>6.3</td>\n",
       "      <td>2.8</td>\n",
       "      <td>5.1</td>\n",
       "      <td>1.5</td>\n",
       "      <td>Iris-virginica</td>\n",
       "    </tr>\n",
       "    <tr>\n",
       "      <th>134</th>\n",
       "      <td>6.1</td>\n",
       "      <td>2.6</td>\n",
       "      <td>5.6</td>\n",
       "      <td>1.4</td>\n",
       "      <td>Iris-virginica</td>\n",
       "    </tr>\n",
       "    <tr>\n",
       "      <th>135</th>\n",
       "      <td>7.7</td>\n",
       "      <td>3.0</td>\n",
       "      <td>6.1</td>\n",
       "      <td>2.3</td>\n",
       "      <td>Iris-virginica</td>\n",
       "    </tr>\n",
       "    <tr>\n",
       "      <th>136</th>\n",
       "      <td>6.3</td>\n",
       "      <td>3.4</td>\n",
       "      <td>5.6</td>\n",
       "      <td>2.4</td>\n",
       "      <td>Iris-virginica</td>\n",
       "    </tr>\n",
       "    <tr>\n",
       "      <th>137</th>\n",
       "      <td>6.4</td>\n",
       "      <td>3.1</td>\n",
       "      <td>5.5</td>\n",
       "      <td>1.8</td>\n",
       "      <td>Iris-virginica</td>\n",
       "    </tr>\n",
       "    <tr>\n",
       "      <th>138</th>\n",
       "      <td>NaN</td>\n",
       "      <td>4.8</td>\n",
       "      <td>1.8</td>\n",
       "      <td>NaN</td>\n",
       "      <td>NaN</td>\n",
       "    </tr>\n",
       "    <tr>\n",
       "      <th>139</th>\n",
       "      <td>6.9</td>\n",
       "      <td>3.1</td>\n",
       "      <td>5.4</td>\n",
       "      <td>2.1</td>\n",
       "      <td>Iris-virginica</td>\n",
       "    </tr>\n",
       "    <tr>\n",
       "      <th>140</th>\n",
       "      <td>6.7</td>\n",
       "      <td>3.1</td>\n",
       "      <td>5.6</td>\n",
       "      <td>2.4</td>\n",
       "      <td>Iris-virginica</td>\n",
       "    </tr>\n",
       "    <tr>\n",
       "      <th>141</th>\n",
       "      <td>NaN</td>\n",
       "      <td>3.1</td>\n",
       "      <td>5.1</td>\n",
       "      <td>2.3</td>\n",
       "      <td>Iris-virginica</td>\n",
       "    </tr>\n",
       "    <tr>\n",
       "      <th>142</th>\n",
       "      <td>5.8</td>\n",
       "      <td>2.7</td>\n",
       "      <td>5.1</td>\n",
       "      <td>1.9</td>\n",
       "      <td>Iris-virginica</td>\n",
       "    </tr>\n",
       "    <tr>\n",
       "      <th>143</th>\n",
       "      <td>6.8</td>\n",
       "      <td>3.2</td>\n",
       "      <td>5.9</td>\n",
       "      <td>2.3</td>\n",
       "      <td>Iris-virginica</td>\n",
       "    </tr>\n",
       "    <tr>\n",
       "      <th>144</th>\n",
       "      <td>6.7</td>\n",
       "      <td>NaN</td>\n",
       "      <td>5.7</td>\n",
       "      <td>2.5</td>\n",
       "      <td>Iris-virginica</td>\n",
       "    </tr>\n",
       "    <tr>\n",
       "      <th>145</th>\n",
       "      <td>6.7</td>\n",
       "      <td>3.0</td>\n",
       "      <td>5.2</td>\n",
       "      <td>2.3</td>\n",
       "      <td>Iris-virginica</td>\n",
       "    </tr>\n",
       "    <tr>\n",
       "      <th>146</th>\n",
       "      <td>6.3</td>\n",
       "      <td>2.5</td>\n",
       "      <td>NaN</td>\n",
       "      <td>1.9</td>\n",
       "      <td>Iris-virginica</td>\n",
       "    </tr>\n",
       "    <tr>\n",
       "      <th>147</th>\n",
       "      <td>6.5</td>\n",
       "      <td>3.0</td>\n",
       "      <td>5.2</td>\n",
       "      <td>2.0</td>\n",
       "      <td>NaN</td>\n",
       "    </tr>\n",
       "    <tr>\n",
       "      <th>148</th>\n",
       "      <td>6.2</td>\n",
       "      <td>3.4</td>\n",
       "      <td>5.4</td>\n",
       "      <td>2.3</td>\n",
       "      <td>Iris-virginica</td>\n",
       "    </tr>\n",
       "    <tr>\n",
       "      <th>149</th>\n",
       "      <td>5.9</td>\n",
       "      <td>3.0</td>\n",
       "      <td>NaN</td>\n",
       "      <td>1.8</td>\n",
       "      <td>Iris-virginica</td>\n",
       "    </tr>\n",
       "  </tbody>\n",
       "</table>\n",
       "</div>"
      ],
      "text/plain": [
       "     sepal_length  sepal_width  petal_length  petal_width         species\n",
       "130           7.4          2.8           6.1          1.9  Iris-virginica\n",
       "131           7.9          3.8           6.4          2.0  Iris-virginica\n",
       "132           6.4          2.8           NaN          2.2  Iris-virginica\n",
       "133           6.3          2.8           5.1          1.5  Iris-virginica\n",
       "134           6.1          2.6           5.6          1.4  Iris-virginica\n",
       "135           7.7          3.0           6.1          2.3  Iris-virginica\n",
       "136           6.3          3.4           5.6          2.4  Iris-virginica\n",
       "137           6.4          3.1           5.5          1.8  Iris-virginica\n",
       "138           NaN          4.8           1.8          NaN             NaN\n",
       "139           6.9          3.1           5.4          2.1  Iris-virginica\n",
       "140           6.7          3.1           5.6          2.4  Iris-virginica\n",
       "141           NaN          3.1           5.1          2.3  Iris-virginica\n",
       "142           5.8          2.7           5.1          1.9  Iris-virginica\n",
       "143           6.8          3.2           5.9          2.3  Iris-virginica\n",
       "144           6.7          NaN           5.7          2.5  Iris-virginica\n",
       "145           6.7          3.0           5.2          2.3  Iris-virginica\n",
       "146           6.3          2.5           NaN          1.9  Iris-virginica\n",
       "147           6.5          3.0           5.2          2.0             NaN\n",
       "148           6.2          3.4           5.4          2.3  Iris-virginica\n",
       "149           5.9          3.0           NaN          1.8  Iris-virginica"
      ]
     },
     "execution_count": 7,
     "metadata": {},
     "output_type": "execute_result"
    }
   ],
   "source": [
    "iris1df.tail(20)"
   ]
  },
  {
   "cell_type": "markdown",
   "id": "02f35a45",
   "metadata": {
    "papermill": {
     "duration": 0.020055,
     "end_time": "2023-01-03T03:46:23.115613",
     "exception": false,
     "start_time": "2023-01-03T03:46:23.095558",
     "status": "completed"
    },
    "tags": []
   },
   "source": [
    "# shape of data\n",
    "**2. shape**"
   ]
  },
  {
   "cell_type": "code",
   "execution_count": 8,
   "id": "3e8e102f",
   "metadata": {
    "execution": {
     "iopub.execute_input": "2023-01-03T03:46:23.158728Z",
     "iopub.status.busy": "2023-01-03T03:46:23.158351Z",
     "iopub.status.idle": "2023-01-03T03:46:23.164896Z",
     "shell.execute_reply": "2023-01-03T03:46:23.163786Z"
    },
    "papermill": {
     "duration": 0.030968,
     "end_time": "2023-01-03T03:46:23.167393",
     "exception": false,
     "start_time": "2023-01-03T03:46:23.136425",
     "status": "completed"
    },
    "tags": []
   },
   "outputs": [
    {
     "data": {
      "text/plain": [
       "(150, 5)"
      ]
     },
     "execution_count": 8,
     "metadata": {},
     "output_type": "execute_result"
    }
   ],
   "source": [
    "#shape\n",
    "irisdf.shape"
   ]
  },
  {
   "cell_type": "code",
   "execution_count": 9,
   "id": "195033d9",
   "metadata": {
    "execution": {
     "iopub.execute_input": "2023-01-03T03:46:23.211788Z",
     "iopub.status.busy": "2023-01-03T03:46:23.211384Z",
     "iopub.status.idle": "2023-01-03T03:46:23.218406Z",
     "shell.execute_reply": "2023-01-03T03:46:23.217288Z"
    },
    "papermill": {
     "duration": 0.032415,
     "end_time": "2023-01-03T03:46:23.220575",
     "exception": false,
     "start_time": "2023-01-03T03:46:23.188160",
     "status": "completed"
    },
    "tags": []
   },
   "outputs": [
    {
     "data": {
      "text/plain": [
       "(150, 5)"
      ]
     },
     "execution_count": 9,
     "metadata": {},
     "output_type": "execute_result"
    }
   ],
   "source": [
    "#shape\n",
    "iris1df.shape"
   ]
  },
  {
   "cell_type": "markdown",
   "id": "d629ea34",
   "metadata": {
    "papermill": {
     "duration": 0.020342,
     "end_time": "2023-01-03T03:46:23.262771",
     "exception": false,
     "start_time": "2023-01-03T03:46:23.242429",
     "status": "completed"
    },
    "tags": []
   },
   "source": [
    "**3. Describe() and Info()**"
   ]
  },
  {
   "cell_type": "code",
   "execution_count": 10,
   "id": "8bd9e07c",
   "metadata": {
    "execution": {
     "iopub.execute_input": "2023-01-03T03:46:23.306416Z",
     "iopub.status.busy": "2023-01-03T03:46:23.306009Z",
     "iopub.status.idle": "2023-01-03T03:46:23.340152Z",
     "shell.execute_reply": "2023-01-03T03:46:23.338851Z"
    },
    "papermill": {
     "duration": 0.05915,
     "end_time": "2023-01-03T03:46:23.342870",
     "exception": false,
     "start_time": "2023-01-03T03:46:23.283720",
     "status": "completed"
    },
    "tags": []
   },
   "outputs": [
    {
     "data": {
      "text/html": [
       "<div>\n",
       "<style scoped>\n",
       "    .dataframe tbody tr th:only-of-type {\n",
       "        vertical-align: middle;\n",
       "    }\n",
       "\n",
       "    .dataframe tbody tr th {\n",
       "        vertical-align: top;\n",
       "    }\n",
       "\n",
       "    .dataframe thead th {\n",
       "        text-align: right;\n",
       "    }\n",
       "</style>\n",
       "<table border=\"1\" class=\"dataframe\">\n",
       "  <thead>\n",
       "    <tr style=\"text-align: right;\">\n",
       "      <th></th>\n",
       "      <th>sepal_length</th>\n",
       "      <th>sepal_width</th>\n",
       "      <th>petal_length</th>\n",
       "      <th>petal_width</th>\n",
       "    </tr>\n",
       "  </thead>\n",
       "  <tbody>\n",
       "    <tr>\n",
       "      <th>count</th>\n",
       "      <td>150.000000</td>\n",
       "      <td>150.000000</td>\n",
       "      <td>150.000000</td>\n",
       "      <td>150.000000</td>\n",
       "    </tr>\n",
       "    <tr>\n",
       "      <th>mean</th>\n",
       "      <td>5.843333</td>\n",
       "      <td>3.054000</td>\n",
       "      <td>3.758667</td>\n",
       "      <td>1.198667</td>\n",
       "    </tr>\n",
       "    <tr>\n",
       "      <th>std</th>\n",
       "      <td>0.828066</td>\n",
       "      <td>0.433594</td>\n",
       "      <td>1.764420</td>\n",
       "      <td>0.763161</td>\n",
       "    </tr>\n",
       "    <tr>\n",
       "      <th>min</th>\n",
       "      <td>4.300000</td>\n",
       "      <td>2.000000</td>\n",
       "      <td>1.000000</td>\n",
       "      <td>0.100000</td>\n",
       "    </tr>\n",
       "    <tr>\n",
       "      <th>25%</th>\n",
       "      <td>5.100000</td>\n",
       "      <td>2.800000</td>\n",
       "      <td>1.600000</td>\n",
       "      <td>0.300000</td>\n",
       "    </tr>\n",
       "    <tr>\n",
       "      <th>50%</th>\n",
       "      <td>5.800000</td>\n",
       "      <td>3.000000</td>\n",
       "      <td>4.350000</td>\n",
       "      <td>1.300000</td>\n",
       "    </tr>\n",
       "    <tr>\n",
       "      <th>75%</th>\n",
       "      <td>6.400000</td>\n",
       "      <td>3.300000</td>\n",
       "      <td>5.100000</td>\n",
       "      <td>1.800000</td>\n",
       "    </tr>\n",
       "    <tr>\n",
       "      <th>max</th>\n",
       "      <td>7.900000</td>\n",
       "      <td>4.400000</td>\n",
       "      <td>6.900000</td>\n",
       "      <td>2.500000</td>\n",
       "    </tr>\n",
       "  </tbody>\n",
       "</table>\n",
       "</div>"
      ],
      "text/plain": [
       "       sepal_length  sepal_width  petal_length  petal_width\n",
       "count    150.000000   150.000000    150.000000   150.000000\n",
       "mean       5.843333     3.054000      3.758667     1.198667\n",
       "std        0.828066     0.433594      1.764420     0.763161\n",
       "min        4.300000     2.000000      1.000000     0.100000\n",
       "25%        5.100000     2.800000      1.600000     0.300000\n",
       "50%        5.800000     3.000000      4.350000     1.300000\n",
       "75%        6.400000     3.300000      5.100000     1.800000\n",
       "max        7.900000     4.400000      6.900000     2.500000"
      ]
     },
     "execution_count": 10,
     "metadata": {},
     "output_type": "execute_result"
    }
   ],
   "source": [
    "#describe\n",
    "irisdf.describe()"
   ]
  },
  {
   "cell_type": "markdown",
   "id": "bc81c7d0",
   "metadata": {
    "papermill": {
     "duration": 0.020591,
     "end_time": "2023-01-03T03:46:23.384559",
     "exception": false,
     "start_time": "2023-01-03T03:46:23.363968",
     "status": "completed"
    },
    "tags": []
   },
   "source": [
    "**Note: 25 50 and 75 are percentiles. They represent modes** \n",
    "\n",
    "**eg :25 percent of sepal_length values are less than or equal to 5.1**"
   ]
  },
  {
   "cell_type": "code",
   "execution_count": 11,
   "id": "daf1f3e1",
   "metadata": {
    "execution": {
     "iopub.execute_input": "2023-01-03T03:46:23.428356Z",
     "iopub.status.busy": "2023-01-03T03:46:23.427967Z",
     "iopub.status.idle": "2023-01-03T03:46:23.444264Z",
     "shell.execute_reply": "2023-01-03T03:46:23.442990Z"
    },
    "papermill": {
     "duration": 0.041244,
     "end_time": "2023-01-03T03:46:23.446940",
     "exception": false,
     "start_time": "2023-01-03T03:46:23.405696",
     "status": "completed"
    },
    "tags": []
   },
   "outputs": [
    {
     "name": "stdout",
     "output_type": "stream",
     "text": [
      "<class 'pandas.core.frame.DataFrame'>\n",
      "RangeIndex: 150 entries, 0 to 149\n",
      "Data columns (total 5 columns):\n",
      " #   Column        Non-Null Count  Dtype  \n",
      "---  ------        --------------  -----  \n",
      " 0   sepal_length  150 non-null    float64\n",
      " 1   sepal_width   150 non-null    float64\n",
      " 2   petal_length  150 non-null    float64\n",
      " 3   petal_width   150 non-null    float64\n",
      " 4   species       150 non-null    object \n",
      "dtypes: float64(4), object(1)\n",
      "memory usage: 6.0+ KB\n"
     ]
    }
   ],
   "source": [
    "#info\n",
    "irisdf.info()"
   ]
  },
  {
   "cell_type": "code",
   "execution_count": 12,
   "id": "4b6afbf9",
   "metadata": {
    "execution": {
     "iopub.execute_input": "2023-01-03T03:46:23.494079Z",
     "iopub.status.busy": "2023-01-03T03:46:23.493653Z",
     "iopub.status.idle": "2023-01-03T03:46:23.520089Z",
     "shell.execute_reply": "2023-01-03T03:46:23.518942Z"
    },
    "papermill": {
     "duration": 0.050896,
     "end_time": "2023-01-03T03:46:23.522238",
     "exception": false,
     "start_time": "2023-01-03T03:46:23.471342",
     "status": "completed"
    },
    "tags": []
   },
   "outputs": [
    {
     "data": {
      "text/html": [
       "<div>\n",
       "<style scoped>\n",
       "    .dataframe tbody tr th:only-of-type {\n",
       "        vertical-align: middle;\n",
       "    }\n",
       "\n",
       "    .dataframe tbody tr th {\n",
       "        vertical-align: top;\n",
       "    }\n",
       "\n",
       "    .dataframe thead th {\n",
       "        text-align: right;\n",
       "    }\n",
       "</style>\n",
       "<table border=\"1\" class=\"dataframe\">\n",
       "  <thead>\n",
       "    <tr style=\"text-align: right;\">\n",
       "      <th></th>\n",
       "      <th>sepal_length</th>\n",
       "      <th>sepal_width</th>\n",
       "      <th>petal_length</th>\n",
       "      <th>petal_width</th>\n",
       "    </tr>\n",
       "  </thead>\n",
       "  <tbody>\n",
       "    <tr>\n",
       "      <th>count</th>\n",
       "      <td>140.000000</td>\n",
       "      <td>142.000000</td>\n",
       "      <td>137.000000</td>\n",
       "      <td>143.000000</td>\n",
       "    </tr>\n",
       "    <tr>\n",
       "      <th>mean</th>\n",
       "      <td>5.833571</td>\n",
       "      <td>3.061268</td>\n",
       "      <td>3.713139</td>\n",
       "      <td>1.184615</td>\n",
       "    </tr>\n",
       "    <tr>\n",
       "      <th>std</th>\n",
       "      <td>0.841086</td>\n",
       "      <td>0.450035</td>\n",
       "      <td>1.791845</td>\n",
       "      <td>0.766031</td>\n",
       "    </tr>\n",
       "    <tr>\n",
       "      <th>min</th>\n",
       "      <td>4.300000</td>\n",
       "      <td>2.000000</td>\n",
       "      <td>1.000000</td>\n",
       "      <td>0.100000</td>\n",
       "    </tr>\n",
       "    <tr>\n",
       "      <th>25%</th>\n",
       "      <td>5.100000</td>\n",
       "      <td>2.800000</td>\n",
       "      <td>1.500000</td>\n",
       "      <td>0.300000</td>\n",
       "    </tr>\n",
       "    <tr>\n",
       "      <th>50%</th>\n",
       "      <td>5.800000</td>\n",
       "      <td>3.000000</td>\n",
       "      <td>4.200000</td>\n",
       "      <td>1.300000</td>\n",
       "    </tr>\n",
       "    <tr>\n",
       "      <th>75%</th>\n",
       "      <td>6.400000</td>\n",
       "      <td>3.300000</td>\n",
       "      <td>5.100000</td>\n",
       "      <td>1.800000</td>\n",
       "    </tr>\n",
       "    <tr>\n",
       "      <th>max</th>\n",
       "      <td>7.900000</td>\n",
       "      <td>4.800000</td>\n",
       "      <td>6.900000</td>\n",
       "      <td>2.500000</td>\n",
       "    </tr>\n",
       "  </tbody>\n",
       "</table>\n",
       "</div>"
      ],
      "text/plain": [
       "       sepal_length  sepal_width  petal_length  petal_width\n",
       "count    140.000000   142.000000    137.000000   143.000000\n",
       "mean       5.833571     3.061268      3.713139     1.184615\n",
       "std        0.841086     0.450035      1.791845     0.766031\n",
       "min        4.300000     2.000000      1.000000     0.100000\n",
       "25%        5.100000     2.800000      1.500000     0.300000\n",
       "50%        5.800000     3.000000      4.200000     1.300000\n",
       "75%        6.400000     3.300000      5.100000     1.800000\n",
       "max        7.900000     4.800000      6.900000     2.500000"
      ]
     },
     "execution_count": 12,
     "metadata": {},
     "output_type": "execute_result"
    }
   ],
   "source": [
    "iris1df.describe()"
   ]
  },
  {
   "cell_type": "code",
   "execution_count": 13,
   "id": "dfa8fc7c",
   "metadata": {
    "execution": {
     "iopub.execute_input": "2023-01-03T03:46:23.568138Z",
     "iopub.status.busy": "2023-01-03T03:46:23.567712Z",
     "iopub.status.idle": "2023-01-03T03:46:23.580108Z",
     "shell.execute_reply": "2023-01-03T03:46:23.579317Z"
    },
    "papermill": {
     "duration": 0.037581,
     "end_time": "2023-01-03T03:46:23.582177",
     "exception": false,
     "start_time": "2023-01-03T03:46:23.544596",
     "status": "completed"
    },
    "tags": []
   },
   "outputs": [
    {
     "name": "stdout",
     "output_type": "stream",
     "text": [
      "<class 'pandas.core.frame.DataFrame'>\n",
      "RangeIndex: 150 entries, 0 to 149\n",
      "Data columns (total 5 columns):\n",
      " #   Column        Non-Null Count  Dtype  \n",
      "---  ------        --------------  -----  \n",
      " 0   sepal_length  140 non-null    float64\n",
      " 1   sepal_width   142 non-null    float64\n",
      " 2   petal_length  137 non-null    float64\n",
      " 3   petal_width   143 non-null    float64\n",
      " 4   species       137 non-null    object \n",
      "dtypes: float64(4), object(1)\n",
      "memory usage: 6.0+ KB\n"
     ]
    }
   ],
   "source": [
    "iris1df.info()"
   ]
  },
  {
   "cell_type": "markdown",
   "id": "c0f09c34",
   "metadata": {
    "papermill": {
     "duration": 0.020968,
     "end_time": "2023-01-03T03:46:23.624347",
     "exception": false,
     "start_time": "2023-01-03T03:46:23.603379",
     "status": "completed"
    },
    "tags": []
   },
   "source": [
    "**4. Duplicated() and Keep attribute**"
   ]
  },
  {
   "cell_type": "code",
   "execution_count": 14,
   "id": "83cf66c9",
   "metadata": {
    "execution": {
     "iopub.execute_input": "2023-01-03T03:46:23.668996Z",
     "iopub.status.busy": "2023-01-03T03:46:23.668600Z",
     "iopub.status.idle": "2023-01-03T03:46:23.681657Z",
     "shell.execute_reply": "2023-01-03T03:46:23.680516Z"
    },
    "papermill": {
     "duration": 0.038408,
     "end_time": "2023-01-03T03:46:23.683978",
     "exception": false,
     "start_time": "2023-01-03T03:46:23.645570",
     "status": "completed"
    },
    "tags": []
   },
   "outputs": [
    {
     "data": {
      "text/plain": [
       "0      False\n",
       "1      False\n",
       "2      False\n",
       "3      False\n",
       "4      False\n",
       "       ...  \n",
       "145    False\n",
       "146    False\n",
       "147    False\n",
       "148    False\n",
       "149    False\n",
       "Length: 150, dtype: bool"
      ]
     },
     "execution_count": 14,
     "metadata": {},
     "output_type": "execute_result"
    }
   ],
   "source": [
    "irisdf.duplicated()"
   ]
  },
  {
   "cell_type": "code",
   "execution_count": 15,
   "id": "68fa5dc9",
   "metadata": {
    "execution": {
     "iopub.execute_input": "2023-01-03T03:46:23.731593Z",
     "iopub.status.busy": "2023-01-03T03:46:23.731204Z",
     "iopub.status.idle": "2023-01-03T03:46:23.741460Z",
     "shell.execute_reply": "2023-01-03T03:46:23.740009Z"
    },
    "papermill": {
     "duration": 0.03939,
     "end_time": "2023-01-03T03:46:23.744784",
     "exception": false,
     "start_time": "2023-01-03T03:46:23.705394",
     "status": "completed"
    },
    "tags": []
   },
   "outputs": [
    {
     "data": {
      "text/plain": [
       "3"
      ]
     },
     "execution_count": 15,
     "metadata": {},
     "output_type": "execute_result"
    }
   ],
   "source": [
    "irisdf.duplicated().sum()"
   ]
  },
  {
   "cell_type": "code",
   "execution_count": 16,
   "id": "011149b1",
   "metadata": {
    "execution": {
     "iopub.execute_input": "2023-01-03T03:46:23.799838Z",
     "iopub.status.busy": "2023-01-03T03:46:23.799469Z",
     "iopub.status.idle": "2023-01-03T03:46:23.814672Z",
     "shell.execute_reply": "2023-01-03T03:46:23.813183Z"
    },
    "papermill": {
     "duration": 0.04346,
     "end_time": "2023-01-03T03:46:23.817012",
     "exception": false,
     "start_time": "2023-01-03T03:46:23.773552",
     "status": "completed"
    },
    "tags": []
   },
   "outputs": [
    {
     "data": {
      "text/html": [
       "<div>\n",
       "<style scoped>\n",
       "    .dataframe tbody tr th:only-of-type {\n",
       "        vertical-align: middle;\n",
       "    }\n",
       "\n",
       "    .dataframe tbody tr th {\n",
       "        vertical-align: top;\n",
       "    }\n",
       "\n",
       "    .dataframe thead th {\n",
       "        text-align: right;\n",
       "    }\n",
       "</style>\n",
       "<table border=\"1\" class=\"dataframe\">\n",
       "  <thead>\n",
       "    <tr style=\"text-align: right;\">\n",
       "      <th></th>\n",
       "      <th>sepal_length</th>\n",
       "      <th>sepal_width</th>\n",
       "      <th>petal_length</th>\n",
       "      <th>petal_width</th>\n",
       "      <th>species</th>\n",
       "    </tr>\n",
       "  </thead>\n",
       "  <tbody>\n",
       "    <tr>\n",
       "      <th>34</th>\n",
       "      <td>4.9</td>\n",
       "      <td>3.1</td>\n",
       "      <td>1.5</td>\n",
       "      <td>0.1</td>\n",
       "      <td>Iris-setosa</td>\n",
       "    </tr>\n",
       "    <tr>\n",
       "      <th>37</th>\n",
       "      <td>4.9</td>\n",
       "      <td>3.1</td>\n",
       "      <td>1.5</td>\n",
       "      <td>0.1</td>\n",
       "      <td>Iris-setosa</td>\n",
       "    </tr>\n",
       "    <tr>\n",
       "      <th>142</th>\n",
       "      <td>5.8</td>\n",
       "      <td>2.7</td>\n",
       "      <td>5.1</td>\n",
       "      <td>1.9</td>\n",
       "      <td>Iris-virginica</td>\n",
       "    </tr>\n",
       "  </tbody>\n",
       "</table>\n",
       "</div>"
      ],
      "text/plain": [
       "     sepal_length  sepal_width  petal_length  petal_width         species\n",
       "34            4.9          3.1           1.5          0.1     Iris-setosa\n",
       "37            4.9          3.1           1.5          0.1     Iris-setosa\n",
       "142           5.8          2.7           5.1          1.9  Iris-virginica"
      ]
     },
     "execution_count": 16,
     "metadata": {},
     "output_type": "execute_result"
    }
   ],
   "source": [
    "duplicate=irisdf[irisdf.duplicated(keep='first')]\n",
    "duplicate"
   ]
  },
  {
   "cell_type": "code",
   "execution_count": 17,
   "id": "a2392e48",
   "metadata": {
    "execution": {
     "iopub.execute_input": "2023-01-03T03:46:23.864716Z",
     "iopub.status.busy": "2023-01-03T03:46:23.864320Z",
     "iopub.status.idle": "2023-01-03T03:46:23.880042Z",
     "shell.execute_reply": "2023-01-03T03:46:23.878819Z"
    },
    "papermill": {
     "duration": 0.042798,
     "end_time": "2023-01-03T03:46:23.882600",
     "exception": false,
     "start_time": "2023-01-03T03:46:23.839802",
     "status": "completed"
    },
    "tags": []
   },
   "outputs": [
    {
     "data": {
      "text/html": [
       "<div>\n",
       "<style scoped>\n",
       "    .dataframe tbody tr th:only-of-type {\n",
       "        vertical-align: middle;\n",
       "    }\n",
       "\n",
       "    .dataframe tbody tr th {\n",
       "        vertical-align: top;\n",
       "    }\n",
       "\n",
       "    .dataframe thead th {\n",
       "        text-align: right;\n",
       "    }\n",
       "</style>\n",
       "<table border=\"1\" class=\"dataframe\">\n",
       "  <thead>\n",
       "    <tr style=\"text-align: right;\">\n",
       "      <th></th>\n",
       "      <th>sepal_length</th>\n",
       "      <th>sepal_width</th>\n",
       "      <th>petal_length</th>\n",
       "      <th>petal_width</th>\n",
       "      <th>species</th>\n",
       "    </tr>\n",
       "  </thead>\n",
       "  <tbody>\n",
       "    <tr>\n",
       "      <th>9</th>\n",
       "      <td>4.9</td>\n",
       "      <td>3.1</td>\n",
       "      <td>1.5</td>\n",
       "      <td>0.1</td>\n",
       "      <td>Iris-setosa</td>\n",
       "    </tr>\n",
       "    <tr>\n",
       "      <th>34</th>\n",
       "      <td>4.9</td>\n",
       "      <td>3.1</td>\n",
       "      <td>1.5</td>\n",
       "      <td>0.1</td>\n",
       "      <td>Iris-setosa</td>\n",
       "    </tr>\n",
       "    <tr>\n",
       "      <th>101</th>\n",
       "      <td>5.8</td>\n",
       "      <td>2.7</td>\n",
       "      <td>5.1</td>\n",
       "      <td>1.9</td>\n",
       "      <td>Iris-virginica</td>\n",
       "    </tr>\n",
       "  </tbody>\n",
       "</table>\n",
       "</div>"
      ],
      "text/plain": [
       "     sepal_length  sepal_width  petal_length  petal_width         species\n",
       "9             4.9          3.1           1.5          0.1     Iris-setosa\n",
       "34            4.9          3.1           1.5          0.1     Iris-setosa\n",
       "101           5.8          2.7           5.1          1.9  Iris-virginica"
      ]
     },
     "execution_count": 17,
     "metadata": {},
     "output_type": "execute_result"
    }
   ],
   "source": [
    "duplicate=irisdf[irisdf.duplicated(keep='last')]\n",
    "duplicate"
   ]
  },
  {
   "cell_type": "code",
   "execution_count": 18,
   "id": "9b85efe1",
   "metadata": {
    "execution": {
     "iopub.execute_input": "2023-01-03T03:46:23.928511Z",
     "iopub.status.busy": "2023-01-03T03:46:23.928054Z",
     "iopub.status.idle": "2023-01-03T03:46:23.938579Z",
     "shell.execute_reply": "2023-01-03T03:46:23.937474Z"
    },
    "papermill": {
     "duration": 0.036539,
     "end_time": "2023-01-03T03:46:23.941077",
     "exception": false,
     "start_time": "2023-01-03T03:46:23.904538",
     "status": "completed"
    },
    "tags": []
   },
   "outputs": [
    {
     "data": {
      "text/plain": [
       "0      False\n",
       "1      False\n",
       "2      False\n",
       "3      False\n",
       "4      False\n",
       "       ...  \n",
       "145    False\n",
       "146    False\n",
       "147    False\n",
       "148    False\n",
       "149    False\n",
       "Length: 150, dtype: bool"
      ]
     },
     "execution_count": 18,
     "metadata": {},
     "output_type": "execute_result"
    }
   ],
   "source": [
    "iris1df.duplicated()"
   ]
  },
  {
   "cell_type": "code",
   "execution_count": 19,
   "id": "71290849",
   "metadata": {
    "execution": {
     "iopub.execute_input": "2023-01-03T03:46:23.987244Z",
     "iopub.status.busy": "2023-01-03T03:46:23.986786Z",
     "iopub.status.idle": "2023-01-03T03:46:23.995386Z",
     "shell.execute_reply": "2023-01-03T03:46:23.994496Z"
    },
    "papermill": {
     "duration": 0.03445,
     "end_time": "2023-01-03T03:46:23.997389",
     "exception": false,
     "start_time": "2023-01-03T03:46:23.962939",
     "status": "completed"
    },
    "tags": []
   },
   "outputs": [
    {
     "data": {
      "text/plain": [
       "2"
      ]
     },
     "execution_count": 19,
     "metadata": {},
     "output_type": "execute_result"
    }
   ],
   "source": [
    "iris1df.duplicated().sum()"
   ]
  },
  {
   "cell_type": "code",
   "execution_count": 20,
   "id": "d6470b68",
   "metadata": {
    "execution": {
     "iopub.execute_input": "2023-01-03T03:46:24.043184Z",
     "iopub.status.busy": "2023-01-03T03:46:24.042763Z",
     "iopub.status.idle": "2023-01-03T03:46:24.057549Z",
     "shell.execute_reply": "2023-01-03T03:46:24.056423Z"
    },
    "papermill": {
     "duration": 0.040404,
     "end_time": "2023-01-03T03:46:24.059987",
     "exception": false,
     "start_time": "2023-01-03T03:46:24.019583",
     "status": "completed"
    },
    "tags": []
   },
   "outputs": [
    {
     "data": {
      "text/html": [
       "<div>\n",
       "<style scoped>\n",
       "    .dataframe tbody tr th:only-of-type {\n",
       "        vertical-align: middle;\n",
       "    }\n",
       "\n",
       "    .dataframe tbody tr th {\n",
       "        vertical-align: top;\n",
       "    }\n",
       "\n",
       "    .dataframe thead th {\n",
       "        text-align: right;\n",
       "    }\n",
       "</style>\n",
       "<table border=\"1\" class=\"dataframe\">\n",
       "  <thead>\n",
       "    <tr style=\"text-align: right;\">\n",
       "      <th></th>\n",
       "      <th>sepal_length</th>\n",
       "      <th>sepal_width</th>\n",
       "      <th>petal_length</th>\n",
       "      <th>petal_width</th>\n",
       "      <th>species</th>\n",
       "    </tr>\n",
       "  </thead>\n",
       "  <tbody>\n",
       "    <tr>\n",
       "      <th>37</th>\n",
       "      <td>4.9</td>\n",
       "      <td>3.1</td>\n",
       "      <td>1.5</td>\n",
       "      <td>0.1</td>\n",
       "      <td>Iris-setosa</td>\n",
       "    </tr>\n",
       "    <tr>\n",
       "      <th>142</th>\n",
       "      <td>5.8</td>\n",
       "      <td>2.7</td>\n",
       "      <td>5.1</td>\n",
       "      <td>1.9</td>\n",
       "      <td>Iris-virginica</td>\n",
       "    </tr>\n",
       "  </tbody>\n",
       "</table>\n",
       "</div>"
      ],
      "text/plain": [
       "     sepal_length  sepal_width  petal_length  petal_width         species\n",
       "37            4.9          3.1           1.5          0.1     Iris-setosa\n",
       "142           5.8          2.7           5.1          1.9  Iris-virginica"
      ]
     },
     "execution_count": 20,
     "metadata": {},
     "output_type": "execute_result"
    }
   ],
   "source": [
    "duplicate=iris1df[iris1df.duplicated(keep='first')]\n",
    "duplicate"
   ]
  },
  {
   "cell_type": "code",
   "execution_count": 21,
   "id": "1d39c7a1",
   "metadata": {
    "execution": {
     "iopub.execute_input": "2023-01-03T03:46:24.106674Z",
     "iopub.status.busy": "2023-01-03T03:46:24.105764Z",
     "iopub.status.idle": "2023-01-03T03:46:24.120647Z",
     "shell.execute_reply": "2023-01-03T03:46:24.119843Z"
    },
    "papermill": {
     "duration": 0.040723,
     "end_time": "2023-01-03T03:46:24.123101",
     "exception": false,
     "start_time": "2023-01-03T03:46:24.082378",
     "status": "completed"
    },
    "tags": []
   },
   "outputs": [
    {
     "data": {
      "text/html": [
       "<div>\n",
       "<style scoped>\n",
       "    .dataframe tbody tr th:only-of-type {\n",
       "        vertical-align: middle;\n",
       "    }\n",
       "\n",
       "    .dataframe tbody tr th {\n",
       "        vertical-align: top;\n",
       "    }\n",
       "\n",
       "    .dataframe thead th {\n",
       "        text-align: right;\n",
       "    }\n",
       "</style>\n",
       "<table border=\"1\" class=\"dataframe\">\n",
       "  <thead>\n",
       "    <tr style=\"text-align: right;\">\n",
       "      <th></th>\n",
       "      <th>sepal_length</th>\n",
       "      <th>sepal_width</th>\n",
       "      <th>petal_length</th>\n",
       "      <th>petal_width</th>\n",
       "      <th>species</th>\n",
       "    </tr>\n",
       "  </thead>\n",
       "  <tbody>\n",
       "    <tr>\n",
       "      <th>34</th>\n",
       "      <td>4.9</td>\n",
       "      <td>3.1</td>\n",
       "      <td>1.5</td>\n",
       "      <td>0.1</td>\n",
       "      <td>Iris-setosa</td>\n",
       "    </tr>\n",
       "    <tr>\n",
       "      <th>101</th>\n",
       "      <td>5.8</td>\n",
       "      <td>2.7</td>\n",
       "      <td>5.1</td>\n",
       "      <td>1.9</td>\n",
       "      <td>Iris-virginica</td>\n",
       "    </tr>\n",
       "  </tbody>\n",
       "</table>\n",
       "</div>"
      ],
      "text/plain": [
       "     sepal_length  sepal_width  petal_length  petal_width         species\n",
       "34            4.9          3.1           1.5          0.1     Iris-setosa\n",
       "101           5.8          2.7           5.1          1.9  Iris-virginica"
      ]
     },
     "execution_count": 21,
     "metadata": {},
     "output_type": "execute_result"
    }
   ],
   "source": [
    "duplicate=iris1df[iris1df.duplicated(keep='last')]\n",
    "duplicate"
   ]
  },
  {
   "cell_type": "markdown",
   "id": "7f30c6aa",
   "metadata": {
    "papermill": {
     "duration": 0.030815,
     "end_time": "2023-01-03T03:46:24.182034",
     "exception": false,
     "start_time": "2023-01-03T03:46:24.151219",
     "status": "completed"
    },
    "tags": []
   },
   "source": [
    "**5. drop_duplicates**"
   ]
  },
  {
   "cell_type": "code",
   "execution_count": 22,
   "id": "18d32240",
   "metadata": {
    "execution": {
     "iopub.execute_input": "2023-01-03T03:46:24.233108Z",
     "iopub.status.busy": "2023-01-03T03:46:24.232631Z",
     "iopub.status.idle": "2023-01-03T03:46:24.240045Z",
     "shell.execute_reply": "2023-01-03T03:46:24.238759Z"
    },
    "papermill": {
     "duration": 0.035579,
     "end_time": "2023-01-03T03:46:24.243600",
     "exception": false,
     "start_time": "2023-01-03T03:46:24.208021",
     "status": "completed"
    },
    "tags": []
   },
   "outputs": [],
   "source": [
    "irisdf.drop_duplicates(inplace=True)"
   ]
  },
  {
   "cell_type": "code",
   "execution_count": 23,
   "id": "df5a7f23",
   "metadata": {
    "execution": {
     "iopub.execute_input": "2023-01-03T03:46:24.292696Z",
     "iopub.status.busy": "2023-01-03T03:46:24.292273Z",
     "iopub.status.idle": "2023-01-03T03:46:24.299295Z",
     "shell.execute_reply": "2023-01-03T03:46:24.298194Z"
    },
    "papermill": {
     "duration": 0.034109,
     "end_time": "2023-01-03T03:46:24.301689",
     "exception": false,
     "start_time": "2023-01-03T03:46:24.267580",
     "status": "completed"
    },
    "tags": []
   },
   "outputs": [
    {
     "data": {
      "text/plain": [
       "(147, 5)"
      ]
     },
     "execution_count": 23,
     "metadata": {},
     "output_type": "execute_result"
    }
   ],
   "source": [
    "irisdf.shape"
   ]
  },
  {
   "cell_type": "code",
   "execution_count": 24,
   "id": "fafefa37",
   "metadata": {
    "execution": {
     "iopub.execute_input": "2023-01-03T03:46:24.348982Z",
     "iopub.status.busy": "2023-01-03T03:46:24.348562Z",
     "iopub.status.idle": "2023-01-03T03:46:24.355450Z",
     "shell.execute_reply": "2023-01-03T03:46:24.354328Z"
    },
    "papermill": {
     "duration": 0.033235,
     "end_time": "2023-01-03T03:46:24.357831",
     "exception": false,
     "start_time": "2023-01-03T03:46:24.324596",
     "status": "completed"
    },
    "tags": []
   },
   "outputs": [],
   "source": [
    "iris1df.drop_duplicates(inplace=True)"
   ]
  },
  {
   "cell_type": "code",
   "execution_count": 25,
   "id": "f024ebf3",
   "metadata": {
    "execution": {
     "iopub.execute_input": "2023-01-03T03:46:24.406203Z",
     "iopub.status.busy": "2023-01-03T03:46:24.405773Z",
     "iopub.status.idle": "2023-01-03T03:46:24.412705Z",
     "shell.execute_reply": "2023-01-03T03:46:24.411580Z"
    },
    "papermill": {
     "duration": 0.033973,
     "end_time": "2023-01-03T03:46:24.415301",
     "exception": false,
     "start_time": "2023-01-03T03:46:24.381328",
     "status": "completed"
    },
    "tags": []
   },
   "outputs": [
    {
     "data": {
      "text/plain": [
       "(148, 5)"
      ]
     },
     "execution_count": 25,
     "metadata": {},
     "output_type": "execute_result"
    }
   ],
   "source": [
    "iris1df.shape"
   ]
  },
  {
   "cell_type": "markdown",
   "id": "3f70bcda",
   "metadata": {
    "papermill": {
     "duration": 0.022602,
     "end_time": "2023-01-03T03:46:24.462404",
     "exception": false,
     "start_time": "2023-01-03T03:46:24.439802",
     "status": "completed"
    },
    "tags": []
   },
   "source": [
    "**6. isnull()**"
   ]
  },
  {
   "cell_type": "code",
   "execution_count": 26,
   "id": "e1879590",
   "metadata": {
    "execution": {
     "iopub.execute_input": "2023-01-03T03:46:24.509717Z",
     "iopub.status.busy": "2023-01-03T03:46:24.509328Z",
     "iopub.status.idle": "2023-01-03T03:46:24.524999Z",
     "shell.execute_reply": "2023-01-03T03:46:24.523707Z"
    },
    "papermill": {
     "duration": 0.042479,
     "end_time": "2023-01-03T03:46:24.527698",
     "exception": false,
     "start_time": "2023-01-03T03:46:24.485219",
     "status": "completed"
    },
    "tags": []
   },
   "outputs": [
    {
     "data": {
      "text/html": [
       "<div>\n",
       "<style scoped>\n",
       "    .dataframe tbody tr th:only-of-type {\n",
       "        vertical-align: middle;\n",
       "    }\n",
       "\n",
       "    .dataframe tbody tr th {\n",
       "        vertical-align: top;\n",
       "    }\n",
       "\n",
       "    .dataframe thead th {\n",
       "        text-align: right;\n",
       "    }\n",
       "</style>\n",
       "<table border=\"1\" class=\"dataframe\">\n",
       "  <thead>\n",
       "    <tr style=\"text-align: right;\">\n",
       "      <th></th>\n",
       "      <th>sepal_length</th>\n",
       "      <th>sepal_width</th>\n",
       "      <th>petal_length</th>\n",
       "      <th>petal_width</th>\n",
       "      <th>species</th>\n",
       "    </tr>\n",
       "  </thead>\n",
       "  <tbody>\n",
       "    <tr>\n",
       "      <th>0</th>\n",
       "      <td>False</td>\n",
       "      <td>False</td>\n",
       "      <td>False</td>\n",
       "      <td>False</td>\n",
       "      <td>False</td>\n",
       "    </tr>\n",
       "    <tr>\n",
       "      <th>1</th>\n",
       "      <td>False</td>\n",
       "      <td>False</td>\n",
       "      <td>False</td>\n",
       "      <td>False</td>\n",
       "      <td>False</td>\n",
       "    </tr>\n",
       "    <tr>\n",
       "      <th>2</th>\n",
       "      <td>False</td>\n",
       "      <td>False</td>\n",
       "      <td>False</td>\n",
       "      <td>False</td>\n",
       "      <td>False</td>\n",
       "    </tr>\n",
       "    <tr>\n",
       "      <th>3</th>\n",
       "      <td>False</td>\n",
       "      <td>False</td>\n",
       "      <td>False</td>\n",
       "      <td>False</td>\n",
       "      <td>False</td>\n",
       "    </tr>\n",
       "    <tr>\n",
       "      <th>4</th>\n",
       "      <td>False</td>\n",
       "      <td>False</td>\n",
       "      <td>False</td>\n",
       "      <td>False</td>\n",
       "      <td>False</td>\n",
       "    </tr>\n",
       "    <tr>\n",
       "      <th>...</th>\n",
       "      <td>...</td>\n",
       "      <td>...</td>\n",
       "      <td>...</td>\n",
       "      <td>...</td>\n",
       "      <td>...</td>\n",
       "    </tr>\n",
       "    <tr>\n",
       "      <th>145</th>\n",
       "      <td>False</td>\n",
       "      <td>False</td>\n",
       "      <td>False</td>\n",
       "      <td>False</td>\n",
       "      <td>False</td>\n",
       "    </tr>\n",
       "    <tr>\n",
       "      <th>146</th>\n",
       "      <td>False</td>\n",
       "      <td>False</td>\n",
       "      <td>False</td>\n",
       "      <td>False</td>\n",
       "      <td>False</td>\n",
       "    </tr>\n",
       "    <tr>\n",
       "      <th>147</th>\n",
       "      <td>False</td>\n",
       "      <td>False</td>\n",
       "      <td>False</td>\n",
       "      <td>False</td>\n",
       "      <td>False</td>\n",
       "    </tr>\n",
       "    <tr>\n",
       "      <th>148</th>\n",
       "      <td>False</td>\n",
       "      <td>False</td>\n",
       "      <td>False</td>\n",
       "      <td>False</td>\n",
       "      <td>False</td>\n",
       "    </tr>\n",
       "    <tr>\n",
       "      <th>149</th>\n",
       "      <td>False</td>\n",
       "      <td>False</td>\n",
       "      <td>False</td>\n",
       "      <td>False</td>\n",
       "      <td>False</td>\n",
       "    </tr>\n",
       "  </tbody>\n",
       "</table>\n",
       "<p>147 rows × 5 columns</p>\n",
       "</div>"
      ],
      "text/plain": [
       "     sepal_length  sepal_width  petal_length  petal_width  species\n",
       "0           False        False         False        False    False\n",
       "1           False        False         False        False    False\n",
       "2           False        False         False        False    False\n",
       "3           False        False         False        False    False\n",
       "4           False        False         False        False    False\n",
       "..            ...          ...           ...          ...      ...\n",
       "145         False        False         False        False    False\n",
       "146         False        False         False        False    False\n",
       "147         False        False         False        False    False\n",
       "148         False        False         False        False    False\n",
       "149         False        False         False        False    False\n",
       "\n",
       "[147 rows x 5 columns]"
      ]
     },
     "execution_count": 26,
     "metadata": {},
     "output_type": "execute_result"
    }
   ],
   "source": [
    "irisdf.isnull()"
   ]
  },
  {
   "cell_type": "code",
   "execution_count": 27,
   "id": "ccbef085",
   "metadata": {
    "execution": {
     "iopub.execute_input": "2023-01-03T03:46:24.581119Z",
     "iopub.status.busy": "2023-01-03T03:46:24.580262Z",
     "iopub.status.idle": "2023-01-03T03:46:24.592050Z",
     "shell.execute_reply": "2023-01-03T03:46:24.590746Z"
    },
    "papermill": {
     "duration": 0.044603,
     "end_time": "2023-01-03T03:46:24.596012",
     "exception": false,
     "start_time": "2023-01-03T03:46:24.551409",
     "status": "completed"
    },
    "tags": []
   },
   "outputs": [
    {
     "data": {
      "text/plain": [
       "sepal_length    0\n",
       "sepal_width     0\n",
       "petal_length    0\n",
       "petal_width     0\n",
       "species         0\n",
       "dtype: int64"
      ]
     },
     "execution_count": 27,
     "metadata": {},
     "output_type": "execute_result"
    }
   ],
   "source": [
    "irisdf.isnull().sum()"
   ]
  },
  {
   "cell_type": "code",
   "execution_count": 28,
   "id": "1f877f11",
   "metadata": {
    "execution": {
     "iopub.execute_input": "2023-01-03T03:46:24.651457Z",
     "iopub.status.busy": "2023-01-03T03:46:24.650783Z",
     "iopub.status.idle": "2023-01-03T03:46:24.661175Z",
     "shell.execute_reply": "2023-01-03T03:46:24.659999Z"
    },
    "papermill": {
     "duration": 0.040474,
     "end_time": "2023-01-03T03:46:24.663575",
     "exception": false,
     "start_time": "2023-01-03T03:46:24.623101",
     "status": "completed"
    },
    "tags": []
   },
   "outputs": [
    {
     "data": {
      "text/plain": [
       "sepal_length    10\n",
       "sepal_width      8\n",
       "petal_length    13\n",
       "petal_width      7\n",
       "species         13\n",
       "dtype: int64"
      ]
     },
     "execution_count": 28,
     "metadata": {},
     "output_type": "execute_result"
    }
   ],
   "source": [
    "iris1df.isnull().sum()"
   ]
  },
  {
   "cell_type": "markdown",
   "id": "a42095c5",
   "metadata": {
    "papermill": {
     "duration": 0.023357,
     "end_time": "2023-01-03T03:46:24.710482",
     "exception": false,
     "start_time": "2023-01-03T03:46:24.687125",
     "status": "completed"
    },
    "tags": []
   },
   "source": [
    "# fill or drop missing values\n",
    "\n",
    "These values can be anything from mean, median, mode or any specific value\n",
    "\n",
    "**7. fillna (value and inplace attribute)**"
   ]
  },
  {
   "cell_type": "markdown",
   "id": "a9704122",
   "metadata": {
    "papermill": {
     "duration": 0.024321,
     "end_time": "2023-01-03T03:46:24.760054",
     "exception": false,
     "start_time": "2023-01-03T03:46:24.735733",
     "status": "completed"
    },
    "tags": []
   },
   "source": [
    "## Sepal length --- Mean "
   ]
  },
  {
   "cell_type": "code",
   "execution_count": 29,
   "id": "45d9a223",
   "metadata": {
    "execution": {
     "iopub.execute_input": "2023-01-03T03:46:24.808838Z",
     "iopub.status.busy": "2023-01-03T03:46:24.808339Z",
     "iopub.status.idle": "2023-01-03T03:46:24.817114Z",
     "shell.execute_reply": "2023-01-03T03:46:24.815618Z"
    },
    "papermill": {
     "duration": 0.036191,
     "end_time": "2023-01-03T03:46:24.819792",
     "exception": false,
     "start_time": "2023-01-03T03:46:24.783601",
     "status": "completed"
    },
    "tags": []
   },
   "outputs": [
    {
     "data": {
      "text/plain": [
       "5.840579710144928"
      ]
     },
     "execution_count": 29,
     "metadata": {},
     "output_type": "execute_result"
    }
   ],
   "source": [
    "m=iris1df['sepal_length'].mean()\n",
    "m"
   ]
  },
  {
   "cell_type": "code",
   "execution_count": 30,
   "id": "738443df",
   "metadata": {
    "execution": {
     "iopub.execute_input": "2023-01-03T03:46:24.868494Z",
     "iopub.status.busy": "2023-01-03T03:46:24.868105Z",
     "iopub.status.idle": "2023-01-03T03:46:24.874124Z",
     "shell.execute_reply": "2023-01-03T03:46:24.872800Z"
    },
    "papermill": {
     "duration": 0.033453,
     "end_time": "2023-01-03T03:46:24.876502",
     "exception": false,
     "start_time": "2023-01-03T03:46:24.843049",
     "status": "completed"
    },
    "tags": []
   },
   "outputs": [],
   "source": [
    "iris1df['sepal_length'].fillna(value=iris1df['sepal_length'].mean(),inplace=True)"
   ]
  },
  {
   "cell_type": "code",
   "execution_count": 31,
   "id": "3bcc2b0e",
   "metadata": {
    "execution": {
     "iopub.execute_input": "2023-01-03T03:46:24.924913Z",
     "iopub.status.busy": "2023-01-03T03:46:24.924493Z",
     "iopub.status.idle": "2023-01-03T03:46:24.946847Z",
     "shell.execute_reply": "2023-01-03T03:46:24.945528Z"
    },
    "papermill": {
     "duration": 0.049221,
     "end_time": "2023-01-03T03:46:24.949201",
     "exception": false,
     "start_time": "2023-01-03T03:46:24.899980",
     "status": "completed"
    },
    "tags": []
   },
   "outputs": [
    {
     "data": {
      "text/html": [
       "<div>\n",
       "<style scoped>\n",
       "    .dataframe tbody tr th:only-of-type {\n",
       "        vertical-align: middle;\n",
       "    }\n",
       "\n",
       "    .dataframe tbody tr th {\n",
       "        vertical-align: top;\n",
       "    }\n",
       "\n",
       "    .dataframe thead th {\n",
       "        text-align: right;\n",
       "    }\n",
       "</style>\n",
       "<table border=\"1\" class=\"dataframe\">\n",
       "  <thead>\n",
       "    <tr style=\"text-align: right;\">\n",
       "      <th></th>\n",
       "      <th>sepal_length</th>\n",
       "      <th>sepal_width</th>\n",
       "      <th>petal_length</th>\n",
       "      <th>petal_width</th>\n",
       "      <th>species</th>\n",
       "    </tr>\n",
       "  </thead>\n",
       "  <tbody>\n",
       "    <tr>\n",
       "      <th>0</th>\n",
       "      <td>5.10000</td>\n",
       "      <td>3.5</td>\n",
       "      <td>1.4</td>\n",
       "      <td>0.2</td>\n",
       "      <td>Iris-setosa</td>\n",
       "    </tr>\n",
       "    <tr>\n",
       "      <th>1</th>\n",
       "      <td>4.90000</td>\n",
       "      <td>3.0</td>\n",
       "      <td>NaN</td>\n",
       "      <td>0.2</td>\n",
       "      <td>Iris-setosa</td>\n",
       "    </tr>\n",
       "    <tr>\n",
       "      <th>2</th>\n",
       "      <td>4.70000</td>\n",
       "      <td>3.2</td>\n",
       "      <td>1.3</td>\n",
       "      <td>0.2</td>\n",
       "      <td>Iris-setosa</td>\n",
       "    </tr>\n",
       "    <tr>\n",
       "      <th>3</th>\n",
       "      <td>4.60000</td>\n",
       "      <td>3.1</td>\n",
       "      <td>1.5</td>\n",
       "      <td>0.2</td>\n",
       "      <td>NaN</td>\n",
       "    </tr>\n",
       "    <tr>\n",
       "      <th>4</th>\n",
       "      <td>5.00000</td>\n",
       "      <td>3.6</td>\n",
       "      <td>1.4</td>\n",
       "      <td>0.2</td>\n",
       "      <td>Iris-setosa</td>\n",
       "    </tr>\n",
       "    <tr>\n",
       "      <th>5</th>\n",
       "      <td>5.40000</td>\n",
       "      <td>3.9</td>\n",
       "      <td>1.7</td>\n",
       "      <td>0.4</td>\n",
       "      <td>Iris-setosa</td>\n",
       "    </tr>\n",
       "    <tr>\n",
       "      <th>6</th>\n",
       "      <td>4.60000</td>\n",
       "      <td>3.4</td>\n",
       "      <td>1.4</td>\n",
       "      <td>0.3</td>\n",
       "      <td>Iris-setosa</td>\n",
       "    </tr>\n",
       "    <tr>\n",
       "      <th>7</th>\n",
       "      <td>5.00000</td>\n",
       "      <td>3.4</td>\n",
       "      <td>1.5</td>\n",
       "      <td>NaN</td>\n",
       "      <td>Iris-setosa</td>\n",
       "    </tr>\n",
       "    <tr>\n",
       "      <th>8</th>\n",
       "      <td>4.40000</td>\n",
       "      <td>2.9</td>\n",
       "      <td>1.4</td>\n",
       "      <td>0.2</td>\n",
       "      <td>Iris-setosa</td>\n",
       "    </tr>\n",
       "    <tr>\n",
       "      <th>9</th>\n",
       "      <td>4.90000</td>\n",
       "      <td>3.1</td>\n",
       "      <td>NaN</td>\n",
       "      <td>0.1</td>\n",
       "      <td>Iris-setosa</td>\n",
       "    </tr>\n",
       "    <tr>\n",
       "      <th>10</th>\n",
       "      <td>5.40000</td>\n",
       "      <td>3.7</td>\n",
       "      <td>1.5</td>\n",
       "      <td>0.2</td>\n",
       "      <td>Iris-setosa</td>\n",
       "    </tr>\n",
       "    <tr>\n",
       "      <th>11</th>\n",
       "      <td>4.80000</td>\n",
       "      <td>3.4</td>\n",
       "      <td>1.6</td>\n",
       "      <td>0.2</td>\n",
       "      <td>Iris-setosa</td>\n",
       "    </tr>\n",
       "    <tr>\n",
       "      <th>12</th>\n",
       "      <td>4.80000</td>\n",
       "      <td>NaN</td>\n",
       "      <td>1.4</td>\n",
       "      <td>0.1</td>\n",
       "      <td>Iris-setosa</td>\n",
       "    </tr>\n",
       "    <tr>\n",
       "      <th>13</th>\n",
       "      <td>4.30000</td>\n",
       "      <td>3.0</td>\n",
       "      <td>1.1</td>\n",
       "      <td>0.1</td>\n",
       "      <td>Iris-setosa</td>\n",
       "    </tr>\n",
       "    <tr>\n",
       "      <th>14</th>\n",
       "      <td>5.80000</td>\n",
       "      <td>4.0</td>\n",
       "      <td>1.2</td>\n",
       "      <td>0.2</td>\n",
       "      <td>Iris-setosa</td>\n",
       "    </tr>\n",
       "    <tr>\n",
       "      <th>15</th>\n",
       "      <td>5.70000</td>\n",
       "      <td>4.4</td>\n",
       "      <td>1.5</td>\n",
       "      <td>0.4</td>\n",
       "      <td>Iris-setosa</td>\n",
       "    </tr>\n",
       "    <tr>\n",
       "      <th>16</th>\n",
       "      <td>5.84058</td>\n",
       "      <td>3.9</td>\n",
       "      <td>1.3</td>\n",
       "      <td>0.4</td>\n",
       "      <td>Iris-setosa</td>\n",
       "    </tr>\n",
       "    <tr>\n",
       "      <th>17</th>\n",
       "      <td>5.10000</td>\n",
       "      <td>3.5</td>\n",
       "      <td>1.4</td>\n",
       "      <td>0.3</td>\n",
       "      <td>Iris-setosa</td>\n",
       "    </tr>\n",
       "    <tr>\n",
       "      <th>18</th>\n",
       "      <td>5.70000</td>\n",
       "      <td>3.8</td>\n",
       "      <td>1.7</td>\n",
       "      <td>0.3</td>\n",
       "      <td>Iris-setosa</td>\n",
       "    </tr>\n",
       "    <tr>\n",
       "      <th>19</th>\n",
       "      <td>5.10000</td>\n",
       "      <td>3.8</td>\n",
       "      <td>1.5</td>\n",
       "      <td>0.3</td>\n",
       "      <td>Iris-setosa</td>\n",
       "    </tr>\n",
       "    <tr>\n",
       "      <th>20</th>\n",
       "      <td>5.40000</td>\n",
       "      <td>3.4</td>\n",
       "      <td>1.7</td>\n",
       "      <td>0.2</td>\n",
       "      <td>Iris-setosa</td>\n",
       "    </tr>\n",
       "    <tr>\n",
       "      <th>21</th>\n",
       "      <td>5.10000</td>\n",
       "      <td>3.7</td>\n",
       "      <td>1.5</td>\n",
       "      <td>0.4</td>\n",
       "      <td>Iris-setosa</td>\n",
       "    </tr>\n",
       "    <tr>\n",
       "      <th>22</th>\n",
       "      <td>4.60000</td>\n",
       "      <td>3.6</td>\n",
       "      <td>1.0</td>\n",
       "      <td>0.2</td>\n",
       "      <td>NaN</td>\n",
       "    </tr>\n",
       "    <tr>\n",
       "      <th>23</th>\n",
       "      <td>5.10000</td>\n",
       "      <td>3.3</td>\n",
       "      <td>1.7</td>\n",
       "      <td>0.5</td>\n",
       "      <td>NaN</td>\n",
       "    </tr>\n",
       "    <tr>\n",
       "      <th>24</th>\n",
       "      <td>4.80000</td>\n",
       "      <td>3.4</td>\n",
       "      <td>1.9</td>\n",
       "      <td>0.2</td>\n",
       "      <td>Iris-setosa</td>\n",
       "    </tr>\n",
       "    <tr>\n",
       "      <th>25</th>\n",
       "      <td>5.00000</td>\n",
       "      <td>3.0</td>\n",
       "      <td>1.6</td>\n",
       "      <td>0.2</td>\n",
       "      <td>Iris-setosa</td>\n",
       "    </tr>\n",
       "    <tr>\n",
       "      <th>26</th>\n",
       "      <td>5.00000</td>\n",
       "      <td>3.4</td>\n",
       "      <td>NaN</td>\n",
       "      <td>0.4</td>\n",
       "      <td>Iris-setosa</td>\n",
       "    </tr>\n",
       "    <tr>\n",
       "      <th>27</th>\n",
       "      <td>5.20000</td>\n",
       "      <td>3.5</td>\n",
       "      <td>1.5</td>\n",
       "      <td>0.2</td>\n",
       "      <td>Iris-setosa</td>\n",
       "    </tr>\n",
       "    <tr>\n",
       "      <th>28</th>\n",
       "      <td>5.84058</td>\n",
       "      <td>3.4</td>\n",
       "      <td>1.4</td>\n",
       "      <td>0.2</td>\n",
       "      <td>Iris-setosa</td>\n",
       "    </tr>\n",
       "    <tr>\n",
       "      <th>29</th>\n",
       "      <td>4.70000</td>\n",
       "      <td>3.2</td>\n",
       "      <td>1.6</td>\n",
       "      <td>0.2</td>\n",
       "      <td>Iris-setosa</td>\n",
       "    </tr>\n",
       "  </tbody>\n",
       "</table>\n",
       "</div>"
      ],
      "text/plain": [
       "    sepal_length  sepal_width  petal_length  petal_width      species\n",
       "0        5.10000          3.5           1.4          0.2  Iris-setosa\n",
       "1        4.90000          3.0           NaN          0.2  Iris-setosa\n",
       "2        4.70000          3.2           1.3          0.2  Iris-setosa\n",
       "3        4.60000          3.1           1.5          0.2          NaN\n",
       "4        5.00000          3.6           1.4          0.2  Iris-setosa\n",
       "5        5.40000          3.9           1.7          0.4  Iris-setosa\n",
       "6        4.60000          3.4           1.4          0.3  Iris-setosa\n",
       "7        5.00000          3.4           1.5          NaN  Iris-setosa\n",
       "8        4.40000          2.9           1.4          0.2  Iris-setosa\n",
       "9        4.90000          3.1           NaN          0.1  Iris-setosa\n",
       "10       5.40000          3.7           1.5          0.2  Iris-setosa\n",
       "11       4.80000          3.4           1.6          0.2  Iris-setosa\n",
       "12       4.80000          NaN           1.4          0.1  Iris-setosa\n",
       "13       4.30000          3.0           1.1          0.1  Iris-setosa\n",
       "14       5.80000          4.0           1.2          0.2  Iris-setosa\n",
       "15       5.70000          4.4           1.5          0.4  Iris-setosa\n",
       "16       5.84058          3.9           1.3          0.4  Iris-setosa\n",
       "17       5.10000          3.5           1.4          0.3  Iris-setosa\n",
       "18       5.70000          3.8           1.7          0.3  Iris-setosa\n",
       "19       5.10000          3.8           1.5          0.3  Iris-setosa\n",
       "20       5.40000          3.4           1.7          0.2  Iris-setosa\n",
       "21       5.10000          3.7           1.5          0.4  Iris-setosa\n",
       "22       4.60000          3.6           1.0          0.2          NaN\n",
       "23       5.10000          3.3           1.7          0.5          NaN\n",
       "24       4.80000          3.4           1.9          0.2  Iris-setosa\n",
       "25       5.00000          3.0           1.6          0.2  Iris-setosa\n",
       "26       5.00000          3.4           NaN          0.4  Iris-setosa\n",
       "27       5.20000          3.5           1.5          0.2  Iris-setosa\n",
       "28       5.84058          3.4           1.4          0.2  Iris-setosa\n",
       "29       4.70000          3.2           1.6          0.2  Iris-setosa"
      ]
     },
     "execution_count": 31,
     "metadata": {},
     "output_type": "execute_result"
    }
   ],
   "source": [
    "iris1df.head(30)"
   ]
  },
  {
   "cell_type": "markdown",
   "id": "684d4b32",
   "metadata": {
    "papermill": {
     "duration": 0.02323,
     "end_time": "2023-01-03T03:46:24.996048",
     "exception": false,
     "start_time": "2023-01-03T03:46:24.972818",
     "status": "completed"
    },
    "tags": []
   },
   "source": [
    "## Sepal width --- Mode"
   ]
  },
  {
   "cell_type": "code",
   "execution_count": 32,
   "id": "2d595026",
   "metadata": {
    "execution": {
     "iopub.execute_input": "2023-01-03T03:46:25.045323Z",
     "iopub.status.busy": "2023-01-03T03:46:25.044916Z",
     "iopub.status.idle": "2023-01-03T03:46:25.056427Z",
     "shell.execute_reply": "2023-01-03T03:46:25.055273Z"
    },
    "papermill": {
     "duration": 0.038765,
     "end_time": "2023-01-03T03:46:25.058747",
     "exception": false,
     "start_time": "2023-01-03T03:46:25.019982",
     "status": "completed"
    },
    "tags": []
   },
   "outputs": [
    {
     "data": {
      "text/plain": [
       "0    3.0\n",
       "dtype: float64"
      ]
     },
     "execution_count": 32,
     "metadata": {},
     "output_type": "execute_result"
    }
   ],
   "source": [
    "mo=iris1df['sepal_width'].mode()\n",
    "mo"
   ]
  },
  {
   "cell_type": "code",
   "execution_count": 33,
   "id": "ab44f795",
   "metadata": {
    "execution": {
     "iopub.execute_input": "2023-01-03T03:46:25.108487Z",
     "iopub.status.busy": "2023-01-03T03:46:25.108048Z",
     "iopub.status.idle": "2023-01-03T03:46:25.115215Z",
     "shell.execute_reply": "2023-01-03T03:46:25.113730Z"
    },
    "papermill": {
     "duration": 0.035148,
     "end_time": "2023-01-03T03:46:25.117943",
     "exception": false,
     "start_time": "2023-01-03T03:46:25.082795",
     "status": "completed"
    },
    "tags": []
   },
   "outputs": [],
   "source": [
    "iris1df['sepal_width'].fillna(value=iris1df['sepal_width'].mode().values[0],inplace=True)"
   ]
  },
  {
   "cell_type": "code",
   "execution_count": 34,
   "id": "b65f2e8a",
   "metadata": {
    "execution": {
     "iopub.execute_input": "2023-01-03T03:46:25.170064Z",
     "iopub.status.busy": "2023-01-03T03:46:25.168967Z",
     "iopub.status.idle": "2023-01-03T03:46:25.191681Z",
     "shell.execute_reply": "2023-01-03T03:46:25.190334Z"
    },
    "papermill": {
     "duration": 0.051273,
     "end_time": "2023-01-03T03:46:25.194309",
     "exception": false,
     "start_time": "2023-01-03T03:46:25.143036",
     "status": "completed"
    },
    "tags": []
   },
   "outputs": [
    {
     "data": {
      "text/html": [
       "<div>\n",
       "<style scoped>\n",
       "    .dataframe tbody tr th:only-of-type {\n",
       "        vertical-align: middle;\n",
       "    }\n",
       "\n",
       "    .dataframe tbody tr th {\n",
       "        vertical-align: top;\n",
       "    }\n",
       "\n",
       "    .dataframe thead th {\n",
       "        text-align: right;\n",
       "    }\n",
       "</style>\n",
       "<table border=\"1\" class=\"dataframe\">\n",
       "  <thead>\n",
       "    <tr style=\"text-align: right;\">\n",
       "      <th></th>\n",
       "      <th>sepal_length</th>\n",
       "      <th>sepal_width</th>\n",
       "      <th>petal_length</th>\n",
       "      <th>petal_width</th>\n",
       "      <th>species</th>\n",
       "    </tr>\n",
       "  </thead>\n",
       "  <tbody>\n",
       "    <tr>\n",
       "      <th>0</th>\n",
       "      <td>5.10000</td>\n",
       "      <td>3.5</td>\n",
       "      <td>1.4</td>\n",
       "      <td>0.2</td>\n",
       "      <td>Iris-setosa</td>\n",
       "    </tr>\n",
       "    <tr>\n",
       "      <th>1</th>\n",
       "      <td>4.90000</td>\n",
       "      <td>3.0</td>\n",
       "      <td>NaN</td>\n",
       "      <td>0.2</td>\n",
       "      <td>Iris-setosa</td>\n",
       "    </tr>\n",
       "    <tr>\n",
       "      <th>2</th>\n",
       "      <td>4.70000</td>\n",
       "      <td>3.2</td>\n",
       "      <td>1.3</td>\n",
       "      <td>0.2</td>\n",
       "      <td>Iris-setosa</td>\n",
       "    </tr>\n",
       "    <tr>\n",
       "      <th>3</th>\n",
       "      <td>4.60000</td>\n",
       "      <td>3.1</td>\n",
       "      <td>1.5</td>\n",
       "      <td>0.2</td>\n",
       "      <td>NaN</td>\n",
       "    </tr>\n",
       "    <tr>\n",
       "      <th>4</th>\n",
       "      <td>5.00000</td>\n",
       "      <td>3.6</td>\n",
       "      <td>1.4</td>\n",
       "      <td>0.2</td>\n",
       "      <td>Iris-setosa</td>\n",
       "    </tr>\n",
       "    <tr>\n",
       "      <th>5</th>\n",
       "      <td>5.40000</td>\n",
       "      <td>3.9</td>\n",
       "      <td>1.7</td>\n",
       "      <td>0.4</td>\n",
       "      <td>Iris-setosa</td>\n",
       "    </tr>\n",
       "    <tr>\n",
       "      <th>6</th>\n",
       "      <td>4.60000</td>\n",
       "      <td>3.4</td>\n",
       "      <td>1.4</td>\n",
       "      <td>0.3</td>\n",
       "      <td>Iris-setosa</td>\n",
       "    </tr>\n",
       "    <tr>\n",
       "      <th>7</th>\n",
       "      <td>5.00000</td>\n",
       "      <td>3.4</td>\n",
       "      <td>1.5</td>\n",
       "      <td>NaN</td>\n",
       "      <td>Iris-setosa</td>\n",
       "    </tr>\n",
       "    <tr>\n",
       "      <th>8</th>\n",
       "      <td>4.40000</td>\n",
       "      <td>2.9</td>\n",
       "      <td>1.4</td>\n",
       "      <td>0.2</td>\n",
       "      <td>Iris-setosa</td>\n",
       "    </tr>\n",
       "    <tr>\n",
       "      <th>9</th>\n",
       "      <td>4.90000</td>\n",
       "      <td>3.1</td>\n",
       "      <td>NaN</td>\n",
       "      <td>0.1</td>\n",
       "      <td>Iris-setosa</td>\n",
       "    </tr>\n",
       "    <tr>\n",
       "      <th>10</th>\n",
       "      <td>5.40000</td>\n",
       "      <td>3.7</td>\n",
       "      <td>1.5</td>\n",
       "      <td>0.2</td>\n",
       "      <td>Iris-setosa</td>\n",
       "    </tr>\n",
       "    <tr>\n",
       "      <th>11</th>\n",
       "      <td>4.80000</td>\n",
       "      <td>3.4</td>\n",
       "      <td>1.6</td>\n",
       "      <td>0.2</td>\n",
       "      <td>Iris-setosa</td>\n",
       "    </tr>\n",
       "    <tr>\n",
       "      <th>12</th>\n",
       "      <td>4.80000</td>\n",
       "      <td>3.0</td>\n",
       "      <td>1.4</td>\n",
       "      <td>0.1</td>\n",
       "      <td>Iris-setosa</td>\n",
       "    </tr>\n",
       "    <tr>\n",
       "      <th>13</th>\n",
       "      <td>4.30000</td>\n",
       "      <td>3.0</td>\n",
       "      <td>1.1</td>\n",
       "      <td>0.1</td>\n",
       "      <td>Iris-setosa</td>\n",
       "    </tr>\n",
       "    <tr>\n",
       "      <th>14</th>\n",
       "      <td>5.80000</td>\n",
       "      <td>4.0</td>\n",
       "      <td>1.2</td>\n",
       "      <td>0.2</td>\n",
       "      <td>Iris-setosa</td>\n",
       "    </tr>\n",
       "    <tr>\n",
       "      <th>15</th>\n",
       "      <td>5.70000</td>\n",
       "      <td>4.4</td>\n",
       "      <td>1.5</td>\n",
       "      <td>0.4</td>\n",
       "      <td>Iris-setosa</td>\n",
       "    </tr>\n",
       "    <tr>\n",
       "      <th>16</th>\n",
       "      <td>5.84058</td>\n",
       "      <td>3.9</td>\n",
       "      <td>1.3</td>\n",
       "      <td>0.4</td>\n",
       "      <td>Iris-setosa</td>\n",
       "    </tr>\n",
       "    <tr>\n",
       "      <th>17</th>\n",
       "      <td>5.10000</td>\n",
       "      <td>3.5</td>\n",
       "      <td>1.4</td>\n",
       "      <td>0.3</td>\n",
       "      <td>Iris-setosa</td>\n",
       "    </tr>\n",
       "    <tr>\n",
       "      <th>18</th>\n",
       "      <td>5.70000</td>\n",
       "      <td>3.8</td>\n",
       "      <td>1.7</td>\n",
       "      <td>0.3</td>\n",
       "      <td>Iris-setosa</td>\n",
       "    </tr>\n",
       "    <tr>\n",
       "      <th>19</th>\n",
       "      <td>5.10000</td>\n",
       "      <td>3.8</td>\n",
       "      <td>1.5</td>\n",
       "      <td>0.3</td>\n",
       "      <td>Iris-setosa</td>\n",
       "    </tr>\n",
       "    <tr>\n",
       "      <th>20</th>\n",
       "      <td>5.40000</td>\n",
       "      <td>3.4</td>\n",
       "      <td>1.7</td>\n",
       "      <td>0.2</td>\n",
       "      <td>Iris-setosa</td>\n",
       "    </tr>\n",
       "    <tr>\n",
       "      <th>21</th>\n",
       "      <td>5.10000</td>\n",
       "      <td>3.7</td>\n",
       "      <td>1.5</td>\n",
       "      <td>0.4</td>\n",
       "      <td>Iris-setosa</td>\n",
       "    </tr>\n",
       "    <tr>\n",
       "      <th>22</th>\n",
       "      <td>4.60000</td>\n",
       "      <td>3.6</td>\n",
       "      <td>1.0</td>\n",
       "      <td>0.2</td>\n",
       "      <td>NaN</td>\n",
       "    </tr>\n",
       "    <tr>\n",
       "      <th>23</th>\n",
       "      <td>5.10000</td>\n",
       "      <td>3.3</td>\n",
       "      <td>1.7</td>\n",
       "      <td>0.5</td>\n",
       "      <td>NaN</td>\n",
       "    </tr>\n",
       "    <tr>\n",
       "      <th>24</th>\n",
       "      <td>4.80000</td>\n",
       "      <td>3.4</td>\n",
       "      <td>1.9</td>\n",
       "      <td>0.2</td>\n",
       "      <td>Iris-setosa</td>\n",
       "    </tr>\n",
       "    <tr>\n",
       "      <th>25</th>\n",
       "      <td>5.00000</td>\n",
       "      <td>3.0</td>\n",
       "      <td>1.6</td>\n",
       "      <td>0.2</td>\n",
       "      <td>Iris-setosa</td>\n",
       "    </tr>\n",
       "    <tr>\n",
       "      <th>26</th>\n",
       "      <td>5.00000</td>\n",
       "      <td>3.4</td>\n",
       "      <td>NaN</td>\n",
       "      <td>0.4</td>\n",
       "      <td>Iris-setosa</td>\n",
       "    </tr>\n",
       "    <tr>\n",
       "      <th>27</th>\n",
       "      <td>5.20000</td>\n",
       "      <td>3.5</td>\n",
       "      <td>1.5</td>\n",
       "      <td>0.2</td>\n",
       "      <td>Iris-setosa</td>\n",
       "    </tr>\n",
       "    <tr>\n",
       "      <th>28</th>\n",
       "      <td>5.84058</td>\n",
       "      <td>3.4</td>\n",
       "      <td>1.4</td>\n",
       "      <td>0.2</td>\n",
       "      <td>Iris-setosa</td>\n",
       "    </tr>\n",
       "    <tr>\n",
       "      <th>29</th>\n",
       "      <td>4.70000</td>\n",
       "      <td>3.2</td>\n",
       "      <td>1.6</td>\n",
       "      <td>0.2</td>\n",
       "      <td>Iris-setosa</td>\n",
       "    </tr>\n",
       "  </tbody>\n",
       "</table>\n",
       "</div>"
      ],
      "text/plain": [
       "    sepal_length  sepal_width  petal_length  petal_width      species\n",
       "0        5.10000          3.5           1.4          0.2  Iris-setosa\n",
       "1        4.90000          3.0           NaN          0.2  Iris-setosa\n",
       "2        4.70000          3.2           1.3          0.2  Iris-setosa\n",
       "3        4.60000          3.1           1.5          0.2          NaN\n",
       "4        5.00000          3.6           1.4          0.2  Iris-setosa\n",
       "5        5.40000          3.9           1.7          0.4  Iris-setosa\n",
       "6        4.60000          3.4           1.4          0.3  Iris-setosa\n",
       "7        5.00000          3.4           1.5          NaN  Iris-setosa\n",
       "8        4.40000          2.9           1.4          0.2  Iris-setosa\n",
       "9        4.90000          3.1           NaN          0.1  Iris-setosa\n",
       "10       5.40000          3.7           1.5          0.2  Iris-setosa\n",
       "11       4.80000          3.4           1.6          0.2  Iris-setosa\n",
       "12       4.80000          3.0           1.4          0.1  Iris-setosa\n",
       "13       4.30000          3.0           1.1          0.1  Iris-setosa\n",
       "14       5.80000          4.0           1.2          0.2  Iris-setosa\n",
       "15       5.70000          4.4           1.5          0.4  Iris-setosa\n",
       "16       5.84058          3.9           1.3          0.4  Iris-setosa\n",
       "17       5.10000          3.5           1.4          0.3  Iris-setosa\n",
       "18       5.70000          3.8           1.7          0.3  Iris-setosa\n",
       "19       5.10000          3.8           1.5          0.3  Iris-setosa\n",
       "20       5.40000          3.4           1.7          0.2  Iris-setosa\n",
       "21       5.10000          3.7           1.5          0.4  Iris-setosa\n",
       "22       4.60000          3.6           1.0          0.2          NaN\n",
       "23       5.10000          3.3           1.7          0.5          NaN\n",
       "24       4.80000          3.4           1.9          0.2  Iris-setosa\n",
       "25       5.00000          3.0           1.6          0.2  Iris-setosa\n",
       "26       5.00000          3.4           NaN          0.4  Iris-setosa\n",
       "27       5.20000          3.5           1.5          0.2  Iris-setosa\n",
       "28       5.84058          3.4           1.4          0.2  Iris-setosa\n",
       "29       4.70000          3.2           1.6          0.2  Iris-setosa"
      ]
     },
     "execution_count": 34,
     "metadata": {},
     "output_type": "execute_result"
    }
   ],
   "source": [
    "iris1df.head(30)"
   ]
  },
  {
   "cell_type": "markdown",
   "id": "7df86036",
   "metadata": {
    "papermill": {
     "duration": 0.023672,
     "end_time": "2023-01-03T03:46:25.242549",
     "exception": false,
     "start_time": "2023-01-03T03:46:25.218877",
     "status": "completed"
    },
    "tags": []
   },
   "source": [
    "## Petal length -- Median"
   ]
  },
  {
   "cell_type": "code",
   "execution_count": 35,
   "id": "176b23f7",
   "metadata": {
    "execution": {
     "iopub.execute_input": "2023-01-03T03:46:25.293068Z",
     "iopub.status.busy": "2023-01-03T03:46:25.292323Z",
     "iopub.status.idle": "2023-01-03T03:46:25.299438Z",
     "shell.execute_reply": "2023-01-03T03:46:25.298529Z"
    },
    "papermill": {
     "duration": 0.034891,
     "end_time": "2023-01-03T03:46:25.301568",
     "exception": false,
     "start_time": "2023-01-03T03:46:25.266677",
     "status": "completed"
    },
    "tags": []
   },
   "outputs": [
    {
     "data": {
      "text/plain": [
       "4.2"
      ]
     },
     "execution_count": 35,
     "metadata": {},
     "output_type": "execute_result"
    }
   ],
   "source": [
    "med=iris1df['petal_length'].median()\n",
    "med"
   ]
  },
  {
   "cell_type": "code",
   "execution_count": 36,
   "id": "764436cb",
   "metadata": {
    "execution": {
     "iopub.execute_input": "2023-01-03T03:46:25.352813Z",
     "iopub.status.busy": "2023-01-03T03:46:25.351483Z",
     "iopub.status.idle": "2023-01-03T03:46:25.359088Z",
     "shell.execute_reply": "2023-01-03T03:46:25.358101Z"
    },
    "papermill": {
     "duration": 0.035699,
     "end_time": "2023-01-03T03:46:25.361472",
     "exception": false,
     "start_time": "2023-01-03T03:46:25.325773",
     "status": "completed"
    },
    "tags": []
   },
   "outputs": [],
   "source": [
    "iris1df['petal_length'].fillna(value=iris1df['petal_length'].median(),inplace=True)"
   ]
  },
  {
   "cell_type": "code",
   "execution_count": 37,
   "id": "fd53631b",
   "metadata": {
    "execution": {
     "iopub.execute_input": "2023-01-03T03:46:25.412373Z",
     "iopub.status.busy": "2023-01-03T03:46:25.411520Z",
     "iopub.status.idle": "2023-01-03T03:46:25.433756Z",
     "shell.execute_reply": "2023-01-03T03:46:25.432555Z"
    },
    "papermill": {
     "duration": 0.050193,
     "end_time": "2023-01-03T03:46:25.436073",
     "exception": false,
     "start_time": "2023-01-03T03:46:25.385880",
     "status": "completed"
    },
    "tags": []
   },
   "outputs": [
    {
     "data": {
      "text/html": [
       "<div>\n",
       "<style scoped>\n",
       "    .dataframe tbody tr th:only-of-type {\n",
       "        vertical-align: middle;\n",
       "    }\n",
       "\n",
       "    .dataframe tbody tr th {\n",
       "        vertical-align: top;\n",
       "    }\n",
       "\n",
       "    .dataframe thead th {\n",
       "        text-align: right;\n",
       "    }\n",
       "</style>\n",
       "<table border=\"1\" class=\"dataframe\">\n",
       "  <thead>\n",
       "    <tr style=\"text-align: right;\">\n",
       "      <th></th>\n",
       "      <th>sepal_length</th>\n",
       "      <th>sepal_width</th>\n",
       "      <th>petal_length</th>\n",
       "      <th>petal_width</th>\n",
       "      <th>species</th>\n",
       "    </tr>\n",
       "  </thead>\n",
       "  <tbody>\n",
       "    <tr>\n",
       "      <th>0</th>\n",
       "      <td>5.10000</td>\n",
       "      <td>3.5</td>\n",
       "      <td>1.4</td>\n",
       "      <td>0.2</td>\n",
       "      <td>Iris-setosa</td>\n",
       "    </tr>\n",
       "    <tr>\n",
       "      <th>1</th>\n",
       "      <td>4.90000</td>\n",
       "      <td>3.0</td>\n",
       "      <td>4.2</td>\n",
       "      <td>0.2</td>\n",
       "      <td>Iris-setosa</td>\n",
       "    </tr>\n",
       "    <tr>\n",
       "      <th>2</th>\n",
       "      <td>4.70000</td>\n",
       "      <td>3.2</td>\n",
       "      <td>1.3</td>\n",
       "      <td>0.2</td>\n",
       "      <td>Iris-setosa</td>\n",
       "    </tr>\n",
       "    <tr>\n",
       "      <th>3</th>\n",
       "      <td>4.60000</td>\n",
       "      <td>3.1</td>\n",
       "      <td>1.5</td>\n",
       "      <td>0.2</td>\n",
       "      <td>NaN</td>\n",
       "    </tr>\n",
       "    <tr>\n",
       "      <th>4</th>\n",
       "      <td>5.00000</td>\n",
       "      <td>3.6</td>\n",
       "      <td>1.4</td>\n",
       "      <td>0.2</td>\n",
       "      <td>Iris-setosa</td>\n",
       "    </tr>\n",
       "    <tr>\n",
       "      <th>5</th>\n",
       "      <td>5.40000</td>\n",
       "      <td>3.9</td>\n",
       "      <td>1.7</td>\n",
       "      <td>0.4</td>\n",
       "      <td>Iris-setosa</td>\n",
       "    </tr>\n",
       "    <tr>\n",
       "      <th>6</th>\n",
       "      <td>4.60000</td>\n",
       "      <td>3.4</td>\n",
       "      <td>1.4</td>\n",
       "      <td>0.3</td>\n",
       "      <td>Iris-setosa</td>\n",
       "    </tr>\n",
       "    <tr>\n",
       "      <th>7</th>\n",
       "      <td>5.00000</td>\n",
       "      <td>3.4</td>\n",
       "      <td>1.5</td>\n",
       "      <td>NaN</td>\n",
       "      <td>Iris-setosa</td>\n",
       "    </tr>\n",
       "    <tr>\n",
       "      <th>8</th>\n",
       "      <td>4.40000</td>\n",
       "      <td>2.9</td>\n",
       "      <td>1.4</td>\n",
       "      <td>0.2</td>\n",
       "      <td>Iris-setosa</td>\n",
       "    </tr>\n",
       "    <tr>\n",
       "      <th>9</th>\n",
       "      <td>4.90000</td>\n",
       "      <td>3.1</td>\n",
       "      <td>4.2</td>\n",
       "      <td>0.1</td>\n",
       "      <td>Iris-setosa</td>\n",
       "    </tr>\n",
       "    <tr>\n",
       "      <th>10</th>\n",
       "      <td>5.40000</td>\n",
       "      <td>3.7</td>\n",
       "      <td>1.5</td>\n",
       "      <td>0.2</td>\n",
       "      <td>Iris-setosa</td>\n",
       "    </tr>\n",
       "    <tr>\n",
       "      <th>11</th>\n",
       "      <td>4.80000</td>\n",
       "      <td>3.4</td>\n",
       "      <td>1.6</td>\n",
       "      <td>0.2</td>\n",
       "      <td>Iris-setosa</td>\n",
       "    </tr>\n",
       "    <tr>\n",
       "      <th>12</th>\n",
       "      <td>4.80000</td>\n",
       "      <td>3.0</td>\n",
       "      <td>1.4</td>\n",
       "      <td>0.1</td>\n",
       "      <td>Iris-setosa</td>\n",
       "    </tr>\n",
       "    <tr>\n",
       "      <th>13</th>\n",
       "      <td>4.30000</td>\n",
       "      <td>3.0</td>\n",
       "      <td>1.1</td>\n",
       "      <td>0.1</td>\n",
       "      <td>Iris-setosa</td>\n",
       "    </tr>\n",
       "    <tr>\n",
       "      <th>14</th>\n",
       "      <td>5.80000</td>\n",
       "      <td>4.0</td>\n",
       "      <td>1.2</td>\n",
       "      <td>0.2</td>\n",
       "      <td>Iris-setosa</td>\n",
       "    </tr>\n",
       "    <tr>\n",
       "      <th>15</th>\n",
       "      <td>5.70000</td>\n",
       "      <td>4.4</td>\n",
       "      <td>1.5</td>\n",
       "      <td>0.4</td>\n",
       "      <td>Iris-setosa</td>\n",
       "    </tr>\n",
       "    <tr>\n",
       "      <th>16</th>\n",
       "      <td>5.84058</td>\n",
       "      <td>3.9</td>\n",
       "      <td>1.3</td>\n",
       "      <td>0.4</td>\n",
       "      <td>Iris-setosa</td>\n",
       "    </tr>\n",
       "    <tr>\n",
       "      <th>17</th>\n",
       "      <td>5.10000</td>\n",
       "      <td>3.5</td>\n",
       "      <td>1.4</td>\n",
       "      <td>0.3</td>\n",
       "      <td>Iris-setosa</td>\n",
       "    </tr>\n",
       "    <tr>\n",
       "      <th>18</th>\n",
       "      <td>5.70000</td>\n",
       "      <td>3.8</td>\n",
       "      <td>1.7</td>\n",
       "      <td>0.3</td>\n",
       "      <td>Iris-setosa</td>\n",
       "    </tr>\n",
       "    <tr>\n",
       "      <th>19</th>\n",
       "      <td>5.10000</td>\n",
       "      <td>3.8</td>\n",
       "      <td>1.5</td>\n",
       "      <td>0.3</td>\n",
       "      <td>Iris-setosa</td>\n",
       "    </tr>\n",
       "    <tr>\n",
       "      <th>20</th>\n",
       "      <td>5.40000</td>\n",
       "      <td>3.4</td>\n",
       "      <td>1.7</td>\n",
       "      <td>0.2</td>\n",
       "      <td>Iris-setosa</td>\n",
       "    </tr>\n",
       "    <tr>\n",
       "      <th>21</th>\n",
       "      <td>5.10000</td>\n",
       "      <td>3.7</td>\n",
       "      <td>1.5</td>\n",
       "      <td>0.4</td>\n",
       "      <td>Iris-setosa</td>\n",
       "    </tr>\n",
       "    <tr>\n",
       "      <th>22</th>\n",
       "      <td>4.60000</td>\n",
       "      <td>3.6</td>\n",
       "      <td>1.0</td>\n",
       "      <td>0.2</td>\n",
       "      <td>NaN</td>\n",
       "    </tr>\n",
       "    <tr>\n",
       "      <th>23</th>\n",
       "      <td>5.10000</td>\n",
       "      <td>3.3</td>\n",
       "      <td>1.7</td>\n",
       "      <td>0.5</td>\n",
       "      <td>NaN</td>\n",
       "    </tr>\n",
       "    <tr>\n",
       "      <th>24</th>\n",
       "      <td>4.80000</td>\n",
       "      <td>3.4</td>\n",
       "      <td>1.9</td>\n",
       "      <td>0.2</td>\n",
       "      <td>Iris-setosa</td>\n",
       "    </tr>\n",
       "    <tr>\n",
       "      <th>25</th>\n",
       "      <td>5.00000</td>\n",
       "      <td>3.0</td>\n",
       "      <td>1.6</td>\n",
       "      <td>0.2</td>\n",
       "      <td>Iris-setosa</td>\n",
       "    </tr>\n",
       "    <tr>\n",
       "      <th>26</th>\n",
       "      <td>5.00000</td>\n",
       "      <td>3.4</td>\n",
       "      <td>4.2</td>\n",
       "      <td>0.4</td>\n",
       "      <td>Iris-setosa</td>\n",
       "    </tr>\n",
       "    <tr>\n",
       "      <th>27</th>\n",
       "      <td>5.20000</td>\n",
       "      <td>3.5</td>\n",
       "      <td>1.5</td>\n",
       "      <td>0.2</td>\n",
       "      <td>Iris-setosa</td>\n",
       "    </tr>\n",
       "    <tr>\n",
       "      <th>28</th>\n",
       "      <td>5.84058</td>\n",
       "      <td>3.4</td>\n",
       "      <td>1.4</td>\n",
       "      <td>0.2</td>\n",
       "      <td>Iris-setosa</td>\n",
       "    </tr>\n",
       "    <tr>\n",
       "      <th>29</th>\n",
       "      <td>4.70000</td>\n",
       "      <td>3.2</td>\n",
       "      <td>1.6</td>\n",
       "      <td>0.2</td>\n",
       "      <td>Iris-setosa</td>\n",
       "    </tr>\n",
       "  </tbody>\n",
       "</table>\n",
       "</div>"
      ],
      "text/plain": [
       "    sepal_length  sepal_width  petal_length  petal_width      species\n",
       "0        5.10000          3.5           1.4          0.2  Iris-setosa\n",
       "1        4.90000          3.0           4.2          0.2  Iris-setosa\n",
       "2        4.70000          3.2           1.3          0.2  Iris-setosa\n",
       "3        4.60000          3.1           1.5          0.2          NaN\n",
       "4        5.00000          3.6           1.4          0.2  Iris-setosa\n",
       "5        5.40000          3.9           1.7          0.4  Iris-setosa\n",
       "6        4.60000          3.4           1.4          0.3  Iris-setosa\n",
       "7        5.00000          3.4           1.5          NaN  Iris-setosa\n",
       "8        4.40000          2.9           1.4          0.2  Iris-setosa\n",
       "9        4.90000          3.1           4.2          0.1  Iris-setosa\n",
       "10       5.40000          3.7           1.5          0.2  Iris-setosa\n",
       "11       4.80000          3.4           1.6          0.2  Iris-setosa\n",
       "12       4.80000          3.0           1.4          0.1  Iris-setosa\n",
       "13       4.30000          3.0           1.1          0.1  Iris-setosa\n",
       "14       5.80000          4.0           1.2          0.2  Iris-setosa\n",
       "15       5.70000          4.4           1.5          0.4  Iris-setosa\n",
       "16       5.84058          3.9           1.3          0.4  Iris-setosa\n",
       "17       5.10000          3.5           1.4          0.3  Iris-setosa\n",
       "18       5.70000          3.8           1.7          0.3  Iris-setosa\n",
       "19       5.10000          3.8           1.5          0.3  Iris-setosa\n",
       "20       5.40000          3.4           1.7          0.2  Iris-setosa\n",
       "21       5.10000          3.7           1.5          0.4  Iris-setosa\n",
       "22       4.60000          3.6           1.0          0.2          NaN\n",
       "23       5.10000          3.3           1.7          0.5          NaN\n",
       "24       4.80000          3.4           1.9          0.2  Iris-setosa\n",
       "25       5.00000          3.0           1.6          0.2  Iris-setosa\n",
       "26       5.00000          3.4           4.2          0.4  Iris-setosa\n",
       "27       5.20000          3.5           1.5          0.2  Iris-setosa\n",
       "28       5.84058          3.4           1.4          0.2  Iris-setosa\n",
       "29       4.70000          3.2           1.6          0.2  Iris-setosa"
      ]
     },
     "execution_count": 37,
     "metadata": {},
     "output_type": "execute_result"
    }
   ],
   "source": [
    "iris1df.head(30)"
   ]
  },
  {
   "cell_type": "markdown",
   "id": "7a463bd5",
   "metadata": {
    "papermill": {
     "duration": 0.02425,
     "end_time": "2023-01-03T03:46:25.486024",
     "exception": false,
     "start_time": "2023-01-03T03:46:25.461774",
     "status": "completed"
    },
    "tags": []
   },
   "source": [
    "## PETAL WIDTH -- Place a value"
   ]
  },
  {
   "cell_type": "code",
   "execution_count": 38,
   "id": "e9d61b8c",
   "metadata": {
    "execution": {
     "iopub.execute_input": "2023-01-03T03:46:25.536475Z",
     "iopub.status.busy": "2023-01-03T03:46:25.536046Z",
     "iopub.status.idle": "2023-01-03T03:46:25.541955Z",
     "shell.execute_reply": "2023-01-03T03:46:25.540659Z"
    },
    "papermill": {
     "duration": 0.034155,
     "end_time": "2023-01-03T03:46:25.544488",
     "exception": false,
     "start_time": "2023-01-03T03:46:25.510333",
     "status": "completed"
    },
    "tags": []
   },
   "outputs": [],
   "source": [
    "iris1df['petal_width'].fillna(value=0.1,inplace=True)"
   ]
  },
  {
   "cell_type": "code",
   "execution_count": 39,
   "id": "87ed9d66",
   "metadata": {
    "execution": {
     "iopub.execute_input": "2023-01-03T03:46:25.596224Z",
     "iopub.status.busy": "2023-01-03T03:46:25.595812Z",
     "iopub.status.idle": "2023-01-03T03:46:25.617527Z",
     "shell.execute_reply": "2023-01-03T03:46:25.616421Z"
    },
    "papermill": {
     "duration": 0.05076,
     "end_time": "2023-01-03T03:46:25.619850",
     "exception": false,
     "start_time": "2023-01-03T03:46:25.569090",
     "status": "completed"
    },
    "tags": []
   },
   "outputs": [
    {
     "data": {
      "text/html": [
       "<div>\n",
       "<style scoped>\n",
       "    .dataframe tbody tr th:only-of-type {\n",
       "        vertical-align: middle;\n",
       "    }\n",
       "\n",
       "    .dataframe tbody tr th {\n",
       "        vertical-align: top;\n",
       "    }\n",
       "\n",
       "    .dataframe thead th {\n",
       "        text-align: right;\n",
       "    }\n",
       "</style>\n",
       "<table border=\"1\" class=\"dataframe\">\n",
       "  <thead>\n",
       "    <tr style=\"text-align: right;\">\n",
       "      <th></th>\n",
       "      <th>sepal_length</th>\n",
       "      <th>sepal_width</th>\n",
       "      <th>petal_length</th>\n",
       "      <th>petal_width</th>\n",
       "      <th>species</th>\n",
       "    </tr>\n",
       "  </thead>\n",
       "  <tbody>\n",
       "    <tr>\n",
       "      <th>0</th>\n",
       "      <td>5.10000</td>\n",
       "      <td>3.5</td>\n",
       "      <td>1.4</td>\n",
       "      <td>0.2</td>\n",
       "      <td>Iris-setosa</td>\n",
       "    </tr>\n",
       "    <tr>\n",
       "      <th>1</th>\n",
       "      <td>4.90000</td>\n",
       "      <td>3.0</td>\n",
       "      <td>4.2</td>\n",
       "      <td>0.2</td>\n",
       "      <td>Iris-setosa</td>\n",
       "    </tr>\n",
       "    <tr>\n",
       "      <th>2</th>\n",
       "      <td>4.70000</td>\n",
       "      <td>3.2</td>\n",
       "      <td>1.3</td>\n",
       "      <td>0.2</td>\n",
       "      <td>Iris-setosa</td>\n",
       "    </tr>\n",
       "    <tr>\n",
       "      <th>3</th>\n",
       "      <td>4.60000</td>\n",
       "      <td>3.1</td>\n",
       "      <td>1.5</td>\n",
       "      <td>0.2</td>\n",
       "      <td>NaN</td>\n",
       "    </tr>\n",
       "    <tr>\n",
       "      <th>4</th>\n",
       "      <td>5.00000</td>\n",
       "      <td>3.6</td>\n",
       "      <td>1.4</td>\n",
       "      <td>0.2</td>\n",
       "      <td>Iris-setosa</td>\n",
       "    </tr>\n",
       "    <tr>\n",
       "      <th>5</th>\n",
       "      <td>5.40000</td>\n",
       "      <td>3.9</td>\n",
       "      <td>1.7</td>\n",
       "      <td>0.4</td>\n",
       "      <td>Iris-setosa</td>\n",
       "    </tr>\n",
       "    <tr>\n",
       "      <th>6</th>\n",
       "      <td>4.60000</td>\n",
       "      <td>3.4</td>\n",
       "      <td>1.4</td>\n",
       "      <td>0.3</td>\n",
       "      <td>Iris-setosa</td>\n",
       "    </tr>\n",
       "    <tr>\n",
       "      <th>7</th>\n",
       "      <td>5.00000</td>\n",
       "      <td>3.4</td>\n",
       "      <td>1.5</td>\n",
       "      <td>0.1</td>\n",
       "      <td>Iris-setosa</td>\n",
       "    </tr>\n",
       "    <tr>\n",
       "      <th>8</th>\n",
       "      <td>4.40000</td>\n",
       "      <td>2.9</td>\n",
       "      <td>1.4</td>\n",
       "      <td>0.2</td>\n",
       "      <td>Iris-setosa</td>\n",
       "    </tr>\n",
       "    <tr>\n",
       "      <th>9</th>\n",
       "      <td>4.90000</td>\n",
       "      <td>3.1</td>\n",
       "      <td>4.2</td>\n",
       "      <td>0.1</td>\n",
       "      <td>Iris-setosa</td>\n",
       "    </tr>\n",
       "    <tr>\n",
       "      <th>10</th>\n",
       "      <td>5.40000</td>\n",
       "      <td>3.7</td>\n",
       "      <td>1.5</td>\n",
       "      <td>0.2</td>\n",
       "      <td>Iris-setosa</td>\n",
       "    </tr>\n",
       "    <tr>\n",
       "      <th>11</th>\n",
       "      <td>4.80000</td>\n",
       "      <td>3.4</td>\n",
       "      <td>1.6</td>\n",
       "      <td>0.2</td>\n",
       "      <td>Iris-setosa</td>\n",
       "    </tr>\n",
       "    <tr>\n",
       "      <th>12</th>\n",
       "      <td>4.80000</td>\n",
       "      <td>3.0</td>\n",
       "      <td>1.4</td>\n",
       "      <td>0.1</td>\n",
       "      <td>Iris-setosa</td>\n",
       "    </tr>\n",
       "    <tr>\n",
       "      <th>13</th>\n",
       "      <td>4.30000</td>\n",
       "      <td>3.0</td>\n",
       "      <td>1.1</td>\n",
       "      <td>0.1</td>\n",
       "      <td>Iris-setosa</td>\n",
       "    </tr>\n",
       "    <tr>\n",
       "      <th>14</th>\n",
       "      <td>5.80000</td>\n",
       "      <td>4.0</td>\n",
       "      <td>1.2</td>\n",
       "      <td>0.2</td>\n",
       "      <td>Iris-setosa</td>\n",
       "    </tr>\n",
       "    <tr>\n",
       "      <th>15</th>\n",
       "      <td>5.70000</td>\n",
       "      <td>4.4</td>\n",
       "      <td>1.5</td>\n",
       "      <td>0.4</td>\n",
       "      <td>Iris-setosa</td>\n",
       "    </tr>\n",
       "    <tr>\n",
       "      <th>16</th>\n",
       "      <td>5.84058</td>\n",
       "      <td>3.9</td>\n",
       "      <td>1.3</td>\n",
       "      <td>0.4</td>\n",
       "      <td>Iris-setosa</td>\n",
       "    </tr>\n",
       "    <tr>\n",
       "      <th>17</th>\n",
       "      <td>5.10000</td>\n",
       "      <td>3.5</td>\n",
       "      <td>1.4</td>\n",
       "      <td>0.3</td>\n",
       "      <td>Iris-setosa</td>\n",
       "    </tr>\n",
       "    <tr>\n",
       "      <th>18</th>\n",
       "      <td>5.70000</td>\n",
       "      <td>3.8</td>\n",
       "      <td>1.7</td>\n",
       "      <td>0.3</td>\n",
       "      <td>Iris-setosa</td>\n",
       "    </tr>\n",
       "    <tr>\n",
       "      <th>19</th>\n",
       "      <td>5.10000</td>\n",
       "      <td>3.8</td>\n",
       "      <td>1.5</td>\n",
       "      <td>0.3</td>\n",
       "      <td>Iris-setosa</td>\n",
       "    </tr>\n",
       "    <tr>\n",
       "      <th>20</th>\n",
       "      <td>5.40000</td>\n",
       "      <td>3.4</td>\n",
       "      <td>1.7</td>\n",
       "      <td>0.2</td>\n",
       "      <td>Iris-setosa</td>\n",
       "    </tr>\n",
       "    <tr>\n",
       "      <th>21</th>\n",
       "      <td>5.10000</td>\n",
       "      <td>3.7</td>\n",
       "      <td>1.5</td>\n",
       "      <td>0.4</td>\n",
       "      <td>Iris-setosa</td>\n",
       "    </tr>\n",
       "    <tr>\n",
       "      <th>22</th>\n",
       "      <td>4.60000</td>\n",
       "      <td>3.6</td>\n",
       "      <td>1.0</td>\n",
       "      <td>0.2</td>\n",
       "      <td>NaN</td>\n",
       "    </tr>\n",
       "    <tr>\n",
       "      <th>23</th>\n",
       "      <td>5.10000</td>\n",
       "      <td>3.3</td>\n",
       "      <td>1.7</td>\n",
       "      <td>0.5</td>\n",
       "      <td>NaN</td>\n",
       "    </tr>\n",
       "    <tr>\n",
       "      <th>24</th>\n",
       "      <td>4.80000</td>\n",
       "      <td>3.4</td>\n",
       "      <td>1.9</td>\n",
       "      <td>0.2</td>\n",
       "      <td>Iris-setosa</td>\n",
       "    </tr>\n",
       "    <tr>\n",
       "      <th>25</th>\n",
       "      <td>5.00000</td>\n",
       "      <td>3.0</td>\n",
       "      <td>1.6</td>\n",
       "      <td>0.2</td>\n",
       "      <td>Iris-setosa</td>\n",
       "    </tr>\n",
       "    <tr>\n",
       "      <th>26</th>\n",
       "      <td>5.00000</td>\n",
       "      <td>3.4</td>\n",
       "      <td>4.2</td>\n",
       "      <td>0.4</td>\n",
       "      <td>Iris-setosa</td>\n",
       "    </tr>\n",
       "    <tr>\n",
       "      <th>27</th>\n",
       "      <td>5.20000</td>\n",
       "      <td>3.5</td>\n",
       "      <td>1.5</td>\n",
       "      <td>0.2</td>\n",
       "      <td>Iris-setosa</td>\n",
       "    </tr>\n",
       "    <tr>\n",
       "      <th>28</th>\n",
       "      <td>5.84058</td>\n",
       "      <td>3.4</td>\n",
       "      <td>1.4</td>\n",
       "      <td>0.2</td>\n",
       "      <td>Iris-setosa</td>\n",
       "    </tr>\n",
       "    <tr>\n",
       "      <th>29</th>\n",
       "      <td>4.70000</td>\n",
       "      <td>3.2</td>\n",
       "      <td>1.6</td>\n",
       "      <td>0.2</td>\n",
       "      <td>Iris-setosa</td>\n",
       "    </tr>\n",
       "  </tbody>\n",
       "</table>\n",
       "</div>"
      ],
      "text/plain": [
       "    sepal_length  sepal_width  petal_length  petal_width      species\n",
       "0        5.10000          3.5           1.4          0.2  Iris-setosa\n",
       "1        4.90000          3.0           4.2          0.2  Iris-setosa\n",
       "2        4.70000          3.2           1.3          0.2  Iris-setosa\n",
       "3        4.60000          3.1           1.5          0.2          NaN\n",
       "4        5.00000          3.6           1.4          0.2  Iris-setosa\n",
       "5        5.40000          3.9           1.7          0.4  Iris-setosa\n",
       "6        4.60000          3.4           1.4          0.3  Iris-setosa\n",
       "7        5.00000          3.4           1.5          0.1  Iris-setosa\n",
       "8        4.40000          2.9           1.4          0.2  Iris-setosa\n",
       "9        4.90000          3.1           4.2          0.1  Iris-setosa\n",
       "10       5.40000          3.7           1.5          0.2  Iris-setosa\n",
       "11       4.80000          3.4           1.6          0.2  Iris-setosa\n",
       "12       4.80000          3.0           1.4          0.1  Iris-setosa\n",
       "13       4.30000          3.0           1.1          0.1  Iris-setosa\n",
       "14       5.80000          4.0           1.2          0.2  Iris-setosa\n",
       "15       5.70000          4.4           1.5          0.4  Iris-setosa\n",
       "16       5.84058          3.9           1.3          0.4  Iris-setosa\n",
       "17       5.10000          3.5           1.4          0.3  Iris-setosa\n",
       "18       5.70000          3.8           1.7          0.3  Iris-setosa\n",
       "19       5.10000          3.8           1.5          0.3  Iris-setosa\n",
       "20       5.40000          3.4           1.7          0.2  Iris-setosa\n",
       "21       5.10000          3.7           1.5          0.4  Iris-setosa\n",
       "22       4.60000          3.6           1.0          0.2          NaN\n",
       "23       5.10000          3.3           1.7          0.5          NaN\n",
       "24       4.80000          3.4           1.9          0.2  Iris-setosa\n",
       "25       5.00000          3.0           1.6          0.2  Iris-setosa\n",
       "26       5.00000          3.4           4.2          0.4  Iris-setosa\n",
       "27       5.20000          3.5           1.5          0.2  Iris-setosa\n",
       "28       5.84058          3.4           1.4          0.2  Iris-setosa\n",
       "29       4.70000          3.2           1.6          0.2  Iris-setosa"
      ]
     },
     "execution_count": 39,
     "metadata": {},
     "output_type": "execute_result"
    }
   ],
   "source": [
    "iris1df.head(30)"
   ]
  },
  {
   "cell_type": "markdown",
   "id": "37e61115",
   "metadata": {
    "papermill": {
     "duration": 0.025674,
     "end_time": "2023-01-03T03:46:25.671126",
     "exception": false,
     "start_time": "2023-01-03T03:46:25.645452",
     "status": "completed"
    },
    "tags": []
   },
   "source": [
    "SPECIES--- DROP\n",
    "\n",
    "**8.  dropna(axis,how)**"
   ]
  },
  {
   "cell_type": "code",
   "execution_count": 40,
   "id": "f98e7ebd",
   "metadata": {
    "execution": {
     "iopub.execute_input": "2023-01-03T03:46:25.728368Z",
     "iopub.status.busy": "2023-01-03T03:46:25.727863Z",
     "iopub.status.idle": "2023-01-03T03:46:25.736383Z",
     "shell.execute_reply": "2023-01-03T03:46:25.734468Z"
    },
    "papermill": {
     "duration": 0.043174,
     "end_time": "2023-01-03T03:46:25.739888",
     "exception": false,
     "start_time": "2023-01-03T03:46:25.696714",
     "status": "completed"
    },
    "tags": []
   },
   "outputs": [],
   "source": [
    "iris1df=iris1df.dropna(axis=0,how='any')"
   ]
  },
  {
   "cell_type": "code",
   "execution_count": 41,
   "id": "806d46dc",
   "metadata": {
    "execution": {
     "iopub.execute_input": "2023-01-03T03:46:25.808488Z",
     "iopub.status.busy": "2023-01-03T03:46:25.807870Z",
     "iopub.status.idle": "2023-01-03T03:46:25.819719Z",
     "shell.execute_reply": "2023-01-03T03:46:25.818599Z"
    },
    "papermill": {
     "duration": 0.047008,
     "end_time": "2023-01-03T03:46:25.822113",
     "exception": false,
     "start_time": "2023-01-03T03:46:25.775105",
     "status": "completed"
    },
    "tags": []
   },
   "outputs": [
    {
     "data": {
      "text/plain": [
       "sepal_length    0\n",
       "sepal_width     0\n",
       "petal_length    0\n",
       "petal_width     0\n",
       "species         0\n",
       "dtype: int64"
      ]
     },
     "execution_count": 41,
     "metadata": {},
     "output_type": "execute_result"
    }
   ],
   "source": [
    "iris1df.isnull().sum()"
   ]
  },
  {
   "cell_type": "code",
   "execution_count": 42,
   "id": "e8399594",
   "metadata": {
    "execution": {
     "iopub.execute_input": "2023-01-03T03:46:25.875041Z",
     "iopub.status.busy": "2023-01-03T03:46:25.874637Z",
     "iopub.status.idle": "2023-01-03T03:46:25.881376Z",
     "shell.execute_reply": "2023-01-03T03:46:25.880362Z"
    },
    "papermill": {
     "duration": 0.036199,
     "end_time": "2023-01-03T03:46:25.883983",
     "exception": false,
     "start_time": "2023-01-03T03:46:25.847784",
     "status": "completed"
    },
    "tags": []
   },
   "outputs": [
    {
     "data": {
      "text/plain": [
       "(135, 5)"
      ]
     },
     "execution_count": 42,
     "metadata": {},
     "output_type": "execute_result"
    }
   ],
   "source": [
    "#shape\n",
    "iris1df.shape"
   ]
  },
  {
   "cell_type": "code",
   "execution_count": 43,
   "id": "ad76053a",
   "metadata": {
    "execution": {
     "iopub.execute_input": "2023-01-03T03:46:25.936473Z",
     "iopub.status.busy": "2023-01-03T03:46:25.936044Z",
     "iopub.status.idle": "2023-01-03T03:46:25.956927Z",
     "shell.execute_reply": "2023-01-03T03:46:25.955862Z"
    },
    "papermill": {
     "duration": 0.049503,
     "end_time": "2023-01-03T03:46:25.958983",
     "exception": false,
     "start_time": "2023-01-03T03:46:25.909480",
     "status": "completed"
    },
    "tags": []
   },
   "outputs": [
    {
     "data": {
      "text/html": [
       "<div>\n",
       "<style scoped>\n",
       "    .dataframe tbody tr th:only-of-type {\n",
       "        vertical-align: middle;\n",
       "    }\n",
       "\n",
       "    .dataframe tbody tr th {\n",
       "        vertical-align: top;\n",
       "    }\n",
       "\n",
       "    .dataframe thead th {\n",
       "        text-align: right;\n",
       "    }\n",
       "</style>\n",
       "<table border=\"1\" class=\"dataframe\">\n",
       "  <thead>\n",
       "    <tr style=\"text-align: right;\">\n",
       "      <th></th>\n",
       "      <th>sepal_length</th>\n",
       "      <th>sepal_width</th>\n",
       "      <th>petal_length</th>\n",
       "      <th>petal_width</th>\n",
       "      <th>species</th>\n",
       "    </tr>\n",
       "  </thead>\n",
       "  <tbody>\n",
       "    <tr>\n",
       "      <th>0</th>\n",
       "      <td>5.10000</td>\n",
       "      <td>3.5</td>\n",
       "      <td>1.4</td>\n",
       "      <td>0.2</td>\n",
       "      <td>Iris-setosa</td>\n",
       "    </tr>\n",
       "    <tr>\n",
       "      <th>1</th>\n",
       "      <td>4.90000</td>\n",
       "      <td>3.0</td>\n",
       "      <td>4.2</td>\n",
       "      <td>0.2</td>\n",
       "      <td>Iris-setosa</td>\n",
       "    </tr>\n",
       "    <tr>\n",
       "      <th>2</th>\n",
       "      <td>4.70000</td>\n",
       "      <td>3.2</td>\n",
       "      <td>1.3</td>\n",
       "      <td>0.2</td>\n",
       "      <td>Iris-setosa</td>\n",
       "    </tr>\n",
       "    <tr>\n",
       "      <th>4</th>\n",
       "      <td>5.00000</td>\n",
       "      <td>3.6</td>\n",
       "      <td>1.4</td>\n",
       "      <td>0.2</td>\n",
       "      <td>Iris-setosa</td>\n",
       "    </tr>\n",
       "    <tr>\n",
       "      <th>5</th>\n",
       "      <td>5.40000</td>\n",
       "      <td>3.9</td>\n",
       "      <td>1.7</td>\n",
       "      <td>0.4</td>\n",
       "      <td>Iris-setosa</td>\n",
       "    </tr>\n",
       "    <tr>\n",
       "      <th>6</th>\n",
       "      <td>4.60000</td>\n",
       "      <td>3.4</td>\n",
       "      <td>1.4</td>\n",
       "      <td>0.3</td>\n",
       "      <td>Iris-setosa</td>\n",
       "    </tr>\n",
       "    <tr>\n",
       "      <th>7</th>\n",
       "      <td>5.00000</td>\n",
       "      <td>3.4</td>\n",
       "      <td>1.5</td>\n",
       "      <td>0.1</td>\n",
       "      <td>Iris-setosa</td>\n",
       "    </tr>\n",
       "    <tr>\n",
       "      <th>8</th>\n",
       "      <td>4.40000</td>\n",
       "      <td>2.9</td>\n",
       "      <td>1.4</td>\n",
       "      <td>0.2</td>\n",
       "      <td>Iris-setosa</td>\n",
       "    </tr>\n",
       "    <tr>\n",
       "      <th>9</th>\n",
       "      <td>4.90000</td>\n",
       "      <td>3.1</td>\n",
       "      <td>4.2</td>\n",
       "      <td>0.1</td>\n",
       "      <td>Iris-setosa</td>\n",
       "    </tr>\n",
       "    <tr>\n",
       "      <th>10</th>\n",
       "      <td>5.40000</td>\n",
       "      <td>3.7</td>\n",
       "      <td>1.5</td>\n",
       "      <td>0.2</td>\n",
       "      <td>Iris-setosa</td>\n",
       "    </tr>\n",
       "    <tr>\n",
       "      <th>11</th>\n",
       "      <td>4.80000</td>\n",
       "      <td>3.4</td>\n",
       "      <td>1.6</td>\n",
       "      <td>0.2</td>\n",
       "      <td>Iris-setosa</td>\n",
       "    </tr>\n",
       "    <tr>\n",
       "      <th>12</th>\n",
       "      <td>4.80000</td>\n",
       "      <td>3.0</td>\n",
       "      <td>1.4</td>\n",
       "      <td>0.1</td>\n",
       "      <td>Iris-setosa</td>\n",
       "    </tr>\n",
       "    <tr>\n",
       "      <th>13</th>\n",
       "      <td>4.30000</td>\n",
       "      <td>3.0</td>\n",
       "      <td>1.1</td>\n",
       "      <td>0.1</td>\n",
       "      <td>Iris-setosa</td>\n",
       "    </tr>\n",
       "    <tr>\n",
       "      <th>14</th>\n",
       "      <td>5.80000</td>\n",
       "      <td>4.0</td>\n",
       "      <td>1.2</td>\n",
       "      <td>0.2</td>\n",
       "      <td>Iris-setosa</td>\n",
       "    </tr>\n",
       "    <tr>\n",
       "      <th>15</th>\n",
       "      <td>5.70000</td>\n",
       "      <td>4.4</td>\n",
       "      <td>1.5</td>\n",
       "      <td>0.4</td>\n",
       "      <td>Iris-setosa</td>\n",
       "    </tr>\n",
       "    <tr>\n",
       "      <th>16</th>\n",
       "      <td>5.84058</td>\n",
       "      <td>3.9</td>\n",
       "      <td>1.3</td>\n",
       "      <td>0.4</td>\n",
       "      <td>Iris-setosa</td>\n",
       "    </tr>\n",
       "    <tr>\n",
       "      <th>17</th>\n",
       "      <td>5.10000</td>\n",
       "      <td>3.5</td>\n",
       "      <td>1.4</td>\n",
       "      <td>0.3</td>\n",
       "      <td>Iris-setosa</td>\n",
       "    </tr>\n",
       "    <tr>\n",
       "      <th>18</th>\n",
       "      <td>5.70000</td>\n",
       "      <td>3.8</td>\n",
       "      <td>1.7</td>\n",
       "      <td>0.3</td>\n",
       "      <td>Iris-setosa</td>\n",
       "    </tr>\n",
       "    <tr>\n",
       "      <th>19</th>\n",
       "      <td>5.10000</td>\n",
       "      <td>3.8</td>\n",
       "      <td>1.5</td>\n",
       "      <td>0.3</td>\n",
       "      <td>Iris-setosa</td>\n",
       "    </tr>\n",
       "    <tr>\n",
       "      <th>20</th>\n",
       "      <td>5.40000</td>\n",
       "      <td>3.4</td>\n",
       "      <td>1.7</td>\n",
       "      <td>0.2</td>\n",
       "      <td>Iris-setosa</td>\n",
       "    </tr>\n",
       "    <tr>\n",
       "      <th>21</th>\n",
       "      <td>5.10000</td>\n",
       "      <td>3.7</td>\n",
       "      <td>1.5</td>\n",
       "      <td>0.4</td>\n",
       "      <td>Iris-setosa</td>\n",
       "    </tr>\n",
       "    <tr>\n",
       "      <th>24</th>\n",
       "      <td>4.80000</td>\n",
       "      <td>3.4</td>\n",
       "      <td>1.9</td>\n",
       "      <td>0.2</td>\n",
       "      <td>Iris-setosa</td>\n",
       "    </tr>\n",
       "    <tr>\n",
       "      <th>25</th>\n",
       "      <td>5.00000</td>\n",
       "      <td>3.0</td>\n",
       "      <td>1.6</td>\n",
       "      <td>0.2</td>\n",
       "      <td>Iris-setosa</td>\n",
       "    </tr>\n",
       "    <tr>\n",
       "      <th>26</th>\n",
       "      <td>5.00000</td>\n",
       "      <td>3.4</td>\n",
       "      <td>4.2</td>\n",
       "      <td>0.4</td>\n",
       "      <td>Iris-setosa</td>\n",
       "    </tr>\n",
       "    <tr>\n",
       "      <th>27</th>\n",
       "      <td>5.20000</td>\n",
       "      <td>3.5</td>\n",
       "      <td>1.5</td>\n",
       "      <td>0.2</td>\n",
       "      <td>Iris-setosa</td>\n",
       "    </tr>\n",
       "    <tr>\n",
       "      <th>28</th>\n",
       "      <td>5.84058</td>\n",
       "      <td>3.4</td>\n",
       "      <td>1.4</td>\n",
       "      <td>0.2</td>\n",
       "      <td>Iris-setosa</td>\n",
       "    </tr>\n",
       "    <tr>\n",
       "      <th>29</th>\n",
       "      <td>4.70000</td>\n",
       "      <td>3.2</td>\n",
       "      <td>1.6</td>\n",
       "      <td>0.2</td>\n",
       "      <td>Iris-setosa</td>\n",
       "    </tr>\n",
       "    <tr>\n",
       "      <th>30</th>\n",
       "      <td>4.80000</td>\n",
       "      <td>3.1</td>\n",
       "      <td>1.6</td>\n",
       "      <td>0.2</td>\n",
       "      <td>Iris-setosa</td>\n",
       "    </tr>\n",
       "    <tr>\n",
       "      <th>31</th>\n",
       "      <td>5.40000</td>\n",
       "      <td>3.4</td>\n",
       "      <td>1.5</td>\n",
       "      <td>0.4</td>\n",
       "      <td>Iris-setosa</td>\n",
       "    </tr>\n",
       "    <tr>\n",
       "      <th>32</th>\n",
       "      <td>5.20000</td>\n",
       "      <td>3.0</td>\n",
       "      <td>1.5</td>\n",
       "      <td>0.1</td>\n",
       "      <td>Iris-setosa</td>\n",
       "    </tr>\n",
       "  </tbody>\n",
       "</table>\n",
       "</div>"
      ],
      "text/plain": [
       "    sepal_length  sepal_width  petal_length  petal_width      species\n",
       "0        5.10000          3.5           1.4          0.2  Iris-setosa\n",
       "1        4.90000          3.0           4.2          0.2  Iris-setosa\n",
       "2        4.70000          3.2           1.3          0.2  Iris-setosa\n",
       "4        5.00000          3.6           1.4          0.2  Iris-setosa\n",
       "5        5.40000          3.9           1.7          0.4  Iris-setosa\n",
       "6        4.60000          3.4           1.4          0.3  Iris-setosa\n",
       "7        5.00000          3.4           1.5          0.1  Iris-setosa\n",
       "8        4.40000          2.9           1.4          0.2  Iris-setosa\n",
       "9        4.90000          3.1           4.2          0.1  Iris-setosa\n",
       "10       5.40000          3.7           1.5          0.2  Iris-setosa\n",
       "11       4.80000          3.4           1.6          0.2  Iris-setosa\n",
       "12       4.80000          3.0           1.4          0.1  Iris-setosa\n",
       "13       4.30000          3.0           1.1          0.1  Iris-setosa\n",
       "14       5.80000          4.0           1.2          0.2  Iris-setosa\n",
       "15       5.70000          4.4           1.5          0.4  Iris-setosa\n",
       "16       5.84058          3.9           1.3          0.4  Iris-setosa\n",
       "17       5.10000          3.5           1.4          0.3  Iris-setosa\n",
       "18       5.70000          3.8           1.7          0.3  Iris-setosa\n",
       "19       5.10000          3.8           1.5          0.3  Iris-setosa\n",
       "20       5.40000          3.4           1.7          0.2  Iris-setosa\n",
       "21       5.10000          3.7           1.5          0.4  Iris-setosa\n",
       "24       4.80000          3.4           1.9          0.2  Iris-setosa\n",
       "25       5.00000          3.0           1.6          0.2  Iris-setosa\n",
       "26       5.00000          3.4           4.2          0.4  Iris-setosa\n",
       "27       5.20000          3.5           1.5          0.2  Iris-setosa\n",
       "28       5.84058          3.4           1.4          0.2  Iris-setosa\n",
       "29       4.70000          3.2           1.6          0.2  Iris-setosa\n",
       "30       4.80000          3.1           1.6          0.2  Iris-setosa\n",
       "31       5.40000          3.4           1.5          0.4  Iris-setosa\n",
       "32       5.20000          3.0           1.5          0.1  Iris-setosa"
      ]
     },
     "execution_count": 43,
     "metadata": {},
     "output_type": "execute_result"
    }
   ],
   "source": [
    "iris1df.head(30)"
   ]
  },
  {
   "cell_type": "markdown",
   "id": "2cd524b3",
   "metadata": {
    "papermill": {
     "duration": 0.025608,
     "end_time": "2023-01-03T03:46:26.011986",
     "exception": false,
     "start_time": "2023-01-03T03:46:25.986378",
     "status": "completed"
    },
    "tags": []
   },
   "source": [
    "# Data Visualization\n",
    "#### (Using Day 3 Dataset)"
   ]
  },
  {
   "cell_type": "code",
   "execution_count": 44,
   "id": "2d4b0e9a",
   "metadata": {
    "execution": {
     "iopub.execute_input": "2023-01-03T03:46:26.065178Z",
     "iopub.status.busy": "2023-01-03T03:46:26.064741Z",
     "iopub.status.idle": "2023-01-03T03:46:26.069702Z",
     "shell.execute_reply": "2023-01-03T03:46:26.068480Z"
    },
    "papermill": {
     "duration": 0.034339,
     "end_time": "2023-01-03T03:46:26.072076",
     "exception": false,
     "start_time": "2023-01-03T03:46:26.037737",
     "status": "completed"
    },
    "tags": []
   },
   "outputs": [],
   "source": [
    "import matplotlib.pyplot as plt"
   ]
  },
  {
   "cell_type": "code",
   "execution_count": 45,
   "id": "f6438d74",
   "metadata": {
    "execution": {
     "iopub.execute_input": "2023-01-03T03:46:26.125086Z",
     "iopub.status.busy": "2023-01-03T03:46:26.124662Z",
     "iopub.status.idle": "2023-01-03T03:46:26.132042Z",
     "shell.execute_reply": "2023-01-03T03:46:26.130895Z"
    },
    "papermill": {
     "duration": 0.036754,
     "end_time": "2023-01-03T03:46:26.134555",
     "exception": false,
     "start_time": "2023-01-03T03:46:26.097801",
     "status": "completed"
    },
    "tags": []
   },
   "outputs": [],
   "source": [
    "petal_length=irisdf['petal_length']\n",
    "petal_width=irisdf['petal_width']\n",
    "sepal_length=irisdf['sepal_length']\n",
    "sepal_width=irisdf['sepal_width']"
   ]
  },
  {
   "cell_type": "markdown",
   "id": "fac954b9",
   "metadata": {
    "papermill": {
     "duration": 0.025131,
     "end_time": "2023-01-03T03:46:26.185628",
     "exception": false,
     "start_time": "2023-01-03T03:46:26.160497",
     "status": "completed"
    },
    "tags": []
   },
   "source": [
    "## Scatter Plot between Petal Length and Petal Width"
   ]
  },
  {
   "cell_type": "code",
   "execution_count": 46,
   "id": "27ab2fc8",
   "metadata": {
    "execution": {
     "iopub.execute_input": "2023-01-03T03:46:26.238444Z",
     "iopub.status.busy": "2023-01-03T03:46:26.238029Z",
     "iopub.status.idle": "2023-01-03T03:46:26.459758Z",
     "shell.execute_reply": "2023-01-03T03:46:26.458560Z"
    },
    "papermill": {
     "duration": 0.251051,
     "end_time": "2023-01-03T03:46:26.462330",
     "exception": false,
     "start_time": "2023-01-03T03:46:26.211279",
     "status": "completed"
    },
    "tags": []
   },
   "outputs": [
    {
     "data": {
      "image/png": "[encoded data removed]",
      "text/plain": [
       "<Figure size 432x288 with 1 Axes>"
      ]
     },
     "metadata": {
      "needs_background": "light"
     },
     "output_type": "display_data"
    }
   ],
   "source": [
    "plt.scatter(x=petal_length,y=petal_width)\n",
    "plt.xlabel(\"petal_length\")\n",
    "plt.ylabel(\"petal_width\")\n",
    "plt.show()"
   ]
  },
  {
   "cell_type": "markdown",
   "id": "1c16290b",
   "metadata": {
    "papermill": {
     "duration": 0.025641,
     "end_time": "2023-01-03T03:46:26.514763",
     "exception": false,
     "start_time": "2023-01-03T03:46:26.489122",
     "status": "completed"
    },
    "tags": []
   },
   "source": [
    "## Scatter Plot Categorization with Different Species of the Iris Plant"
   ]
  },
  {
   "cell_type": "code",
   "execution_count": 47,
   "id": "cf73035f",
   "metadata": {
    "execution": {
     "iopub.execute_input": "2023-01-03T03:46:26.570588Z",
     "iopub.status.busy": "2023-01-03T03:46:26.570181Z",
     "iopub.status.idle": "2023-01-03T03:46:26.599538Z",
     "shell.execute_reply": "2023-01-03T03:46:26.598526Z"
    },
    "papermill": {
     "duration": 0.060029,
     "end_time": "2023-01-03T03:46:26.601646",
     "exception": false,
     "start_time": "2023-01-03T03:46:26.541617",
     "status": "completed"
    },
    "tags": []
   },
   "outputs": [
    {
     "data": {
      "text/html": [
       "<div>\n",
       "<style scoped>\n",
       "    .dataframe tbody tr th:only-of-type {\n",
       "        vertical-align: middle;\n",
       "    }\n",
       "\n",
       "    .dataframe tbody tr th {\n",
       "        vertical-align: top;\n",
       "    }\n",
       "\n",
       "    .dataframe thead th {\n",
       "        text-align: right;\n",
       "    }\n",
       "</style>\n",
       "<table border=\"1\" class=\"dataframe\">\n",
       "  <thead>\n",
       "    <tr style=\"text-align: right;\">\n",
       "      <th></th>\n",
       "      <th>sepal_length</th>\n",
       "      <th>sepal_width</th>\n",
       "      <th>petal_length</th>\n",
       "      <th>petal_width</th>\n",
       "      <th>species</th>\n",
       "    </tr>\n",
       "  </thead>\n",
       "  <tbody>\n",
       "    <tr>\n",
       "      <th>0</th>\n",
       "      <td>5.1</td>\n",
       "      <td>3.5</td>\n",
       "      <td>1.4</td>\n",
       "      <td>0.2</td>\n",
       "      <td>Iris-setosa</td>\n",
       "    </tr>\n",
       "    <tr>\n",
       "      <th>1</th>\n",
       "      <td>4.9</td>\n",
       "      <td>3.0</td>\n",
       "      <td>1.4</td>\n",
       "      <td>0.2</td>\n",
       "      <td>Iris-setosa</td>\n",
       "    </tr>\n",
       "    <tr>\n",
       "      <th>2</th>\n",
       "      <td>4.7</td>\n",
       "      <td>3.2</td>\n",
       "      <td>1.3</td>\n",
       "      <td>0.2</td>\n",
       "      <td>Iris-setosa</td>\n",
       "    </tr>\n",
       "    <tr>\n",
       "      <th>3</th>\n",
       "      <td>4.6</td>\n",
       "      <td>3.1</td>\n",
       "      <td>1.5</td>\n",
       "      <td>0.2</td>\n",
       "      <td>Iris-setosa</td>\n",
       "    </tr>\n",
       "    <tr>\n",
       "      <th>4</th>\n",
       "      <td>5.0</td>\n",
       "      <td>3.6</td>\n",
       "      <td>1.4</td>\n",
       "      <td>0.2</td>\n",
       "      <td>Iris-setosa</td>\n",
       "    </tr>\n",
       "    <tr>\n",
       "      <th>5</th>\n",
       "      <td>5.4</td>\n",
       "      <td>3.9</td>\n",
       "      <td>1.7</td>\n",
       "      <td>0.4</td>\n",
       "      <td>Iris-setosa</td>\n",
       "    </tr>\n",
       "    <tr>\n",
       "      <th>6</th>\n",
       "      <td>4.6</td>\n",
       "      <td>3.4</td>\n",
       "      <td>1.4</td>\n",
       "      <td>0.3</td>\n",
       "      <td>Iris-setosa</td>\n",
       "    </tr>\n",
       "    <tr>\n",
       "      <th>7</th>\n",
       "      <td>5.0</td>\n",
       "      <td>3.4</td>\n",
       "      <td>1.5</td>\n",
       "      <td>0.2</td>\n",
       "      <td>Iris-setosa</td>\n",
       "    </tr>\n",
       "    <tr>\n",
       "      <th>8</th>\n",
       "      <td>4.4</td>\n",
       "      <td>2.9</td>\n",
       "      <td>1.4</td>\n",
       "      <td>0.2</td>\n",
       "      <td>Iris-setosa</td>\n",
       "    </tr>\n",
       "    <tr>\n",
       "      <th>9</th>\n",
       "      <td>4.9</td>\n",
       "      <td>3.1</td>\n",
       "      <td>1.5</td>\n",
       "      <td>0.1</td>\n",
       "      <td>Iris-setosa</td>\n",
       "    </tr>\n",
       "    <tr>\n",
       "      <th>10</th>\n",
       "      <td>5.4</td>\n",
       "      <td>3.7</td>\n",
       "      <td>1.5</td>\n",
       "      <td>0.2</td>\n",
       "      <td>Iris-setosa</td>\n",
       "    </tr>\n",
       "    <tr>\n",
       "      <th>11</th>\n",
       "      <td>4.8</td>\n",
       "      <td>3.4</td>\n",
       "      <td>1.6</td>\n",
       "      <td>0.2</td>\n",
       "      <td>Iris-setosa</td>\n",
       "    </tr>\n",
       "    <tr>\n",
       "      <th>12</th>\n",
       "      <td>4.8</td>\n",
       "      <td>3.0</td>\n",
       "      <td>1.4</td>\n",
       "      <td>0.1</td>\n",
       "      <td>Iris-setosa</td>\n",
       "    </tr>\n",
       "    <tr>\n",
       "      <th>13</th>\n",
       "      <td>4.3</td>\n",
       "      <td>3.0</td>\n",
       "      <td>1.1</td>\n",
       "      <td>0.1</td>\n",
       "      <td>Iris-setosa</td>\n",
       "    </tr>\n",
       "    <tr>\n",
       "      <th>14</th>\n",
       "      <td>5.8</td>\n",
       "      <td>4.0</td>\n",
       "      <td>1.2</td>\n",
       "      <td>0.2</td>\n",
       "      <td>Iris-setosa</td>\n",
       "    </tr>\n",
       "    <tr>\n",
       "      <th>15</th>\n",
       "      <td>5.7</td>\n",
       "      <td>4.4</td>\n",
       "      <td>1.5</td>\n",
       "      <td>0.4</td>\n",
       "      <td>Iris-setosa</td>\n",
       "    </tr>\n",
       "    <tr>\n",
       "      <th>16</th>\n",
       "      <td>5.4</td>\n",
       "      <td>3.9</td>\n",
       "      <td>1.3</td>\n",
       "      <td>0.4</td>\n",
       "      <td>Iris-setosa</td>\n",
       "    </tr>\n",
       "    <tr>\n",
       "      <th>17</th>\n",
       "      <td>5.1</td>\n",
       "      <td>3.5</td>\n",
       "      <td>1.4</td>\n",
       "      <td>0.3</td>\n",
       "      <td>Iris-setosa</td>\n",
       "    </tr>\n",
       "    <tr>\n",
       "      <th>18</th>\n",
       "      <td>5.7</td>\n",
       "      <td>3.8</td>\n",
       "      <td>1.7</td>\n",
       "      <td>0.3</td>\n",
       "      <td>Iris-setosa</td>\n",
       "    </tr>\n",
       "    <tr>\n",
       "      <th>19</th>\n",
       "      <td>5.1</td>\n",
       "      <td>3.8</td>\n",
       "      <td>1.5</td>\n",
       "      <td>0.3</td>\n",
       "      <td>Iris-setosa</td>\n",
       "    </tr>\n",
       "    <tr>\n",
       "      <th>20</th>\n",
       "      <td>5.4</td>\n",
       "      <td>3.4</td>\n",
       "      <td>1.7</td>\n",
       "      <td>0.2</td>\n",
       "      <td>Iris-setosa</td>\n",
       "    </tr>\n",
       "    <tr>\n",
       "      <th>21</th>\n",
       "      <td>5.1</td>\n",
       "      <td>3.7</td>\n",
       "      <td>1.5</td>\n",
       "      <td>0.4</td>\n",
       "      <td>Iris-setosa</td>\n",
       "    </tr>\n",
       "    <tr>\n",
       "      <th>22</th>\n",
       "      <td>4.6</td>\n",
       "      <td>3.6</td>\n",
       "      <td>1.0</td>\n",
       "      <td>0.2</td>\n",
       "      <td>Iris-setosa</td>\n",
       "    </tr>\n",
       "    <tr>\n",
       "      <th>23</th>\n",
       "      <td>5.1</td>\n",
       "      <td>3.3</td>\n",
       "      <td>1.7</td>\n",
       "      <td>0.5</td>\n",
       "      <td>Iris-setosa</td>\n",
       "    </tr>\n",
       "    <tr>\n",
       "      <th>24</th>\n",
       "      <td>4.8</td>\n",
       "      <td>3.4</td>\n",
       "      <td>1.9</td>\n",
       "      <td>0.2</td>\n",
       "      <td>Iris-setosa</td>\n",
       "    </tr>\n",
       "    <tr>\n",
       "      <th>25</th>\n",
       "      <td>5.0</td>\n",
       "      <td>3.0</td>\n",
       "      <td>1.6</td>\n",
       "      <td>0.2</td>\n",
       "      <td>Iris-setosa</td>\n",
       "    </tr>\n",
       "    <tr>\n",
       "      <th>26</th>\n",
       "      <td>5.0</td>\n",
       "      <td>3.4</td>\n",
       "      <td>1.6</td>\n",
       "      <td>0.4</td>\n",
       "      <td>Iris-setosa</td>\n",
       "    </tr>\n",
       "    <tr>\n",
       "      <th>27</th>\n",
       "      <td>5.2</td>\n",
       "      <td>3.5</td>\n",
       "      <td>1.5</td>\n",
       "      <td>0.2</td>\n",
       "      <td>Iris-setosa</td>\n",
       "    </tr>\n",
       "    <tr>\n",
       "      <th>28</th>\n",
       "      <td>5.2</td>\n",
       "      <td>3.4</td>\n",
       "      <td>1.4</td>\n",
       "      <td>0.2</td>\n",
       "      <td>Iris-setosa</td>\n",
       "    </tr>\n",
       "    <tr>\n",
       "      <th>29</th>\n",
       "      <td>4.7</td>\n",
       "      <td>3.2</td>\n",
       "      <td>1.6</td>\n",
       "      <td>0.2</td>\n",
       "      <td>Iris-setosa</td>\n",
       "    </tr>\n",
       "    <tr>\n",
       "      <th>30</th>\n",
       "      <td>4.8</td>\n",
       "      <td>3.1</td>\n",
       "      <td>1.6</td>\n",
       "      <td>0.2</td>\n",
       "      <td>Iris-setosa</td>\n",
       "    </tr>\n",
       "    <tr>\n",
       "      <th>31</th>\n",
       "      <td>5.4</td>\n",
       "      <td>3.4</td>\n",
       "      <td>1.5</td>\n",
       "      <td>0.4</td>\n",
       "      <td>Iris-setosa</td>\n",
       "    </tr>\n",
       "    <tr>\n",
       "      <th>32</th>\n",
       "      <td>5.2</td>\n",
       "      <td>4.1</td>\n",
       "      <td>1.5</td>\n",
       "      <td>0.1</td>\n",
       "      <td>Iris-setosa</td>\n",
       "    </tr>\n",
       "    <tr>\n",
       "      <th>33</th>\n",
       "      <td>5.5</td>\n",
       "      <td>4.2</td>\n",
       "      <td>1.4</td>\n",
       "      <td>0.2</td>\n",
       "      <td>Iris-setosa</td>\n",
       "    </tr>\n",
       "    <tr>\n",
       "      <th>35</th>\n",
       "      <td>5.0</td>\n",
       "      <td>3.2</td>\n",
       "      <td>1.2</td>\n",
       "      <td>0.2</td>\n",
       "      <td>Iris-setosa</td>\n",
       "    </tr>\n",
       "    <tr>\n",
       "      <th>36</th>\n",
       "      <td>5.5</td>\n",
       "      <td>3.5</td>\n",
       "      <td>1.3</td>\n",
       "      <td>0.2</td>\n",
       "      <td>Iris-setosa</td>\n",
       "    </tr>\n",
       "    <tr>\n",
       "      <th>38</th>\n",
       "      <td>4.4</td>\n",
       "      <td>3.0</td>\n",
       "      <td>1.3</td>\n",
       "      <td>0.2</td>\n",
       "      <td>Iris-setosa</td>\n",
       "    </tr>\n",
       "    <tr>\n",
       "      <th>39</th>\n",
       "      <td>5.1</td>\n",
       "      <td>3.4</td>\n",
       "      <td>1.5</td>\n",
       "      <td>0.2</td>\n",
       "      <td>Iris-setosa</td>\n",
       "    </tr>\n",
       "    <tr>\n",
       "      <th>40</th>\n",
       "      <td>5.0</td>\n",
       "      <td>3.5</td>\n",
       "      <td>1.3</td>\n",
       "      <td>0.3</td>\n",
       "      <td>Iris-setosa</td>\n",
       "    </tr>\n",
       "    <tr>\n",
       "      <th>41</th>\n",
       "      <td>4.5</td>\n",
       "      <td>2.3</td>\n",
       "      <td>1.3</td>\n",
       "      <td>0.3</td>\n",
       "      <td>Iris-setosa</td>\n",
       "    </tr>\n",
       "    <tr>\n",
       "      <th>42</th>\n",
       "      <td>4.4</td>\n",
       "      <td>3.2</td>\n",
       "      <td>1.3</td>\n",
       "      <td>0.2</td>\n",
       "      <td>Iris-setosa</td>\n",
       "    </tr>\n",
       "    <tr>\n",
       "      <th>43</th>\n",
       "      <td>5.0</td>\n",
       "      <td>3.5</td>\n",
       "      <td>1.6</td>\n",
       "      <td>0.6</td>\n",
       "      <td>Iris-setosa</td>\n",
       "    </tr>\n",
       "    <tr>\n",
       "      <th>44</th>\n",
       "      <td>5.1</td>\n",
       "      <td>3.8</td>\n",
       "      <td>1.9</td>\n",
       "      <td>0.4</td>\n",
       "      <td>Iris-setosa</td>\n",
       "    </tr>\n",
       "    <tr>\n",
       "      <th>45</th>\n",
       "      <td>4.8</td>\n",
       "      <td>3.0</td>\n",
       "      <td>1.4</td>\n",
       "      <td>0.3</td>\n",
       "      <td>Iris-setosa</td>\n",
       "    </tr>\n",
       "    <tr>\n",
       "      <th>46</th>\n",
       "      <td>5.1</td>\n",
       "      <td>3.8</td>\n",
       "      <td>1.6</td>\n",
       "      <td>0.2</td>\n",
       "      <td>Iris-setosa</td>\n",
       "    </tr>\n",
       "    <tr>\n",
       "      <th>47</th>\n",
       "      <td>4.6</td>\n",
       "      <td>3.2</td>\n",
       "      <td>1.4</td>\n",
       "      <td>0.2</td>\n",
       "      <td>Iris-setosa</td>\n",
       "    </tr>\n",
       "    <tr>\n",
       "      <th>48</th>\n",
       "      <td>5.3</td>\n",
       "      <td>3.7</td>\n",
       "      <td>1.5</td>\n",
       "      <td>0.2</td>\n",
       "      <td>Iris-setosa</td>\n",
       "    </tr>\n",
       "    <tr>\n",
       "      <th>49</th>\n",
       "      <td>5.0</td>\n",
       "      <td>3.3</td>\n",
       "      <td>1.4</td>\n",
       "      <td>0.2</td>\n",
       "      <td>Iris-setosa</td>\n",
       "    </tr>\n",
       "  </tbody>\n",
       "</table>\n",
       "</div>"
      ],
      "text/plain": [
       "    sepal_length  sepal_width  petal_length  petal_width      species\n",
       "0            5.1          3.5           1.4          0.2  Iris-setosa\n",
       "1            4.9          3.0           1.4          0.2  Iris-setosa\n",
       "2            4.7          3.2           1.3          0.2  Iris-setosa\n",
       "3            4.6          3.1           1.5          0.2  Iris-setosa\n",
       "4            5.0          3.6           1.4          0.2  Iris-setosa\n",
       "5            5.4          3.9           1.7          0.4  Iris-setosa\n",
       "6            4.6          3.4           1.4          0.3  Iris-setosa\n",
       "7            5.0          3.4           1.5          0.2  Iris-setosa\n",
       "8            4.4          2.9           1.4          0.2  Iris-setosa\n",
       "9            4.9          3.1           1.5          0.1  Iris-setosa\n",
       "10           5.4          3.7           1.5          0.2  Iris-setosa\n",
       "11           4.8          3.4           1.6          0.2  Iris-setosa\n",
       "12           4.8          3.0           1.4          0.1  Iris-setosa\n",
       "13           4.3          3.0           1.1          0.1  Iris-setosa\n",
       "14           5.8          4.0           1.2          0.2  Iris-setosa\n",
       "15           5.7          4.4           1.5          0.4  Iris-setosa\n",
       "16           5.4          3.9           1.3          0.4  Iris-setosa\n",
       "17           5.1          3.5           1.4          0.3  Iris-setosa\n",
       "18           5.7          3.8           1.7          0.3  Iris-setosa\n",
       "19           5.1          3.8           1.5          0.3  Iris-setosa\n",
       "20           5.4          3.4           1.7          0.2  Iris-setosa\n",
       "21           5.1          3.7           1.5          0.4  Iris-setosa\n",
       "22           4.6          3.6           1.0          0.2  Iris-setosa\n",
       "23           5.1          3.3           1.7          0.5  Iris-setosa\n",
       "24           4.8          3.4           1.9          0.2  Iris-setosa\n",
       "25           5.0          3.0           1.6          0.2  Iris-setosa\n",
       "26           5.0          3.4           1.6          0.4  Iris-setosa\n",
       "27           5.2          3.5           1.5          0.2  Iris-setosa\n",
       "28           5.2          3.4           1.4          0.2  Iris-setosa\n",
       "29           4.7          3.2           1.6          0.2  Iris-setosa\n",
       "30           4.8          3.1           1.6          0.2  Iris-setosa\n",
       "31           5.4          3.4           1.5          0.4  Iris-setosa\n",
       "32           5.2          4.1           1.5          0.1  Iris-setosa\n",
       "33           5.5          4.2           1.4          0.2  Iris-setosa\n",
       "35           5.0          3.2           1.2          0.2  Iris-setosa\n",
       "36           5.5          3.5           1.3          0.2  Iris-setosa\n",
       "38           4.4          3.0           1.3          0.2  Iris-setosa\n",
       "39           5.1          3.4           1.5          0.2  Iris-setosa\n",
       "40           5.0          3.5           1.3          0.3  Iris-setosa\n",
       "41           4.5          2.3           1.3          0.3  Iris-setosa\n",
       "42           4.4          3.2           1.3          0.2  Iris-setosa\n",
       "43           5.0          3.5           1.6          0.6  Iris-setosa\n",
       "44           5.1          3.8           1.9          0.4  Iris-setosa\n",
       "45           4.8          3.0           1.4          0.3  Iris-setosa\n",
       "46           5.1          3.8           1.6          0.2  Iris-setosa\n",
       "47           4.6          3.2           1.4          0.2  Iris-setosa\n",
       "48           5.3          3.7           1.5          0.2  Iris-setosa\n",
       "49           5.0          3.3           1.4          0.2  Iris-setosa"
      ]
     },
     "execution_count": 47,
     "metadata": {},
     "output_type": "execute_result"
    }
   ],
   "source": [
    "setosa=irisdf[irisdf[\"species\"]==\"Iris-setosa\"]\n",
    "setosa"
   ]
  },
  {
   "cell_type": "code",
   "execution_count": 48,
   "id": "97657890",
   "metadata": {
    "execution": {
     "iopub.execute_input": "2023-01-03T03:46:26.657968Z",
     "iopub.status.busy": "2023-01-03T03:46:26.657327Z",
     "iopub.status.idle": "2023-01-03T03:46:26.663411Z",
     "shell.execute_reply": "2023-01-03T03:46:26.662394Z"
    },
    "papermill": {
     "duration": 0.036867,
     "end_time": "2023-01-03T03:46:26.665697",
     "exception": false,
     "start_time": "2023-01-03T03:46:26.628830",
     "status": "completed"
    },
    "tags": []
   },
   "outputs": [],
   "source": [
    "versicolor=irisdf[irisdf[\"species\"]==\"Iris-versicolor\"]\n",
    "virginica=irisdf[irisdf[\"species\"]==\"Iris-virginica\"]"
   ]
  },
  {
   "cell_type": "code",
   "execution_count": 49,
   "id": "7314a541",
   "metadata": {
    "execution": {
     "iopub.execute_input": "2023-01-03T03:46:26.721436Z",
     "iopub.status.busy": "2023-01-03T03:46:26.720792Z",
     "iopub.status.idle": "2023-01-03T03:46:26.988991Z",
     "shell.execute_reply": "2023-01-03T03:46:26.987971Z"
    },
    "papermill": {
     "duration": 0.299189,
     "end_time": "2023-01-03T03:46:26.991557",
     "exception": false,
     "start_time": "2023-01-03T03:46:26.692368",
     "status": "completed"
    },
    "tags": []
   },
   "outputs": [
    {
     "data": {
      "image/png": "[encoded data removed]",
      "text/plain": [
       "<Figure size 432x288 with 1 Axes>"
      ]
     },
     "metadata": {
      "needs_background": "light"
     },
     "output_type": "display_data"
    }
   ],
   "source": [
    "plt.scatter(setosa['petal_length'],setosa['petal_width'],color='blue',label=\"setosa\")\n",
    "plt.scatter(versicolor['petal_length'],versicolor['petal_width'],color='green',label=\"versicolor\")\n",
    "plt.scatter(virginica['petal_length'],virginica['petal_width'],color='orange',label=\"virginica\")\n",
    "plt.xlabel(\"petal_length\")\n",
    "plt.ylabel(\"petal_width\")\n",
    "plt.legend()\n",
    "plt.show()"
   ]
  },
  {
   "cell_type": "markdown",
   "id": "9dd52a84",
   "metadata": {
    "papermill": {
     "duration": 0.026428,
     "end_time": "2023-01-03T03:46:27.045849",
     "exception": false,
     "start_time": "2023-01-03T03:46:27.019421",
     "status": "completed"
    },
    "tags": []
   },
   "source": [
    "## Bar Graph between Petal Length and Petal Width"
   ]
  },
  {
   "cell_type": "code",
   "execution_count": 50,
   "id": "dc46b25a",
   "metadata": {
    "execution": {
     "iopub.execute_input": "2023-01-03T03:46:27.101113Z",
     "iopub.status.busy": "2023-01-03T03:46:27.100703Z",
     "iopub.status.idle": "2023-01-03T03:46:27.318055Z",
     "shell.execute_reply": "2023-01-03T03:46:27.316860Z"
    },
    "papermill": {
     "duration": 0.248283,
     "end_time": "2023-01-03T03:46:27.320890",
     "exception": false,
     "start_time": "2023-01-03T03:46:27.072607",
     "status": "completed"
    },
    "tags": []
   },
   "outputs": [
    {
     "data": {
      "image/png": "[encoded data removed]",
      "text/plain": [
       "<Figure size 432x288 with 1 Axes>"
      ]
     },
     "metadata": {
      "needs_background": "light"
     },
     "output_type": "display_data"
    }
   ],
   "source": [
    "plt.hist(irisdf[\"petal_length\"])\n",
    "plt.xlabel(\"petal_length\")\n",
    "plt.ylabel(\"petal_width\")\n",
    "plt.show()"
   ]
  },
  {
   "cell_type": "code",
   "execution_count": 51,
   "id": "985c4e1f",
   "metadata": {
    "execution": {
     "iopub.execute_input": "2023-01-03T03:46:27.377480Z",
     "iopub.status.busy": "2023-01-03T03:46:27.377052Z",
     "iopub.status.idle": "2023-01-03T03:46:27.386510Z",
     "shell.execute_reply": "2023-01-03T03:46:27.385228Z"
    },
    "papermill": {
     "duration": 0.040736,
     "end_time": "2023-01-03T03:46:27.389153",
     "exception": false,
     "start_time": "2023-01-03T03:46:27.348417",
     "status": "completed"
    },
    "tags": []
   },
   "outputs": [
    {
     "data": {
      "text/plain": [
       "Iris-versicolor    50\n",
       "Iris-virginica     49\n",
       "Iris-setosa        48\n",
       "Name: species, dtype: int64"
      ]
     },
     "execution_count": 51,
     "metadata": {},
     "output_type": "execute_result"
    }
   ],
   "source": [
    "irisdf[\"species\"].value_counts()"
   ]
  },
  {
   "cell_type": "markdown",
   "id": "ef13ed78",
   "metadata": {
    "papermill": {
     "duration": 0.029494,
     "end_time": "2023-01-03T03:46:27.447037",
     "exception": false,
     "start_time": "2023-01-03T03:46:27.417543",
     "status": "completed"
    },
    "tags": []
   },
   "source": [
    "## Pie chart comparing the number of species in the dataset"
   ]
  },
  {
   "cell_type": "code",
   "execution_count": 52,
   "id": "87c5eb8d",
   "metadata": {
    "execution": {
     "iopub.execute_input": "2023-01-03T03:46:27.504160Z",
     "iopub.status.busy": "2023-01-03T03:46:27.503444Z",
     "iopub.status.idle": "2023-01-03T03:46:27.681574Z",
     "shell.execute_reply": "2023-01-03T03:46:27.680057Z"
    },
    "papermill": {
     "duration": 0.212123,
     "end_time": "2023-01-03T03:46:27.686456",
     "exception": false,
     "start_time": "2023-01-03T03:46:27.474333",
     "status": "completed"
    },
    "tags": []
   },
   "outputs": [
    {
     "data": {
      "image/png": "[encoded data removed]",
      "text/plain": [
       "<Figure size 432x288 with 1 Axes>"
      ]
     },
     "metadata": {},
     "output_type": "display_data"
    }
   ],
   "source": [
    "plt.pie(irisdf[\"species\"].value_counts(),labels=irisdf[\"species\"].value_counts(),autopct=\"%0.0f\")\n",
    "plt.legend()\n",
    "plt.show()"
   ]
  },
  {
   "cell_type": "markdown",
   "id": "35447cd7",
   "metadata": {
    "papermill": {
     "duration": 0.027437,
     "end_time": "2023-01-03T03:46:27.766791",
     "exception": false,
     "start_time": "2023-01-03T03:46:27.739354",
     "status": "completed"
    },
    "tags": []
   },
   "source": [
    "# Data Modelling\n",
    "#### (Using Day 3 Dataset)"
   ]
  },
  {
   "cell_type": "code",
   "execution_count": 53,
   "id": "cd3a9a2e",
   "metadata": {
    "execution": {
     "iopub.execute_input": "2023-01-03T03:46:27.826756Z",
     "iopub.status.busy": "2023-01-03T03:46:27.825940Z",
     "iopub.status.idle": "2023-01-03T03:46:29.033965Z",
     "shell.execute_reply": "2023-01-03T03:46:29.032752Z"
    },
    "papermill": {
     "duration": 1.242694,
     "end_time": "2023-01-03T03:46:29.037126",
     "exception": false,
     "start_time": "2023-01-03T03:46:27.794432",
     "status": "completed"
    },
    "tags": []
   },
   "outputs": [],
   "source": [
    "import numpy as np\n",
    "from sklearn.preprocessing import StandardScaler\n",
    "from sklearn.model_selection import train_test_split\n",
    "from sklearn.neighbors import KNeighborsClassifier\n",
    "from sklearn.metrics import accuracy_score\n",
    "from sklearn.metrics import confusion_matrix"
   ]
  },
  {
   "cell_type": "markdown",
   "id": "bd114555",
   "metadata": {
    "papermill": {
     "duration": 0.028253,
     "end_time": "2023-01-03T03:46:29.093387",
     "exception": false,
     "start_time": "2023-01-03T03:46:29.065134",
     "status": "completed"
    },
    "tags": []
   },
   "source": [
    "## Operations\n",
    "\n",
    "**1. iloc[row,column]**"
   ]
  },
  {
   "cell_type": "code",
   "execution_count": 54,
   "id": "a38e8a24",
   "metadata": {
    "execution": {
     "iopub.execute_input": "2023-01-03T03:46:29.152286Z",
     "iopub.status.busy": "2023-01-03T03:46:29.151837Z",
     "iopub.status.idle": "2023-01-03T03:46:29.167194Z",
     "shell.execute_reply": "2023-01-03T03:46:29.166008Z"
    },
    "papermill": {
     "duration": 0.047245,
     "end_time": "2023-01-03T03:46:29.169784",
     "exception": false,
     "start_time": "2023-01-03T03:46:29.122539",
     "status": "completed"
    },
    "tags": []
   },
   "outputs": [
    {
     "data": {
      "text/html": [
       "<div>\n",
       "<style scoped>\n",
       "    .dataframe tbody tr th:only-of-type {\n",
       "        vertical-align: middle;\n",
       "    }\n",
       "\n",
       "    .dataframe tbody tr th {\n",
       "        vertical-align: top;\n",
       "    }\n",
       "\n",
       "    .dataframe thead th {\n",
       "        text-align: right;\n",
       "    }\n",
       "</style>\n",
       "<table border=\"1\" class=\"dataframe\">\n",
       "  <thead>\n",
       "    <tr style=\"text-align: right;\">\n",
       "      <th></th>\n",
       "      <th>sepal_length</th>\n",
       "      <th>sepal_width</th>\n",
       "      <th>petal_length</th>\n",
       "      <th>petal_width</th>\n",
       "    </tr>\n",
       "  </thead>\n",
       "  <tbody>\n",
       "    <tr>\n",
       "      <th>0</th>\n",
       "      <td>5.1</td>\n",
       "      <td>3.5</td>\n",
       "      <td>1.4</td>\n",
       "      <td>0.2</td>\n",
       "    </tr>\n",
       "    <tr>\n",
       "      <th>1</th>\n",
       "      <td>4.9</td>\n",
       "      <td>3.0</td>\n",
       "      <td>1.4</td>\n",
       "      <td>0.2</td>\n",
       "    </tr>\n",
       "    <tr>\n",
       "      <th>2</th>\n",
       "      <td>4.7</td>\n",
       "      <td>3.2</td>\n",
       "      <td>1.3</td>\n",
       "      <td>0.2</td>\n",
       "    </tr>\n",
       "    <tr>\n",
       "      <th>3</th>\n",
       "      <td>4.6</td>\n",
       "      <td>3.1</td>\n",
       "      <td>1.5</td>\n",
       "      <td>0.2</td>\n",
       "    </tr>\n",
       "    <tr>\n",
       "      <th>4</th>\n",
       "      <td>5.0</td>\n",
       "      <td>3.6</td>\n",
       "      <td>1.4</td>\n",
       "      <td>0.2</td>\n",
       "    </tr>\n",
       "  </tbody>\n",
       "</table>\n",
       "</div>"
      ],
      "text/plain": [
       "   sepal_length  sepal_width  petal_length  petal_width\n",
       "0           5.1          3.5           1.4          0.2\n",
       "1           4.9          3.0           1.4          0.2\n",
       "2           4.7          3.2           1.3          0.2\n",
       "3           4.6          3.1           1.5          0.2\n",
       "4           5.0          3.6           1.4          0.2"
      ]
     },
     "execution_count": 54,
     "metadata": {},
     "output_type": "execute_result"
    }
   ],
   "source": [
    "# x=irisdf.iloc[:,1:5]\n",
    "x=irisdf.iloc[:,0:4]\n",
    "x.head()"
   ]
  },
  {
   "cell_type": "code",
   "execution_count": 55,
   "id": "e9d6304b",
   "metadata": {
    "execution": {
     "iopub.execute_input": "2023-01-03T03:46:29.228986Z",
     "iopub.status.busy": "2023-01-03T03:46:29.228093Z",
     "iopub.status.idle": "2023-01-03T03:46:29.236291Z",
     "shell.execute_reply": "2023-01-03T03:46:29.234975Z"
    },
    "papermill": {
     "duration": 0.040101,
     "end_time": "2023-01-03T03:46:29.238558",
     "exception": false,
     "start_time": "2023-01-03T03:46:29.198457",
     "status": "completed"
    },
    "tags": []
   },
   "outputs": [
    {
     "data": {
      "text/plain": [
       "0    Iris-setosa\n",
       "1    Iris-setosa\n",
       "2    Iris-setosa\n",
       "3    Iris-setosa\n",
       "4    Iris-setosa\n",
       "Name: species, dtype: object"
      ]
     },
     "execution_count": 55,
     "metadata": {},
     "output_type": "execute_result"
    }
   ],
   "source": [
    "y=irisdf.iloc[:,-1]\n",
    "y.head()"
   ]
  },
  {
   "cell_type": "markdown",
   "id": "31bc5d4e",
   "metadata": {
    "papermill": {
     "duration": 0.027758,
     "end_time": "2023-01-03T03:46:29.294955",
     "exception": false,
     "start_time": "2023-01-03T03:46:29.267197",
     "status": "completed"
    },
    "tags": []
   },
   "source": [
    "**2. StandardScaler()**"
   ]
  },
  {
   "cell_type": "code",
   "execution_count": 56,
   "id": "08a92bb5",
   "metadata": {
    "execution": {
     "iopub.execute_input": "2023-01-03T03:46:29.353240Z",
     "iopub.status.busy": "2023-01-03T03:46:29.352428Z",
     "iopub.status.idle": "2023-01-03T03:46:29.357209Z",
     "shell.execute_reply": "2023-01-03T03:46:29.356197Z"
    },
    "papermill": {
     "duration": 0.036704,
     "end_time": "2023-01-03T03:46:29.359457",
     "exception": false,
     "start_time": "2023-01-03T03:46:29.322753",
     "status": "completed"
    },
    "tags": []
   },
   "outputs": [],
   "source": [
    "scaler=StandardScaler()"
   ]
  },
  {
   "cell_type": "markdown",
   "id": "0c731400",
   "metadata": {
    "papermill": {
     "duration": 0.027579,
     "end_time": "2023-01-03T03:46:29.415006",
     "exception": false,
     "start_time": "2023-01-03T03:46:29.387427",
     "status": "completed"
    },
    "tags": []
   },
   "source": [
    "**3. fit_transform()**"
   ]
  },
  {
   "cell_type": "code",
   "execution_count": 57,
   "id": "23a5e7cb",
   "metadata": {
    "execution": {
     "iopub.execute_input": "2023-01-03T03:46:29.475584Z",
     "iopub.status.busy": "2023-01-03T03:46:29.474524Z",
     "iopub.status.idle": "2023-01-03T03:46:29.486888Z",
     "shell.execute_reply": "2023-01-03T03:46:29.485941Z"
    },
    "papermill": {
     "duration": 0.043961,
     "end_time": "2023-01-03T03:46:29.489135",
     "exception": false,
     "start_time": "2023-01-03T03:46:29.445174",
     "status": "completed"
    },
    "tags": []
   },
   "outputs": [
    {
     "data": {
      "text/plain": [
       "array([[-0.91550949,  1.0199714 , -1.35773692, -1.33570001],\n",
       "       [-1.15755966, -0.12808217, -1.35773692, -1.33570001],\n",
       "       [-1.39960983,  0.33113926, -1.41477817, -1.33570001],\n",
       "       [-1.52063491,  0.10152855, -1.30069567, -1.33570001],\n",
       "       [-1.03653457,  1.24958212, -1.35773692, -1.33570001]])"
      ]
     },
     "execution_count": 57,
     "metadata": {},
     "output_type": "execute_result"
    }
   ],
   "source": [
    "x=scaler.fit_transform(x)\n",
    "x[0:5]"
   ]
  },
  {
   "cell_type": "markdown",
   "id": "a82d2330",
   "metadata": {
    "papermill": {
     "duration": 0.027778,
     "end_time": "2023-01-03T03:46:29.545266",
     "exception": false,
     "start_time": "2023-01-03T03:46:29.517488",
     "status": "completed"
    },
    "tags": []
   },
   "source": [
    "**4. train_test_split()**"
   ]
  },
  {
   "cell_type": "code",
   "execution_count": 58,
   "id": "1649fd8a",
   "metadata": {
    "execution": {
     "iopub.execute_input": "2023-01-03T03:46:29.603179Z",
     "iopub.status.busy": "2023-01-03T03:46:29.602748Z",
     "iopub.status.idle": "2023-01-03T03:46:29.608850Z",
     "shell.execute_reply": "2023-01-03T03:46:29.607609Z"
    },
    "papermill": {
     "duration": 0.038078,
     "end_time": "2023-01-03T03:46:29.611289",
     "exception": false,
     "start_time": "2023-01-03T03:46:29.573211",
     "status": "completed"
    },
    "tags": []
   },
   "outputs": [],
   "source": [
    "x_train, x_test, y_train, y_test=train_test_split(x,y,test_size=0.2)"
   ]
  },
  {
   "cell_type": "markdown",
   "id": "0bf303e5",
   "metadata": {
    "papermill": {
     "duration": 0.027829,
     "end_time": "2023-01-03T03:46:29.667243",
     "exception": false,
     "start_time": "2023-01-03T03:46:29.639414",
     "status": "completed"
    },
    "tags": []
   },
   "source": [
    "**Note: test_size=0.2**\n",
    "\n",
    "**Only 20% of dataset will be trained.**"
   ]
  },
  {
   "cell_type": "markdown",
   "id": "4babc48a",
   "metadata": {
    "papermill": {
     "duration": 0.027941,
     "end_time": "2023-01-03T03:46:29.723152",
     "exception": false,
     "start_time": "2023-01-03T03:46:29.695211",
     "status": "completed"
    },
    "tags": []
   },
   "source": [
    "**5. KNeighborsClassifier**"
   ]
  },
  {
   "cell_type": "code",
   "execution_count": 59,
   "id": "0daec737",
   "metadata": {
    "execution": {
     "iopub.execute_input": "2023-01-03T03:46:29.781248Z",
     "iopub.status.busy": "2023-01-03T03:46:29.780802Z",
     "iopub.status.idle": "2023-01-03T03:46:29.790482Z",
     "shell.execute_reply": "2023-01-03T03:46:29.789464Z"
    },
    "papermill": {
     "duration": 0.041827,
     "end_time": "2023-01-03T03:46:29.793130",
     "exception": false,
     "start_time": "2023-01-03T03:46:29.751303",
     "status": "completed"
    },
    "tags": []
   },
   "outputs": [
    {
     "data": {
      "text/plain": [
       "KNeighborsClassifier(n_neighbors=9)"
      ]
     },
     "execution_count": 59,
     "metadata": {},
     "output_type": "execute_result"
    }
   ],
   "source": [
    "node1=KNeighborsClassifier(n_neighbors=9)\n",
    "node1.fit(x_train,y_train)"
   ]
  },
  {
   "cell_type": "markdown",
   "id": "5560f586",
   "metadata": {
    "papermill": {
     "duration": 0.027942,
     "end_time": "2023-01-03T03:46:29.849612",
     "exception": false,
     "start_time": "2023-01-03T03:46:29.821670",
     "status": "completed"
    },
    "tags": []
   },
   "source": [
    "**6. predict()**"
   ]
  },
  {
   "cell_type": "code",
   "execution_count": 60,
   "id": "290fb023",
   "metadata": {
    "execution": {
     "iopub.execute_input": "2023-01-03T03:46:29.909126Z",
     "iopub.status.busy": "2023-01-03T03:46:29.908695Z",
     "iopub.status.idle": "2023-01-03T03:46:29.917701Z",
     "shell.execute_reply": "2023-01-03T03:46:29.916877Z"
    },
    "papermill": {
     "duration": 0.04132,
     "end_time": "2023-01-03T03:46:29.919991",
     "exception": false,
     "start_time": "2023-01-03T03:46:29.878671",
     "status": "completed"
    },
    "tags": []
   },
   "outputs": [
    {
     "data": {
      "text/plain": [
       "array(['Iris-virginica', 'Iris-virginica', 'Iris-versicolor',\n",
       "       'Iris-versicolor', 'Iris-setosa', 'Iris-versicolor',\n",
       "       'Iris-versicolor', 'Iris-virginica', 'Iris-setosa', 'Iris-setosa',\n",
       "       'Iris-versicolor', 'Iris-virginica', 'Iris-setosa',\n",
       "       'Iris-versicolor', 'Iris-virginica', 'Iris-versicolor',\n",
       "       'Iris-setosa', 'Iris-virginica', 'Iris-versicolor', 'Iris-setosa',\n",
       "       'Iris-versicolor', 'Iris-virginica', 'Iris-setosa',\n",
       "       'Iris-virginica', 'Iris-setosa', 'Iris-setosa', 'Iris-virginica',\n",
       "       'Iris-virginica', 'Iris-versicolor', 'Iris-versicolor'],\n",
       "      dtype=object)"
      ]
     },
     "execution_count": 60,
     "metadata": {},
     "output_type": "execute_result"
    }
   ],
   "source": [
    "pred=node1.predict(x_test)\n",
    "pred[0:]"
   ]
  },
  {
   "cell_type": "code",
   "execution_count": 61,
   "id": "d5df6947",
   "metadata": {
    "execution": {
     "iopub.execute_input": "2023-01-03T03:46:29.980065Z",
     "iopub.status.busy": "2023-01-03T03:46:29.979601Z",
     "iopub.status.idle": "2023-01-03T03:46:29.987050Z",
     "shell.execute_reply": "2023-01-03T03:46:29.986261Z"
    },
    "papermill": {
     "duration": 0.040727,
     "end_time": "2023-01-03T03:46:29.989293",
     "exception": false,
     "start_time": "2023-01-03T03:46:29.948566",
     "status": "completed"
    },
    "tags": []
   },
   "outputs": [
    {
     "data": {
      "text/plain": [
       "147     Iris-virginica\n",
       "148     Iris-virginica\n",
       "81     Iris-versicolor\n",
       "79     Iris-versicolor\n",
       "1          Iris-setosa\n",
       "Name: species, dtype: object"
      ]
     },
     "execution_count": 61,
     "metadata": {},
     "output_type": "execute_result"
    }
   ],
   "source": [
    "y_test[0:5]"
   ]
  },
  {
   "cell_type": "markdown",
   "id": "6d5c4267",
   "metadata": {
    "papermill": {
     "duration": 0.028075,
     "end_time": "2023-01-03T03:46:30.045879",
     "exception": false,
     "start_time": "2023-01-03T03:46:30.017804",
     "status": "completed"
    },
    "tags": []
   },
   "source": [
    "**7. accuracy_score()**"
   ]
  },
  {
   "cell_type": "code",
   "execution_count": 62,
   "id": "159bb3d8",
   "metadata": {
    "execution": {
     "iopub.execute_input": "2023-01-03T03:46:30.105831Z",
     "iopub.status.busy": "2023-01-03T03:46:30.105239Z",
     "iopub.status.idle": "2023-01-03T03:46:30.111410Z",
     "shell.execute_reply": "2023-01-03T03:46:30.110510Z"
    },
    "papermill": {
     "duration": 0.039203,
     "end_time": "2023-01-03T03:46:30.113779",
     "exception": false,
     "start_time": "2023-01-03T03:46:30.074576",
     "status": "completed"
    },
    "tags": []
   },
   "outputs": [
    {
     "data": {
      "text/plain": [
       "0.9333333333333333"
      ]
     },
     "execution_count": 62,
     "metadata": {},
     "output_type": "execute_result"
    }
   ],
   "source": [
    "accuracy = accuracy_score(y_test,pred)\n",
    "accuracy"
   ]
  },
  {
   "cell_type": "markdown",
   "id": "d9ad264b",
   "metadata": {
    "papermill": {
     "duration": 0.028466,
     "end_time": "2023-01-03T03:46:30.171474",
     "exception": false,
     "start_time": "2023-01-03T03:46:30.143008",
     "status": "completed"
    },
    "tags": []
   },
   "source": [
    "**8. confusion_matrix()**"
   ]
  },
  {
   "cell_type": "code",
   "execution_count": 63,
   "id": "de6d0e3e",
   "metadata": {
    "execution": {
     "iopub.execute_input": "2023-01-03T03:46:30.231106Z",
     "iopub.status.busy": "2023-01-03T03:46:30.230682Z",
     "iopub.status.idle": "2023-01-03T03:46:30.240167Z",
     "shell.execute_reply": "2023-01-03T03:46:30.239061Z"
    },
    "papermill": {
     "duration": 0.042003,
     "end_time": "2023-01-03T03:46:30.242576",
     "exception": false,
     "start_time": "2023-01-03T03:46:30.200573",
     "status": "completed"
    },
    "tags": []
   },
   "outputs": [
    {
     "data": {
      "text/plain": [
       "array([[ 9,  0,  0],\n",
       "       [ 0, 10,  1],\n",
       "       [ 0,  1,  9]])"
      ]
     },
     "execution_count": 63,
     "metadata": {},
     "output_type": "execute_result"
    }
   ],
   "source": [
    "cm=confusion_matrix(y_test,pred)\n",
    "cm"
   ]
  },
  {
   "cell_type": "markdown",
   "id": "a8e402cf",
   "metadata": {
    "papermill": {
     "duration": 0.028606,
     "end_time": "2023-01-03T03:46:30.299430",
     "exception": false,
     "start_time": "2023-01-03T03:46:30.270824",
     "status": "completed"
    },
    "tags": []
   },
   "source": [
    "**9. DataFrame(data,index) and transpose()**"
   ]
  },
  {
   "cell_type": "code",
   "execution_count": 64,
   "id": "2b411148",
   "metadata": {
    "execution": {
     "iopub.execute_input": "2023-01-03T03:46:30.358619Z",
     "iopub.status.busy": "2023-01-03T03:46:30.358148Z",
     "iopub.status.idle": "2023-01-03T03:46:30.374070Z",
     "shell.execute_reply": "2023-01-03T03:46:30.372911Z"
    },
    "papermill": {
     "duration": 0.048497,
     "end_time": "2023-01-03T03:46:30.376520",
     "exception": false,
     "start_time": "2023-01-03T03:46:30.328023",
     "status": "completed"
    },
    "tags": []
   },
   "outputs": [
    {
     "data": {
      "text/html": [
       "<div>\n",
       "<style scoped>\n",
       "    .dataframe tbody tr th:only-of-type {\n",
       "        vertical-align: middle;\n",
       "    }\n",
       "\n",
       "    .dataframe tbody tr th {\n",
       "        vertical-align: top;\n",
       "    }\n",
       "\n",
       "    .dataframe thead th {\n",
       "        text-align: right;\n",
       "    }\n",
       "</style>\n",
       "<table border=\"1\" class=\"dataframe\">\n",
       "  <thead>\n",
       "    <tr style=\"text-align: right;\">\n",
       "      <th></th>\n",
       "      <th>y_test</th>\n",
       "      <th>pred</th>\n",
       "    </tr>\n",
       "  </thead>\n",
       "  <tbody>\n",
       "    <tr>\n",
       "      <th>0</th>\n",
       "      <td>Iris-virginica</td>\n",
       "      <td>Iris-virginica</td>\n",
       "    </tr>\n",
       "    <tr>\n",
       "      <th>1</th>\n",
       "      <td>Iris-virginica</td>\n",
       "      <td>Iris-virginica</td>\n",
       "    </tr>\n",
       "    <tr>\n",
       "      <th>2</th>\n",
       "      <td>Iris-versicolor</td>\n",
       "      <td>Iris-versicolor</td>\n",
       "    </tr>\n",
       "    <tr>\n",
       "      <th>3</th>\n",
       "      <td>Iris-versicolor</td>\n",
       "      <td>Iris-versicolor</td>\n",
       "    </tr>\n",
       "    <tr>\n",
       "      <th>4</th>\n",
       "      <td>Iris-setosa</td>\n",
       "      <td>Iris-setosa</td>\n",
       "    </tr>\n",
       "    <tr>\n",
       "      <th>5</th>\n",
       "      <td>Iris-versicolor</td>\n",
       "      <td>Iris-versicolor</td>\n",
       "    </tr>\n",
       "    <tr>\n",
       "      <th>6</th>\n",
       "      <td>Iris-versicolor</td>\n",
       "      <td>Iris-versicolor</td>\n",
       "    </tr>\n",
       "    <tr>\n",
       "      <th>7</th>\n",
       "      <td>Iris-virginica</td>\n",
       "      <td>Iris-virginica</td>\n",
       "    </tr>\n",
       "    <tr>\n",
       "      <th>8</th>\n",
       "      <td>Iris-setosa</td>\n",
       "      <td>Iris-setosa</td>\n",
       "    </tr>\n",
       "    <tr>\n",
       "      <th>9</th>\n",
       "      <td>Iris-setosa</td>\n",
       "      <td>Iris-setosa</td>\n",
       "    </tr>\n",
       "    <tr>\n",
       "      <th>10</th>\n",
       "      <td>Iris-virginica</td>\n",
       "      <td>Iris-versicolor</td>\n",
       "    </tr>\n",
       "    <tr>\n",
       "      <th>11</th>\n",
       "      <td>Iris-virginica</td>\n",
       "      <td>Iris-virginica</td>\n",
       "    </tr>\n",
       "    <tr>\n",
       "      <th>12</th>\n",
       "      <td>Iris-setosa</td>\n",
       "      <td>Iris-setosa</td>\n",
       "    </tr>\n",
       "    <tr>\n",
       "      <th>13</th>\n",
       "      <td>Iris-versicolor</td>\n",
       "      <td>Iris-versicolor</td>\n",
       "    </tr>\n",
       "    <tr>\n",
       "      <th>14</th>\n",
       "      <td>Iris-virginica</td>\n",
       "      <td>Iris-virginica</td>\n",
       "    </tr>\n",
       "    <tr>\n",
       "      <th>15</th>\n",
       "      <td>Iris-versicolor</td>\n",
       "      <td>Iris-versicolor</td>\n",
       "    </tr>\n",
       "    <tr>\n",
       "      <th>16</th>\n",
       "      <td>Iris-setosa</td>\n",
       "      <td>Iris-setosa</td>\n",
       "    </tr>\n",
       "    <tr>\n",
       "      <th>17</th>\n",
       "      <td>Iris-virginica</td>\n",
       "      <td>Iris-virginica</td>\n",
       "    </tr>\n",
       "    <tr>\n",
       "      <th>18</th>\n",
       "      <td>Iris-versicolor</td>\n",
       "      <td>Iris-versicolor</td>\n",
       "    </tr>\n",
       "    <tr>\n",
       "      <th>19</th>\n",
       "      <td>Iris-setosa</td>\n",
       "      <td>Iris-setosa</td>\n",
       "    </tr>\n",
       "    <tr>\n",
       "      <th>20</th>\n",
       "      <td>Iris-versicolor</td>\n",
       "      <td>Iris-versicolor</td>\n",
       "    </tr>\n",
       "    <tr>\n",
       "      <th>21</th>\n",
       "      <td>Iris-virginica</td>\n",
       "      <td>Iris-virginica</td>\n",
       "    </tr>\n",
       "    <tr>\n",
       "      <th>22</th>\n",
       "      <td>Iris-setosa</td>\n",
       "      <td>Iris-setosa</td>\n",
       "    </tr>\n",
       "    <tr>\n",
       "      <th>23</th>\n",
       "      <td>Iris-versicolor</td>\n",
       "      <td>Iris-virginica</td>\n",
       "    </tr>\n",
       "    <tr>\n",
       "      <th>24</th>\n",
       "      <td>Iris-setosa</td>\n",
       "      <td>Iris-setosa</td>\n",
       "    </tr>\n",
       "    <tr>\n",
       "      <th>25</th>\n",
       "      <td>Iris-setosa</td>\n",
       "      <td>Iris-setosa</td>\n",
       "    </tr>\n",
       "    <tr>\n",
       "      <th>26</th>\n",
       "      <td>Iris-virginica</td>\n",
       "      <td>Iris-virginica</td>\n",
       "    </tr>\n",
       "    <tr>\n",
       "      <th>27</th>\n",
       "      <td>Iris-virginica</td>\n",
       "      <td>Iris-virginica</td>\n",
       "    </tr>\n",
       "    <tr>\n",
       "      <th>28</th>\n",
       "      <td>Iris-versicolor</td>\n",
       "      <td>Iris-versicolor</td>\n",
       "    </tr>\n",
       "    <tr>\n",
       "      <th>29</th>\n",
       "      <td>Iris-versicolor</td>\n",
       "      <td>Iris-versicolor</td>\n",
       "    </tr>\n",
       "  </tbody>\n",
       "</table>\n",
       "</div>"
      ],
      "text/plain": [
       "             y_test             pred\n",
       "0    Iris-virginica   Iris-virginica\n",
       "1    Iris-virginica   Iris-virginica\n",
       "2   Iris-versicolor  Iris-versicolor\n",
       "3   Iris-versicolor  Iris-versicolor\n",
       "4       Iris-setosa      Iris-setosa\n",
       "5   Iris-versicolor  Iris-versicolor\n",
       "6   Iris-versicolor  Iris-versicolor\n",
       "7    Iris-virginica   Iris-virginica\n",
       "8       Iris-setosa      Iris-setosa\n",
       "9       Iris-setosa      Iris-setosa\n",
       "10   Iris-virginica  Iris-versicolor\n",
       "11   Iris-virginica   Iris-virginica\n",
       "12      Iris-setosa      Iris-setosa\n",
       "13  Iris-versicolor  Iris-versicolor\n",
       "14   Iris-virginica   Iris-virginica\n",
       "15  Iris-versicolor  Iris-versicolor\n",
       "16      Iris-setosa      Iris-setosa\n",
       "17   Iris-virginica   Iris-virginica\n",
       "18  Iris-versicolor  Iris-versicolor\n",
       "19      Iris-setosa      Iris-setosa\n",
       "20  Iris-versicolor  Iris-versicolor\n",
       "21   Iris-virginica   Iris-virginica\n",
       "22      Iris-setosa      Iris-setosa\n",
       "23  Iris-versicolor   Iris-virginica\n",
       "24      Iris-setosa      Iris-setosa\n",
       "25      Iris-setosa      Iris-setosa\n",
       "26   Iris-virginica   Iris-virginica\n",
       "27   Iris-virginica   Iris-virginica\n",
       "28  Iris-versicolor  Iris-versicolor\n",
       "29  Iris-versicolor  Iris-versicolor"
      ]
     },
     "execution_count": 64,
     "metadata": {},
     "output_type": "execute_result"
    }
   ],
   "source": [
    "result=pd.DataFrame(data=[y_test.values,pred],index=[\"y_test\",\"pred\"])\n",
    "result.transpose()"
   ]
  },
  {
   "cell_type": "markdown",
   "id": "08635b19",
   "metadata": {
    "papermill": {
     "duration": 0.028661,
     "end_time": "2023-01-03T03:46:30.435284",
     "exception": false,
     "start_time": "2023-01-03T03:46:30.406623",
     "status": "completed"
    },
    "tags": []
   },
   "source": [
    "## Representing Predictions from the model \"node1\" using correct_sum"
   ]
  },
  {
   "cell_type": "code",
   "execution_count": 65,
   "id": "ae97e344",
   "metadata": {
    "execution": {
     "iopub.execute_input": "2023-01-03T03:46:30.495961Z",
     "iopub.status.busy": "2023-01-03T03:46:30.495553Z",
     "iopub.status.idle": "2023-01-03T03:46:30.551357Z",
     "shell.execute_reply": "2023-01-03T03:46:30.550530Z"
    },
    "papermill": {
     "duration": 0.088413,
     "end_time": "2023-01-03T03:46:30.553518",
     "exception": false,
     "start_time": "2023-01-03T03:46:30.465105",
     "status": "completed"
    },
    "tags": []
   },
   "outputs": [
    {
     "data": {
      "text/plain": [
       "[29, 29, 29, 29, 29, 29, 29, 29, 29, 29, 29, 29, 29, 29, 29, 29, 29, 29, 29]"
      ]
     },
     "execution_count": 65,
     "metadata": {},
     "output_type": "execute_result"
    }
   ],
   "source": [
    "correct_sum=[]\n",
    "for i in range(1,20):\n",
    "    node1=KNeighborsClassifier(n_neighbors=1)\n",
    "    node1.fit(x_train,y_train)\n",
    "    pred=node1.predict(x_test)\n",
    "    correct=np.sum(pred == y_test)\n",
    "    correct_sum.append(correct)\n",
    "correct_sum"
   ]
  },
  {
   "cell_type": "code",
   "execution_count": 66,
   "id": "3d627c77",
   "metadata": {
    "execution": {
     "iopub.execute_input": "2023-01-03T03:46:30.613735Z",
     "iopub.status.busy": "2023-01-03T03:46:30.612631Z",
     "iopub.status.idle": "2023-01-03T03:46:30.628194Z",
     "shell.execute_reply": "2023-01-03T03:46:30.626988Z"
    },
    "papermill": {
     "duration": 0.048179,
     "end_time": "2023-01-03T03:46:30.630849",
     "exception": false,
     "start_time": "2023-01-03T03:46:30.582670",
     "status": "completed"
    },
    "tags": []
   },
   "outputs": [
    {
     "data": {
      "text/html": [
       "<div>\n",
       "<style scoped>\n",
       "    .dataframe tbody tr th:only-of-type {\n",
       "        vertical-align: middle;\n",
       "    }\n",
       "\n",
       "    .dataframe tbody tr th {\n",
       "        vertical-align: top;\n",
       "    }\n",
       "\n",
       "    .dataframe thead th {\n",
       "        text-align: right;\n",
       "    }\n",
       "</style>\n",
       "<table border=\"1\" class=\"dataframe\">\n",
       "  <thead>\n",
       "    <tr style=\"text-align: right;\">\n",
       "      <th></th>\n",
       "      <th>1</th>\n",
       "      <th>2</th>\n",
       "      <th>3</th>\n",
       "      <th>4</th>\n",
       "      <th>5</th>\n",
       "      <th>6</th>\n",
       "      <th>7</th>\n",
       "      <th>8</th>\n",
       "      <th>9</th>\n",
       "      <th>10</th>\n",
       "      <th>11</th>\n",
       "      <th>12</th>\n",
       "      <th>13</th>\n",
       "      <th>14</th>\n",
       "      <th>15</th>\n",
       "      <th>16</th>\n",
       "      <th>17</th>\n",
       "      <th>18</th>\n",
       "      <th>19</th>\n",
       "    </tr>\n",
       "  </thead>\n",
       "  <tbody>\n",
       "    <tr>\n",
       "      <th>0</th>\n",
       "      <td>29</td>\n",
       "      <td>29</td>\n",
       "      <td>29</td>\n",
       "      <td>29</td>\n",
       "      <td>29</td>\n",
       "      <td>29</td>\n",
       "      <td>29</td>\n",
       "      <td>29</td>\n",
       "      <td>29</td>\n",
       "      <td>29</td>\n",
       "      <td>29</td>\n",
       "      <td>29</td>\n",
       "      <td>29</td>\n",
       "      <td>29</td>\n",
       "      <td>29</td>\n",
       "      <td>29</td>\n",
       "      <td>29</td>\n",
       "      <td>29</td>\n",
       "      <td>29</td>\n",
       "    </tr>\n",
       "  </tbody>\n",
       "</table>\n",
       "</div>"
      ],
      "text/plain": [
       "   1   2   3   4   5   6   7   8   9   10  11  12  13  14  15  16  17  18  19\n",
       "0  29  29  29  29  29  29  29  29  29  29  29  29  29  29  29  29  29  29  29"
      ]
     },
     "execution_count": 66,
     "metadata": {},
     "output_type": "execute_result"
    }
   ],
   "source": [
    "result=pd.DataFrame(data=correct_sum)\n",
    "result.index=result.index+1\n",
    "result.T"
   ]
  },
  {
   "cell_type": "code",
   "execution_count": null,
   "id": "3e19e3c9",
   "metadata": {
    "papermill": {
     "duration": 0.028659,
     "end_time": "2023-01-03T03:46:30.688599",
     "exception": false,
     "start_time": "2023-01-03T03:46:30.659940",
     "status": "completed"
    },
    "tags": []
   },
   "outputs": [],
   "source": []
  }
 ],
 "metadata": {
  "kernelspec": {
   "display_name": "Python 3",
   "language": "python",
   "name": "python3"
  },
  "language_info": {
   "codemirror_mode": {
    "name": "ipython",
    "version": 3
   },
   "file_extension": ".py",
   "mimetype": "text/x-python",
   "name": "python",
   "nbconvert_exporter": "python",
   "pygments_lexer": "ipython3",
   "version": "3.7.12"
  },
  "papermill": {
   "default_parameters": {},
   "duration": 17.878266,
   "end_time": "2023-01-03T03:46:31.545462",
   "environment_variables": {},
   "exception": null,
   "input_path": "__notebook__.ipynb",
   "output_path": "__notebook__.ipynb",
   "parameters": {},
   "start_time": "2023-01-03T03:46:13.667196",
   "version": "2.3.4"
  }
 },
 "nbformat": 4,
 "nbformat_minor": 5
}
