{
 "cells": [
  {
   "cell_type": "markdown",
   "id": "751fb493",
   "metadata": {
    "papermill": {
     "duration": 0.023095,
     "end_time": "2023-02-11T13:56:45.338853",
     "exception": false,
     "start_time": "2023-02-11T13:56:45.315758",
     "status": "completed"
    },
    "tags": []
   },
   "source": [
    "# EXPLORATORY DATA ANALYSIS"
   ]
  },
  {
   "cell_type": "markdown",
   "id": "62d9a340",
   "metadata": {
    "papermill": {
     "duration": 0.018366,
     "end_time": "2023-02-11T13:56:45.376316",
     "exception": false,
     "start_time": "2023-02-11T13:56:45.357950",
     "status": "completed"
    },
    "tags": []
   },
   "source": [
    "\n",
    "- Used to understand a company's shortcomings(done after every financial quarter)\n",
    "\n",
    "### Why is it done?\n",
    "* better understanding \n",
    "* identifying data patterns \n",
    "* getting better understand if problem statement\n",
    "* improvement in sales, customer targeting , reduces costs\n",
    "* allows creation of better problem-solving strategies"
   ]
  },
  {
   "cell_type": "markdown",
   "id": "6543ed03",
   "metadata": {
    "papermill": {
     "duration": 0.018095,
     "end_time": "2023-02-11T13:56:45.413484",
     "exception": false,
     "start_time": "2023-02-11T13:56:45.395389",
     "status": "completed"
    },
    "tags": []
   },
   "source": [
    "# How is EDA done?"
   ]
  },
  {
   "cell_type": "markdown",
   "id": "6953f46e",
   "metadata": {
    "papermill": {
     "duration": 0.018243,
     "end_time": "2023-02-11T13:56:45.450222",
     "exception": false,
     "start_time": "2023-02-11T13:56:45.431979",
     "status": "completed"
    },
    "tags": []
   },
   "source": [
    "### Iris Dataset\n",
    "* \"Hello world\" of Data Science\n",
    "* 5 Columns\n",
    "    1. Species Type\n",
    "    2. Sepal length\n",
    "    3. Sepal Width\n",
    "    4. Petal Length\n",
    "    5. Petal width\n"
   ]
  },
  {
   "cell_type": "code",
   "execution_count": 1,
   "id": "7e969bc4",
   "metadata": {
    "execution": {
     "iopub.execute_input": "2023-02-11T13:56:45.491442Z",
     "iopub.status.busy": "2023-02-11T13:56:45.490681Z",
     "iopub.status.idle": "2023-02-11T13:56:45.501290Z",
     "shell.execute_reply": "2023-02-11T13:56:45.500281Z"
    },
    "papermill": {
     "duration": 0.035455,
     "end_time": "2023-02-11T13:56:45.504356",
     "exception": false,
     "start_time": "2023-02-11T13:56:45.468901",
     "status": "completed"
    },
    "tags": []
   },
   "outputs": [],
   "source": [
    "import pandas as pd"
   ]
  },
  {
   "cell_type": "markdown",
   "id": "cfba385c",
   "metadata": {
    "papermill": {
     "duration": 0.026646,
     "end_time": "2023-02-11T13:56:45.557265",
     "exception": false,
     "start_time": "2023-02-11T13:56:45.530619",
     "status": "completed"
    },
    "tags": []
   },
   "source": [
    "**Conversion of csv files into Dataframes**"
   ]
  },
  {
   "cell_type": "code",
   "execution_count": 2,
   "id": "43cd9418",
   "metadata": {
    "execution": {
     "iopub.execute_input": "2023-02-11T13:56:45.599233Z",
     "iopub.status.busy": "2023-02-11T13:56:45.597966Z",
     "iopub.status.idle": "2023-02-11T13:56:45.622570Z",
     "shell.execute_reply": "2023-02-11T13:56:45.621240Z"
    },
    "papermill": {
     "duration": 0.049477,
     "end_time": "2023-02-11T13:56:45.626220",
     "exception": false,
     "start_time": "2023-02-11T13:56:45.576743",
     "status": "completed"
    },
    "tags": []
   },
   "outputs": [],
   "source": [
    "irisdf=pd.read_csv('/kaggle/input/irisflowerdatasets/IRIS.csv')"
   ]
  },
  {
   "cell_type": "code",
   "execution_count": 3,
   "id": "b08f6323",
   "metadata": {
    "execution": {
     "iopub.execute_input": "2023-02-11T13:56:45.677975Z",
     "iopub.status.busy": "2023-02-11T13:56:45.677470Z",
     "iopub.status.idle": "2023-02-11T13:56:45.689828Z",
     "shell.execute_reply": "2023-02-11T13:56:45.688742Z"
    },
    "papermill": {
     "duration": 0.037584,
     "end_time": "2023-02-11T13:56:45.692201",
     "exception": false,
     "start_time": "2023-02-11T13:56:45.654617",
     "status": "completed"
    },
    "tags": []
   },
   "outputs": [],
   "source": [
    "iris1df=pd.read_csv('/kaggle/input/irisflowerdatasets/IRIS1.csv')"
   ]
  },
  {
   "cell_type": "markdown",
   "id": "2bdc751a",
   "metadata": {
    "papermill": {
     "duration": 0.018862,
     "end_time": "2023-02-11T13:56:45.730280",
     "exception": false,
     "start_time": "2023-02-11T13:56:45.711418",
     "status": "completed"
    },
    "tags": []
   },
   "source": [
    "**Basic Operations**"
   ]
  },
  {
   "cell_type": "markdown",
   "id": "dcc843cb",
   "metadata": {
    "papermill": {
     "duration": 0.026955,
     "end_time": "2023-02-11T13:56:45.779598",
     "exception": false,
     "start_time": "2023-02-11T13:56:45.752643",
     "status": "completed"
    },
    "tags": []
   },
   "source": [
    "**1.Head() and Tail()**"
   ]
  },
  {
   "cell_type": "code",
   "execution_count": 4,
   "id": "cdc661bf",
   "metadata": {
    "execution": {
     "iopub.execute_input": "2023-02-11T13:56:45.820846Z",
     "iopub.status.busy": "2023-02-11T13:56:45.819960Z",
     "iopub.status.idle": "2023-02-11T13:56:45.852791Z",
     "shell.execute_reply": "2023-02-11T13:56:45.851669Z"
    },
    "papermill": {
     "duration": 0.056067,
     "end_time": "2023-02-11T13:56:45.855043",
     "exception": false,
     "start_time": "2023-02-11T13:56:45.798976",
     "status": "completed"
    },
    "tags": []
   },
   "outputs": [
    {
     "data": {
      "text/html": [
       "<div>\n",
       "<style scoped>\n",
       "    .dataframe tbody tr th:only-of-type {\n",
       "        vertical-align: middle;\n",
       "    }\n",
       "\n",
       "    .dataframe tbody tr th {\n",
       "        vertical-align: top;\n",
       "    }\n",
       "\n",
       "    .dataframe thead th {\n",
       "        text-align: right;\n",
       "    }\n",
       "</style>\n",
       "<table border=\"1\" class=\"dataframe\">\n",
       "  <thead>\n",
       "    <tr style=\"text-align: right;\">\n",
       "      <th></th>\n",
       "      <th>sepal_length</th>\n",
       "      <th>sepal_width</th>\n",
       "      <th>petal_length</th>\n",
       "      <th>petal_width</th>\n",
       "      <th>species</th>\n",
       "    </tr>\n",
       "  </thead>\n",
       "  <tbody>\n",
       "    <tr>\n",
       "      <th>0</th>\n",
       "      <td>5.1</td>\n",
       "      <td>3.5</td>\n",
       "      <td>1.4</td>\n",
       "      <td>0.2</td>\n",
       "      <td>Iris-setosa</td>\n",
       "    </tr>\n",
       "    <tr>\n",
       "      <th>1</th>\n",
       "      <td>4.9</td>\n",
       "      <td>3.0</td>\n",
       "      <td>1.4</td>\n",
       "      <td>0.2</td>\n",
       "      <td>Iris-setosa</td>\n",
       "    </tr>\n",
       "    <tr>\n",
       "      <th>2</th>\n",
       "      <td>4.7</td>\n",
       "      <td>3.2</td>\n",
       "      <td>1.3</td>\n",
       "      <td>0.2</td>\n",
       "      <td>Iris-setosa</td>\n",
       "    </tr>\n",
       "    <tr>\n",
       "      <th>3</th>\n",
       "      <td>4.6</td>\n",
       "      <td>3.1</td>\n",
       "      <td>1.5</td>\n",
       "      <td>0.2</td>\n",
       "      <td>Iris-setosa</td>\n",
       "    </tr>\n",
       "    <tr>\n",
       "      <th>4</th>\n",
       "      <td>5.0</td>\n",
       "      <td>3.6</td>\n",
       "      <td>1.4</td>\n",
       "      <td>0.2</td>\n",
       "      <td>Iris-setosa</td>\n",
       "    </tr>\n",
       "    <tr>\n",
       "      <th>5</th>\n",
       "      <td>5.4</td>\n",
       "      <td>3.9</td>\n",
       "      <td>1.7</td>\n",
       "      <td>0.4</td>\n",
       "      <td>Iris-setosa</td>\n",
       "    </tr>\n",
       "    <tr>\n",
       "      <th>6</th>\n",
       "      <td>4.6</td>\n",
       "      <td>3.4</td>\n",
       "      <td>1.4</td>\n",
       "      <td>0.3</td>\n",
       "      <td>Iris-setosa</td>\n",
       "    </tr>\n",
       "    <tr>\n",
       "      <th>7</th>\n",
       "      <td>5.0</td>\n",
       "      <td>3.4</td>\n",
       "      <td>1.5</td>\n",
       "      <td>0.2</td>\n",
       "      <td>Iris-setosa</td>\n",
       "    </tr>\n",
       "    <tr>\n",
       "      <th>8</th>\n",
       "      <td>4.4</td>\n",
       "      <td>2.9</td>\n",
       "      <td>1.4</td>\n",
       "      <td>0.2</td>\n",
       "      <td>Iris-setosa</td>\n",
       "    </tr>\n",
       "    <tr>\n",
       "      <th>9</th>\n",
       "      <td>4.9</td>\n",
       "      <td>3.1</td>\n",
       "      <td>1.5</td>\n",
       "      <td>0.1</td>\n",
       "      <td>Iris-setosa</td>\n",
       "    </tr>\n",
       "  </tbody>\n",
       "</table>\n",
       "</div>"
      ],
      "text/plain": [
       "   sepal_length  sepal_width  petal_length  petal_width      species\n",
       "0           5.1          3.5           1.4          0.2  Iris-setosa\n",
       "1           4.9          3.0           1.4          0.2  Iris-setosa\n",
       "2           4.7          3.2           1.3          0.2  Iris-setosa\n",
       "3           4.6          3.1           1.5          0.2  Iris-setosa\n",
       "4           5.0          3.6           1.4          0.2  Iris-setosa\n",
       "5           5.4          3.9           1.7          0.4  Iris-setosa\n",
       "6           4.6          3.4           1.4          0.3  Iris-setosa\n",
       "7           5.0          3.4           1.5          0.2  Iris-setosa\n",
       "8           4.4          2.9           1.4          0.2  Iris-setosa\n",
       "9           4.9          3.1           1.5          0.1  Iris-setosa"
      ]
     },
     "execution_count": 4,
     "metadata": {},
     "output_type": "execute_result"
    }
   ],
   "source": [
    "irisdf.head(10)"
   ]
  },
  {
   "cell_type": "code",
   "execution_count": 5,
   "id": "7cd73ee0",
   "metadata": {
    "execution": {
     "iopub.execute_input": "2023-02-11T13:56:45.900491Z",
     "iopub.status.busy": "2023-02-11T13:56:45.899327Z",
     "iopub.status.idle": "2023-02-11T13:56:45.914752Z",
     "shell.execute_reply": "2023-02-11T13:56:45.913968Z"
    },
    "papermill": {
     "duration": 0.042863,
     "end_time": "2023-02-11T13:56:45.918118",
     "exception": false,
     "start_time": "2023-02-11T13:56:45.875255",
     "status": "completed"
    },
    "tags": []
   },
   "outputs": [
    {
     "data": {
      "text/html": [
       "<div>\n",
       "<style scoped>\n",
       "    .dataframe tbody tr th:only-of-type {\n",
       "        vertical-align: middle;\n",
       "    }\n",
       "\n",
       "    .dataframe tbody tr th {\n",
       "        vertical-align: top;\n",
       "    }\n",
       "\n",
       "    .dataframe thead th {\n",
       "        text-align: right;\n",
       "    }\n",
       "</style>\n",
       "<table border=\"1\" class=\"dataframe\">\n",
       "  <thead>\n",
       "    <tr style=\"text-align: right;\">\n",
       "      <th></th>\n",
       "      <th>sepal_length</th>\n",
       "      <th>sepal_width</th>\n",
       "      <th>petal_length</th>\n",
       "      <th>petal_width</th>\n",
       "      <th>species</th>\n",
       "    </tr>\n",
       "  </thead>\n",
       "  <tbody>\n",
       "    <tr>\n",
       "      <th>145</th>\n",
       "      <td>6.7</td>\n",
       "      <td>3.0</td>\n",
       "      <td>5.2</td>\n",
       "      <td>2.3</td>\n",
       "      <td>Iris-virginica</td>\n",
       "    </tr>\n",
       "    <tr>\n",
       "      <th>146</th>\n",
       "      <td>6.3</td>\n",
       "      <td>2.5</td>\n",
       "      <td>5.0</td>\n",
       "      <td>1.9</td>\n",
       "      <td>Iris-virginica</td>\n",
       "    </tr>\n",
       "    <tr>\n",
       "      <th>147</th>\n",
       "      <td>6.5</td>\n",
       "      <td>3.0</td>\n",
       "      <td>5.2</td>\n",
       "      <td>2.0</td>\n",
       "      <td>Iris-virginica</td>\n",
       "    </tr>\n",
       "    <tr>\n",
       "      <th>148</th>\n",
       "      <td>6.2</td>\n",
       "      <td>3.4</td>\n",
       "      <td>5.4</td>\n",
       "      <td>2.3</td>\n",
       "      <td>Iris-virginica</td>\n",
       "    </tr>\n",
       "    <tr>\n",
       "      <th>149</th>\n",
       "      <td>5.9</td>\n",
       "      <td>3.0</td>\n",
       "      <td>5.1</td>\n",
       "      <td>1.8</td>\n",
       "      <td>Iris-virginica</td>\n",
       "    </tr>\n",
       "  </tbody>\n",
       "</table>\n",
       "</div>"
      ],
      "text/plain": [
       "     sepal_length  sepal_width  petal_length  petal_width         species\n",
       "145           6.7          3.0           5.2          2.3  Iris-virginica\n",
       "146           6.3          2.5           5.0          1.9  Iris-virginica\n",
       "147           6.5          3.0           5.2          2.0  Iris-virginica\n",
       "148           6.2          3.4           5.4          2.3  Iris-virginica\n",
       "149           5.9          3.0           5.1          1.8  Iris-virginica"
      ]
     },
     "execution_count": 5,
     "metadata": {},
     "output_type": "execute_result"
    }
   ],
   "source": [
    "irisdf.tail()"
   ]
  },
  {
   "cell_type": "code",
   "execution_count": 6,
   "id": "6c0fc524",
   "metadata": {
    "execution": {
     "iopub.execute_input": "2023-02-11T13:56:45.962551Z",
     "iopub.status.busy": "2023-02-11T13:56:45.961621Z",
     "iopub.status.idle": "2023-02-11T13:56:45.979909Z",
     "shell.execute_reply": "2023-02-11T13:56:45.978912Z"
    },
    "papermill": {
     "duration": 0.041825,
     "end_time": "2023-02-11T13:56:45.981995",
     "exception": false,
     "start_time": "2023-02-11T13:56:45.940170",
     "status": "completed"
    },
    "tags": []
   },
   "outputs": [
    {
     "data": {
      "text/html": [
       "<div>\n",
       "<style scoped>\n",
       "    .dataframe tbody tr th:only-of-type {\n",
       "        vertical-align: middle;\n",
       "    }\n",
       "\n",
       "    .dataframe tbody tr th {\n",
       "        vertical-align: top;\n",
       "    }\n",
       "\n",
       "    .dataframe thead th {\n",
       "        text-align: right;\n",
       "    }\n",
       "</style>\n",
       "<table border=\"1\" class=\"dataframe\">\n",
       "  <thead>\n",
       "    <tr style=\"text-align: right;\">\n",
       "      <th></th>\n",
       "      <th>sepal_length</th>\n",
       "      <th>sepal_width</th>\n",
       "      <th>petal_length</th>\n",
       "      <th>petal_width</th>\n",
       "      <th>species</th>\n",
       "    </tr>\n",
       "  </thead>\n",
       "  <tbody>\n",
       "    <tr>\n",
       "      <th>0</th>\n",
       "      <td>5.1</td>\n",
       "      <td>3.5</td>\n",
       "      <td>1.4</td>\n",
       "      <td>0.2</td>\n",
       "      <td>Iris-setosa</td>\n",
       "    </tr>\n",
       "    <tr>\n",
       "      <th>1</th>\n",
       "      <td>4.9</td>\n",
       "      <td>3.0</td>\n",
       "      <td>NaN</td>\n",
       "      <td>0.2</td>\n",
       "      <td>Iris-setosa</td>\n",
       "    </tr>\n",
       "    <tr>\n",
       "      <th>2</th>\n",
       "      <td>4.7</td>\n",
       "      <td>3.2</td>\n",
       "      <td>1.3</td>\n",
       "      <td>0.2</td>\n",
       "      <td>Iris-setosa</td>\n",
       "    </tr>\n",
       "    <tr>\n",
       "      <th>3</th>\n",
       "      <td>4.6</td>\n",
       "      <td>3.1</td>\n",
       "      <td>1.5</td>\n",
       "      <td>0.2</td>\n",
       "      <td>NaN</td>\n",
       "    </tr>\n",
       "    <tr>\n",
       "      <th>4</th>\n",
       "      <td>5.0</td>\n",
       "      <td>3.6</td>\n",
       "      <td>1.4</td>\n",
       "      <td>0.2</td>\n",
       "      <td>Iris-setosa</td>\n",
       "    </tr>\n",
       "    <tr>\n",
       "      <th>5</th>\n",
       "      <td>5.4</td>\n",
       "      <td>3.9</td>\n",
       "      <td>1.7</td>\n",
       "      <td>0.4</td>\n",
       "      <td>Iris-setosa</td>\n",
       "    </tr>\n",
       "    <tr>\n",
       "      <th>6</th>\n",
       "      <td>4.6</td>\n",
       "      <td>3.4</td>\n",
       "      <td>1.4</td>\n",
       "      <td>0.3</td>\n",
       "      <td>Iris-setosa</td>\n",
       "    </tr>\n",
       "    <tr>\n",
       "      <th>7</th>\n",
       "      <td>5.0</td>\n",
       "      <td>3.4</td>\n",
       "      <td>1.5</td>\n",
       "      <td>NaN</td>\n",
       "      <td>Iris-setosa</td>\n",
       "    </tr>\n",
       "    <tr>\n",
       "      <th>8</th>\n",
       "      <td>4.4</td>\n",
       "      <td>2.9</td>\n",
       "      <td>1.4</td>\n",
       "      <td>0.2</td>\n",
       "      <td>Iris-setosa</td>\n",
       "    </tr>\n",
       "    <tr>\n",
       "      <th>9</th>\n",
       "      <td>4.9</td>\n",
       "      <td>3.1</td>\n",
       "      <td>NaN</td>\n",
       "      <td>0.1</td>\n",
       "      <td>Iris-setosa</td>\n",
       "    </tr>\n",
       "  </tbody>\n",
       "</table>\n",
       "</div>"
      ],
      "text/plain": [
       "   sepal_length  sepal_width  petal_length  petal_width      species\n",
       "0           5.1          3.5           1.4          0.2  Iris-setosa\n",
       "1           4.9          3.0           NaN          0.2  Iris-setosa\n",
       "2           4.7          3.2           1.3          0.2  Iris-setosa\n",
       "3           4.6          3.1           1.5          0.2          NaN\n",
       "4           5.0          3.6           1.4          0.2  Iris-setosa\n",
       "5           5.4          3.9           1.7          0.4  Iris-setosa\n",
       "6           4.6          3.4           1.4          0.3  Iris-setosa\n",
       "7           5.0          3.4           1.5          NaN  Iris-setosa\n",
       "8           4.4          2.9           1.4          0.2  Iris-setosa\n",
       "9           4.9          3.1           NaN          0.1  Iris-setosa"
      ]
     },
     "execution_count": 6,
     "metadata": {},
     "output_type": "execute_result"
    }
   ],
   "source": [
    "iris1df.head(10)"
   ]
  },
  {
   "cell_type": "code",
   "execution_count": 7,
   "id": "7938c576",
   "metadata": {
    "execution": {
     "iopub.execute_input": "2023-02-11T13:56:46.024077Z",
     "iopub.status.busy": "2023-02-11T13:56:46.023217Z",
     "iopub.status.idle": "2023-02-11T13:56:46.043990Z",
     "shell.execute_reply": "2023-02-11T13:56:46.043238Z"
    },
    "papermill": {
     "duration": 0.044787,
     "end_time": "2023-02-11T13:56:46.046625",
     "exception": false,
     "start_time": "2023-02-11T13:56:46.001838",
     "status": "completed"
    },
    "tags": []
   },
   "outputs": [
    {
     "data": {
      "text/html": [
       "<div>\n",
       "<style scoped>\n",
       "    .dataframe tbody tr th:only-of-type {\n",
       "        vertical-align: middle;\n",
       "    }\n",
       "\n",
       "    .dataframe tbody tr th {\n",
       "        vertical-align: top;\n",
       "    }\n",
       "\n",
       "    .dataframe thead th {\n",
       "        text-align: right;\n",
       "    }\n",
       "</style>\n",
       "<table border=\"1\" class=\"dataframe\">\n",
       "  <thead>\n",
       "    <tr style=\"text-align: right;\">\n",
       "      <th></th>\n",
       "      <th>sepal_length</th>\n",
       "      <th>sepal_width</th>\n",
       "      <th>petal_length</th>\n",
       "      <th>petal_width</th>\n",
       "      <th>species</th>\n",
       "    </tr>\n",
       "  </thead>\n",
       "  <tbody>\n",
       "    <tr>\n",
       "      <th>130</th>\n",
       "      <td>7.4</td>\n",
       "      <td>2.8</td>\n",
       "      <td>6.1</td>\n",
       "      <td>1.9</td>\n",
       "      <td>Iris-virginica</td>\n",
       "    </tr>\n",
       "    <tr>\n",
       "      <th>131</th>\n",
       "      <td>7.9</td>\n",
       "      <td>3.8</td>\n",
       "      <td>6.4</td>\n",
       "      <td>2.0</td>\n",
       "      <td>Iris-virginica</td>\n",
       "    </tr>\n",
       "    <tr>\n",
       "      <th>132</th>\n",
       "      <td>6.4</td>\n",
       "      <td>2.8</td>\n",
       "      <td>NaN</td>\n",
       "      <td>2.2</td>\n",
       "      <td>Iris-virginica</td>\n",
       "    </tr>\n",
       "    <tr>\n",
       "      <th>133</th>\n",
       "      <td>6.3</td>\n",
       "      <td>2.8</td>\n",
       "      <td>5.1</td>\n",
       "      <td>1.5</td>\n",
       "      <td>Iris-virginica</td>\n",
       "    </tr>\n",
       "    <tr>\n",
       "      <th>134</th>\n",
       "      <td>6.1</td>\n",
       "      <td>2.6</td>\n",
       "      <td>5.6</td>\n",
       "      <td>1.4</td>\n",
       "      <td>Iris-virginica</td>\n",
       "    </tr>\n",
       "    <tr>\n",
       "      <th>135</th>\n",
       "      <td>7.7</td>\n",
       "      <td>3.0</td>\n",
       "      <td>6.1</td>\n",
       "      <td>2.3</td>\n",
       "      <td>Iris-virginica</td>\n",
       "    </tr>\n",
       "    <tr>\n",
       "      <th>136</th>\n",
       "      <td>6.3</td>\n",
       "      <td>3.4</td>\n",
       "      <td>5.6</td>\n",
       "      <td>2.4</td>\n",
       "      <td>Iris-virginica</td>\n",
       "    </tr>\n",
       "    <tr>\n",
       "      <th>137</th>\n",
       "      <td>6.4</td>\n",
       "      <td>3.1</td>\n",
       "      <td>5.5</td>\n",
       "      <td>1.8</td>\n",
       "      <td>Iris-virginica</td>\n",
       "    </tr>\n",
       "    <tr>\n",
       "      <th>138</th>\n",
       "      <td>NaN</td>\n",
       "      <td>4.8</td>\n",
       "      <td>1.8</td>\n",
       "      <td>NaN</td>\n",
       "      <td>NaN</td>\n",
       "    </tr>\n",
       "    <tr>\n",
       "      <th>139</th>\n",
       "      <td>6.9</td>\n",
       "      <td>3.1</td>\n",
       "      <td>5.4</td>\n",
       "      <td>2.1</td>\n",
       "      <td>Iris-virginica</td>\n",
       "    </tr>\n",
       "    <tr>\n",
       "      <th>140</th>\n",
       "      <td>6.7</td>\n",
       "      <td>3.1</td>\n",
       "      <td>5.6</td>\n",
       "      <td>2.4</td>\n",
       "      <td>Iris-virginica</td>\n",
       "    </tr>\n",
       "    <tr>\n",
       "      <th>141</th>\n",
       "      <td>NaN</td>\n",
       "      <td>3.1</td>\n",
       "      <td>5.1</td>\n",
       "      <td>2.3</td>\n",
       "      <td>Iris-virginica</td>\n",
       "    </tr>\n",
       "    <tr>\n",
       "      <th>142</th>\n",
       "      <td>5.8</td>\n",
       "      <td>2.7</td>\n",
       "      <td>5.1</td>\n",
       "      <td>1.9</td>\n",
       "      <td>Iris-virginica</td>\n",
       "    </tr>\n",
       "    <tr>\n",
       "      <th>143</th>\n",
       "      <td>6.8</td>\n",
       "      <td>3.2</td>\n",
       "      <td>5.9</td>\n",
       "      <td>2.3</td>\n",
       "      <td>Iris-virginica</td>\n",
       "    </tr>\n",
       "    <tr>\n",
       "      <th>144</th>\n",
       "      <td>6.7</td>\n",
       "      <td>NaN</td>\n",
       "      <td>5.7</td>\n",
       "      <td>2.5</td>\n",
       "      <td>Iris-virginica</td>\n",
       "    </tr>\n",
       "    <tr>\n",
       "      <th>145</th>\n",
       "      <td>6.7</td>\n",
       "      <td>3.0</td>\n",
       "      <td>5.2</td>\n",
       "      <td>2.3</td>\n",
       "      <td>Iris-virginica</td>\n",
       "    </tr>\n",
       "    <tr>\n",
       "      <th>146</th>\n",
       "      <td>6.3</td>\n",
       "      <td>2.5</td>\n",
       "      <td>NaN</td>\n",
       "      <td>1.9</td>\n",
       "      <td>Iris-virginica</td>\n",
       "    </tr>\n",
       "    <tr>\n",
       "      <th>147</th>\n",
       "      <td>6.5</td>\n",
       "      <td>3.0</td>\n",
       "      <td>5.2</td>\n",
       "      <td>2.0</td>\n",
       "      <td>NaN</td>\n",
       "    </tr>\n",
       "    <tr>\n",
       "      <th>148</th>\n",
       "      <td>6.2</td>\n",
       "      <td>3.4</td>\n",
       "      <td>5.4</td>\n",
       "      <td>2.3</td>\n",
       "      <td>Iris-virginica</td>\n",
       "    </tr>\n",
       "    <tr>\n",
       "      <th>149</th>\n",
       "      <td>5.9</td>\n",
       "      <td>3.0</td>\n",
       "      <td>NaN</td>\n",
       "      <td>1.8</td>\n",
       "      <td>Iris-virginica</td>\n",
       "    </tr>\n",
       "  </tbody>\n",
       "</table>\n",
       "</div>"
      ],
      "text/plain": [
       "     sepal_length  sepal_width  petal_length  petal_width         species\n",
       "130           7.4          2.8           6.1          1.9  Iris-virginica\n",
       "131           7.9          3.8           6.4          2.0  Iris-virginica\n",
       "132           6.4          2.8           NaN          2.2  Iris-virginica\n",
       "133           6.3          2.8           5.1          1.5  Iris-virginica\n",
       "134           6.1          2.6           5.6          1.4  Iris-virginica\n",
       "135           7.7          3.0           6.1          2.3  Iris-virginica\n",
       "136           6.3          3.4           5.6          2.4  Iris-virginica\n",
       "137           6.4          3.1           5.5          1.8  Iris-virginica\n",
       "138           NaN          4.8           1.8          NaN             NaN\n",
       "139           6.9          3.1           5.4          2.1  Iris-virginica\n",
       "140           6.7          3.1           5.6          2.4  Iris-virginica\n",
       "141           NaN          3.1           5.1          2.3  Iris-virginica\n",
       "142           5.8          2.7           5.1          1.9  Iris-virginica\n",
       "143           6.8          3.2           5.9          2.3  Iris-virginica\n",
       "144           6.7          NaN           5.7          2.5  Iris-virginica\n",
       "145           6.7          3.0           5.2          2.3  Iris-virginica\n",
       "146           6.3          2.5           NaN          1.9  Iris-virginica\n",
       "147           6.5          3.0           5.2          2.0             NaN\n",
       "148           6.2          3.4           5.4          2.3  Iris-virginica\n",
       "149           5.9          3.0           NaN          1.8  Iris-virginica"
      ]
     },
     "execution_count": 7,
     "metadata": {},
     "output_type": "execute_result"
    }
   ],
   "source": [
    "iris1df.tail(20)"
   ]
  },
  {
   "cell_type": "markdown",
   "id": "5f9f572e",
   "metadata": {
    "papermill": {
     "duration": 0.019814,
     "end_time": "2023-02-11T13:56:46.090877",
     "exception": false,
     "start_time": "2023-02-11T13:56:46.071063",
     "status": "completed"
    },
    "tags": []
   },
   "source": [
    "# shape of data\n",
    "**2. shape**"
   ]
  },
  {
   "cell_type": "code",
   "execution_count": 8,
   "id": "87e5dd0c",
   "metadata": {
    "execution": {
     "iopub.execute_input": "2023-02-11T13:56:46.133868Z",
     "iopub.status.busy": "2023-02-11T13:56:46.132932Z",
     "iopub.status.idle": "2023-02-11T13:56:46.140053Z",
     "shell.execute_reply": "2023-02-11T13:56:46.139046Z"
    },
    "papermill": {
     "duration": 0.035195,
     "end_time": "2023-02-11T13:56:46.146230",
     "exception": false,
     "start_time": "2023-02-11T13:56:46.111035",
     "status": "completed"
    },
    "tags": []
   },
   "outputs": [
    {
     "data": {
      "text/plain": [
       "(150, 5)"
      ]
     },
     "execution_count": 8,
     "metadata": {},
     "output_type": "execute_result"
    }
   ],
   "source": [
    "#shape\n",
    "irisdf.shape"
   ]
  },
  {
   "cell_type": "code",
   "execution_count": 9,
   "id": "cb5f3725",
   "metadata": {
    "execution": {
     "iopub.execute_input": "2023-02-11T13:56:46.210364Z",
     "iopub.status.busy": "2023-02-11T13:56:46.209864Z",
     "iopub.status.idle": "2023-02-11T13:56:46.218538Z",
     "shell.execute_reply": "2023-02-11T13:56:46.217558Z"
    },
    "papermill": {
     "duration": 0.044111,
     "end_time": "2023-02-11T13:56:46.221277",
     "exception": false,
     "start_time": "2023-02-11T13:56:46.177166",
     "status": "completed"
    },
    "tags": []
   },
   "outputs": [
    {
     "data": {
      "text/plain": [
       "(150, 5)"
      ]
     },
     "execution_count": 9,
     "metadata": {},
     "output_type": "execute_result"
    }
   ],
   "source": [
    "#shape\n",
    "iris1df.shape"
   ]
  },
  {
   "cell_type": "markdown",
   "id": "dae677ad",
   "metadata": {
    "papermill": {
     "duration": 0.02055,
     "end_time": "2023-02-11T13:56:46.269180",
     "exception": false,
     "start_time": "2023-02-11T13:56:46.248630",
     "status": "completed"
    },
    "tags": []
   },
   "source": [
    "**3. Describe() and Info()**"
   ]
  },
  {
   "cell_type": "code",
   "execution_count": 10,
   "id": "32992674",
   "metadata": {
    "execution": {
     "iopub.execute_input": "2023-02-11T13:56:46.313408Z",
     "iopub.status.busy": "2023-02-11T13:56:46.312474Z",
     "iopub.status.idle": "2023-02-11T13:56:46.350065Z",
     "shell.execute_reply": "2023-02-11T13:56:46.348901Z"
    },
    "papermill": {
     "duration": 0.062545,
     "end_time": "2023-02-11T13:56:46.352519",
     "exception": false,
     "start_time": "2023-02-11T13:56:46.289974",
     "status": "completed"
    },
    "tags": []
   },
   "outputs": [
    {
     "data": {
      "text/html": [
       "<div>\n",
       "<style scoped>\n",
       "    .dataframe tbody tr th:only-of-type {\n",
       "        vertical-align: middle;\n",
       "    }\n",
       "\n",
       "    .dataframe tbody tr th {\n",
       "        vertical-align: top;\n",
       "    }\n",
       "\n",
       "    .dataframe thead th {\n",
       "        text-align: right;\n",
       "    }\n",
       "</style>\n",
       "<table border=\"1\" class=\"dataframe\">\n",
       "  <thead>\n",
       "    <tr style=\"text-align: right;\">\n",
       "      <th></th>\n",
       "      <th>sepal_length</th>\n",
       "      <th>sepal_width</th>\n",
       "      <th>petal_length</th>\n",
       "      <th>petal_width</th>\n",
       "    </tr>\n",
       "  </thead>\n",
       "  <tbody>\n",
       "    <tr>\n",
       "      <th>count</th>\n",
       "      <td>150.000000</td>\n",
       "      <td>150.000000</td>\n",
       "      <td>150.000000</td>\n",
       "      <td>150.000000</td>\n",
       "    </tr>\n",
       "    <tr>\n",
       "      <th>mean</th>\n",
       "      <td>5.843333</td>\n",
       "      <td>3.054000</td>\n",
       "      <td>3.758667</td>\n",
       "      <td>1.198667</td>\n",
       "    </tr>\n",
       "    <tr>\n",
       "      <th>std</th>\n",
       "      <td>0.828066</td>\n",
       "      <td>0.433594</td>\n",
       "      <td>1.764420</td>\n",
       "      <td>0.763161</td>\n",
       "    </tr>\n",
       "    <tr>\n",
       "      <th>min</th>\n",
       "      <td>4.300000</td>\n",
       "      <td>2.000000</td>\n",
       "      <td>1.000000</td>\n",
       "      <td>0.100000</td>\n",
       "    </tr>\n",
       "    <tr>\n",
       "      <th>25%</th>\n",
       "      <td>5.100000</td>\n",
       "      <td>2.800000</td>\n",
       "      <td>1.600000</td>\n",
       "      <td>0.300000</td>\n",
       "    </tr>\n",
       "    <tr>\n",
       "      <th>50%</th>\n",
       "      <td>5.800000</td>\n",
       "      <td>3.000000</td>\n",
       "      <td>4.350000</td>\n",
       "      <td>1.300000</td>\n",
       "    </tr>\n",
       "    <tr>\n",
       "      <th>75%</th>\n",
       "      <td>6.400000</td>\n",
       "      <td>3.300000</td>\n",
       "      <td>5.100000</td>\n",
       "      <td>1.800000</td>\n",
       "    </tr>\n",
       "    <tr>\n",
       "      <th>max</th>\n",
       "      <td>7.900000</td>\n",
       "      <td>4.400000</td>\n",
       "      <td>6.900000</td>\n",
       "      <td>2.500000</td>\n",
       "    </tr>\n",
       "  </tbody>\n",
       "</table>\n",
       "</div>"
      ],
      "text/plain": [
       "       sepal_length  sepal_width  petal_length  petal_width\n",
       "count    150.000000   150.000000    150.000000   150.000000\n",
       "mean       5.843333     3.054000      3.758667     1.198667\n",
       "std        0.828066     0.433594      1.764420     0.763161\n",
       "min        4.300000     2.000000      1.000000     0.100000\n",
       "25%        5.100000     2.800000      1.600000     0.300000\n",
       "50%        5.800000     3.000000      4.350000     1.300000\n",
       "75%        6.400000     3.300000      5.100000     1.800000\n",
       "max        7.900000     4.400000      6.900000     2.500000"
      ]
     },
     "execution_count": 10,
     "metadata": {},
     "output_type": "execute_result"
    }
   ],
   "source": [
    "#describe\n",
    "irisdf.describe()"
   ]
  },
  {
   "cell_type": "markdown",
   "id": "e68c7df3",
   "metadata": {
    "papermill": {
     "duration": 0.020287,
     "end_time": "2023-02-11T13:56:46.393569",
     "exception": false,
     "start_time": "2023-02-11T13:56:46.373282",
     "status": "completed"
    },
    "tags": []
   },
   "source": [
    "**Note: 25 50 and 75 are percentiles. They represent modes** \n",
    "\n",
    "**eg :25 percent of sepal_length values are less than or equal to 5.1**"
   ]
  },
  {
   "cell_type": "code",
   "execution_count": 11,
   "id": "dd164f6c",
   "metadata": {
    "execution": {
     "iopub.execute_input": "2023-02-11T13:56:46.437070Z",
     "iopub.status.busy": "2023-02-11T13:56:46.436264Z",
     "iopub.status.idle": "2023-02-11T13:56:46.452222Z",
     "shell.execute_reply": "2023-02-11T13:56:46.451008Z"
    },
    "papermill": {
     "duration": 0.040495,
     "end_time": "2023-02-11T13:56:46.454640",
     "exception": false,
     "start_time": "2023-02-11T13:56:46.414145",
     "status": "completed"
    },
    "tags": []
   },
   "outputs": [
    {
     "name": "stdout",
     "output_type": "stream",
     "text": [
      "<class 'pandas.core.frame.DataFrame'>\n",
      "RangeIndex: 150 entries, 0 to 149\n",
      "Data columns (total 5 columns):\n",
      " #   Column        Non-Null Count  Dtype  \n",
      "---  ------        --------------  -----  \n",
      " 0   sepal_length  150 non-null    float64\n",
      " 1   sepal_width   150 non-null    float64\n",
      " 2   petal_length  150 non-null    float64\n",
      " 3   petal_width   150 non-null    float64\n",
      " 4   species       150 non-null    object \n",
      "dtypes: float64(4), object(1)\n",
      "memory usage: 6.0+ KB\n"
     ]
    }
   ],
   "source": [
    "#info\n",
    "irisdf.info()"
   ]
  },
  {
   "cell_type": "code",
   "execution_count": 12,
   "id": "561e2257",
   "metadata": {
    "execution": {
     "iopub.execute_input": "2023-02-11T13:56:46.500093Z",
     "iopub.status.busy": "2023-02-11T13:56:46.499295Z",
     "iopub.status.idle": "2023-02-11T13:56:46.522610Z",
     "shell.execute_reply": "2023-02-11T13:56:46.521286Z"
    },
    "papermill": {
     "duration": 0.049457,
     "end_time": "2023-02-11T13:56:46.525000",
     "exception": false,
     "start_time": "2023-02-11T13:56:46.475543",
     "status": "completed"
    },
    "tags": []
   },
   "outputs": [
    {
     "data": {
      "text/html": [
       "<div>\n",
       "<style scoped>\n",
       "    .dataframe tbody tr th:only-of-type {\n",
       "        vertical-align: middle;\n",
       "    }\n",
       "\n",
       "    .dataframe tbody tr th {\n",
       "        vertical-align: top;\n",
       "    }\n",
       "\n",
       "    .dataframe thead th {\n",
       "        text-align: right;\n",
       "    }\n",
       "</style>\n",
       "<table border=\"1\" class=\"dataframe\">\n",
       "  <thead>\n",
       "    <tr style=\"text-align: right;\">\n",
       "      <th></th>\n",
       "      <th>sepal_length</th>\n",
       "      <th>sepal_width</th>\n",
       "      <th>petal_length</th>\n",
       "      <th>petal_width</th>\n",
       "    </tr>\n",
       "  </thead>\n",
       "  <tbody>\n",
       "    <tr>\n",
       "      <th>count</th>\n",
       "      <td>140.000000</td>\n",
       "      <td>142.000000</td>\n",
       "      <td>137.000000</td>\n",
       "      <td>143.000000</td>\n",
       "    </tr>\n",
       "    <tr>\n",
       "      <th>mean</th>\n",
       "      <td>5.833571</td>\n",
       "      <td>3.061268</td>\n",
       "      <td>3.713139</td>\n",
       "      <td>1.184615</td>\n",
       "    </tr>\n",
       "    <tr>\n",
       "      <th>std</th>\n",
       "      <td>0.841086</td>\n",
       "      <td>0.450035</td>\n",
       "      <td>1.791845</td>\n",
       "      <td>0.766031</td>\n",
       "    </tr>\n",
       "    <tr>\n",
       "      <th>min</th>\n",
       "      <td>4.300000</td>\n",
       "      <td>2.000000</td>\n",
       "      <td>1.000000</td>\n",
       "      <td>0.100000</td>\n",
       "    </tr>\n",
       "    <tr>\n",
       "      <th>25%</th>\n",
       "      <td>5.100000</td>\n",
       "      <td>2.800000</td>\n",
       "      <td>1.500000</td>\n",
       "      <td>0.300000</td>\n",
       "    </tr>\n",
       "    <tr>\n",
       "      <th>50%</th>\n",
       "      <td>5.800000</td>\n",
       "      <td>3.000000</td>\n",
       "      <td>4.200000</td>\n",
       "      <td>1.300000</td>\n",
       "    </tr>\n",
       "    <tr>\n",
       "      <th>75%</th>\n",
       "      <td>6.400000</td>\n",
       "      <td>3.300000</td>\n",
       "      <td>5.100000</td>\n",
       "      <td>1.800000</td>\n",
       "    </tr>\n",
       "    <tr>\n",
       "      <th>max</th>\n",
       "      <td>7.900000</td>\n",
       "      <td>4.800000</td>\n",
       "      <td>6.900000</td>\n",
       "      <td>2.500000</td>\n",
       "    </tr>\n",
       "  </tbody>\n",
       "</table>\n",
       "</div>"
      ],
      "text/plain": [
       "       sepal_length  sepal_width  petal_length  petal_width\n",
       "count    140.000000   142.000000    137.000000   143.000000\n",
       "mean       5.833571     3.061268      3.713139     1.184615\n",
       "std        0.841086     0.450035      1.791845     0.766031\n",
       "min        4.300000     2.000000      1.000000     0.100000\n",
       "25%        5.100000     2.800000      1.500000     0.300000\n",
       "50%        5.800000     3.000000      4.200000     1.300000\n",
       "75%        6.400000     3.300000      5.100000     1.800000\n",
       "max        7.900000     4.800000      6.900000     2.500000"
      ]
     },
     "execution_count": 12,
     "metadata": {},
     "output_type": "execute_result"
    }
   ],
   "source": [
    "iris1df.describe()"
   ]
  },
  {
   "cell_type": "code",
   "execution_count": 13,
   "id": "f3090227",
   "metadata": {
    "execution": {
     "iopub.execute_input": "2023-02-11T13:56:46.570792Z",
     "iopub.status.busy": "2023-02-11T13:56:46.570091Z",
     "iopub.status.idle": "2023-02-11T13:56:46.583119Z",
     "shell.execute_reply": "2023-02-11T13:56:46.581839Z"
    },
    "papermill": {
     "duration": 0.038518,
     "end_time": "2023-02-11T13:56:46.585445",
     "exception": false,
     "start_time": "2023-02-11T13:56:46.546927",
     "status": "completed"
    },
    "tags": []
   },
   "outputs": [
    {
     "name": "stdout",
     "output_type": "stream",
     "text": [
      "<class 'pandas.core.frame.DataFrame'>\n",
      "RangeIndex: 150 entries, 0 to 149\n",
      "Data columns (total 5 columns):\n",
      " #   Column        Non-Null Count  Dtype  \n",
      "---  ------        --------------  -----  \n",
      " 0   sepal_length  140 non-null    float64\n",
      " 1   sepal_width   142 non-null    float64\n",
      " 2   petal_length  137 non-null    float64\n",
      " 3   petal_width   143 non-null    float64\n",
      " 4   species       137 non-null    object \n",
      "dtypes: float64(4), object(1)\n",
      "memory usage: 6.0+ KB\n"
     ]
    }
   ],
   "source": [
    "iris1df.info()"
   ]
  },
  {
   "cell_type": "markdown",
   "id": "7d0ba1fa",
   "metadata": {
    "papermill": {
     "duration": 0.020616,
     "end_time": "2023-02-11T13:56:46.627090",
     "exception": false,
     "start_time": "2023-02-11T13:56:46.606474",
     "status": "completed"
    },
    "tags": []
   },
   "source": [
    "**4. Duplicated() and Keep attribute**"
   ]
  },
  {
   "cell_type": "code",
   "execution_count": 14,
   "id": "43f42f42",
   "metadata": {
    "execution": {
     "iopub.execute_input": "2023-02-11T13:56:46.671368Z",
     "iopub.status.busy": "2023-02-11T13:56:46.670946Z",
     "iopub.status.idle": "2023-02-11T13:56:46.684208Z",
     "shell.execute_reply": "2023-02-11T13:56:46.683042Z"
    },
    "papermill": {
     "duration": 0.038072,
     "end_time": "2023-02-11T13:56:46.686409",
     "exception": false,
     "start_time": "2023-02-11T13:56:46.648337",
     "status": "completed"
    },
    "tags": []
   },
   "outputs": [
    {
     "data": {
      "text/plain": [
       "0      False\n",
       "1      False\n",
       "2      False\n",
       "3      False\n",
       "4      False\n",
       "       ...  \n",
       "145    False\n",
       "146    False\n",
       "147    False\n",
       "148    False\n",
       "149    False\n",
       "Length: 150, dtype: bool"
      ]
     },
     "execution_count": 14,
     "metadata": {},
     "output_type": "execute_result"
    }
   ],
   "source": [
    "irisdf.duplicated()"
   ]
  },
  {
   "cell_type": "code",
   "execution_count": 15,
   "id": "19a817ad",
   "metadata": {
    "execution": {
     "iopub.execute_input": "2023-02-11T13:56:46.731225Z",
     "iopub.status.busy": "2023-02-11T13:56:46.730544Z",
     "iopub.status.idle": "2023-02-11T13:56:46.738924Z",
     "shell.execute_reply": "2023-02-11T13:56:46.737896Z"
    },
    "papermill": {
     "duration": 0.033228,
     "end_time": "2023-02-11T13:56:46.741035",
     "exception": false,
     "start_time": "2023-02-11T13:56:46.707807",
     "status": "completed"
    },
    "tags": []
   },
   "outputs": [
    {
     "data": {
      "text/plain": [
       "3"
      ]
     },
     "execution_count": 15,
     "metadata": {},
     "output_type": "execute_result"
    }
   ],
   "source": [
    "irisdf.duplicated().sum()"
   ]
  },
  {
   "cell_type": "code",
   "execution_count": 16,
   "id": "a7693e20",
   "metadata": {
    "execution": {
     "iopub.execute_input": "2023-02-11T13:56:46.785676Z",
     "iopub.status.busy": "2023-02-11T13:56:46.784976Z",
     "iopub.status.idle": "2023-02-11T13:56:46.799840Z",
     "shell.execute_reply": "2023-02-11T13:56:46.798628Z"
    },
    "papermill": {
     "duration": 0.040185,
     "end_time": "2023-02-11T13:56:46.802190",
     "exception": false,
     "start_time": "2023-02-11T13:56:46.762005",
     "status": "completed"
    },
    "tags": []
   },
   "outputs": [
    {
     "data": {
      "text/html": [
       "<div>\n",
       "<style scoped>\n",
       "    .dataframe tbody tr th:only-of-type {\n",
       "        vertical-align: middle;\n",
       "    }\n",
       "\n",
       "    .dataframe tbody tr th {\n",
       "        vertical-align: top;\n",
       "    }\n",
       "\n",
       "    .dataframe thead th {\n",
       "        text-align: right;\n",
       "    }\n",
       "</style>\n",
       "<table border=\"1\" class=\"dataframe\">\n",
       "  <thead>\n",
       "    <tr style=\"text-align: right;\">\n",
       "      <th></th>\n",
       "      <th>sepal_length</th>\n",
       "      <th>sepal_width</th>\n",
       "      <th>petal_length</th>\n",
       "      <th>petal_width</th>\n",
       "      <th>species</th>\n",
       "    </tr>\n",
       "  </thead>\n",
       "  <tbody>\n",
       "    <tr>\n",
       "      <th>34</th>\n",
       "      <td>4.9</td>\n",
       "      <td>3.1</td>\n",
       "      <td>1.5</td>\n",
       "      <td>0.1</td>\n",
       "      <td>Iris-setosa</td>\n",
       "    </tr>\n",
       "    <tr>\n",
       "      <th>37</th>\n",
       "      <td>4.9</td>\n",
       "      <td>3.1</td>\n",
       "      <td>1.5</td>\n",
       "      <td>0.1</td>\n",
       "      <td>Iris-setosa</td>\n",
       "    </tr>\n",
       "    <tr>\n",
       "      <th>142</th>\n",
       "      <td>5.8</td>\n",
       "      <td>2.7</td>\n",
       "      <td>5.1</td>\n",
       "      <td>1.9</td>\n",
       "      <td>Iris-virginica</td>\n",
       "    </tr>\n",
       "  </tbody>\n",
       "</table>\n",
       "</div>"
      ],
      "text/plain": [
       "     sepal_length  sepal_width  petal_length  petal_width         species\n",
       "34            4.9          3.1           1.5          0.1     Iris-setosa\n",
       "37            4.9          3.1           1.5          0.1     Iris-setosa\n",
       "142           5.8          2.7           5.1          1.9  Iris-virginica"
      ]
     },
     "execution_count": 16,
     "metadata": {},
     "output_type": "execute_result"
    }
   ],
   "source": [
    "duplicate=irisdf[irisdf.duplicated(keep='first')]\n",
    "duplicate"
   ]
  },
  {
   "cell_type": "code",
   "execution_count": 17,
   "id": "8b3554b5",
   "metadata": {
    "execution": {
     "iopub.execute_input": "2023-02-11T13:56:46.847156Z",
     "iopub.status.busy": "2023-02-11T13:56:46.846737Z",
     "iopub.status.idle": "2023-02-11T13:56:46.860374Z",
     "shell.execute_reply": "2023-02-11T13:56:46.859405Z"
    },
    "papermill": {
     "duration": 0.038692,
     "end_time": "2023-02-11T13:56:46.862524",
     "exception": false,
     "start_time": "2023-02-11T13:56:46.823832",
     "status": "completed"
    },
    "tags": []
   },
   "outputs": [
    {
     "data": {
      "text/html": [
       "<div>\n",
       "<style scoped>\n",
       "    .dataframe tbody tr th:only-of-type {\n",
       "        vertical-align: middle;\n",
       "    }\n",
       "\n",
       "    .dataframe tbody tr th {\n",
       "        vertical-align: top;\n",
       "    }\n",
       "\n",
       "    .dataframe thead th {\n",
       "        text-align: right;\n",
       "    }\n",
       "</style>\n",
       "<table border=\"1\" class=\"dataframe\">\n",
       "  <thead>\n",
       "    <tr style=\"text-align: right;\">\n",
       "      <th></th>\n",
       "      <th>sepal_length</th>\n",
       "      <th>sepal_width</th>\n",
       "      <th>petal_length</th>\n",
       "      <th>petal_width</th>\n",
       "      <th>species</th>\n",
       "    </tr>\n",
       "  </thead>\n",
       "  <tbody>\n",
       "    <tr>\n",
       "      <th>9</th>\n",
       "      <td>4.9</td>\n",
       "      <td>3.1</td>\n",
       "      <td>1.5</td>\n",
       "      <td>0.1</td>\n",
       "      <td>Iris-setosa</td>\n",
       "    </tr>\n",
       "    <tr>\n",
       "      <th>34</th>\n",
       "      <td>4.9</td>\n",
       "      <td>3.1</td>\n",
       "      <td>1.5</td>\n",
       "      <td>0.1</td>\n",
       "      <td>Iris-setosa</td>\n",
       "    </tr>\n",
       "    <tr>\n",
       "      <th>101</th>\n",
       "      <td>5.8</td>\n",
       "      <td>2.7</td>\n",
       "      <td>5.1</td>\n",
       "      <td>1.9</td>\n",
       "      <td>Iris-virginica</td>\n",
       "    </tr>\n",
       "  </tbody>\n",
       "</table>\n",
       "</div>"
      ],
      "text/plain": [
       "     sepal_length  sepal_width  petal_length  petal_width         species\n",
       "9             4.9          3.1           1.5          0.1     Iris-setosa\n",
       "34            4.9          3.1           1.5          0.1     Iris-setosa\n",
       "101           5.8          2.7           5.1          1.9  Iris-virginica"
      ]
     },
     "execution_count": 17,
     "metadata": {},
     "output_type": "execute_result"
    }
   ],
   "source": [
    "duplicate=irisdf[irisdf.duplicated(keep='last')]\n",
    "duplicate"
   ]
  },
  {
   "cell_type": "code",
   "execution_count": 18,
   "id": "4f036c3d",
   "metadata": {
    "execution": {
     "iopub.execute_input": "2023-02-11T13:56:46.907916Z",
     "iopub.status.busy": "2023-02-11T13:56:46.907016Z",
     "iopub.status.idle": "2023-02-11T13:56:46.917889Z",
     "shell.execute_reply": "2023-02-11T13:56:46.916689Z"
    },
    "papermill": {
     "duration": 0.035999,
     "end_time": "2023-02-11T13:56:46.920180",
     "exception": false,
     "start_time": "2023-02-11T13:56:46.884181",
     "status": "completed"
    },
    "tags": []
   },
   "outputs": [
    {
     "data": {
      "text/plain": [
       "0      False\n",
       "1      False\n",
       "2      False\n",
       "3      False\n",
       "4      False\n",
       "       ...  \n",
       "145    False\n",
       "146    False\n",
       "147    False\n",
       "148    False\n",
       "149    False\n",
       "Length: 150, dtype: bool"
      ]
     },
     "execution_count": 18,
     "metadata": {},
     "output_type": "execute_result"
    }
   ],
   "source": [
    "iris1df.duplicated()"
   ]
  },
  {
   "cell_type": "code",
   "execution_count": 19,
   "id": "23b40214",
   "metadata": {
    "execution": {
     "iopub.execute_input": "2023-02-11T13:56:46.966073Z",
     "iopub.status.busy": "2023-02-11T13:56:46.965336Z",
     "iopub.status.idle": "2023-02-11T13:56:46.974064Z",
     "shell.execute_reply": "2023-02-11T13:56:46.972964Z"
    },
    "papermill": {
     "duration": 0.033773,
     "end_time": "2023-02-11T13:56:46.976185",
     "exception": false,
     "start_time": "2023-02-11T13:56:46.942412",
     "status": "completed"
    },
    "tags": []
   },
   "outputs": [
    {
     "data": {
      "text/plain": [
       "2"
      ]
     },
     "execution_count": 19,
     "metadata": {},
     "output_type": "execute_result"
    }
   ],
   "source": [
    "iris1df.duplicated().sum()"
   ]
  },
  {
   "cell_type": "code",
   "execution_count": 20,
   "id": "309d8651",
   "metadata": {
    "execution": {
     "iopub.execute_input": "2023-02-11T13:56:47.021970Z",
     "iopub.status.busy": "2023-02-11T13:56:47.021561Z",
     "iopub.status.idle": "2023-02-11T13:56:47.035825Z",
     "shell.execute_reply": "2023-02-11T13:56:47.035053Z"
    },
    "papermill": {
     "duration": 0.039922,
     "end_time": "2023-02-11T13:56:47.037974",
     "exception": false,
     "start_time": "2023-02-11T13:56:46.998052",
     "status": "completed"
    },
    "tags": []
   },
   "outputs": [
    {
     "data": {
      "text/html": [
       "<div>\n",
       "<style scoped>\n",
       "    .dataframe tbody tr th:only-of-type {\n",
       "        vertical-align: middle;\n",
       "    }\n",
       "\n",
       "    .dataframe tbody tr th {\n",
       "        vertical-align: top;\n",
       "    }\n",
       "\n",
       "    .dataframe thead th {\n",
       "        text-align: right;\n",
       "    }\n",
       "</style>\n",
       "<table border=\"1\" class=\"dataframe\">\n",
       "  <thead>\n",
       "    <tr style=\"text-align: right;\">\n",
       "      <th></th>\n",
       "      <th>sepal_length</th>\n",
       "      <th>sepal_width</th>\n",
       "      <th>petal_length</th>\n",
       "      <th>petal_width</th>\n",
       "      <th>species</th>\n",
       "    </tr>\n",
       "  </thead>\n",
       "  <tbody>\n",
       "    <tr>\n",
       "      <th>37</th>\n",
       "      <td>4.9</td>\n",
       "      <td>3.1</td>\n",
       "      <td>1.5</td>\n",
       "      <td>0.1</td>\n",
       "      <td>Iris-setosa</td>\n",
       "    </tr>\n",
       "    <tr>\n",
       "      <th>142</th>\n",
       "      <td>5.8</td>\n",
       "      <td>2.7</td>\n",
       "      <td>5.1</td>\n",
       "      <td>1.9</td>\n",
       "      <td>Iris-virginica</td>\n",
       "    </tr>\n",
       "  </tbody>\n",
       "</table>\n",
       "</div>"
      ],
      "text/plain": [
       "     sepal_length  sepal_width  petal_length  petal_width         species\n",
       "37            4.9          3.1           1.5          0.1     Iris-setosa\n",
       "142           5.8          2.7           5.1          1.9  Iris-virginica"
      ]
     },
     "execution_count": 20,
     "metadata": {},
     "output_type": "execute_result"
    }
   ],
   "source": [
    "duplicate=iris1df[iris1df.duplicated(keep='first')]\n",
    "duplicate"
   ]
  },
  {
   "cell_type": "code",
   "execution_count": 21,
   "id": "b1073f0c",
   "metadata": {
    "execution": {
     "iopub.execute_input": "2023-02-11T13:56:47.083790Z",
     "iopub.status.busy": "2023-02-11T13:56:47.082899Z",
     "iopub.status.idle": "2023-02-11T13:56:47.096352Z",
     "shell.execute_reply": "2023-02-11T13:56:47.095387Z"
    },
    "papermill": {
     "duration": 0.039131,
     "end_time": "2023-02-11T13:56:47.098891",
     "exception": false,
     "start_time": "2023-02-11T13:56:47.059760",
     "status": "completed"
    },
    "tags": []
   },
   "outputs": [
    {
     "data": {
      "text/html": [
       "<div>\n",
       "<style scoped>\n",
       "    .dataframe tbody tr th:only-of-type {\n",
       "        vertical-align: middle;\n",
       "    }\n",
       "\n",
       "    .dataframe tbody tr th {\n",
       "        vertical-align: top;\n",
       "    }\n",
       "\n",
       "    .dataframe thead th {\n",
       "        text-align: right;\n",
       "    }\n",
       "</style>\n",
       "<table border=\"1\" class=\"dataframe\">\n",
       "  <thead>\n",
       "    <tr style=\"text-align: right;\">\n",
       "      <th></th>\n",
       "      <th>sepal_length</th>\n",
       "      <th>sepal_width</th>\n",
       "      <th>petal_length</th>\n",
       "      <th>petal_width</th>\n",
       "      <th>species</th>\n",
       "    </tr>\n",
       "  </thead>\n",
       "  <tbody>\n",
       "    <tr>\n",
       "      <th>34</th>\n",
       "      <td>4.9</td>\n",
       "      <td>3.1</td>\n",
       "      <td>1.5</td>\n",
       "      <td>0.1</td>\n",
       "      <td>Iris-setosa</td>\n",
       "    </tr>\n",
       "    <tr>\n",
       "      <th>101</th>\n",
       "      <td>5.8</td>\n",
       "      <td>2.7</td>\n",
       "      <td>5.1</td>\n",
       "      <td>1.9</td>\n",
       "      <td>Iris-virginica</td>\n",
       "    </tr>\n",
       "  </tbody>\n",
       "</table>\n",
       "</div>"
      ],
      "text/plain": [
       "     sepal_length  sepal_width  petal_length  petal_width         species\n",
       "34            4.9          3.1           1.5          0.1     Iris-setosa\n",
       "101           5.8          2.7           5.1          1.9  Iris-virginica"
      ]
     },
     "execution_count": 21,
     "metadata": {},
     "output_type": "execute_result"
    }
   ],
   "source": [
    "duplicate=iris1df[iris1df.duplicated(keep='last')]\n",
    "duplicate"
   ]
  },
  {
   "cell_type": "markdown",
   "id": "2ca70e3e",
   "metadata": {
    "papermill": {
     "duration": 0.021634,
     "end_time": "2023-02-11T13:56:47.142763",
     "exception": false,
     "start_time": "2023-02-11T13:56:47.121129",
     "status": "completed"
    },
    "tags": []
   },
   "source": [
    "**5. drop_duplicates**"
   ]
  },
  {
   "cell_type": "code",
   "execution_count": 22,
   "id": "4b3238a2",
   "metadata": {
    "execution": {
     "iopub.execute_input": "2023-02-11T13:56:47.188367Z",
     "iopub.status.busy": "2023-02-11T13:56:47.187717Z",
     "iopub.status.idle": "2023-02-11T13:56:47.193760Z",
     "shell.execute_reply": "2023-02-11T13:56:47.193019Z"
    },
    "papermill": {
     "duration": 0.031376,
     "end_time": "2023-02-11T13:56:47.195908",
     "exception": false,
     "start_time": "2023-02-11T13:56:47.164532",
     "status": "completed"
    },
    "tags": []
   },
   "outputs": [],
   "source": [
    "irisdf.drop_duplicates(inplace=True)"
   ]
  },
  {
   "cell_type": "code",
   "execution_count": 23,
   "id": "8fb97d1f",
   "metadata": {
    "execution": {
     "iopub.execute_input": "2023-02-11T13:56:47.241764Z",
     "iopub.status.busy": "2023-02-11T13:56:47.241091Z",
     "iopub.status.idle": "2023-02-11T13:56:47.247911Z",
     "shell.execute_reply": "2023-02-11T13:56:47.246861Z"
    },
    "papermill": {
     "duration": 0.03245,
     "end_time": "2023-02-11T13:56:47.250148",
     "exception": false,
     "start_time": "2023-02-11T13:56:47.217698",
     "status": "completed"
    },
    "tags": []
   },
   "outputs": [
    {
     "data": {
      "text/plain": [
       "(147, 5)"
      ]
     },
     "execution_count": 23,
     "metadata": {},
     "output_type": "execute_result"
    }
   ],
   "source": [
    "irisdf.shape"
   ]
  },
  {
   "cell_type": "code",
   "execution_count": 24,
   "id": "5c6314d6",
   "metadata": {
    "execution": {
     "iopub.execute_input": "2023-02-11T13:56:47.296540Z",
     "iopub.status.busy": "2023-02-11T13:56:47.296093Z",
     "iopub.status.idle": "2023-02-11T13:56:47.303162Z",
     "shell.execute_reply": "2023-02-11T13:56:47.302081Z"
    },
    "papermill": {
     "duration": 0.033385,
     "end_time": "2023-02-11T13:56:47.305676",
     "exception": false,
     "start_time": "2023-02-11T13:56:47.272291",
     "status": "completed"
    },
    "tags": []
   },
   "outputs": [],
   "source": [
    "iris1df.drop_duplicates(inplace=True)"
   ]
  },
  {
   "cell_type": "code",
   "execution_count": 25,
   "id": "3b92e39d",
   "metadata": {
    "execution": {
     "iopub.execute_input": "2023-02-11T13:56:47.352844Z",
     "iopub.status.busy": "2023-02-11T13:56:47.351741Z",
     "iopub.status.idle": "2023-02-11T13:56:47.359012Z",
     "shell.execute_reply": "2023-02-11T13:56:47.358127Z"
    },
    "papermill": {
     "duration": 0.033275,
     "end_time": "2023-02-11T13:56:47.361349",
     "exception": false,
     "start_time": "2023-02-11T13:56:47.328074",
     "status": "completed"
    },
    "tags": []
   },
   "outputs": [
    {
     "data": {
      "text/plain": [
       "(148, 5)"
      ]
     },
     "execution_count": 25,
     "metadata": {},
     "output_type": "execute_result"
    }
   ],
   "source": [
    "iris1df.shape"
   ]
  },
  {
   "cell_type": "markdown",
   "id": "0afb946a",
   "metadata": {
    "papermill": {
     "duration": 0.022184,
     "end_time": "2023-02-11T13:56:47.406004",
     "exception": false,
     "start_time": "2023-02-11T13:56:47.383820",
     "status": "completed"
    },
    "tags": []
   },
   "source": [
    "**6. isnull()**"
   ]
  },
  {
   "cell_type": "code",
   "execution_count": 26,
   "id": "621b3214",
   "metadata": {
    "execution": {
     "iopub.execute_input": "2023-02-11T13:56:47.452691Z",
     "iopub.status.busy": "2023-02-11T13:56:47.452259Z",
     "iopub.status.idle": "2023-02-11T13:56:47.468215Z",
     "shell.execute_reply": "2023-02-11T13:56:47.467005Z"
    },
    "papermill": {
     "duration": 0.042159,
     "end_time": "2023-02-11T13:56:47.470606",
     "exception": false,
     "start_time": "2023-02-11T13:56:47.428447",
     "status": "completed"
    },
    "tags": []
   },
   "outputs": [
    {
     "data": {
      "text/html": [
       "<div>\n",
       "<style scoped>\n",
       "    .dataframe tbody tr th:only-of-type {\n",
       "        vertical-align: middle;\n",
       "    }\n",
       "\n",
       "    .dataframe tbody tr th {\n",
       "        vertical-align: top;\n",
       "    }\n",
       "\n",
       "    .dataframe thead th {\n",
       "        text-align: right;\n",
       "    }\n",
       "</style>\n",
       "<table border=\"1\" class=\"dataframe\">\n",
       "  <thead>\n",
       "    <tr style=\"text-align: right;\">\n",
       "      <th></th>\n",
       "      <th>sepal_length</th>\n",
       "      <th>sepal_width</th>\n",
       "      <th>petal_length</th>\n",
       "      <th>petal_width</th>\n",
       "      <th>species</th>\n",
       "    </tr>\n",
       "  </thead>\n",
       "  <tbody>\n",
       "    <tr>\n",
       "      <th>0</th>\n",
       "      <td>False</td>\n",
       "      <td>False</td>\n",
       "      <td>False</td>\n",
       "      <td>False</td>\n",
       "      <td>False</td>\n",
       "    </tr>\n",
       "    <tr>\n",
       "      <th>1</th>\n",
       "      <td>False</td>\n",
       "      <td>False</td>\n",
       "      <td>False</td>\n",
       "      <td>False</td>\n",
       "      <td>False</td>\n",
       "    </tr>\n",
       "    <tr>\n",
       "      <th>2</th>\n",
       "      <td>False</td>\n",
       "      <td>False</td>\n",
       "      <td>False</td>\n",
       "      <td>False</td>\n",
       "      <td>False</td>\n",
       "    </tr>\n",
       "    <tr>\n",
       "      <th>3</th>\n",
       "      <td>False</td>\n",
       "      <td>False</td>\n",
       "      <td>False</td>\n",
       "      <td>False</td>\n",
       "      <td>False</td>\n",
       "    </tr>\n",
       "    <tr>\n",
       "      <th>4</th>\n",
       "      <td>False</td>\n",
       "      <td>False</td>\n",
       "      <td>False</td>\n",
       "      <td>False</td>\n",
       "      <td>False</td>\n",
       "    </tr>\n",
       "    <tr>\n",
       "      <th>...</th>\n",
       "      <td>...</td>\n",
       "      <td>...</td>\n",
       "      <td>...</td>\n",
       "      <td>...</td>\n",
       "      <td>...</td>\n",
       "    </tr>\n",
       "    <tr>\n",
       "      <th>145</th>\n",
       "      <td>False</td>\n",
       "      <td>False</td>\n",
       "      <td>False</td>\n",
       "      <td>False</td>\n",
       "      <td>False</td>\n",
       "    </tr>\n",
       "    <tr>\n",
       "      <th>146</th>\n",
       "      <td>False</td>\n",
       "      <td>False</td>\n",
       "      <td>False</td>\n",
       "      <td>False</td>\n",
       "      <td>False</td>\n",
       "    </tr>\n",
       "    <tr>\n",
       "      <th>147</th>\n",
       "      <td>False</td>\n",
       "      <td>False</td>\n",
       "      <td>False</td>\n",
       "      <td>False</td>\n",
       "      <td>False</td>\n",
       "    </tr>\n",
       "    <tr>\n",
       "      <th>148</th>\n",
       "      <td>False</td>\n",
       "      <td>False</td>\n",
       "      <td>False</td>\n",
       "      <td>False</td>\n",
       "      <td>False</td>\n",
       "    </tr>\n",
       "    <tr>\n",
       "      <th>149</th>\n",
       "      <td>False</td>\n",
       "      <td>False</td>\n",
       "      <td>False</td>\n",
       "      <td>False</td>\n",
       "      <td>False</td>\n",
       "    </tr>\n",
       "  </tbody>\n",
       "</table>\n",
       "<p>147 rows × 5 columns</p>\n",
       "</div>"
      ],
      "text/plain": [
       "     sepal_length  sepal_width  petal_length  petal_width  species\n",
       "0           False        False         False        False    False\n",
       "1           False        False         False        False    False\n",
       "2           False        False         False        False    False\n",
       "3           False        False         False        False    False\n",
       "4           False        False         False        False    False\n",
       "..            ...          ...           ...          ...      ...\n",
       "145         False        False         False        False    False\n",
       "146         False        False         False        False    False\n",
       "147         False        False         False        False    False\n",
       "148         False        False         False        False    False\n",
       "149         False        False         False        False    False\n",
       "\n",
       "[147 rows x 5 columns]"
      ]
     },
     "execution_count": 26,
     "metadata": {},
     "output_type": "execute_result"
    }
   ],
   "source": [
    "irisdf.isnull()"
   ]
  },
  {
   "cell_type": "code",
   "execution_count": 27,
   "id": "963af404",
   "metadata": {
    "execution": {
     "iopub.execute_input": "2023-02-11T13:56:47.518920Z",
     "iopub.status.busy": "2023-02-11T13:56:47.517828Z",
     "iopub.status.idle": "2023-02-11T13:56:47.525978Z",
     "shell.execute_reply": "2023-02-11T13:56:47.525173Z"
    },
    "papermill": {
     "duration": 0.034456,
     "end_time": "2023-02-11T13:56:47.528363",
     "exception": false,
     "start_time": "2023-02-11T13:56:47.493907",
     "status": "completed"
    },
    "tags": []
   },
   "outputs": [
    {
     "data": {
      "text/plain": [
       "sepal_length    0\n",
       "sepal_width     0\n",
       "petal_length    0\n",
       "petal_width     0\n",
       "species         0\n",
       "dtype: int64"
      ]
     },
     "execution_count": 27,
     "metadata": {},
     "output_type": "execute_result"
    }
   ],
   "source": [
    "irisdf.isnull().sum()"
   ]
  },
  {
   "cell_type": "code",
   "execution_count": 28,
   "id": "9a3e5bc4",
   "metadata": {
    "execution": {
     "iopub.execute_input": "2023-02-11T13:56:47.578085Z",
     "iopub.status.busy": "2023-02-11T13:56:47.576941Z",
     "iopub.status.idle": "2023-02-11T13:56:47.586116Z",
     "shell.execute_reply": "2023-02-11T13:56:47.585079Z"
    },
    "papermill": {
     "duration": 0.036045,
     "end_time": "2023-02-11T13:56:47.588406",
     "exception": false,
     "start_time": "2023-02-11T13:56:47.552361",
     "status": "completed"
    },
    "tags": []
   },
   "outputs": [
    {
     "data": {
      "text/plain": [
       "sepal_length    10\n",
       "sepal_width      8\n",
       "petal_length    13\n",
       "petal_width      7\n",
       "species         13\n",
       "dtype: int64"
      ]
     },
     "execution_count": 28,
     "metadata": {},
     "output_type": "execute_result"
    }
   ],
   "source": [
    "iris1df.isnull().sum()"
   ]
  },
  {
   "cell_type": "markdown",
   "id": "aaaccea5",
   "metadata": {
    "papermill": {
     "duration": 0.022573,
     "end_time": "2023-02-11T13:56:47.634317",
     "exception": false,
     "start_time": "2023-02-11T13:56:47.611744",
     "status": "completed"
    },
    "tags": []
   },
   "source": [
    "# fill or drop missing values\n",
    "\n",
    "These values can be anything from mean, median, mode or any specific value\n",
    "\n",
    "**7. fillna (value and inplace attribute)**"
   ]
  },
  {
   "cell_type": "markdown",
   "id": "dce2bc91",
   "metadata": {
    "papermill": {
     "duration": 0.022487,
     "end_time": "2023-02-11T13:56:47.679853",
     "exception": false,
     "start_time": "2023-02-11T13:56:47.657366",
     "status": "completed"
    },
    "tags": []
   },
   "source": [
    "## Sepal length --- Mean "
   ]
  },
  {
   "cell_type": "code",
   "execution_count": 29,
   "id": "1752b10d",
   "metadata": {
    "execution": {
     "iopub.execute_input": "2023-02-11T13:56:47.727809Z",
     "iopub.status.busy": "2023-02-11T13:56:47.727420Z",
     "iopub.status.idle": "2023-02-11T13:56:47.734992Z",
     "shell.execute_reply": "2023-02-11T13:56:47.733787Z"
    },
    "papermill": {
     "duration": 0.034819,
     "end_time": "2023-02-11T13:56:47.737444",
     "exception": false,
     "start_time": "2023-02-11T13:56:47.702625",
     "status": "completed"
    },
    "tags": []
   },
   "outputs": [
    {
     "data": {
      "text/plain": [
       "5.840579710144928"
      ]
     },
     "execution_count": 29,
     "metadata": {},
     "output_type": "execute_result"
    }
   ],
   "source": [
    "m=iris1df['sepal_length'].mean()\n",
    "m"
   ]
  },
  {
   "cell_type": "code",
   "execution_count": 30,
   "id": "b5755106",
   "metadata": {
    "execution": {
     "iopub.execute_input": "2023-02-11T13:56:47.785290Z",
     "iopub.status.busy": "2023-02-11T13:56:47.784847Z",
     "iopub.status.idle": "2023-02-11T13:56:47.791077Z",
     "shell.execute_reply": "2023-02-11T13:56:47.789898Z"
    },
    "papermill": {
     "duration": 0.033023,
     "end_time": "2023-02-11T13:56:47.793388",
     "exception": false,
     "start_time": "2023-02-11T13:56:47.760365",
     "status": "completed"
    },
    "tags": []
   },
   "outputs": [],
   "source": [
    "iris1df['sepal_length'].fillna(value=iris1df['sepal_length'].mean(),inplace=True)"
   ]
  },
  {
   "cell_type": "code",
   "execution_count": 31,
   "id": "d2f5410d",
   "metadata": {
    "execution": {
     "iopub.execute_input": "2023-02-11T13:56:47.841452Z",
     "iopub.status.busy": "2023-02-11T13:56:47.840742Z",
     "iopub.status.idle": "2023-02-11T13:56:47.862801Z",
     "shell.execute_reply": "2023-02-11T13:56:47.861862Z"
    },
    "papermill": {
     "duration": 0.048483,
     "end_time": "2023-02-11T13:56:47.864999",
     "exception": false,
     "start_time": "2023-02-11T13:56:47.816516",
     "status": "completed"
    },
    "tags": []
   },
   "outputs": [
    {
     "data": {
      "text/html": [
       "<div>\n",
       "<style scoped>\n",
       "    .dataframe tbody tr th:only-of-type {\n",
       "        vertical-align: middle;\n",
       "    }\n",
       "\n",
       "    .dataframe tbody tr th {\n",
       "        vertical-align: top;\n",
       "    }\n",
       "\n",
       "    .dataframe thead th {\n",
       "        text-align: right;\n",
       "    }\n",
       "</style>\n",
       "<table border=\"1\" class=\"dataframe\">\n",
       "  <thead>\n",
       "    <tr style=\"text-align: right;\">\n",
       "      <th></th>\n",
       "      <th>sepal_length</th>\n",
       "      <th>sepal_width</th>\n",
       "      <th>petal_length</th>\n",
       "      <th>petal_width</th>\n",
       "      <th>species</th>\n",
       "    </tr>\n",
       "  </thead>\n",
       "  <tbody>\n",
       "    <tr>\n",
       "      <th>0</th>\n",
       "      <td>5.10000</td>\n",
       "      <td>3.5</td>\n",
       "      <td>1.4</td>\n",
       "      <td>0.2</td>\n",
       "      <td>Iris-setosa</td>\n",
       "    </tr>\n",
       "    <tr>\n",
       "      <th>1</th>\n",
       "      <td>4.90000</td>\n",
       "      <td>3.0</td>\n",
       "      <td>NaN</td>\n",
       "      <td>0.2</td>\n",
       "      <td>Iris-setosa</td>\n",
       "    </tr>\n",
       "    <tr>\n",
       "      <th>2</th>\n",
       "      <td>4.70000</td>\n",
       "      <td>3.2</td>\n",
       "      <td>1.3</td>\n",
       "      <td>0.2</td>\n",
       "      <td>Iris-setosa</td>\n",
       "    </tr>\n",
       "    <tr>\n",
       "      <th>3</th>\n",
       "      <td>4.60000</td>\n",
       "      <td>3.1</td>\n",
       "      <td>1.5</td>\n",
       "      <td>0.2</td>\n",
       "      <td>NaN</td>\n",
       "    </tr>\n",
       "    <tr>\n",
       "      <th>4</th>\n",
       "      <td>5.00000</td>\n",
       "      <td>3.6</td>\n",
       "      <td>1.4</td>\n",
       "      <td>0.2</td>\n",
       "      <td>Iris-setosa</td>\n",
       "    </tr>\n",
       "    <tr>\n",
       "      <th>5</th>\n",
       "      <td>5.40000</td>\n",
       "      <td>3.9</td>\n",
       "      <td>1.7</td>\n",
       "      <td>0.4</td>\n",
       "      <td>Iris-setosa</td>\n",
       "    </tr>\n",
       "    <tr>\n",
       "      <th>6</th>\n",
       "      <td>4.60000</td>\n",
       "      <td>3.4</td>\n",
       "      <td>1.4</td>\n",
       "      <td>0.3</td>\n",
       "      <td>Iris-setosa</td>\n",
       "    </tr>\n",
       "    <tr>\n",
       "      <th>7</th>\n",
       "      <td>5.00000</td>\n",
       "      <td>3.4</td>\n",
       "      <td>1.5</td>\n",
       "      <td>NaN</td>\n",
       "      <td>Iris-setosa</td>\n",
       "    </tr>\n",
       "    <tr>\n",
       "      <th>8</th>\n",
       "      <td>4.40000</td>\n",
       "      <td>2.9</td>\n",
       "      <td>1.4</td>\n",
       "      <td>0.2</td>\n",
       "      <td>Iris-setosa</td>\n",
       "    </tr>\n",
       "    <tr>\n",
       "      <th>9</th>\n",
       "      <td>4.90000</td>\n",
       "      <td>3.1</td>\n",
       "      <td>NaN</td>\n",
       "      <td>0.1</td>\n",
       "      <td>Iris-setosa</td>\n",
       "    </tr>\n",
       "    <tr>\n",
       "      <th>10</th>\n",
       "      <td>5.40000</td>\n",
       "      <td>3.7</td>\n",
       "      <td>1.5</td>\n",
       "      <td>0.2</td>\n",
       "      <td>Iris-setosa</td>\n",
       "    </tr>\n",
       "    <tr>\n",
       "      <th>11</th>\n",
       "      <td>4.80000</td>\n",
       "      <td>3.4</td>\n",
       "      <td>1.6</td>\n",
       "      <td>0.2</td>\n",
       "      <td>Iris-setosa</td>\n",
       "    </tr>\n",
       "    <tr>\n",
       "      <th>12</th>\n",
       "      <td>4.80000</td>\n",
       "      <td>NaN</td>\n",
       "      <td>1.4</td>\n",
       "      <td>0.1</td>\n",
       "      <td>Iris-setosa</td>\n",
       "    </tr>\n",
       "    <tr>\n",
       "      <th>13</th>\n",
       "      <td>4.30000</td>\n",
       "      <td>3.0</td>\n",
       "      <td>1.1</td>\n",
       "      <td>0.1</td>\n",
       "      <td>Iris-setosa</td>\n",
       "    </tr>\n",
       "    <tr>\n",
       "      <th>14</th>\n",
       "      <td>5.80000</td>\n",
       "      <td>4.0</td>\n",
       "      <td>1.2</td>\n",
       "      <td>0.2</td>\n",
       "      <td>Iris-setosa</td>\n",
       "    </tr>\n",
       "    <tr>\n",
       "      <th>15</th>\n",
       "      <td>5.70000</td>\n",
       "      <td>4.4</td>\n",
       "      <td>1.5</td>\n",
       "      <td>0.4</td>\n",
       "      <td>Iris-setosa</td>\n",
       "    </tr>\n",
       "    <tr>\n",
       "      <th>16</th>\n",
       "      <td>5.84058</td>\n",
       "      <td>3.9</td>\n",
       "      <td>1.3</td>\n",
       "      <td>0.4</td>\n",
       "      <td>Iris-setosa</td>\n",
       "    </tr>\n",
       "    <tr>\n",
       "      <th>17</th>\n",
       "      <td>5.10000</td>\n",
       "      <td>3.5</td>\n",
       "      <td>1.4</td>\n",
       "      <td>0.3</td>\n",
       "      <td>Iris-setosa</td>\n",
       "    </tr>\n",
       "    <tr>\n",
       "      <th>18</th>\n",
       "      <td>5.70000</td>\n",
       "      <td>3.8</td>\n",
       "      <td>1.7</td>\n",
       "      <td>0.3</td>\n",
       "      <td>Iris-setosa</td>\n",
       "    </tr>\n",
       "    <tr>\n",
       "      <th>19</th>\n",
       "      <td>5.10000</td>\n",
       "      <td>3.8</td>\n",
       "      <td>1.5</td>\n",
       "      <td>0.3</td>\n",
       "      <td>Iris-setosa</td>\n",
       "    </tr>\n",
       "    <tr>\n",
       "      <th>20</th>\n",
       "      <td>5.40000</td>\n",
       "      <td>3.4</td>\n",
       "      <td>1.7</td>\n",
       "      <td>0.2</td>\n",
       "      <td>Iris-setosa</td>\n",
       "    </tr>\n",
       "    <tr>\n",
       "      <th>21</th>\n",
       "      <td>5.10000</td>\n",
       "      <td>3.7</td>\n",
       "      <td>1.5</td>\n",
       "      <td>0.4</td>\n",
       "      <td>Iris-setosa</td>\n",
       "    </tr>\n",
       "    <tr>\n",
       "      <th>22</th>\n",
       "      <td>4.60000</td>\n",
       "      <td>3.6</td>\n",
       "      <td>1.0</td>\n",
       "      <td>0.2</td>\n",
       "      <td>NaN</td>\n",
       "    </tr>\n",
       "    <tr>\n",
       "      <th>23</th>\n",
       "      <td>5.10000</td>\n",
       "      <td>3.3</td>\n",
       "      <td>1.7</td>\n",
       "      <td>0.5</td>\n",
       "      <td>NaN</td>\n",
       "    </tr>\n",
       "    <tr>\n",
       "      <th>24</th>\n",
       "      <td>4.80000</td>\n",
       "      <td>3.4</td>\n",
       "      <td>1.9</td>\n",
       "      <td>0.2</td>\n",
       "      <td>Iris-setosa</td>\n",
       "    </tr>\n",
       "    <tr>\n",
       "      <th>25</th>\n",
       "      <td>5.00000</td>\n",
       "      <td>3.0</td>\n",
       "      <td>1.6</td>\n",
       "      <td>0.2</td>\n",
       "      <td>Iris-setosa</td>\n",
       "    </tr>\n",
       "    <tr>\n",
       "      <th>26</th>\n",
       "      <td>5.00000</td>\n",
       "      <td>3.4</td>\n",
       "      <td>NaN</td>\n",
       "      <td>0.4</td>\n",
       "      <td>Iris-setosa</td>\n",
       "    </tr>\n",
       "    <tr>\n",
       "      <th>27</th>\n",
       "      <td>5.20000</td>\n",
       "      <td>3.5</td>\n",
       "      <td>1.5</td>\n",
       "      <td>0.2</td>\n",
       "      <td>Iris-setosa</td>\n",
       "    </tr>\n",
       "    <tr>\n",
       "      <th>28</th>\n",
       "      <td>5.84058</td>\n",
       "      <td>3.4</td>\n",
       "      <td>1.4</td>\n",
       "      <td>0.2</td>\n",
       "      <td>Iris-setosa</td>\n",
       "    </tr>\n",
       "    <tr>\n",
       "      <th>29</th>\n",
       "      <td>4.70000</td>\n",
       "      <td>3.2</td>\n",
       "      <td>1.6</td>\n",
       "      <td>0.2</td>\n",
       "      <td>Iris-setosa</td>\n",
       "    </tr>\n",
       "  </tbody>\n",
       "</table>\n",
       "</div>"
      ],
      "text/plain": [
       "    sepal_length  sepal_width  petal_length  petal_width      species\n",
       "0        5.10000          3.5           1.4          0.2  Iris-setosa\n",
       "1        4.90000          3.0           NaN          0.2  Iris-setosa\n",
       "2        4.70000          3.2           1.3          0.2  Iris-setosa\n",
       "3        4.60000          3.1           1.5          0.2          NaN\n",
       "4        5.00000          3.6           1.4          0.2  Iris-setosa\n",
       "5        5.40000          3.9           1.7          0.4  Iris-setosa\n",
       "6        4.60000          3.4           1.4          0.3  Iris-setosa\n",
       "7        5.00000          3.4           1.5          NaN  Iris-setosa\n",
       "8        4.40000          2.9           1.4          0.2  Iris-setosa\n",
       "9        4.90000          3.1           NaN          0.1  Iris-setosa\n",
       "10       5.40000          3.7           1.5          0.2  Iris-setosa\n",
       "11       4.80000          3.4           1.6          0.2  Iris-setosa\n",
       "12       4.80000          NaN           1.4          0.1  Iris-setosa\n",
       "13       4.30000          3.0           1.1          0.1  Iris-setosa\n",
       "14       5.80000          4.0           1.2          0.2  Iris-setosa\n",
       "15       5.70000          4.4           1.5          0.4  Iris-setosa\n",
       "16       5.84058          3.9           1.3          0.4  Iris-setosa\n",
       "17       5.10000          3.5           1.4          0.3  Iris-setosa\n",
       "18       5.70000          3.8           1.7          0.3  Iris-setosa\n",
       "19       5.10000          3.8           1.5          0.3  Iris-setosa\n",
       "20       5.40000          3.4           1.7          0.2  Iris-setosa\n",
       "21       5.10000          3.7           1.5          0.4  Iris-setosa\n",
       "22       4.60000          3.6           1.0          0.2          NaN\n",
       "23       5.10000          3.3           1.7          0.5          NaN\n",
       "24       4.80000          3.4           1.9          0.2  Iris-setosa\n",
       "25       5.00000          3.0           1.6          0.2  Iris-setosa\n",
       "26       5.00000          3.4           NaN          0.4  Iris-setosa\n",
       "27       5.20000          3.5           1.5          0.2  Iris-setosa\n",
       "28       5.84058          3.4           1.4          0.2  Iris-setosa\n",
       "29       4.70000          3.2           1.6          0.2  Iris-setosa"
      ]
     },
     "execution_count": 31,
     "metadata": {},
     "output_type": "execute_result"
    }
   ],
   "source": [
    "iris1df.head(30)"
   ]
  },
  {
   "cell_type": "markdown",
   "id": "a7758f1b",
   "metadata": {
    "papermill": {
     "duration": 0.023131,
     "end_time": "2023-02-11T13:56:47.911620",
     "exception": false,
     "start_time": "2023-02-11T13:56:47.888489",
     "status": "completed"
    },
    "tags": []
   },
   "source": [
    "## Sepal width --- Mode"
   ]
  },
  {
   "cell_type": "code",
   "execution_count": 32,
   "id": "9350ed92",
   "metadata": {
    "execution": {
     "iopub.execute_input": "2023-02-11T13:56:47.960828Z",
     "iopub.status.busy": "2023-02-11T13:56:47.959740Z",
     "iopub.status.idle": "2023-02-11T13:56:47.971049Z",
     "shell.execute_reply": "2023-02-11T13:56:47.969937Z"
    },
    "papermill": {
     "duration": 0.038249,
     "end_time": "2023-02-11T13:56:47.973325",
     "exception": false,
     "start_time": "2023-02-11T13:56:47.935076",
     "status": "completed"
    },
    "tags": []
   },
   "outputs": [
    {
     "data": {
      "text/plain": [
       "0    3.0\n",
       "dtype: float64"
      ]
     },
     "execution_count": 32,
     "metadata": {},
     "output_type": "execute_result"
    }
   ],
   "source": [
    "mo=iris1df['sepal_width'].mode()\n",
    "mo"
   ]
  },
  {
   "cell_type": "code",
   "execution_count": 33,
   "id": "c31b3a0e",
   "metadata": {
    "execution": {
     "iopub.execute_input": "2023-02-11T13:56:48.021675Z",
     "iopub.status.busy": "2023-02-11T13:56:48.021251Z",
     "iopub.status.idle": "2023-02-11T13:56:48.027697Z",
     "shell.execute_reply": "2023-02-11T13:56:48.026639Z"
    },
    "papermill": {
     "duration": 0.033683,
     "end_time": "2023-02-11T13:56:48.030337",
     "exception": false,
     "start_time": "2023-02-11T13:56:47.996654",
     "status": "completed"
    },
    "tags": []
   },
   "outputs": [],
   "source": [
    "iris1df['sepal_width'].fillna(value=iris1df['sepal_width'].mode().values[0],inplace=True)"
   ]
  },
  {
   "cell_type": "code",
   "execution_count": 34,
   "id": "65b148fd",
   "metadata": {
    "execution": {
     "iopub.execute_input": "2023-02-11T13:56:48.078949Z",
     "iopub.status.busy": "2023-02-11T13:56:48.078536Z",
     "iopub.status.idle": "2023-02-11T13:56:48.100340Z",
     "shell.execute_reply": "2023-02-11T13:56:48.099098Z"
    },
    "papermill": {
     "duration": 0.048763,
     "end_time": "2023-02-11T13:56:48.102621",
     "exception": false,
     "start_time": "2023-02-11T13:56:48.053858",
     "status": "completed"
    },
    "tags": []
   },
   "outputs": [
    {
     "data": {
      "text/html": [
       "<div>\n",
       "<style scoped>\n",
       "    .dataframe tbody tr th:only-of-type {\n",
       "        vertical-align: middle;\n",
       "    }\n",
       "\n",
       "    .dataframe tbody tr th {\n",
       "        vertical-align: top;\n",
       "    }\n",
       "\n",
       "    .dataframe thead th {\n",
       "        text-align: right;\n",
       "    }\n",
       "</style>\n",
       "<table border=\"1\" class=\"dataframe\">\n",
       "  <thead>\n",
       "    <tr style=\"text-align: right;\">\n",
       "      <th></th>\n",
       "      <th>sepal_length</th>\n",
       "      <th>sepal_width</th>\n",
       "      <th>petal_length</th>\n",
       "      <th>petal_width</th>\n",
       "      <th>species</th>\n",
       "    </tr>\n",
       "  </thead>\n",
       "  <tbody>\n",
       "    <tr>\n",
       "      <th>0</th>\n",
       "      <td>5.10000</td>\n",
       "      <td>3.5</td>\n",
       "      <td>1.4</td>\n",
       "      <td>0.2</td>\n",
       "      <td>Iris-setosa</td>\n",
       "    </tr>\n",
       "    <tr>\n",
       "      <th>1</th>\n",
       "      <td>4.90000</td>\n",
       "      <td>3.0</td>\n",
       "      <td>NaN</td>\n",
       "      <td>0.2</td>\n",
       "      <td>Iris-setosa</td>\n",
       "    </tr>\n",
       "    <tr>\n",
       "      <th>2</th>\n",
       "      <td>4.70000</td>\n",
       "      <td>3.2</td>\n",
       "      <td>1.3</td>\n",
       "      <td>0.2</td>\n",
       "      <td>Iris-setosa</td>\n",
       "    </tr>\n",
       "    <tr>\n",
       "      <th>3</th>\n",
       "      <td>4.60000</td>\n",
       "      <td>3.1</td>\n",
       "      <td>1.5</td>\n",
       "      <td>0.2</td>\n",
       "      <td>NaN</td>\n",
       "    </tr>\n",
       "    <tr>\n",
       "      <th>4</th>\n",
       "      <td>5.00000</td>\n",
       "      <td>3.6</td>\n",
       "      <td>1.4</td>\n",
       "      <td>0.2</td>\n",
       "      <td>Iris-setosa</td>\n",
       "    </tr>\n",
       "    <tr>\n",
       "      <th>5</th>\n",
       "      <td>5.40000</td>\n",
       "      <td>3.9</td>\n",
       "      <td>1.7</td>\n",
       "      <td>0.4</td>\n",
       "      <td>Iris-setosa</td>\n",
       "    </tr>\n",
       "    <tr>\n",
       "      <th>6</th>\n",
       "      <td>4.60000</td>\n",
       "      <td>3.4</td>\n",
       "      <td>1.4</td>\n",
       "      <td>0.3</td>\n",
       "      <td>Iris-setosa</td>\n",
       "    </tr>\n",
       "    <tr>\n",
       "      <th>7</th>\n",
       "      <td>5.00000</td>\n",
       "      <td>3.4</td>\n",
       "      <td>1.5</td>\n",
       "      <td>NaN</td>\n",
       "      <td>Iris-setosa</td>\n",
       "    </tr>\n",
       "    <tr>\n",
       "      <th>8</th>\n",
       "      <td>4.40000</td>\n",
       "      <td>2.9</td>\n",
       "      <td>1.4</td>\n",
       "      <td>0.2</td>\n",
       "      <td>Iris-setosa</td>\n",
       "    </tr>\n",
       "    <tr>\n",
       "      <th>9</th>\n",
       "      <td>4.90000</td>\n",
       "      <td>3.1</td>\n",
       "      <td>NaN</td>\n",
       "      <td>0.1</td>\n",
       "      <td>Iris-setosa</td>\n",
       "    </tr>\n",
       "    <tr>\n",
       "      <th>10</th>\n",
       "      <td>5.40000</td>\n",
       "      <td>3.7</td>\n",
       "      <td>1.5</td>\n",
       "      <td>0.2</td>\n",
       "      <td>Iris-setosa</td>\n",
       "    </tr>\n",
       "    <tr>\n",
       "      <th>11</th>\n",
       "      <td>4.80000</td>\n",
       "      <td>3.4</td>\n",
       "      <td>1.6</td>\n",
       "      <td>0.2</td>\n",
       "      <td>Iris-setosa</td>\n",
       "    </tr>\n",
       "    <tr>\n",
       "      <th>12</th>\n",
       "      <td>4.80000</td>\n",
       "      <td>3.0</td>\n",
       "      <td>1.4</td>\n",
       "      <td>0.1</td>\n",
       "      <td>Iris-setosa</td>\n",
       "    </tr>\n",
       "    <tr>\n",
       "      <th>13</th>\n",
       "      <td>4.30000</td>\n",
       "      <td>3.0</td>\n",
       "      <td>1.1</td>\n",
       "      <td>0.1</td>\n",
       "      <td>Iris-setosa</td>\n",
       "    </tr>\n",
       "    <tr>\n",
       "      <th>14</th>\n",
       "      <td>5.80000</td>\n",
       "      <td>4.0</td>\n",
       "      <td>1.2</td>\n",
       "      <td>0.2</td>\n",
       "      <td>Iris-setosa</td>\n",
       "    </tr>\n",
       "    <tr>\n",
       "      <th>15</th>\n",
       "      <td>5.70000</td>\n",
       "      <td>4.4</td>\n",
       "      <td>1.5</td>\n",
       "      <td>0.4</td>\n",
       "      <td>Iris-setosa</td>\n",
       "    </tr>\n",
       "    <tr>\n",
       "      <th>16</th>\n",
       "      <td>5.84058</td>\n",
       "      <td>3.9</td>\n",
       "      <td>1.3</td>\n",
       "      <td>0.4</td>\n",
       "      <td>Iris-setosa</td>\n",
       "    </tr>\n",
       "    <tr>\n",
       "      <th>17</th>\n",
       "      <td>5.10000</td>\n",
       "      <td>3.5</td>\n",
       "      <td>1.4</td>\n",
       "      <td>0.3</td>\n",
       "      <td>Iris-setosa</td>\n",
       "    </tr>\n",
       "    <tr>\n",
       "      <th>18</th>\n",
       "      <td>5.70000</td>\n",
       "      <td>3.8</td>\n",
       "      <td>1.7</td>\n",
       "      <td>0.3</td>\n",
       "      <td>Iris-setosa</td>\n",
       "    </tr>\n",
       "    <tr>\n",
       "      <th>19</th>\n",
       "      <td>5.10000</td>\n",
       "      <td>3.8</td>\n",
       "      <td>1.5</td>\n",
       "      <td>0.3</td>\n",
       "      <td>Iris-setosa</td>\n",
       "    </tr>\n",
       "    <tr>\n",
       "      <th>20</th>\n",
       "      <td>5.40000</td>\n",
       "      <td>3.4</td>\n",
       "      <td>1.7</td>\n",
       "      <td>0.2</td>\n",
       "      <td>Iris-setosa</td>\n",
       "    </tr>\n",
       "    <tr>\n",
       "      <th>21</th>\n",
       "      <td>5.10000</td>\n",
       "      <td>3.7</td>\n",
       "      <td>1.5</td>\n",
       "      <td>0.4</td>\n",
       "      <td>Iris-setosa</td>\n",
       "    </tr>\n",
       "    <tr>\n",
       "      <th>22</th>\n",
       "      <td>4.60000</td>\n",
       "      <td>3.6</td>\n",
       "      <td>1.0</td>\n",
       "      <td>0.2</td>\n",
       "      <td>NaN</td>\n",
       "    </tr>\n",
       "    <tr>\n",
       "      <th>23</th>\n",
       "      <td>5.10000</td>\n",
       "      <td>3.3</td>\n",
       "      <td>1.7</td>\n",
       "      <td>0.5</td>\n",
       "      <td>NaN</td>\n",
       "    </tr>\n",
       "    <tr>\n",
       "      <th>24</th>\n",
       "      <td>4.80000</td>\n",
       "      <td>3.4</td>\n",
       "      <td>1.9</td>\n",
       "      <td>0.2</td>\n",
       "      <td>Iris-setosa</td>\n",
       "    </tr>\n",
       "    <tr>\n",
       "      <th>25</th>\n",
       "      <td>5.00000</td>\n",
       "      <td>3.0</td>\n",
       "      <td>1.6</td>\n",
       "      <td>0.2</td>\n",
       "      <td>Iris-setosa</td>\n",
       "    </tr>\n",
       "    <tr>\n",
       "      <th>26</th>\n",
       "      <td>5.00000</td>\n",
       "      <td>3.4</td>\n",
       "      <td>NaN</td>\n",
       "      <td>0.4</td>\n",
       "      <td>Iris-setosa</td>\n",
       "    </tr>\n",
       "    <tr>\n",
       "      <th>27</th>\n",
       "      <td>5.20000</td>\n",
       "      <td>3.5</td>\n",
       "      <td>1.5</td>\n",
       "      <td>0.2</td>\n",
       "      <td>Iris-setosa</td>\n",
       "    </tr>\n",
       "    <tr>\n",
       "      <th>28</th>\n",
       "      <td>5.84058</td>\n",
       "      <td>3.4</td>\n",
       "      <td>1.4</td>\n",
       "      <td>0.2</td>\n",
       "      <td>Iris-setosa</td>\n",
       "    </tr>\n",
       "    <tr>\n",
       "      <th>29</th>\n",
       "      <td>4.70000</td>\n",
       "      <td>3.2</td>\n",
       "      <td>1.6</td>\n",
       "      <td>0.2</td>\n",
       "      <td>Iris-setosa</td>\n",
       "    </tr>\n",
       "  </tbody>\n",
       "</table>\n",
       "</div>"
      ],
      "text/plain": [
       "    sepal_length  sepal_width  petal_length  petal_width      species\n",
       "0        5.10000          3.5           1.4          0.2  Iris-setosa\n",
       "1        4.90000          3.0           NaN          0.2  Iris-setosa\n",
       "2        4.70000          3.2           1.3          0.2  Iris-setosa\n",
       "3        4.60000          3.1           1.5          0.2          NaN\n",
       "4        5.00000          3.6           1.4          0.2  Iris-setosa\n",
       "5        5.40000          3.9           1.7          0.4  Iris-setosa\n",
       "6        4.60000          3.4           1.4          0.3  Iris-setosa\n",
       "7        5.00000          3.4           1.5          NaN  Iris-setosa\n",
       "8        4.40000          2.9           1.4          0.2  Iris-setosa\n",
       "9        4.90000          3.1           NaN          0.1  Iris-setosa\n",
       "10       5.40000          3.7           1.5          0.2  Iris-setosa\n",
       "11       4.80000          3.4           1.6          0.2  Iris-setosa\n",
       "12       4.80000          3.0           1.4          0.1  Iris-setosa\n",
       "13       4.30000          3.0           1.1          0.1  Iris-setosa\n",
       "14       5.80000          4.0           1.2          0.2  Iris-setosa\n",
       "15       5.70000          4.4           1.5          0.4  Iris-setosa\n",
       "16       5.84058          3.9           1.3          0.4  Iris-setosa\n",
       "17       5.10000          3.5           1.4          0.3  Iris-setosa\n",
       "18       5.70000          3.8           1.7          0.3  Iris-setosa\n",
       "19       5.10000          3.8           1.5          0.3  Iris-setosa\n",
       "20       5.40000          3.4           1.7          0.2  Iris-setosa\n",
       "21       5.10000          3.7           1.5          0.4  Iris-setosa\n",
       "22       4.60000          3.6           1.0          0.2          NaN\n",
       "23       5.10000          3.3           1.7          0.5          NaN\n",
       "24       4.80000          3.4           1.9          0.2  Iris-setosa\n",
       "25       5.00000          3.0           1.6          0.2  Iris-setosa\n",
       "26       5.00000          3.4           NaN          0.4  Iris-setosa\n",
       "27       5.20000          3.5           1.5          0.2  Iris-setosa\n",
       "28       5.84058          3.4           1.4          0.2  Iris-setosa\n",
       "29       4.70000          3.2           1.6          0.2  Iris-setosa"
      ]
     },
     "execution_count": 34,
     "metadata": {},
     "output_type": "execute_result"
    }
   ],
   "source": [
    "iris1df.head(30)"
   ]
  },
  {
   "cell_type": "markdown",
   "id": "dddd61a4",
   "metadata": {
    "papermill": {
     "duration": 0.023423,
     "end_time": "2023-02-11T13:56:48.149749",
     "exception": false,
     "start_time": "2023-02-11T13:56:48.126326",
     "status": "completed"
    },
    "tags": []
   },
   "source": [
    "## Petal length -- Median"
   ]
  },
  {
   "cell_type": "code",
   "execution_count": 35,
   "id": "68532ed2",
   "metadata": {
    "execution": {
     "iopub.execute_input": "2023-02-11T13:56:48.198523Z",
     "iopub.status.busy": "2023-02-11T13:56:48.198119Z",
     "iopub.status.idle": "2023-02-11T13:56:48.206826Z",
     "shell.execute_reply": "2023-02-11T13:56:48.205704Z"
    },
    "papermill": {
     "duration": 0.035969,
     "end_time": "2023-02-11T13:56:48.209183",
     "exception": false,
     "start_time": "2023-02-11T13:56:48.173214",
     "status": "completed"
    },
    "tags": []
   },
   "outputs": [
    {
     "data": {
      "text/plain": [
       "4.2"
      ]
     },
     "execution_count": 35,
     "metadata": {},
     "output_type": "execute_result"
    }
   ],
   "source": [
    "med=iris1df['petal_length'].median()\n",
    "med"
   ]
  },
  {
   "cell_type": "code",
   "execution_count": 36,
   "id": "0c5ecb36",
   "metadata": {
    "execution": {
     "iopub.execute_input": "2023-02-11T13:56:48.258585Z",
     "iopub.status.busy": "2023-02-11T13:56:48.258182Z",
     "iopub.status.idle": "2023-02-11T13:56:48.264721Z",
     "shell.execute_reply": "2023-02-11T13:56:48.263594Z"
    },
    "papermill": {
     "duration": 0.034405,
     "end_time": "2023-02-11T13:56:48.267149",
     "exception": false,
     "start_time": "2023-02-11T13:56:48.232744",
     "status": "completed"
    },
    "tags": []
   },
   "outputs": [],
   "source": [
    "iris1df['petal_length'].fillna(value=iris1df['petal_length'].median(),inplace=True)"
   ]
  },
  {
   "cell_type": "code",
   "execution_count": 37,
   "id": "22a66db0",
   "metadata": {
    "execution": {
     "iopub.execute_input": "2023-02-11T13:56:48.316582Z",
     "iopub.status.busy": "2023-02-11T13:56:48.316210Z",
     "iopub.status.idle": "2023-02-11T13:56:48.337378Z",
     "shell.execute_reply": "2023-02-11T13:56:48.336196Z"
    },
    "papermill": {
     "duration": 0.048795,
     "end_time": "2023-02-11T13:56:48.339761",
     "exception": false,
     "start_time": "2023-02-11T13:56:48.290966",
     "status": "completed"
    },
    "tags": []
   },
   "outputs": [
    {
     "data": {
      "text/html": [
       "<div>\n",
       "<style scoped>\n",
       "    .dataframe tbody tr th:only-of-type {\n",
       "        vertical-align: middle;\n",
       "    }\n",
       "\n",
       "    .dataframe tbody tr th {\n",
       "        vertical-align: top;\n",
       "    }\n",
       "\n",
       "    .dataframe thead th {\n",
       "        text-align: right;\n",
       "    }\n",
       "</style>\n",
       "<table border=\"1\" class=\"dataframe\">\n",
       "  <thead>\n",
       "    <tr style=\"text-align: right;\">\n",
       "      <th></th>\n",
       "      <th>sepal_length</th>\n",
       "      <th>sepal_width</th>\n",
       "      <th>petal_length</th>\n",
       "      <th>petal_width</th>\n",
       "      <th>species</th>\n",
       "    </tr>\n",
       "  </thead>\n",
       "  <tbody>\n",
       "    <tr>\n",
       "      <th>0</th>\n",
       "      <td>5.10000</td>\n",
       "      <td>3.5</td>\n",
       "      <td>1.4</td>\n",
       "      <td>0.2</td>\n",
       "      <td>Iris-setosa</td>\n",
       "    </tr>\n",
       "    <tr>\n",
       "      <th>1</th>\n",
       "      <td>4.90000</td>\n",
       "      <td>3.0</td>\n",
       "      <td>4.2</td>\n",
       "      <td>0.2</td>\n",
       "      <td>Iris-setosa</td>\n",
       "    </tr>\n",
       "    <tr>\n",
       "      <th>2</th>\n",
       "      <td>4.70000</td>\n",
       "      <td>3.2</td>\n",
       "      <td>1.3</td>\n",
       "      <td>0.2</td>\n",
       "      <td>Iris-setosa</td>\n",
       "    </tr>\n",
       "    <tr>\n",
       "      <th>3</th>\n",
       "      <td>4.60000</td>\n",
       "      <td>3.1</td>\n",
       "      <td>1.5</td>\n",
       "      <td>0.2</td>\n",
       "      <td>NaN</td>\n",
       "    </tr>\n",
       "    <tr>\n",
       "      <th>4</th>\n",
       "      <td>5.00000</td>\n",
       "      <td>3.6</td>\n",
       "      <td>1.4</td>\n",
       "      <td>0.2</td>\n",
       "      <td>Iris-setosa</td>\n",
       "    </tr>\n",
       "    <tr>\n",
       "      <th>5</th>\n",
       "      <td>5.40000</td>\n",
       "      <td>3.9</td>\n",
       "      <td>1.7</td>\n",
       "      <td>0.4</td>\n",
       "      <td>Iris-setosa</td>\n",
       "    </tr>\n",
       "    <tr>\n",
       "      <th>6</th>\n",
       "      <td>4.60000</td>\n",
       "      <td>3.4</td>\n",
       "      <td>1.4</td>\n",
       "      <td>0.3</td>\n",
       "      <td>Iris-setosa</td>\n",
       "    </tr>\n",
       "    <tr>\n",
       "      <th>7</th>\n",
       "      <td>5.00000</td>\n",
       "      <td>3.4</td>\n",
       "      <td>1.5</td>\n",
       "      <td>NaN</td>\n",
       "      <td>Iris-setosa</td>\n",
       "    </tr>\n",
       "    <tr>\n",
       "      <th>8</th>\n",
       "      <td>4.40000</td>\n",
       "      <td>2.9</td>\n",
       "      <td>1.4</td>\n",
       "      <td>0.2</td>\n",
       "      <td>Iris-setosa</td>\n",
       "    </tr>\n",
       "    <tr>\n",
       "      <th>9</th>\n",
       "      <td>4.90000</td>\n",
       "      <td>3.1</td>\n",
       "      <td>4.2</td>\n",
       "      <td>0.1</td>\n",
       "      <td>Iris-setosa</td>\n",
       "    </tr>\n",
       "    <tr>\n",
       "      <th>10</th>\n",
       "      <td>5.40000</td>\n",
       "      <td>3.7</td>\n",
       "      <td>1.5</td>\n",
       "      <td>0.2</td>\n",
       "      <td>Iris-setosa</td>\n",
       "    </tr>\n",
       "    <tr>\n",
       "      <th>11</th>\n",
       "      <td>4.80000</td>\n",
       "      <td>3.4</td>\n",
       "      <td>1.6</td>\n",
       "      <td>0.2</td>\n",
       "      <td>Iris-setosa</td>\n",
       "    </tr>\n",
       "    <tr>\n",
       "      <th>12</th>\n",
       "      <td>4.80000</td>\n",
       "      <td>3.0</td>\n",
       "      <td>1.4</td>\n",
       "      <td>0.1</td>\n",
       "      <td>Iris-setosa</td>\n",
       "    </tr>\n",
       "    <tr>\n",
       "      <th>13</th>\n",
       "      <td>4.30000</td>\n",
       "      <td>3.0</td>\n",
       "      <td>1.1</td>\n",
       "      <td>0.1</td>\n",
       "      <td>Iris-setosa</td>\n",
       "    </tr>\n",
       "    <tr>\n",
       "      <th>14</th>\n",
       "      <td>5.80000</td>\n",
       "      <td>4.0</td>\n",
       "      <td>1.2</td>\n",
       "      <td>0.2</td>\n",
       "      <td>Iris-setosa</td>\n",
       "    </tr>\n",
       "    <tr>\n",
       "      <th>15</th>\n",
       "      <td>5.70000</td>\n",
       "      <td>4.4</td>\n",
       "      <td>1.5</td>\n",
       "      <td>0.4</td>\n",
       "      <td>Iris-setosa</td>\n",
       "    </tr>\n",
       "    <tr>\n",
       "      <th>16</th>\n",
       "      <td>5.84058</td>\n",
       "      <td>3.9</td>\n",
       "      <td>1.3</td>\n",
       "      <td>0.4</td>\n",
       "      <td>Iris-setosa</td>\n",
       "    </tr>\n",
       "    <tr>\n",
       "      <th>17</th>\n",
       "      <td>5.10000</td>\n",
       "      <td>3.5</td>\n",
       "      <td>1.4</td>\n",
       "      <td>0.3</td>\n",
       "      <td>Iris-setosa</td>\n",
       "    </tr>\n",
       "    <tr>\n",
       "      <th>18</th>\n",
       "      <td>5.70000</td>\n",
       "      <td>3.8</td>\n",
       "      <td>1.7</td>\n",
       "      <td>0.3</td>\n",
       "      <td>Iris-setosa</td>\n",
       "    </tr>\n",
       "    <tr>\n",
       "      <th>19</th>\n",
       "      <td>5.10000</td>\n",
       "      <td>3.8</td>\n",
       "      <td>1.5</td>\n",
       "      <td>0.3</td>\n",
       "      <td>Iris-setosa</td>\n",
       "    </tr>\n",
       "    <tr>\n",
       "      <th>20</th>\n",
       "      <td>5.40000</td>\n",
       "      <td>3.4</td>\n",
       "      <td>1.7</td>\n",
       "      <td>0.2</td>\n",
       "      <td>Iris-setosa</td>\n",
       "    </tr>\n",
       "    <tr>\n",
       "      <th>21</th>\n",
       "      <td>5.10000</td>\n",
       "      <td>3.7</td>\n",
       "      <td>1.5</td>\n",
       "      <td>0.4</td>\n",
       "      <td>Iris-setosa</td>\n",
       "    </tr>\n",
       "    <tr>\n",
       "      <th>22</th>\n",
       "      <td>4.60000</td>\n",
       "      <td>3.6</td>\n",
       "      <td>1.0</td>\n",
       "      <td>0.2</td>\n",
       "      <td>NaN</td>\n",
       "    </tr>\n",
       "    <tr>\n",
       "      <th>23</th>\n",
       "      <td>5.10000</td>\n",
       "      <td>3.3</td>\n",
       "      <td>1.7</td>\n",
       "      <td>0.5</td>\n",
       "      <td>NaN</td>\n",
       "    </tr>\n",
       "    <tr>\n",
       "      <th>24</th>\n",
       "      <td>4.80000</td>\n",
       "      <td>3.4</td>\n",
       "      <td>1.9</td>\n",
       "      <td>0.2</td>\n",
       "      <td>Iris-setosa</td>\n",
       "    </tr>\n",
       "    <tr>\n",
       "      <th>25</th>\n",
       "      <td>5.00000</td>\n",
       "      <td>3.0</td>\n",
       "      <td>1.6</td>\n",
       "      <td>0.2</td>\n",
       "      <td>Iris-setosa</td>\n",
       "    </tr>\n",
       "    <tr>\n",
       "      <th>26</th>\n",
       "      <td>5.00000</td>\n",
       "      <td>3.4</td>\n",
       "      <td>4.2</td>\n",
       "      <td>0.4</td>\n",
       "      <td>Iris-setosa</td>\n",
       "    </tr>\n",
       "    <tr>\n",
       "      <th>27</th>\n",
       "      <td>5.20000</td>\n",
       "      <td>3.5</td>\n",
       "      <td>1.5</td>\n",
       "      <td>0.2</td>\n",
       "      <td>Iris-setosa</td>\n",
       "    </tr>\n",
       "    <tr>\n",
       "      <th>28</th>\n",
       "      <td>5.84058</td>\n",
       "      <td>3.4</td>\n",
       "      <td>1.4</td>\n",
       "      <td>0.2</td>\n",
       "      <td>Iris-setosa</td>\n",
       "    </tr>\n",
       "    <tr>\n",
       "      <th>29</th>\n",
       "      <td>4.70000</td>\n",
       "      <td>3.2</td>\n",
       "      <td>1.6</td>\n",
       "      <td>0.2</td>\n",
       "      <td>Iris-setosa</td>\n",
       "    </tr>\n",
       "  </tbody>\n",
       "</table>\n",
       "</div>"
      ],
      "text/plain": [
       "    sepal_length  sepal_width  petal_length  petal_width      species\n",
       "0        5.10000          3.5           1.4          0.2  Iris-setosa\n",
       "1        4.90000          3.0           4.2          0.2  Iris-setosa\n",
       "2        4.70000          3.2           1.3          0.2  Iris-setosa\n",
       "3        4.60000          3.1           1.5          0.2          NaN\n",
       "4        5.00000          3.6           1.4          0.2  Iris-setosa\n",
       "5        5.40000          3.9           1.7          0.4  Iris-setosa\n",
       "6        4.60000          3.4           1.4          0.3  Iris-setosa\n",
       "7        5.00000          3.4           1.5          NaN  Iris-setosa\n",
       "8        4.40000          2.9           1.4          0.2  Iris-setosa\n",
       "9        4.90000          3.1           4.2          0.1  Iris-setosa\n",
       "10       5.40000          3.7           1.5          0.2  Iris-setosa\n",
       "11       4.80000          3.4           1.6          0.2  Iris-setosa\n",
       "12       4.80000          3.0           1.4          0.1  Iris-setosa\n",
       "13       4.30000          3.0           1.1          0.1  Iris-setosa\n",
       "14       5.80000          4.0           1.2          0.2  Iris-setosa\n",
       "15       5.70000          4.4           1.5          0.4  Iris-setosa\n",
       "16       5.84058          3.9           1.3          0.4  Iris-setosa\n",
       "17       5.10000          3.5           1.4          0.3  Iris-setosa\n",
       "18       5.70000          3.8           1.7          0.3  Iris-setosa\n",
       "19       5.10000          3.8           1.5          0.3  Iris-setosa\n",
       "20       5.40000          3.4           1.7          0.2  Iris-setosa\n",
       "21       5.10000          3.7           1.5          0.4  Iris-setosa\n",
       "22       4.60000          3.6           1.0          0.2          NaN\n",
       "23       5.10000          3.3           1.7          0.5          NaN\n",
       "24       4.80000          3.4           1.9          0.2  Iris-setosa\n",
       "25       5.00000          3.0           1.6          0.2  Iris-setosa\n",
       "26       5.00000          3.4           4.2          0.4  Iris-setosa\n",
       "27       5.20000          3.5           1.5          0.2  Iris-setosa\n",
       "28       5.84058          3.4           1.4          0.2  Iris-setosa\n",
       "29       4.70000          3.2           1.6          0.2  Iris-setosa"
      ]
     },
     "execution_count": 37,
     "metadata": {},
     "output_type": "execute_result"
    }
   ],
   "source": [
    "iris1df.head(30)"
   ]
  },
  {
   "cell_type": "markdown",
   "id": "bb029038",
   "metadata": {
    "papermill": {
     "duration": 0.023931,
     "end_time": "2023-02-11T13:56:48.388064",
     "exception": false,
     "start_time": "2023-02-11T13:56:48.364133",
     "status": "completed"
    },
    "tags": []
   },
   "source": [
    "## PETAL WIDTH -- Place a value"
   ]
  },
  {
   "cell_type": "code",
   "execution_count": 38,
   "id": "0ffae787",
   "metadata": {
    "execution": {
     "iopub.execute_input": "2023-02-11T13:56:48.438508Z",
     "iopub.status.busy": "2023-02-11T13:56:48.438065Z",
     "iopub.status.idle": "2023-02-11T13:56:48.443625Z",
     "shell.execute_reply": "2023-02-11T13:56:48.442420Z"
    },
    "papermill": {
     "duration": 0.033782,
     "end_time": "2023-02-11T13:56:48.445873",
     "exception": false,
     "start_time": "2023-02-11T13:56:48.412091",
     "status": "completed"
    },
    "tags": []
   },
   "outputs": [],
   "source": [
    "iris1df['petal_width'].fillna(value=0.1,inplace=True)"
   ]
  },
  {
   "cell_type": "code",
   "execution_count": 39,
   "id": "ebc1b5e1",
   "metadata": {
    "execution": {
     "iopub.execute_input": "2023-02-11T13:56:48.496699Z",
     "iopub.status.busy": "2023-02-11T13:56:48.495926Z",
     "iopub.status.idle": "2023-02-11T13:56:48.517657Z",
     "shell.execute_reply": "2023-02-11T13:56:48.516442Z"
    },
    "papermill": {
     "duration": 0.049552,
     "end_time": "2023-02-11T13:56:48.519885",
     "exception": false,
     "start_time": "2023-02-11T13:56:48.470333",
     "status": "completed"
    },
    "tags": []
   },
   "outputs": [
    {
     "data": {
      "text/html": [
       "<div>\n",
       "<style scoped>\n",
       "    .dataframe tbody tr th:only-of-type {\n",
       "        vertical-align: middle;\n",
       "    }\n",
       "\n",
       "    .dataframe tbody tr th {\n",
       "        vertical-align: top;\n",
       "    }\n",
       "\n",
       "    .dataframe thead th {\n",
       "        text-align: right;\n",
       "    }\n",
       "</style>\n",
       "<table border=\"1\" class=\"dataframe\">\n",
       "  <thead>\n",
       "    <tr style=\"text-align: right;\">\n",
       "      <th></th>\n",
       "      <th>sepal_length</th>\n",
       "      <th>sepal_width</th>\n",
       "      <th>petal_length</th>\n",
       "      <th>petal_width</th>\n",
       "      <th>species</th>\n",
       "    </tr>\n",
       "  </thead>\n",
       "  <tbody>\n",
       "    <tr>\n",
       "      <th>0</th>\n",
       "      <td>5.10000</td>\n",
       "      <td>3.5</td>\n",
       "      <td>1.4</td>\n",
       "      <td>0.2</td>\n",
       "      <td>Iris-setosa</td>\n",
       "    </tr>\n",
       "    <tr>\n",
       "      <th>1</th>\n",
       "      <td>4.90000</td>\n",
       "      <td>3.0</td>\n",
       "      <td>4.2</td>\n",
       "      <td>0.2</td>\n",
       "      <td>Iris-setosa</td>\n",
       "    </tr>\n",
       "    <tr>\n",
       "      <th>2</th>\n",
       "      <td>4.70000</td>\n",
       "      <td>3.2</td>\n",
       "      <td>1.3</td>\n",
       "      <td>0.2</td>\n",
       "      <td>Iris-setosa</td>\n",
       "    </tr>\n",
       "    <tr>\n",
       "      <th>3</th>\n",
       "      <td>4.60000</td>\n",
       "      <td>3.1</td>\n",
       "      <td>1.5</td>\n",
       "      <td>0.2</td>\n",
       "      <td>NaN</td>\n",
       "    </tr>\n",
       "    <tr>\n",
       "      <th>4</th>\n",
       "      <td>5.00000</td>\n",
       "      <td>3.6</td>\n",
       "      <td>1.4</td>\n",
       "      <td>0.2</td>\n",
       "      <td>Iris-setosa</td>\n",
       "    </tr>\n",
       "    <tr>\n",
       "      <th>5</th>\n",
       "      <td>5.40000</td>\n",
       "      <td>3.9</td>\n",
       "      <td>1.7</td>\n",
       "      <td>0.4</td>\n",
       "      <td>Iris-setosa</td>\n",
       "    </tr>\n",
       "    <tr>\n",
       "      <th>6</th>\n",
       "      <td>4.60000</td>\n",
       "      <td>3.4</td>\n",
       "      <td>1.4</td>\n",
       "      <td>0.3</td>\n",
       "      <td>Iris-setosa</td>\n",
       "    </tr>\n",
       "    <tr>\n",
       "      <th>7</th>\n",
       "      <td>5.00000</td>\n",
       "      <td>3.4</td>\n",
       "      <td>1.5</td>\n",
       "      <td>0.1</td>\n",
       "      <td>Iris-setosa</td>\n",
       "    </tr>\n",
       "    <tr>\n",
       "      <th>8</th>\n",
       "      <td>4.40000</td>\n",
       "      <td>2.9</td>\n",
       "      <td>1.4</td>\n",
       "      <td>0.2</td>\n",
       "      <td>Iris-setosa</td>\n",
       "    </tr>\n",
       "    <tr>\n",
       "      <th>9</th>\n",
       "      <td>4.90000</td>\n",
       "      <td>3.1</td>\n",
       "      <td>4.2</td>\n",
       "      <td>0.1</td>\n",
       "      <td>Iris-setosa</td>\n",
       "    </tr>\n",
       "    <tr>\n",
       "      <th>10</th>\n",
       "      <td>5.40000</td>\n",
       "      <td>3.7</td>\n",
       "      <td>1.5</td>\n",
       "      <td>0.2</td>\n",
       "      <td>Iris-setosa</td>\n",
       "    </tr>\n",
       "    <tr>\n",
       "      <th>11</th>\n",
       "      <td>4.80000</td>\n",
       "      <td>3.4</td>\n",
       "      <td>1.6</td>\n",
       "      <td>0.2</td>\n",
       "      <td>Iris-setosa</td>\n",
       "    </tr>\n",
       "    <tr>\n",
       "      <th>12</th>\n",
       "      <td>4.80000</td>\n",
       "      <td>3.0</td>\n",
       "      <td>1.4</td>\n",
       "      <td>0.1</td>\n",
       "      <td>Iris-setosa</td>\n",
       "    </tr>\n",
       "    <tr>\n",
       "      <th>13</th>\n",
       "      <td>4.30000</td>\n",
       "      <td>3.0</td>\n",
       "      <td>1.1</td>\n",
       "      <td>0.1</td>\n",
       "      <td>Iris-setosa</td>\n",
       "    </tr>\n",
       "    <tr>\n",
       "      <th>14</th>\n",
       "      <td>5.80000</td>\n",
       "      <td>4.0</td>\n",
       "      <td>1.2</td>\n",
       "      <td>0.2</td>\n",
       "      <td>Iris-setosa</td>\n",
       "    </tr>\n",
       "    <tr>\n",
       "      <th>15</th>\n",
       "      <td>5.70000</td>\n",
       "      <td>4.4</td>\n",
       "      <td>1.5</td>\n",
       "      <td>0.4</td>\n",
       "      <td>Iris-setosa</td>\n",
       "    </tr>\n",
       "    <tr>\n",
       "      <th>16</th>\n",
       "      <td>5.84058</td>\n",
       "      <td>3.9</td>\n",
       "      <td>1.3</td>\n",
       "      <td>0.4</td>\n",
       "      <td>Iris-setosa</td>\n",
       "    </tr>\n",
       "    <tr>\n",
       "      <th>17</th>\n",
       "      <td>5.10000</td>\n",
       "      <td>3.5</td>\n",
       "      <td>1.4</td>\n",
       "      <td>0.3</td>\n",
       "      <td>Iris-setosa</td>\n",
       "    </tr>\n",
       "    <tr>\n",
       "      <th>18</th>\n",
       "      <td>5.70000</td>\n",
       "      <td>3.8</td>\n",
       "      <td>1.7</td>\n",
       "      <td>0.3</td>\n",
       "      <td>Iris-setosa</td>\n",
       "    </tr>\n",
       "    <tr>\n",
       "      <th>19</th>\n",
       "      <td>5.10000</td>\n",
       "      <td>3.8</td>\n",
       "      <td>1.5</td>\n",
       "      <td>0.3</td>\n",
       "      <td>Iris-setosa</td>\n",
       "    </tr>\n",
       "    <tr>\n",
       "      <th>20</th>\n",
       "      <td>5.40000</td>\n",
       "      <td>3.4</td>\n",
       "      <td>1.7</td>\n",
       "      <td>0.2</td>\n",
       "      <td>Iris-setosa</td>\n",
       "    </tr>\n",
       "    <tr>\n",
       "      <th>21</th>\n",
       "      <td>5.10000</td>\n",
       "      <td>3.7</td>\n",
       "      <td>1.5</td>\n",
       "      <td>0.4</td>\n",
       "      <td>Iris-setosa</td>\n",
       "    </tr>\n",
       "    <tr>\n",
       "      <th>22</th>\n",
       "      <td>4.60000</td>\n",
       "      <td>3.6</td>\n",
       "      <td>1.0</td>\n",
       "      <td>0.2</td>\n",
       "      <td>NaN</td>\n",
       "    </tr>\n",
       "    <tr>\n",
       "      <th>23</th>\n",
       "      <td>5.10000</td>\n",
       "      <td>3.3</td>\n",
       "      <td>1.7</td>\n",
       "      <td>0.5</td>\n",
       "      <td>NaN</td>\n",
       "    </tr>\n",
       "    <tr>\n",
       "      <th>24</th>\n",
       "      <td>4.80000</td>\n",
       "      <td>3.4</td>\n",
       "      <td>1.9</td>\n",
       "      <td>0.2</td>\n",
       "      <td>Iris-setosa</td>\n",
       "    </tr>\n",
       "    <tr>\n",
       "      <th>25</th>\n",
       "      <td>5.00000</td>\n",
       "      <td>3.0</td>\n",
       "      <td>1.6</td>\n",
       "      <td>0.2</td>\n",
       "      <td>Iris-setosa</td>\n",
       "    </tr>\n",
       "    <tr>\n",
       "      <th>26</th>\n",
       "      <td>5.00000</td>\n",
       "      <td>3.4</td>\n",
       "      <td>4.2</td>\n",
       "      <td>0.4</td>\n",
       "      <td>Iris-setosa</td>\n",
       "    </tr>\n",
       "    <tr>\n",
       "      <th>27</th>\n",
       "      <td>5.20000</td>\n",
       "      <td>3.5</td>\n",
       "      <td>1.5</td>\n",
       "      <td>0.2</td>\n",
       "      <td>Iris-setosa</td>\n",
       "    </tr>\n",
       "    <tr>\n",
       "      <th>28</th>\n",
       "      <td>5.84058</td>\n",
       "      <td>3.4</td>\n",
       "      <td>1.4</td>\n",
       "      <td>0.2</td>\n",
       "      <td>Iris-setosa</td>\n",
       "    </tr>\n",
       "    <tr>\n",
       "      <th>29</th>\n",
       "      <td>4.70000</td>\n",
       "      <td>3.2</td>\n",
       "      <td>1.6</td>\n",
       "      <td>0.2</td>\n",
       "      <td>Iris-setosa</td>\n",
       "    </tr>\n",
       "  </tbody>\n",
       "</table>\n",
       "</div>"
      ],
      "text/plain": [
       "    sepal_length  sepal_width  petal_length  petal_width      species\n",
       "0        5.10000          3.5           1.4          0.2  Iris-setosa\n",
       "1        4.90000          3.0           4.2          0.2  Iris-setosa\n",
       "2        4.70000          3.2           1.3          0.2  Iris-setosa\n",
       "3        4.60000          3.1           1.5          0.2          NaN\n",
       "4        5.00000          3.6           1.4          0.2  Iris-setosa\n",
       "5        5.40000          3.9           1.7          0.4  Iris-setosa\n",
       "6        4.60000          3.4           1.4          0.3  Iris-setosa\n",
       "7        5.00000          3.4           1.5          0.1  Iris-setosa\n",
       "8        4.40000          2.9           1.4          0.2  Iris-setosa\n",
       "9        4.90000          3.1           4.2          0.1  Iris-setosa\n",
       "10       5.40000          3.7           1.5          0.2  Iris-setosa\n",
       "11       4.80000          3.4           1.6          0.2  Iris-setosa\n",
       "12       4.80000          3.0           1.4          0.1  Iris-setosa\n",
       "13       4.30000          3.0           1.1          0.1  Iris-setosa\n",
       "14       5.80000          4.0           1.2          0.2  Iris-setosa\n",
       "15       5.70000          4.4           1.5          0.4  Iris-setosa\n",
       "16       5.84058          3.9           1.3          0.4  Iris-setosa\n",
       "17       5.10000          3.5           1.4          0.3  Iris-setosa\n",
       "18       5.70000          3.8           1.7          0.3  Iris-setosa\n",
       "19       5.10000          3.8           1.5          0.3  Iris-setosa\n",
       "20       5.40000          3.4           1.7          0.2  Iris-setosa\n",
       "21       5.10000          3.7           1.5          0.4  Iris-setosa\n",
       "22       4.60000          3.6           1.0          0.2          NaN\n",
       "23       5.10000          3.3           1.7          0.5          NaN\n",
       "24       4.80000          3.4           1.9          0.2  Iris-setosa\n",
       "25       5.00000          3.0           1.6          0.2  Iris-setosa\n",
       "26       5.00000          3.4           4.2          0.4  Iris-setosa\n",
       "27       5.20000          3.5           1.5          0.2  Iris-setosa\n",
       "28       5.84058          3.4           1.4          0.2  Iris-setosa\n",
       "29       4.70000          3.2           1.6          0.2  Iris-setosa"
      ]
     },
     "execution_count": 39,
     "metadata": {},
     "output_type": "execute_result"
    }
   ],
   "source": [
    "iris1df.head(30)"
   ]
  },
  {
   "cell_type": "markdown",
   "id": "82056129",
   "metadata": {
    "papermill": {
     "duration": 0.0246,
     "end_time": "2023-02-11T13:56:48.569537",
     "exception": false,
     "start_time": "2023-02-11T13:56:48.544937",
     "status": "completed"
    },
    "tags": []
   },
   "source": [
    "SPECIES--- DROP\n",
    "\n",
    "**8.  dropna(axis,how)**"
   ]
  },
  {
   "cell_type": "code",
   "execution_count": 40,
   "id": "ed33ad04",
   "metadata": {
    "execution": {
     "iopub.execute_input": "2023-02-11T13:56:48.621927Z",
     "iopub.status.busy": "2023-02-11T13:56:48.620904Z",
     "iopub.status.idle": "2023-02-11T13:56:48.627937Z",
     "shell.execute_reply": "2023-02-11T13:56:48.627167Z"
    },
    "papermill": {
     "duration": 0.035145,
     "end_time": "2023-02-11T13:56:48.630008",
     "exception": false,
     "start_time": "2023-02-11T13:56:48.594863",
     "status": "completed"
    },
    "tags": []
   },
   "outputs": [],
   "source": [
    "iris1df=iris1df.dropna(axis=0,how='any')"
   ]
  },
  {
   "cell_type": "code",
   "execution_count": 41,
   "id": "4a16ddc0",
   "metadata": {
    "execution": {
     "iopub.execute_input": "2023-02-11T13:56:48.681544Z",
     "iopub.status.busy": "2023-02-11T13:56:48.681081Z",
     "iopub.status.idle": "2023-02-11T13:56:48.689741Z",
     "shell.execute_reply": "2023-02-11T13:56:48.688917Z"
    },
    "papermill": {
     "duration": 0.036995,
     "end_time": "2023-02-11T13:56:48.691748",
     "exception": false,
     "start_time": "2023-02-11T13:56:48.654753",
     "status": "completed"
    },
    "tags": []
   },
   "outputs": [
    {
     "data": {
      "text/plain": [
       "sepal_length    0\n",
       "sepal_width     0\n",
       "petal_length    0\n",
       "petal_width     0\n",
       "species         0\n",
       "dtype: int64"
      ]
     },
     "execution_count": 41,
     "metadata": {},
     "output_type": "execute_result"
    }
   ],
   "source": [
    "iris1df.isnull().sum()"
   ]
  },
  {
   "cell_type": "code",
   "execution_count": 42,
   "id": "162f03af",
   "metadata": {
    "execution": {
     "iopub.execute_input": "2023-02-11T13:56:48.743980Z",
     "iopub.status.busy": "2023-02-11T13:56:48.743294Z",
     "iopub.status.idle": "2023-02-11T13:56:48.749491Z",
     "shell.execute_reply": "2023-02-11T13:56:48.748387Z"
    },
    "papermill": {
     "duration": 0.035117,
     "end_time": "2023-02-11T13:56:48.751835",
     "exception": false,
     "start_time": "2023-02-11T13:56:48.716718",
     "status": "completed"
    },
    "tags": []
   },
   "outputs": [
    {
     "data": {
      "text/plain": [
       "(135, 5)"
      ]
     },
     "execution_count": 42,
     "metadata": {},
     "output_type": "execute_result"
    }
   ],
   "source": [
    "#shape\n",
    "iris1df.shape"
   ]
  },
  {
   "cell_type": "code",
   "execution_count": 43,
   "id": "ee54da9f",
   "metadata": {
    "execution": {
     "iopub.execute_input": "2023-02-11T13:56:48.804085Z",
     "iopub.status.busy": "2023-02-11T13:56:48.803660Z",
     "iopub.status.idle": "2023-02-11T13:56:48.825984Z",
     "shell.execute_reply": "2023-02-11T13:56:48.824620Z"
    },
    "papermill": {
     "duration": 0.051274,
     "end_time": "2023-02-11T13:56:48.828432",
     "exception": false,
     "start_time": "2023-02-11T13:56:48.777158",
     "status": "completed"
    },
    "tags": []
   },
   "outputs": [
    {
     "data": {
      "text/html": [
       "<div>\n",
       "<style scoped>\n",
       "    .dataframe tbody tr th:only-of-type {\n",
       "        vertical-align: middle;\n",
       "    }\n",
       "\n",
       "    .dataframe tbody tr th {\n",
       "        vertical-align: top;\n",
       "    }\n",
       "\n",
       "    .dataframe thead th {\n",
       "        text-align: right;\n",
       "    }\n",
       "</style>\n",
       "<table border=\"1\" class=\"dataframe\">\n",
       "  <thead>\n",
       "    <tr style=\"text-align: right;\">\n",
       "      <th></th>\n",
       "      <th>sepal_length</th>\n",
       "      <th>sepal_width</th>\n",
       "      <th>petal_length</th>\n",
       "      <th>petal_width</th>\n",
       "      <th>species</th>\n",
       "    </tr>\n",
       "  </thead>\n",
       "  <tbody>\n",
       "    <tr>\n",
       "      <th>0</th>\n",
       "      <td>5.10000</td>\n",
       "      <td>3.5</td>\n",
       "      <td>1.4</td>\n",
       "      <td>0.2</td>\n",
       "      <td>Iris-setosa</td>\n",
       "    </tr>\n",
       "    <tr>\n",
       "      <th>1</th>\n",
       "      <td>4.90000</td>\n",
       "      <td>3.0</td>\n",
       "      <td>4.2</td>\n",
       "      <td>0.2</td>\n",
       "      <td>Iris-setosa</td>\n",
       "    </tr>\n",
       "    <tr>\n",
       "      <th>2</th>\n",
       "      <td>4.70000</td>\n",
       "      <td>3.2</td>\n",
       "      <td>1.3</td>\n",
       "      <td>0.2</td>\n",
       "      <td>Iris-setosa</td>\n",
       "    </tr>\n",
       "    <tr>\n",
       "      <th>4</th>\n",
       "      <td>5.00000</td>\n",
       "      <td>3.6</td>\n",
       "      <td>1.4</td>\n",
       "      <td>0.2</td>\n",
       "      <td>Iris-setosa</td>\n",
       "    </tr>\n",
       "    <tr>\n",
       "      <th>5</th>\n",
       "      <td>5.40000</td>\n",
       "      <td>3.9</td>\n",
       "      <td>1.7</td>\n",
       "      <td>0.4</td>\n",
       "      <td>Iris-setosa</td>\n",
       "    </tr>\n",
       "    <tr>\n",
       "      <th>6</th>\n",
       "      <td>4.60000</td>\n",
       "      <td>3.4</td>\n",
       "      <td>1.4</td>\n",
       "      <td>0.3</td>\n",
       "      <td>Iris-setosa</td>\n",
       "    </tr>\n",
       "    <tr>\n",
       "      <th>7</th>\n",
       "      <td>5.00000</td>\n",
       "      <td>3.4</td>\n",
       "      <td>1.5</td>\n",
       "      <td>0.1</td>\n",
       "      <td>Iris-setosa</td>\n",
       "    </tr>\n",
       "    <tr>\n",
       "      <th>8</th>\n",
       "      <td>4.40000</td>\n",
       "      <td>2.9</td>\n",
       "      <td>1.4</td>\n",
       "      <td>0.2</td>\n",
       "      <td>Iris-setosa</td>\n",
       "    </tr>\n",
       "    <tr>\n",
       "      <th>9</th>\n",
       "      <td>4.90000</td>\n",
       "      <td>3.1</td>\n",
       "      <td>4.2</td>\n",
       "      <td>0.1</td>\n",
       "      <td>Iris-setosa</td>\n",
       "    </tr>\n",
       "    <tr>\n",
       "      <th>10</th>\n",
       "      <td>5.40000</td>\n",
       "      <td>3.7</td>\n",
       "      <td>1.5</td>\n",
       "      <td>0.2</td>\n",
       "      <td>Iris-setosa</td>\n",
       "    </tr>\n",
       "    <tr>\n",
       "      <th>11</th>\n",
       "      <td>4.80000</td>\n",
       "      <td>3.4</td>\n",
       "      <td>1.6</td>\n",
       "      <td>0.2</td>\n",
       "      <td>Iris-setosa</td>\n",
       "    </tr>\n",
       "    <tr>\n",
       "      <th>12</th>\n",
       "      <td>4.80000</td>\n",
       "      <td>3.0</td>\n",
       "      <td>1.4</td>\n",
       "      <td>0.1</td>\n",
       "      <td>Iris-setosa</td>\n",
       "    </tr>\n",
       "    <tr>\n",
       "      <th>13</th>\n",
       "      <td>4.30000</td>\n",
       "      <td>3.0</td>\n",
       "      <td>1.1</td>\n",
       "      <td>0.1</td>\n",
       "      <td>Iris-setosa</td>\n",
       "    </tr>\n",
       "    <tr>\n",
       "      <th>14</th>\n",
       "      <td>5.80000</td>\n",
       "      <td>4.0</td>\n",
       "      <td>1.2</td>\n",
       "      <td>0.2</td>\n",
       "      <td>Iris-setosa</td>\n",
       "    </tr>\n",
       "    <tr>\n",
       "      <th>15</th>\n",
       "      <td>5.70000</td>\n",
       "      <td>4.4</td>\n",
       "      <td>1.5</td>\n",
       "      <td>0.4</td>\n",
       "      <td>Iris-setosa</td>\n",
       "    </tr>\n",
       "    <tr>\n",
       "      <th>16</th>\n",
       "      <td>5.84058</td>\n",
       "      <td>3.9</td>\n",
       "      <td>1.3</td>\n",
       "      <td>0.4</td>\n",
       "      <td>Iris-setosa</td>\n",
       "    </tr>\n",
       "    <tr>\n",
       "      <th>17</th>\n",
       "      <td>5.10000</td>\n",
       "      <td>3.5</td>\n",
       "      <td>1.4</td>\n",
       "      <td>0.3</td>\n",
       "      <td>Iris-setosa</td>\n",
       "    </tr>\n",
       "    <tr>\n",
       "      <th>18</th>\n",
       "      <td>5.70000</td>\n",
       "      <td>3.8</td>\n",
       "      <td>1.7</td>\n",
       "      <td>0.3</td>\n",
       "      <td>Iris-setosa</td>\n",
       "    </tr>\n",
       "    <tr>\n",
       "      <th>19</th>\n",
       "      <td>5.10000</td>\n",
       "      <td>3.8</td>\n",
       "      <td>1.5</td>\n",
       "      <td>0.3</td>\n",
       "      <td>Iris-setosa</td>\n",
       "    </tr>\n",
       "    <tr>\n",
       "      <th>20</th>\n",
       "      <td>5.40000</td>\n",
       "      <td>3.4</td>\n",
       "      <td>1.7</td>\n",
       "      <td>0.2</td>\n",
       "      <td>Iris-setosa</td>\n",
       "    </tr>\n",
       "    <tr>\n",
       "      <th>21</th>\n",
       "      <td>5.10000</td>\n",
       "      <td>3.7</td>\n",
       "      <td>1.5</td>\n",
       "      <td>0.4</td>\n",
       "      <td>Iris-setosa</td>\n",
       "    </tr>\n",
       "    <tr>\n",
       "      <th>24</th>\n",
       "      <td>4.80000</td>\n",
       "      <td>3.4</td>\n",
       "      <td>1.9</td>\n",
       "      <td>0.2</td>\n",
       "      <td>Iris-setosa</td>\n",
       "    </tr>\n",
       "    <tr>\n",
       "      <th>25</th>\n",
       "      <td>5.00000</td>\n",
       "      <td>3.0</td>\n",
       "      <td>1.6</td>\n",
       "      <td>0.2</td>\n",
       "      <td>Iris-setosa</td>\n",
       "    </tr>\n",
       "    <tr>\n",
       "      <th>26</th>\n",
       "      <td>5.00000</td>\n",
       "      <td>3.4</td>\n",
       "      <td>4.2</td>\n",
       "      <td>0.4</td>\n",
       "      <td>Iris-setosa</td>\n",
       "    </tr>\n",
       "    <tr>\n",
       "      <th>27</th>\n",
       "      <td>5.20000</td>\n",
       "      <td>3.5</td>\n",
       "      <td>1.5</td>\n",
       "      <td>0.2</td>\n",
       "      <td>Iris-setosa</td>\n",
       "    </tr>\n",
       "    <tr>\n",
       "      <th>28</th>\n",
       "      <td>5.84058</td>\n",
       "      <td>3.4</td>\n",
       "      <td>1.4</td>\n",
       "      <td>0.2</td>\n",
       "      <td>Iris-setosa</td>\n",
       "    </tr>\n",
       "    <tr>\n",
       "      <th>29</th>\n",
       "      <td>4.70000</td>\n",
       "      <td>3.2</td>\n",
       "      <td>1.6</td>\n",
       "      <td>0.2</td>\n",
       "      <td>Iris-setosa</td>\n",
       "    </tr>\n",
       "    <tr>\n",
       "      <th>30</th>\n",
       "      <td>4.80000</td>\n",
       "      <td>3.1</td>\n",
       "      <td>1.6</td>\n",
       "      <td>0.2</td>\n",
       "      <td>Iris-setosa</td>\n",
       "    </tr>\n",
       "    <tr>\n",
       "      <th>31</th>\n",
       "      <td>5.40000</td>\n",
       "      <td>3.4</td>\n",
       "      <td>1.5</td>\n",
       "      <td>0.4</td>\n",
       "      <td>Iris-setosa</td>\n",
       "    </tr>\n",
       "    <tr>\n",
       "      <th>32</th>\n",
       "      <td>5.20000</td>\n",
       "      <td>3.0</td>\n",
       "      <td>1.5</td>\n",
       "      <td>0.1</td>\n",
       "      <td>Iris-setosa</td>\n",
       "    </tr>\n",
       "  </tbody>\n",
       "</table>\n",
       "</div>"
      ],
      "text/plain": [
       "    sepal_length  sepal_width  petal_length  petal_width      species\n",
       "0        5.10000          3.5           1.4          0.2  Iris-setosa\n",
       "1        4.90000          3.0           4.2          0.2  Iris-setosa\n",
       "2        4.70000          3.2           1.3          0.2  Iris-setosa\n",
       "4        5.00000          3.6           1.4          0.2  Iris-setosa\n",
       "5        5.40000          3.9           1.7          0.4  Iris-setosa\n",
       "6        4.60000          3.4           1.4          0.3  Iris-setosa\n",
       "7        5.00000          3.4           1.5          0.1  Iris-setosa\n",
       "8        4.40000          2.9           1.4          0.2  Iris-setosa\n",
       "9        4.90000          3.1           4.2          0.1  Iris-setosa\n",
       "10       5.40000          3.7           1.5          0.2  Iris-setosa\n",
       "11       4.80000          3.4           1.6          0.2  Iris-setosa\n",
       "12       4.80000          3.0           1.4          0.1  Iris-setosa\n",
       "13       4.30000          3.0           1.1          0.1  Iris-setosa\n",
       "14       5.80000          4.0           1.2          0.2  Iris-setosa\n",
       "15       5.70000          4.4           1.5          0.4  Iris-setosa\n",
       "16       5.84058          3.9           1.3          0.4  Iris-setosa\n",
       "17       5.10000          3.5           1.4          0.3  Iris-setosa\n",
       "18       5.70000          3.8           1.7          0.3  Iris-setosa\n",
       "19       5.10000          3.8           1.5          0.3  Iris-setosa\n",
       "20       5.40000          3.4           1.7          0.2  Iris-setosa\n",
       "21       5.10000          3.7           1.5          0.4  Iris-setosa\n",
       "24       4.80000          3.4           1.9          0.2  Iris-setosa\n",
       "25       5.00000          3.0           1.6          0.2  Iris-setosa\n",
       "26       5.00000          3.4           4.2          0.4  Iris-setosa\n",
       "27       5.20000          3.5           1.5          0.2  Iris-setosa\n",
       "28       5.84058          3.4           1.4          0.2  Iris-setosa\n",
       "29       4.70000          3.2           1.6          0.2  Iris-setosa\n",
       "30       4.80000          3.1           1.6          0.2  Iris-setosa\n",
       "31       5.40000          3.4           1.5          0.4  Iris-setosa\n",
       "32       5.20000          3.0           1.5          0.1  Iris-setosa"
      ]
     },
     "execution_count": 43,
     "metadata": {},
     "output_type": "execute_result"
    }
   ],
   "source": [
    "iris1df.head(30)"
   ]
  },
  {
   "cell_type": "markdown",
   "id": "2c09189a",
   "metadata": {
    "papermill": {
     "duration": 0.025153,
     "end_time": "2023-02-11T13:56:48.879214",
     "exception": false,
     "start_time": "2023-02-11T13:56:48.854061",
     "status": "completed"
    },
    "tags": []
   },
   "source": [
    "# Data Visualization\n",
    "#### (Using Day 3 Dataset)"
   ]
  },
  {
   "cell_type": "code",
   "execution_count": 44,
   "id": "46222e43",
   "metadata": {
    "execution": {
     "iopub.execute_input": "2023-02-11T13:56:48.931520Z",
     "iopub.status.busy": "2023-02-11T13:56:48.931091Z",
     "iopub.status.idle": "2023-02-11T13:56:48.936431Z",
     "shell.execute_reply": "2023-02-11T13:56:48.935079Z"
    },
    "papermill": {
     "duration": 0.034253,
     "end_time": "2023-02-11T13:56:48.938736",
     "exception": false,
     "start_time": "2023-02-11T13:56:48.904483",
     "status": "completed"
    },
    "tags": []
   },
   "outputs": [],
   "source": [
    "import matplotlib.pyplot as plt"
   ]
  },
  {
   "cell_type": "code",
   "execution_count": 45,
   "id": "0b4da71b",
   "metadata": {
    "execution": {
     "iopub.execute_input": "2023-02-11T13:56:48.991170Z",
     "iopub.status.busy": "2023-02-11T13:56:48.990763Z",
     "iopub.status.idle": "2023-02-11T13:56:48.996589Z",
     "shell.execute_reply": "2023-02-11T13:56:48.995559Z"
    },
    "papermill": {
     "duration": 0.034866,
     "end_time": "2023-02-11T13:56:48.999058",
     "exception": false,
     "start_time": "2023-02-11T13:56:48.964192",
     "status": "completed"
    },
    "tags": []
   },
   "outputs": [],
   "source": [
    "petal_length=irisdf['petal_length']\n",
    "petal_width=irisdf['petal_width']\n",
    "sepal_length=irisdf['sepal_length']\n",
    "sepal_width=irisdf['sepal_width']"
   ]
  },
  {
   "cell_type": "markdown",
   "id": "261cf099",
   "metadata": {
    "papermill": {
     "duration": 0.025073,
     "end_time": "2023-02-11T13:56:49.050748",
     "exception": false,
     "start_time": "2023-02-11T13:56:49.025675",
     "status": "completed"
    },
    "tags": []
   },
   "source": [
    "## Scatter Plot between Petal Length and Petal Width"
   ]
  },
  {
   "cell_type": "code",
   "execution_count": 46,
   "id": "4b421cc3",
   "metadata": {
    "execution": {
     "iopub.execute_input": "2023-02-11T13:56:49.104066Z",
     "iopub.status.busy": "2023-02-11T13:56:49.103171Z",
     "iopub.status.idle": "2023-02-11T13:56:49.340445Z",
     "shell.execute_reply": "2023-02-11T13:56:49.339351Z"
    },
    "papermill": {
     "duration": 0.266643,
     "end_time": "2023-02-11T13:56:49.342877",
     "exception": false,
     "start_time": "2023-02-11T13:56:49.076234",
     "status": "completed"
    },
    "tags": []
   },
   "outputs": [
    {
     "data": {
      "image/png": "[encoded data removed]",
      "text/plain": [
       "<Figure size 432x288 with 1 Axes>"
      ]
     },
     "metadata": {
      "needs_background": "light"
     },
     "output_type": "display_data"
    }
   ],
   "source": [
    "plt.scatter(x=petal_length,y=petal_width)\n",
    "plt.xlabel(\"petal_length\")\n",
    "plt.ylabel(\"petal_width\")\n",
    "plt.show()"
   ]
  },
  {
   "cell_type": "markdown",
   "id": "407a6eaf",
   "metadata": {
    "papermill": {
     "duration": 0.024776,
     "end_time": "2023-02-11T13:56:49.393237",
     "exception": false,
     "start_time": "2023-02-11T13:56:49.368461",
     "status": "completed"
    },
    "tags": []
   },
   "source": [
    "## Scatter Plot Categorization with Different Species of the Iris Plant"
   ]
  },
  {
   "cell_type": "code",
   "execution_count": 47,
   "id": "482837a8",
   "metadata": {
    "execution": {
     "iopub.execute_input": "2023-02-11T13:56:49.445002Z",
     "iopub.status.busy": "2023-02-11T13:56:49.444542Z",
     "iopub.status.idle": "2023-02-11T13:56:49.475434Z",
     "shell.execute_reply": "2023-02-11T13:56:49.474304Z"
    },
    "papermill": {
     "duration": 0.059783,
     "end_time": "2023-02-11T13:56:49.477824",
     "exception": false,
     "start_time": "2023-02-11T13:56:49.418041",
     "status": "completed"
    },
    "tags": []
   },
   "outputs": [
    {
     "data": {
      "text/html": [
       "<div>\n",
       "<style scoped>\n",
       "    .dataframe tbody tr th:only-of-type {\n",
       "        vertical-align: middle;\n",
       "    }\n",
       "\n",
       "    .dataframe tbody tr th {\n",
       "        vertical-align: top;\n",
       "    }\n",
       "\n",
       "    .dataframe thead th {\n",
       "        text-align: right;\n",
       "    }\n",
       "</style>\n",
       "<table border=\"1\" class=\"dataframe\">\n",
       "  <thead>\n",
       "    <tr style=\"text-align: right;\">\n",
       "      <th></th>\n",
       "      <th>sepal_length</th>\n",
       "      <th>sepal_width</th>\n",
       "      <th>petal_length</th>\n",
       "      <th>petal_width</th>\n",
       "      <th>species</th>\n",
       "    </tr>\n",
       "  </thead>\n",
       "  <tbody>\n",
       "    <tr>\n",
       "      <th>0</th>\n",
       "      <td>5.1</td>\n",
       "      <td>3.5</td>\n",
       "      <td>1.4</td>\n",
       "      <td>0.2</td>\n",
       "      <td>Iris-setosa</td>\n",
       "    </tr>\n",
       "    <tr>\n",
       "      <th>1</th>\n",
       "      <td>4.9</td>\n",
       "      <td>3.0</td>\n",
       "      <td>1.4</td>\n",
       "      <td>0.2</td>\n",
       "      <td>Iris-setosa</td>\n",
       "    </tr>\n",
       "    <tr>\n",
       "      <th>2</th>\n",
       "      <td>4.7</td>\n",
       "      <td>3.2</td>\n",
       "      <td>1.3</td>\n",
       "      <td>0.2</td>\n",
       "      <td>Iris-setosa</td>\n",
       "    </tr>\n",
       "    <tr>\n",
       "      <th>3</th>\n",
       "      <td>4.6</td>\n",
       "      <td>3.1</td>\n",
       "      <td>1.5</td>\n",
       "      <td>0.2</td>\n",
       "      <td>Iris-setosa</td>\n",
       "    </tr>\n",
       "    <tr>\n",
       "      <th>4</th>\n",
       "      <td>5.0</td>\n",
       "      <td>3.6</td>\n",
       "      <td>1.4</td>\n",
       "      <td>0.2</td>\n",
       "      <td>Iris-setosa</td>\n",
       "    </tr>\n",
       "    <tr>\n",
       "      <th>5</th>\n",
       "      <td>5.4</td>\n",
       "      <td>3.9</td>\n",
       "      <td>1.7</td>\n",
       "      <td>0.4</td>\n",
       "      <td>Iris-setosa</td>\n",
       "    </tr>\n",
       "    <tr>\n",
       "      <th>6</th>\n",
       "      <td>4.6</td>\n",
       "      <td>3.4</td>\n",
       "      <td>1.4</td>\n",
       "      <td>0.3</td>\n",
       "      <td>Iris-setosa</td>\n",
       "    </tr>\n",
       "    <tr>\n",
       "      <th>7</th>\n",
       "      <td>5.0</td>\n",
       "      <td>3.4</td>\n",
       "      <td>1.5</td>\n",
       "      <td>0.2</td>\n",
       "      <td>Iris-setosa</td>\n",
       "    </tr>\n",
       "    <tr>\n",
       "      <th>8</th>\n",
       "      <td>4.4</td>\n",
       "      <td>2.9</td>\n",
       "      <td>1.4</td>\n",
       "      <td>0.2</td>\n",
       "      <td>Iris-setosa</td>\n",
       "    </tr>\n",
       "    <tr>\n",
       "      <th>9</th>\n",
       "      <td>4.9</td>\n",
       "      <td>3.1</td>\n",
       "      <td>1.5</td>\n",
       "      <td>0.1</td>\n",
       "      <td>Iris-setosa</td>\n",
       "    </tr>\n",
       "    <tr>\n",
       "      <th>10</th>\n",
       "      <td>5.4</td>\n",
       "      <td>3.7</td>\n",
       "      <td>1.5</td>\n",
       "      <td>0.2</td>\n",
       "      <td>Iris-setosa</td>\n",
       "    </tr>\n",
       "    <tr>\n",
       "      <th>11</th>\n",
       "      <td>4.8</td>\n",
       "      <td>3.4</td>\n",
       "      <td>1.6</td>\n",
       "      <td>0.2</td>\n",
       "      <td>Iris-setosa</td>\n",
       "    </tr>\n",
       "    <tr>\n",
       "      <th>12</th>\n",
       "      <td>4.8</td>\n",
       "      <td>3.0</td>\n",
       "      <td>1.4</td>\n",
       "      <td>0.1</td>\n",
       "      <td>Iris-setosa</td>\n",
       "    </tr>\n",
       "    <tr>\n",
       "      <th>13</th>\n",
       "      <td>4.3</td>\n",
       "      <td>3.0</td>\n",
       "      <td>1.1</td>\n",
       "      <td>0.1</td>\n",
       "      <td>Iris-setosa</td>\n",
       "    </tr>\n",
       "    <tr>\n",
       "      <th>14</th>\n",
       "      <td>5.8</td>\n",
       "      <td>4.0</td>\n",
       "      <td>1.2</td>\n",
       "      <td>0.2</td>\n",
       "      <td>Iris-setosa</td>\n",
       "    </tr>\n",
       "    <tr>\n",
       "      <th>15</th>\n",
       "      <td>5.7</td>\n",
       "      <td>4.4</td>\n",
       "      <td>1.5</td>\n",
       "      <td>0.4</td>\n",
       "      <td>Iris-setosa</td>\n",
       "    </tr>\n",
       "    <tr>\n",
       "      <th>16</th>\n",
       "      <td>5.4</td>\n",
       "      <td>3.9</td>\n",
       "      <td>1.3</td>\n",
       "      <td>0.4</td>\n",
       "      <td>Iris-setosa</td>\n",
       "    </tr>\n",
       "    <tr>\n",
       "      <th>17</th>\n",
       "      <td>5.1</td>\n",
       "      <td>3.5</td>\n",
       "      <td>1.4</td>\n",
       "      <td>0.3</td>\n",
       "      <td>Iris-setosa</td>\n",
       "    </tr>\n",
       "    <tr>\n",
       "      <th>18</th>\n",
       "      <td>5.7</td>\n",
       "      <td>3.8</td>\n",
       "      <td>1.7</td>\n",
       "      <td>0.3</td>\n",
       "      <td>Iris-setosa</td>\n",
       "    </tr>\n",
       "    <tr>\n",
       "      <th>19</th>\n",
       "      <td>5.1</td>\n",
       "      <td>3.8</td>\n",
       "      <td>1.5</td>\n",
       "      <td>0.3</td>\n",
       "      <td>Iris-setosa</td>\n",
       "    </tr>\n",
       "    <tr>\n",
       "      <th>20</th>\n",
       "      <td>5.4</td>\n",
       "      <td>3.4</td>\n",
       "      <td>1.7</td>\n",
       "      <td>0.2</td>\n",
       "      <td>Iris-setosa</td>\n",
       "    </tr>\n",
       "    <tr>\n",
       "      <th>21</th>\n",
       "      <td>5.1</td>\n",
       "      <td>3.7</td>\n",
       "      <td>1.5</td>\n",
       "      <td>0.4</td>\n",
       "      <td>Iris-setosa</td>\n",
       "    </tr>\n",
       "    <tr>\n",
       "      <th>22</th>\n",
       "      <td>4.6</td>\n",
       "      <td>3.6</td>\n",
       "      <td>1.0</td>\n",
       "      <td>0.2</td>\n",
       "      <td>Iris-setosa</td>\n",
       "    </tr>\n",
       "    <tr>\n",
       "      <th>23</th>\n",
       "      <td>5.1</td>\n",
       "      <td>3.3</td>\n",
       "      <td>1.7</td>\n",
       "      <td>0.5</td>\n",
       "      <td>Iris-setosa</td>\n",
       "    </tr>\n",
       "    <tr>\n",
       "      <th>24</th>\n",
       "      <td>4.8</td>\n",
       "      <td>3.4</td>\n",
       "      <td>1.9</td>\n",
       "      <td>0.2</td>\n",
       "      <td>Iris-setosa</td>\n",
       "    </tr>\n",
       "    <tr>\n",
       "      <th>25</th>\n",
       "      <td>5.0</td>\n",
       "      <td>3.0</td>\n",
       "      <td>1.6</td>\n",
       "      <td>0.2</td>\n",
       "      <td>Iris-setosa</td>\n",
       "    </tr>\n",
       "    <tr>\n",
       "      <th>26</th>\n",
       "      <td>5.0</td>\n",
       "      <td>3.4</td>\n",
       "      <td>1.6</td>\n",
       "      <td>0.4</td>\n",
       "      <td>Iris-setosa</td>\n",
       "    </tr>\n",
       "    <tr>\n",
       "      <th>27</th>\n",
       "      <td>5.2</td>\n",
       "      <td>3.5</td>\n",
       "      <td>1.5</td>\n",
       "      <td>0.2</td>\n",
       "      <td>Iris-setosa</td>\n",
       "    </tr>\n",
       "    <tr>\n",
       "      <th>28</th>\n",
       "      <td>5.2</td>\n",
       "      <td>3.4</td>\n",
       "      <td>1.4</td>\n",
       "      <td>0.2</td>\n",
       "      <td>Iris-setosa</td>\n",
       "    </tr>\n",
       "    <tr>\n",
       "      <th>29</th>\n",
       "      <td>4.7</td>\n",
       "      <td>3.2</td>\n",
       "      <td>1.6</td>\n",
       "      <td>0.2</td>\n",
       "      <td>Iris-setosa</td>\n",
       "    </tr>\n",
       "    <tr>\n",
       "      <th>30</th>\n",
       "      <td>4.8</td>\n",
       "      <td>3.1</td>\n",
       "      <td>1.6</td>\n",
       "      <td>0.2</td>\n",
       "      <td>Iris-setosa</td>\n",
       "    </tr>\n",
       "    <tr>\n",
       "      <th>31</th>\n",
       "      <td>5.4</td>\n",
       "      <td>3.4</td>\n",
       "      <td>1.5</td>\n",
       "      <td>0.4</td>\n",
       "      <td>Iris-setosa</td>\n",
       "    </tr>\n",
       "    <tr>\n",
       "      <th>32</th>\n",
       "      <td>5.2</td>\n",
       "      <td>4.1</td>\n",
       "      <td>1.5</td>\n",
       "      <td>0.1</td>\n",
       "      <td>Iris-setosa</td>\n",
       "    </tr>\n",
       "    <tr>\n",
       "      <th>33</th>\n",
       "      <td>5.5</td>\n",
       "      <td>4.2</td>\n",
       "      <td>1.4</td>\n",
       "      <td>0.2</td>\n",
       "      <td>Iris-setosa</td>\n",
       "    </tr>\n",
       "    <tr>\n",
       "      <th>35</th>\n",
       "      <td>5.0</td>\n",
       "      <td>3.2</td>\n",
       "      <td>1.2</td>\n",
       "      <td>0.2</td>\n",
       "      <td>Iris-setosa</td>\n",
       "    </tr>\n",
       "    <tr>\n",
       "      <th>36</th>\n",
       "      <td>5.5</td>\n",
       "      <td>3.5</td>\n",
       "      <td>1.3</td>\n",
       "      <td>0.2</td>\n",
       "      <td>Iris-setosa</td>\n",
       "    </tr>\n",
       "    <tr>\n",
       "      <th>38</th>\n",
       "      <td>4.4</td>\n",
       "      <td>3.0</td>\n",
       "      <td>1.3</td>\n",
       "      <td>0.2</td>\n",
       "      <td>Iris-setosa</td>\n",
       "    </tr>\n",
       "    <tr>\n",
       "      <th>39</th>\n",
       "      <td>5.1</td>\n",
       "      <td>3.4</td>\n",
       "      <td>1.5</td>\n",
       "      <td>0.2</td>\n",
       "      <td>Iris-setosa</td>\n",
       "    </tr>\n",
       "    <tr>\n",
       "      <th>40</th>\n",
       "      <td>5.0</td>\n",
       "      <td>3.5</td>\n",
       "      <td>1.3</td>\n",
       "      <td>0.3</td>\n",
       "      <td>Iris-setosa</td>\n",
       "    </tr>\n",
       "    <tr>\n",
       "      <th>41</th>\n",
       "      <td>4.5</td>\n",
       "      <td>2.3</td>\n",
       "      <td>1.3</td>\n",
       "      <td>0.3</td>\n",
       "      <td>Iris-setosa</td>\n",
       "    </tr>\n",
       "    <tr>\n",
       "      <th>42</th>\n",
       "      <td>4.4</td>\n",
       "      <td>3.2</td>\n",
       "      <td>1.3</td>\n",
       "      <td>0.2</td>\n",
       "      <td>Iris-setosa</td>\n",
       "    </tr>\n",
       "    <tr>\n",
       "      <th>43</th>\n",
       "      <td>5.0</td>\n",
       "      <td>3.5</td>\n",
       "      <td>1.6</td>\n",
       "      <td>0.6</td>\n",
       "      <td>Iris-setosa</td>\n",
       "    </tr>\n",
       "    <tr>\n",
       "      <th>44</th>\n",
       "      <td>5.1</td>\n",
       "      <td>3.8</td>\n",
       "      <td>1.9</td>\n",
       "      <td>0.4</td>\n",
       "      <td>Iris-setosa</td>\n",
       "    </tr>\n",
       "    <tr>\n",
       "      <th>45</th>\n",
       "      <td>4.8</td>\n",
       "      <td>3.0</td>\n",
       "      <td>1.4</td>\n",
       "      <td>0.3</td>\n",
       "      <td>Iris-setosa</td>\n",
       "    </tr>\n",
       "    <tr>\n",
       "      <th>46</th>\n",
       "      <td>5.1</td>\n",
       "      <td>3.8</td>\n",
       "      <td>1.6</td>\n",
       "      <td>0.2</td>\n",
       "      <td>Iris-setosa</td>\n",
       "    </tr>\n",
       "    <tr>\n",
       "      <th>47</th>\n",
       "      <td>4.6</td>\n",
       "      <td>3.2</td>\n",
       "      <td>1.4</td>\n",
       "      <td>0.2</td>\n",
       "      <td>Iris-setosa</td>\n",
       "    </tr>\n",
       "    <tr>\n",
       "      <th>48</th>\n",
       "      <td>5.3</td>\n",
       "      <td>3.7</td>\n",
       "      <td>1.5</td>\n",
       "      <td>0.2</td>\n",
       "      <td>Iris-setosa</td>\n",
       "    </tr>\n",
       "    <tr>\n",
       "      <th>49</th>\n",
       "      <td>5.0</td>\n",
       "      <td>3.3</td>\n",
       "      <td>1.4</td>\n",
       "      <td>0.2</td>\n",
       "      <td>Iris-setosa</td>\n",
       "    </tr>\n",
       "  </tbody>\n",
       "</table>\n",
       "</div>"
      ],
      "text/plain": [
       "    sepal_length  sepal_width  petal_length  petal_width      species\n",
       "0            5.1          3.5           1.4          0.2  Iris-setosa\n",
       "1            4.9          3.0           1.4          0.2  Iris-setosa\n",
       "2            4.7          3.2           1.3          0.2  Iris-setosa\n",
       "3            4.6          3.1           1.5          0.2  Iris-setosa\n",
       "4            5.0          3.6           1.4          0.2  Iris-setosa\n",
       "5            5.4          3.9           1.7          0.4  Iris-setosa\n",
       "6            4.6          3.4           1.4          0.3  Iris-setosa\n",
       "7            5.0          3.4           1.5          0.2  Iris-setosa\n",
       "8            4.4          2.9           1.4          0.2  Iris-setosa\n",
       "9            4.9          3.1           1.5          0.1  Iris-setosa\n",
       "10           5.4          3.7           1.5          0.2  Iris-setosa\n",
       "11           4.8          3.4           1.6          0.2  Iris-setosa\n",
       "12           4.8          3.0           1.4          0.1  Iris-setosa\n",
       "13           4.3          3.0           1.1          0.1  Iris-setosa\n",
       "14           5.8          4.0           1.2          0.2  Iris-setosa\n",
       "15           5.7          4.4           1.5          0.4  Iris-setosa\n",
       "16           5.4          3.9           1.3          0.4  Iris-setosa\n",
       "17           5.1          3.5           1.4          0.3  Iris-setosa\n",
       "18           5.7          3.8           1.7          0.3  Iris-setosa\n",
       "19           5.1          3.8           1.5          0.3  Iris-setosa\n",
       "20           5.4          3.4           1.7          0.2  Iris-setosa\n",
       "21           5.1          3.7           1.5          0.4  Iris-setosa\n",
       "22           4.6          3.6           1.0          0.2  Iris-setosa\n",
       "23           5.1          3.3           1.7          0.5  Iris-setosa\n",
       "24           4.8          3.4           1.9          0.2  Iris-setosa\n",
       "25           5.0          3.0           1.6          0.2  Iris-setosa\n",
       "26           5.0          3.4           1.6          0.4  Iris-setosa\n",
       "27           5.2          3.5           1.5          0.2  Iris-setosa\n",
       "28           5.2          3.4           1.4          0.2  Iris-setosa\n",
       "29           4.7          3.2           1.6          0.2  Iris-setosa\n",
       "30           4.8          3.1           1.6          0.2  Iris-setosa\n",
       "31           5.4          3.4           1.5          0.4  Iris-setosa\n",
       "32           5.2          4.1           1.5          0.1  Iris-setosa\n",
       "33           5.5          4.2           1.4          0.2  Iris-setosa\n",
       "35           5.0          3.2           1.2          0.2  Iris-setosa\n",
       "36           5.5          3.5           1.3          0.2  Iris-setosa\n",
       "38           4.4          3.0           1.3          0.2  Iris-setosa\n",
       "39           5.1          3.4           1.5          0.2  Iris-setosa\n",
       "40           5.0          3.5           1.3          0.3  Iris-setosa\n",
       "41           4.5          2.3           1.3          0.3  Iris-setosa\n",
       "42           4.4          3.2           1.3          0.2  Iris-setosa\n",
       "43           5.0          3.5           1.6          0.6  Iris-setosa\n",
       "44           5.1          3.8           1.9          0.4  Iris-setosa\n",
       "45           4.8          3.0           1.4          0.3  Iris-setosa\n",
       "46           5.1          3.8           1.6          0.2  Iris-setosa\n",
       "47           4.6          3.2           1.4          0.2  Iris-setosa\n",
       "48           5.3          3.7           1.5          0.2  Iris-setosa\n",
       "49           5.0          3.3           1.4          0.2  Iris-setosa"
      ]
     },
     "execution_count": 47,
     "metadata": {},
     "output_type": "execute_result"
    }
   ],
   "source": [
    "setosa=irisdf[irisdf[\"species\"]==\"Iris-setosa\"]\n",
    "setosa"
   ]
  },
  {
   "cell_type": "code",
   "execution_count": 48,
   "id": "7e538fe0",
   "metadata": {
    "execution": {
     "iopub.execute_input": "2023-02-11T13:56:49.532296Z",
     "iopub.status.busy": "2023-02-11T13:56:49.531420Z",
     "iopub.status.idle": "2023-02-11T13:56:49.538306Z",
     "shell.execute_reply": "2023-02-11T13:56:49.537124Z"
    },
    "papermill": {
     "duration": 0.036438,
     "end_time": "2023-02-11T13:56:49.540438",
     "exception": false,
     "start_time": "2023-02-11T13:56:49.504000",
     "status": "completed"
    },
    "tags": []
   },
   "outputs": [],
   "source": [
    "versicolor=irisdf[irisdf[\"species\"]==\"Iris-versicolor\"]\n",
    "virginica=irisdf[irisdf[\"species\"]==\"Iris-virginica\"]"
   ]
  },
  {
   "cell_type": "code",
   "execution_count": 49,
   "id": "da7103a3",
   "metadata": {
    "execution": {
     "iopub.execute_input": "2023-02-11T13:56:49.595858Z",
     "iopub.status.busy": "2023-02-11T13:56:49.595479Z",
     "iopub.status.idle": "2023-02-11T13:56:49.865987Z",
     "shell.execute_reply": "2023-02-11T13:56:49.865169Z"
    },
    "papermill": {
     "duration": 0.301433,
     "end_time": "2023-02-11T13:56:49.868278",
     "exception": false,
     "start_time": "2023-02-11T13:56:49.566845",
     "status": "completed"
    },
    "tags": []
   },
   "outputs": [
    {
     "data": {
      "image/png": "[encoded data removed]",
      "text/plain": [
       "<Figure size 432x288 with 1 Axes>"
      ]
     },
     "metadata": {
      "needs_background": "light"
     },
     "output_type": "display_data"
    }
   ],
   "source": [
    "plt.scatter(setosa['petal_length'],setosa['petal_width'],color='blue',label=\"setosa\")\n",
    "plt.scatter(versicolor['petal_length'],versicolor['petal_width'],color='green',label=\"versicolor\")\n",
    "plt.scatter(virginica['petal_length'],virginica['petal_width'],color='orange',label=\"virginica\")\n",
    "plt.xlabel(\"petal_length\")\n",
    "plt.ylabel(\"petal_width\")\n",
    "plt.legend()\n",
    "plt.show()"
   ]
  },
  {
   "cell_type": "markdown",
   "id": "abd9b6d2",
   "metadata": {
    "papermill": {
     "duration": 0.026039,
     "end_time": "2023-02-11T13:56:49.920972",
     "exception": false,
     "start_time": "2023-02-11T13:56:49.894933",
     "status": "completed"
    },
    "tags": []
   },
   "source": [
    "## Bar Graph between Petal Length and Petal Width"
   ]
  },
  {
   "cell_type": "code",
   "execution_count": 50,
   "id": "69c62331",
   "metadata": {
    "execution": {
     "iopub.execute_input": "2023-02-11T13:56:49.975425Z",
     "iopub.status.busy": "2023-02-11T13:56:49.974571Z",
     "iopub.status.idle": "2023-02-11T13:56:50.195770Z",
     "shell.execute_reply": "2023-02-11T13:56:50.194602Z"
    },
    "papermill": {
     "duration": 0.251067,
     "end_time": "2023-02-11T13:56:50.198268",
     "exception": false,
     "start_time": "2023-02-11T13:56:49.947201",
     "status": "completed"
    },
    "tags": []
   },
   "outputs": [
    {
     "data": {
      "image/png": "[encoded data removed]",
      "text/plain": [
       "<Figure size 432x288 with 1 Axes>"
      ]
     },
     "metadata": {
      "needs_background": "light"
     },
     "output_type": "display_data"
    }
   ],
   "source": [
    "plt.hist(irisdf[\"petal_length\"])\n",
    "plt.xlabel(\"petal_length\")\n",
    "plt.ylabel(\"petal_width\")\n",
    "plt.show()"
   ]
  },
  {
   "cell_type": "code",
   "execution_count": 51,
   "id": "38ccbd93",
   "metadata": {
    "execution": {
     "iopub.execute_input": "2023-02-11T13:56:50.253239Z",
     "iopub.status.busy": "2023-02-11T13:56:50.252803Z",
     "iopub.status.idle": "2023-02-11T13:56:50.261925Z",
     "shell.execute_reply": "2023-02-11T13:56:50.260528Z"
    },
    "papermill": {
     "duration": 0.039392,
     "end_time": "2023-02-11T13:56:50.264232",
     "exception": false,
     "start_time": "2023-02-11T13:56:50.224840",
     "status": "completed"
    },
    "tags": []
   },
   "outputs": [
    {
     "data": {
      "text/plain": [
       "Iris-versicolor    50\n",
       "Iris-virginica     49\n",
       "Iris-setosa        48\n",
       "Name: species, dtype: int64"
      ]
     },
     "execution_count": 51,
     "metadata": {},
     "output_type": "execute_result"
    }
   ],
   "source": [
    "irisdf[\"species\"].value_counts()"
   ]
  },
  {
   "cell_type": "markdown",
   "id": "2ce026ed",
   "metadata": {
    "papermill": {
     "duration": 0.026581,
     "end_time": "2023-02-11T13:56:50.317414",
     "exception": false,
     "start_time": "2023-02-11T13:56:50.290833",
     "status": "completed"
    },
    "tags": []
   },
   "source": [
    "## Pie chart comparing the number of species in the dataset"
   ]
  },
  {
   "cell_type": "code",
   "execution_count": 52,
   "id": "2552cfd8",
   "metadata": {
    "execution": {
     "iopub.execute_input": "2023-02-11T13:56:50.373859Z",
     "iopub.status.busy": "2023-02-11T13:56:50.372862Z",
     "iopub.status.idle": "2023-02-11T13:56:50.547592Z",
     "shell.execute_reply": "2023-02-11T13:56:50.546081Z"
    },
    "papermill": {
     "duration": 0.207849,
     "end_time": "2023-02-11T13:56:50.552261",
     "exception": false,
     "start_time": "2023-02-11T13:56:50.344412",
     "status": "completed"
    },
    "tags": []
   },
   "outputs": [
    {
     "data": {
      "image/png": "[encoded data removed]",
      "text/plain": [
       "<Figure size 432x288 with 1 Axes>"
      ]
     },
     "metadata": {},
     "output_type": "display_data"
    }
   ],
   "source": [
    "plt.pie(irisdf[\"species\"].value_counts(),labels=irisdf[\"species\"].value_counts(),autopct=\"%0.0f\")\n",
    "plt.legend()\n",
    "plt.show()"
   ]
  },
  {
   "cell_type": "markdown",
   "id": "cb68316a",
   "metadata": {
    "papermill": {
     "duration": 0.02719,
     "end_time": "2023-02-11T13:56:50.632669",
     "exception": false,
     "start_time": "2023-02-11T13:56:50.605479",
     "status": "completed"
    },
    "tags": []
   },
   "source": [
    "# Data Modelling\n",
    "#### (Using Day 3 Dataset)"
   ]
  },
  {
   "cell_type": "code",
   "execution_count": 53,
   "id": "cc09045e",
   "metadata": {
    "execution": {
     "iopub.execute_input": "2023-02-11T13:56:50.689064Z",
     "iopub.status.busy": "2023-02-11T13:56:50.688367Z",
     "iopub.status.idle": "2023-02-11T13:56:51.780654Z",
     "shell.execute_reply": "2023-02-11T13:56:51.779680Z"
    },
    "papermill": {
     "duration": 1.123571,
     "end_time": "2023-02-11T13:56:51.783267",
     "exception": false,
     "start_time": "2023-02-11T13:56:50.659696",
     "status": "completed"
    },
    "tags": []
   },
   "outputs": [],
   "source": [
    "import numpy as np\n",
    "from sklearn.preprocessing import StandardScaler\n",
    "from sklearn.model_selection import train_test_split\n",
    "from sklearn.neighbors import KNeighborsClassifier\n",
    "from sklearn.metrics import accuracy_score\n",
    "from sklearn.metrics import confusion_matrix"
   ]
  },
  {
   "cell_type": "markdown",
   "id": "3d16645e",
   "metadata": {
    "papermill": {
     "duration": 0.026758,
     "end_time": "2023-02-11T13:56:51.837244",
     "exception": false,
     "start_time": "2023-02-11T13:56:51.810486",
     "status": "completed"
    },
    "tags": []
   },
   "source": [
    "## Operations\n",
    "\n",
    "**1. iloc[row,column]**"
   ]
  },
  {
   "cell_type": "code",
   "execution_count": 54,
   "id": "9c64f2c8",
   "metadata": {
    "execution": {
     "iopub.execute_input": "2023-02-11T13:56:51.893337Z",
     "iopub.status.busy": "2023-02-11T13:56:51.892139Z",
     "iopub.status.idle": "2023-02-11T13:56:51.906730Z",
     "shell.execute_reply": "2023-02-11T13:56:51.905612Z"
    },
    "papermill": {
     "duration": 0.045034,
     "end_time": "2023-02-11T13:56:51.908977",
     "exception": false,
     "start_time": "2023-02-11T13:56:51.863943",
     "status": "completed"
    },
    "tags": []
   },
   "outputs": [
    {
     "data": {
      "text/html": [
       "<div>\n",
       "<style scoped>\n",
       "    .dataframe tbody tr th:only-of-type {\n",
       "        vertical-align: middle;\n",
       "    }\n",
       "\n",
       "    .dataframe tbody tr th {\n",
       "        vertical-align: top;\n",
       "    }\n",
       "\n",
       "    .dataframe thead th {\n",
       "        text-align: right;\n",
       "    }\n",
       "</style>\n",
       "<table border=\"1\" class=\"dataframe\">\n",
       "  <thead>\n",
       "    <tr style=\"text-align: right;\">\n",
       "      <th></th>\n",
       "      <th>sepal_length</th>\n",
       "      <th>sepal_width</th>\n",
       "      <th>petal_length</th>\n",
       "      <th>petal_width</th>\n",
       "    </tr>\n",
       "  </thead>\n",
       "  <tbody>\n",
       "    <tr>\n",
       "      <th>0</th>\n",
       "      <td>5.1</td>\n",
       "      <td>3.5</td>\n",
       "      <td>1.4</td>\n",
       "      <td>0.2</td>\n",
       "    </tr>\n",
       "    <tr>\n",
       "      <th>1</th>\n",
       "      <td>4.9</td>\n",
       "      <td>3.0</td>\n",
       "      <td>1.4</td>\n",
       "      <td>0.2</td>\n",
       "    </tr>\n",
       "    <tr>\n",
       "      <th>2</th>\n",
       "      <td>4.7</td>\n",
       "      <td>3.2</td>\n",
       "      <td>1.3</td>\n",
       "      <td>0.2</td>\n",
       "    </tr>\n",
       "    <tr>\n",
       "      <th>3</th>\n",
       "      <td>4.6</td>\n",
       "      <td>3.1</td>\n",
       "      <td>1.5</td>\n",
       "      <td>0.2</td>\n",
       "    </tr>\n",
       "    <tr>\n",
       "      <th>4</th>\n",
       "      <td>5.0</td>\n",
       "      <td>3.6</td>\n",
       "      <td>1.4</td>\n",
       "      <td>0.2</td>\n",
       "    </tr>\n",
       "  </tbody>\n",
       "</table>\n",
       "</div>"
      ],
      "text/plain": [
       "   sepal_length  sepal_width  petal_length  petal_width\n",
       "0           5.1          3.5           1.4          0.2\n",
       "1           4.9          3.0           1.4          0.2\n",
       "2           4.7          3.2           1.3          0.2\n",
       "3           4.6          3.1           1.5          0.2\n",
       "4           5.0          3.6           1.4          0.2"
      ]
     },
     "execution_count": 54,
     "metadata": {},
     "output_type": "execute_result"
    }
   ],
   "source": [
    "# x=irisdf.iloc[:,1:5]\n",
    "x=irisdf.iloc[:,0:4]\n",
    "x.head()"
   ]
  },
  {
   "cell_type": "code",
   "execution_count": 55,
   "id": "bec2fd00",
   "metadata": {
    "execution": {
     "iopub.execute_input": "2023-02-11T13:56:51.965089Z",
     "iopub.status.busy": "2023-02-11T13:56:51.964659Z",
     "iopub.status.idle": "2023-02-11T13:56:51.973433Z",
     "shell.execute_reply": "2023-02-11T13:56:51.972318Z"
    },
    "papermill": {
     "duration": 0.039451,
     "end_time": "2023-02-11T13:56:51.975704",
     "exception": false,
     "start_time": "2023-02-11T13:56:51.936253",
     "status": "completed"
    },
    "tags": []
   },
   "outputs": [
    {
     "data": {
      "text/plain": [
       "0    Iris-setosa\n",
       "1    Iris-setosa\n",
       "2    Iris-setosa\n",
       "3    Iris-setosa\n",
       "4    Iris-setosa\n",
       "Name: species, dtype: object"
      ]
     },
     "execution_count": 55,
     "metadata": {},
     "output_type": "execute_result"
    }
   ],
   "source": [
    "y=irisdf.iloc[:,-1]\n",
    "y.head()"
   ]
  },
  {
   "cell_type": "markdown",
   "id": "938274ef",
   "metadata": {
    "papermill": {
     "duration": 0.02729,
     "end_time": "2023-02-11T13:56:52.030552",
     "exception": false,
     "start_time": "2023-02-11T13:56:52.003262",
     "status": "completed"
    },
    "tags": []
   },
   "source": [
    "**2. StandardScaler()**"
   ]
  },
  {
   "cell_type": "code",
   "execution_count": 56,
   "id": "e077e510",
   "metadata": {
    "execution": {
     "iopub.execute_input": "2023-02-11T13:56:52.088253Z",
     "iopub.status.busy": "2023-02-11T13:56:52.086932Z",
     "iopub.status.idle": "2023-02-11T13:56:52.091733Z",
     "shell.execute_reply": "2023-02-11T13:56:52.090977Z"
    },
    "papermill": {
     "duration": 0.035803,
     "end_time": "2023-02-11T13:56:52.093618",
     "exception": false,
     "start_time": "2023-02-11T13:56:52.057815",
     "status": "completed"
    },
    "tags": []
   },
   "outputs": [],
   "source": [
    "scaler=StandardScaler()"
   ]
  },
  {
   "cell_type": "markdown",
   "id": "28131507",
   "metadata": {
    "papermill": {
     "duration": 0.027329,
     "end_time": "2023-02-11T13:56:52.148278",
     "exception": false,
     "start_time": "2023-02-11T13:56:52.120949",
     "status": "completed"
    },
    "tags": []
   },
   "source": [
    "**3. fit_transform()**"
   ]
  },
  {
   "cell_type": "code",
   "execution_count": 57,
   "id": "73c576e8",
   "metadata": {
    "execution": {
     "iopub.execute_input": "2023-02-11T13:56:52.204980Z",
     "iopub.status.busy": "2023-02-11T13:56:52.203964Z",
     "iopub.status.idle": "2023-02-11T13:56:52.214344Z",
     "shell.execute_reply": "2023-02-11T13:56:52.213458Z"
    },
    "papermill": {
     "duration": 0.040989,
     "end_time": "2023-02-11T13:56:52.216428",
     "exception": false,
     "start_time": "2023-02-11T13:56:52.175439",
     "status": "completed"
    },
    "tags": []
   },
   "outputs": [
    {
     "data": {
      "text/plain": [
       "array([[-0.91550949,  1.0199714 , -1.35773692, -1.33570001],\n",
       "       [-1.15755966, -0.12808217, -1.35773692, -1.33570001],\n",
       "       [-1.39960983,  0.33113926, -1.41477817, -1.33570001],\n",
       "       [-1.52063491,  0.10152855, -1.30069567, -1.33570001],\n",
       "       [-1.03653457,  1.24958212, -1.35773692, -1.33570001]])"
      ]
     },
     "execution_count": 57,
     "metadata": {},
     "output_type": "execute_result"
    }
   ],
   "source": [
    "x=scaler.fit_transform(x)\n",
    "x[0:5]"
   ]
  },
  {
   "cell_type": "markdown",
   "id": "6be30ba2",
   "metadata": {
    "papermill": {
     "duration": 0.027444,
     "end_time": "2023-02-11T13:56:52.271249",
     "exception": false,
     "start_time": "2023-02-11T13:56:52.243805",
     "status": "completed"
    },
    "tags": []
   },
   "source": [
    "**4. train_test_split()**"
   ]
  },
  {
   "cell_type": "code",
   "execution_count": 58,
   "id": "86e3283f",
   "metadata": {
    "execution": {
     "iopub.execute_input": "2023-02-11T13:56:52.328710Z",
     "iopub.status.busy": "2023-02-11T13:56:52.328310Z",
     "iopub.status.idle": "2023-02-11T13:56:52.334847Z",
     "shell.execute_reply": "2023-02-11T13:56:52.333748Z"
    },
    "papermill": {
     "duration": 0.038311,
     "end_time": "2023-02-11T13:56:52.337032",
     "exception": false,
     "start_time": "2023-02-11T13:56:52.298721",
     "status": "completed"
    },
    "tags": []
   },
   "outputs": [],
   "source": [
    "x_train, x_test, y_train, y_test=train_test_split(x,y,test_size=0.2)"
   ]
  },
  {
   "cell_type": "markdown",
   "id": "c66b8549",
   "metadata": {
    "papermill": {
     "duration": 0.027111,
     "end_time": "2023-02-11T13:56:52.391841",
     "exception": false,
     "start_time": "2023-02-11T13:56:52.364730",
     "status": "completed"
    },
    "tags": []
   },
   "source": [
    "**Note: test_size=0.2**\n",
    "\n",
    "**Only 80% of dataset will be used to train the model.**"
   ]
  },
  {
   "cell_type": "markdown",
   "id": "918f1902",
   "metadata": {
    "papermill": {
     "duration": 0.026989,
     "end_time": "2023-02-11T13:56:52.446380",
     "exception": false,
     "start_time": "2023-02-11T13:56:52.419391",
     "status": "completed"
    },
    "tags": []
   },
   "source": [
    "**5. KNeighborsClassifier**"
   ]
  },
  {
   "cell_type": "code",
   "execution_count": 59,
   "id": "c0eb8723",
   "metadata": {
    "execution": {
     "iopub.execute_input": "2023-02-11T13:56:52.502944Z",
     "iopub.status.busy": "2023-02-11T13:56:52.502533Z",
     "iopub.status.idle": "2023-02-11T13:56:52.511627Z",
     "shell.execute_reply": "2023-02-11T13:56:52.510877Z"
    },
    "papermill": {
     "duration": 0.039834,
     "end_time": "2023-02-11T13:56:52.513606",
     "exception": false,
     "start_time": "2023-02-11T13:56:52.473772",
     "status": "completed"
    },
    "tags": []
   },
   "outputs": [
    {
     "data": {
      "text/plain": [
       "KNeighborsClassifier(n_neighbors=9)"
      ]
     },
     "execution_count": 59,
     "metadata": {},
     "output_type": "execute_result"
    }
   ],
   "source": [
    "node1=KNeighborsClassifier(n_neighbors=9)\n",
    "node1.fit(x_train,y_train)"
   ]
  },
  {
   "cell_type": "markdown",
   "id": "9d63c954",
   "metadata": {
    "papermill": {
     "duration": 0.027439,
     "end_time": "2023-02-11T13:56:52.568443",
     "exception": false,
     "start_time": "2023-02-11T13:56:52.541004",
     "status": "completed"
    },
    "tags": []
   },
   "source": [
    "**6. predict()**"
   ]
  },
  {
   "cell_type": "code",
   "execution_count": 60,
   "id": "fad4539a",
   "metadata": {
    "execution": {
     "iopub.execute_input": "2023-02-11T13:56:52.627069Z",
     "iopub.status.busy": "2023-02-11T13:56:52.626603Z",
     "iopub.status.idle": "2023-02-11T13:56:52.636732Z",
     "shell.execute_reply": "2023-02-11T13:56:52.635610Z"
    },
    "papermill": {
     "duration": 0.042425,
     "end_time": "2023-02-11T13:56:52.639075",
     "exception": false,
     "start_time": "2023-02-11T13:56:52.596650",
     "status": "completed"
    },
    "tags": []
   },
   "outputs": [
    {
     "data": {
      "text/plain": [
       "array(['Iris-versicolor', 'Iris-setosa', 'Iris-virginica',\n",
       "       'Iris-versicolor', 'Iris-setosa', 'Iris-setosa', 'Iris-setosa',\n",
       "       'Iris-versicolor', 'Iris-versicolor', 'Iris-virginica',\n",
       "       'Iris-setosa', 'Iris-setosa', 'Iris-versicolor', 'Iris-versicolor',\n",
       "       'Iris-setosa', 'Iris-virginica', 'Iris-virginica',\n",
       "       'Iris-versicolor', 'Iris-virginica', 'Iris-versicolor',\n",
       "       'Iris-setosa', 'Iris-setosa', 'Iris-virginica', 'Iris-setosa',\n",
       "       'Iris-setosa', 'Iris-setosa', 'Iris-versicolor', 'Iris-virginica',\n",
       "       'Iris-setosa', 'Iris-versicolor'], dtype=object)"
      ]
     },
     "execution_count": 60,
     "metadata": {},
     "output_type": "execute_result"
    }
   ],
   "source": [
    "pred=node1.predict(x_test)\n",
    "pred[0:]"
   ]
  },
  {
   "cell_type": "code",
   "execution_count": 61,
   "id": "f16b38c5",
   "metadata": {
    "execution": {
     "iopub.execute_input": "2023-02-11T13:56:52.697330Z",
     "iopub.status.busy": "2023-02-11T13:56:52.696940Z",
     "iopub.status.idle": "2023-02-11T13:56:52.704042Z",
     "shell.execute_reply": "2023-02-11T13:56:52.703302Z"
    },
    "papermill": {
     "duration": 0.037917,
     "end_time": "2023-02-11T13:56:52.705989",
     "exception": false,
     "start_time": "2023-02-11T13:56:52.668072",
     "status": "completed"
    },
    "tags": []
   },
   "outputs": [
    {
     "data": {
      "text/plain": [
       "77     Iris-versicolor\n",
       "38         Iris-setosa\n",
       "134     Iris-virginica\n",
       "68     Iris-versicolor\n",
       "48         Iris-setosa\n",
       "Name: species, dtype: object"
      ]
     },
     "execution_count": 61,
     "metadata": {},
     "output_type": "execute_result"
    }
   ],
   "source": [
    "y_test[0:5]"
   ]
  },
  {
   "cell_type": "markdown",
   "id": "543459b7",
   "metadata": {
    "papermill": {
     "duration": 0.027462,
     "end_time": "2023-02-11T13:56:52.761068",
     "exception": false,
     "start_time": "2023-02-11T13:56:52.733606",
     "status": "completed"
    },
    "tags": []
   },
   "source": [
    "**7. accuracy_score()**"
   ]
  },
  {
   "cell_type": "code",
   "execution_count": 62,
   "id": "23b58ff4",
   "metadata": {
    "execution": {
     "iopub.execute_input": "2023-02-11T13:56:52.819117Z",
     "iopub.status.busy": "2023-02-11T13:56:52.818381Z",
     "iopub.status.idle": "2023-02-11T13:56:52.826062Z",
     "shell.execute_reply": "2023-02-11T13:56:52.824962Z"
    },
    "papermill": {
     "duration": 0.039068,
     "end_time": "2023-02-11T13:56:52.828341",
     "exception": false,
     "start_time": "2023-02-11T13:56:52.789273",
     "status": "completed"
    },
    "tags": []
   },
   "outputs": [
    {
     "data": {
      "text/plain": [
       "0.9666666666666667"
      ]
     },
     "execution_count": 62,
     "metadata": {},
     "output_type": "execute_result"
    }
   ],
   "source": [
    "accuracy = accuracy_score(y_test,pred)\n",
    "accuracy"
   ]
  },
  {
   "cell_type": "markdown",
   "id": "fe33bf46",
   "metadata": {
    "papermill": {
     "duration": 0.027357,
     "end_time": "2023-02-11T13:56:52.883723",
     "exception": false,
     "start_time": "2023-02-11T13:56:52.856366",
     "status": "completed"
    },
    "tags": []
   },
   "source": [
    "**8. confusion_matrix()**"
   ]
  },
  {
   "cell_type": "code",
   "execution_count": 63,
   "id": "d6ad0b64",
   "metadata": {
    "execution": {
     "iopub.execute_input": "2023-02-11T13:56:52.940945Z",
     "iopub.status.busy": "2023-02-11T13:56:52.940528Z",
     "iopub.status.idle": "2023-02-11T13:56:52.949980Z",
     "shell.execute_reply": "2023-02-11T13:56:52.949030Z"
    },
    "papermill": {
     "duration": 0.040712,
     "end_time": "2023-02-11T13:56:52.952229",
     "exception": false,
     "start_time": "2023-02-11T13:56:52.911517",
     "status": "completed"
    },
    "tags": []
   },
   "outputs": [
    {
     "data": {
      "text/plain": [
       "array([[13,  0,  0],\n",
       "       [ 0, 10,  1],\n",
       "       [ 0,  0,  6]])"
      ]
     },
     "execution_count": 63,
     "metadata": {},
     "output_type": "execute_result"
    }
   ],
   "source": [
    "cm=confusion_matrix(y_test,pred)\n",
    "cm"
   ]
  },
  {
   "cell_type": "markdown",
   "id": "390b318c",
   "metadata": {
    "papermill": {
     "duration": 0.027585,
     "end_time": "2023-02-11T13:56:53.007559",
     "exception": false,
     "start_time": "2023-02-11T13:56:52.979974",
     "status": "completed"
    },
    "tags": []
   },
   "source": [
    "**9. DataFrame(data,index) and transpose()**"
   ]
  },
  {
   "cell_type": "code",
   "execution_count": 64,
   "id": "a08ec089",
   "metadata": {
    "execution": {
     "iopub.execute_input": "2023-02-11T13:56:53.064733Z",
     "iopub.status.busy": "2023-02-11T13:56:53.064314Z",
     "iopub.status.idle": "2023-02-11T13:56:53.079755Z",
     "shell.execute_reply": "2023-02-11T13:56:53.078637Z"
    },
    "papermill": {
     "duration": 0.046707,
     "end_time": "2023-02-11T13:56:53.082006",
     "exception": false,
     "start_time": "2023-02-11T13:56:53.035299",
     "status": "completed"
    },
    "tags": []
   },
   "outputs": [
    {
     "data": {
      "text/html": [
       "<div>\n",
       "<style scoped>\n",
       "    .dataframe tbody tr th:only-of-type {\n",
       "        vertical-align: middle;\n",
       "    }\n",
       "\n",
       "    .dataframe tbody tr th {\n",
       "        vertical-align: top;\n",
       "    }\n",
       "\n",
       "    .dataframe thead th {\n",
       "        text-align: right;\n",
       "    }\n",
       "</style>\n",
       "<table border=\"1\" class=\"dataframe\">\n",
       "  <thead>\n",
       "    <tr style=\"text-align: right;\">\n",
       "      <th></th>\n",
       "      <th>y_test</th>\n",
       "      <th>pred</th>\n",
       "    </tr>\n",
       "  </thead>\n",
       "  <tbody>\n",
       "    <tr>\n",
       "      <th>0</th>\n",
       "      <td>Iris-versicolor</td>\n",
       "      <td>Iris-versicolor</td>\n",
       "    </tr>\n",
       "    <tr>\n",
       "      <th>1</th>\n",
       "      <td>Iris-setosa</td>\n",
       "      <td>Iris-setosa</td>\n",
       "    </tr>\n",
       "    <tr>\n",
       "      <th>2</th>\n",
       "      <td>Iris-virginica</td>\n",
       "      <td>Iris-virginica</td>\n",
       "    </tr>\n",
       "    <tr>\n",
       "      <th>3</th>\n",
       "      <td>Iris-versicolor</td>\n",
       "      <td>Iris-versicolor</td>\n",
       "    </tr>\n",
       "    <tr>\n",
       "      <th>4</th>\n",
       "      <td>Iris-setosa</td>\n",
       "      <td>Iris-setosa</td>\n",
       "    </tr>\n",
       "    <tr>\n",
       "      <th>5</th>\n",
       "      <td>Iris-setosa</td>\n",
       "      <td>Iris-setosa</td>\n",
       "    </tr>\n",
       "    <tr>\n",
       "      <th>6</th>\n",
       "      <td>Iris-setosa</td>\n",
       "      <td>Iris-setosa</td>\n",
       "    </tr>\n",
       "    <tr>\n",
       "      <th>7</th>\n",
       "      <td>Iris-versicolor</td>\n",
       "      <td>Iris-versicolor</td>\n",
       "    </tr>\n",
       "    <tr>\n",
       "      <th>8</th>\n",
       "      <td>Iris-versicolor</td>\n",
       "      <td>Iris-versicolor</td>\n",
       "    </tr>\n",
       "    <tr>\n",
       "      <th>9</th>\n",
       "      <td>Iris-virginica</td>\n",
       "      <td>Iris-virginica</td>\n",
       "    </tr>\n",
       "    <tr>\n",
       "      <th>10</th>\n",
       "      <td>Iris-setosa</td>\n",
       "      <td>Iris-setosa</td>\n",
       "    </tr>\n",
       "    <tr>\n",
       "      <th>11</th>\n",
       "      <td>Iris-setosa</td>\n",
       "      <td>Iris-setosa</td>\n",
       "    </tr>\n",
       "    <tr>\n",
       "      <th>12</th>\n",
       "      <td>Iris-versicolor</td>\n",
       "      <td>Iris-versicolor</td>\n",
       "    </tr>\n",
       "    <tr>\n",
       "      <th>13</th>\n",
       "      <td>Iris-versicolor</td>\n",
       "      <td>Iris-versicolor</td>\n",
       "    </tr>\n",
       "    <tr>\n",
       "      <th>14</th>\n",
       "      <td>Iris-setosa</td>\n",
       "      <td>Iris-setosa</td>\n",
       "    </tr>\n",
       "    <tr>\n",
       "      <th>15</th>\n",
       "      <td>Iris-virginica</td>\n",
       "      <td>Iris-virginica</td>\n",
       "    </tr>\n",
       "    <tr>\n",
       "      <th>16</th>\n",
       "      <td>Iris-versicolor</td>\n",
       "      <td>Iris-virginica</td>\n",
       "    </tr>\n",
       "    <tr>\n",
       "      <th>17</th>\n",
       "      <td>Iris-versicolor</td>\n",
       "      <td>Iris-versicolor</td>\n",
       "    </tr>\n",
       "    <tr>\n",
       "      <th>18</th>\n",
       "      <td>Iris-virginica</td>\n",
       "      <td>Iris-virginica</td>\n",
       "    </tr>\n",
       "    <tr>\n",
       "      <th>19</th>\n",
       "      <td>Iris-versicolor</td>\n",
       "      <td>Iris-versicolor</td>\n",
       "    </tr>\n",
       "    <tr>\n",
       "      <th>20</th>\n",
       "      <td>Iris-setosa</td>\n",
       "      <td>Iris-setosa</td>\n",
       "    </tr>\n",
       "    <tr>\n",
       "      <th>21</th>\n",
       "      <td>Iris-setosa</td>\n",
       "      <td>Iris-setosa</td>\n",
       "    </tr>\n",
       "    <tr>\n",
       "      <th>22</th>\n",
       "      <td>Iris-virginica</td>\n",
       "      <td>Iris-virginica</td>\n",
       "    </tr>\n",
       "    <tr>\n",
       "      <th>23</th>\n",
       "      <td>Iris-setosa</td>\n",
       "      <td>Iris-setosa</td>\n",
       "    </tr>\n",
       "    <tr>\n",
       "      <th>24</th>\n",
       "      <td>Iris-setosa</td>\n",
       "      <td>Iris-setosa</td>\n",
       "    </tr>\n",
       "    <tr>\n",
       "      <th>25</th>\n",
       "      <td>Iris-setosa</td>\n",
       "      <td>Iris-setosa</td>\n",
       "    </tr>\n",
       "    <tr>\n",
       "      <th>26</th>\n",
       "      <td>Iris-versicolor</td>\n",
       "      <td>Iris-versicolor</td>\n",
       "    </tr>\n",
       "    <tr>\n",
       "      <th>27</th>\n",
       "      <td>Iris-virginica</td>\n",
       "      <td>Iris-virginica</td>\n",
       "    </tr>\n",
       "    <tr>\n",
       "      <th>28</th>\n",
       "      <td>Iris-setosa</td>\n",
       "      <td>Iris-setosa</td>\n",
       "    </tr>\n",
       "    <tr>\n",
       "      <th>29</th>\n",
       "      <td>Iris-versicolor</td>\n",
       "      <td>Iris-versicolor</td>\n",
       "    </tr>\n",
       "  </tbody>\n",
       "</table>\n",
       "</div>"
      ],
      "text/plain": [
       "             y_test             pred\n",
       "0   Iris-versicolor  Iris-versicolor\n",
       "1       Iris-setosa      Iris-setosa\n",
       "2    Iris-virginica   Iris-virginica\n",
       "3   Iris-versicolor  Iris-versicolor\n",
       "4       Iris-setosa      Iris-setosa\n",
       "5       Iris-setosa      Iris-setosa\n",
       "6       Iris-setosa      Iris-setosa\n",
       "7   Iris-versicolor  Iris-versicolor\n",
       "8   Iris-versicolor  Iris-versicolor\n",
       "9    Iris-virginica   Iris-virginica\n",
       "10      Iris-setosa      Iris-setosa\n",
       "11      Iris-setosa      Iris-setosa\n",
       "12  Iris-versicolor  Iris-versicolor\n",
       "13  Iris-versicolor  Iris-versicolor\n",
       "14      Iris-setosa      Iris-setosa\n",
       "15   Iris-virginica   Iris-virginica\n",
       "16  Iris-versicolor   Iris-virginica\n",
       "17  Iris-versicolor  Iris-versicolor\n",
       "18   Iris-virginica   Iris-virginica\n",
       "19  Iris-versicolor  Iris-versicolor\n",
       "20      Iris-setosa      Iris-setosa\n",
       "21      Iris-setosa      Iris-setosa\n",
       "22   Iris-virginica   Iris-virginica\n",
       "23      Iris-setosa      Iris-setosa\n",
       "24      Iris-setosa      Iris-setosa\n",
       "25      Iris-setosa      Iris-setosa\n",
       "26  Iris-versicolor  Iris-versicolor\n",
       "27   Iris-virginica   Iris-virginica\n",
       "28      Iris-setosa      Iris-setosa\n",
       "29  Iris-versicolor  Iris-versicolor"
      ]
     },
     "execution_count": 64,
     "metadata": {},
     "output_type": "execute_result"
    }
   ],
   "source": [
    "result=pd.DataFrame(data=[y_test.values,pred],index=[\"y_test\",\"pred\"])\n",
    "result.transpose()"
   ]
  },
  {
   "cell_type": "markdown",
   "id": "d738910f",
   "metadata": {
    "papermill": {
     "duration": 0.0282,
     "end_time": "2023-02-11T13:56:53.139015",
     "exception": false,
     "start_time": "2023-02-11T13:56:53.110815",
     "status": "completed"
    },
    "tags": []
   },
   "source": [
    "## Representing Predictions from the model \"node1\" using correct_sum"
   ]
  },
  {
   "cell_type": "code",
   "execution_count": 65,
   "id": "a0cfa14c",
   "metadata": {
    "execution": {
     "iopub.execute_input": "2023-02-11T13:56:53.197914Z",
     "iopub.status.busy": "2023-02-11T13:56:53.196796Z",
     "iopub.status.idle": "2023-02-11T13:56:53.252681Z",
     "shell.execute_reply": "2023-02-11T13:56:53.251500Z"
    },
    "papermill": {
     "duration": 0.087778,
     "end_time": "2023-02-11T13:56:53.255514",
     "exception": false,
     "start_time": "2023-02-11T13:56:53.167736",
     "status": "completed"
    },
    "tags": []
   },
   "outputs": [
    {
     "data": {
      "text/plain": [
       "[27, 27, 27, 27, 27, 27, 27, 27, 27, 27, 27, 27, 27, 27, 27, 27, 27, 27, 27]"
      ]
     },
     "execution_count": 65,
     "metadata": {},
     "output_type": "execute_result"
    }
   ],
   "source": [
    "correct_sum=[]\n",
    "for i in range(1,20):\n",
    "    node1=KNeighborsClassifier(n_neighbors=1)\n",
    "    node1.fit(x_train,y_train)\n",
    "    pred=node1.predict(x_test)\n",
    "    correct=np.sum(pred == y_test)\n",
    "    correct_sum.append(correct)\n",
    "correct_sum"
   ]
  },
  {
   "cell_type": "code",
   "execution_count": 66,
   "id": "653d4bf7",
   "metadata": {
    "execution": {
     "iopub.execute_input": "2023-02-11T13:56:53.316189Z",
     "iopub.status.busy": "2023-02-11T13:56:53.315059Z",
     "iopub.status.idle": "2023-02-11T13:56:53.330037Z",
     "shell.execute_reply": "2023-02-11T13:56:53.328895Z"
    },
    "papermill": {
     "duration": 0.047855,
     "end_time": "2023-02-11T13:56:53.332606",
     "exception": false,
     "start_time": "2023-02-11T13:56:53.284751",
     "status": "completed"
    },
    "tags": []
   },
   "outputs": [
    {
     "data": {
      "text/html": [
       "<div>\n",
       "<style scoped>\n",
       "    .dataframe tbody tr th:only-of-type {\n",
       "        vertical-align: middle;\n",
       "    }\n",
       "\n",
       "    .dataframe tbody tr th {\n",
       "        vertical-align: top;\n",
       "    }\n",
       "\n",
       "    .dataframe thead th {\n",
       "        text-align: right;\n",
       "    }\n",
       "</style>\n",
       "<table border=\"1\" class=\"dataframe\">\n",
       "  <thead>\n",
       "    <tr style=\"text-align: right;\">\n",
       "      <th></th>\n",
       "      <th>1</th>\n",
       "      <th>2</th>\n",
       "      <th>3</th>\n",
       "      <th>4</th>\n",
       "      <th>5</th>\n",
       "      <th>6</th>\n",
       "      <th>7</th>\n",
       "      <th>8</th>\n",
       "      <th>9</th>\n",
       "      <th>10</th>\n",
       "      <th>11</th>\n",
       "      <th>12</th>\n",
       "      <th>13</th>\n",
       "      <th>14</th>\n",
       "      <th>15</th>\n",
       "      <th>16</th>\n",
       "      <th>17</th>\n",
       "      <th>18</th>\n",
       "      <th>19</th>\n",
       "    </tr>\n",
       "  </thead>\n",
       "  <tbody>\n",
       "    <tr>\n",
       "      <th>0</th>\n",
       "      <td>27</td>\n",
       "      <td>27</td>\n",
       "      <td>27</td>\n",
       "      <td>27</td>\n",
       "      <td>27</td>\n",
       "      <td>27</td>\n",
       "      <td>27</td>\n",
       "      <td>27</td>\n",
       "      <td>27</td>\n",
       "      <td>27</td>\n",
       "      <td>27</td>\n",
       "      <td>27</td>\n",
       "      <td>27</td>\n",
       "      <td>27</td>\n",
       "      <td>27</td>\n",
       "      <td>27</td>\n",
       "      <td>27</td>\n",
       "      <td>27</td>\n",
       "      <td>27</td>\n",
       "    </tr>\n",
       "  </tbody>\n",
       "</table>\n",
       "</div>"
      ],
      "text/plain": [
       "   1   2   3   4   5   6   7   8   9   10  11  12  13  14  15  16  17  18  19\n",
       "0  27  27  27  27  27  27  27  27  27  27  27  27  27  27  27  27  27  27  27"
      ]
     },
     "execution_count": 66,
     "metadata": {},
     "output_type": "execute_result"
    }
   ],
   "source": [
    "result=pd.DataFrame(data=correct_sum)\n",
    "result.index=result.index+1\n",
    "result.T"
   ]
  }
 ],
 "metadata": {
  "kernelspec": {
   "display_name": "Python 3",
   "language": "python",
   "name": "python3"
  },
  "language_info": {
   "codemirror_mode": {
    "name": "ipython",
    "version": 3
   },
   "file_extension": ".py",
   "mimetype": "text/x-python",
   "name": "python",
   "nbconvert_exporter": "python",
   "pygments_lexer": "ipython3",
   "version": "3.7.12"
  },
  "papermill": {
   "default_parameters": {},
   "duration": 18.121502,
   "end_time": "2023-02-11T13:56:54.083768",
   "environment_variables": {},
   "exception": null,
   "input_path": "__notebook__.ipynb",
   "output_path": "__notebook__.ipynb",
   "parameters": {},
   "start_time": "2023-02-11T13:56:35.962266",
   "version": "2.3.4"
  }
 },
 "nbformat": 4,
 "nbformat_minor": 5
}
