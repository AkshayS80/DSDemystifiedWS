{
 "cells": [
  {
   "cell_type": "markdown",
   "id": "3d61cc8e",
   "metadata": {
    "papermill": {
     "duration": 0.024443,
     "end_time": "2023-02-11T14:42:16.909928",
     "exception": false,
     "start_time": "2023-02-11T14:42:16.885485",
     "status": "completed"
    },
    "tags": []
   },
   "source": [
    "# EXPLORATORY DATA ANALYSIS"
   ]
  },
  {
   "cell_type": "markdown",
   "id": "e6689ba1",
   "metadata": {
    "papermill": {
     "duration": 0.019101,
     "end_time": "2023-02-11T14:42:16.949158",
     "exception": false,
     "start_time": "2023-02-11T14:42:16.930057",
     "status": "completed"
    },
    "tags": []
   },
   "source": [
    "\n",
    "- Used to understand a company's shortcomings(done after every financial quarter)\n",
    "\n",
    "### Why is it done?\n",
    "* better understanding \n",
    "* identifying data patterns \n",
    "* getting better understand if problem statement\n",
    "* improvement in sales, customer targeting , reduces costs\n",
    "* allows creation of better problem-solving strategies"
   ]
  },
  {
   "cell_type": "markdown",
   "id": "7d702230",
   "metadata": {
    "papermill": {
     "duration": 0.019099,
     "end_time": "2023-02-11T14:42:16.987658",
     "exception": false,
     "start_time": "2023-02-11T14:42:16.968559",
     "status": "completed"
    },
    "tags": []
   },
   "source": [
    "# How is EDA done?"
   ]
  },
  {
   "cell_type": "markdown",
   "id": "315fbfc9",
   "metadata": {
    "papermill": {
     "duration": 0.019501,
     "end_time": "2023-02-11T14:42:17.026413",
     "exception": false,
     "start_time": "2023-02-11T14:42:17.006912",
     "status": "completed"
    },
    "tags": []
   },
   "source": [
    "### Iris Dataset\n",
    "* \"Hello world\" of Data Science\n",
    "* 5 Columns\n",
    "    1. Species Type\n",
    "    2. Sepal length\n",
    "    3. Sepal Width\n",
    "    4. Petal Length\n",
    "    5. Petal width\n"
   ]
  },
  {
   "cell_type": "code",
   "execution_count": 1,
   "id": "148233cd",
   "metadata": {
    "execution": {
     "iopub.execute_input": "2023-02-11T14:42:17.068840Z",
     "iopub.status.busy": "2023-02-11T14:42:17.067587Z",
     "iopub.status.idle": "2023-02-11T14:42:17.078871Z",
     "shell.execute_reply": "2023-02-11T14:42:17.077928Z"
    },
    "papermill": {
     "duration": 0.034961,
     "end_time": "2023-02-11T14:42:17.081310",
     "exception": false,
     "start_time": "2023-02-11T14:42:17.046349",
     "status": "completed"
    },
    "tags": []
   },
   "outputs": [],
   "source": [
    "import pandas as pd"
   ]
  },
  {
   "cell_type": "markdown",
   "id": "d05eda0d",
   "metadata": {
    "papermill": {
     "duration": 0.019206,
     "end_time": "2023-02-11T14:42:17.119984",
     "exception": false,
     "start_time": "2023-02-11T14:42:17.100778",
     "status": "completed"
    },
    "tags": []
   },
   "source": [
    "**Conversion of csv files into Dataframes**"
   ]
  },
  {
   "cell_type": "code",
   "execution_count": 2,
   "id": "640012d5",
   "metadata": {
    "execution": {
     "iopub.execute_input": "2023-02-11T14:42:17.161481Z",
     "iopub.status.busy": "2023-02-11T14:42:17.160305Z",
     "iopub.status.idle": "2023-02-11T14:42:17.179902Z",
     "shell.execute_reply": "2023-02-11T14:42:17.178907Z"
    },
    "papermill": {
     "duration": 0.042778,
     "end_time": "2023-02-11T14:42:17.182639",
     "exception": false,
     "start_time": "2023-02-11T14:42:17.139861",
     "status": "completed"
    },
    "tags": []
   },
   "outputs": [],
   "source": [
    "irisdf=pd.read_csv('/kaggle/input/irisflowerdatasets/IRIS.csv')"
   ]
  },
  {
   "cell_type": "code",
   "execution_count": 3,
   "id": "3b068b20",
   "metadata": {
    "execution": {
     "iopub.execute_input": "2023-02-11T14:42:17.223831Z",
     "iopub.status.busy": "2023-02-11T14:42:17.223362Z",
     "iopub.status.idle": "2023-02-11T14:42:17.233948Z",
     "shell.execute_reply": "2023-02-11T14:42:17.232934Z"
    },
    "papermill": {
     "duration": 0.034033,
     "end_time": "2023-02-11T14:42:17.236278",
     "exception": false,
     "start_time": "2023-02-11T14:42:17.202245",
     "status": "completed"
    },
    "tags": []
   },
   "outputs": [],
   "source": [
    "iris1df=pd.read_csv('/kaggle/input/irisflowerdatasets/IRIS1.csv')"
   ]
  },
  {
   "cell_type": "markdown",
   "id": "64b96751",
   "metadata": {
    "papermill": {
     "duration": 0.01932,
     "end_time": "2023-02-11T14:42:17.275823",
     "exception": false,
     "start_time": "2023-02-11T14:42:17.256503",
     "status": "completed"
    },
    "tags": []
   },
   "source": [
    "**Basic Operations**"
   ]
  },
  {
   "cell_type": "markdown",
   "id": "21daa846",
   "metadata": {
    "papermill": {
     "duration": 0.022188,
     "end_time": "2023-02-11T14:42:17.318086",
     "exception": false,
     "start_time": "2023-02-11T14:42:17.295898",
     "status": "completed"
    },
    "tags": []
   },
   "source": [
    "**1.Head() and Tail()**"
   ]
  },
  {
   "cell_type": "code",
   "execution_count": 4,
   "id": "dfbd9c80",
   "metadata": {
    "execution": {
     "iopub.execute_input": "2023-02-11T14:42:17.359606Z",
     "iopub.status.busy": "2023-02-11T14:42:17.358850Z",
     "iopub.status.idle": "2023-02-11T14:42:17.389653Z",
     "shell.execute_reply": "2023-02-11T14:42:17.388646Z"
    },
    "papermill": {
     "duration": 0.05471,
     "end_time": "2023-02-11T14:42:17.392022",
     "exception": false,
     "start_time": "2023-02-11T14:42:17.337312",
     "status": "completed"
    },
    "tags": []
   },
   "outputs": [
    {
     "data": {
      "text/html": [
       "<div>\n",
       "<style scoped>\n",
       "    .dataframe tbody tr th:only-of-type {\n",
       "        vertical-align: middle;\n",
       "    }\n",
       "\n",
       "    .dataframe tbody tr th {\n",
       "        vertical-align: top;\n",
       "    }\n",
       "\n",
       "    .dataframe thead th {\n",
       "        text-align: right;\n",
       "    }\n",
       "</style>\n",
       "<table border=\"1\" class=\"dataframe\">\n",
       "  <thead>\n",
       "    <tr style=\"text-align: right;\">\n",
       "      <th></th>\n",
       "      <th>sepal_length</th>\n",
       "      <th>sepal_width</th>\n",
       "      <th>petal_length</th>\n",
       "      <th>petal_width</th>\n",
       "      <th>species</th>\n",
       "    </tr>\n",
       "  </thead>\n",
       "  <tbody>\n",
       "    <tr>\n",
       "      <th>0</th>\n",
       "      <td>5.1</td>\n",
       "      <td>3.5</td>\n",
       "      <td>1.4</td>\n",
       "      <td>0.2</td>\n",
       "      <td>Iris-setosa</td>\n",
       "    </tr>\n",
       "    <tr>\n",
       "      <th>1</th>\n",
       "      <td>4.9</td>\n",
       "      <td>3.0</td>\n",
       "      <td>1.4</td>\n",
       "      <td>0.2</td>\n",
       "      <td>Iris-setosa</td>\n",
       "    </tr>\n",
       "    <tr>\n",
       "      <th>2</th>\n",
       "      <td>4.7</td>\n",
       "      <td>3.2</td>\n",
       "      <td>1.3</td>\n",
       "      <td>0.2</td>\n",
       "      <td>Iris-setosa</td>\n",
       "    </tr>\n",
       "    <tr>\n",
       "      <th>3</th>\n",
       "      <td>4.6</td>\n",
       "      <td>3.1</td>\n",
       "      <td>1.5</td>\n",
       "      <td>0.2</td>\n",
       "      <td>Iris-setosa</td>\n",
       "    </tr>\n",
       "    <tr>\n",
       "      <th>4</th>\n",
       "      <td>5.0</td>\n",
       "      <td>3.6</td>\n",
       "      <td>1.4</td>\n",
       "      <td>0.2</td>\n",
       "      <td>Iris-setosa</td>\n",
       "    </tr>\n",
       "    <tr>\n",
       "      <th>5</th>\n",
       "      <td>5.4</td>\n",
       "      <td>3.9</td>\n",
       "      <td>1.7</td>\n",
       "      <td>0.4</td>\n",
       "      <td>Iris-setosa</td>\n",
       "    </tr>\n",
       "    <tr>\n",
       "      <th>6</th>\n",
       "      <td>4.6</td>\n",
       "      <td>3.4</td>\n",
       "      <td>1.4</td>\n",
       "      <td>0.3</td>\n",
       "      <td>Iris-setosa</td>\n",
       "    </tr>\n",
       "    <tr>\n",
       "      <th>7</th>\n",
       "      <td>5.0</td>\n",
       "      <td>3.4</td>\n",
       "      <td>1.5</td>\n",
       "      <td>0.2</td>\n",
       "      <td>Iris-setosa</td>\n",
       "    </tr>\n",
       "    <tr>\n",
       "      <th>8</th>\n",
       "      <td>4.4</td>\n",
       "      <td>2.9</td>\n",
       "      <td>1.4</td>\n",
       "      <td>0.2</td>\n",
       "      <td>Iris-setosa</td>\n",
       "    </tr>\n",
       "    <tr>\n",
       "      <th>9</th>\n",
       "      <td>4.9</td>\n",
       "      <td>3.1</td>\n",
       "      <td>1.5</td>\n",
       "      <td>0.1</td>\n",
       "      <td>Iris-setosa</td>\n",
       "    </tr>\n",
       "  </tbody>\n",
       "</table>\n",
       "</div>"
      ],
      "text/plain": [
       "   sepal_length  sepal_width  petal_length  petal_width      species\n",
       "0           5.1          3.5           1.4          0.2  Iris-setosa\n",
       "1           4.9          3.0           1.4          0.2  Iris-setosa\n",
       "2           4.7          3.2           1.3          0.2  Iris-setosa\n",
       "3           4.6          3.1           1.5          0.2  Iris-setosa\n",
       "4           5.0          3.6           1.4          0.2  Iris-setosa\n",
       "5           5.4          3.9           1.7          0.4  Iris-setosa\n",
       "6           4.6          3.4           1.4          0.3  Iris-setosa\n",
       "7           5.0          3.4           1.5          0.2  Iris-setosa\n",
       "8           4.4          2.9           1.4          0.2  Iris-setosa\n",
       "9           4.9          3.1           1.5          0.1  Iris-setosa"
      ]
     },
     "execution_count": 4,
     "metadata": {},
     "output_type": "execute_result"
    }
   ],
   "source": [
    "irisdf.head(10)"
   ]
  },
  {
   "cell_type": "code",
   "execution_count": 5,
   "id": "f47e1dad",
   "metadata": {
    "execution": {
     "iopub.execute_input": "2023-02-11T14:42:17.433438Z",
     "iopub.status.busy": "2023-02-11T14:42:17.432950Z",
     "iopub.status.idle": "2023-02-11T14:42:17.449037Z",
     "shell.execute_reply": "2023-02-11T14:42:17.447640Z"
    },
    "papermill": {
     "duration": 0.039542,
     "end_time": "2023-02-11T14:42:17.451334",
     "exception": false,
     "start_time": "2023-02-11T14:42:17.411792",
     "status": "completed"
    },
    "tags": []
   },
   "outputs": [
    {
     "data": {
      "text/html": [
       "<div>\n",
       "<style scoped>\n",
       "    .dataframe tbody tr th:only-of-type {\n",
       "        vertical-align: middle;\n",
       "    }\n",
       "\n",
       "    .dataframe tbody tr th {\n",
       "        vertical-align: top;\n",
       "    }\n",
       "\n",
       "    .dataframe thead th {\n",
       "        text-align: right;\n",
       "    }\n",
       "</style>\n",
       "<table border=\"1\" class=\"dataframe\">\n",
       "  <thead>\n",
       "    <tr style=\"text-align: right;\">\n",
       "      <th></th>\n",
       "      <th>sepal_length</th>\n",
       "      <th>sepal_width</th>\n",
       "      <th>petal_length</th>\n",
       "      <th>petal_width</th>\n",
       "      <th>species</th>\n",
       "    </tr>\n",
       "  </thead>\n",
       "  <tbody>\n",
       "    <tr>\n",
       "      <th>145</th>\n",
       "      <td>6.7</td>\n",
       "      <td>3.0</td>\n",
       "      <td>5.2</td>\n",
       "      <td>2.3</td>\n",
       "      <td>Iris-virginica</td>\n",
       "    </tr>\n",
       "    <tr>\n",
       "      <th>146</th>\n",
       "      <td>6.3</td>\n",
       "      <td>2.5</td>\n",
       "      <td>5.0</td>\n",
       "      <td>1.9</td>\n",
       "      <td>Iris-virginica</td>\n",
       "    </tr>\n",
       "    <tr>\n",
       "      <th>147</th>\n",
       "      <td>6.5</td>\n",
       "      <td>3.0</td>\n",
       "      <td>5.2</td>\n",
       "      <td>2.0</td>\n",
       "      <td>Iris-virginica</td>\n",
       "    </tr>\n",
       "    <tr>\n",
       "      <th>148</th>\n",
       "      <td>6.2</td>\n",
       "      <td>3.4</td>\n",
       "      <td>5.4</td>\n",
       "      <td>2.3</td>\n",
       "      <td>Iris-virginica</td>\n",
       "    </tr>\n",
       "    <tr>\n",
       "      <th>149</th>\n",
       "      <td>5.9</td>\n",
       "      <td>3.0</td>\n",
       "      <td>5.1</td>\n",
       "      <td>1.8</td>\n",
       "      <td>Iris-virginica</td>\n",
       "    </tr>\n",
       "  </tbody>\n",
       "</table>\n",
       "</div>"
      ],
      "text/plain": [
       "     sepal_length  sepal_width  petal_length  petal_width         species\n",
       "145           6.7          3.0           5.2          2.3  Iris-virginica\n",
       "146           6.3          2.5           5.0          1.9  Iris-virginica\n",
       "147           6.5          3.0           5.2          2.0  Iris-virginica\n",
       "148           6.2          3.4           5.4          2.3  Iris-virginica\n",
       "149           5.9          3.0           5.1          1.8  Iris-virginica"
      ]
     },
     "execution_count": 5,
     "metadata": {},
     "output_type": "execute_result"
    }
   ],
   "source": [
    "irisdf.tail()"
   ]
  },
  {
   "cell_type": "code",
   "execution_count": 6,
   "id": "227409bd",
   "metadata": {
    "execution": {
     "iopub.execute_input": "2023-02-11T14:42:17.494594Z",
     "iopub.status.busy": "2023-02-11T14:42:17.494033Z",
     "iopub.status.idle": "2023-02-11T14:42:17.510474Z",
     "shell.execute_reply": "2023-02-11T14:42:17.509361Z"
    },
    "papermill": {
     "duration": 0.040875,
     "end_time": "2023-02-11T14:42:17.512769",
     "exception": false,
     "start_time": "2023-02-11T14:42:17.471894",
     "status": "completed"
    },
    "tags": []
   },
   "outputs": [
    {
     "data": {
      "text/html": [
       "<div>\n",
       "<style scoped>\n",
       "    .dataframe tbody tr th:only-of-type {\n",
       "        vertical-align: middle;\n",
       "    }\n",
       "\n",
       "    .dataframe tbody tr th {\n",
       "        vertical-align: top;\n",
       "    }\n",
       "\n",
       "    .dataframe thead th {\n",
       "        text-align: right;\n",
       "    }\n",
       "</style>\n",
       "<table border=\"1\" class=\"dataframe\">\n",
       "  <thead>\n",
       "    <tr style=\"text-align: right;\">\n",
       "      <th></th>\n",
       "      <th>sepal_length</th>\n",
       "      <th>sepal_width</th>\n",
       "      <th>petal_length</th>\n",
       "      <th>petal_width</th>\n",
       "      <th>species</th>\n",
       "    </tr>\n",
       "  </thead>\n",
       "  <tbody>\n",
       "    <tr>\n",
       "      <th>0</th>\n",
       "      <td>5.1</td>\n",
       "      <td>3.5</td>\n",
       "      <td>1.4</td>\n",
       "      <td>0.2</td>\n",
       "      <td>Iris-setosa</td>\n",
       "    </tr>\n",
       "    <tr>\n",
       "      <th>1</th>\n",
       "      <td>4.9</td>\n",
       "      <td>3.0</td>\n",
       "      <td>NaN</td>\n",
       "      <td>0.2</td>\n",
       "      <td>Iris-setosa</td>\n",
       "    </tr>\n",
       "    <tr>\n",
       "      <th>2</th>\n",
       "      <td>4.7</td>\n",
       "      <td>3.2</td>\n",
       "      <td>1.3</td>\n",
       "      <td>0.2</td>\n",
       "      <td>Iris-setosa</td>\n",
       "    </tr>\n",
       "    <tr>\n",
       "      <th>3</th>\n",
       "      <td>4.6</td>\n",
       "      <td>3.1</td>\n",
       "      <td>1.5</td>\n",
       "      <td>0.2</td>\n",
       "      <td>NaN</td>\n",
       "    </tr>\n",
       "    <tr>\n",
       "      <th>4</th>\n",
       "      <td>5.0</td>\n",
       "      <td>3.6</td>\n",
       "      <td>1.4</td>\n",
       "      <td>0.2</td>\n",
       "      <td>Iris-setosa</td>\n",
       "    </tr>\n",
       "    <tr>\n",
       "      <th>5</th>\n",
       "      <td>5.4</td>\n",
       "      <td>3.9</td>\n",
       "      <td>1.7</td>\n",
       "      <td>0.4</td>\n",
       "      <td>Iris-setosa</td>\n",
       "    </tr>\n",
       "    <tr>\n",
       "      <th>6</th>\n",
       "      <td>4.6</td>\n",
       "      <td>3.4</td>\n",
       "      <td>1.4</td>\n",
       "      <td>0.3</td>\n",
       "      <td>Iris-setosa</td>\n",
       "    </tr>\n",
       "    <tr>\n",
       "      <th>7</th>\n",
       "      <td>5.0</td>\n",
       "      <td>3.4</td>\n",
       "      <td>1.5</td>\n",
       "      <td>NaN</td>\n",
       "      <td>Iris-setosa</td>\n",
       "    </tr>\n",
       "    <tr>\n",
       "      <th>8</th>\n",
       "      <td>4.4</td>\n",
       "      <td>2.9</td>\n",
       "      <td>1.4</td>\n",
       "      <td>0.2</td>\n",
       "      <td>Iris-setosa</td>\n",
       "    </tr>\n",
       "    <tr>\n",
       "      <th>9</th>\n",
       "      <td>4.9</td>\n",
       "      <td>3.1</td>\n",
       "      <td>NaN</td>\n",
       "      <td>0.1</td>\n",
       "      <td>Iris-setosa</td>\n",
       "    </tr>\n",
       "  </tbody>\n",
       "</table>\n",
       "</div>"
      ],
      "text/plain": [
       "   sepal_length  sepal_width  petal_length  petal_width      species\n",
       "0           5.1          3.5           1.4          0.2  Iris-setosa\n",
       "1           4.9          3.0           NaN          0.2  Iris-setosa\n",
       "2           4.7          3.2           1.3          0.2  Iris-setosa\n",
       "3           4.6          3.1           1.5          0.2          NaN\n",
       "4           5.0          3.6           1.4          0.2  Iris-setosa\n",
       "5           5.4          3.9           1.7          0.4  Iris-setosa\n",
       "6           4.6          3.4           1.4          0.3  Iris-setosa\n",
       "7           5.0          3.4           1.5          NaN  Iris-setosa\n",
       "8           4.4          2.9           1.4          0.2  Iris-setosa\n",
       "9           4.9          3.1           NaN          0.1  Iris-setosa"
      ]
     },
     "execution_count": 6,
     "metadata": {},
     "output_type": "execute_result"
    }
   ],
   "source": [
    "iris1df.head(10)"
   ]
  },
  {
   "cell_type": "code",
   "execution_count": 7,
   "id": "c5206c3a",
   "metadata": {
    "execution": {
     "iopub.execute_input": "2023-02-11T14:42:17.556397Z",
     "iopub.status.busy": "2023-02-11T14:42:17.555547Z",
     "iopub.status.idle": "2023-02-11T14:42:17.576836Z",
     "shell.execute_reply": "2023-02-11T14:42:17.575525Z"
    },
    "papermill": {
     "duration": 0.045954,
     "end_time": "2023-02-11T14:42:17.579560",
     "exception": false,
     "start_time": "2023-02-11T14:42:17.533606",
     "status": "completed"
    },
    "tags": []
   },
   "outputs": [
    {
     "data": {
      "text/html": [
       "<div>\n",
       "<style scoped>\n",
       "    .dataframe tbody tr th:only-of-type {\n",
       "        vertical-align: middle;\n",
       "    }\n",
       "\n",
       "    .dataframe tbody tr th {\n",
       "        vertical-align: top;\n",
       "    }\n",
       "\n",
       "    .dataframe thead th {\n",
       "        text-align: right;\n",
       "    }\n",
       "</style>\n",
       "<table border=\"1\" class=\"dataframe\">\n",
       "  <thead>\n",
       "    <tr style=\"text-align: right;\">\n",
       "      <th></th>\n",
       "      <th>sepal_length</th>\n",
       "      <th>sepal_width</th>\n",
       "      <th>petal_length</th>\n",
       "      <th>petal_width</th>\n",
       "      <th>species</th>\n",
       "    </tr>\n",
       "  </thead>\n",
       "  <tbody>\n",
       "    <tr>\n",
       "      <th>130</th>\n",
       "      <td>7.4</td>\n",
       "      <td>2.8</td>\n",
       "      <td>6.1</td>\n",
       "      <td>1.9</td>\n",
       "      <td>Iris-virginica</td>\n",
       "    </tr>\n",
       "    <tr>\n",
       "      <th>131</th>\n",
       "      <td>7.9</td>\n",
       "      <td>3.8</td>\n",
       "      <td>6.4</td>\n",
       "      <td>2.0</td>\n",
       "      <td>Iris-virginica</td>\n",
       "    </tr>\n",
       "    <tr>\n",
       "      <th>132</th>\n",
       "      <td>6.4</td>\n",
       "      <td>2.8</td>\n",
       "      <td>NaN</td>\n",
       "      <td>2.2</td>\n",
       "      <td>Iris-virginica</td>\n",
       "    </tr>\n",
       "    <tr>\n",
       "      <th>133</th>\n",
       "      <td>6.3</td>\n",
       "      <td>2.8</td>\n",
       "      <td>5.1</td>\n",
       "      <td>1.5</td>\n",
       "      <td>Iris-virginica</td>\n",
       "    </tr>\n",
       "    <tr>\n",
       "      <th>134</th>\n",
       "      <td>6.1</td>\n",
       "      <td>2.6</td>\n",
       "      <td>5.6</td>\n",
       "      <td>1.4</td>\n",
       "      <td>Iris-virginica</td>\n",
       "    </tr>\n",
       "    <tr>\n",
       "      <th>135</th>\n",
       "      <td>7.7</td>\n",
       "      <td>3.0</td>\n",
       "      <td>6.1</td>\n",
       "      <td>2.3</td>\n",
       "      <td>Iris-virginica</td>\n",
       "    </tr>\n",
       "    <tr>\n",
       "      <th>136</th>\n",
       "      <td>6.3</td>\n",
       "      <td>3.4</td>\n",
       "      <td>5.6</td>\n",
       "      <td>2.4</td>\n",
       "      <td>Iris-virginica</td>\n",
       "    </tr>\n",
       "    <tr>\n",
       "      <th>137</th>\n",
       "      <td>6.4</td>\n",
       "      <td>3.1</td>\n",
       "      <td>5.5</td>\n",
       "      <td>1.8</td>\n",
       "      <td>Iris-virginica</td>\n",
       "    </tr>\n",
       "    <tr>\n",
       "      <th>138</th>\n",
       "      <td>NaN</td>\n",
       "      <td>4.8</td>\n",
       "      <td>1.8</td>\n",
       "      <td>NaN</td>\n",
       "      <td>NaN</td>\n",
       "    </tr>\n",
       "    <tr>\n",
       "      <th>139</th>\n",
       "      <td>6.9</td>\n",
       "      <td>3.1</td>\n",
       "      <td>5.4</td>\n",
       "      <td>2.1</td>\n",
       "      <td>Iris-virginica</td>\n",
       "    </tr>\n",
       "    <tr>\n",
       "      <th>140</th>\n",
       "      <td>6.7</td>\n",
       "      <td>3.1</td>\n",
       "      <td>5.6</td>\n",
       "      <td>2.4</td>\n",
       "      <td>Iris-virginica</td>\n",
       "    </tr>\n",
       "    <tr>\n",
       "      <th>141</th>\n",
       "      <td>NaN</td>\n",
       "      <td>3.1</td>\n",
       "      <td>5.1</td>\n",
       "      <td>2.3</td>\n",
       "      <td>Iris-virginica</td>\n",
       "    </tr>\n",
       "    <tr>\n",
       "      <th>142</th>\n",
       "      <td>5.8</td>\n",
       "      <td>2.7</td>\n",
       "      <td>5.1</td>\n",
       "      <td>1.9</td>\n",
       "      <td>Iris-virginica</td>\n",
       "    </tr>\n",
       "    <tr>\n",
       "      <th>143</th>\n",
       "      <td>6.8</td>\n",
       "      <td>3.2</td>\n",
       "      <td>5.9</td>\n",
       "      <td>2.3</td>\n",
       "      <td>Iris-virginica</td>\n",
       "    </tr>\n",
       "    <tr>\n",
       "      <th>144</th>\n",
       "      <td>6.7</td>\n",
       "      <td>NaN</td>\n",
       "      <td>5.7</td>\n",
       "      <td>2.5</td>\n",
       "      <td>Iris-virginica</td>\n",
       "    </tr>\n",
       "    <tr>\n",
       "      <th>145</th>\n",
       "      <td>6.7</td>\n",
       "      <td>3.0</td>\n",
       "      <td>5.2</td>\n",
       "      <td>2.3</td>\n",
       "      <td>Iris-virginica</td>\n",
       "    </tr>\n",
       "    <tr>\n",
       "      <th>146</th>\n",
       "      <td>6.3</td>\n",
       "      <td>2.5</td>\n",
       "      <td>NaN</td>\n",
       "      <td>1.9</td>\n",
       "      <td>Iris-virginica</td>\n",
       "    </tr>\n",
       "    <tr>\n",
       "      <th>147</th>\n",
       "      <td>6.5</td>\n",
       "      <td>3.0</td>\n",
       "      <td>5.2</td>\n",
       "      <td>2.0</td>\n",
       "      <td>NaN</td>\n",
       "    </tr>\n",
       "    <tr>\n",
       "      <th>148</th>\n",
       "      <td>6.2</td>\n",
       "      <td>3.4</td>\n",
       "      <td>5.4</td>\n",
       "      <td>2.3</td>\n",
       "      <td>Iris-virginica</td>\n",
       "    </tr>\n",
       "    <tr>\n",
       "      <th>149</th>\n",
       "      <td>5.9</td>\n",
       "      <td>3.0</td>\n",
       "      <td>NaN</td>\n",
       "      <td>1.8</td>\n",
       "      <td>Iris-virginica</td>\n",
       "    </tr>\n",
       "  </tbody>\n",
       "</table>\n",
       "</div>"
      ],
      "text/plain": [
       "     sepal_length  sepal_width  petal_length  petal_width         species\n",
       "130           7.4          2.8           6.1          1.9  Iris-virginica\n",
       "131           7.9          3.8           6.4          2.0  Iris-virginica\n",
       "132           6.4          2.8           NaN          2.2  Iris-virginica\n",
       "133           6.3          2.8           5.1          1.5  Iris-virginica\n",
       "134           6.1          2.6           5.6          1.4  Iris-virginica\n",
       "135           7.7          3.0           6.1          2.3  Iris-virginica\n",
       "136           6.3          3.4           5.6          2.4  Iris-virginica\n",
       "137           6.4          3.1           5.5          1.8  Iris-virginica\n",
       "138           NaN          4.8           1.8          NaN             NaN\n",
       "139           6.9          3.1           5.4          2.1  Iris-virginica\n",
       "140           6.7          3.1           5.6          2.4  Iris-virginica\n",
       "141           NaN          3.1           5.1          2.3  Iris-virginica\n",
       "142           5.8          2.7           5.1          1.9  Iris-virginica\n",
       "143           6.8          3.2           5.9          2.3  Iris-virginica\n",
       "144           6.7          NaN           5.7          2.5  Iris-virginica\n",
       "145           6.7          3.0           5.2          2.3  Iris-virginica\n",
       "146           6.3          2.5           NaN          1.9  Iris-virginica\n",
       "147           6.5          3.0           5.2          2.0             NaN\n",
       "148           6.2          3.4           5.4          2.3  Iris-virginica\n",
       "149           5.9          3.0           NaN          1.8  Iris-virginica"
      ]
     },
     "execution_count": 7,
     "metadata": {},
     "output_type": "execute_result"
    }
   ],
   "source": [
    "iris1df.tail(20)"
   ]
  },
  {
   "cell_type": "markdown",
   "id": "ffc9a8b4",
   "metadata": {
    "papermill": {
     "duration": 0.020355,
     "end_time": "2023-02-11T14:42:17.621330",
     "exception": false,
     "start_time": "2023-02-11T14:42:17.600975",
     "status": "completed"
    },
    "tags": []
   },
   "source": [
    "# shape of data\n",
    "**2. shape**"
   ]
  },
  {
   "cell_type": "code",
   "execution_count": 8,
   "id": "39116927",
   "metadata": {
    "execution": {
     "iopub.execute_input": "2023-02-11T14:42:17.664480Z",
     "iopub.status.busy": "2023-02-11T14:42:17.664033Z",
     "iopub.status.idle": "2023-02-11T14:42:17.671531Z",
     "shell.execute_reply": "2023-02-11T14:42:17.669989Z"
    },
    "papermill": {
     "duration": 0.032159,
     "end_time": "2023-02-11T14:42:17.674139",
     "exception": false,
     "start_time": "2023-02-11T14:42:17.641980",
     "status": "completed"
    },
    "tags": []
   },
   "outputs": [
    {
     "data": {
      "text/plain": [
       "(150, 5)"
      ]
     },
     "execution_count": 8,
     "metadata": {},
     "output_type": "execute_result"
    }
   ],
   "source": [
    "#shape\n",
    "irisdf.shape"
   ]
  },
  {
   "cell_type": "code",
   "execution_count": 9,
   "id": "47770e2f",
   "metadata": {
    "execution": {
     "iopub.execute_input": "2023-02-11T14:42:17.719216Z",
     "iopub.status.busy": "2023-02-11T14:42:17.718743Z",
     "iopub.status.idle": "2023-02-11T14:42:17.725625Z",
     "shell.execute_reply": "2023-02-11T14:42:17.724516Z"
    },
    "papermill": {
     "duration": 0.032505,
     "end_time": "2023-02-11T14:42:17.727913",
     "exception": false,
     "start_time": "2023-02-11T14:42:17.695408",
     "status": "completed"
    },
    "tags": []
   },
   "outputs": [
    {
     "data": {
      "text/plain": [
       "(150, 5)"
      ]
     },
     "execution_count": 9,
     "metadata": {},
     "output_type": "execute_result"
    }
   ],
   "source": [
    "#shape\n",
    "iris1df.shape"
   ]
  },
  {
   "cell_type": "markdown",
   "id": "da4b84f2",
   "metadata": {
    "papermill": {
     "duration": 0.020425,
     "end_time": "2023-02-11T14:42:17.769386",
     "exception": false,
     "start_time": "2023-02-11T14:42:17.748961",
     "status": "completed"
    },
    "tags": []
   },
   "source": [
    "**3. Describe() and Info()**"
   ]
  },
  {
   "cell_type": "code",
   "execution_count": 10,
   "id": "7d1a74e3",
   "metadata": {
    "execution": {
     "iopub.execute_input": "2023-02-11T14:42:17.812471Z",
     "iopub.status.busy": "2023-02-11T14:42:17.811971Z",
     "iopub.status.idle": "2023-02-11T14:42:17.847521Z",
     "shell.execute_reply": "2023-02-11T14:42:17.846260Z"
    },
    "papermill": {
     "duration": 0.06019,
     "end_time": "2023-02-11T14:42:17.850192",
     "exception": false,
     "start_time": "2023-02-11T14:42:17.790002",
     "status": "completed"
    },
    "tags": []
   },
   "outputs": [
    {
     "data": {
      "text/html": [
       "<div>\n",
       "<style scoped>\n",
       "    .dataframe tbody tr th:only-of-type {\n",
       "        vertical-align: middle;\n",
       "    }\n",
       "\n",
       "    .dataframe tbody tr th {\n",
       "        vertical-align: top;\n",
       "    }\n",
       "\n",
       "    .dataframe thead th {\n",
       "        text-align: right;\n",
       "    }\n",
       "</style>\n",
       "<table border=\"1\" class=\"dataframe\">\n",
       "  <thead>\n",
       "    <tr style=\"text-align: right;\">\n",
       "      <th></th>\n",
       "      <th>sepal_length</th>\n",
       "      <th>sepal_width</th>\n",
       "      <th>petal_length</th>\n",
       "      <th>petal_width</th>\n",
       "    </tr>\n",
       "  </thead>\n",
       "  <tbody>\n",
       "    <tr>\n",
       "      <th>count</th>\n",
       "      <td>150.000000</td>\n",
       "      <td>150.000000</td>\n",
       "      <td>150.000000</td>\n",
       "      <td>150.000000</td>\n",
       "    </tr>\n",
       "    <tr>\n",
       "      <th>mean</th>\n",
       "      <td>5.843333</td>\n",
       "      <td>3.054000</td>\n",
       "      <td>3.758667</td>\n",
       "      <td>1.198667</td>\n",
       "    </tr>\n",
       "    <tr>\n",
       "      <th>std</th>\n",
       "      <td>0.828066</td>\n",
       "      <td>0.433594</td>\n",
       "      <td>1.764420</td>\n",
       "      <td>0.763161</td>\n",
       "    </tr>\n",
       "    <tr>\n",
       "      <th>min</th>\n",
       "      <td>4.300000</td>\n",
       "      <td>2.000000</td>\n",
       "      <td>1.000000</td>\n",
       "      <td>0.100000</td>\n",
       "    </tr>\n",
       "    <tr>\n",
       "      <th>25%</th>\n",
       "      <td>5.100000</td>\n",
       "      <td>2.800000</td>\n",
       "      <td>1.600000</td>\n",
       "      <td>0.300000</td>\n",
       "    </tr>\n",
       "    <tr>\n",
       "      <th>50%</th>\n",
       "      <td>5.800000</td>\n",
       "      <td>3.000000</td>\n",
       "      <td>4.350000</td>\n",
       "      <td>1.300000</td>\n",
       "    </tr>\n",
       "    <tr>\n",
       "      <th>75%</th>\n",
       "      <td>6.400000</td>\n",
       "      <td>3.300000</td>\n",
       "      <td>5.100000</td>\n",
       "      <td>1.800000</td>\n",
       "    </tr>\n",
       "    <tr>\n",
       "      <th>max</th>\n",
       "      <td>7.900000</td>\n",
       "      <td>4.400000</td>\n",
       "      <td>6.900000</td>\n",
       "      <td>2.500000</td>\n",
       "    </tr>\n",
       "  </tbody>\n",
       "</table>\n",
       "</div>"
      ],
      "text/plain": [
       "       sepal_length  sepal_width  petal_length  petal_width\n",
       "count    150.000000   150.000000    150.000000   150.000000\n",
       "mean       5.843333     3.054000      3.758667     1.198667\n",
       "std        0.828066     0.433594      1.764420     0.763161\n",
       "min        4.300000     2.000000      1.000000     0.100000\n",
       "25%        5.100000     2.800000      1.600000     0.300000\n",
       "50%        5.800000     3.000000      4.350000     1.300000\n",
       "75%        6.400000     3.300000      5.100000     1.800000\n",
       "max        7.900000     4.400000      6.900000     2.500000"
      ]
     },
     "execution_count": 10,
     "metadata": {},
     "output_type": "execute_result"
    }
   ],
   "source": [
    "#describe\n",
    "irisdf.describe()"
   ]
  },
  {
   "cell_type": "markdown",
   "id": "c8cf10b6",
   "metadata": {
    "papermill": {
     "duration": 0.025968,
     "end_time": "2023-02-11T14:42:17.897532",
     "exception": false,
     "start_time": "2023-02-11T14:42:17.871564",
     "status": "completed"
    },
    "tags": []
   },
   "source": [
    "**Note: 25 50 and 75 are percentiles. They represent modes** \n",
    "\n",
    "**eg :25 percent of sepal_length values are less than or equal to 5.1**"
   ]
  },
  {
   "cell_type": "code",
   "execution_count": 11,
   "id": "b578df62",
   "metadata": {
    "execution": {
     "iopub.execute_input": "2023-02-11T14:42:17.951060Z",
     "iopub.status.busy": "2023-02-11T14:42:17.950029Z",
     "iopub.status.idle": "2023-02-11T14:42:17.968540Z",
     "shell.execute_reply": "2023-02-11T14:42:17.967204Z"
    },
    "papermill": {
     "duration": 0.046238,
     "end_time": "2023-02-11T14:42:17.971416",
     "exception": false,
     "start_time": "2023-02-11T14:42:17.925178",
     "status": "completed"
    },
    "tags": []
   },
   "outputs": [
    {
     "name": "stdout",
     "output_type": "stream",
     "text": [
      "<class 'pandas.core.frame.DataFrame'>\n",
      "RangeIndex: 150 entries, 0 to 149\n",
      "Data columns (total 5 columns):\n",
      " #   Column        Non-Null Count  Dtype  \n",
      "---  ------        --------------  -----  \n",
      " 0   sepal_length  150 non-null    float64\n",
      " 1   sepal_width   150 non-null    float64\n",
      " 2   petal_length  150 non-null    float64\n",
      " 3   petal_width   150 non-null    float64\n",
      " 4   species       150 non-null    object \n",
      "dtypes: float64(4), object(1)\n",
      "memory usage: 6.0+ KB\n"
     ]
    }
   ],
   "source": [
    "#info\n",
    "irisdf.info()"
   ]
  },
  {
   "cell_type": "code",
   "execution_count": 12,
   "id": "26a854e4",
   "metadata": {
    "execution": {
     "iopub.execute_input": "2023-02-11T14:42:18.016381Z",
     "iopub.status.busy": "2023-02-11T14:42:18.015713Z",
     "iopub.status.idle": "2023-02-11T14:42:18.039100Z",
     "shell.execute_reply": "2023-02-11T14:42:18.037755Z"
    },
    "papermill": {
     "duration": 0.049106,
     "end_time": "2023-02-11T14:42:18.041869",
     "exception": false,
     "start_time": "2023-02-11T14:42:17.992763",
     "status": "completed"
    },
    "tags": []
   },
   "outputs": [
    {
     "data": {
      "text/html": [
       "<div>\n",
       "<style scoped>\n",
       "    .dataframe tbody tr th:only-of-type {\n",
       "        vertical-align: middle;\n",
       "    }\n",
       "\n",
       "    .dataframe tbody tr th {\n",
       "        vertical-align: top;\n",
       "    }\n",
       "\n",
       "    .dataframe thead th {\n",
       "        text-align: right;\n",
       "    }\n",
       "</style>\n",
       "<table border=\"1\" class=\"dataframe\">\n",
       "  <thead>\n",
       "    <tr style=\"text-align: right;\">\n",
       "      <th></th>\n",
       "      <th>sepal_length</th>\n",
       "      <th>sepal_width</th>\n",
       "      <th>petal_length</th>\n",
       "      <th>petal_width</th>\n",
       "    </tr>\n",
       "  </thead>\n",
       "  <tbody>\n",
       "    <tr>\n",
       "      <th>count</th>\n",
       "      <td>140.000000</td>\n",
       "      <td>142.000000</td>\n",
       "      <td>137.000000</td>\n",
       "      <td>143.000000</td>\n",
       "    </tr>\n",
       "    <tr>\n",
       "      <th>mean</th>\n",
       "      <td>5.833571</td>\n",
       "      <td>3.061268</td>\n",
       "      <td>3.713139</td>\n",
       "      <td>1.184615</td>\n",
       "    </tr>\n",
       "    <tr>\n",
       "      <th>std</th>\n",
       "      <td>0.841086</td>\n",
       "      <td>0.450035</td>\n",
       "      <td>1.791845</td>\n",
       "      <td>0.766031</td>\n",
       "    </tr>\n",
       "    <tr>\n",
       "      <th>min</th>\n",
       "      <td>4.300000</td>\n",
       "      <td>2.000000</td>\n",
       "      <td>1.000000</td>\n",
       "      <td>0.100000</td>\n",
       "    </tr>\n",
       "    <tr>\n",
       "      <th>25%</th>\n",
       "      <td>5.100000</td>\n",
       "      <td>2.800000</td>\n",
       "      <td>1.500000</td>\n",
       "      <td>0.300000</td>\n",
       "    </tr>\n",
       "    <tr>\n",
       "      <th>50%</th>\n",
       "      <td>5.800000</td>\n",
       "      <td>3.000000</td>\n",
       "      <td>4.200000</td>\n",
       "      <td>1.300000</td>\n",
       "    </tr>\n",
       "    <tr>\n",
       "      <th>75%</th>\n",
       "      <td>6.400000</td>\n",
       "      <td>3.300000</td>\n",
       "      <td>5.100000</td>\n",
       "      <td>1.800000</td>\n",
       "    </tr>\n",
       "    <tr>\n",
       "      <th>max</th>\n",
       "      <td>7.900000</td>\n",
       "      <td>4.800000</td>\n",
       "      <td>6.900000</td>\n",
       "      <td>2.500000</td>\n",
       "    </tr>\n",
       "  </tbody>\n",
       "</table>\n",
       "</div>"
      ],
      "text/plain": [
       "       sepal_length  sepal_width  petal_length  petal_width\n",
       "count    140.000000   142.000000    137.000000   143.000000\n",
       "mean       5.833571     3.061268      3.713139     1.184615\n",
       "std        0.841086     0.450035      1.791845     0.766031\n",
       "min        4.300000     2.000000      1.000000     0.100000\n",
       "25%        5.100000     2.800000      1.500000     0.300000\n",
       "50%        5.800000     3.000000      4.200000     1.300000\n",
       "75%        6.400000     3.300000      5.100000     1.800000\n",
       "max        7.900000     4.800000      6.900000     2.500000"
      ]
     },
     "execution_count": 12,
     "metadata": {},
     "output_type": "execute_result"
    }
   ],
   "source": [
    "iris1df.describe()"
   ]
  },
  {
   "cell_type": "code",
   "execution_count": 13,
   "id": "0a41e950",
   "metadata": {
    "execution": {
     "iopub.execute_input": "2023-02-11T14:42:18.086700Z",
     "iopub.status.busy": "2023-02-11T14:42:18.085878Z",
     "iopub.status.idle": "2023-02-11T14:42:18.099648Z",
     "shell.execute_reply": "2023-02-11T14:42:18.098227Z"
    },
    "papermill": {
     "duration": 0.039315,
     "end_time": "2023-02-11T14:42:18.102659",
     "exception": false,
     "start_time": "2023-02-11T14:42:18.063344",
     "status": "completed"
    },
    "tags": []
   },
   "outputs": [
    {
     "name": "stdout",
     "output_type": "stream",
     "text": [
      "<class 'pandas.core.frame.DataFrame'>\n",
      "RangeIndex: 150 entries, 0 to 149\n",
      "Data columns (total 5 columns):\n",
      " #   Column        Non-Null Count  Dtype  \n",
      "---  ------        --------------  -----  \n",
      " 0   sepal_length  140 non-null    float64\n",
      " 1   sepal_width   142 non-null    float64\n",
      " 2   petal_length  137 non-null    float64\n",
      " 3   petal_width   143 non-null    float64\n",
      " 4   species       137 non-null    object \n",
      "dtypes: float64(4), object(1)\n",
      "memory usage: 6.0+ KB\n"
     ]
    }
   ],
   "source": [
    "iris1df.info()"
   ]
  },
  {
   "cell_type": "markdown",
   "id": "e66032a9",
   "metadata": {
    "papermill": {
     "duration": 0.021027,
     "end_time": "2023-02-11T14:42:18.145868",
     "exception": false,
     "start_time": "2023-02-11T14:42:18.124841",
     "status": "completed"
    },
    "tags": []
   },
   "source": [
    "**4. Duplicated() and Keep attribute**"
   ]
  },
  {
   "cell_type": "code",
   "execution_count": 14,
   "id": "7eda0dc5",
   "metadata": {
    "execution": {
     "iopub.execute_input": "2023-02-11T14:42:18.190760Z",
     "iopub.status.busy": "2023-02-11T14:42:18.189932Z",
     "iopub.status.idle": "2023-02-11T14:42:18.202938Z",
     "shell.execute_reply": "2023-02-11T14:42:18.201625Z"
    },
    "papermill": {
     "duration": 0.038176,
     "end_time": "2023-02-11T14:42:18.205432",
     "exception": false,
     "start_time": "2023-02-11T14:42:18.167256",
     "status": "completed"
    },
    "tags": []
   },
   "outputs": [
    {
     "data": {
      "text/plain": [
       "0      False\n",
       "1      False\n",
       "2      False\n",
       "3      False\n",
       "4      False\n",
       "       ...  \n",
       "145    False\n",
       "146    False\n",
       "147    False\n",
       "148    False\n",
       "149    False\n",
       "Length: 150, dtype: bool"
      ]
     },
     "execution_count": 14,
     "metadata": {},
     "output_type": "execute_result"
    }
   ],
   "source": [
    "irisdf.duplicated()"
   ]
  },
  {
   "cell_type": "code",
   "execution_count": 15,
   "id": "97737886",
   "metadata": {
    "execution": {
     "iopub.execute_input": "2023-02-11T14:42:18.250513Z",
     "iopub.status.busy": "2023-02-11T14:42:18.250044Z",
     "iopub.status.idle": "2023-02-11T14:42:18.258307Z",
     "shell.execute_reply": "2023-02-11T14:42:18.257230Z"
    },
    "papermill": {
     "duration": 0.033715,
     "end_time": "2023-02-11T14:42:18.260725",
     "exception": false,
     "start_time": "2023-02-11T14:42:18.227010",
     "status": "completed"
    },
    "tags": []
   },
   "outputs": [
    {
     "data": {
      "text/plain": [
       "3"
      ]
     },
     "execution_count": 15,
     "metadata": {},
     "output_type": "execute_result"
    }
   ],
   "source": [
    "irisdf.duplicated().sum()"
   ]
  },
  {
   "cell_type": "code",
   "execution_count": 16,
   "id": "808eac8b",
   "metadata": {
    "execution": {
     "iopub.execute_input": "2023-02-11T14:42:18.305974Z",
     "iopub.status.busy": "2023-02-11T14:42:18.305570Z",
     "iopub.status.idle": "2023-02-11T14:42:18.321395Z",
     "shell.execute_reply": "2023-02-11T14:42:18.319877Z"
    },
    "papermill": {
     "duration": 0.041695,
     "end_time": "2023-02-11T14:42:18.324001",
     "exception": false,
     "start_time": "2023-02-11T14:42:18.282306",
     "status": "completed"
    },
    "tags": []
   },
   "outputs": [
    {
     "data": {
      "text/html": [
       "<div>\n",
       "<style scoped>\n",
       "    .dataframe tbody tr th:only-of-type {\n",
       "        vertical-align: middle;\n",
       "    }\n",
       "\n",
       "    .dataframe tbody tr th {\n",
       "        vertical-align: top;\n",
       "    }\n",
       "\n",
       "    .dataframe thead th {\n",
       "        text-align: right;\n",
       "    }\n",
       "</style>\n",
       "<table border=\"1\" class=\"dataframe\">\n",
       "  <thead>\n",
       "    <tr style=\"text-align: right;\">\n",
       "      <th></th>\n",
       "      <th>sepal_length</th>\n",
       "      <th>sepal_width</th>\n",
       "      <th>petal_length</th>\n",
       "      <th>petal_width</th>\n",
       "      <th>species</th>\n",
       "    </tr>\n",
       "  </thead>\n",
       "  <tbody>\n",
       "    <tr>\n",
       "      <th>34</th>\n",
       "      <td>4.9</td>\n",
       "      <td>3.1</td>\n",
       "      <td>1.5</td>\n",
       "      <td>0.1</td>\n",
       "      <td>Iris-setosa</td>\n",
       "    </tr>\n",
       "    <tr>\n",
       "      <th>37</th>\n",
       "      <td>4.9</td>\n",
       "      <td>3.1</td>\n",
       "      <td>1.5</td>\n",
       "      <td>0.1</td>\n",
       "      <td>Iris-setosa</td>\n",
       "    </tr>\n",
       "    <tr>\n",
       "      <th>142</th>\n",
       "      <td>5.8</td>\n",
       "      <td>2.7</td>\n",
       "      <td>5.1</td>\n",
       "      <td>1.9</td>\n",
       "      <td>Iris-virginica</td>\n",
       "    </tr>\n",
       "  </tbody>\n",
       "</table>\n",
       "</div>"
      ],
      "text/plain": [
       "     sepal_length  sepal_width  petal_length  petal_width         species\n",
       "34            4.9          3.1           1.5          0.1     Iris-setosa\n",
       "37            4.9          3.1           1.5          0.1     Iris-setosa\n",
       "142           5.8          2.7           5.1          1.9  Iris-virginica"
      ]
     },
     "execution_count": 16,
     "metadata": {},
     "output_type": "execute_result"
    }
   ],
   "source": [
    "duplicate=irisdf[irisdf.duplicated(keep='first')]\n",
    "duplicate"
   ]
  },
  {
   "cell_type": "code",
   "execution_count": 17,
   "id": "813a93d2",
   "metadata": {
    "execution": {
     "iopub.execute_input": "2023-02-11T14:42:18.372097Z",
     "iopub.status.busy": "2023-02-11T14:42:18.371710Z",
     "iopub.status.idle": "2023-02-11T14:42:18.386428Z",
     "shell.execute_reply": "2023-02-11T14:42:18.385542Z"
    },
    "papermill": {
     "duration": 0.042004,
     "end_time": "2023-02-11T14:42:18.388556",
     "exception": false,
     "start_time": "2023-02-11T14:42:18.346552",
     "status": "completed"
    },
    "tags": []
   },
   "outputs": [
    {
     "data": {
      "text/html": [
       "<div>\n",
       "<style scoped>\n",
       "    .dataframe tbody tr th:only-of-type {\n",
       "        vertical-align: middle;\n",
       "    }\n",
       "\n",
       "    .dataframe tbody tr th {\n",
       "        vertical-align: top;\n",
       "    }\n",
       "\n",
       "    .dataframe thead th {\n",
       "        text-align: right;\n",
       "    }\n",
       "</style>\n",
       "<table border=\"1\" class=\"dataframe\">\n",
       "  <thead>\n",
       "    <tr style=\"text-align: right;\">\n",
       "      <th></th>\n",
       "      <th>sepal_length</th>\n",
       "      <th>sepal_width</th>\n",
       "      <th>petal_length</th>\n",
       "      <th>petal_width</th>\n",
       "      <th>species</th>\n",
       "    </tr>\n",
       "  </thead>\n",
       "  <tbody>\n",
       "    <tr>\n",
       "      <th>9</th>\n",
       "      <td>4.9</td>\n",
       "      <td>3.1</td>\n",
       "      <td>1.5</td>\n",
       "      <td>0.1</td>\n",
       "      <td>Iris-setosa</td>\n",
       "    </tr>\n",
       "    <tr>\n",
       "      <th>34</th>\n",
       "      <td>4.9</td>\n",
       "      <td>3.1</td>\n",
       "      <td>1.5</td>\n",
       "      <td>0.1</td>\n",
       "      <td>Iris-setosa</td>\n",
       "    </tr>\n",
       "    <tr>\n",
       "      <th>101</th>\n",
       "      <td>5.8</td>\n",
       "      <td>2.7</td>\n",
       "      <td>5.1</td>\n",
       "      <td>1.9</td>\n",
       "      <td>Iris-virginica</td>\n",
       "    </tr>\n",
       "  </tbody>\n",
       "</table>\n",
       "</div>"
      ],
      "text/plain": [
       "     sepal_length  sepal_width  petal_length  petal_width         species\n",
       "9             4.9          3.1           1.5          0.1     Iris-setosa\n",
       "34            4.9          3.1           1.5          0.1     Iris-setosa\n",
       "101           5.8          2.7           5.1          1.9  Iris-virginica"
      ]
     },
     "execution_count": 17,
     "metadata": {},
     "output_type": "execute_result"
    }
   ],
   "source": [
    "duplicate=irisdf[irisdf.duplicated(keep='last')]\n",
    "duplicate"
   ]
  },
  {
   "cell_type": "code",
   "execution_count": 18,
   "id": "9017c299",
   "metadata": {
    "execution": {
     "iopub.execute_input": "2023-02-11T14:42:18.434234Z",
     "iopub.status.busy": "2023-02-11T14:42:18.433548Z",
     "iopub.status.idle": "2023-02-11T14:42:18.443287Z",
     "shell.execute_reply": "2023-02-11T14:42:18.442127Z"
    },
    "papermill": {
     "duration": 0.035297,
     "end_time": "2023-02-11T14:42:18.445584",
     "exception": false,
     "start_time": "2023-02-11T14:42:18.410287",
     "status": "completed"
    },
    "tags": []
   },
   "outputs": [
    {
     "data": {
      "text/plain": [
       "0      False\n",
       "1      False\n",
       "2      False\n",
       "3      False\n",
       "4      False\n",
       "       ...  \n",
       "145    False\n",
       "146    False\n",
       "147    False\n",
       "148    False\n",
       "149    False\n",
       "Length: 150, dtype: bool"
      ]
     },
     "execution_count": 18,
     "metadata": {},
     "output_type": "execute_result"
    }
   ],
   "source": [
    "iris1df.duplicated()"
   ]
  },
  {
   "cell_type": "code",
   "execution_count": 19,
   "id": "a659202a",
   "metadata": {
    "execution": {
     "iopub.execute_input": "2023-02-11T14:42:18.491597Z",
     "iopub.status.busy": "2023-02-11T14:42:18.490931Z",
     "iopub.status.idle": "2023-02-11T14:42:18.498080Z",
     "shell.execute_reply": "2023-02-11T14:42:18.497257Z"
    },
    "papermill": {
     "duration": 0.032766,
     "end_time": "2023-02-11T14:42:18.500378",
     "exception": false,
     "start_time": "2023-02-11T14:42:18.467612",
     "status": "completed"
    },
    "tags": []
   },
   "outputs": [
    {
     "data": {
      "text/plain": [
       "2"
      ]
     },
     "execution_count": 19,
     "metadata": {},
     "output_type": "execute_result"
    }
   ],
   "source": [
    "iris1df.duplicated().sum()"
   ]
  },
  {
   "cell_type": "code",
   "execution_count": 20,
   "id": "ab62c28a",
   "metadata": {
    "execution": {
     "iopub.execute_input": "2023-02-11T14:42:18.546563Z",
     "iopub.status.busy": "2023-02-11T14:42:18.546116Z",
     "iopub.status.idle": "2023-02-11T14:42:18.560364Z",
     "shell.execute_reply": "2023-02-11T14:42:18.559300Z"
    },
    "papermill": {
     "duration": 0.040205,
     "end_time": "2023-02-11T14:42:18.562698",
     "exception": false,
     "start_time": "2023-02-11T14:42:18.522493",
     "status": "completed"
    },
    "tags": []
   },
   "outputs": [
    {
     "data": {
      "text/html": [
       "<div>\n",
       "<style scoped>\n",
       "    .dataframe tbody tr th:only-of-type {\n",
       "        vertical-align: middle;\n",
       "    }\n",
       "\n",
       "    .dataframe tbody tr th {\n",
       "        vertical-align: top;\n",
       "    }\n",
       "\n",
       "    .dataframe thead th {\n",
       "        text-align: right;\n",
       "    }\n",
       "</style>\n",
       "<table border=\"1\" class=\"dataframe\">\n",
       "  <thead>\n",
       "    <tr style=\"text-align: right;\">\n",
       "      <th></th>\n",
       "      <th>sepal_length</th>\n",
       "      <th>sepal_width</th>\n",
       "      <th>petal_length</th>\n",
       "      <th>petal_width</th>\n",
       "      <th>species</th>\n",
       "    </tr>\n",
       "  </thead>\n",
       "  <tbody>\n",
       "    <tr>\n",
       "      <th>37</th>\n",
       "      <td>4.9</td>\n",
       "      <td>3.1</td>\n",
       "      <td>1.5</td>\n",
       "      <td>0.1</td>\n",
       "      <td>Iris-setosa</td>\n",
       "    </tr>\n",
       "    <tr>\n",
       "      <th>142</th>\n",
       "      <td>5.8</td>\n",
       "      <td>2.7</td>\n",
       "      <td>5.1</td>\n",
       "      <td>1.9</td>\n",
       "      <td>Iris-virginica</td>\n",
       "    </tr>\n",
       "  </tbody>\n",
       "</table>\n",
       "</div>"
      ],
      "text/plain": [
       "     sepal_length  sepal_width  petal_length  petal_width         species\n",
       "37            4.9          3.1           1.5          0.1     Iris-setosa\n",
       "142           5.8          2.7           5.1          1.9  Iris-virginica"
      ]
     },
     "execution_count": 20,
     "metadata": {},
     "output_type": "execute_result"
    }
   ],
   "source": [
    "duplicate=iris1df[iris1df.duplicated(keep='first')]\n",
    "duplicate"
   ]
  },
  {
   "cell_type": "code",
   "execution_count": 21,
   "id": "b47544fd",
   "metadata": {
    "execution": {
     "iopub.execute_input": "2023-02-11T14:42:18.609657Z",
     "iopub.status.busy": "2023-02-11T14:42:18.608880Z",
     "iopub.status.idle": "2023-02-11T14:42:18.623371Z",
     "shell.execute_reply": "2023-02-11T14:42:18.622216Z"
    },
    "papermill": {
     "duration": 0.040896,
     "end_time": "2023-02-11T14:42:18.625853",
     "exception": false,
     "start_time": "2023-02-11T14:42:18.584957",
     "status": "completed"
    },
    "tags": []
   },
   "outputs": [
    {
     "data": {
      "text/html": [
       "<div>\n",
       "<style scoped>\n",
       "    .dataframe tbody tr th:only-of-type {\n",
       "        vertical-align: middle;\n",
       "    }\n",
       "\n",
       "    .dataframe tbody tr th {\n",
       "        vertical-align: top;\n",
       "    }\n",
       "\n",
       "    .dataframe thead th {\n",
       "        text-align: right;\n",
       "    }\n",
       "</style>\n",
       "<table border=\"1\" class=\"dataframe\">\n",
       "  <thead>\n",
       "    <tr style=\"text-align: right;\">\n",
       "      <th></th>\n",
       "      <th>sepal_length</th>\n",
       "      <th>sepal_width</th>\n",
       "      <th>petal_length</th>\n",
       "      <th>petal_width</th>\n",
       "      <th>species</th>\n",
       "    </tr>\n",
       "  </thead>\n",
       "  <tbody>\n",
       "    <tr>\n",
       "      <th>34</th>\n",
       "      <td>4.9</td>\n",
       "      <td>3.1</td>\n",
       "      <td>1.5</td>\n",
       "      <td>0.1</td>\n",
       "      <td>Iris-setosa</td>\n",
       "    </tr>\n",
       "    <tr>\n",
       "      <th>101</th>\n",
       "      <td>5.8</td>\n",
       "      <td>2.7</td>\n",
       "      <td>5.1</td>\n",
       "      <td>1.9</td>\n",
       "      <td>Iris-virginica</td>\n",
       "    </tr>\n",
       "  </tbody>\n",
       "</table>\n",
       "</div>"
      ],
      "text/plain": [
       "     sepal_length  sepal_width  petal_length  petal_width         species\n",
       "34            4.9          3.1           1.5          0.1     Iris-setosa\n",
       "101           5.8          2.7           5.1          1.9  Iris-virginica"
      ]
     },
     "execution_count": 21,
     "metadata": {},
     "output_type": "execute_result"
    }
   ],
   "source": [
    "duplicate=iris1df[iris1df.duplicated(keep='last')]\n",
    "duplicate"
   ]
  },
  {
   "cell_type": "markdown",
   "id": "277bb0be",
   "metadata": {
    "papermill": {
     "duration": 0.022622,
     "end_time": "2023-02-11T14:42:18.670950",
     "exception": false,
     "start_time": "2023-02-11T14:42:18.648328",
     "status": "completed"
    },
    "tags": []
   },
   "source": [
    "**5. drop_duplicates**"
   ]
  },
  {
   "cell_type": "code",
   "execution_count": 22,
   "id": "3547820e",
   "metadata": {
    "execution": {
     "iopub.execute_input": "2023-02-11T14:42:18.717831Z",
     "iopub.status.busy": "2023-02-11T14:42:18.717376Z",
     "iopub.status.idle": "2023-02-11T14:42:18.725825Z",
     "shell.execute_reply": "2023-02-11T14:42:18.724643Z"
    },
    "papermill": {
     "duration": 0.034855,
     "end_time": "2023-02-11T14:42:18.728360",
     "exception": false,
     "start_time": "2023-02-11T14:42:18.693505",
     "status": "completed"
    },
    "tags": []
   },
   "outputs": [],
   "source": [
    "irisdf.drop_duplicates(inplace=True)"
   ]
  },
  {
   "cell_type": "code",
   "execution_count": 23,
   "id": "7394ee72",
   "metadata": {
    "execution": {
     "iopub.execute_input": "2023-02-11T14:42:18.776816Z",
     "iopub.status.busy": "2023-02-11T14:42:18.776301Z",
     "iopub.status.idle": "2023-02-11T14:42:18.784223Z",
     "shell.execute_reply": "2023-02-11T14:42:18.783078Z"
    },
    "papermill": {
     "duration": 0.03496,
     "end_time": "2023-02-11T14:42:18.786767",
     "exception": false,
     "start_time": "2023-02-11T14:42:18.751807",
     "status": "completed"
    },
    "tags": []
   },
   "outputs": [
    {
     "data": {
      "text/plain": [
       "(147, 5)"
      ]
     },
     "execution_count": 23,
     "metadata": {},
     "output_type": "execute_result"
    }
   ],
   "source": [
    "irisdf.shape"
   ]
  },
  {
   "cell_type": "code",
   "execution_count": 24,
   "id": "29420ca4",
   "metadata": {
    "execution": {
     "iopub.execute_input": "2023-02-11T14:42:18.835110Z",
     "iopub.status.busy": "2023-02-11T14:42:18.834356Z",
     "iopub.status.idle": "2023-02-11T14:42:18.841448Z",
     "shell.execute_reply": "2023-02-11T14:42:18.840542Z"
    },
    "papermill": {
     "duration": 0.034077,
     "end_time": "2023-02-11T14:42:18.844033",
     "exception": false,
     "start_time": "2023-02-11T14:42:18.809956",
     "status": "completed"
    },
    "tags": []
   },
   "outputs": [],
   "source": [
    "iris1df.drop_duplicates(inplace=True)"
   ]
  },
  {
   "cell_type": "code",
   "execution_count": 25,
   "id": "7d1eedac",
   "metadata": {
    "execution": {
     "iopub.execute_input": "2023-02-11T14:42:18.892336Z",
     "iopub.status.busy": "2023-02-11T14:42:18.891916Z",
     "iopub.status.idle": "2023-02-11T14:42:18.898466Z",
     "shell.execute_reply": "2023-02-11T14:42:18.897276Z"
    },
    "papermill": {
     "duration": 0.033423,
     "end_time": "2023-02-11T14:42:18.900965",
     "exception": false,
     "start_time": "2023-02-11T14:42:18.867542",
     "status": "completed"
    },
    "tags": []
   },
   "outputs": [
    {
     "data": {
      "text/plain": [
       "(148, 5)"
      ]
     },
     "execution_count": 25,
     "metadata": {},
     "output_type": "execute_result"
    }
   ],
   "source": [
    "iris1df.shape"
   ]
  },
  {
   "cell_type": "markdown",
   "id": "eb9976a1",
   "metadata": {
    "papermill": {
     "duration": 0.02241,
     "end_time": "2023-02-11T14:42:18.947487",
     "exception": false,
     "start_time": "2023-02-11T14:42:18.925077",
     "status": "completed"
    },
    "tags": []
   },
   "source": [
    "**6. isnull()**"
   ]
  },
  {
   "cell_type": "code",
   "execution_count": 26,
   "id": "792b9f89",
   "metadata": {
    "execution": {
     "iopub.execute_input": "2023-02-11T14:42:18.995157Z",
     "iopub.status.busy": "2023-02-11T14:42:18.994732Z",
     "iopub.status.idle": "2023-02-11T14:42:19.011702Z",
     "shell.execute_reply": "2023-02-11T14:42:19.010538Z"
    },
    "papermill": {
     "duration": 0.04305,
     "end_time": "2023-02-11T14:42:19.013926",
     "exception": false,
     "start_time": "2023-02-11T14:42:18.970876",
     "status": "completed"
    },
    "tags": []
   },
   "outputs": [
    {
     "data": {
      "text/html": [
       "<div>\n",
       "<style scoped>\n",
       "    .dataframe tbody tr th:only-of-type {\n",
       "        vertical-align: middle;\n",
       "    }\n",
       "\n",
       "    .dataframe tbody tr th {\n",
       "        vertical-align: top;\n",
       "    }\n",
       "\n",
       "    .dataframe thead th {\n",
       "        text-align: right;\n",
       "    }\n",
       "</style>\n",
       "<table border=\"1\" class=\"dataframe\">\n",
       "  <thead>\n",
       "    <tr style=\"text-align: right;\">\n",
       "      <th></th>\n",
       "      <th>sepal_length</th>\n",
       "      <th>sepal_width</th>\n",
       "      <th>petal_length</th>\n",
       "      <th>petal_width</th>\n",
       "      <th>species</th>\n",
       "    </tr>\n",
       "  </thead>\n",
       "  <tbody>\n",
       "    <tr>\n",
       "      <th>0</th>\n",
       "      <td>False</td>\n",
       "      <td>False</td>\n",
       "      <td>False</td>\n",
       "      <td>False</td>\n",
       "      <td>False</td>\n",
       "    </tr>\n",
       "    <tr>\n",
       "      <th>1</th>\n",
       "      <td>False</td>\n",
       "      <td>False</td>\n",
       "      <td>False</td>\n",
       "      <td>False</td>\n",
       "      <td>False</td>\n",
       "    </tr>\n",
       "    <tr>\n",
       "      <th>2</th>\n",
       "      <td>False</td>\n",
       "      <td>False</td>\n",
       "      <td>False</td>\n",
       "      <td>False</td>\n",
       "      <td>False</td>\n",
       "    </tr>\n",
       "    <tr>\n",
       "      <th>3</th>\n",
       "      <td>False</td>\n",
       "      <td>False</td>\n",
       "      <td>False</td>\n",
       "      <td>False</td>\n",
       "      <td>False</td>\n",
       "    </tr>\n",
       "    <tr>\n",
       "      <th>4</th>\n",
       "      <td>False</td>\n",
       "      <td>False</td>\n",
       "      <td>False</td>\n",
       "      <td>False</td>\n",
       "      <td>False</td>\n",
       "    </tr>\n",
       "    <tr>\n",
       "      <th>...</th>\n",
       "      <td>...</td>\n",
       "      <td>...</td>\n",
       "      <td>...</td>\n",
       "      <td>...</td>\n",
       "      <td>...</td>\n",
       "    </tr>\n",
       "    <tr>\n",
       "      <th>145</th>\n",
       "      <td>False</td>\n",
       "      <td>False</td>\n",
       "      <td>False</td>\n",
       "      <td>False</td>\n",
       "      <td>False</td>\n",
       "    </tr>\n",
       "    <tr>\n",
       "      <th>146</th>\n",
       "      <td>False</td>\n",
       "      <td>False</td>\n",
       "      <td>False</td>\n",
       "      <td>False</td>\n",
       "      <td>False</td>\n",
       "    </tr>\n",
       "    <tr>\n",
       "      <th>147</th>\n",
       "      <td>False</td>\n",
       "      <td>False</td>\n",
       "      <td>False</td>\n",
       "      <td>False</td>\n",
       "      <td>False</td>\n",
       "    </tr>\n",
       "    <tr>\n",
       "      <th>148</th>\n",
       "      <td>False</td>\n",
       "      <td>False</td>\n",
       "      <td>False</td>\n",
       "      <td>False</td>\n",
       "      <td>False</td>\n",
       "    </tr>\n",
       "    <tr>\n",
       "      <th>149</th>\n",
       "      <td>False</td>\n",
       "      <td>False</td>\n",
       "      <td>False</td>\n",
       "      <td>False</td>\n",
       "      <td>False</td>\n",
       "    </tr>\n",
       "  </tbody>\n",
       "</table>\n",
       "<p>147 rows × 5 columns</p>\n",
       "</div>"
      ],
      "text/plain": [
       "     sepal_length  sepal_width  petal_length  petal_width  species\n",
       "0           False        False         False        False    False\n",
       "1           False        False         False        False    False\n",
       "2           False        False         False        False    False\n",
       "3           False        False         False        False    False\n",
       "4           False        False         False        False    False\n",
       "..            ...          ...           ...          ...      ...\n",
       "145         False        False         False        False    False\n",
       "146         False        False         False        False    False\n",
       "147         False        False         False        False    False\n",
       "148         False        False         False        False    False\n",
       "149         False        False         False        False    False\n",
       "\n",
       "[147 rows x 5 columns]"
      ]
     },
     "execution_count": 26,
     "metadata": {},
     "output_type": "execute_result"
    }
   ],
   "source": [
    "irisdf.isnull()"
   ]
  },
  {
   "cell_type": "code",
   "execution_count": 27,
   "id": "8dbda3c3",
   "metadata": {
    "execution": {
     "iopub.execute_input": "2023-02-11T14:42:19.062314Z",
     "iopub.status.busy": "2023-02-11T14:42:19.061916Z",
     "iopub.status.idle": "2023-02-11T14:42:19.070933Z",
     "shell.execute_reply": "2023-02-11T14:42:19.069700Z"
    },
    "papermill": {
     "duration": 0.03604,
     "end_time": "2023-02-11T14:42:19.073316",
     "exception": false,
     "start_time": "2023-02-11T14:42:19.037276",
     "status": "completed"
    },
    "tags": []
   },
   "outputs": [
    {
     "data": {
      "text/plain": [
       "sepal_length    0\n",
       "sepal_width     0\n",
       "petal_length    0\n",
       "petal_width     0\n",
       "species         0\n",
       "dtype: int64"
      ]
     },
     "execution_count": 27,
     "metadata": {},
     "output_type": "execute_result"
    }
   ],
   "source": [
    "irisdf.isnull().sum()"
   ]
  },
  {
   "cell_type": "code",
   "execution_count": 28,
   "id": "1d620b36",
   "metadata": {
    "execution": {
     "iopub.execute_input": "2023-02-11T14:42:19.121961Z",
     "iopub.status.busy": "2023-02-11T14:42:19.121535Z",
     "iopub.status.idle": "2023-02-11T14:42:19.131366Z",
     "shell.execute_reply": "2023-02-11T14:42:19.130127Z"
    },
    "papermill": {
     "duration": 0.037168,
     "end_time": "2023-02-11T14:42:19.133788",
     "exception": false,
     "start_time": "2023-02-11T14:42:19.096620",
     "status": "completed"
    },
    "tags": []
   },
   "outputs": [
    {
     "data": {
      "text/plain": [
       "sepal_length    10\n",
       "sepal_width      8\n",
       "petal_length    13\n",
       "petal_width      7\n",
       "species         13\n",
       "dtype: int64"
      ]
     },
     "execution_count": 28,
     "metadata": {},
     "output_type": "execute_result"
    }
   ],
   "source": [
    "iris1df.isnull().sum()"
   ]
  },
  {
   "cell_type": "markdown",
   "id": "23a3ade2",
   "metadata": {
    "papermill": {
     "duration": 0.022949,
     "end_time": "2023-02-11T14:42:19.180925",
     "exception": false,
     "start_time": "2023-02-11T14:42:19.157976",
     "status": "completed"
    },
    "tags": []
   },
   "source": [
    "# fill or drop missing values\n",
    "\n",
    "These values can be anything from mean, median, mode or any specific value\n",
    "\n",
    "**7. fillna (value and inplace attribute)**"
   ]
  },
  {
   "cell_type": "markdown",
   "id": "c2369444",
   "metadata": {
    "papermill": {
     "duration": 0.023345,
     "end_time": "2023-02-11T14:42:19.228378",
     "exception": false,
     "start_time": "2023-02-11T14:42:19.205033",
     "status": "completed"
    },
    "tags": []
   },
   "source": [
    "## Sepal length --- Mean "
   ]
  },
  {
   "cell_type": "code",
   "execution_count": 29,
   "id": "d2d5031d",
   "metadata": {
    "execution": {
     "iopub.execute_input": "2023-02-11T14:42:19.276896Z",
     "iopub.status.busy": "2023-02-11T14:42:19.276480Z",
     "iopub.status.idle": "2023-02-11T14:42:19.284182Z",
     "shell.execute_reply": "2023-02-11T14:42:19.282878Z"
    },
    "papermill": {
     "duration": 0.035189,
     "end_time": "2023-02-11T14:42:19.286547",
     "exception": false,
     "start_time": "2023-02-11T14:42:19.251358",
     "status": "completed"
    },
    "tags": []
   },
   "outputs": [
    {
     "data": {
      "text/plain": [
       "5.840579710144928"
      ]
     },
     "execution_count": 29,
     "metadata": {},
     "output_type": "execute_result"
    }
   ],
   "source": [
    "m=iris1df['sepal_length'].mean()\n",
    "m"
   ]
  },
  {
   "cell_type": "code",
   "execution_count": 30,
   "id": "3d6c08aa",
   "metadata": {
    "execution": {
     "iopub.execute_input": "2023-02-11T14:42:19.335246Z",
     "iopub.status.busy": "2023-02-11T14:42:19.334823Z",
     "iopub.status.idle": "2023-02-11T14:42:19.341017Z",
     "shell.execute_reply": "2023-02-11T14:42:19.339852Z"
    },
    "papermill": {
     "duration": 0.033358,
     "end_time": "2023-02-11T14:42:19.343372",
     "exception": false,
     "start_time": "2023-02-11T14:42:19.310014",
     "status": "completed"
    },
    "tags": []
   },
   "outputs": [],
   "source": [
    "iris1df['sepal_length'].fillna(value=iris1df['sepal_length'].mean(),inplace=True)"
   ]
  },
  {
   "cell_type": "code",
   "execution_count": 31,
   "id": "cb4a4a0e",
   "metadata": {
    "execution": {
     "iopub.execute_input": "2023-02-11T14:42:19.393289Z",
     "iopub.status.busy": "2023-02-11T14:42:19.392877Z",
     "iopub.status.idle": "2023-02-11T14:42:19.414700Z",
     "shell.execute_reply": "2023-02-11T14:42:19.413512Z"
    },
    "papermill": {
     "duration": 0.050376,
     "end_time": "2023-02-11T14:42:19.417064",
     "exception": false,
     "start_time": "2023-02-11T14:42:19.366688",
     "status": "completed"
    },
    "tags": []
   },
   "outputs": [
    {
     "data": {
      "text/html": [
       "<div>\n",
       "<style scoped>\n",
       "    .dataframe tbody tr th:only-of-type {\n",
       "        vertical-align: middle;\n",
       "    }\n",
       "\n",
       "    .dataframe tbody tr th {\n",
       "        vertical-align: top;\n",
       "    }\n",
       "\n",
       "    .dataframe thead th {\n",
       "        text-align: right;\n",
       "    }\n",
       "</style>\n",
       "<table border=\"1\" class=\"dataframe\">\n",
       "  <thead>\n",
       "    <tr style=\"text-align: right;\">\n",
       "      <th></th>\n",
       "      <th>sepal_length</th>\n",
       "      <th>sepal_width</th>\n",
       "      <th>petal_length</th>\n",
       "      <th>petal_width</th>\n",
       "      <th>species</th>\n",
       "    </tr>\n",
       "  </thead>\n",
       "  <tbody>\n",
       "    <tr>\n",
       "      <th>0</th>\n",
       "      <td>5.10000</td>\n",
       "      <td>3.5</td>\n",
       "      <td>1.4</td>\n",
       "      <td>0.2</td>\n",
       "      <td>Iris-setosa</td>\n",
       "    </tr>\n",
       "    <tr>\n",
       "      <th>1</th>\n",
       "      <td>4.90000</td>\n",
       "      <td>3.0</td>\n",
       "      <td>NaN</td>\n",
       "      <td>0.2</td>\n",
       "      <td>Iris-setosa</td>\n",
       "    </tr>\n",
       "    <tr>\n",
       "      <th>2</th>\n",
       "      <td>4.70000</td>\n",
       "      <td>3.2</td>\n",
       "      <td>1.3</td>\n",
       "      <td>0.2</td>\n",
       "      <td>Iris-setosa</td>\n",
       "    </tr>\n",
       "    <tr>\n",
       "      <th>3</th>\n",
       "      <td>4.60000</td>\n",
       "      <td>3.1</td>\n",
       "      <td>1.5</td>\n",
       "      <td>0.2</td>\n",
       "      <td>NaN</td>\n",
       "    </tr>\n",
       "    <tr>\n",
       "      <th>4</th>\n",
       "      <td>5.00000</td>\n",
       "      <td>3.6</td>\n",
       "      <td>1.4</td>\n",
       "      <td>0.2</td>\n",
       "      <td>Iris-setosa</td>\n",
       "    </tr>\n",
       "    <tr>\n",
       "      <th>5</th>\n",
       "      <td>5.40000</td>\n",
       "      <td>3.9</td>\n",
       "      <td>1.7</td>\n",
       "      <td>0.4</td>\n",
       "      <td>Iris-setosa</td>\n",
       "    </tr>\n",
       "    <tr>\n",
       "      <th>6</th>\n",
       "      <td>4.60000</td>\n",
       "      <td>3.4</td>\n",
       "      <td>1.4</td>\n",
       "      <td>0.3</td>\n",
       "      <td>Iris-setosa</td>\n",
       "    </tr>\n",
       "    <tr>\n",
       "      <th>7</th>\n",
       "      <td>5.00000</td>\n",
       "      <td>3.4</td>\n",
       "      <td>1.5</td>\n",
       "      <td>NaN</td>\n",
       "      <td>Iris-setosa</td>\n",
       "    </tr>\n",
       "    <tr>\n",
       "      <th>8</th>\n",
       "      <td>4.40000</td>\n",
       "      <td>2.9</td>\n",
       "      <td>1.4</td>\n",
       "      <td>0.2</td>\n",
       "      <td>Iris-setosa</td>\n",
       "    </tr>\n",
       "    <tr>\n",
       "      <th>9</th>\n",
       "      <td>4.90000</td>\n",
       "      <td>3.1</td>\n",
       "      <td>NaN</td>\n",
       "      <td>0.1</td>\n",
       "      <td>Iris-setosa</td>\n",
       "    </tr>\n",
       "    <tr>\n",
       "      <th>10</th>\n",
       "      <td>5.40000</td>\n",
       "      <td>3.7</td>\n",
       "      <td>1.5</td>\n",
       "      <td>0.2</td>\n",
       "      <td>Iris-setosa</td>\n",
       "    </tr>\n",
       "    <tr>\n",
       "      <th>11</th>\n",
       "      <td>4.80000</td>\n",
       "      <td>3.4</td>\n",
       "      <td>1.6</td>\n",
       "      <td>0.2</td>\n",
       "      <td>Iris-setosa</td>\n",
       "    </tr>\n",
       "    <tr>\n",
       "      <th>12</th>\n",
       "      <td>4.80000</td>\n",
       "      <td>NaN</td>\n",
       "      <td>1.4</td>\n",
       "      <td>0.1</td>\n",
       "      <td>Iris-setosa</td>\n",
       "    </tr>\n",
       "    <tr>\n",
       "      <th>13</th>\n",
       "      <td>4.30000</td>\n",
       "      <td>3.0</td>\n",
       "      <td>1.1</td>\n",
       "      <td>0.1</td>\n",
       "      <td>Iris-setosa</td>\n",
       "    </tr>\n",
       "    <tr>\n",
       "      <th>14</th>\n",
       "      <td>5.80000</td>\n",
       "      <td>4.0</td>\n",
       "      <td>1.2</td>\n",
       "      <td>0.2</td>\n",
       "      <td>Iris-setosa</td>\n",
       "    </tr>\n",
       "    <tr>\n",
       "      <th>15</th>\n",
       "      <td>5.70000</td>\n",
       "      <td>4.4</td>\n",
       "      <td>1.5</td>\n",
       "      <td>0.4</td>\n",
       "      <td>Iris-setosa</td>\n",
       "    </tr>\n",
       "    <tr>\n",
       "      <th>16</th>\n",
       "      <td>5.84058</td>\n",
       "      <td>3.9</td>\n",
       "      <td>1.3</td>\n",
       "      <td>0.4</td>\n",
       "      <td>Iris-setosa</td>\n",
       "    </tr>\n",
       "    <tr>\n",
       "      <th>17</th>\n",
       "      <td>5.10000</td>\n",
       "      <td>3.5</td>\n",
       "      <td>1.4</td>\n",
       "      <td>0.3</td>\n",
       "      <td>Iris-setosa</td>\n",
       "    </tr>\n",
       "    <tr>\n",
       "      <th>18</th>\n",
       "      <td>5.70000</td>\n",
       "      <td>3.8</td>\n",
       "      <td>1.7</td>\n",
       "      <td>0.3</td>\n",
       "      <td>Iris-setosa</td>\n",
       "    </tr>\n",
       "    <tr>\n",
       "      <th>19</th>\n",
       "      <td>5.10000</td>\n",
       "      <td>3.8</td>\n",
       "      <td>1.5</td>\n",
       "      <td>0.3</td>\n",
       "      <td>Iris-setosa</td>\n",
       "    </tr>\n",
       "    <tr>\n",
       "      <th>20</th>\n",
       "      <td>5.40000</td>\n",
       "      <td>3.4</td>\n",
       "      <td>1.7</td>\n",
       "      <td>0.2</td>\n",
       "      <td>Iris-setosa</td>\n",
       "    </tr>\n",
       "    <tr>\n",
       "      <th>21</th>\n",
       "      <td>5.10000</td>\n",
       "      <td>3.7</td>\n",
       "      <td>1.5</td>\n",
       "      <td>0.4</td>\n",
       "      <td>Iris-setosa</td>\n",
       "    </tr>\n",
       "    <tr>\n",
       "      <th>22</th>\n",
       "      <td>4.60000</td>\n",
       "      <td>3.6</td>\n",
       "      <td>1.0</td>\n",
       "      <td>0.2</td>\n",
       "      <td>NaN</td>\n",
       "    </tr>\n",
       "    <tr>\n",
       "      <th>23</th>\n",
       "      <td>5.10000</td>\n",
       "      <td>3.3</td>\n",
       "      <td>1.7</td>\n",
       "      <td>0.5</td>\n",
       "      <td>NaN</td>\n",
       "    </tr>\n",
       "    <tr>\n",
       "      <th>24</th>\n",
       "      <td>4.80000</td>\n",
       "      <td>3.4</td>\n",
       "      <td>1.9</td>\n",
       "      <td>0.2</td>\n",
       "      <td>Iris-setosa</td>\n",
       "    </tr>\n",
       "    <tr>\n",
       "      <th>25</th>\n",
       "      <td>5.00000</td>\n",
       "      <td>3.0</td>\n",
       "      <td>1.6</td>\n",
       "      <td>0.2</td>\n",
       "      <td>Iris-setosa</td>\n",
       "    </tr>\n",
       "    <tr>\n",
       "      <th>26</th>\n",
       "      <td>5.00000</td>\n",
       "      <td>3.4</td>\n",
       "      <td>NaN</td>\n",
       "      <td>0.4</td>\n",
       "      <td>Iris-setosa</td>\n",
       "    </tr>\n",
       "    <tr>\n",
       "      <th>27</th>\n",
       "      <td>5.20000</td>\n",
       "      <td>3.5</td>\n",
       "      <td>1.5</td>\n",
       "      <td>0.2</td>\n",
       "      <td>Iris-setosa</td>\n",
       "    </tr>\n",
       "    <tr>\n",
       "      <th>28</th>\n",
       "      <td>5.84058</td>\n",
       "      <td>3.4</td>\n",
       "      <td>1.4</td>\n",
       "      <td>0.2</td>\n",
       "      <td>Iris-setosa</td>\n",
       "    </tr>\n",
       "    <tr>\n",
       "      <th>29</th>\n",
       "      <td>4.70000</td>\n",
       "      <td>3.2</td>\n",
       "      <td>1.6</td>\n",
       "      <td>0.2</td>\n",
       "      <td>Iris-setosa</td>\n",
       "    </tr>\n",
       "  </tbody>\n",
       "</table>\n",
       "</div>"
      ],
      "text/plain": [
       "    sepal_length  sepal_width  petal_length  petal_width      species\n",
       "0        5.10000          3.5           1.4          0.2  Iris-setosa\n",
       "1        4.90000          3.0           NaN          0.2  Iris-setosa\n",
       "2        4.70000          3.2           1.3          0.2  Iris-setosa\n",
       "3        4.60000          3.1           1.5          0.2          NaN\n",
       "4        5.00000          3.6           1.4          0.2  Iris-setosa\n",
       "5        5.40000          3.9           1.7          0.4  Iris-setosa\n",
       "6        4.60000          3.4           1.4          0.3  Iris-setosa\n",
       "7        5.00000          3.4           1.5          NaN  Iris-setosa\n",
       "8        4.40000          2.9           1.4          0.2  Iris-setosa\n",
       "9        4.90000          3.1           NaN          0.1  Iris-setosa\n",
       "10       5.40000          3.7           1.5          0.2  Iris-setosa\n",
       "11       4.80000          3.4           1.6          0.2  Iris-setosa\n",
       "12       4.80000          NaN           1.4          0.1  Iris-setosa\n",
       "13       4.30000          3.0           1.1          0.1  Iris-setosa\n",
       "14       5.80000          4.0           1.2          0.2  Iris-setosa\n",
       "15       5.70000          4.4           1.5          0.4  Iris-setosa\n",
       "16       5.84058          3.9           1.3          0.4  Iris-setosa\n",
       "17       5.10000          3.5           1.4          0.3  Iris-setosa\n",
       "18       5.70000          3.8           1.7          0.3  Iris-setosa\n",
       "19       5.10000          3.8           1.5          0.3  Iris-setosa\n",
       "20       5.40000          3.4           1.7          0.2  Iris-setosa\n",
       "21       5.10000          3.7           1.5          0.4  Iris-setosa\n",
       "22       4.60000          3.6           1.0          0.2          NaN\n",
       "23       5.10000          3.3           1.7          0.5          NaN\n",
       "24       4.80000          3.4           1.9          0.2  Iris-setosa\n",
       "25       5.00000          3.0           1.6          0.2  Iris-setosa\n",
       "26       5.00000          3.4           NaN          0.4  Iris-setosa\n",
       "27       5.20000          3.5           1.5          0.2  Iris-setosa\n",
       "28       5.84058          3.4           1.4          0.2  Iris-setosa\n",
       "29       4.70000          3.2           1.6          0.2  Iris-setosa"
      ]
     },
     "execution_count": 31,
     "metadata": {},
     "output_type": "execute_result"
    }
   ],
   "source": [
    "iris1df.head(30)"
   ]
  },
  {
   "cell_type": "markdown",
   "id": "8dce11f7",
   "metadata": {
    "papermill": {
     "duration": 0.023721,
     "end_time": "2023-02-11T14:42:19.464671",
     "exception": false,
     "start_time": "2023-02-11T14:42:19.440950",
     "status": "completed"
    },
    "tags": []
   },
   "source": [
    "## Sepal width --- Mode"
   ]
  },
  {
   "cell_type": "code",
   "execution_count": 32,
   "id": "ac15ba5a",
   "metadata": {
    "execution": {
     "iopub.execute_input": "2023-02-11T14:42:19.515156Z",
     "iopub.status.busy": "2023-02-11T14:42:19.514734Z",
     "iopub.status.idle": "2023-02-11T14:42:19.525175Z",
     "shell.execute_reply": "2023-02-11T14:42:19.523979Z"
    },
    "papermill": {
     "duration": 0.038757,
     "end_time": "2023-02-11T14:42:19.527591",
     "exception": false,
     "start_time": "2023-02-11T14:42:19.488834",
     "status": "completed"
    },
    "tags": []
   },
   "outputs": [
    {
     "data": {
      "text/plain": [
       "0    3.0\n",
       "dtype: float64"
      ]
     },
     "execution_count": 32,
     "metadata": {},
     "output_type": "execute_result"
    }
   ],
   "source": [
    "mo=iris1df['sepal_width'].mode()\n",
    "mo"
   ]
  },
  {
   "cell_type": "code",
   "execution_count": 33,
   "id": "2b2a9deb",
   "metadata": {
    "execution": {
     "iopub.execute_input": "2023-02-11T14:42:19.577286Z",
     "iopub.status.busy": "2023-02-11T14:42:19.576859Z",
     "iopub.status.idle": "2023-02-11T14:42:19.583424Z",
     "shell.execute_reply": "2023-02-11T14:42:19.582279Z"
    },
    "papermill": {
     "duration": 0.034143,
     "end_time": "2023-02-11T14:42:19.585796",
     "exception": false,
     "start_time": "2023-02-11T14:42:19.551653",
     "status": "completed"
    },
    "tags": []
   },
   "outputs": [],
   "source": [
    "iris1df['sepal_width'].fillna(value=iris1df['sepal_width'].mode().values[0],inplace=True)"
   ]
  },
  {
   "cell_type": "code",
   "execution_count": 34,
   "id": "af287c7a",
   "metadata": {
    "execution": {
     "iopub.execute_input": "2023-02-11T14:42:19.635617Z",
     "iopub.status.busy": "2023-02-11T14:42:19.635135Z",
     "iopub.status.idle": "2023-02-11T14:42:19.657803Z",
     "shell.execute_reply": "2023-02-11T14:42:19.656838Z"
    },
    "papermill": {
     "duration": 0.050026,
     "end_time": "2023-02-11T14:42:19.660051",
     "exception": false,
     "start_time": "2023-02-11T14:42:19.610025",
     "status": "completed"
    },
    "tags": []
   },
   "outputs": [
    {
     "data": {
      "text/html": [
       "<div>\n",
       "<style scoped>\n",
       "    .dataframe tbody tr th:only-of-type {\n",
       "        vertical-align: middle;\n",
       "    }\n",
       "\n",
       "    .dataframe tbody tr th {\n",
       "        vertical-align: top;\n",
       "    }\n",
       "\n",
       "    .dataframe thead th {\n",
       "        text-align: right;\n",
       "    }\n",
       "</style>\n",
       "<table border=\"1\" class=\"dataframe\">\n",
       "  <thead>\n",
       "    <tr style=\"text-align: right;\">\n",
       "      <th></th>\n",
       "      <th>sepal_length</th>\n",
       "      <th>sepal_width</th>\n",
       "      <th>petal_length</th>\n",
       "      <th>petal_width</th>\n",
       "      <th>species</th>\n",
       "    </tr>\n",
       "  </thead>\n",
       "  <tbody>\n",
       "    <tr>\n",
       "      <th>0</th>\n",
       "      <td>5.10000</td>\n",
       "      <td>3.5</td>\n",
       "      <td>1.4</td>\n",
       "      <td>0.2</td>\n",
       "      <td>Iris-setosa</td>\n",
       "    </tr>\n",
       "    <tr>\n",
       "      <th>1</th>\n",
       "      <td>4.90000</td>\n",
       "      <td>3.0</td>\n",
       "      <td>NaN</td>\n",
       "      <td>0.2</td>\n",
       "      <td>Iris-setosa</td>\n",
       "    </tr>\n",
       "    <tr>\n",
       "      <th>2</th>\n",
       "      <td>4.70000</td>\n",
       "      <td>3.2</td>\n",
       "      <td>1.3</td>\n",
       "      <td>0.2</td>\n",
       "      <td>Iris-setosa</td>\n",
       "    </tr>\n",
       "    <tr>\n",
       "      <th>3</th>\n",
       "      <td>4.60000</td>\n",
       "      <td>3.1</td>\n",
       "      <td>1.5</td>\n",
       "      <td>0.2</td>\n",
       "      <td>NaN</td>\n",
       "    </tr>\n",
       "    <tr>\n",
       "      <th>4</th>\n",
       "      <td>5.00000</td>\n",
       "      <td>3.6</td>\n",
       "      <td>1.4</td>\n",
       "      <td>0.2</td>\n",
       "      <td>Iris-setosa</td>\n",
       "    </tr>\n",
       "    <tr>\n",
       "      <th>5</th>\n",
       "      <td>5.40000</td>\n",
       "      <td>3.9</td>\n",
       "      <td>1.7</td>\n",
       "      <td>0.4</td>\n",
       "      <td>Iris-setosa</td>\n",
       "    </tr>\n",
       "    <tr>\n",
       "      <th>6</th>\n",
       "      <td>4.60000</td>\n",
       "      <td>3.4</td>\n",
       "      <td>1.4</td>\n",
       "      <td>0.3</td>\n",
       "      <td>Iris-setosa</td>\n",
       "    </tr>\n",
       "    <tr>\n",
       "      <th>7</th>\n",
       "      <td>5.00000</td>\n",
       "      <td>3.4</td>\n",
       "      <td>1.5</td>\n",
       "      <td>NaN</td>\n",
       "      <td>Iris-setosa</td>\n",
       "    </tr>\n",
       "    <tr>\n",
       "      <th>8</th>\n",
       "      <td>4.40000</td>\n",
       "      <td>2.9</td>\n",
       "      <td>1.4</td>\n",
       "      <td>0.2</td>\n",
       "      <td>Iris-setosa</td>\n",
       "    </tr>\n",
       "    <tr>\n",
       "      <th>9</th>\n",
       "      <td>4.90000</td>\n",
       "      <td>3.1</td>\n",
       "      <td>NaN</td>\n",
       "      <td>0.1</td>\n",
       "      <td>Iris-setosa</td>\n",
       "    </tr>\n",
       "    <tr>\n",
       "      <th>10</th>\n",
       "      <td>5.40000</td>\n",
       "      <td>3.7</td>\n",
       "      <td>1.5</td>\n",
       "      <td>0.2</td>\n",
       "      <td>Iris-setosa</td>\n",
       "    </tr>\n",
       "    <tr>\n",
       "      <th>11</th>\n",
       "      <td>4.80000</td>\n",
       "      <td>3.4</td>\n",
       "      <td>1.6</td>\n",
       "      <td>0.2</td>\n",
       "      <td>Iris-setosa</td>\n",
       "    </tr>\n",
       "    <tr>\n",
       "      <th>12</th>\n",
       "      <td>4.80000</td>\n",
       "      <td>3.0</td>\n",
       "      <td>1.4</td>\n",
       "      <td>0.1</td>\n",
       "      <td>Iris-setosa</td>\n",
       "    </tr>\n",
       "    <tr>\n",
       "      <th>13</th>\n",
       "      <td>4.30000</td>\n",
       "      <td>3.0</td>\n",
       "      <td>1.1</td>\n",
       "      <td>0.1</td>\n",
       "      <td>Iris-setosa</td>\n",
       "    </tr>\n",
       "    <tr>\n",
       "      <th>14</th>\n",
       "      <td>5.80000</td>\n",
       "      <td>4.0</td>\n",
       "      <td>1.2</td>\n",
       "      <td>0.2</td>\n",
       "      <td>Iris-setosa</td>\n",
       "    </tr>\n",
       "    <tr>\n",
       "      <th>15</th>\n",
       "      <td>5.70000</td>\n",
       "      <td>4.4</td>\n",
       "      <td>1.5</td>\n",
       "      <td>0.4</td>\n",
       "      <td>Iris-setosa</td>\n",
       "    </tr>\n",
       "    <tr>\n",
       "      <th>16</th>\n",
       "      <td>5.84058</td>\n",
       "      <td>3.9</td>\n",
       "      <td>1.3</td>\n",
       "      <td>0.4</td>\n",
       "      <td>Iris-setosa</td>\n",
       "    </tr>\n",
       "    <tr>\n",
       "      <th>17</th>\n",
       "      <td>5.10000</td>\n",
       "      <td>3.5</td>\n",
       "      <td>1.4</td>\n",
       "      <td>0.3</td>\n",
       "      <td>Iris-setosa</td>\n",
       "    </tr>\n",
       "    <tr>\n",
       "      <th>18</th>\n",
       "      <td>5.70000</td>\n",
       "      <td>3.8</td>\n",
       "      <td>1.7</td>\n",
       "      <td>0.3</td>\n",
       "      <td>Iris-setosa</td>\n",
       "    </tr>\n",
       "    <tr>\n",
       "      <th>19</th>\n",
       "      <td>5.10000</td>\n",
       "      <td>3.8</td>\n",
       "      <td>1.5</td>\n",
       "      <td>0.3</td>\n",
       "      <td>Iris-setosa</td>\n",
       "    </tr>\n",
       "    <tr>\n",
       "      <th>20</th>\n",
       "      <td>5.40000</td>\n",
       "      <td>3.4</td>\n",
       "      <td>1.7</td>\n",
       "      <td>0.2</td>\n",
       "      <td>Iris-setosa</td>\n",
       "    </tr>\n",
       "    <tr>\n",
       "      <th>21</th>\n",
       "      <td>5.10000</td>\n",
       "      <td>3.7</td>\n",
       "      <td>1.5</td>\n",
       "      <td>0.4</td>\n",
       "      <td>Iris-setosa</td>\n",
       "    </tr>\n",
       "    <tr>\n",
       "      <th>22</th>\n",
       "      <td>4.60000</td>\n",
       "      <td>3.6</td>\n",
       "      <td>1.0</td>\n",
       "      <td>0.2</td>\n",
       "      <td>NaN</td>\n",
       "    </tr>\n",
       "    <tr>\n",
       "      <th>23</th>\n",
       "      <td>5.10000</td>\n",
       "      <td>3.3</td>\n",
       "      <td>1.7</td>\n",
       "      <td>0.5</td>\n",
       "      <td>NaN</td>\n",
       "    </tr>\n",
       "    <tr>\n",
       "      <th>24</th>\n",
       "      <td>4.80000</td>\n",
       "      <td>3.4</td>\n",
       "      <td>1.9</td>\n",
       "      <td>0.2</td>\n",
       "      <td>Iris-setosa</td>\n",
       "    </tr>\n",
       "    <tr>\n",
       "      <th>25</th>\n",
       "      <td>5.00000</td>\n",
       "      <td>3.0</td>\n",
       "      <td>1.6</td>\n",
       "      <td>0.2</td>\n",
       "      <td>Iris-setosa</td>\n",
       "    </tr>\n",
       "    <tr>\n",
       "      <th>26</th>\n",
       "      <td>5.00000</td>\n",
       "      <td>3.4</td>\n",
       "      <td>NaN</td>\n",
       "      <td>0.4</td>\n",
       "      <td>Iris-setosa</td>\n",
       "    </tr>\n",
       "    <tr>\n",
       "      <th>27</th>\n",
       "      <td>5.20000</td>\n",
       "      <td>3.5</td>\n",
       "      <td>1.5</td>\n",
       "      <td>0.2</td>\n",
       "      <td>Iris-setosa</td>\n",
       "    </tr>\n",
       "    <tr>\n",
       "      <th>28</th>\n",
       "      <td>5.84058</td>\n",
       "      <td>3.4</td>\n",
       "      <td>1.4</td>\n",
       "      <td>0.2</td>\n",
       "      <td>Iris-setosa</td>\n",
       "    </tr>\n",
       "    <tr>\n",
       "      <th>29</th>\n",
       "      <td>4.70000</td>\n",
       "      <td>3.2</td>\n",
       "      <td>1.6</td>\n",
       "      <td>0.2</td>\n",
       "      <td>Iris-setosa</td>\n",
       "    </tr>\n",
       "  </tbody>\n",
       "</table>\n",
       "</div>"
      ],
      "text/plain": [
       "    sepal_length  sepal_width  petal_length  petal_width      species\n",
       "0        5.10000          3.5           1.4          0.2  Iris-setosa\n",
       "1        4.90000          3.0           NaN          0.2  Iris-setosa\n",
       "2        4.70000          3.2           1.3          0.2  Iris-setosa\n",
       "3        4.60000          3.1           1.5          0.2          NaN\n",
       "4        5.00000          3.6           1.4          0.2  Iris-setosa\n",
       "5        5.40000          3.9           1.7          0.4  Iris-setosa\n",
       "6        4.60000          3.4           1.4          0.3  Iris-setosa\n",
       "7        5.00000          3.4           1.5          NaN  Iris-setosa\n",
       "8        4.40000          2.9           1.4          0.2  Iris-setosa\n",
       "9        4.90000          3.1           NaN          0.1  Iris-setosa\n",
       "10       5.40000          3.7           1.5          0.2  Iris-setosa\n",
       "11       4.80000          3.4           1.6          0.2  Iris-setosa\n",
       "12       4.80000          3.0           1.4          0.1  Iris-setosa\n",
       "13       4.30000          3.0           1.1          0.1  Iris-setosa\n",
       "14       5.80000          4.0           1.2          0.2  Iris-setosa\n",
       "15       5.70000          4.4           1.5          0.4  Iris-setosa\n",
       "16       5.84058          3.9           1.3          0.4  Iris-setosa\n",
       "17       5.10000          3.5           1.4          0.3  Iris-setosa\n",
       "18       5.70000          3.8           1.7          0.3  Iris-setosa\n",
       "19       5.10000          3.8           1.5          0.3  Iris-setosa\n",
       "20       5.40000          3.4           1.7          0.2  Iris-setosa\n",
       "21       5.10000          3.7           1.5          0.4  Iris-setosa\n",
       "22       4.60000          3.6           1.0          0.2          NaN\n",
       "23       5.10000          3.3           1.7          0.5          NaN\n",
       "24       4.80000          3.4           1.9          0.2  Iris-setosa\n",
       "25       5.00000          3.0           1.6          0.2  Iris-setosa\n",
       "26       5.00000          3.4           NaN          0.4  Iris-setosa\n",
       "27       5.20000          3.5           1.5          0.2  Iris-setosa\n",
       "28       5.84058          3.4           1.4          0.2  Iris-setosa\n",
       "29       4.70000          3.2           1.6          0.2  Iris-setosa"
      ]
     },
     "execution_count": 34,
     "metadata": {},
     "output_type": "execute_result"
    }
   ],
   "source": [
    "iris1df.head(30)"
   ]
  },
  {
   "cell_type": "markdown",
   "id": "412522ee",
   "metadata": {
    "papermill": {
     "duration": 0.023899,
     "end_time": "2023-02-11T14:42:19.708402",
     "exception": false,
     "start_time": "2023-02-11T14:42:19.684503",
     "status": "completed"
    },
    "tags": []
   },
   "source": [
    "## Petal length -- Median"
   ]
  },
  {
   "cell_type": "code",
   "execution_count": 35,
   "id": "23abf07e",
   "metadata": {
    "execution": {
     "iopub.execute_input": "2023-02-11T14:42:19.758981Z",
     "iopub.status.busy": "2023-02-11T14:42:19.758582Z",
     "iopub.status.idle": "2023-02-11T14:42:19.766324Z",
     "shell.execute_reply": "2023-02-11T14:42:19.765277Z"
    },
    "papermill": {
     "duration": 0.0355,
     "end_time": "2023-02-11T14:42:19.768485",
     "exception": false,
     "start_time": "2023-02-11T14:42:19.732985",
     "status": "completed"
    },
    "tags": []
   },
   "outputs": [
    {
     "data": {
      "text/plain": [
       "4.2"
      ]
     },
     "execution_count": 35,
     "metadata": {},
     "output_type": "execute_result"
    }
   ],
   "source": [
    "med=iris1df['petal_length'].median()\n",
    "med"
   ]
  },
  {
   "cell_type": "code",
   "execution_count": 36,
   "id": "30753543",
   "metadata": {
    "execution": {
     "iopub.execute_input": "2023-02-11T14:42:19.820475Z",
     "iopub.status.busy": "2023-02-11T14:42:19.819990Z",
     "iopub.status.idle": "2023-02-11T14:42:19.826647Z",
     "shell.execute_reply": "2023-02-11T14:42:19.825772Z"
    },
    "papermill": {
     "duration": 0.035862,
     "end_time": "2023-02-11T14:42:19.829003",
     "exception": false,
     "start_time": "2023-02-11T14:42:19.793141",
     "status": "completed"
    },
    "tags": []
   },
   "outputs": [],
   "source": [
    "iris1df['petal_length'].fillna(value=iris1df['petal_length'].median(),inplace=True)"
   ]
  },
  {
   "cell_type": "code",
   "execution_count": 37,
   "id": "0817d2bf",
   "metadata": {
    "execution": {
     "iopub.execute_input": "2023-02-11T14:42:19.880335Z",
     "iopub.status.busy": "2023-02-11T14:42:19.879150Z",
     "iopub.status.idle": "2023-02-11T14:42:19.900577Z",
     "shell.execute_reply": "2023-02-11T14:42:19.899379Z"
    },
    "papermill": {
     "duration": 0.049376,
     "end_time": "2023-02-11T14:42:19.903093",
     "exception": false,
     "start_time": "2023-02-11T14:42:19.853717",
     "status": "completed"
    },
    "tags": []
   },
   "outputs": [
    {
     "data": {
      "text/html": [
       "<div>\n",
       "<style scoped>\n",
       "    .dataframe tbody tr th:only-of-type {\n",
       "        vertical-align: middle;\n",
       "    }\n",
       "\n",
       "    .dataframe tbody tr th {\n",
       "        vertical-align: top;\n",
       "    }\n",
       "\n",
       "    .dataframe thead th {\n",
       "        text-align: right;\n",
       "    }\n",
       "</style>\n",
       "<table border=\"1\" class=\"dataframe\">\n",
       "  <thead>\n",
       "    <tr style=\"text-align: right;\">\n",
       "      <th></th>\n",
       "      <th>sepal_length</th>\n",
       "      <th>sepal_width</th>\n",
       "      <th>petal_length</th>\n",
       "      <th>petal_width</th>\n",
       "      <th>species</th>\n",
       "    </tr>\n",
       "  </thead>\n",
       "  <tbody>\n",
       "    <tr>\n",
       "      <th>0</th>\n",
       "      <td>5.10000</td>\n",
       "      <td>3.5</td>\n",
       "      <td>1.4</td>\n",
       "      <td>0.2</td>\n",
       "      <td>Iris-setosa</td>\n",
       "    </tr>\n",
       "    <tr>\n",
       "      <th>1</th>\n",
       "      <td>4.90000</td>\n",
       "      <td>3.0</td>\n",
       "      <td>4.2</td>\n",
       "      <td>0.2</td>\n",
       "      <td>Iris-setosa</td>\n",
       "    </tr>\n",
       "    <tr>\n",
       "      <th>2</th>\n",
       "      <td>4.70000</td>\n",
       "      <td>3.2</td>\n",
       "      <td>1.3</td>\n",
       "      <td>0.2</td>\n",
       "      <td>Iris-setosa</td>\n",
       "    </tr>\n",
       "    <tr>\n",
       "      <th>3</th>\n",
       "      <td>4.60000</td>\n",
       "      <td>3.1</td>\n",
       "      <td>1.5</td>\n",
       "      <td>0.2</td>\n",
       "      <td>NaN</td>\n",
       "    </tr>\n",
       "    <tr>\n",
       "      <th>4</th>\n",
       "      <td>5.00000</td>\n",
       "      <td>3.6</td>\n",
       "      <td>1.4</td>\n",
       "      <td>0.2</td>\n",
       "      <td>Iris-setosa</td>\n",
       "    </tr>\n",
       "    <tr>\n",
       "      <th>5</th>\n",
       "      <td>5.40000</td>\n",
       "      <td>3.9</td>\n",
       "      <td>1.7</td>\n",
       "      <td>0.4</td>\n",
       "      <td>Iris-setosa</td>\n",
       "    </tr>\n",
       "    <tr>\n",
       "      <th>6</th>\n",
       "      <td>4.60000</td>\n",
       "      <td>3.4</td>\n",
       "      <td>1.4</td>\n",
       "      <td>0.3</td>\n",
       "      <td>Iris-setosa</td>\n",
       "    </tr>\n",
       "    <tr>\n",
       "      <th>7</th>\n",
       "      <td>5.00000</td>\n",
       "      <td>3.4</td>\n",
       "      <td>1.5</td>\n",
       "      <td>NaN</td>\n",
       "      <td>Iris-setosa</td>\n",
       "    </tr>\n",
       "    <tr>\n",
       "      <th>8</th>\n",
       "      <td>4.40000</td>\n",
       "      <td>2.9</td>\n",
       "      <td>1.4</td>\n",
       "      <td>0.2</td>\n",
       "      <td>Iris-setosa</td>\n",
       "    </tr>\n",
       "    <tr>\n",
       "      <th>9</th>\n",
       "      <td>4.90000</td>\n",
       "      <td>3.1</td>\n",
       "      <td>4.2</td>\n",
       "      <td>0.1</td>\n",
       "      <td>Iris-setosa</td>\n",
       "    </tr>\n",
       "    <tr>\n",
       "      <th>10</th>\n",
       "      <td>5.40000</td>\n",
       "      <td>3.7</td>\n",
       "      <td>1.5</td>\n",
       "      <td>0.2</td>\n",
       "      <td>Iris-setosa</td>\n",
       "    </tr>\n",
       "    <tr>\n",
       "      <th>11</th>\n",
       "      <td>4.80000</td>\n",
       "      <td>3.4</td>\n",
       "      <td>1.6</td>\n",
       "      <td>0.2</td>\n",
       "      <td>Iris-setosa</td>\n",
       "    </tr>\n",
       "    <tr>\n",
       "      <th>12</th>\n",
       "      <td>4.80000</td>\n",
       "      <td>3.0</td>\n",
       "      <td>1.4</td>\n",
       "      <td>0.1</td>\n",
       "      <td>Iris-setosa</td>\n",
       "    </tr>\n",
       "    <tr>\n",
       "      <th>13</th>\n",
       "      <td>4.30000</td>\n",
       "      <td>3.0</td>\n",
       "      <td>1.1</td>\n",
       "      <td>0.1</td>\n",
       "      <td>Iris-setosa</td>\n",
       "    </tr>\n",
       "    <tr>\n",
       "      <th>14</th>\n",
       "      <td>5.80000</td>\n",
       "      <td>4.0</td>\n",
       "      <td>1.2</td>\n",
       "      <td>0.2</td>\n",
       "      <td>Iris-setosa</td>\n",
       "    </tr>\n",
       "    <tr>\n",
       "      <th>15</th>\n",
       "      <td>5.70000</td>\n",
       "      <td>4.4</td>\n",
       "      <td>1.5</td>\n",
       "      <td>0.4</td>\n",
       "      <td>Iris-setosa</td>\n",
       "    </tr>\n",
       "    <tr>\n",
       "      <th>16</th>\n",
       "      <td>5.84058</td>\n",
       "      <td>3.9</td>\n",
       "      <td>1.3</td>\n",
       "      <td>0.4</td>\n",
       "      <td>Iris-setosa</td>\n",
       "    </tr>\n",
       "    <tr>\n",
       "      <th>17</th>\n",
       "      <td>5.10000</td>\n",
       "      <td>3.5</td>\n",
       "      <td>1.4</td>\n",
       "      <td>0.3</td>\n",
       "      <td>Iris-setosa</td>\n",
       "    </tr>\n",
       "    <tr>\n",
       "      <th>18</th>\n",
       "      <td>5.70000</td>\n",
       "      <td>3.8</td>\n",
       "      <td>1.7</td>\n",
       "      <td>0.3</td>\n",
       "      <td>Iris-setosa</td>\n",
       "    </tr>\n",
       "    <tr>\n",
       "      <th>19</th>\n",
       "      <td>5.10000</td>\n",
       "      <td>3.8</td>\n",
       "      <td>1.5</td>\n",
       "      <td>0.3</td>\n",
       "      <td>Iris-setosa</td>\n",
       "    </tr>\n",
       "    <tr>\n",
       "      <th>20</th>\n",
       "      <td>5.40000</td>\n",
       "      <td>3.4</td>\n",
       "      <td>1.7</td>\n",
       "      <td>0.2</td>\n",
       "      <td>Iris-setosa</td>\n",
       "    </tr>\n",
       "    <tr>\n",
       "      <th>21</th>\n",
       "      <td>5.10000</td>\n",
       "      <td>3.7</td>\n",
       "      <td>1.5</td>\n",
       "      <td>0.4</td>\n",
       "      <td>Iris-setosa</td>\n",
       "    </tr>\n",
       "    <tr>\n",
       "      <th>22</th>\n",
       "      <td>4.60000</td>\n",
       "      <td>3.6</td>\n",
       "      <td>1.0</td>\n",
       "      <td>0.2</td>\n",
       "      <td>NaN</td>\n",
       "    </tr>\n",
       "    <tr>\n",
       "      <th>23</th>\n",
       "      <td>5.10000</td>\n",
       "      <td>3.3</td>\n",
       "      <td>1.7</td>\n",
       "      <td>0.5</td>\n",
       "      <td>NaN</td>\n",
       "    </tr>\n",
       "    <tr>\n",
       "      <th>24</th>\n",
       "      <td>4.80000</td>\n",
       "      <td>3.4</td>\n",
       "      <td>1.9</td>\n",
       "      <td>0.2</td>\n",
       "      <td>Iris-setosa</td>\n",
       "    </tr>\n",
       "    <tr>\n",
       "      <th>25</th>\n",
       "      <td>5.00000</td>\n",
       "      <td>3.0</td>\n",
       "      <td>1.6</td>\n",
       "      <td>0.2</td>\n",
       "      <td>Iris-setosa</td>\n",
       "    </tr>\n",
       "    <tr>\n",
       "      <th>26</th>\n",
       "      <td>5.00000</td>\n",
       "      <td>3.4</td>\n",
       "      <td>4.2</td>\n",
       "      <td>0.4</td>\n",
       "      <td>Iris-setosa</td>\n",
       "    </tr>\n",
       "    <tr>\n",
       "      <th>27</th>\n",
       "      <td>5.20000</td>\n",
       "      <td>3.5</td>\n",
       "      <td>1.5</td>\n",
       "      <td>0.2</td>\n",
       "      <td>Iris-setosa</td>\n",
       "    </tr>\n",
       "    <tr>\n",
       "      <th>28</th>\n",
       "      <td>5.84058</td>\n",
       "      <td>3.4</td>\n",
       "      <td>1.4</td>\n",
       "      <td>0.2</td>\n",
       "      <td>Iris-setosa</td>\n",
       "    </tr>\n",
       "    <tr>\n",
       "      <th>29</th>\n",
       "      <td>4.70000</td>\n",
       "      <td>3.2</td>\n",
       "      <td>1.6</td>\n",
       "      <td>0.2</td>\n",
       "      <td>Iris-setosa</td>\n",
       "    </tr>\n",
       "  </tbody>\n",
       "</table>\n",
       "</div>"
      ],
      "text/plain": [
       "    sepal_length  sepal_width  petal_length  petal_width      species\n",
       "0        5.10000          3.5           1.4          0.2  Iris-setosa\n",
       "1        4.90000          3.0           4.2          0.2  Iris-setosa\n",
       "2        4.70000          3.2           1.3          0.2  Iris-setosa\n",
       "3        4.60000          3.1           1.5          0.2          NaN\n",
       "4        5.00000          3.6           1.4          0.2  Iris-setosa\n",
       "5        5.40000          3.9           1.7          0.4  Iris-setosa\n",
       "6        4.60000          3.4           1.4          0.3  Iris-setosa\n",
       "7        5.00000          3.4           1.5          NaN  Iris-setosa\n",
       "8        4.40000          2.9           1.4          0.2  Iris-setosa\n",
       "9        4.90000          3.1           4.2          0.1  Iris-setosa\n",
       "10       5.40000          3.7           1.5          0.2  Iris-setosa\n",
       "11       4.80000          3.4           1.6          0.2  Iris-setosa\n",
       "12       4.80000          3.0           1.4          0.1  Iris-setosa\n",
       "13       4.30000          3.0           1.1          0.1  Iris-setosa\n",
       "14       5.80000          4.0           1.2          0.2  Iris-setosa\n",
       "15       5.70000          4.4           1.5          0.4  Iris-setosa\n",
       "16       5.84058          3.9           1.3          0.4  Iris-setosa\n",
       "17       5.10000          3.5           1.4          0.3  Iris-setosa\n",
       "18       5.70000          3.8           1.7          0.3  Iris-setosa\n",
       "19       5.10000          3.8           1.5          0.3  Iris-setosa\n",
       "20       5.40000          3.4           1.7          0.2  Iris-setosa\n",
       "21       5.10000          3.7           1.5          0.4  Iris-setosa\n",
       "22       4.60000          3.6           1.0          0.2          NaN\n",
       "23       5.10000          3.3           1.7          0.5          NaN\n",
       "24       4.80000          3.4           1.9          0.2  Iris-setosa\n",
       "25       5.00000          3.0           1.6          0.2  Iris-setosa\n",
       "26       5.00000          3.4           4.2          0.4  Iris-setosa\n",
       "27       5.20000          3.5           1.5          0.2  Iris-setosa\n",
       "28       5.84058          3.4           1.4          0.2  Iris-setosa\n",
       "29       4.70000          3.2           1.6          0.2  Iris-setosa"
      ]
     },
     "execution_count": 37,
     "metadata": {},
     "output_type": "execute_result"
    }
   ],
   "source": [
    "iris1df.head(30)"
   ]
  },
  {
   "cell_type": "markdown",
   "id": "baa063d8",
   "metadata": {
    "papermill": {
     "duration": 0.024736,
     "end_time": "2023-02-11T14:42:19.952952",
     "exception": false,
     "start_time": "2023-02-11T14:42:19.928216",
     "status": "completed"
    },
    "tags": []
   },
   "source": [
    "## PETAL WIDTH -- Place a value"
   ]
  },
  {
   "cell_type": "code",
   "execution_count": 38,
   "id": "03fcb9b0",
   "metadata": {
    "execution": {
     "iopub.execute_input": "2023-02-11T14:42:20.005182Z",
     "iopub.status.busy": "2023-02-11T14:42:20.004000Z",
     "iopub.status.idle": "2023-02-11T14:42:20.010266Z",
     "shell.execute_reply": "2023-02-11T14:42:20.009357Z"
    },
    "papermill": {
     "duration": 0.034992,
     "end_time": "2023-02-11T14:42:20.012766",
     "exception": false,
     "start_time": "2023-02-11T14:42:19.977774",
     "status": "completed"
    },
    "tags": []
   },
   "outputs": [],
   "source": [
    "iris1df['petal_width'].fillna(value=0.1,inplace=True)"
   ]
  },
  {
   "cell_type": "code",
   "execution_count": 39,
   "id": "f8a3a46f",
   "metadata": {
    "execution": {
     "iopub.execute_input": "2023-02-11T14:42:20.064594Z",
     "iopub.status.busy": "2023-02-11T14:42:20.064150Z",
     "iopub.status.idle": "2023-02-11T14:42:20.085889Z",
     "shell.execute_reply": "2023-02-11T14:42:20.084641Z"
    },
    "papermill": {
     "duration": 0.05036,
     "end_time": "2023-02-11T14:42:20.088122",
     "exception": false,
     "start_time": "2023-02-11T14:42:20.037762",
     "status": "completed"
    },
    "tags": []
   },
   "outputs": [
    {
     "data": {
      "text/html": [
       "<div>\n",
       "<style scoped>\n",
       "    .dataframe tbody tr th:only-of-type {\n",
       "        vertical-align: middle;\n",
       "    }\n",
       "\n",
       "    .dataframe tbody tr th {\n",
       "        vertical-align: top;\n",
       "    }\n",
       "\n",
       "    .dataframe thead th {\n",
       "        text-align: right;\n",
       "    }\n",
       "</style>\n",
       "<table border=\"1\" class=\"dataframe\">\n",
       "  <thead>\n",
       "    <tr style=\"text-align: right;\">\n",
       "      <th></th>\n",
       "      <th>sepal_length</th>\n",
       "      <th>sepal_width</th>\n",
       "      <th>petal_length</th>\n",
       "      <th>petal_width</th>\n",
       "      <th>species</th>\n",
       "    </tr>\n",
       "  </thead>\n",
       "  <tbody>\n",
       "    <tr>\n",
       "      <th>0</th>\n",
       "      <td>5.10000</td>\n",
       "      <td>3.5</td>\n",
       "      <td>1.4</td>\n",
       "      <td>0.2</td>\n",
       "      <td>Iris-setosa</td>\n",
       "    </tr>\n",
       "    <tr>\n",
       "      <th>1</th>\n",
       "      <td>4.90000</td>\n",
       "      <td>3.0</td>\n",
       "      <td>4.2</td>\n",
       "      <td>0.2</td>\n",
       "      <td>Iris-setosa</td>\n",
       "    </tr>\n",
       "    <tr>\n",
       "      <th>2</th>\n",
       "      <td>4.70000</td>\n",
       "      <td>3.2</td>\n",
       "      <td>1.3</td>\n",
       "      <td>0.2</td>\n",
       "      <td>Iris-setosa</td>\n",
       "    </tr>\n",
       "    <tr>\n",
       "      <th>3</th>\n",
       "      <td>4.60000</td>\n",
       "      <td>3.1</td>\n",
       "      <td>1.5</td>\n",
       "      <td>0.2</td>\n",
       "      <td>NaN</td>\n",
       "    </tr>\n",
       "    <tr>\n",
       "      <th>4</th>\n",
       "      <td>5.00000</td>\n",
       "      <td>3.6</td>\n",
       "      <td>1.4</td>\n",
       "      <td>0.2</td>\n",
       "      <td>Iris-setosa</td>\n",
       "    </tr>\n",
       "    <tr>\n",
       "      <th>5</th>\n",
       "      <td>5.40000</td>\n",
       "      <td>3.9</td>\n",
       "      <td>1.7</td>\n",
       "      <td>0.4</td>\n",
       "      <td>Iris-setosa</td>\n",
       "    </tr>\n",
       "    <tr>\n",
       "      <th>6</th>\n",
       "      <td>4.60000</td>\n",
       "      <td>3.4</td>\n",
       "      <td>1.4</td>\n",
       "      <td>0.3</td>\n",
       "      <td>Iris-setosa</td>\n",
       "    </tr>\n",
       "    <tr>\n",
       "      <th>7</th>\n",
       "      <td>5.00000</td>\n",
       "      <td>3.4</td>\n",
       "      <td>1.5</td>\n",
       "      <td>0.1</td>\n",
       "      <td>Iris-setosa</td>\n",
       "    </tr>\n",
       "    <tr>\n",
       "      <th>8</th>\n",
       "      <td>4.40000</td>\n",
       "      <td>2.9</td>\n",
       "      <td>1.4</td>\n",
       "      <td>0.2</td>\n",
       "      <td>Iris-setosa</td>\n",
       "    </tr>\n",
       "    <tr>\n",
       "      <th>9</th>\n",
       "      <td>4.90000</td>\n",
       "      <td>3.1</td>\n",
       "      <td>4.2</td>\n",
       "      <td>0.1</td>\n",
       "      <td>Iris-setosa</td>\n",
       "    </tr>\n",
       "    <tr>\n",
       "      <th>10</th>\n",
       "      <td>5.40000</td>\n",
       "      <td>3.7</td>\n",
       "      <td>1.5</td>\n",
       "      <td>0.2</td>\n",
       "      <td>Iris-setosa</td>\n",
       "    </tr>\n",
       "    <tr>\n",
       "      <th>11</th>\n",
       "      <td>4.80000</td>\n",
       "      <td>3.4</td>\n",
       "      <td>1.6</td>\n",
       "      <td>0.2</td>\n",
       "      <td>Iris-setosa</td>\n",
       "    </tr>\n",
       "    <tr>\n",
       "      <th>12</th>\n",
       "      <td>4.80000</td>\n",
       "      <td>3.0</td>\n",
       "      <td>1.4</td>\n",
       "      <td>0.1</td>\n",
       "      <td>Iris-setosa</td>\n",
       "    </tr>\n",
       "    <tr>\n",
       "      <th>13</th>\n",
       "      <td>4.30000</td>\n",
       "      <td>3.0</td>\n",
       "      <td>1.1</td>\n",
       "      <td>0.1</td>\n",
       "      <td>Iris-setosa</td>\n",
       "    </tr>\n",
       "    <tr>\n",
       "      <th>14</th>\n",
       "      <td>5.80000</td>\n",
       "      <td>4.0</td>\n",
       "      <td>1.2</td>\n",
       "      <td>0.2</td>\n",
       "      <td>Iris-setosa</td>\n",
       "    </tr>\n",
       "    <tr>\n",
       "      <th>15</th>\n",
       "      <td>5.70000</td>\n",
       "      <td>4.4</td>\n",
       "      <td>1.5</td>\n",
       "      <td>0.4</td>\n",
       "      <td>Iris-setosa</td>\n",
       "    </tr>\n",
       "    <tr>\n",
       "      <th>16</th>\n",
       "      <td>5.84058</td>\n",
       "      <td>3.9</td>\n",
       "      <td>1.3</td>\n",
       "      <td>0.4</td>\n",
       "      <td>Iris-setosa</td>\n",
       "    </tr>\n",
       "    <tr>\n",
       "      <th>17</th>\n",
       "      <td>5.10000</td>\n",
       "      <td>3.5</td>\n",
       "      <td>1.4</td>\n",
       "      <td>0.3</td>\n",
       "      <td>Iris-setosa</td>\n",
       "    </tr>\n",
       "    <tr>\n",
       "      <th>18</th>\n",
       "      <td>5.70000</td>\n",
       "      <td>3.8</td>\n",
       "      <td>1.7</td>\n",
       "      <td>0.3</td>\n",
       "      <td>Iris-setosa</td>\n",
       "    </tr>\n",
       "    <tr>\n",
       "      <th>19</th>\n",
       "      <td>5.10000</td>\n",
       "      <td>3.8</td>\n",
       "      <td>1.5</td>\n",
       "      <td>0.3</td>\n",
       "      <td>Iris-setosa</td>\n",
       "    </tr>\n",
       "    <tr>\n",
       "      <th>20</th>\n",
       "      <td>5.40000</td>\n",
       "      <td>3.4</td>\n",
       "      <td>1.7</td>\n",
       "      <td>0.2</td>\n",
       "      <td>Iris-setosa</td>\n",
       "    </tr>\n",
       "    <tr>\n",
       "      <th>21</th>\n",
       "      <td>5.10000</td>\n",
       "      <td>3.7</td>\n",
       "      <td>1.5</td>\n",
       "      <td>0.4</td>\n",
       "      <td>Iris-setosa</td>\n",
       "    </tr>\n",
       "    <tr>\n",
       "      <th>22</th>\n",
       "      <td>4.60000</td>\n",
       "      <td>3.6</td>\n",
       "      <td>1.0</td>\n",
       "      <td>0.2</td>\n",
       "      <td>NaN</td>\n",
       "    </tr>\n",
       "    <tr>\n",
       "      <th>23</th>\n",
       "      <td>5.10000</td>\n",
       "      <td>3.3</td>\n",
       "      <td>1.7</td>\n",
       "      <td>0.5</td>\n",
       "      <td>NaN</td>\n",
       "    </tr>\n",
       "    <tr>\n",
       "      <th>24</th>\n",
       "      <td>4.80000</td>\n",
       "      <td>3.4</td>\n",
       "      <td>1.9</td>\n",
       "      <td>0.2</td>\n",
       "      <td>Iris-setosa</td>\n",
       "    </tr>\n",
       "    <tr>\n",
       "      <th>25</th>\n",
       "      <td>5.00000</td>\n",
       "      <td>3.0</td>\n",
       "      <td>1.6</td>\n",
       "      <td>0.2</td>\n",
       "      <td>Iris-setosa</td>\n",
       "    </tr>\n",
       "    <tr>\n",
       "      <th>26</th>\n",
       "      <td>5.00000</td>\n",
       "      <td>3.4</td>\n",
       "      <td>4.2</td>\n",
       "      <td>0.4</td>\n",
       "      <td>Iris-setosa</td>\n",
       "    </tr>\n",
       "    <tr>\n",
       "      <th>27</th>\n",
       "      <td>5.20000</td>\n",
       "      <td>3.5</td>\n",
       "      <td>1.5</td>\n",
       "      <td>0.2</td>\n",
       "      <td>Iris-setosa</td>\n",
       "    </tr>\n",
       "    <tr>\n",
       "      <th>28</th>\n",
       "      <td>5.84058</td>\n",
       "      <td>3.4</td>\n",
       "      <td>1.4</td>\n",
       "      <td>0.2</td>\n",
       "      <td>Iris-setosa</td>\n",
       "    </tr>\n",
       "    <tr>\n",
       "      <th>29</th>\n",
       "      <td>4.70000</td>\n",
       "      <td>3.2</td>\n",
       "      <td>1.6</td>\n",
       "      <td>0.2</td>\n",
       "      <td>Iris-setosa</td>\n",
       "    </tr>\n",
       "  </tbody>\n",
       "</table>\n",
       "</div>"
      ],
      "text/plain": [
       "    sepal_length  sepal_width  petal_length  petal_width      species\n",
       "0        5.10000          3.5           1.4          0.2  Iris-setosa\n",
       "1        4.90000          3.0           4.2          0.2  Iris-setosa\n",
       "2        4.70000          3.2           1.3          0.2  Iris-setosa\n",
       "3        4.60000          3.1           1.5          0.2          NaN\n",
       "4        5.00000          3.6           1.4          0.2  Iris-setosa\n",
       "5        5.40000          3.9           1.7          0.4  Iris-setosa\n",
       "6        4.60000          3.4           1.4          0.3  Iris-setosa\n",
       "7        5.00000          3.4           1.5          0.1  Iris-setosa\n",
       "8        4.40000          2.9           1.4          0.2  Iris-setosa\n",
       "9        4.90000          3.1           4.2          0.1  Iris-setosa\n",
       "10       5.40000          3.7           1.5          0.2  Iris-setosa\n",
       "11       4.80000          3.4           1.6          0.2  Iris-setosa\n",
       "12       4.80000          3.0           1.4          0.1  Iris-setosa\n",
       "13       4.30000          3.0           1.1          0.1  Iris-setosa\n",
       "14       5.80000          4.0           1.2          0.2  Iris-setosa\n",
       "15       5.70000          4.4           1.5          0.4  Iris-setosa\n",
       "16       5.84058          3.9           1.3          0.4  Iris-setosa\n",
       "17       5.10000          3.5           1.4          0.3  Iris-setosa\n",
       "18       5.70000          3.8           1.7          0.3  Iris-setosa\n",
       "19       5.10000          3.8           1.5          0.3  Iris-setosa\n",
       "20       5.40000          3.4           1.7          0.2  Iris-setosa\n",
       "21       5.10000          3.7           1.5          0.4  Iris-setosa\n",
       "22       4.60000          3.6           1.0          0.2          NaN\n",
       "23       5.10000          3.3           1.7          0.5          NaN\n",
       "24       4.80000          3.4           1.9          0.2  Iris-setosa\n",
       "25       5.00000          3.0           1.6          0.2  Iris-setosa\n",
       "26       5.00000          3.4           4.2          0.4  Iris-setosa\n",
       "27       5.20000          3.5           1.5          0.2  Iris-setosa\n",
       "28       5.84058          3.4           1.4          0.2  Iris-setosa\n",
       "29       4.70000          3.2           1.6          0.2  Iris-setosa"
      ]
     },
     "execution_count": 39,
     "metadata": {},
     "output_type": "execute_result"
    }
   ],
   "source": [
    "iris1df.head(30)"
   ]
  },
  {
   "cell_type": "markdown",
   "id": "bd67cf69",
   "metadata": {
    "papermill": {
     "duration": 0.025181,
     "end_time": "2023-02-11T14:42:20.138963",
     "exception": false,
     "start_time": "2023-02-11T14:42:20.113782",
     "status": "completed"
    },
    "tags": []
   },
   "source": [
    "SPECIES--- DROP\n",
    "\n",
    "**8.  dropna(axis,how)**"
   ]
  },
  {
   "cell_type": "code",
   "execution_count": 40,
   "id": "0c03b984",
   "metadata": {
    "execution": {
     "iopub.execute_input": "2023-02-11T14:42:20.191346Z",
     "iopub.status.busy": "2023-02-11T14:42:20.190650Z",
     "iopub.status.idle": "2023-02-11T14:42:20.198520Z",
     "shell.execute_reply": "2023-02-11T14:42:20.197246Z"
    },
    "papermill": {
     "duration": 0.036416,
     "end_time": "2023-02-11T14:42:20.200727",
     "exception": false,
     "start_time": "2023-02-11T14:42:20.164311",
     "status": "completed"
    },
    "tags": []
   },
   "outputs": [],
   "source": [
    "iris1df=iris1df.dropna(axis=0,how='any')"
   ]
  },
  {
   "cell_type": "code",
   "execution_count": 41,
   "id": "ded7efca",
   "metadata": {
    "execution": {
     "iopub.execute_input": "2023-02-11T14:42:20.254233Z",
     "iopub.status.busy": "2023-02-11T14:42:20.253576Z",
     "iopub.status.idle": "2023-02-11T14:42:20.263027Z",
     "shell.execute_reply": "2023-02-11T14:42:20.261839Z"
    },
    "papermill": {
     "duration": 0.038838,
     "end_time": "2023-02-11T14:42:20.265224",
     "exception": false,
     "start_time": "2023-02-11T14:42:20.226386",
     "status": "completed"
    },
    "tags": []
   },
   "outputs": [
    {
     "data": {
      "text/plain": [
       "sepal_length    0\n",
       "sepal_width     0\n",
       "petal_length    0\n",
       "petal_width     0\n",
       "species         0\n",
       "dtype: int64"
      ]
     },
     "execution_count": 41,
     "metadata": {},
     "output_type": "execute_result"
    }
   ],
   "source": [
    "iris1df.isnull().sum()"
   ]
  },
  {
   "cell_type": "code",
   "execution_count": 42,
   "id": "a1885184",
   "metadata": {
    "execution": {
     "iopub.execute_input": "2023-02-11T14:42:20.318962Z",
     "iopub.status.busy": "2023-02-11T14:42:20.318298Z",
     "iopub.status.idle": "2023-02-11T14:42:20.324771Z",
     "shell.execute_reply": "2023-02-11T14:42:20.323807Z"
    },
    "papermill": {
     "duration": 0.035666,
     "end_time": "2023-02-11T14:42:20.326950",
     "exception": false,
     "start_time": "2023-02-11T14:42:20.291284",
     "status": "completed"
    },
    "tags": []
   },
   "outputs": [
    {
     "data": {
      "text/plain": [
       "(135, 5)"
      ]
     },
     "execution_count": 42,
     "metadata": {},
     "output_type": "execute_result"
    }
   ],
   "source": [
    "#shape\n",
    "iris1df.shape"
   ]
  },
  {
   "cell_type": "code",
   "execution_count": 43,
   "id": "2df0b2d5",
   "metadata": {
    "execution": {
     "iopub.execute_input": "2023-02-11T14:42:20.379853Z",
     "iopub.status.busy": "2023-02-11T14:42:20.379123Z",
     "iopub.status.idle": "2023-02-11T14:42:20.401638Z",
     "shell.execute_reply": "2023-02-11T14:42:20.400441Z"
    },
    "papermill": {
     "duration": 0.051859,
     "end_time": "2023-02-11T14:42:20.404145",
     "exception": false,
     "start_time": "2023-02-11T14:42:20.352286",
     "status": "completed"
    },
    "tags": []
   },
   "outputs": [
    {
     "data": {
      "text/html": [
       "<div>\n",
       "<style scoped>\n",
       "    .dataframe tbody tr th:only-of-type {\n",
       "        vertical-align: middle;\n",
       "    }\n",
       "\n",
       "    .dataframe tbody tr th {\n",
       "        vertical-align: top;\n",
       "    }\n",
       "\n",
       "    .dataframe thead th {\n",
       "        text-align: right;\n",
       "    }\n",
       "</style>\n",
       "<table border=\"1\" class=\"dataframe\">\n",
       "  <thead>\n",
       "    <tr style=\"text-align: right;\">\n",
       "      <th></th>\n",
       "      <th>sepal_length</th>\n",
       "      <th>sepal_width</th>\n",
       "      <th>petal_length</th>\n",
       "      <th>petal_width</th>\n",
       "      <th>species</th>\n",
       "    </tr>\n",
       "  </thead>\n",
       "  <tbody>\n",
       "    <tr>\n",
       "      <th>0</th>\n",
       "      <td>5.10000</td>\n",
       "      <td>3.5</td>\n",
       "      <td>1.4</td>\n",
       "      <td>0.2</td>\n",
       "      <td>Iris-setosa</td>\n",
       "    </tr>\n",
       "    <tr>\n",
       "      <th>1</th>\n",
       "      <td>4.90000</td>\n",
       "      <td>3.0</td>\n",
       "      <td>4.2</td>\n",
       "      <td>0.2</td>\n",
       "      <td>Iris-setosa</td>\n",
       "    </tr>\n",
       "    <tr>\n",
       "      <th>2</th>\n",
       "      <td>4.70000</td>\n",
       "      <td>3.2</td>\n",
       "      <td>1.3</td>\n",
       "      <td>0.2</td>\n",
       "      <td>Iris-setosa</td>\n",
       "    </tr>\n",
       "    <tr>\n",
       "      <th>4</th>\n",
       "      <td>5.00000</td>\n",
       "      <td>3.6</td>\n",
       "      <td>1.4</td>\n",
       "      <td>0.2</td>\n",
       "      <td>Iris-setosa</td>\n",
       "    </tr>\n",
       "    <tr>\n",
       "      <th>5</th>\n",
       "      <td>5.40000</td>\n",
       "      <td>3.9</td>\n",
       "      <td>1.7</td>\n",
       "      <td>0.4</td>\n",
       "      <td>Iris-setosa</td>\n",
       "    </tr>\n",
       "    <tr>\n",
       "      <th>6</th>\n",
       "      <td>4.60000</td>\n",
       "      <td>3.4</td>\n",
       "      <td>1.4</td>\n",
       "      <td>0.3</td>\n",
       "      <td>Iris-setosa</td>\n",
       "    </tr>\n",
       "    <tr>\n",
       "      <th>7</th>\n",
       "      <td>5.00000</td>\n",
       "      <td>3.4</td>\n",
       "      <td>1.5</td>\n",
       "      <td>0.1</td>\n",
       "      <td>Iris-setosa</td>\n",
       "    </tr>\n",
       "    <tr>\n",
       "      <th>8</th>\n",
       "      <td>4.40000</td>\n",
       "      <td>2.9</td>\n",
       "      <td>1.4</td>\n",
       "      <td>0.2</td>\n",
       "      <td>Iris-setosa</td>\n",
       "    </tr>\n",
       "    <tr>\n",
       "      <th>9</th>\n",
       "      <td>4.90000</td>\n",
       "      <td>3.1</td>\n",
       "      <td>4.2</td>\n",
       "      <td>0.1</td>\n",
       "      <td>Iris-setosa</td>\n",
       "    </tr>\n",
       "    <tr>\n",
       "      <th>10</th>\n",
       "      <td>5.40000</td>\n",
       "      <td>3.7</td>\n",
       "      <td>1.5</td>\n",
       "      <td>0.2</td>\n",
       "      <td>Iris-setosa</td>\n",
       "    </tr>\n",
       "    <tr>\n",
       "      <th>11</th>\n",
       "      <td>4.80000</td>\n",
       "      <td>3.4</td>\n",
       "      <td>1.6</td>\n",
       "      <td>0.2</td>\n",
       "      <td>Iris-setosa</td>\n",
       "    </tr>\n",
       "    <tr>\n",
       "      <th>12</th>\n",
       "      <td>4.80000</td>\n",
       "      <td>3.0</td>\n",
       "      <td>1.4</td>\n",
       "      <td>0.1</td>\n",
       "      <td>Iris-setosa</td>\n",
       "    </tr>\n",
       "    <tr>\n",
       "      <th>13</th>\n",
       "      <td>4.30000</td>\n",
       "      <td>3.0</td>\n",
       "      <td>1.1</td>\n",
       "      <td>0.1</td>\n",
       "      <td>Iris-setosa</td>\n",
       "    </tr>\n",
       "    <tr>\n",
       "      <th>14</th>\n",
       "      <td>5.80000</td>\n",
       "      <td>4.0</td>\n",
       "      <td>1.2</td>\n",
       "      <td>0.2</td>\n",
       "      <td>Iris-setosa</td>\n",
       "    </tr>\n",
       "    <tr>\n",
       "      <th>15</th>\n",
       "      <td>5.70000</td>\n",
       "      <td>4.4</td>\n",
       "      <td>1.5</td>\n",
       "      <td>0.4</td>\n",
       "      <td>Iris-setosa</td>\n",
       "    </tr>\n",
       "    <tr>\n",
       "      <th>16</th>\n",
       "      <td>5.84058</td>\n",
       "      <td>3.9</td>\n",
       "      <td>1.3</td>\n",
       "      <td>0.4</td>\n",
       "      <td>Iris-setosa</td>\n",
       "    </tr>\n",
       "    <tr>\n",
       "      <th>17</th>\n",
       "      <td>5.10000</td>\n",
       "      <td>3.5</td>\n",
       "      <td>1.4</td>\n",
       "      <td>0.3</td>\n",
       "      <td>Iris-setosa</td>\n",
       "    </tr>\n",
       "    <tr>\n",
       "      <th>18</th>\n",
       "      <td>5.70000</td>\n",
       "      <td>3.8</td>\n",
       "      <td>1.7</td>\n",
       "      <td>0.3</td>\n",
       "      <td>Iris-setosa</td>\n",
       "    </tr>\n",
       "    <tr>\n",
       "      <th>19</th>\n",
       "      <td>5.10000</td>\n",
       "      <td>3.8</td>\n",
       "      <td>1.5</td>\n",
       "      <td>0.3</td>\n",
       "      <td>Iris-setosa</td>\n",
       "    </tr>\n",
       "    <tr>\n",
       "      <th>20</th>\n",
       "      <td>5.40000</td>\n",
       "      <td>3.4</td>\n",
       "      <td>1.7</td>\n",
       "      <td>0.2</td>\n",
       "      <td>Iris-setosa</td>\n",
       "    </tr>\n",
       "    <tr>\n",
       "      <th>21</th>\n",
       "      <td>5.10000</td>\n",
       "      <td>3.7</td>\n",
       "      <td>1.5</td>\n",
       "      <td>0.4</td>\n",
       "      <td>Iris-setosa</td>\n",
       "    </tr>\n",
       "    <tr>\n",
       "      <th>24</th>\n",
       "      <td>4.80000</td>\n",
       "      <td>3.4</td>\n",
       "      <td>1.9</td>\n",
       "      <td>0.2</td>\n",
       "      <td>Iris-setosa</td>\n",
       "    </tr>\n",
       "    <tr>\n",
       "      <th>25</th>\n",
       "      <td>5.00000</td>\n",
       "      <td>3.0</td>\n",
       "      <td>1.6</td>\n",
       "      <td>0.2</td>\n",
       "      <td>Iris-setosa</td>\n",
       "    </tr>\n",
       "    <tr>\n",
       "      <th>26</th>\n",
       "      <td>5.00000</td>\n",
       "      <td>3.4</td>\n",
       "      <td>4.2</td>\n",
       "      <td>0.4</td>\n",
       "      <td>Iris-setosa</td>\n",
       "    </tr>\n",
       "    <tr>\n",
       "      <th>27</th>\n",
       "      <td>5.20000</td>\n",
       "      <td>3.5</td>\n",
       "      <td>1.5</td>\n",
       "      <td>0.2</td>\n",
       "      <td>Iris-setosa</td>\n",
       "    </tr>\n",
       "    <tr>\n",
       "      <th>28</th>\n",
       "      <td>5.84058</td>\n",
       "      <td>3.4</td>\n",
       "      <td>1.4</td>\n",
       "      <td>0.2</td>\n",
       "      <td>Iris-setosa</td>\n",
       "    </tr>\n",
       "    <tr>\n",
       "      <th>29</th>\n",
       "      <td>4.70000</td>\n",
       "      <td>3.2</td>\n",
       "      <td>1.6</td>\n",
       "      <td>0.2</td>\n",
       "      <td>Iris-setosa</td>\n",
       "    </tr>\n",
       "    <tr>\n",
       "      <th>30</th>\n",
       "      <td>4.80000</td>\n",
       "      <td>3.1</td>\n",
       "      <td>1.6</td>\n",
       "      <td>0.2</td>\n",
       "      <td>Iris-setosa</td>\n",
       "    </tr>\n",
       "    <tr>\n",
       "      <th>31</th>\n",
       "      <td>5.40000</td>\n",
       "      <td>3.4</td>\n",
       "      <td>1.5</td>\n",
       "      <td>0.4</td>\n",
       "      <td>Iris-setosa</td>\n",
       "    </tr>\n",
       "    <tr>\n",
       "      <th>32</th>\n",
       "      <td>5.20000</td>\n",
       "      <td>3.0</td>\n",
       "      <td>1.5</td>\n",
       "      <td>0.1</td>\n",
       "      <td>Iris-setosa</td>\n",
       "    </tr>\n",
       "  </tbody>\n",
       "</table>\n",
       "</div>"
      ],
      "text/plain": [
       "    sepal_length  sepal_width  petal_length  petal_width      species\n",
       "0        5.10000          3.5           1.4          0.2  Iris-setosa\n",
       "1        4.90000          3.0           4.2          0.2  Iris-setosa\n",
       "2        4.70000          3.2           1.3          0.2  Iris-setosa\n",
       "4        5.00000          3.6           1.4          0.2  Iris-setosa\n",
       "5        5.40000          3.9           1.7          0.4  Iris-setosa\n",
       "6        4.60000          3.4           1.4          0.3  Iris-setosa\n",
       "7        5.00000          3.4           1.5          0.1  Iris-setosa\n",
       "8        4.40000          2.9           1.4          0.2  Iris-setosa\n",
       "9        4.90000          3.1           4.2          0.1  Iris-setosa\n",
       "10       5.40000          3.7           1.5          0.2  Iris-setosa\n",
       "11       4.80000          3.4           1.6          0.2  Iris-setosa\n",
       "12       4.80000          3.0           1.4          0.1  Iris-setosa\n",
       "13       4.30000          3.0           1.1          0.1  Iris-setosa\n",
       "14       5.80000          4.0           1.2          0.2  Iris-setosa\n",
       "15       5.70000          4.4           1.5          0.4  Iris-setosa\n",
       "16       5.84058          3.9           1.3          0.4  Iris-setosa\n",
       "17       5.10000          3.5           1.4          0.3  Iris-setosa\n",
       "18       5.70000          3.8           1.7          0.3  Iris-setosa\n",
       "19       5.10000          3.8           1.5          0.3  Iris-setosa\n",
       "20       5.40000          3.4           1.7          0.2  Iris-setosa\n",
       "21       5.10000          3.7           1.5          0.4  Iris-setosa\n",
       "24       4.80000          3.4           1.9          0.2  Iris-setosa\n",
       "25       5.00000          3.0           1.6          0.2  Iris-setosa\n",
       "26       5.00000          3.4           4.2          0.4  Iris-setosa\n",
       "27       5.20000          3.5           1.5          0.2  Iris-setosa\n",
       "28       5.84058          3.4           1.4          0.2  Iris-setosa\n",
       "29       4.70000          3.2           1.6          0.2  Iris-setosa\n",
       "30       4.80000          3.1           1.6          0.2  Iris-setosa\n",
       "31       5.40000          3.4           1.5          0.4  Iris-setosa\n",
       "32       5.20000          3.0           1.5          0.1  Iris-setosa"
      ]
     },
     "execution_count": 43,
     "metadata": {},
     "output_type": "execute_result"
    }
   ],
   "source": [
    "iris1df.head(30)"
   ]
  },
  {
   "cell_type": "markdown",
   "id": "a6ee6823",
   "metadata": {
    "papermill": {
     "duration": 0.025532,
     "end_time": "2023-02-11T14:42:20.455747",
     "exception": false,
     "start_time": "2023-02-11T14:42:20.430215",
     "status": "completed"
    },
    "tags": []
   },
   "source": [
    "# Data Visualization\n",
    "#### (Using Day 3 Dataset)"
   ]
  },
  {
   "cell_type": "code",
   "execution_count": 44,
   "id": "e72ac970",
   "metadata": {
    "execution": {
     "iopub.execute_input": "2023-02-11T14:42:20.510094Z",
     "iopub.status.busy": "2023-02-11T14:42:20.509681Z",
     "iopub.status.idle": "2023-02-11T14:42:20.514898Z",
     "shell.execute_reply": "2023-02-11T14:42:20.513551Z"
    },
    "papermill": {
     "duration": 0.035269,
     "end_time": "2023-02-11T14:42:20.517317",
     "exception": false,
     "start_time": "2023-02-11T14:42:20.482048",
     "status": "completed"
    },
    "tags": []
   },
   "outputs": [],
   "source": [
    "import matplotlib.pyplot as plt"
   ]
  },
  {
   "cell_type": "code",
   "execution_count": 45,
   "id": "88248d53",
   "metadata": {
    "execution": {
     "iopub.execute_input": "2023-02-11T14:42:20.571790Z",
     "iopub.status.busy": "2023-02-11T14:42:20.571129Z",
     "iopub.status.idle": "2023-02-11T14:42:20.578102Z",
     "shell.execute_reply": "2023-02-11T14:42:20.576666Z"
    },
    "papermill": {
     "duration": 0.037244,
     "end_time": "2023-02-11T14:42:20.580894",
     "exception": false,
     "start_time": "2023-02-11T14:42:20.543650",
     "status": "completed"
    },
    "tags": []
   },
   "outputs": [],
   "source": [
    "petal_length=irisdf['petal_length']\n",
    "petal_width=irisdf['petal_width']\n",
    "sepal_length=irisdf['sepal_length']\n",
    "sepal_width=irisdf['sepal_width']"
   ]
  },
  {
   "cell_type": "markdown",
   "id": "2cb37b2a",
   "metadata": {
    "papermill": {
     "duration": 0.025629,
     "end_time": "2023-02-11T14:42:20.633073",
     "exception": false,
     "start_time": "2023-02-11T14:42:20.607444",
     "status": "completed"
    },
    "tags": []
   },
   "source": [
    "## Scatter Plot between Petal Length and Petal Width"
   ]
  },
  {
   "cell_type": "code",
   "execution_count": 46,
   "id": "a58d7bf6",
   "metadata": {
    "execution": {
     "iopub.execute_input": "2023-02-11T14:42:20.688036Z",
     "iopub.status.busy": "2023-02-11T14:42:20.687067Z",
     "iopub.status.idle": "2023-02-11T14:42:20.905520Z",
     "shell.execute_reply": "2023-02-11T14:42:20.904308Z"
    },
    "papermill": {
     "duration": 0.249054,
     "end_time": "2023-02-11T14:42:20.908129",
     "exception": false,
     "start_time": "2023-02-11T14:42:20.659075",
     "status": "completed"
    },
    "tags": []
   },
   "outputs": [
    {
     "data": {
      "image/png": "[encoded data removed]",
      "text/plain": [
       "<Figure size 432x288 with 1 Axes>"
      ]
     },
     "metadata": {
      "needs_background": "light"
     },
     "output_type": "display_data"
    }
   ],
   "source": [
    "plt.scatter(x=petal_length,y=petal_width)\n",
    "plt.xlabel(\"petal_length\")\n",
    "plt.ylabel(\"petal_width\")\n",
    "plt.show()"
   ]
  },
  {
   "cell_type": "markdown",
   "id": "5dd7e437",
   "metadata": {
    "papermill": {
     "duration": 0.026313,
     "end_time": "2023-02-11T14:42:20.961290",
     "exception": false,
     "start_time": "2023-02-11T14:42:20.934977",
     "status": "completed"
    },
    "tags": []
   },
   "source": [
    "## Scatter Plot Categorization with Different Species of the Iris Plant"
   ]
  },
  {
   "cell_type": "code",
   "execution_count": 47,
   "id": "3a23de7b",
   "metadata": {
    "execution": {
     "iopub.execute_input": "2023-02-11T14:42:21.017188Z",
     "iopub.status.busy": "2023-02-11T14:42:21.016137Z",
     "iopub.status.idle": "2023-02-11T14:42:21.045779Z",
     "shell.execute_reply": "2023-02-11T14:42:21.044417Z"
    },
    "papermill": {
     "duration": 0.060293,
     "end_time": "2023-02-11T14:42:21.048660",
     "exception": false,
     "start_time": "2023-02-11T14:42:20.988367",
     "status": "completed"
    },
    "tags": []
   },
   "outputs": [
    {
     "data": {
      "text/html": [
       "<div>\n",
       "<style scoped>\n",
       "    .dataframe tbody tr th:only-of-type {\n",
       "        vertical-align: middle;\n",
       "    }\n",
       "\n",
       "    .dataframe tbody tr th {\n",
       "        vertical-align: top;\n",
       "    }\n",
       "\n",
       "    .dataframe thead th {\n",
       "        text-align: right;\n",
       "    }\n",
       "</style>\n",
       "<table border=\"1\" class=\"dataframe\">\n",
       "  <thead>\n",
       "    <tr style=\"text-align: right;\">\n",
       "      <th></th>\n",
       "      <th>sepal_length</th>\n",
       "      <th>sepal_width</th>\n",
       "      <th>petal_length</th>\n",
       "      <th>petal_width</th>\n",
       "      <th>species</th>\n",
       "    </tr>\n",
       "  </thead>\n",
       "  <tbody>\n",
       "    <tr>\n",
       "      <th>0</th>\n",
       "      <td>5.1</td>\n",
       "      <td>3.5</td>\n",
       "      <td>1.4</td>\n",
       "      <td>0.2</td>\n",
       "      <td>Iris-setosa</td>\n",
       "    </tr>\n",
       "    <tr>\n",
       "      <th>1</th>\n",
       "      <td>4.9</td>\n",
       "      <td>3.0</td>\n",
       "      <td>1.4</td>\n",
       "      <td>0.2</td>\n",
       "      <td>Iris-setosa</td>\n",
       "    </tr>\n",
       "    <tr>\n",
       "      <th>2</th>\n",
       "      <td>4.7</td>\n",
       "      <td>3.2</td>\n",
       "      <td>1.3</td>\n",
       "      <td>0.2</td>\n",
       "      <td>Iris-setosa</td>\n",
       "    </tr>\n",
       "    <tr>\n",
       "      <th>3</th>\n",
       "      <td>4.6</td>\n",
       "      <td>3.1</td>\n",
       "      <td>1.5</td>\n",
       "      <td>0.2</td>\n",
       "      <td>Iris-setosa</td>\n",
       "    </tr>\n",
       "    <tr>\n",
       "      <th>4</th>\n",
       "      <td>5.0</td>\n",
       "      <td>3.6</td>\n",
       "      <td>1.4</td>\n",
       "      <td>0.2</td>\n",
       "      <td>Iris-setosa</td>\n",
       "    </tr>\n",
       "    <tr>\n",
       "      <th>5</th>\n",
       "      <td>5.4</td>\n",
       "      <td>3.9</td>\n",
       "      <td>1.7</td>\n",
       "      <td>0.4</td>\n",
       "      <td>Iris-setosa</td>\n",
       "    </tr>\n",
       "    <tr>\n",
       "      <th>6</th>\n",
       "      <td>4.6</td>\n",
       "      <td>3.4</td>\n",
       "      <td>1.4</td>\n",
       "      <td>0.3</td>\n",
       "      <td>Iris-setosa</td>\n",
       "    </tr>\n",
       "    <tr>\n",
       "      <th>7</th>\n",
       "      <td>5.0</td>\n",
       "      <td>3.4</td>\n",
       "      <td>1.5</td>\n",
       "      <td>0.2</td>\n",
       "      <td>Iris-setosa</td>\n",
       "    </tr>\n",
       "    <tr>\n",
       "      <th>8</th>\n",
       "      <td>4.4</td>\n",
       "      <td>2.9</td>\n",
       "      <td>1.4</td>\n",
       "      <td>0.2</td>\n",
       "      <td>Iris-setosa</td>\n",
       "    </tr>\n",
       "    <tr>\n",
       "      <th>9</th>\n",
       "      <td>4.9</td>\n",
       "      <td>3.1</td>\n",
       "      <td>1.5</td>\n",
       "      <td>0.1</td>\n",
       "      <td>Iris-setosa</td>\n",
       "    </tr>\n",
       "    <tr>\n",
       "      <th>10</th>\n",
       "      <td>5.4</td>\n",
       "      <td>3.7</td>\n",
       "      <td>1.5</td>\n",
       "      <td>0.2</td>\n",
       "      <td>Iris-setosa</td>\n",
       "    </tr>\n",
       "    <tr>\n",
       "      <th>11</th>\n",
       "      <td>4.8</td>\n",
       "      <td>3.4</td>\n",
       "      <td>1.6</td>\n",
       "      <td>0.2</td>\n",
       "      <td>Iris-setosa</td>\n",
       "    </tr>\n",
       "    <tr>\n",
       "      <th>12</th>\n",
       "      <td>4.8</td>\n",
       "      <td>3.0</td>\n",
       "      <td>1.4</td>\n",
       "      <td>0.1</td>\n",
       "      <td>Iris-setosa</td>\n",
       "    </tr>\n",
       "    <tr>\n",
       "      <th>13</th>\n",
       "      <td>4.3</td>\n",
       "      <td>3.0</td>\n",
       "      <td>1.1</td>\n",
       "      <td>0.1</td>\n",
       "      <td>Iris-setosa</td>\n",
       "    </tr>\n",
       "    <tr>\n",
       "      <th>14</th>\n",
       "      <td>5.8</td>\n",
       "      <td>4.0</td>\n",
       "      <td>1.2</td>\n",
       "      <td>0.2</td>\n",
       "      <td>Iris-setosa</td>\n",
       "    </tr>\n",
       "    <tr>\n",
       "      <th>15</th>\n",
       "      <td>5.7</td>\n",
       "      <td>4.4</td>\n",
       "      <td>1.5</td>\n",
       "      <td>0.4</td>\n",
       "      <td>Iris-setosa</td>\n",
       "    </tr>\n",
       "    <tr>\n",
       "      <th>16</th>\n",
       "      <td>5.4</td>\n",
       "      <td>3.9</td>\n",
       "      <td>1.3</td>\n",
       "      <td>0.4</td>\n",
       "      <td>Iris-setosa</td>\n",
       "    </tr>\n",
       "    <tr>\n",
       "      <th>17</th>\n",
       "      <td>5.1</td>\n",
       "      <td>3.5</td>\n",
       "      <td>1.4</td>\n",
       "      <td>0.3</td>\n",
       "      <td>Iris-setosa</td>\n",
       "    </tr>\n",
       "    <tr>\n",
       "      <th>18</th>\n",
       "      <td>5.7</td>\n",
       "      <td>3.8</td>\n",
       "      <td>1.7</td>\n",
       "      <td>0.3</td>\n",
       "      <td>Iris-setosa</td>\n",
       "    </tr>\n",
       "    <tr>\n",
       "      <th>19</th>\n",
       "      <td>5.1</td>\n",
       "      <td>3.8</td>\n",
       "      <td>1.5</td>\n",
       "      <td>0.3</td>\n",
       "      <td>Iris-setosa</td>\n",
       "    </tr>\n",
       "    <tr>\n",
       "      <th>20</th>\n",
       "      <td>5.4</td>\n",
       "      <td>3.4</td>\n",
       "      <td>1.7</td>\n",
       "      <td>0.2</td>\n",
       "      <td>Iris-setosa</td>\n",
       "    </tr>\n",
       "    <tr>\n",
       "      <th>21</th>\n",
       "      <td>5.1</td>\n",
       "      <td>3.7</td>\n",
       "      <td>1.5</td>\n",
       "      <td>0.4</td>\n",
       "      <td>Iris-setosa</td>\n",
       "    </tr>\n",
       "    <tr>\n",
       "      <th>22</th>\n",
       "      <td>4.6</td>\n",
       "      <td>3.6</td>\n",
       "      <td>1.0</td>\n",
       "      <td>0.2</td>\n",
       "      <td>Iris-setosa</td>\n",
       "    </tr>\n",
       "    <tr>\n",
       "      <th>23</th>\n",
       "      <td>5.1</td>\n",
       "      <td>3.3</td>\n",
       "      <td>1.7</td>\n",
       "      <td>0.5</td>\n",
       "      <td>Iris-setosa</td>\n",
       "    </tr>\n",
       "    <tr>\n",
       "      <th>24</th>\n",
       "      <td>4.8</td>\n",
       "      <td>3.4</td>\n",
       "      <td>1.9</td>\n",
       "      <td>0.2</td>\n",
       "      <td>Iris-setosa</td>\n",
       "    </tr>\n",
       "    <tr>\n",
       "      <th>25</th>\n",
       "      <td>5.0</td>\n",
       "      <td>3.0</td>\n",
       "      <td>1.6</td>\n",
       "      <td>0.2</td>\n",
       "      <td>Iris-setosa</td>\n",
       "    </tr>\n",
       "    <tr>\n",
       "      <th>26</th>\n",
       "      <td>5.0</td>\n",
       "      <td>3.4</td>\n",
       "      <td>1.6</td>\n",
       "      <td>0.4</td>\n",
       "      <td>Iris-setosa</td>\n",
       "    </tr>\n",
       "    <tr>\n",
       "      <th>27</th>\n",
       "      <td>5.2</td>\n",
       "      <td>3.5</td>\n",
       "      <td>1.5</td>\n",
       "      <td>0.2</td>\n",
       "      <td>Iris-setosa</td>\n",
       "    </tr>\n",
       "    <tr>\n",
       "      <th>28</th>\n",
       "      <td>5.2</td>\n",
       "      <td>3.4</td>\n",
       "      <td>1.4</td>\n",
       "      <td>0.2</td>\n",
       "      <td>Iris-setosa</td>\n",
       "    </tr>\n",
       "    <tr>\n",
       "      <th>29</th>\n",
       "      <td>4.7</td>\n",
       "      <td>3.2</td>\n",
       "      <td>1.6</td>\n",
       "      <td>0.2</td>\n",
       "      <td>Iris-setosa</td>\n",
       "    </tr>\n",
       "    <tr>\n",
       "      <th>30</th>\n",
       "      <td>4.8</td>\n",
       "      <td>3.1</td>\n",
       "      <td>1.6</td>\n",
       "      <td>0.2</td>\n",
       "      <td>Iris-setosa</td>\n",
       "    </tr>\n",
       "    <tr>\n",
       "      <th>31</th>\n",
       "      <td>5.4</td>\n",
       "      <td>3.4</td>\n",
       "      <td>1.5</td>\n",
       "      <td>0.4</td>\n",
       "      <td>Iris-setosa</td>\n",
       "    </tr>\n",
       "    <tr>\n",
       "      <th>32</th>\n",
       "      <td>5.2</td>\n",
       "      <td>4.1</td>\n",
       "      <td>1.5</td>\n",
       "      <td>0.1</td>\n",
       "      <td>Iris-setosa</td>\n",
       "    </tr>\n",
       "    <tr>\n",
       "      <th>33</th>\n",
       "      <td>5.5</td>\n",
       "      <td>4.2</td>\n",
       "      <td>1.4</td>\n",
       "      <td>0.2</td>\n",
       "      <td>Iris-setosa</td>\n",
       "    </tr>\n",
       "    <tr>\n",
       "      <th>35</th>\n",
       "      <td>5.0</td>\n",
       "      <td>3.2</td>\n",
       "      <td>1.2</td>\n",
       "      <td>0.2</td>\n",
       "      <td>Iris-setosa</td>\n",
       "    </tr>\n",
       "    <tr>\n",
       "      <th>36</th>\n",
       "      <td>5.5</td>\n",
       "      <td>3.5</td>\n",
       "      <td>1.3</td>\n",
       "      <td>0.2</td>\n",
       "      <td>Iris-setosa</td>\n",
       "    </tr>\n",
       "    <tr>\n",
       "      <th>38</th>\n",
       "      <td>4.4</td>\n",
       "      <td>3.0</td>\n",
       "      <td>1.3</td>\n",
       "      <td>0.2</td>\n",
       "      <td>Iris-setosa</td>\n",
       "    </tr>\n",
       "    <tr>\n",
       "      <th>39</th>\n",
       "      <td>5.1</td>\n",
       "      <td>3.4</td>\n",
       "      <td>1.5</td>\n",
       "      <td>0.2</td>\n",
       "      <td>Iris-setosa</td>\n",
       "    </tr>\n",
       "    <tr>\n",
       "      <th>40</th>\n",
       "      <td>5.0</td>\n",
       "      <td>3.5</td>\n",
       "      <td>1.3</td>\n",
       "      <td>0.3</td>\n",
       "      <td>Iris-setosa</td>\n",
       "    </tr>\n",
       "    <tr>\n",
       "      <th>41</th>\n",
       "      <td>4.5</td>\n",
       "      <td>2.3</td>\n",
       "      <td>1.3</td>\n",
       "      <td>0.3</td>\n",
       "      <td>Iris-setosa</td>\n",
       "    </tr>\n",
       "    <tr>\n",
       "      <th>42</th>\n",
       "      <td>4.4</td>\n",
       "      <td>3.2</td>\n",
       "      <td>1.3</td>\n",
       "      <td>0.2</td>\n",
       "      <td>Iris-setosa</td>\n",
       "    </tr>\n",
       "    <tr>\n",
       "      <th>43</th>\n",
       "      <td>5.0</td>\n",
       "      <td>3.5</td>\n",
       "      <td>1.6</td>\n",
       "      <td>0.6</td>\n",
       "      <td>Iris-setosa</td>\n",
       "    </tr>\n",
       "    <tr>\n",
       "      <th>44</th>\n",
       "      <td>5.1</td>\n",
       "      <td>3.8</td>\n",
       "      <td>1.9</td>\n",
       "      <td>0.4</td>\n",
       "      <td>Iris-setosa</td>\n",
       "    </tr>\n",
       "    <tr>\n",
       "      <th>45</th>\n",
       "      <td>4.8</td>\n",
       "      <td>3.0</td>\n",
       "      <td>1.4</td>\n",
       "      <td>0.3</td>\n",
       "      <td>Iris-setosa</td>\n",
       "    </tr>\n",
       "    <tr>\n",
       "      <th>46</th>\n",
       "      <td>5.1</td>\n",
       "      <td>3.8</td>\n",
       "      <td>1.6</td>\n",
       "      <td>0.2</td>\n",
       "      <td>Iris-setosa</td>\n",
       "    </tr>\n",
       "    <tr>\n",
       "      <th>47</th>\n",
       "      <td>4.6</td>\n",
       "      <td>3.2</td>\n",
       "      <td>1.4</td>\n",
       "      <td>0.2</td>\n",
       "      <td>Iris-setosa</td>\n",
       "    </tr>\n",
       "    <tr>\n",
       "      <th>48</th>\n",
       "      <td>5.3</td>\n",
       "      <td>3.7</td>\n",
       "      <td>1.5</td>\n",
       "      <td>0.2</td>\n",
       "      <td>Iris-setosa</td>\n",
       "    </tr>\n",
       "    <tr>\n",
       "      <th>49</th>\n",
       "      <td>5.0</td>\n",
       "      <td>3.3</td>\n",
       "      <td>1.4</td>\n",
       "      <td>0.2</td>\n",
       "      <td>Iris-setosa</td>\n",
       "    </tr>\n",
       "  </tbody>\n",
       "</table>\n",
       "</div>"
      ],
      "text/plain": [
       "    sepal_length  sepal_width  petal_length  petal_width      species\n",
       "0            5.1          3.5           1.4          0.2  Iris-setosa\n",
       "1            4.9          3.0           1.4          0.2  Iris-setosa\n",
       "2            4.7          3.2           1.3          0.2  Iris-setosa\n",
       "3            4.6          3.1           1.5          0.2  Iris-setosa\n",
       "4            5.0          3.6           1.4          0.2  Iris-setosa\n",
       "5            5.4          3.9           1.7          0.4  Iris-setosa\n",
       "6            4.6          3.4           1.4          0.3  Iris-setosa\n",
       "7            5.0          3.4           1.5          0.2  Iris-setosa\n",
       "8            4.4          2.9           1.4          0.2  Iris-setosa\n",
       "9            4.9          3.1           1.5          0.1  Iris-setosa\n",
       "10           5.4          3.7           1.5          0.2  Iris-setosa\n",
       "11           4.8          3.4           1.6          0.2  Iris-setosa\n",
       "12           4.8          3.0           1.4          0.1  Iris-setosa\n",
       "13           4.3          3.0           1.1          0.1  Iris-setosa\n",
       "14           5.8          4.0           1.2          0.2  Iris-setosa\n",
       "15           5.7          4.4           1.5          0.4  Iris-setosa\n",
       "16           5.4          3.9           1.3          0.4  Iris-setosa\n",
       "17           5.1          3.5           1.4          0.3  Iris-setosa\n",
       "18           5.7          3.8           1.7          0.3  Iris-setosa\n",
       "19           5.1          3.8           1.5          0.3  Iris-setosa\n",
       "20           5.4          3.4           1.7          0.2  Iris-setosa\n",
       "21           5.1          3.7           1.5          0.4  Iris-setosa\n",
       "22           4.6          3.6           1.0          0.2  Iris-setosa\n",
       "23           5.1          3.3           1.7          0.5  Iris-setosa\n",
       "24           4.8          3.4           1.9          0.2  Iris-setosa\n",
       "25           5.0          3.0           1.6          0.2  Iris-setosa\n",
       "26           5.0          3.4           1.6          0.4  Iris-setosa\n",
       "27           5.2          3.5           1.5          0.2  Iris-setosa\n",
       "28           5.2          3.4           1.4          0.2  Iris-setosa\n",
       "29           4.7          3.2           1.6          0.2  Iris-setosa\n",
       "30           4.8          3.1           1.6          0.2  Iris-setosa\n",
       "31           5.4          3.4           1.5          0.4  Iris-setosa\n",
       "32           5.2          4.1           1.5          0.1  Iris-setosa\n",
       "33           5.5          4.2           1.4          0.2  Iris-setosa\n",
       "35           5.0          3.2           1.2          0.2  Iris-setosa\n",
       "36           5.5          3.5           1.3          0.2  Iris-setosa\n",
       "38           4.4          3.0           1.3          0.2  Iris-setosa\n",
       "39           5.1          3.4           1.5          0.2  Iris-setosa\n",
       "40           5.0          3.5           1.3          0.3  Iris-setosa\n",
       "41           4.5          2.3           1.3          0.3  Iris-setosa\n",
       "42           4.4          3.2           1.3          0.2  Iris-setosa\n",
       "43           5.0          3.5           1.6          0.6  Iris-setosa\n",
       "44           5.1          3.8           1.9          0.4  Iris-setosa\n",
       "45           4.8          3.0           1.4          0.3  Iris-setosa\n",
       "46           5.1          3.8           1.6          0.2  Iris-setosa\n",
       "47           4.6          3.2           1.4          0.2  Iris-setosa\n",
       "48           5.3          3.7           1.5          0.2  Iris-setosa\n",
       "49           5.0          3.3           1.4          0.2  Iris-setosa"
      ]
     },
     "execution_count": 47,
     "metadata": {},
     "output_type": "execute_result"
    }
   ],
   "source": [
    "setosa=irisdf[irisdf[\"species\"]==\"Iris-setosa\"]\n",
    "setosa"
   ]
  },
  {
   "cell_type": "code",
   "execution_count": 48,
   "id": "84a6e340",
   "metadata": {
    "execution": {
     "iopub.execute_input": "2023-02-11T14:42:21.104836Z",
     "iopub.status.busy": "2023-02-11T14:42:21.104363Z",
     "iopub.status.idle": "2023-02-11T14:42:21.110495Z",
     "shell.execute_reply": "2023-02-11T14:42:21.109620Z"
    },
    "papermill": {
     "duration": 0.036654,
     "end_time": "2023-02-11T14:42:21.112711",
     "exception": false,
     "start_time": "2023-02-11T14:42:21.076057",
     "status": "completed"
    },
    "tags": []
   },
   "outputs": [],
   "source": [
    "versicolor=irisdf[irisdf[\"species\"]==\"Iris-versicolor\"]\n",
    "virginica=irisdf[irisdf[\"species\"]==\"Iris-virginica\"]"
   ]
  },
  {
   "cell_type": "code",
   "execution_count": 49,
   "id": "9555a091",
   "metadata": {
    "execution": {
     "iopub.execute_input": "2023-02-11T14:42:21.169826Z",
     "iopub.status.busy": "2023-02-11T14:42:21.169371Z",
     "iopub.status.idle": "2023-02-11T14:42:21.424207Z",
     "shell.execute_reply": "2023-02-11T14:42:21.423082Z"
    },
    "papermill": {
     "duration": 0.28686,
     "end_time": "2023-02-11T14:42:21.426983",
     "exception": false,
     "start_time": "2023-02-11T14:42:21.140123",
     "status": "completed"
    },
    "tags": []
   },
   "outputs": [
    {
     "data": {
      "image/png": "[encoded data removed]",
      "text/plain": [
       "<Figure size 432x288 with 1 Axes>"
      ]
     },
     "metadata": {
      "needs_background": "light"
     },
     "output_type": "display_data"
    }
   ],
   "source": [
    "plt.scatter(setosa['petal_length'],setosa['petal_width'],color='blue',label=\"setosa\")\n",
    "plt.scatter(versicolor['petal_length'],versicolor['petal_width'],color='green',label=\"versicolor\")\n",
    "plt.scatter(virginica['petal_length'],virginica['petal_width'],color='orange',label=\"virginica\")\n",
    "plt.xlabel(\"petal_length\")\n",
    "plt.ylabel(\"petal_width\")\n",
    "plt.legend()\n",
    "plt.show()"
   ]
  },
  {
   "cell_type": "markdown",
   "id": "3507f2fd",
   "metadata": {
    "papermill": {
     "duration": 0.026757,
     "end_time": "2023-02-11T14:42:21.481147",
     "exception": false,
     "start_time": "2023-02-11T14:42:21.454390",
     "status": "completed"
    },
    "tags": []
   },
   "source": [
    "## Bar Graph between Petal Length and Petal Width"
   ]
  },
  {
   "cell_type": "code",
   "execution_count": 50,
   "id": "8267d714",
   "metadata": {
    "execution": {
     "iopub.execute_input": "2023-02-11T14:42:21.537634Z",
     "iopub.status.busy": "2023-02-11T14:42:21.537195Z",
     "iopub.status.idle": "2023-02-11T14:42:21.735378Z",
     "shell.execute_reply": "2023-02-11T14:42:21.733867Z"
    },
    "papermill": {
     "duration": 0.229847,
     "end_time": "2023-02-11T14:42:21.738095",
     "exception": false,
     "start_time": "2023-02-11T14:42:21.508248",
     "status": "completed"
    },
    "tags": []
   },
   "outputs": [
    {
     "data": {
      "image/png": "[encoded data removed]",
      "text/plain": [
       "<Figure size 432x288 with 1 Axes>"
      ]
     },
     "metadata": {
      "needs_background": "light"
     },
     "output_type": "display_data"
    }
   ],
   "source": [
    "plt.hist(irisdf[\"petal_length\"])\n",
    "plt.xlabel(\"petal_length\")\n",
    "plt.ylabel(\"petal_width\")\n",
    "plt.show()"
   ]
  },
  {
   "cell_type": "code",
   "execution_count": 51,
   "id": "5cf3c4ba",
   "metadata": {
    "execution": {
     "iopub.execute_input": "2023-02-11T14:42:21.794981Z",
     "iopub.status.busy": "2023-02-11T14:42:21.794582Z",
     "iopub.status.idle": "2023-02-11T14:42:21.803516Z",
     "shell.execute_reply": "2023-02-11T14:42:21.802214Z"
    },
    "papermill": {
     "duration": 0.040122,
     "end_time": "2023-02-11T14:42:21.805914",
     "exception": false,
     "start_time": "2023-02-11T14:42:21.765792",
     "status": "completed"
    },
    "tags": []
   },
   "outputs": [
    {
     "data": {
      "text/plain": [
       "Iris-versicolor    50\n",
       "Iris-virginica     49\n",
       "Iris-setosa        48\n",
       "Name: species, dtype: int64"
      ]
     },
     "execution_count": 51,
     "metadata": {},
     "output_type": "execute_result"
    }
   ],
   "source": [
    "irisdf[\"species\"].value_counts()"
   ]
  },
  {
   "cell_type": "markdown",
   "id": "595642ab",
   "metadata": {
    "papermill": {
     "duration": 0.028149,
     "end_time": "2023-02-11T14:42:21.862311",
     "exception": false,
     "start_time": "2023-02-11T14:42:21.834162",
     "status": "completed"
    },
    "tags": []
   },
   "source": [
    "## Pie chart comparing the number of species in the dataset"
   ]
  },
  {
   "cell_type": "code",
   "execution_count": 52,
   "id": "d2f3376f",
   "metadata": {
    "execution": {
     "iopub.execute_input": "2023-02-11T14:42:21.919670Z",
     "iopub.status.busy": "2023-02-11T14:42:21.919198Z",
     "iopub.status.idle": "2023-02-11T14:42:22.084012Z",
     "shell.execute_reply": "2023-02-11T14:42:22.082667Z"
    },
    "papermill": {
     "duration": 0.197306,
     "end_time": "2023-02-11T14:42:22.087365",
     "exception": false,
     "start_time": "2023-02-11T14:42:21.890059",
     "status": "completed"
    },
    "tags": []
   },
   "outputs": [
    {
     "data": {
      "image/png": "[encoded data removed]",
      "text/plain": [
       "<Figure size 432x288 with 1 Axes>"
      ]
     },
     "metadata": {},
     "output_type": "display_data"
    }
   ],
   "source": [
    "plt.pie(irisdf[\"species\"].value_counts(),labels=irisdf[\"species\"].value_counts(),autopct=\"%0.0f\")\n",
    "plt.legend()\n",
    "plt.show()"
   ]
  },
  {
   "cell_type": "markdown",
   "id": "c72161ae",
   "metadata": {
    "papermill": {
     "duration": 0.031687,
     "end_time": "2023-02-11T14:42:22.165774",
     "exception": false,
     "start_time": "2023-02-11T14:42:22.134087",
     "status": "completed"
    },
    "tags": []
   },
   "source": [
    "# Data Modelling\n",
    "#### (Using Day 3 Dataset)"
   ]
  },
  {
   "cell_type": "code",
   "execution_count": 53,
   "id": "c6a45e90",
   "metadata": {
    "execution": {
     "iopub.execute_input": "2023-02-11T14:42:22.224251Z",
     "iopub.status.busy": "2023-02-11T14:42:22.223570Z",
     "iopub.status.idle": "2023-02-11T14:42:23.344831Z",
     "shell.execute_reply": "2023-02-11T14:42:23.343450Z"
    },
    "papermill": {
     "duration": 1.153686,
     "end_time": "2023-02-11T14:42:23.347683",
     "exception": false,
     "start_time": "2023-02-11T14:42:22.193997",
     "status": "completed"
    },
    "tags": []
   },
   "outputs": [],
   "source": [
    "import numpy as np\n",
    "from sklearn.preprocessing import StandardScaler\n",
    "from sklearn.model_selection import train_test_split\n",
    "from sklearn.neighbors import KNeighborsClassifier\n",
    "from sklearn.metrics import accuracy_score\n",
    "from sklearn.metrics import confusion_matrix"
   ]
  },
  {
   "cell_type": "markdown",
   "id": "77fa79ff",
   "metadata": {
    "papermill": {
     "duration": 0.028725,
     "end_time": "2023-02-11T14:42:23.404516",
     "exception": false,
     "start_time": "2023-02-11T14:42:23.375791",
     "status": "completed"
    },
    "tags": []
   },
   "source": [
    "## Operations\n",
    "\n",
    "**1. iloc[row,column]**"
   ]
  },
  {
   "cell_type": "code",
   "execution_count": 54,
   "id": "84e9ef5a",
   "metadata": {
    "execution": {
     "iopub.execute_input": "2023-02-11T14:42:23.464450Z",
     "iopub.status.busy": "2023-02-11T14:42:23.463230Z",
     "iopub.status.idle": "2023-02-11T14:42:23.487583Z",
     "shell.execute_reply": "2023-02-11T14:42:23.486286Z"
    },
    "papermill": {
     "duration": 0.05688,
     "end_time": "2023-02-11T14:42:23.490033",
     "exception": false,
     "start_time": "2023-02-11T14:42:23.433153",
     "status": "completed"
    },
    "tags": []
   },
   "outputs": [
    {
     "data": {
      "text/html": [
       "<div>\n",
       "<style scoped>\n",
       "    .dataframe tbody tr th:only-of-type {\n",
       "        vertical-align: middle;\n",
       "    }\n",
       "\n",
       "    .dataframe tbody tr th {\n",
       "        vertical-align: top;\n",
       "    }\n",
       "\n",
       "    .dataframe thead th {\n",
       "        text-align: right;\n",
       "    }\n",
       "</style>\n",
       "<table border=\"1\" class=\"dataframe\">\n",
       "  <thead>\n",
       "    <tr style=\"text-align: right;\">\n",
       "      <th></th>\n",
       "      <th>sepal_length</th>\n",
       "      <th>sepal_width</th>\n",
       "      <th>petal_length</th>\n",
       "      <th>petal_width</th>\n",
       "    </tr>\n",
       "  </thead>\n",
       "  <tbody>\n",
       "    <tr>\n",
       "      <th>0</th>\n",
       "      <td>5.1</td>\n",
       "      <td>3.5</td>\n",
       "      <td>1.4</td>\n",
       "      <td>0.2</td>\n",
       "    </tr>\n",
       "    <tr>\n",
       "      <th>1</th>\n",
       "      <td>4.9</td>\n",
       "      <td>3.0</td>\n",
       "      <td>1.4</td>\n",
       "      <td>0.2</td>\n",
       "    </tr>\n",
       "    <tr>\n",
       "      <th>2</th>\n",
       "      <td>4.7</td>\n",
       "      <td>3.2</td>\n",
       "      <td>1.3</td>\n",
       "      <td>0.2</td>\n",
       "    </tr>\n",
       "    <tr>\n",
       "      <th>3</th>\n",
       "      <td>4.6</td>\n",
       "      <td>3.1</td>\n",
       "      <td>1.5</td>\n",
       "      <td>0.2</td>\n",
       "    </tr>\n",
       "    <tr>\n",
       "      <th>4</th>\n",
       "      <td>5.0</td>\n",
       "      <td>3.6</td>\n",
       "      <td>1.4</td>\n",
       "      <td>0.2</td>\n",
       "    </tr>\n",
       "  </tbody>\n",
       "</table>\n",
       "</div>"
      ],
      "text/plain": [
       "   sepal_length  sepal_width  petal_length  petal_width\n",
       "0           5.1          3.5           1.4          0.2\n",
       "1           4.9          3.0           1.4          0.2\n",
       "2           4.7          3.2           1.3          0.2\n",
       "3           4.6          3.1           1.5          0.2\n",
       "4           5.0          3.6           1.4          0.2"
      ]
     },
     "execution_count": 54,
     "metadata": {},
     "output_type": "execute_result"
    }
   ],
   "source": [
    "# x=irisdf.iloc[:,1:5]\n",
    "x=irisdf.iloc[:,0:4]\n",
    "x.head()"
   ]
  },
  {
   "cell_type": "code",
   "execution_count": 55,
   "id": "70c56e74",
   "metadata": {
    "execution": {
     "iopub.execute_input": "2023-02-11T14:42:23.552659Z",
     "iopub.status.busy": "2023-02-11T14:42:23.551777Z",
     "iopub.status.idle": "2023-02-11T14:42:23.561686Z",
     "shell.execute_reply": "2023-02-11T14:42:23.560557Z"
    },
    "papermill": {
     "duration": 0.046251,
     "end_time": "2023-02-11T14:42:23.564585",
     "exception": false,
     "start_time": "2023-02-11T14:42:23.518334",
     "status": "completed"
    },
    "tags": []
   },
   "outputs": [
    {
     "data": {
      "text/plain": [
       "0    Iris-setosa\n",
       "1    Iris-setosa\n",
       "2    Iris-setosa\n",
       "3    Iris-setosa\n",
       "4    Iris-setosa\n",
       "Name: species, dtype: object"
      ]
     },
     "execution_count": 55,
     "metadata": {},
     "output_type": "execute_result"
    }
   ],
   "source": [
    "y=irisdf.iloc[:,-1]\n",
    "y.head()"
   ]
  },
  {
   "cell_type": "markdown",
   "id": "d61384f9",
   "metadata": {
    "papermill": {
     "duration": 0.028022,
     "end_time": "2023-02-11T14:42:23.631761",
     "exception": false,
     "start_time": "2023-02-11T14:42:23.603739",
     "status": "completed"
    },
    "tags": []
   },
   "source": [
    "**2. StandardScaler()**"
   ]
  },
  {
   "cell_type": "code",
   "execution_count": 56,
   "id": "007c1ede",
   "metadata": {
    "execution": {
     "iopub.execute_input": "2023-02-11T14:42:23.691483Z",
     "iopub.status.busy": "2023-02-11T14:42:23.690366Z",
     "iopub.status.idle": "2023-02-11T14:42:23.696054Z",
     "shell.execute_reply": "2023-02-11T14:42:23.694963Z"
    },
    "papermill": {
     "duration": 0.038289,
     "end_time": "2023-02-11T14:42:23.698472",
     "exception": false,
     "start_time": "2023-02-11T14:42:23.660183",
     "status": "completed"
    },
    "tags": []
   },
   "outputs": [],
   "source": [
    "scaler=StandardScaler()"
   ]
  },
  {
   "cell_type": "markdown",
   "id": "90c665d0",
   "metadata": {
    "papermill": {
     "duration": 0.028553,
     "end_time": "2023-02-11T14:42:23.756289",
     "exception": false,
     "start_time": "2023-02-11T14:42:23.727736",
     "status": "completed"
    },
    "tags": []
   },
   "source": [
    "**3. fit_transform()**"
   ]
  },
  {
   "cell_type": "code",
   "execution_count": 57,
   "id": "e6ea6901",
   "metadata": {
    "execution": {
     "iopub.execute_input": "2023-02-11T14:42:23.816428Z",
     "iopub.status.busy": "2023-02-11T14:42:23.815455Z",
     "iopub.status.idle": "2023-02-11T14:42:23.828342Z",
     "shell.execute_reply": "2023-02-11T14:42:23.827271Z"
    },
    "papermill": {
     "duration": 0.045767,
     "end_time": "2023-02-11T14:42:23.830811",
     "exception": false,
     "start_time": "2023-02-11T14:42:23.785044",
     "status": "completed"
    },
    "tags": []
   },
   "outputs": [
    {
     "data": {
      "text/plain": [
       "array([[-0.91550949,  1.0199714 , -1.35773692, -1.33570001],\n",
       "       [-1.15755966, -0.12808217, -1.35773692, -1.33570001],\n",
       "       [-1.39960983,  0.33113926, -1.41477817, -1.33570001],\n",
       "       [-1.52063491,  0.10152855, -1.30069567, -1.33570001],\n",
       "       [-1.03653457,  1.24958212, -1.35773692, -1.33570001]])"
      ]
     },
     "execution_count": 57,
     "metadata": {},
     "output_type": "execute_result"
    }
   ],
   "source": [
    "x=scaler.fit_transform(x)\n",
    "x[0:5]"
   ]
  },
  {
   "cell_type": "markdown",
   "id": "abd58ad8",
   "metadata": {
    "papermill": {
     "duration": 0.028423,
     "end_time": "2023-02-11T14:42:23.888988",
     "exception": false,
     "start_time": "2023-02-11T14:42:23.860565",
     "status": "completed"
    },
    "tags": []
   },
   "source": [
    "**4. train_test_split()**"
   ]
  },
  {
   "cell_type": "code",
   "execution_count": 58,
   "id": "1227d4ec",
   "metadata": {
    "execution": {
     "iopub.execute_input": "2023-02-11T14:42:23.948571Z",
     "iopub.status.busy": "2023-02-11T14:42:23.947609Z",
     "iopub.status.idle": "2023-02-11T14:42:23.954330Z",
     "shell.execute_reply": "2023-02-11T14:42:23.953302Z"
    },
    "papermill": {
     "duration": 0.039131,
     "end_time": "2023-02-11T14:42:23.956611",
     "exception": false,
     "start_time": "2023-02-11T14:42:23.917480",
     "status": "completed"
    },
    "tags": []
   },
   "outputs": [],
   "source": [
    "x_train, x_test, y_train, y_test=train_test_split(x,y,test_size=0.2)"
   ]
  },
  {
   "cell_type": "markdown",
   "id": "f2819647",
   "metadata": {
    "papermill": {
     "duration": 0.029044,
     "end_time": "2023-02-11T14:42:24.015229",
     "exception": false,
     "start_time": "2023-02-11T14:42:23.986185",
     "status": "completed"
    },
    "tags": []
   },
   "source": [
    "**Note: test_size=0.2**\n",
    "\n",
    "**Only 80% of dataset will be used to train the model.**"
   ]
  },
  {
   "cell_type": "markdown",
   "id": "c8871e96",
   "metadata": {
    "papermill": {
     "duration": 0.028246,
     "end_time": "2023-02-11T14:42:24.071986",
     "exception": false,
     "start_time": "2023-02-11T14:42:24.043740",
     "status": "completed"
    },
    "tags": []
   },
   "source": [
    "**5. KNeighborsClassifier**"
   ]
  },
  {
   "cell_type": "code",
   "execution_count": 59,
   "id": "fc53b067",
   "metadata": {
    "execution": {
     "iopub.execute_input": "2023-02-11T14:42:24.134272Z",
     "iopub.status.busy": "2023-02-11T14:42:24.133435Z",
     "iopub.status.idle": "2023-02-11T14:42:24.143597Z",
     "shell.execute_reply": "2023-02-11T14:42:24.142379Z"
    },
    "papermill": {
     "duration": 0.043447,
     "end_time": "2023-02-11T14:42:24.146337",
     "exception": false,
     "start_time": "2023-02-11T14:42:24.102890",
     "status": "completed"
    },
    "tags": []
   },
   "outputs": [
    {
     "data": {
      "text/plain": [
       "KNeighborsClassifier(n_neighbors=9)"
      ]
     },
     "execution_count": 59,
     "metadata": {},
     "output_type": "execute_result"
    }
   ],
   "source": [
    "node1=KNeighborsClassifier(n_neighbors=9)\n",
    "node1.fit(x_train,y_train)"
   ]
  },
  {
   "cell_type": "markdown",
   "id": "a587e281",
   "metadata": {
    "papermill": {
     "duration": 0.028332,
     "end_time": "2023-02-11T14:42:24.204034",
     "exception": false,
     "start_time": "2023-02-11T14:42:24.175702",
     "status": "completed"
    },
    "tags": []
   },
   "source": [
    "**6. predict()**"
   ]
  },
  {
   "cell_type": "code",
   "execution_count": 60,
   "id": "28884f57",
   "metadata": {
    "execution": {
     "iopub.execute_input": "2023-02-11T14:42:24.263390Z",
     "iopub.status.busy": "2023-02-11T14:42:24.262293Z",
     "iopub.status.idle": "2023-02-11T14:42:24.272113Z",
     "shell.execute_reply": "2023-02-11T14:42:24.270850Z"
    },
    "papermill": {
     "duration": 0.042115,
     "end_time": "2023-02-11T14:42:24.274597",
     "exception": false,
     "start_time": "2023-02-11T14:42:24.232482",
     "status": "completed"
    },
    "tags": []
   },
   "outputs": [
    {
     "data": {
      "text/plain": [
       "array(['Iris-versicolor', 'Iris-versicolor', 'Iris-versicolor',\n",
       "       'Iris-versicolor', 'Iris-virginica', 'Iris-versicolor',\n",
       "       'Iris-virginica', 'Iris-versicolor', 'Iris-versicolor',\n",
       "       'Iris-setosa', 'Iris-setosa', 'Iris-virginica', 'Iris-versicolor',\n",
       "       'Iris-virginica', 'Iris-virginica', 'Iris-virginica',\n",
       "       'Iris-versicolor', 'Iris-versicolor', 'Iris-virginica',\n",
       "       'Iris-versicolor', 'Iris-setosa', 'Iris-virginica',\n",
       "       'Iris-virginica', 'Iris-setosa', 'Iris-versicolor',\n",
       "       'Iris-versicolor', 'Iris-setosa', 'Iris-setosa', 'Iris-setosa',\n",
       "       'Iris-virginica'], dtype=object)"
      ]
     },
     "execution_count": 60,
     "metadata": {},
     "output_type": "execute_result"
    }
   ],
   "source": [
    "pred=node1.predict(x_test)\n",
    "pred[0:]"
   ]
  },
  {
   "cell_type": "code",
   "execution_count": 61,
   "id": "a1505ac6",
   "metadata": {
    "execution": {
     "iopub.execute_input": "2023-02-11T14:42:24.334605Z",
     "iopub.status.busy": "2023-02-11T14:42:24.334142Z",
     "iopub.status.idle": "2023-02-11T14:42:24.341926Z",
     "shell.execute_reply": "2023-02-11T14:42:24.340903Z"
    },
    "papermill": {
     "duration": 0.040564,
     "end_time": "2023-02-11T14:42:24.344243",
     "exception": false,
     "start_time": "2023-02-11T14:42:24.303679",
     "status": "completed"
    },
    "tags": []
   },
   "outputs": [
    {
     "data": {
      "text/plain": [
       "133     Iris-virginica\n",
       "52     Iris-versicolor\n",
       "85     Iris-versicolor\n",
       "81     Iris-versicolor\n",
       "110     Iris-virginica\n",
       "Name: species, dtype: object"
      ]
     },
     "execution_count": 61,
     "metadata": {},
     "output_type": "execute_result"
    }
   ],
   "source": [
    "y_test[0:5]"
   ]
  },
  {
   "cell_type": "markdown",
   "id": "463309ee",
   "metadata": {
    "papermill": {
     "duration": 0.028736,
     "end_time": "2023-02-11T14:42:24.402334",
     "exception": false,
     "start_time": "2023-02-11T14:42:24.373598",
     "status": "completed"
    },
    "tags": []
   },
   "source": [
    "**7. accuracy_score()**"
   ]
  },
  {
   "cell_type": "code",
   "execution_count": 62,
   "id": "0431c951",
   "metadata": {
    "execution": {
     "iopub.execute_input": "2023-02-11T14:42:24.462076Z",
     "iopub.status.busy": "2023-02-11T14:42:24.461677Z",
     "iopub.status.idle": "2023-02-11T14:42:24.469325Z",
     "shell.execute_reply": "2023-02-11T14:42:24.468338Z"
    },
    "papermill": {
     "duration": 0.040364,
     "end_time": "2023-02-11T14:42:24.471449",
     "exception": false,
     "start_time": "2023-02-11T14:42:24.431085",
     "status": "completed"
    },
    "tags": []
   },
   "outputs": [
    {
     "data": {
      "text/plain": [
       "0.9333333333333333"
      ]
     },
     "execution_count": 62,
     "metadata": {},
     "output_type": "execute_result"
    }
   ],
   "source": [
    "accuracy = accuracy_score(y_test,pred)\n",
    "accuracy"
   ]
  },
  {
   "cell_type": "markdown",
   "id": "278dede8",
   "metadata": {
    "papermill": {
     "duration": 0.028653,
     "end_time": "2023-02-11T14:42:24.529220",
     "exception": false,
     "start_time": "2023-02-11T14:42:24.500567",
     "status": "completed"
    },
    "tags": []
   },
   "source": [
    "**8. confusion_matrix()**"
   ]
  },
  {
   "cell_type": "code",
   "execution_count": 63,
   "id": "71e4747d",
   "metadata": {
    "execution": {
     "iopub.execute_input": "2023-02-11T14:42:24.588850Z",
     "iopub.status.busy": "2023-02-11T14:42:24.588401Z",
     "iopub.status.idle": "2023-02-11T14:42:24.597191Z",
     "shell.execute_reply": "2023-02-11T14:42:24.596275Z"
    },
    "papermill": {
     "duration": 0.041328,
     "end_time": "2023-02-11T14:42:24.599218",
     "exception": false,
     "start_time": "2023-02-11T14:42:24.557890",
     "status": "completed"
    },
    "tags": []
   },
   "outputs": [
    {
     "data": {
      "text/plain": [
       "array([[ 7,  0,  0],\n",
       "       [ 0, 11,  0],\n",
       "       [ 0,  2, 10]])"
      ]
     },
     "execution_count": 63,
     "metadata": {},
     "output_type": "execute_result"
    }
   ],
   "source": [
    "cm=confusion_matrix(y_test,pred)\n",
    "cm"
   ]
  },
  {
   "cell_type": "markdown",
   "id": "abe681d1",
   "metadata": {
    "papermill": {
     "duration": 0.028408,
     "end_time": "2023-02-11T14:42:24.656536",
     "exception": false,
     "start_time": "2023-02-11T14:42:24.628128",
     "status": "completed"
    },
    "tags": []
   },
   "source": [
    "**9. DataFrame(data,index) and transpose()**"
   ]
  },
  {
   "cell_type": "code",
   "execution_count": 64,
   "id": "5a75b419",
   "metadata": {
    "execution": {
     "iopub.execute_input": "2023-02-11T14:42:24.716384Z",
     "iopub.status.busy": "2023-02-11T14:42:24.715631Z",
     "iopub.status.idle": "2023-02-11T14:42:24.730539Z",
     "shell.execute_reply": "2023-02-11T14:42:24.729129Z"
    },
    "papermill": {
     "duration": 0.048244,
     "end_time": "2023-02-11T14:42:24.733768",
     "exception": false,
     "start_time": "2023-02-11T14:42:24.685524",
     "status": "completed"
    },
    "tags": []
   },
   "outputs": [
    {
     "data": {
      "text/html": [
       "<div>\n",
       "<style scoped>\n",
       "    .dataframe tbody tr th:only-of-type {\n",
       "        vertical-align: middle;\n",
       "    }\n",
       "\n",
       "    .dataframe tbody tr th {\n",
       "        vertical-align: top;\n",
       "    }\n",
       "\n",
       "    .dataframe thead th {\n",
       "        text-align: right;\n",
       "    }\n",
       "</style>\n",
       "<table border=\"1\" class=\"dataframe\">\n",
       "  <thead>\n",
       "    <tr style=\"text-align: right;\">\n",
       "      <th></th>\n",
       "      <th>y_test</th>\n",
       "      <th>pred</th>\n",
       "    </tr>\n",
       "  </thead>\n",
       "  <tbody>\n",
       "    <tr>\n",
       "      <th>0</th>\n",
       "      <td>Iris-virginica</td>\n",
       "      <td>Iris-versicolor</td>\n",
       "    </tr>\n",
       "    <tr>\n",
       "      <th>1</th>\n",
       "      <td>Iris-versicolor</td>\n",
       "      <td>Iris-versicolor</td>\n",
       "    </tr>\n",
       "    <tr>\n",
       "      <th>2</th>\n",
       "      <td>Iris-versicolor</td>\n",
       "      <td>Iris-versicolor</td>\n",
       "    </tr>\n",
       "    <tr>\n",
       "      <th>3</th>\n",
       "      <td>Iris-versicolor</td>\n",
       "      <td>Iris-versicolor</td>\n",
       "    </tr>\n",
       "    <tr>\n",
       "      <th>4</th>\n",
       "      <td>Iris-virginica</td>\n",
       "      <td>Iris-virginica</td>\n",
       "    </tr>\n",
       "    <tr>\n",
       "      <th>5</th>\n",
       "      <td>Iris-versicolor</td>\n",
       "      <td>Iris-versicolor</td>\n",
       "    </tr>\n",
       "    <tr>\n",
       "      <th>6</th>\n",
       "      <td>Iris-virginica</td>\n",
       "      <td>Iris-virginica</td>\n",
       "    </tr>\n",
       "    <tr>\n",
       "      <th>7</th>\n",
       "      <td>Iris-versicolor</td>\n",
       "      <td>Iris-versicolor</td>\n",
       "    </tr>\n",
       "    <tr>\n",
       "      <th>8</th>\n",
       "      <td>Iris-versicolor</td>\n",
       "      <td>Iris-versicolor</td>\n",
       "    </tr>\n",
       "    <tr>\n",
       "      <th>9</th>\n",
       "      <td>Iris-setosa</td>\n",
       "      <td>Iris-setosa</td>\n",
       "    </tr>\n",
       "    <tr>\n",
       "      <th>10</th>\n",
       "      <td>Iris-setosa</td>\n",
       "      <td>Iris-setosa</td>\n",
       "    </tr>\n",
       "    <tr>\n",
       "      <th>11</th>\n",
       "      <td>Iris-virginica</td>\n",
       "      <td>Iris-virginica</td>\n",
       "    </tr>\n",
       "    <tr>\n",
       "      <th>12</th>\n",
       "      <td>Iris-versicolor</td>\n",
       "      <td>Iris-versicolor</td>\n",
       "    </tr>\n",
       "    <tr>\n",
       "      <th>13</th>\n",
       "      <td>Iris-virginica</td>\n",
       "      <td>Iris-virginica</td>\n",
       "    </tr>\n",
       "    <tr>\n",
       "      <th>14</th>\n",
       "      <td>Iris-virginica</td>\n",
       "      <td>Iris-virginica</td>\n",
       "    </tr>\n",
       "    <tr>\n",
       "      <th>15</th>\n",
       "      <td>Iris-virginica</td>\n",
       "      <td>Iris-virginica</td>\n",
       "    </tr>\n",
       "    <tr>\n",
       "      <th>16</th>\n",
       "      <td>Iris-versicolor</td>\n",
       "      <td>Iris-versicolor</td>\n",
       "    </tr>\n",
       "    <tr>\n",
       "      <th>17</th>\n",
       "      <td>Iris-versicolor</td>\n",
       "      <td>Iris-versicolor</td>\n",
       "    </tr>\n",
       "    <tr>\n",
       "      <th>18</th>\n",
       "      <td>Iris-virginica</td>\n",
       "      <td>Iris-virginica</td>\n",
       "    </tr>\n",
       "    <tr>\n",
       "      <th>19</th>\n",
       "      <td>Iris-virginica</td>\n",
       "      <td>Iris-versicolor</td>\n",
       "    </tr>\n",
       "    <tr>\n",
       "      <th>20</th>\n",
       "      <td>Iris-setosa</td>\n",
       "      <td>Iris-setosa</td>\n",
       "    </tr>\n",
       "    <tr>\n",
       "      <th>21</th>\n",
       "      <td>Iris-virginica</td>\n",
       "      <td>Iris-virginica</td>\n",
       "    </tr>\n",
       "    <tr>\n",
       "      <th>22</th>\n",
       "      <td>Iris-virginica</td>\n",
       "      <td>Iris-virginica</td>\n",
       "    </tr>\n",
       "    <tr>\n",
       "      <th>23</th>\n",
       "      <td>Iris-setosa</td>\n",
       "      <td>Iris-setosa</td>\n",
       "    </tr>\n",
       "    <tr>\n",
       "      <th>24</th>\n",
       "      <td>Iris-versicolor</td>\n",
       "      <td>Iris-versicolor</td>\n",
       "    </tr>\n",
       "    <tr>\n",
       "      <th>25</th>\n",
       "      <td>Iris-versicolor</td>\n",
       "      <td>Iris-versicolor</td>\n",
       "    </tr>\n",
       "    <tr>\n",
       "      <th>26</th>\n",
       "      <td>Iris-setosa</td>\n",
       "      <td>Iris-setosa</td>\n",
       "    </tr>\n",
       "    <tr>\n",
       "      <th>27</th>\n",
       "      <td>Iris-setosa</td>\n",
       "      <td>Iris-setosa</td>\n",
       "    </tr>\n",
       "    <tr>\n",
       "      <th>28</th>\n",
       "      <td>Iris-setosa</td>\n",
       "      <td>Iris-setosa</td>\n",
       "    </tr>\n",
       "    <tr>\n",
       "      <th>29</th>\n",
       "      <td>Iris-virginica</td>\n",
       "      <td>Iris-virginica</td>\n",
       "    </tr>\n",
       "  </tbody>\n",
       "</table>\n",
       "</div>"
      ],
      "text/plain": [
       "             y_test             pred\n",
       "0    Iris-virginica  Iris-versicolor\n",
       "1   Iris-versicolor  Iris-versicolor\n",
       "2   Iris-versicolor  Iris-versicolor\n",
       "3   Iris-versicolor  Iris-versicolor\n",
       "4    Iris-virginica   Iris-virginica\n",
       "5   Iris-versicolor  Iris-versicolor\n",
       "6    Iris-virginica   Iris-virginica\n",
       "7   Iris-versicolor  Iris-versicolor\n",
       "8   Iris-versicolor  Iris-versicolor\n",
       "9       Iris-setosa      Iris-setosa\n",
       "10      Iris-setosa      Iris-setosa\n",
       "11   Iris-virginica   Iris-virginica\n",
       "12  Iris-versicolor  Iris-versicolor\n",
       "13   Iris-virginica   Iris-virginica\n",
       "14   Iris-virginica   Iris-virginica\n",
       "15   Iris-virginica   Iris-virginica\n",
       "16  Iris-versicolor  Iris-versicolor\n",
       "17  Iris-versicolor  Iris-versicolor\n",
       "18   Iris-virginica   Iris-virginica\n",
       "19   Iris-virginica  Iris-versicolor\n",
       "20      Iris-setosa      Iris-setosa\n",
       "21   Iris-virginica   Iris-virginica\n",
       "22   Iris-virginica   Iris-virginica\n",
       "23      Iris-setosa      Iris-setosa\n",
       "24  Iris-versicolor  Iris-versicolor\n",
       "25  Iris-versicolor  Iris-versicolor\n",
       "26      Iris-setosa      Iris-setosa\n",
       "27      Iris-setosa      Iris-setosa\n",
       "28      Iris-setosa      Iris-setosa\n",
       "29   Iris-virginica   Iris-virginica"
      ]
     },
     "execution_count": 64,
     "metadata": {},
     "output_type": "execute_result"
    }
   ],
   "source": [
    "result=pd.DataFrame(data=[y_test.values,pred],index=[\"y_test\",\"pred\"])\n",
    "result.transpose()"
   ]
  },
  {
   "cell_type": "markdown",
   "id": "860da430",
   "metadata": {
    "papermill": {
     "duration": 0.02936,
     "end_time": "2023-02-11T14:42:24.792541",
     "exception": false,
     "start_time": "2023-02-11T14:42:24.763181",
     "status": "completed"
    },
    "tags": []
   },
   "source": [
    "## Representing Predictions from the model \"node1\" using correct_sum"
   ]
  },
  {
   "cell_type": "code",
   "execution_count": 65,
   "id": "2921db0f",
   "metadata": {
    "execution": {
     "iopub.execute_input": "2023-02-11T14:42:24.855272Z",
     "iopub.status.busy": "2023-02-11T14:42:24.854789Z",
     "iopub.status.idle": "2023-02-11T14:42:24.912968Z",
     "shell.execute_reply": "2023-02-11T14:42:24.911879Z"
    },
    "papermill": {
     "duration": 0.092402,
     "end_time": "2023-02-11T14:42:24.915395",
     "exception": false,
     "start_time": "2023-02-11T14:42:24.822993",
     "status": "completed"
    },
    "tags": []
   },
   "outputs": [
    {
     "data": {
      "text/plain": [
       "[26, 26, 26, 26, 26, 26, 26, 26, 26, 26, 26, 26, 26, 26, 26, 26, 26, 26, 26]"
      ]
     },
     "execution_count": 65,
     "metadata": {},
     "output_type": "execute_result"
    }
   ],
   "source": [
    "correct_sum=[]\n",
    "for i in range(1,20):\n",
    "    node1=KNeighborsClassifier(n_neighbors=1)\n",
    "    node1.fit(x_train,y_train)\n",
    "    pred=node1.predict(x_test)\n",
    "    correct=np.sum(pred == y_test)\n",
    "    correct_sum.append(correct)\n",
    "correct_sum"
   ]
  },
  {
   "cell_type": "code",
   "execution_count": 66,
   "id": "56cbfaff",
   "metadata": {
    "execution": {
     "iopub.execute_input": "2023-02-11T14:42:24.976108Z",
     "iopub.status.busy": "2023-02-11T14:42:24.975656Z",
     "iopub.status.idle": "2023-02-11T14:42:24.991048Z",
     "shell.execute_reply": "2023-02-11T14:42:24.990176Z"
    },
    "papermill": {
     "duration": 0.048649,
     "end_time": "2023-02-11T14:42:24.993343",
     "exception": false,
     "start_time": "2023-02-11T14:42:24.944694",
     "status": "completed"
    },
    "tags": []
   },
   "outputs": [
    {
     "data": {
      "text/html": [
       "<div>\n",
       "<style scoped>\n",
       "    .dataframe tbody tr th:only-of-type {\n",
       "        vertical-align: middle;\n",
       "    }\n",
       "\n",
       "    .dataframe tbody tr th {\n",
       "        vertical-align: top;\n",
       "    }\n",
       "\n",
       "    .dataframe thead th {\n",
       "        text-align: right;\n",
       "    }\n",
       "</style>\n",
       "<table border=\"1\" class=\"dataframe\">\n",
       "  <thead>\n",
       "    <tr style=\"text-align: right;\">\n",
       "      <th></th>\n",
       "      <th>1</th>\n",
       "      <th>2</th>\n",
       "      <th>3</th>\n",
       "      <th>4</th>\n",
       "      <th>5</th>\n",
       "      <th>6</th>\n",
       "      <th>7</th>\n",
       "      <th>8</th>\n",
       "      <th>9</th>\n",
       "      <th>10</th>\n",
       "      <th>11</th>\n",
       "      <th>12</th>\n",
       "      <th>13</th>\n",
       "      <th>14</th>\n",
       "      <th>15</th>\n",
       "      <th>16</th>\n",
       "      <th>17</th>\n",
       "      <th>18</th>\n",
       "      <th>19</th>\n",
       "    </tr>\n",
       "  </thead>\n",
       "  <tbody>\n",
       "    <tr>\n",
       "      <th>0</th>\n",
       "      <td>26</td>\n",
       "      <td>26</td>\n",
       "      <td>26</td>\n",
       "      <td>26</td>\n",
       "      <td>26</td>\n",
       "      <td>26</td>\n",
       "      <td>26</td>\n",
       "      <td>26</td>\n",
       "      <td>26</td>\n",
       "      <td>26</td>\n",
       "      <td>26</td>\n",
       "      <td>26</td>\n",
       "      <td>26</td>\n",
       "      <td>26</td>\n",
       "      <td>26</td>\n",
       "      <td>26</td>\n",
       "      <td>26</td>\n",
       "      <td>26</td>\n",
       "      <td>26</td>\n",
       "    </tr>\n",
       "  </tbody>\n",
       "</table>\n",
       "</div>"
      ],
      "text/plain": [
       "   1   2   3   4   5   6   7   8   9   10  11  12  13  14  15  16  17  18  19\n",
       "0  26  26  26  26  26  26  26  26  26  26  26  26  26  26  26  26  26  26  26"
      ]
     },
     "execution_count": 66,
     "metadata": {},
     "output_type": "execute_result"
    }
   ],
   "source": [
    "result=pd.DataFrame(data=correct_sum)\n",
    "result.index=result.index+1\n",
    "result.T"
   ]
  }
 ],
 "metadata": {
  "kernelspec": {
   "display_name": "Python 3",
   "language": "python",
   "name": "python3"
  },
  "language_info": {
   "codemirror_mode": {
    "name": "ipython",
    "version": 3
   },
   "file_extension": ".py",
   "mimetype": "text/x-python",
   "name": "python",
   "nbconvert_exporter": "python",
   "pygments_lexer": "ipython3",
   "version": "3.7.12"
  },
  "papermill": {
   "default_parameters": {},
   "duration": 17.715022,
   "end_time": "2023-02-11T14:42:25.845290",
   "environment_variables": {},
   "exception": null,
   "input_path": "__notebook__.ipynb",
   "output_path": "__notebook__.ipynb",
   "parameters": {},
   "start_time": "2023-02-11T14:42:08.130268",
   "version": "2.3.4"
  }
 },
 "nbformat": 4,
 "nbformat_minor": 5
}
